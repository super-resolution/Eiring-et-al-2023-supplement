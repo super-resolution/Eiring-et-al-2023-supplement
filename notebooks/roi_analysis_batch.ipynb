{
 "cells": [
  {
   "cell_type": "markdown",
   "metadata": {},
   "source": [
    "# Roi analysis"
   ]
  },
  {
   "cell_type": "markdown",
   "metadata": {},
   "source": [
    "15.12.2022 Sören Doose"
   ]
  },
  {
   "cell_type": "markdown",
   "metadata": {},
   "source": [
    "## Initial setup"
   ]
  },
  {
   "cell_type": "code",
   "execution_count": null,
   "metadata": {},
   "outputs": [],
   "source": [
    "import sys\n",
    "from pathlib import Path\n",
    "import re\n",
    "import pickle\n",
    "import logging\n",
    "\n",
    "import numpy as np\n",
    "import pandas as pd\n",
    "import matplotlib.pyplot as plt\n",
    "from scipy import stats\n",
    "from tqdm.notebook import tqdm\n",
    "import plotly.express as px\n",
    "from plotly.subplots import make_subplots\n",
    "import plotly.graph_objects as go\n",
    "\n",
    "import locan as lc"
   ]
  },
  {
   "cell_type": "code",
   "execution_count": null,
   "metadata": {},
   "outputs": [],
   "source": [
    "lc.show_versions(dependencies=False)"
   ]
  },
  {
   "cell_type": "code",
   "execution_count": null,
   "metadata": {},
   "outputs": [],
   "source": [
    "# logging.basicConfig(stream=sys.stdout, level=logging.INFO, format='%(asctime)s - %(name)s - %(levelname)s - %(message)s')\n",
    "logging.basicConfig(stream=sys.stdout, level=logging.INFO)\n",
    "logger = logging.getLogger()"
   ]
  },
  {
   "cell_type": "markdown",
   "metadata": {},
   "source": [
    "## File list"
   ]
  },
  {
   "cell_type": "markdown",
   "metadata": {},
   "source": [
    "The dataset should have been corrected for drift and chromatic abberation."
   ]
  },
  {
   "cell_type": "markdown",
   "metadata": {},
   "source": [
    "Set the directory in which a set of localization files is found."
   ]
  },
  {
   "cell_type": "code",
   "execution_count": null,
   "metadata": {},
   "outputs": [],
   "source": [
    "directory = Path('.') / '../data'\n",
    "assert directory.exists()"
   ]
  },
  {
   "cell_type": "code",
   "execution_count": null,
   "metadata": {
    "tags": []
   },
   "outputs": [],
   "source": [
    "files = list(directory.glob('**/*.yaml'))\n",
    "print(f'Number of files: {len(files)}')\n",
    "for i, file in enumerate(files):\n",
    "    print(i,\":\", file);"
   ]
  },
  {
   "cell_type": "markdown",
   "metadata": {},
   "source": [
    "## Set up the pipeline"
   ]
  },
  {
   "cell_type": "code",
   "execution_count": null,
   "metadata": {},
   "outputs": [],
   "source": [
    "def computation(self, file):\n",
    "    \"\"\"\n",
    "    Analysis procedure on a LocData object specified by file.\n",
    "    \n",
    "    Parameters\n",
    "    ----------\n",
    "    self : Pipeline\n",
    "        Pipeline object that collects results of the analysis procedure.\n",
    "    file : str\n",
    "        File path for roi-file.\n",
    "        \n",
    "    Returns\n",
    "    -------\n",
    "    Pipeline\n",
    "        The Pipeline object specified by `self`.\n",
    "    \"\"\"\n",
    "    # Prologue\n",
    "    self.file_indicator = Path(file) #.stem\n",
    "    \n",
    "    # Prepare metadata\n",
    "    metadata_files = list(directory.glob('**/*.toml'))\n",
    "    metadata_file = lc.find_pattern_upstream(sub_directory=file, pattern=\"metadata.toml\", directory=\"../data\")\n",
    "    metadata = lc.load_metadata_from_toml(metadata_file)['metadata']\n",
    "    \n",
    "    # Load locdata\n",
    "    logger.debug(f'Loading')\n",
    "    roi = lc.Roi.from_yaml(path=file)\n",
    "    roi.reference.file.path = str(Path(file)\n",
    "                              .relative_to(Path('.'))\n",
    "                              .with_name(Path(roi.reference.file.path).name)\n",
    "                             )\n",
    "    locdata = roi.locdata()\n",
    "    locdata.meta.MergeFrom(metadata)\n",
    "    \n",
    "    # Prerequisites\n",
    "    if not len(locdata)>1:\n",
    "        logger.info(f'Not enough data in file: {file}')\n",
    "        return None\n",
    "    \n",
    "    # Select\n",
    "    condition = '0 < frame < 15_000 and ' \\\n",
    "                '8000 < intensity'\n",
    "    locdata = lc.select_by_condition(locdata, condition=condition)\n",
    "    locdata.reduce()\n",
    "    \n",
    "    # Update convex hull and alpha shapes\n",
    "    logger.debug(f'convex_hull')\n",
    "    locdata.convex_hull\n",
    "    \n",
    "    locdata.properties['frame_max'] = locdata.data.frame.max()\n",
    "    locdata.properties['intensity_min'] = locdata.data.intensity.min()\n",
    "    locdata.properties['intensity_mean'] = locdata.data.intensity.mean()\n",
    "    locdata.properties['local_background'] = locdata.data.local_background.mean()\n",
    "    \n",
    "    logger.debug(f'LocalizationPropertyCorrelations')\n",
    "    lpcorr = lc.LocalizationPropertyCorrelations(loc_properties=['intensity', 'local_background']).compute(locdata)\n",
    "    locdata.properties['correlation_intensity_local_background'] = lpcorr.results.intensity.loc['local_background']\n",
    "    \n",
    "    logger.debug(f'LocalizationsPerFrame')\n",
    "    lpf = lc.LocalizationsPerFrame(norm=locdata.region.region_measure).compute(locdata)\n",
    "    locdata.properties['loc_density_per_frame_min'] = lpf.results.time_series.min()\n",
    "    locdata.properties['loc_density_per_frame_max'] = lpf.results.time_series.max()\n",
    "    locdata.properties['loc_density_per_frame_mean'] = lpf.results.time_series.mean()\n",
    "\n",
    "    self.locdata_properties = locdata.properties\n",
    "    \n",
    "    logger.debug(f'Computation completed for: {file}')\n",
    "    \n",
    "    return self"
   ]
  },
  {
   "cell_type": "code",
   "execution_count": null,
   "metadata": {},
   "outputs": [],
   "source": [
    "def save_pickled_pipe(counter: int, pipe: lc.Pipeline, pickle_directory) -> None:\n",
    "    file_path = Path(pickle_directory) / f'Roi_pipelines_{counter:03}.pickle'\n",
    "    # inject computation to be pickleable\n",
    "    pipe.computation = computation\n",
    "    pipe.parameter['computation'] = computation\n",
    "    with open(file_path, 'wb') as file:\n",
    "        pickle.dump(pipe, file, pickle.HIGHEST_PROTOCOL)"
   ]
  },
  {
   "cell_type": "markdown",
   "metadata": {},
   "source": [
    "## Run pipeline"
   ]
  },
  {
   "cell_type": "code",
   "execution_count": null,
   "metadata": {},
   "outputs": [],
   "source": [
    "logger.setLevel(logging.INFO)  # alternative logging.WARNING"
   ]
  },
  {
   "cell_type": "raw",
   "metadata": {},
   "source": [
    "pickle_directory = Path('.') / '../pickled_results'"
   ]
  },
  {
   "cell_type": "code",
   "execution_count": null,
   "metadata": {
    "tags": []
   },
   "outputs": [],
   "source": [
    "%%time\n",
    "def worker(i, file):\n",
    "    logging.basicConfig(level=logging.INFO)\n",
    "    logger.info(f'Processing {i} : {file}')\n",
    "    try:\n",
    "        pipe = lc.Pipeline(computation=computation, file=file).compute()\n",
    "        # save_pickled_pipe(counter=i, pipe=pipe, pickle_directory=pickle_directory)\n",
    "        return pipe\n",
    "    except Exception as e:\n",
    "        raise(e)\n",
    "        logger.warning(f'Error in {file}')\n",
    "        return None\n",
    "\n",
    "pipes = [worker(i, file) for i, file in tqdm(enumerate(files[0:1]), desc='Processed files:')]\n",
    "print(f'Number of pipes: {len(pipes)}')"
   ]
  },
  {
   "cell_type": "markdown",
   "metadata": {},
   "source": [
    "### Multiprocessing with ray"
   ]
  },
  {
   "cell_type": "raw",
   "metadata": {},
   "source": [
    "ray.shutdown()"
   ]
  },
  {
   "cell_type": "raw",
   "metadata": {},
   "source": [
    "import ray\n",
    "\n",
    "ray.init()\n",
    "# ray.init(num_cpus = 4)"
   ]
  },
  {
   "cell_type": "raw",
   "metadata": {
    "jupyter": {
     "outputs_hidden": true
    },
    "tags": []
   },
   "source": [
    "%%time\n",
    "@ray.remote\n",
    "def worker(i, file):\n",
    "    logging.basicConfig(level=logging.INFO)\n",
    "    logger.info(f'Processing {i} : {file}')\n",
    "    try:\n",
    "        pipe = lc.Pipeline(computation=computation, file=file).compute()\n",
    "        logger.info(f'Finished computation {i}.')\n",
    "        return pipe\n",
    "    except Exception as e:\n",
    "        logger.warning(f'Error in {file}: \\n {e}')\n",
    "        raise  # comment out this line if you want to continue processing files after error.\n",
    "        return None\n",
    "\n",
    "futures = [worker.remote(i, file) for i, file in enumerate(files)]\n",
    "pipes = ray.get(futures)\n",
    "print(f'Number of pipes: {len(pipes)}')"
   ]
  },
  {
   "cell_type": "markdown",
   "metadata": {},
   "source": [
    "### Remove None from pipes"
   ]
  },
  {
   "cell_type": "code",
   "execution_count": null,
   "metadata": {},
   "outputs": [],
   "source": [
    "print(f'Number of pipes: {len(pipes)}')\n",
    "pipes = [pipe for pipe in pipes if pipe]\n",
    "print(f'Number of pipes that are not None: {len(pipes)}')"
   ]
  },
  {
   "cell_type": "markdown",
   "metadata": {},
   "source": [
    "### Pipeline attributes"
   ]
  },
  {
   "cell_type": "code",
   "execution_count": null,
   "metadata": {},
   "outputs": [],
   "source": [
    "[attr for attr in dir(pipes[0]) if not attr.startswith('__') and not attr.endswith('__')]"
   ]
  },
  {
   "cell_type": "markdown",
   "metadata": {},
   "source": [
    "## Save pickled pipes"
   ]
  },
  {
   "cell_type": "markdown",
   "metadata": {},
   "source": [
    "Save pickled pipes if not done during computation pipe-by-pipe."
   ]
  },
  {
   "cell_type": "raw",
   "metadata": {},
   "source": [
    "for i, pipe in enumerate(pipes):\n",
    "    save_pickled_pipe(counter=i, pipe=pipe, pickle_directory=pickle_directory)"
   ]
  },
  {
   "cell_type": "markdown",
   "metadata": {},
   "source": [
    "## Load pickled pipes"
   ]
  },
  {
   "cell_type": "raw",
   "metadata": {},
   "source": [
    "pickle_files = list(pickle_directory.glob('Roi_pipelines_*.pickle'))\n",
    "assert pickle_files"
   ]
  },
  {
   "cell_type": "raw",
   "metadata": {},
   "source": [
    "pipes = []\n",
    "for file_path in pickle_files:\n",
    "    with open(file_path, 'rb') as file:\n",
    "        pipes.append(pickle.load(file))\n",
    "print(f'Number of pipes: {len(pipes)}')"
   ]
  },
  {
   "cell_type": "markdown",
   "metadata": {},
   "source": [
    "## Data presentation"
   ]
  },
  {
   "cell_type": "markdown",
   "metadata": {},
   "source": [
    "### Extract from pipes"
   ]
  },
  {
   "cell_type": "code",
   "execution_count": null,
   "metadata": {},
   "outputs": [],
   "source": [
    "def collect_scalars(pipelines):\n",
    "    \"\"\"\n",
    "    Collect scalar properties from Pipeline objects and assemble them in a pandas.DataFrame.\n",
    "    \n",
    "    Parameters\n",
    "    ----------\n",
    "    pipelines : list(Pipeline)\n",
    "        Pipeline objects.\n",
    "        \n",
    "    Returns\n",
    "    -------\n",
    "    pandas.DataFrame\n",
    "    \"\"\"\n",
    "    dictionaries = []\n",
    "    for pipe in tqdm(pipelines, desc='Processed pipelines:'):\n",
    "\n",
    "        new_dict = {\n",
    "            'files': pipe.file_indicator\n",
    "            }\n",
    "        new_dict.update(pipe.locdata_properties)\n",
    "\n",
    "        dictionaries.append(new_dict)\n",
    "        \n",
    "    return pd.DataFrame(dictionaries)"
   ]
  },
  {
   "cell_type": "code",
   "execution_count": null,
   "metadata": {},
   "outputs": [],
   "source": [
    "scalars_df = collect_scalars(pipes)"
   ]
  },
  {
   "cell_type": "code",
   "execution_count": null,
   "metadata": {},
   "outputs": [],
   "source": [
    "scalars_df"
   ]
  },
  {
   "cell_type": "markdown",
   "metadata": {},
   "source": [
    "### Compare for files"
   ]
  },
  {
   "cell_type": "markdown",
   "metadata": {},
   "source": [
    "Reduce the file name to group identifier:"
   ]
  },
  {
   "cell_type": "code",
   "execution_count": null,
   "metadata": {},
   "outputs": [],
   "source": [
    "#choices = ['*/' + str(file.parent.relative_to('../data')).replace('\\\\', '/') + '/*' for file in files]\n",
    "choices = ['*/' + str(file.relative_to('../data')).replace('\\\\', '/') for file in files]\n",
    "\n",
    "choices_name = [choice[2:-2] for choice in choices]\n",
    "\n",
    "choices_name = ['CD18' if ('CD18_' in cn) else cn for cn in choices_name]\n",
    "    \n",
    "conditions = [[f.match(name) for f in scalars_df['files']] for name in choices]\n",
    "scalars_df['sample'] = np.select(conditions, choices_name, default=None)"
   ]
  },
  {
   "cell_type": "code",
   "execution_count": null,
   "metadata": {},
   "outputs": [],
   "source": [
    "grouped = scalars_df.groupby('sample')"
   ]
  },
  {
   "cell_type": "code",
   "execution_count": null,
   "metadata": {
    "tags": []
   },
   "outputs": [],
   "source": [
    "print('Number of groups:', len(grouped.groups))\n",
    "list(grouped.groups)"
   ]
  },
  {
   "cell_type": "markdown",
   "metadata": {},
   "source": [
    "### Descriptive statistics"
   ]
  },
  {
   "cell_type": "markdown",
   "metadata": {},
   "source": [
    "#### Mean values:"
   ]
  },
  {
   "cell_type": "code",
   "execution_count": null,
   "metadata": {},
   "outputs": [],
   "source": [
    "grouped.size()"
   ]
  },
  {
   "cell_type": "code",
   "execution_count": null,
   "metadata": {},
   "outputs": [],
   "source": [
    "grouped.mean()"
   ]
  },
  {
   "cell_type": "code",
   "execution_count": null,
   "metadata": {},
   "outputs": [],
   "source": [
    "grouped.median()"
   ]
  },
  {
   "cell_type": "markdown",
   "metadata": {},
   "source": [
    "#### Standard errors of the mean:"
   ]
  },
  {
   "cell_type": "code",
   "execution_count": null,
   "metadata": {},
   "outputs": [],
   "source": [
    "grouped.sem()"
   ]
  },
  {
   "cell_type": "markdown",
   "metadata": {},
   "source": [
    "### Statistical plots"
   ]
  },
  {
   "cell_type": "code",
   "execution_count": null,
   "metadata": {},
   "outputs": [],
   "source": [
    "scalars_df.columns"
   ]
  },
  {
   "cell_type": "code",
   "execution_count": null,
   "metadata": {},
   "outputs": [],
   "source": [
    "blacklist = [\n",
    "    'files',\n",
    "    'position_x',\n",
    "    'position_y',\n",
    "    'region_measure_bb',\n",
    "    'localization_density_bb',\n",
    "    'subregion_measure_bb',\n",
    "    'localization_density_ch',\n",
    "    'sample'\n",
    "]\n",
    "columns_of_interest = [column for column in scalars_df.columns if column not in blacklist]\n",
    "columns_of_interest"
   ]
  },
  {
   "cell_type": "raw",
   "metadata": {},
   "source": [
    "fig, axes = plt.subplots(nrows=4, ncols=2, sharey=False, figsize=(15,15))\n",
    "scalars_df.boxplot(columns_of_interest, ax=axes, by='sample', rot=45);\n",
    "plt.tight_layout()\n",
    "plt.suptitle('')\n",
    "plt.show()"
   ]
  },
  {
   "cell_type": "code",
   "execution_count": null,
   "metadata": {
    "tags": []
   },
   "outputs": [],
   "source": [
    "import plotly.express as px\n",
    "\n",
    "n_elements = len(columns_of_interest)\n",
    "n_cols = 1\n",
    "n_rows = -(-n_elements // n_cols)\n",
    "\n",
    "fig = make_subplots(rows=n_rows, cols=n_cols, subplot_titles=columns_of_interest, vertical_spacing=0.01)\n",
    "\n",
    "colors = px.colors.qualitative.T10 * 5\n",
    "assert len(colors) >= len(grouped)\n",
    "\n",
    "for column, indices in zip(columns_of_interest, lc.iterate_2d_array(n_elements, n_cols)):\n",
    "    for (key, value), color in zip(grouped[column], colors):\n",
    "        fig.add_trace(\n",
    "            go.Box(x=value, name=key, boxpoints='all', marker_size=5, width=0.5, marker_color =color),\n",
    "            row=indices[0]+1, col=indices[1]+1\n",
    "            )\n",
    "        fig.update_layout(boxmode='group', showlegend=False)\n",
    "\n",
    "fig.update_layout(height=10_000, width=1000, title_text=\"Averaged properties for each experimental group\")\n",
    "go.FigureWidget(fig).show()"
   ]
  }
 ],
 "metadata": {
  "kernelspec": {
   "display_name": "Python 3 (ipykernel)",
   "language": "python",
   "name": "python3"
  },
  "language_info": {
   "codemirror_mode": {
    "name": "ipython",
    "version": 3
   },
   "file_extension": ".py",
   "mimetype": "text/x-python",
   "name": "python",
   "nbconvert_exporter": "python",
   "pygments_lexer": "ipython3",
   "version": "3.10.8"
  },
  "widgets": {
   "application/vnd.jupyter.widget-state+json": {
    "state": {
     "0c5e8627d6a248ec8bfc87bca8e14638": {
      "model_module": "@jupyter-widgets/base",
      "model_module_version": "1.2.0",
      "model_name": "LayoutModel",
      "state": {}
     },
     "592eba9d69f0419ebe1c7777b7185fa8": {
      "model_module": "@jupyter-widgets/controls",
      "model_module_version": "1.5.0",
      "model_name": "FloatProgressModel",
      "state": {
       "bar_style": "success",
       "layout": "IPY_MODEL_0c5e8627d6a248ec8bfc87bca8e14638",
       "max": 480,
       "style": "IPY_MODEL_d74568c85011459180b02b0a0359b510",
       "value": 480
      }
     },
     "6f1a1030421b47028a18167303e98cc1": {
      "model_module": "@jupyter-widgets/controls",
      "model_module_version": "1.5.0",
      "model_name": "DescriptionStyleModel",
      "state": {
       "description_width": ""
      }
     },
     "82475a899083452280c33bd7ebffb814": {
      "model_module": "@jupyter-widgets/controls",
      "model_module_version": "1.5.0",
      "model_name": "HBoxModel",
      "state": {
       "children": [
        "IPY_MODEL_f534d23b0ce6493a9ad393b9aef5db7b",
        "IPY_MODEL_592eba9d69f0419ebe1c7777b7185fa8",
        "IPY_MODEL_e3f62b8809554747a5466860d46d5349"
       ],
       "layout": "IPY_MODEL_ce994272004f466a93629ec02bf8ebc5"
      }
     },
     "994ea750e41c46279c230cb447a2755f": {
      "model_module": "@jupyter-widgets/controls",
      "model_module_version": "1.5.0",
      "model_name": "DescriptionStyleModel",
      "state": {
       "description_width": ""
      }
     },
     "b716b9d1e83e4338b0da245c57e82d1f": {
      "buffers": [
       {
        "data": "bgG/cUT8jEEnsDSwNQN/QdppUUT+zn1BjzK3MvwrhUEvNWL9RzOGQdhfJY79BWxBFzbP9Uy2j0E5hQVlLTh5QdQbX6KkIYJBLRFDdrx1cEFQiQsvedR8QQ==",
        "encoding": "base64",
        "path": [
         "_data",
         38,
         "x",
         "value"
        ]
       },
       {
        "data": "sZY29tM3bUGrIqk61bWJQV5EZk19m2xB3RD09fHvZUEg9b7AZih8QdB2j2GW4HJBDtvXgJ8Be0GdRzS9I/53QcMPuXroGYBBaMC8pEalbUGE3t0VegF1QTwsaNtNZn1B2mFTZQSzakE=",
        "encoding": "base64",
        "path": [
         "_data",
         39,
         "x",
         "value"
        ]
       },
       {
        "data": "IhCkaKrxa0FR4/JrkrVlQbGm5VuXymtBbk+A8afJcUEGTttIsF18QRvCPUEI23RB21gGreM/aEEqrOGCvKNrQex1RbvZNmJBjeT9hnKKbUE=",
        "encoding": "base64",
        "path": [
         "_data",
         40,
         "x",
         "value"
        ]
       },
       {
        "data": "7RAq24pRmkG1oiRti6WhQRQlTqtGM6FBpgs+hpIjkUFb0BddW12gQQ==",
        "encoding": "base64",
        "path": [
         "_data",
         41,
         "x",
         "value"
        ]
       },
       {
        "data": "l7gvDU6Wp0H36ZMSMIeyQQ8NTWtvnrNBgV3HVXm6rkHvbrS1kBmoQZ0Tnlar5KpBPDzgIVRCqkHDzfFV/felQeVYDUGz06JB",
        "encoding": "base64",
        "path": [
         "_data",
         42,
         "x",
         "value"
        ]
       },
       {
        "data": "9mZyIMI8nEHinsCQaYuhQQ==",
        "encoding": "base64",
        "path": [
         "_data",
         43,
         "x",
         "value"
        ]
       },
       {
        "data": "OYmlD/V9skGs9+0C9NGfQaOdvkdWsKRBKbfbHTQ4oEG4H1beKrWWQYQ5DhlbbJJBX4Scsqb6kkE=",
        "encoding": "base64",
        "path": [
         "_data",
         44,
         "x",
         "value"
        ]
       },
       {
        "data": "iHTlTq/skUFrUJxkJaSaQSnKEe+py5dBqkqYA91SpEGW7LWR1SGsQUEPgli9v65BkZfKzTUEkUGoLpjoJg+TQaN/OFTkPp1BZ2BPpVy+jUFOgPmntTeCQcXuq/w65H1BxqZ3xIaNmUEia9yrHRp+QS2XdWBs0pNBmOGjy+JMokFevYUle66KQQ==",
        "encoding": "base64",
        "path": [
         "_data",
         45,
         "x",
         "value"
        ]
       },
       {
        "data": "puw5I5MalUF7s6rPUoahQR55b5voCo9BmZWBIZbbjUE0eANNbniBQZwuh4Pf3nxBKYbt6miDhEFQmTNmC9uDQWZKyE6xgYFBQvhAspHVekGrCM6PbfeAQVIZccsuOH1B",
        "encoding": "base64",
        "path": [
         "_data",
         46,
         "x",
         "value"
        ]
       },
       {
        "data": "nQKBLpLSmUExl/c9HEypQcNHcD3bl6VB8VM7QMm7o0G6/109ZBKtQcX96wBP8aBBFS3pPRvulUEswU+3LGmjQfRqlIzRXqZB",
        "encoding": "base64",
        "path": [
         "_data",
         47,
         "x",
         "value"
        ]
       },
       {
        "data": "A4uavogdnEEmHwvzjj+iQZHNbVsjx5hB8Z59eFrGmkHtZM1ULeieQTq0/xvsrKRBT9OzPX9HkkHAKcIJ44uWQcq2QR9fk5hBdsHQDHVfoUHCB2XN6oKMQV+W+mZ6F59BshjECZ4foUE=",
        "encoding": "base64",
        "path": [
         "_data",
         48,
         "x",
         "value"
        ]
       },
       {
        "data": "bTkBX2C1kEF7xPEeA8qQQTCLtqphAIlBvd+TniREjkFSoFi18pN8QQ==",
        "encoding": "base64",
        "path": [
         "_data",
         49,
         "x",
         "value"
        ]
       },
       {
        "data": "VsOf3DAsn0HnDDwNxCOoQRxeSdMAT5BB9hrV5uyVoUFVqTNn+kmrQamedobfGK9B",
        "encoding": "base64",
        "path": [
         "_data",
         50,
         "x",
         "value"
        ]
       },
       {
        "data": "bNpnVtIynEFM/nyHpquFQYZ54h/gxIZBTm1BOzXNh0FblrpyEQiTQQpn+RUNnJJBZiSt7PuVgkFczJ5XiO6KQZh5zMJmxpJBzhmD9kqDnEGH2Oi2MXqIQVTE/U94VYRBeTOlxWopeUE=",
        "encoding": "base64",
        "path": [
         "_data",
         51,
         "x",
         "value"
        ]
       },
       {
        "data": "NSCtD3d4lkEs2GFEFcySQevmlrNEDJJBksfZIA5qikHLPne2xzSMQYGwMoEPmoJBagg7k+cbi0FbLqFJmwFyQa0cMYmAwYVBdo466093ikEUkxyyuF+VQVr0smHdeXpBj7qY9JnweEH+tzdbiXKEQQ3nUvDk+nFBCB0p5bBlfUHhXhtF49F/QYt7RKDUG35BuCThP0/fm0FUHtG8M0KCQQ==",
        "encoding": "base64",
        "path": [
         "_data",
         52,
         "x",
         "value"
        ]
       },
       {
        "data": "tVSoMj+blUGwGKAQUwqDQTtmVJgQbXtBerTu9I6Yg0GGvou6dT99QQfpX7XfmoNB1c+cjKisf0E=",
        "encoding": "base64",
        "path": [
         "_data",
         53,
         "x",
         "value"
        ]
       },
       {
        "data": "WUMsT3q4kUGge8bI9DiCQTlrmNHJEHpBKG/z1oGqfkGnhtLQg5qUQZIujbCj9YRBVzui/vyBgEHWccFnlyKCQYHHagQq5oJBpcO8CDG5gUHi4PflO/mJQW1hC0ndRqBBVdNpaxVvkkFK4x3rNmt9QQ==",
        "encoding": "base64",
        "path": [
         "_data",
         54,
         "x",
         "value"
        ]
       },
       {
        "data": "lrof8OCjg0GWOBWsIo2SQfDBDVhixZtBi5idJ8g8k0HqgG+qQ3N+QejG1QEFUJJBGENG3rzAiEGHHXxydByNQTCNcb4VI6JB/OUPcxoknUEkse2ftIaVQWIvi1tzPH9BDRSUmZIyhUE315h2UgSHQXNBsBAdfYNBh8Qf2IS4iUHGG/501KN7QXtU6c/r3IlB3x2n3j9giUGF7m8D6YSNQZHFBx+7XIpBUIaEuYuolEFXsC/iBUKHQaDI2KT35YpB2iAtSo5FgEGDdQyN5SiZQc/kOdMnKolB",
        "encoding": "base64",
        "path": [
         "_data",
         55,
         "x",
         "value"
        ]
       },
       {
        "data": "blvZiEW+iUG99chBbh9+QTevDjYIAoBB1HA/e5oTgkGfk61UyDeWQQ==",
        "encoding": "base64",
        "path": [
         "_data",
         56,
         "x",
         "value"
        ]
       },
       {
        "data": "CWsDf6J/lUF9QMlrPa+JQbP4jrp2VoNBxJQRTiBOcUHYTf8sBD2FQW81R+Vb3ntB2GpuLHvukEEqatmU2VqQQcc9/45k8YtBIGuwiGHsiEFFEKU/5UORQYbGLzuMKX1B//T/klJLe0E=",
        "encoding": "base64",
        "path": [
         "_data",
         57,
         "x",
         "value"
        ]
       },
       {
        "data": "GscZA1YXhkH474E87jF7QQcm0kipeH5BE/X3iiHwgUFLrvHR0MNzQXJeLWY6MHJB",
        "encoding": "base64",
        "path": [
         "_data",
         58,
         "x",
         "value"
        ]
       },
       {
        "data": "/zFeuhLBokGP11J/nHaaQXVjFdpDOZVByYbk4uz9mEH8iIpFbMmCQV+j1Iy2godBkjv6c6X3gEGXchGWWWCAQdzZUz82BYBBhCzx8pJCgUFSQhSmVnqiQYkIhhM/gJVBrevHZAGplkHQ9n/6bc6JQZ/Zye//UpNBxZmDPUFukkHVkV14qsiCQUJ7G0wIZYhB",
        "encoding": "base64",
        "path": [
         "_data",
         59,
         "x",
         "value"
        ]
       },
       {
        "data": "UHLwlCtkhUGLXBcOmTR4QS/tPqpXyXNBWqrJq9IYgkEZVH6NwCd3QY5NvNu7u4pBMD1FhurJgEFNB8U5pGp9QQBZ6xXc64lB0HI0WlkXeUGdEQ6FdCiJQUguFyr2hINBSRbdfIwXgUFjPBNd5Fd4QQH0te4V6oFB2aRSc4fcfEFuiL/lYwqRQalLeC5KmZlB5oEv8AH1kEFeeKDcF4CCQUimsqMJdYpBGUAU3ssEhkEcZ+dIyr6OQQMyRmC/sJBB5m1DUv3IeUGmGy9SsPN6QYLCsHc2rnZBqWwoTU/ygUHBWPSD0cF4QVbLPSjB1YVBSB+p6pptg0HSQQ+GWnWRQZIIzialFJRBZ8SFZPzGk0Hg3R/LKaiMQZoLkF+fTHdBXteSCdjOkEF80z1P8Cl+Qa4IKdMLSHlByPE21aH7gkF27oX7IJ50QZwNXUZ9PndB/8BzOmRhd0GZH6151YCAQfsEb2qVQY5BA5gfuHGphUHf9afztzGGQdTNTM6wLHVBakotVM9CjUF+2ANmWROOQdfdC8Tu8YNBMDnONwPBh0G4pNs8lbt/QbBcgUIi44NBAY28Ts/wlEG/YZlUWGuDQfQTJupJVn5BPaKJUi7LekFDZkHRCqR5QXSb3m52o4BB0tZWVZiEikEArvN51V+AQbVWV0GHZoFBpO+6paPigkGJmHDuKDGXQU3ZSjokQYhBimNCaTWhdkGqEnFeTGt+QV6nVrtpFotBhLwlOLdJi0GIXvTba5CLQbPbOHq4v4BB4cNZuIIshkFBE02hXip+QdutyOQiyIJB+kp5ApOVk0GXBO6ZsP2IQWazteGN0H5BKAuve5zbgUHHSbHCr99+QU+6yb9H1odBFk+CHScchkHazqOBYVZxQUyDibIz+ntBZMR349BngUHh/HBUgpCQQVOhlh108YRBdG+3wcladEHgrnNAw6eOQfW2TCe4GYNBogtBNe4xdUFsxffANxJ3QTrwg4GkdHtBLDKC5pqVekFkofKHN++DQY76oU47/YBBOnBri18Qf0FUJdKk5GF2Qa9XGDynGXRBttGOYJ+8gkFp/RuNzJGNQYZyY2lJuY1Ba+XiQpxMdkGVXexXE6x5QUcUVFcH5HpB1NpFq+2Fe0FQA1YqMBOGQel/7MiPYYNBYTkEW8g7hUEpGNGMLjKKQfPM3A+/anpBGctd4NdMc0GAK87M4y2BQSB7G5td+HRBU1VNwlYAeUFKe1G+InOCQZtHvltyIINBJCJ09TD/gEHk8BlY8htwQaIDyDsJwYBBihVipPdHfkEzcQFj0b99QT+EIVjBEnlB7weG+7AGdkGW1Nt5Y82BQUFM4pZVo4NBXzmHwO8XdUE=",
        "encoding": "base64",
        "path": [
         "_data",
         60,
         "x",
         "value"
        ]
       },
       {
        "data": "DcOozhTqd0HO+DS0A1iBQYbwP+p/d35BB8rpy++gcEE=",
        "encoding": "base64",
        "path": [
         "_data",
         61,
         "x",
         "value"
        ]
       },
       {
        "data": "FAiX1MVYYEGtPoswmvWGQfuAI1dMJ21BZUIhRCo6WUF07FpZdD9lQetRiOwBDHFBFI2ZN2HHakE=",
        "encoding": "base64",
        "path": [
         "_data",
         62,
         "x",
         "value"
        ]
       },
       {
        "data": "6u4Br94BfUG87duiB1Z1QdvjO1mbj3VBEWszTAqYfEHhe8rNmEJwQYgO+wKzcXRBJBeprBAeb0EpYoOnfCd1Qd4UsXtDGHdBmYhOtVdOfEGx+wgE2jFxQQ==",
        "encoding": "base64",
        "path": [
         "_data",
         63,
         "x",
         "value"
        ]
       },
       {
        "data": "7uSeLs18a0Ec5sBeZA9xQTT/iZVcx2JBpPuqlPCQfkHcFC1/ahpoQa5VZ6+K73BB35LJftO9cUHMff+Mv2NuQQ==",
        "encoding": "base64",
        "path": [
         "_data",
         64,
         "x",
         "value"
        ]
       },
       {
        "data": "UGWipe8se0FhtXSfDGNzQRPJmB93AWZB7X/o9TX7YEH9CK0wBolmQdEyMBGr2XVB",
        "encoding": "base64",
        "path": [
         "_data",
         65,
         "x",
         "value"
        ]
       },
       {
        "data": "cqneZUQPcEGTaHvJ1BJ4QVbyc3ZMbnpBE/j4pqLQdkEcMiKWJVB0QY4ShDMNK3VB",
        "encoding": "base64",
        "path": [
         "_data",
         66,
         "x",
         "value"
        ]
       },
       {
        "data": "OJ8sT8LUdUHLhplJTTuGQYMvKzNmY3JBQWi/mFTqbUECBf1aMjhzQQrVrrq0GXtBwk7VYhxpckE=",
        "encoding": "base64",
        "path": [
         "_data",
         67,
         "x",
         "value"
        ]
       },
       {
        "data": "r2KyUJKHiUEMjLxeXVWZQdFJpsR+1qNBmHZ9fJaNlkGGe2IkUTOaQT53aGVbxpFBbEQ470rokEG9SJ2tyrCIQW2s7ug9w45BoLKA5tXhdkGvHtzFmXehQdgXEendIJRBjgVAe1SbpEFRqEWdYfeKQQ==",
        "encoding": "base64",
        "path": [
         "_data",
         68,
         "x",
         "value"
        ]
       },
       {
        "data": "5zdMVGs7oUEeY36KYMWLQQ6mwSmAJ39BdgrYWVqVkEFWzGPmCLWPQbNgVCQUHZNBFpwMnl0QkEGJEOiYSBqQQY+YqeHE4pFB",
        "encoding": "base64",
        "path": [
         "_data",
         69,
         "x",
         "value"
        ]
       },
       {
        "data": "xqNIGVOqgUFTbWeIq7ZuQWQ9Xb2iIHRBDRgTGcr+eEEvw/wxAWx4QQR4NU4+rYBB",
        "encoding": "base64",
        "path": [
         "_data",
         70,
         "x",
         "value"
        ]
       },
       {
        "data": "I1oBJ/B6eUEOpsEpgCePQZjFze/jro9BWBXVMFMblUFGmjTD8cqBQRW3ioKNB5JBtb5xGpBufUHx/Rf/qWl8QQ==",
        "encoding": "base64",
        "path": [
         "_data",
         71,
         "x",
         "value"
        ]
       },
       {
        "data": "94waII2+i0HWnJUfVySUQSkgDbIq54VBvw0OXqkAlkGAeOHEwzmNQdYKOFYyeZRB25d3nNrOnUHaEhYyvVSRQQrqRl2MRolB",
        "encoding": "base64",
        "path": [
         "_data",
         72,
         "x",
         "value"
        ]
       },
       {
        "data": "n9i0T1cTkEFKCZG69TKBQd2ooh7+WIRBLKndH2D4dkG+dtz+/k6YQYKvKuRxPI9B2WxUsvKHiUE=",
        "encoding": "base64",
        "path": [
         "_data",
         73,
         "x",
         "value"
        ]
       },
       {
        "data": "R4aAUpZyjUEG4vvmE4CPQRZfK+cnKp5B",
        "encoding": "base64",
        "path": [
         "_data",
         74,
         "x",
         "value"
        ]
       },
       {
        "data": "QgJSZlDGeUGkFcnCf7eHQZhjitHfLoJBrNJX6knZgUHSx7FPYFN9Qf2SDB7kFoVB",
        "encoding": "base64",
        "path": [
         "_data",
         75,
         "x",
         "value"
        ]
       },
       {
        "data": "o6PqT8iHTz+nkGVhipZAP3NNMQ2PhR0/PXV4g9ZsJD8ENULZgeIXPzwhDw/wVUw/6G6W5Ig0JD96VgIshDP7PijD0ClSdD8/uys+qHItBz9QgdrEa5oRPw==",
        "encoding": "base64",
        "path": [
         "_data",
         76,
         "x",
         "value"
        ]
       },
       {
        "data": "nul3dpdhFD9Ekr1/voMPP7ece8qh2Oo+K0t0VOu0ED/XMF10kkEoP4U60GFIBgA/XiqBSzjY/j6/cw1awrEGP0YNXYhi3k0/Axe/XmZWGD8K6arGVx0AP6QcBn2aFUA/Am4DYvgc/j4=",
        "encoding": "base64",
        "path": [
         "_data",
         77,
         "x",
         "value"
        ]
       },
       {
        "data": "kXHdqwHfXT+aeHc0rx/3PjSeEb0KD/s+pGTDmPgkTD+mcSQ3IKoJPyLBS9eor/A+fRVNJFBsBz/aOPGtEOwSP8V5gSv4tTc/RdTJb/miAT8=",
        "encoding": "base64",
        "path": [
         "_data",
         78,
         "x",
         "value"
        ]
       },
       {
        "data": "xvi9p7JHOD+Y4rbAwFkqP92RvVKLcS0/GqKcoMP6Nz9QP8tzyYMtPw==",
        "encoding": "base64",
        "path": [
         "_data",
         79,
         "x",
         "value"
        ]
       },
       {
        "data": "OdqW4ap8Hz+375wL4HclPyTg6Vnq8iM/JcjiLoonMz8M9POdaSYrP718gFsdlCM/kEDl0tRW+D7IMHeJFXP4PvXKOu1oQvU+",
        "encoding": "base64",
        "path": [
         "_data",
         80,
         "x",
         "value"
        ]
       },
       {
        "data": "rj7XDBT35D5ve47ORbzjPg==",
        "encoding": "base64",
        "path": [
         "_data",
         81,
         "x",
         "value"
        ]
       },
       {
        "data": "+o2YtO42Mz+TBAZheeAxPzqJ2OoMkSU/XJ9NC9NuNj+m3CrE8cAwPzTToVTj4SI/6Gr377swQT8=",
        "encoding": "base64",
        "path": [
         "_data",
         82,
         "x",
         "value"
        ]
       },
       {
        "data": "WKcfyc5UDT/H7OU1MrT3PkVjRmqL1Qw/1eVDNc5TDz+sHTWXmaYxPws2d6oNtTQ/nsebt0yk9D4VOLtUev/5PvamXCFLzRI/WAJh3hLxFT9y3bWoYZ8KP8n3YHVgWxQ/yCcJodMZFT875bCaA/shP4i2iso0rgU/bC0HpmoAFz8QZwu2EnQLPw==",
        "encoding": "base64",
        "path": [
         "_data",
         83,
         "x",
         "value"
        ]
       },
       {
        "data": "LMKTx03DMj9uArrCaNMmPw6Bg9rj2iU/dCSZ8ALhKT/u/d7Tr5gtP3jc1Q50RjA/ROMO3bqCLj+R2H901+ooP5cGEwmTyCg/K3TQ4JGgOT8YVkC1c7okP9fcK5MEey4/",
        "encoding": "base64",
        "path": [
         "_data",
         84,
         "x",
         "value"
        ]
       },
       {
        "data": "GeXmJibSKz9zt6Gg39osP8Hmu8b3dSc/IGBti0n+LD+2v6UQQKsTP+IpyDUkxxo/npUZh6WqID+1zF3VdiAWP8JlqkRr4hw/",
        "encoding": "base64",
        "path": [
         "_data",
         85,
         "x",
         "value"
        ]
       },
       {
        "data": "3nXzvR0qCj/8rpZcRS4cP0EVlYU1AxI//FzT2YvkAz8EznvY1SY1P8MLwmJAry8/MHZRuO5NET8RIJoHrM80P+BDzSGHkyw/uDLwXDh3LD+V2IwWtskZP7Nz9s9suCs/BpPL7jLzJj8=",
        "encoding": "base64",
        "path": [
         "_data",
         86,
         "x",
         "value"
        ]
       },
       {
        "data": "08hxcI5QQD8/zKAxUilFP1a9uP3GdDY/i2L4CFBhMz/U8cAlYAtFPw==",
        "encoding": "base64",
        "path": [
         "_data",
         87,
         "x",
         "value"
        ]
       },
       {
        "data": "jdpqo4D7BT8yf+2naO8fP91J/mFAmyQ/fI2q8JtVJD9FBse3OJ0TPyFgNQbMmBw/",
        "encoding": "base64",
        "path": [
         "_data",
         88,
         "x",
         "value"
        ]
       },
       {
        "data": "kqMV62LBAj/di1YGKaT7PnHYXFy74wo/8Mv1XY2O/T7lhfQ3kqr6PjmKpJCqGAM/07OnkujF8z7/Avt5BHgWP2C6tDaiDfQ+tED0/nQVDD+aWayrhbQRP6h4X09siwE/D9qNQ662CT8=",
        "encoding": "base64",
        "path": [
         "_data",
         89,
         "x",
         "value"
        ]
       },
       {
        "data": "oxnOXVpiDj8bqv9lzCUCP40oXFAgR/8+wiWdsqmBAz+IIsLqynv6PgExSvEMwAk/8gBTlQ/f/z5HHI0Wjqj3PqXETN5gJPs+KepJHq7m+T5yZ2bhMgwBPxJI4q7hYQo/6lpOJDu6Az8NDmOyox0KP+uvaqTBxBA/eYyMjPmSLD82p4q2+VQBP4DsBslYvPE+kZF5JyylET8Bk1BXKIoRPw==",
        "encoding": "base64",
        "path": [
         "_data",
         90,
         "x",
         "value"
        ]
       },
       {
        "data": "XS6I05bnJT9uC/PxF0UqPzNqsiuYGjk/ZdjRkOzFMT+vzvOgobE1P2U54QYWvRg/Thv+IbT8Hj8=",
        "encoding": "base64",
        "path": [
         "_data",
         91,
         "x",
         "value"
        ]
       },
       {
        "data": "+5X+c9GsBD9j4uVsmpQFP6REgpeW8Q0/lnOceiAJED+oagvQN0n+Po1DkgkKaQU/Q+flPIl1Bj8GkyxsuGEUP8ObNNb8LPc+lH2HAS/nEz+TWIyI5mAGP4MOXqvoZxE/tNP6E8NnGz8VS2G/o8IHPw==",
        "encoding": "base64",
        "path": [
         "_data",
         92,
         "x",
         "value"
        ]
       },
       {
        "data": "TB1PIcpDHD+Ckn3f+bQLP/Cz16fpxCE/6NSH7ShjFT8LHwHtmwkcP5yLlA0LfBc/2aRMEtAfIT8cBFzJbuILPwSJhkr0HxE/RjJbckatCT+fyT7IY+UUP4CqVS6ktAU/xZldYH7IBT/AUStex68jP8koBbCwTB4/yvGrDqcxJT83eFqMSBYnP73kH1aVpiE/E6wWkaKUET8N0KPttTQGP9gkB8UPO/o+sWeM9215JT/Y1Xp2fJwUP3gGYqryahY/tid7NNmqEj/xKuZH2/gVP8a2z0FGxhA/",
        "encoding": "base64",
        "path": [
         "_data",
         93,
         "x",
         "value"
        ]
       },
       {
        "data": "PElX2eJGEz/P5tbp3ioEPxg28m1HTA0/WbDIuE7L/D7UuTjM8yDzPg==",
        "encoding": "base64",
        "path": [
         "_data",
         94,
         "x",
         "value"
        ]
       },
       {
        "data": "JbsVKSPGNT++j+6xuJ0pP19NypiGCCg/eWrayrvaJj+iVJxU+2wZP5qPrUbtYxQ/Z7ELuHLOGj+Nba3RPhIgP4WLWu9upBU/17Xpo6vkBz9azVhPxeQRPyx5BsHRfB8//XY+vAGXGj8=",
        "encoding": "base64",
        "path": [
         "_data",
         95,
         "x",
         "value"
        ]
       },
       {
        "data": "NMWKFNMpAj/NgVgu7eT4PrVjGthDMwU/ByS13bf4Az8kL7e7YSMSP88kLhe5thQ/",
        "encoding": "base64",
        "path": [
         "_data",
         96,
         "x",
         "value"
        ]
       },
       {
        "data": "Q8/Kj8cFJj+CNbjM/y8gP7Nq9YpCAhM/uuVwwGixGD93/zOZm3AUP1giCOKn9hU/7R5lvSJzGz/t9odGAUUhP9fZOxOgtSk/xR27FhGIJD+So//UffoWP1SGyn+MMRs/JOVml5+LJD+DfwxOoLUOPydsKZUJmBI/6dsudnFlET+BUuWSh2cXP3S88IxDaBA/",
        "encoding": "base64",
        "path": [
         "_data",
         97,
         "x",
         "value"
        ]
       },
       {
        "data": "ZNeYYwk2OD/kLq0iAa47PwRIeK1XXzM/GbjuR5NMOz9a6lQ9PEo8PwAZsSl5oiw/RGBV3kgVQD9bBsZEKS8qP2BuG9rdPyk/s6TUwjIcLj+/ZQQP5jEzP7/gqGYEQjA/BQ4KCkrVPj9tq8aSLPlAP8CkArxgGUA/1gosupa5Nj/FNccJBZpDP2huaPndG0A/c2rrgNj0Qj/v/DQa+NlQP/4+QlUMiU0/WeCTkS+qNT9H0tw0Z0w4P7vmjE7zSC4/b9nmobFlQj8DJ7H8dwI1PxW+ImEED0A/rF61ZZwwLz8RV89548k3P5hHa4NZnDg/noKMB+oiMD/oejKkXUgeP5oQx7rfgCk/yqAM5PyaIT8qRMsQNQURP2l8a7wyIiI/8jCSlypsOj9dhYhKcK8vP+qIH6FmBDA/d1g39cCOID/rZUNlNqs/P77OrFEQzjk/uJv5DioyPz81zsT2/Dc4P4/nses8czA/bJWYfHEJIz8mOyNFSoxEP4F+YmRgITk/huPT81cpOT9IZE857dElP3VYkXvd9yk/7c8Bz5kzJj8tItiWGRglP3yNS2BNNic/BG8L+ruzOT/OErvCU/E2PyfboEoAVzc/l9HU+PtrOj/1+axwhfBEP69Z63L3uTM/In5cqnv3PT/JDQYMdmBFPzvcjWyNCzE/NVTYVLEpOj9S3bBDfDk+P9sar/IMlDY/gVR95aIuOz8fviVfSJU+P56y/YUaRz0/R+zuEolgNj/OL8wcOicwP1+zb1YFaTk/Mu7bfnDpRz/yQRYLxZk/P2diEG9q1EI/WD3x+wXsLT/DrOKG1eAmP+IgkI+b9kA/fT7MejwiIz8cI/SfIIlSP2px5I+dKDw/KVzMaRxeNT/HSyP7AVRJP7sUD21g00U/lbDZ0OeSOz/Mz040vsI0P8TP37UtYyg/eNvxPN5cOT9+cYP+rFFAPwMPOV8ISDw/LQpmWZ9hUD+/nBcYKKZVP+qeCqVzlSo/HL5hUIbfSj9JAn/MH1xFPyGQeEZpskE/H1aZMZVNQD/m9K4vc7I0P6BSyMqQfUE/R4j05zVOMT+7nyM/aHA9PydMYmM+qDI/L9SzbW+aRD+XWe890kRAPx0iJfVTHkA/EKLwJuuFOj8rK5K9EBcvP2vGK6lbuyU/RM3vZHrhQT/Kq4OY4gY0P/PCF9JCAUE/fMUPjNeSOj+UEsg+fEk2P+tjjUQ7hjk/hvjz/Tv5Oj8iChDYyZ45P0NNn8hkbz4/YZX5WHDTRj8bTC6dJxtLPytNlUtDUyw/G99z8M5BNz/jlK4R/FJKPxmfUOnM6TU/l8hQCcL+Oz8Fq6yjZ988P+m8VuF1yDM/vrAdZ/ipND8=",
        "encoding": "base64",
        "path": [
         "_data",
         98,
         "x",
         "value"
        ]
       },
       {
        "data": "VnOPXnmfHD8obego+RETP9AZ2iFL/hc/7QA/c0J6AD8=",
        "encoding": "base64",
        "path": [
         "_data",
         99,
         "x",
         "value"
        ]
       },
       {
        "data": "B8yV9PnYMT/wl+qFf1EXP+PFvhWNlyo/JbgeKcgIGz/m9FEFppg1P+ulQvhI/yg/NSa631iCUT8=",
        "encoding": "base64",
        "path": [
         "_data",
         100,
         "x",
         "value"
        ]
       },
       {
        "data": "OpdhBT0XED+3P05weOBHP1vFvRwSNRU/4xWqt/LlJj9erT5ahCwxP263Bf4cKzI/iQ8Jn3lmQz8HGl2KSFkhP1/OohikrSY/Re84lJH2Hz+7jpgo5UhHPw==",
        "encoding": "base64",
        "path": [
         "_data",
         101,
         "x",
         "value"
        ]
       },
       {
        "data": "3oIlWyynUD/qM6w92e1QP6PDeWYgV0M/Ts74ajiQVT+pbh7zU89FP6g8XabAREs/7VFMbg42HT9+/Y0uPJsWPw==",
        "encoding": "base64",
        "path": [
         "_data",
         102,
         "x",
         "value"
        ]
       },
       {
        "data": "Z0cuOXuxMj83+ykbKEo7P10h44o/ZT4/daInJYPGQz/dg7CvRWJBP5PEEFquD0Q/",
        "encoding": "base64",
        "path": [
         "_data",
         103,
         "x",
         "value"
        ]
       },
       {
        "data": "w1sFccSi7j6cQxjx3gECP04AOLjBbMk+ZRRq7tYnzj4FvjUHdb7mPq3iEC7uNds+",
        "encoding": "base64",
        "path": [
         "_data",
         104,
         "x",
         "value"
        ]
       },
       {
        "data": "HiAEE9wiKT+2D+EDX6EcPw5MzvNYZBY/YxNy4Wp3HT8Ttm4KpzssP7KoNMGHQiE/x9T6r8q1Iz8=",
        "encoding": "base64",
        "path": [
         "_data",
         105,
         "x",
         "value"
        ]
       },
       {
        "data": "7BLYZpJFEz/Gu147E1IIP+RuyPfqyRk/+YEPP6SOIT+fIqYnXaohPx0cC5V3QyM/8TTf73CyGD8/AWmw7zgXP8VmhjdTIBM/afxL21gpKT/pOL+FP2AHP0jsGTnamgY/uZCJKWKkBz9CVwOcQpgQPw==",
        "encoding": "base64",
        "path": [
         "_data",
         106,
         "x",
         "value"
        ]
       },
       {
        "data": "N/Hn46I0Iz96yqirCNA/P/77CDAStDQ/z/bChMZpHD89SWFD/JccP6n4dkIjRjI/V0sK/VulJT8b3fEZ9a0hP7wkzaTSbiI/",
        "encoding": "base64",
        "path": [
         "_data",
         107,
         "x",
         "value"
        ]
       },
       {
        "data": "HyKBKWpX+D4OVDQocaQUP4q3lJG4lCc/WY5UdqWQGj+HrGaWZVENPy72/E1rIPY+",
        "encoding": "base64",
        "path": [
         "_data",
         108,
         "x",
         "value"
        ]
       },
       {
        "data": "N0oPuPoxKD9hXA2/nI4GP8pfvH+mOCE//SAZXxT4Ej/CccGPQ4A1P311H0TqrRE/tbnm6KWU0D66tX/y3RLoPg==",
        "encoding": "base64",
        "path": [
         "_data",
         109,
         "x",
         "value"
        ]
       },
       {
        "data": "1Qmdl+M1Sz9fLGPoELhPP4We99Beak8/srBidFWeUT8uP28d839HP2PZ/eri/0U/4ljKKFtxRD8DSvQhqQZBP4dgY50Nz0c/",
        "encoding": "base64",
        "path": [
         "_data",
         110,
         "x",
         "value"
        ]
       },
       {
        "data": "cu7xyX8YBT+32qMuuDYcP1yeUXvWCRg/UpPRz7kCGT+iXmb0V+8KP2PjAL/3ByA//U9iCr93KD8=",
        "encoding": "base64",
        "path": [
         "_data",
         111,
         "x",
         "value"
        ]
       },
       {
        "data": "gb8eJ5LdGj+Maoajd+EGPxWGtfNvqxE/",
        "encoding": "base64",
        "path": [
         "_data",
         112,
         "x",
         "value"
        ]
       },
       {
        "data": "1lzeuaD1ID92wpVXJJIUPzer8rWaFhg/LG+Z99h9BD+0Vt97erUAPzZzsOrOzAU/",
        "encoding": "base64",
        "path": [
         "_data",
         113,
         "x",
         "value"
        ]
       },
       {
        "data": "6rezh4Ee3ED91NTtEYbUQJP0Wmd6OtVA31WKUL+92UApvWxy4qzZQNZekpmKXMxA3YiVRRAe3UDLgt64qbXSQNS5wy4ZydZA5qcKR5kfz0AyxPhGnFPUQA==",
        "encoding": "base64",
        "path": [
         "_data",
         114,
         "x",
         "value"
        ]
       },
       {
        "data": "cU2/gXTDzUDx5VTVBxvbQH5Hc4bHTcxASK2WiEtayEAjmU9UxHnTQBN9CoVkZtBA4gOqcfbz0kDkWZ8TiZfSQC5FUylLJtdAl32FPaJyzEBTAisP9nzRQLKPb/p0kttAw88ttORbzkA=",
        "encoding": "base64",
        "path": [
         "_data",
         115,
         "x",
         "value"
        ]
       },
       {
        "data": "Mb2yAxuiy0BpNzEiD/vIQKy2QluJnctA5OwL7qrazkDK58PUg9jTQEzzuuWvNtFAurvdJYKgykBS6QR7b/3LQKP5EhZFwcdApAOF7dRKzEA=",
        "encoding": "base64",
        "path": [
         "_data",
         116,
         "x",
         "value"
        ]
       },
       {
        "data": "N2a3BNvq4kDy/oqKJdflQPcgYmhknuVAoUweOgZd3kAPtACE8AnlQA==",
        "encoding": "base64",
        "path": [
         "_data",
         117,
         "x",
         "value"
        ]
       },
       {
        "data": "sJpXfTVD6UAawPgqRt3vQDx4SBpBcvBANij0doxq7EAwN2AqN/jpQO+bUeJw8OpAH+qwwj6o6kBAm4CKDFrpQA3/L570bOZA",
        "encoding": "base64",
        "path": [
         "_data",
         118,
         "x",
         "value"
        ]
       },
       {
        "data": "JOszDnDg40ALTvWjphjmQA==",
        "encoding": "base64",
        "path": [
         "_data",
         119,
         "x",
         "value"
        ]
       },
       {
        "data": "trS3vzuT70A9UD3PVEDlQA43bp1vKehAkIhNo5tw5UAqCiu++6fhQOM5im9cR+BAMTzef1l04EA=",
        "encoding": "base64",
        "path": [
         "_data",
         120,
         "x",
         "value"
        ]
       },
       {
        "data": "tgwYeJnI30Bi4HRkWAbjQKGHgVi+2OJAqhtFfLAx50CbdgETxJHrQDRwdW5cwexAq+q4M+K630Ci9WMtp37gQEZh7sd8w+NAioVKtafm20Amln5nFSLWQDQouzsODNRAK6gPKRO64kCXpRGzDj/UQGXjX5kyiuBAvv9PNePl5UAGCgzXhPvaQA==",
        "encoding": "base64",
        "path": [
         "_data",
         121,
         "x",
         "value"
        ]
       },
       {
        "data": "loXALrvu4EAyh6MnXYPlQODViixH8txAWJe870b83ECiLZQrrObVQNF+lDGqFdRA9Zlnl1u+10CSV6VHd4zXQLsgFBEc9dVACjsBAoHR00Ao6pQZLAfWQIxrMdidc9RA",
        "encoding": "base64",
        "path": [
         "_data",
         122,
         "x",
         "value"
        ]
       },
       {
        "data": "fbGyKPnA4kCxm4Hk+jbqQLi6d4VoFelAI4b/MfMm50CJ0YXUr9jrQCj0DDclg+VA/eiMSZQ44UBR26QCG3DnQOt0woGJ1uhA",
        "encoding": "base64",
        "path": [
         "_data",
         123,
         "x",
         "value"
        ]
       },
       {
        "data": "3DEJLFRO40Ae9M6xhRXmQO2Y85msR+JAJ1v5iAwo40DWCwXH5G3kQGi1I20QROdAG3KbAZhg4EAz4PHPdVThQNAtJWuOIOJAWEymrcBb5UA6K9DdBJ7bQETZaDg1gORA++NRCAAt5UA=",
        "encoding": "base64",
        "path": [
         "_data",
         124,
         "x",
         "value"
        ]
       },
       {
        "data": "Fhk5dQZ93kBEDd3mD6XdQF5J7tswH9pAEjY21qfC3EByGoCCktjTQA==",
        "encoding": "base64",
        "path": [
         "_data",
         125,
         "x",
         "value"
        ]
       },
       {
        "data": "wN0Aew8N5UDCUrrUNB/pQLkFBPLgYd1AzRZXj9iR5UB3kGw9J+DqQEZFqonaaO5A",
        "encoding": "base64",
        "path": [
         "_data",
         126,
         "x",
         "value"
        ]
       },
       {
        "data": "W44GH1zc40CxHRhdOUjaQBxwsj3satlAQ7MfDcKL2UArrc9aUYvgQK5cPMFyZOBAAiNVjTzr1kAvcXCXu4XbQFKQKs4Tw99AGZAxwPg840ACfs0T/KvZQHbLm81JOthA+ZGdOWeW0kA=",
        "encoding": "base64",
        "path": [
         "_data",
         127,
         "x",
         "value"
        ]
       },
       {
        "data": "flhnse414UCg7PRSlZffQJYXV9wN5N5ADBlxn1gB20CAps6ZYXfcQPEYFJR+bNdAAAUixyCI20DUFHzpaiPQQEt5jumFH9lAsgo9FNhT20AGoUVXTzLiQPUgB7NxJtNAmnGBQsmT0kDo1nnSYunXQIp6F5I6zc5AE1uLYuG81ECSEyOZFsbUQB73AdJiHtRAaO2L+qLR40B8s8lstSnXQA==",
        "encoding": "base64",
        "path": [
         "_data",
         128,
         "x",
         "value"
        ]
       },
       {
        "data": "T2T4YtoJ4UCc9S63pbPWQEPr17pfbtNAkEZ0ee1U10AJW5pSyDrUQF+bPxyeb9dAwGHCvWhB1UA=",
        "encoding": "base64",
        "path": [
         "_data",
         129,
         "x",
         "value"
        ]
       },
       {
        "data": "brQrLaYm30ACxaucu4DXQBA78d68PtdANBn3XEX31ED+KilhDc3hQPGLH9wq99dArhfGQbLV1UBM0tfMKSvYQAjQCq0KGtdAWwiv/Xgr1kBTjrlx/A3cQIQuKNoe7ORAWAervtK530CCFvR4tpnVQA==",
        "encoding": "base64",
        "path": [
         "_data",
         130,
         "x",
         "value"
        ]
       },
       {
        "data": "i/WHa8qh10BwjSlMVX/gQF0gamRyoeRAadZ8Ifs84UC88Yiv/5/VQJ2P+LLq8N9APj16cv+g2kBprCYJSEDdQM9iYc+axuZA2ZEULWsH5ECMhft6epHjQOsrk+99A9VA9jyXJR1Q2EALTkhnNhjZQN2n2f0WpddADQIZqPDR2kCFvTw2XZ3UQLm7cLsC69pAJflXBUv42kCXrkUSoVLdQKwbBBVm9tpA5J2Ve67j4EDiBP0LqhjaQGEhngSBTNtAgYFj7mTQ1UAfUMh3OXLiQBylaMsxr9tA",
        "encoding": "base64",
        "path": [
         "_data",
         131,
         "x",
         "value"
        ]
       },
       {
        "data": "d8bGwA0u2kB/JNh/KnTUQP0CbM+xmNRAtJwjznAX1kC3fo33BTbhQA==",
        "encoding": "base64",
        "path": [
         "_data",
         132,
         "x",
         "value"
        ]
       },
       {
        "data": "q2IM9jwk4UD7brU82MzaQKuQCuuoXNhAwB2lma+o0ECjwKwk/w3ZQNC9VE2h/NNAM7VuN4WA30An+xeB74HeQN9zawPfbttAT+AnPval2kBUNF9gNV3hQNLzo9RusNRAe3Z4voYq1UA=",
        "encoding": "base64",
        "path": [
         "_data",
         133,
         "x",
         "value"
        ]
       },
       {
        "data": "NhmO+/cX2UADLScw2dDTQPC9QQ47PNZAoWCtPIcx1kDulEd3+JTRQGLh4exbDdFA",
        "encoding": "base64",
        "path": [
         "_data",
         134,
         "x",
         "value"
        ]
       },
       {
        "data": "FMeXJsMO50D+lvu9zyToQLWapRwtSOFAaTYjL+Zq40AE4yNCGenWQFRt9og2vtlAy2iM9EJi1kAEeEyz3MjVQH1YjPM4C9ZAbwqXIXja2EDq5RHwHfLlQIIXJ2XuR+FAfIBb/uvx4UBOaZ7/7G7aQAeYyk07+t9Apkvk5iLq30AFZ3of5bLWQPywrv5jV9tA",
        "encoding": "base64",
        "path": [
         "_data",
         135,
         "x",
         "value"
        ]
       },
       {
        "data": "CXd374Ry2UDE9sVCjzTSQN2kLv02WtBAkank12Bk1kBs9BSGhKjRQPo/k08ub9pAbp0ZY08A1kB6tnRzxGLUQE7iaInqFNtALEF5gbdL0kByAaNxOZbZQPqzDqyp5tZAjBAJ9jIg1UD/oDIdyRXSQAez8q2m1tVAb9JIYGvT00CgggtuQtPdQKZWN7vSZuJAEONZaLvK3UBiD6irmTHWQF/BdzknhNpA6VP8kNlX2EDd4X0dtoncQNPaopE6id1AM1gVRSa50kAypqUI0evSQJjM4Ff/6tFAxgZg/nOz1UC7/MDxt1nSQDE5VYoCx9hAtOSkVPvL1kAi/rwFDWzeQO9NjKjYYuBANulFVncO4EBOqKPwhKbbQE7LZv18oNFANK+RvRQa3kAakNAitC7UQOIKGQTk1dJAzsT1ee2L1kA2p/QOie/QQP9ZLVhk0dFAykBYFfdB0kB5xN/6jEbVQDwlEEAZddxAFz5kJXn410DrRoscQmfYQL5H8lbnKtFAUBPIYR0m3UDFNGZMFjHcQGq2//s0YNdAlUykSQOI2UCjdD5cdL7UQCdzyUjlntdAo8x0A0fi4EDpYYOa8zjXQBWtFcaOMNRA6nblz7R400DrFjAqIcDSQDwgqA+149VALK7Tp/Fg2kBAPo1XAdHUQNP8MYNyPdVAr98J6yYu1kBIcDxn5HDhQMwMAE1qH95AoChH9ZPi0UBirSUeVxvUQFjTkAuu/NpA8kcOChUk20BMU5eQ90rbQOO4naFiANVAk05Zn+Uw2EDCAx6EK1nVQMjpEFAmatZA9qd3sEgO4EC//o2Di/zZQDfIc42HgtRAGhTW9Jm31UB4Cdp9dIbUQE7+Jda4UdlASlkA+hQp2EA4JUXoOILOQMOsSf4VcdNA1UCv64FV1UAFt/OH4v/dQDssQkW0c9dA7AUGtozw0EDtN4OmofXcQBdpJ0pwpNZA43j5y+dw0UC51+WUtTvSQNyM/QVAS9NAMfeycI4B00BdekLBYdTWQNRgokRfZNVAe/P//Ti/1EBY1tLZoITRQM5UnAPcFtFAEqWjm/KY1kAeBDCOsTvcQMhgjHxU3ttAlJlaMux+0UAU1hXn8/bSQFm9GqXkb9NA1MvZCWtR00AcPlPcMBzYQAOqLp8HktZApDJOisgm2EBwWjHMzFHbQHD3vTBwLtNAFv0iCX410ECI7STsc7LVQG2Rc8w0XNJAhpLdVCxQ0kA2xvGUTCTWQKwpynFLF9dAMOaZNzFG1UDkZC7rwMHNQPHwVr3OGdVAP0ePo9I51EC78M8YaSjUQHG955kdMtJANlQj8Lfm0UBpRME45wXWQLPACtA28dZAsLftsCwz0UA=",
        "encoding": "base64",
        "path": [
         "_data",
         136,
         "x",
         "value"
        ]
       },
       {
        "data": "UE0ibGpc0kCnfKTk3LrVQCI4NgAvxNRAUInqws/ozUA=",
        "encoding": "base64",
        "path": [
         "_data",
         137,
         "x",
         "value"
        ]
       },
       {
        "data": "UsxE50laxUDLnYT+tdvYQFGj/VwflsxAXLR6nzpzwkB37ZocdfDHQKLoE1OyLc9AONHl/Vgyy0A=",
        "encoding": "base64",
        "path": [
         "_data",
         138,
         "x",
         "value"
        ]
       },
       {
        "data": "UCfb7dI91UDnTH9xzh3RQA6vhSNNCdFAcRCOYzTv00AYivkRxZnOQAWXbQjWrdBAibo1lpHbzUBt9RydARrRQA5d+D8HwdFAHxAW5XDs00AoEXIY35vOQA==",
        "encoding": "base64",
        "path": [
         "_data",
         139,
         "x",
         "value"
        ]
       },
       {
        "data": "79uWV0CCy0CE03KavtrNQJXMz9P8YMdAvphUgSM91EAhoCAri2vJQCohhG1EWc5AZuPk3j12z0Ciqple8ITMQA==",
        "encoding": "base64",
        "path": [
         "_data",
         140,
         "x",
         "value"
        ]
       },
       {
        "data": "dXsLQz5P00CSUwcGzubPQGnCyfunwMhAzuZXqwBBxUCL07ms4c/IQABLc5UpK9FA",
        "encoding": "base64",
        "path": [
         "_data",
         141,
         "x",
         "value"
        ]
       },
       {
        "data": "2kpuJJzXzUBGvLnDd5LSQKr7xdad5dJA8tXqmoTn0UBGoj9wRB/SQN5R/w0NhtFA",
        "encoding": "base64",
        "path": [
         "_data",
         142,
         "x",
         "value"
        ]
       },
       {
        "data": "cIF+iCsh0UC8gyLmd4vYQDCBtUAXbNBAFPWs4VxZzEC2qzREIzbQQD3i6un69tJAe2dgXwMC0UA=",
        "encoding": "base64",
        "path": [
         "_data",
         143,
         "x",
         "value"
        ]
       },
       {
        "data": "dLlVcsAk3UDSHTc3/4zjQND1yNakRehApsMlp/TG4kD5IwtboqbrQIEEPlQh++BA00/GJLNC4EC+PdCGzJTZQDDZATQaft5AgsOUBYdQ0kBPvopV0S/mQMILIZuieeBA/vSUQj/P6UBq2WZLhLniQA==",
        "encoding": "base64",
        "path": [
         "_data",
         144,
         "x",
         "value"
        ]
       },
       {
        "data": "b7gkEvi07EA/RE6BPcLfQJKmpaAWZNZALLviuziq3kArm4JAHCLdQBzwzF7THuNApkUWjl544EAa0Sajrr3fQD2OCUWLmOBA",
        "encoding": "base64",
        "path": [
         "_data",
         145,
         "x",
         "value"
        ]
       },
       {
        "data": "9Sc7SCdv1kD8qbB5dszNQGDfs+M7ctFAgk2d5+U500AZxhGCMUfTQNa+DwnGzdVA",
        "encoding": "base64",
        "path": [
         "_data",
         146,
         "x",
         "value"
        ]
       },
       {
        "data": "1FCerfB10kDXPp0/LoLdQPRRmvacM95AaR2lyATs4EBuHjhDnbrWQOv/T6jl5uBA6jGtcDmw1EClvbv+cT3UQA==",
        "encoding": "base64",
        "path": [
         "_data",
         147,
         "x",
         "value"
        ]
       },
       {
        "data": "CEOZszkR20CHerfxd9/gQFqCTeAMMdxARcsx6PHL4UDDfMafoFPeQKSEYdU8FOFAH7dLlTaQ5UB637iwmsbgQAmdD8Vm69lA",
        "encoding": "base64",
        "path": [
         "_data",
         148,
         "x",
         "value"
        ]
       },
       {
        "data": "oMBGP1wL3kB/dVGhnDLWQCPogU8O5tpA2FRnk2+h0UBOs1JB1pPiQKsQZNYllN1A/byMa3TY2kA=",
        "encoding": "base64",
        "path": [
         "_data",
         149,
         "x",
         "value"
        ]
       },
       {
        "data": "HNu1Cbsl3EBJsgQZbh7eQKjJ57QdIORA",
        "encoding": "base64",
        "path": [
         "_data",
         150,
         "x",
         "value"
        ]
       },
       {
        "data": "O9MC+3fD00Ay51MtldbZQJxWV3bGrdhAeHldSwdq2ECIsjKnNeXUQN0hjxYyHdhA",
        "encoding": "base64",
        "path": [
         "_data",
         151,
         "x",
         "value"
        ]
       },
       {
        "data": "/zpXplbAiUE/mr68ai18QaATJKdRLHlBb+nO8omZgkE/0n9jeQSFQX6PDvVHtWhBAM1Z8kh+i0EAGvtmPsB0Qf5iJLyOpn9BBVIYzRjDaEGAFdAI6h93QQ==",
        "encoding": "base64",
        "path": [
         "_data",
         152,
         "x",
         "value"
        ]
       },
       {
        "data": "++/RDuh8ZEHiZBERlyeGQQDivvQvomFBAWqc6j7uYkEAFDbRg/13Qf9XIM5KzWpBAdgxpA1ndkEDH9JQYNpzQf6jwWRpeHxBAcnVGpU8ZUH6M38QqkFsQf438/DMgn9B/VvDEeZCY0E=",
        "encoding": "base64",
        "path": [
         "_data",
         153,
         "x",
         "value"
        ]
       },
       {
        "data": "AxT8zbkaZEH8Z17vec9bQV+FoT3OGWVB+R+h9XHOa0EA9kNXPw93QX177njktW9BgnzWXiYfY0F/XeamkihmQQDo8Rlh0F1BAdLhMVpyZUE=",
        "encoding": "base64",
        "path": [
         "_data",
         154,
         "x",
         "value"
        ]
       },
       {
        "data": "gC41fFKqmUH2Pqd0oEGhQVM3aSO49qBBoI4w6+XokEF/jodVhkugQQ==",
        "encoding": "base64",
        "path": [
         "_data",
         155,
         "x",
         "value"
        ]
       },
       {
        "data": "nj7RRYQxp0F/1OmwZHmyQb+mqkaflbNBz9z5UUuArkFf9AO2DtOnQYEhSwOmlKpBAJxjej0UqUH/CazdpsCkQYDUIwGiSaFB",
        "encoding": "base64",
        "path": [
         "_data",
         156,
         "x",
         "value"
        ]
       },
       {
        "data": "AbnNNvglmUG/WYNViSmfQQ==",
        "encoding": "base64",
        "path": [
         "_data",
         157,
         "x",
         "value"
        ]
       },
       {
        "data": "AEvqaqdUskEAOfJ42kqfQf6oX9oxc6RBgNea5x4SoEF/mY6KokuWQQDDJe1IDJJBADJZfJSBkkE=",
        "encoding": "base64",
        "path": [
         "_data",
         158,
         "x",
         "value"
        ]
       },
       {
        "data": "fia9L5hpkUGxKed6VcyYQdGy/CNaTJdBIB0taJsSpEHAkQpf+vqrQcPNQ4jFuK5BAKNx423NjkGB/Yhi4VqRQQFAQ256wZxBTqaBhTvujEF+NPTd+VuAQQCtoIv4THxBx9Ahp+qSmEEA9J45eQx8Qdk/G6rK15JBPlj1lMAXokF/D8uAcCiJQQ==",
        "encoding": "base64",
        "path": [
         "_data",
         159,
         "x",
         "value"
        ]
       },
       {
        "data": "AD7n6o58lEGANm1w9SihQQB8WPNGDI5BPd9OT0MXjUH/Zc0KndKAQfzvkrZPv3tBgD2ixY7Kg0EDesMZjtaCQf65zo02KYFBADqlgn2neEH/5zCuGkiAQQBIbPMsyXpB",
        "encoding": "base64",
        "path": [
         "_data",
         160,
         "x",
         "value"
        ]
       },
       {
        "data": "ga4weflKmUHgY5lVNiKpQf9TkVSnZqVBAvo2Ywhto0HiiJOENbqsQf8l2QA2taBBgIAKCzdnlUF/EY2p+y2jQeAIksMuc6ZB",
        "encoding": "base64",
        "path": [
         "_data",
         161,
         "x",
         "value"
        ]
       },
       {
        "data": "AK2GZIOwmkGAgPQ+hHKhQQAKD76tmJZB9Iw5x+Q1mEFhNjNRWEqeQXHoQwqAHaRBAExk9esakUGAQQ23XDSWQf60heOsN5hBANfdcTr0oEEAzW3ioJ2LQb3lQpIMM55BUNbqOPu0oEE=",
        "encoding": "base64",
        "path": [
         "_data",
         162,
         "x",
         "value"
        ]
       },
       {
        "data": "QIFuUPN7kEF+MEwbc3OQQQBSieK4aIhB/reuh2GgjUEBKH7SpVt8QQ==",
        "encoding": "base64",
        "path": [
         "_data",
         163,
         "x",
         "value"
        ]
       },
       {
        "data": "vsTaRieOnUFiHdHRjr2nQQOkE7rYcY9BsYX67ipWoUHDmrOZi3+qQS0z5lR/ja5B",
        "encoding": "base64",
        "path": [
         "_data",
         164,
         "x",
         "value"
        ]
       },
       {
        "data": "gT1X4OzYmkH/kcDjmQyDQQDOJrXtBYRBwWrTWcOyhUECAIvG09SQQdBTnpzXF5JBgMI8eX1sgEHhEgHVG56IQQDSKofRoJFBcIyfeqihm0GAGUg237OGQQCPlk4LcIJBIJtjsMjVdUE=",
        "encoding": "base64",
        "path": [
         "_data",
         165,
         "x",
         "value"
        ]
       },
       {
        "data": "QFD0bg+8lUGVAibbu7mRQWDLLP9LIpFBgKk++HXNiEF/a+0TVzuJQSItxdEkiH9BgDZrpFcMikEDWL4tHIRuQQAD/lh5TIRBP4b/7Zn3iEGAs8laIdGUQUF9D/hw/3dB/m/fqJ7XdkGwzpUiT0mDQf53vKodTXBBAPaTTL33eUFArnExv2Z7QQRcrpIcIXhBXpE76CJ4m0HA7e0glIiBQQ==",
        "encoding": "base64",
        "path": [
         "_data",
         166,
         "x",
         "value"
        ]
       },
       {
        "data": "/j+kejAblUH/W2slYWmCQYBxE+HE4HpB/Y8QUgZlg0H7v22NrZR8QQI+WflnqoJB/edBVAzlfkE=",
        "encoding": "base64",
        "path": [
         "_data",
         167,
         "x",
         "value"
        ]
       },
       {
        "data": "y8ITx+1qkEEC9iDgRc6AQQGuXUWdZHhBQXVng6L3fEEAhVCtyu+TQb8eMBG3OoRBBP6xglfHfkHRjx8yeXuBQUDIB/3u0IFBf0mPrtJLgEF/pOfCsryIQYD4xM4r7J9B2ajnmKnnkUEEuYQNSjN7QQ==",
        "encoding": "base64",
        "path": [
         "_data",
         168,
         "x",
         "value"
        ]
       },
       {
        "data": "wPNKTPL7gkGBL1irFd6RQQKFb+7gUJtB/QdNbt0ykkEGzDjNk/17Qf8eJMErFpFBQ1jV3xRUh0HjUy6p04KKQQB6uhA1oqFB/zzWWVQMm0Ev4U0yI/uTQQB7BMjhrnlBgY5dSGtZgUEApJBWLMyFQSDN1RR6GYJBPsC8QPSaiEGAFGKW1BF6QQEpUvKk4YhBQBRNCUL2h0GGHtfVgdSLQX8opGltW4dB2B2hN7v5k0F+a5qEtteFQbHsO9zoXolBA3tfRWU3fUFhIoKKRSeYQQGkJ2D0WIdB",
        "encoding": "base64",
        "path": [
         "_data",
         169,
         "x",
         "value"
        ]
       },
       {
        "data": "gmJLvYblh0EANB10v9Z6QQJoamkWmnxB/3YQkn/wfEEBTXUIKj6UQQ==",
        "encoding": "base64",
        "path": [
         "_data",
         170,
         "x",
         "value"
        ]
       },
       {
        "data": "jEYNQXo1lUHh1vK16NWIQQAfxSDABYNBgHa11c5ccEH+HXAypqiDQfbrOm+nJnhB4PXR6QBAkEF/UhzNveSPQZ9bTdOxyIlBgaQsDhpWhkFgrLeJHgySQQAU4Mc2xHtBgnkbdQD/ekE=",
        "encoding": "base64",
        "path": [
         "_data",
         171,
         "x",
         "value"
        ]
       },
       {
        "data": "gNKONcEShEF/842iv1F3QX7kiMRQZHxBAOg3EpsDgEEAwnIdy0JyQU4KVnLeC3BB",
        "encoding": "base64",
        "path": [
         "_data",
         172,
         "x",
         "value"
        ]
       },
       {
        "data": "f7U7P5qDokGe+2EEc6eZQULq2EohiZRBgJ8rzzpVmEECSLXEF4WBQX+JSiay0IVBgLHmj0RngEEB6sVu25l+QQRaV+6MpX1BAnJMf6HjgEGgpjsP+weiQYCctTiiHZVBv3/YdiE4lkG/ICE9DLOIQXBKoEW8oZJBv1EYnLqrkUFgo1tIVrGBQX+SAJGXdYZB",
        "encoding": "base64",
        "path": [
         "_data",
         173,
         "x",
         "value"
        ]
       },
       {
        "data": "gMIeRt9bhUH9L7lfmfp3Qf5Dq1TXcXNBAeK9iGoogkH9R8lSvNd2Qf49JRY4cIpBAIRFuxW0gEHD5nemTO18QQTwdcDYRIlBfzCCxaWzeEEC7Ky+n/yIQQHCWlVbT4NBAJjdD9XvgEECHa0h1C54Qf4DqHvW1oFBAMDddrSKfEH/QZOvLv6QQQJQicl6mJlB/wzQBQ7okEECSidq6WKCQWDNEC/oWopB/9fZylPXhUEAXH1PaKaOQQGi4+RJmZBB/H038VWGeUEBaLJRwLl6QQCwUOX433ZB/yiJQ9zTgUE/cqQ/VJx4QeA8vRHdnYVBAN7bbFJLg0GB9T4Ym0qRQYLXkorzFpRBAOxmiCCck0EFlJpTPjWMQQLY9dItpnZBAFwgKH2okEEB+BwiFNB9QQK67mhA8HhBAupmPyqzgkEAhEnADWJ0QYBp4MeqtXZBgN9BDUnsdkEAFEoWsGWAQQF3QShQj41B/42ldchqhUEB/zj2gBuGQf1H+36Oz3RB/TOz3FDujEFAWFyRTcCNQQBhSJzjt4NBAZABdWxmh0H+76V9kBF/QQN+8ce6u4NB/+l/+pHUlEEA9Oh1NUeDQQFIr8eBA35BAK5TQv+FekH/Y8gTV2F5QX7vyYWvh4BBgATDtYcvikE+ndGZ+0iAQf+ZpY+wK4FBACnHkfPGgkEDCmjf/iSXQQDEhnTDLohB/ofLurpxdkEAUIaOeiV+QXN77plDPIpB/xoRBH8pi0H7n+K77VWLQf+jODLBlIBBf6O4SSkThkH9bxFTluF9QQJQsxV3s4JB/9cPkS5/k0GBljf3Zr6IQQUnU12rlX5BAVnGwGCIgUH+p4/K62p+Qf4tQ2bH9odB/9tYo5LchUH8XRKwpixxQQEAqAHI1HtBAB/9Gf1AgUEDckYSsXiQQQAvuV/GyoRBAO7p4YP0c0EDiDsN5Y6OQQEUJl1UC4NB0UtaMh8XdUFCQrWRGRV3Qf+HtV0EA3tB/2V4zx96ekEBFaosj9uDQYDMEDbt4oBBADzIs8jMfkECkHhFXyN2QQI04oKE7nNBAkOL1TyLgkEB9VSyA4KNQf+EzIaIk41BA2A9uhQtdkEBAFAMzYF5QQFgS2OarHpB/Qcb8NIOe0H+Yx1d8++FQf6j2BgcCINBAaTwePgohUECtTAn7keKQQG4nI9aQXpBAoSfXEbtckEAaLq07DuBQf5GDiTPuXRB/2udhk7xeEEDlNDbEU6CQf//cnsyMoNBAZY34SzcgEEA2KEUQQlwQQBGx9CSkYBB+j+G2x8TfkEBQHajFKJ9Qf6vquhe03hBABjGFIjldUECAMCYmcaBQX/ejRY5gINBnxVDVja2dEE=",
        "encoding": "base64",
        "path": [
         "_data",
         174,
         "x",
         "value"
        ]
       },
       {
        "data": "wswT26sDdUH/uFhT2I99QQAZiQ+H+nlB/vh6aq7yakE=",
        "encoding": "base64",
        "path": [
         "_data",
         175,
         "x",
         "value"
        ]
       },
       {
        "data": "/xP+pmzWX0GBf84ZfRmGQQDRRazvdmxBAc4MhVDbV0H/8SDveQFlQX8OB34Wo3BB/4N/WcNvakE=",
        "encoding": "base64",
        "path": [
         "_data",
         176,
         "x",
         "value"
        ]
       },
       {
        "data": "geL3PjbQeEFAOu0IZsBzQQHXJvjuYXRBQXOATht/ekEAzh5rIhZvQYDbhabh0XNBAIZh/M1abkG/0PrCU79zQQC34Rt1MnVBAOsjOTpUe0H/pcqmusNwQQ==",
        "encoding": "base64",
        "path": [
         "_data",
         177,
         "x",
         "value"
        ]
       },
       {
        "data": "/gH0327Ka0GA7l3VzQRxQf+4/Xr9c2JBn7MQxwOWfkH9pVkNZL9nQYDU55pG7XBB/+rUk03ncEED7kvFnIVsQQ==",
        "encoding": "base64",
        "path": [
         "_data",
         178,
         "x",
         "value"
        ]
       },
       {
        "data": "AY0f2xR+ekEDzZClh6tyQQGuSyyK1WRBAhTywac5YEH++z364ZplQQCjfFu/gnVB",
        "encoding": "base64",
        "path": [
         "_data",
         179,
         "x",
         "value"
        ]
       },
       {
        "data": "AHsaBeHfa0EhUOLFwyZzQf/T44/OXXBBvpi3VcwgcUECeg8VLPpwQfH/fydp1DtB",
        "encoding": "base64",
        "path": [
         "_data",
         180,
         "x",
         "value"
        ]
       },
       {
        "data": "YU/b2ultc0FAhIs5onyEQZ8vzrGmYnFBATSnCbHXa0GAClxhop5xQcANrkOfY3pBwnoVnsUXc0E=",
        "encoding": "base64",
        "path": [
         "_data",
         181,
         "x",
         "value"
        ]
       },
       {
        "data": "b4mm7s6oh0FI4Bv91pGYQVA7GPLTj6NBp3oyr1MAlkHrwxpQlhOeQcFZdVdKGpJBkzAekNyXkEF/4WxCUKCGQb+AXhhIpoxB74+joan2dEH75NBFMfKgQZXNKmUPs5JBruZMtQdqpEEsLJCAVxuKQQ==",
        "encoding": "base64",
        "path": [
         "_data",
         182,
         "x",
         "value"
        ]
       },
       {
        "data": "ao1uaDFTpkECOB5LGGKOQQA8t3BIlX5BuAqf3UBqkEHf/fMkqvyOQdGgoxy8d5VBIJglyvcxkEEB961OT/yPQenKkDZkSJJB",
        "encoding": "base64",
        "path": [
         "_data",
         183,
         "x",
         "value"
        ]
       },
       {
        "data": "/yNwCafKfEH+eo34topqQYHphx867G9BgBQ8giRUc0EB4NOme9R2Qf/cwnWOLnxB",
        "encoding": "base64",
        "path": [
         "_data",
         184,
         "x",
         "value"
        ]
       },
       {
        "data": "wZgT+utheEF/OVsC1vqNQUI8oHQL/45BYNhG6YG4k0GiWS8X3FGBQU94yd8iS5FBgDFvyIEOdkGDq68uXO50QQ==",
        "encoding": "base64",
        "path": [
         "_data",
         185,
         "x",
         "value"
        ]
       },
       {
        "data": "QHzz+Ouzi0ES9awBaB+UQV8+3tt91IVBD3pya/MZlkHGQdLrz/ONQQ/yckKIbpRBd59cRSFGn0HQydhObFqSQQEPnVBnMYlB",
        "encoding": "base64",
        "path": [
         "_data",
         186,
         "x",
         "value"
        ]
       },
       {
        "data": "H7ePKCF9jUH/5dIyJgp9Qb8ZPGRk24JBYTLMlMkoc0Gho8Uw1oaWQZ+8yA5oe41BQCObJUwUh0E=",
        "encoding": "base64",
        "path": [
         "_data",
         187,
         "x",
         "value"
        ]
       },
       {
        "data": "IR+3I96bi0EhXbwoyeWNQeEKi0cibJ1B",
        "encoding": "base64",
        "path": [
         "_data",
         188,
         "x",
         "value"
        ]
       },
       {
        "data": "AKBVGh1vd0GnFOwD1juGQQBWRQFMl4FBP/jNFUOVgEEA1FMqKYV6QaAho+etiINB",
        "encoding": "base64",
        "path": [
         "_data",
         189,
         "x",
         "value"
        ]
       },
       {
        "data": "AAAAgAJAv0AAAABA4UG/QAAAACAFQL9AAAAAgCtAv0AAAACg2UG/QAAAAEAzQL9AAAAA4ONAv0AAAACAFEC/QAAAAABAQL9AAAAAQKFAv0AAAAAAKUC/QA==",
        "encoding": "base64",
        "path": [
         "_data",
         228,
         "x",
         "value"
        ]
       },
       {
        "data": "AAAAwN5Av0AAAACAK0C/QAAAAOAR379AAAAAwMxDv0AAAABAIUC/QAAAAIA9Sr9AAAAAYGZDv0AAAAAgxUC/QAAAACDuQ79AAAAA4CNAv0AAAADgukO/QAAAAICURL9AAAAAgAJLv0A=",
        "encoding": "base64",
        "path": [
         "_data",
         229,
         "x",
         "value"
        ]
       },
       {
        "data": "AAAAYA9Av0AAAACAAkC/QAAAAADASb9AAAAAwF5Av0AAAABAIUC/QAAAAGDPS79AAAAAwHVEv0AAAACAgkC/QAAAAKBHQL9AAAAAgH1Bv0A=",
        "encoding": "base64",
        "path": [
         "_data",
         230,
         "x",
         "value"
        ]
       },
       {
        "data": "AAAAwAxAv0AAAABACkC/QAAAACAFQL9AAAAAgIJAv0AAAABAYUC/QA==",
        "encoding": "base64",
        "path": [
         "_data",
         231,
         "x",
         "value"
        ]
       },
       {
        "data": "AAAAQApYq0AAAACAa1irQAAAACAFWKtAAAAAAABAr0AAAABACkCvQAAAAMB1QK9AAAAAABeIs0AAAAAAKY2zQAAAACDcjbNA",
        "encoding": "base64",
        "path": [
         "_data",
         232,
         "x",
         "value"
        ]
       },
       {
        "data": "AAAAAICUsUAAAAAgBZWxQA==",
        "encoding": "base64",
        "path": [
         "_data",
         233,
         "x",
         "value"
        ]
       },
       {
        "data": "AAAAYE98tUAAAAAAQHy1QAAAACAcfLVAAAAAYHh8tUAAAACAq3y1QAAAAIBCgLVAAAAAABd8tUA=",
        "encoding": "base64",
        "path": [
         "_data",
         234,
         "x",
         "value"
        ]
       },
       {
        "data": "AAAAwIxAv0AAAACAgkK/QAAAAICrQL9AAAAAIO5Bv0AAAADADEC/QAAAAIArQL9AAAAA4Dpwt0AAAADgo4O3QAAAAKAZQ79AAAAAgKtAv0AAAAAAQEy/QAAAAKDZQL9AAAAAYA9Av0AAAADgI0O/QAAAAMC1Rb9AAAAA4HpAv0AAAABgj0K/QA==",
        "encoding": "base64",
        "path": [
         "_data",
         235,
         "x",
         "value"
        ]
       },
       {
        "data": "AAAAQHNAv0AAAABACkC/QAAAAAAAQL9AAAAAQCFCv0AAAABAIUC/QAAAAOCRQb9AAAAAIFxBv0AAAADANUC/QAAAAIAUQr9AAAAAYPhAv0AAAABgz0O/QAAAAEDKQL9A",
        "encoding": "base64",
        "path": [
         "_data",
         236,
         "x",
         "value"
        ]
       },
       {
        "data": "AAAAoEdBv0AAAACgcEC/QAAAAADAQb9AAAAAAABBv0AAAADAdUG/QAAAAMA1Qr9AAAAAgD1Bv0AAAACAK0C/QAAAAKAHQL9A",
        "encoding": "base64",
        "path": [
         "_data",
         237,
         "x",
         "value"
        ]
       },
       {
        "data": "AAAAwB5Av0AAAACgR0C/QAAAAKAHQL9AAAAAoFlAv0AAAABgT0C/QAAAAEAhQL9AAAAAwF5Dv0AAAAAAqUC/QAAAAADXQr9AAAAAgBRAv0AAAACgR0C/QAAAAIAUQL9AAAAAIBxAv0A=",
        "encoding": "base64",
        "path": [
         "_data",
         238,
         "x",
         "value"
        ]
       },
       {
        "data": "AAAAIAV8tUAAAADgI3y1QAAAAGAmfLVAAAAAYM98tUAAAACgh321QA==",
        "encoding": "base64",
        "path": [
         "_data",
         239,
         "x",
         "value"
        ]
       },
       {
        "data": "AAAAoHCJo0AAAADgo0CPQAAAAIAUiKNAAAAAYA+Io0AAAAAAAIijQAAAAEAKiKNA",
        "encoding": "base64",
        "path": [
         "_data",
         240,
         "x",
         "value"
        ]
       },
       {
        "data": "AAAAgCtAv0AAAADgekG/QAAAAGAPQr9AAAAA4NFBv0AAAACAVE6/QAAAAODjQr9AAAAAgMJIv0AAAAAAAEC/QAAAAACARr9AAAAAQPNCv0AAAACgWUC/QAAAACCFQr9AAAAAIO5Jv0A=",
        "encoding": "base64",
        "path": [
         "_data",
         241,
         "x",
         "value"
        ]
       },
       {
        "data": "AAAAYA9Av0AAAABgZkK/QAAAAMAeQb9AAAAAgCtCv0AAAAAAAEC/QAAAAMDeQb9AAAAA4DpAv0AAAACgcEK/QAAAACDcR79AAAAAwHVKv0AAAACgmUS/QAAAACCuQb9AAAAAoFlCv0AAAAAAF0u/QAAAAODRQL9AAAAAQCFAv0AAAAAA6VC/QAAAAECzSL9AAAAA4DpAv0AAAABg5kC/QA==",
        "encoding": "base64",
        "path": [
         "_data",
         242,
         "x",
         "value"
        ]
       },
       {
        "data": "AAAA4NFAv0AAAACgGUC/QAAAAIArQL9AAAAAAABBv0AAAADgOkC/QAAAAKBZQL9AAAAAAABBv0A=",
        "encoding": "base64",
        "path": [
         "_data",
         243,
         "x",
         "value"
        ]
       },
       {
        "data": "AAAA4BFBv0AAAACgh0K/QAAAAKBZSr9AAAAAAKlBv0AAAABAIUK/QAAAAKDwQr9AAAAAYA9Gv0AAAADgI0C/QAAAACAuVr9AAAAAIFxEv0AAAAAAqUC/QAAAAOARQb9AAAAAgCtCv0AAAADg40C/QA==",
        "encoding": "base64",
        "path": [
         "_data",
         244,
         "x",
         "value"
        ]
       },
       {
        "data": "AAAAIMVAv0AAAAAgnEa/QAAAAOARQL9AAAAAYDhAv0AAAABgZkG/QAAAAGAmRL9AAAAAYDhDv0AAAAAAF0G/QAAAAEChQL9AAAAAABdAv0AAAACgB0G/QAAAAOA6RL9AAAAAQDNGv0AAAACg8EC/QAAAAIB9QL9AAAAAQApAv0AAAADgOkK/QAAAAGB4Q79AAAAAoMdAv0AAAACAwkO/QAAAAADAQr9AAAAAQLNAv0AAAABAc0K/QAAAAGAmQL9AAAAA4HpFv0AAAAAgxUC/QAAAAEChQr9A",
        "encoding": "base64",
        "path": [
         "_data",
         245,
         "x",
         "value"
        ]
       },
       {
        "data": "AAAAgAJYu0AAAADgUVm7QAAAAIArWLtAAAAAwAyNw0AAAAAAQIjDQA==",
        "encoding": "base64",
        "path": [
         "_data",
         246,
         "x",
         "value"
        ]
       },
       {
        "data": "AAAA4LpBv0AAAACAAkK/QAAAACAuQb9AAAAAABdAv0AAAADADEC/QAAAAMAeQb9AAAAAwIxBv0AAAACg2UK/QAAAACBFQr9AAAAAIFxCv0AAAACgWUW/QAAAAMAMQr9AAAAAwDVBv0A=",
        "encoding": "base64",
        "path": [
         "_data",
         247,
         "x",
         "value"
        ]
       },
       {
        "data": "AAAAIC5Av0AAAADgY0G/QAAAAADAQL9AAAAAYI9Hv0AAAACA60O/QAAAAKBHRb9A",
        "encoding": "base64",
        "path": [
         "_data",
         248,
         "x",
         "value"
        ]
       },
       {
        "data": "AAAAgCtAv0AAAADANUG/QAAAAAApQb9AAAAAoAdAv0AAAACgGUG/QAAAAKCHQL9AAAAAoPBBv0AAAAAgBUC/QAAAAIArQr9AAAAAgAJAv0AAAACAq0C/QAAAAEDzQL9AAAAAwLVAv0AAAADADEK/QAAAACAcQr9AAAAAIO5Dv0AAAADAdUa/QAAAAGDmQr9A",
        "encoding": "base64",
        "path": [
         "_data",
         249,
         "x",
         "value"
        ]
       },
       {
        "data": "AAAA4COFp0AAAADgUXSnQAAAACCuS6hAAAAAAClzp0AAAABgOIWnQAAAAMDMj6hAAAAAgJR3p0AAAAAAqf+kQAAAAACpjKhAAAAA4KMSpEAAAADATJGjQAAAAOCjAqVAAAAAgBSJo0AAAADgI4ijQAAAACCFA6RAAAAAIAUBrkAAAABgD4mjQAAAAABXjKNAAAAAANeJo0AAAAAAqYmjQAAAAOD6iaNAAAAAwHWho0AAAAAghYijQAAAAGA4iKNAAAAAgGuIo0AAAABAM4ijQAAAAECK7KdAAAAAgMJlpUAAAABgj5mjQAAAAIDrkaZAAAAAgELLo0AAAADgI7unQAAAAIDrfKdAAAAAgD15p0AAAAAgBfquQAAAAKBwRLBAAAAAwB5wp0AAAADgUZanQAAAAEBhcadAAAAAgD2Cp0AAAACgmXanQAAAAMB11qtAAAAAIC4DqkAAAABguIijQAAAACAFlqNAAAAAQGGoo0AAAABgOJKjQAAAAMAehKRAAAAAgEKIo0AAAABgZomjQAAAAKAZiaNAAAAAAICIo0AAAACgcOOjQAAAAMD1jqhAAAAAgOtwp0AAAACAQnCnQAAAAMDMcqdAAAAA4Hp5p0AAAADA9XWnQAAAAOAjfKdAAAAAgJRYq0AAAABAM1irQAAAAMB1WqtAAAAAIFxYq0AAAACAlFirQAAAAMBMWatAAAAA4CNaq0AAAACAa1mrQAAAAGCPdadAAAAAYDhyp0AAAADAdXOnQAAAAMAeoadAAAAAgEJwp0AAAAAghd+nQAAAAEAKcadAAAAAQAp1p0AAAADAnnGnQAAAAGBmmadAAAAAoJn9p0AAAAAgLninQAAAAGA4iqNAAAAAAACTo0AAAADgUWqsQAAAAADXj6NAAAAAQIqIo0AAAAAghRikQAAAAABXp6NAAAAAwMy5o0AAAADAHnOnQAAAAKDwfadAAAAAQGFOqEAAAAAA15WnQAAAAOB6j6dAAAAAwExyp0AAAAAAV3KnQAAAACAFf6dAAAAAYGZwp0AAAABAii+vQAAAAKBwJq1AAAAAoJmwrkAAAAAgLoqjQAAAAIBCiKNAAAAAgL2Lo0AAAADAzDemQAAAAIBr6ahAAAAA4FGMo0AAAAAgrpCjQAAAAGC4nKNAAAAAgGuJo0AAAAAg3KijQAAAAODRk6NAAAAA4NHgo0AAAAAAALKjQAAAAIC9h6VAAAAA4FGTp0AAAABAs42nQAAAAAAphadAAAAAoMdwp0AAAACAa3CnQAAAAGAPK6tAAAAAoJlFqEAAAACgx5unQAAAAMD1eadAAAAAwMyvp0AAAADg+nOnQAAAAEAzd6dAAAAAIC5yp0A=",
        "encoding": "base64",
        "path": [
         "_data",
         250,
         "x",
         "value"
        ]
       },
       {
        "data": "AAAA4CNYq0AAAAAgXFirQAAAAMBMWKtAAAAAoJlaq0A=",
        "encoding": "base64",
        "path": [
         "_data",
         251,
         "x",
         "value"
        ]
       },
       {
        "data": "AAAAgEJeq0AAAAAgBVmrQAAAACCFWKtAAAAAYA9bq0AAAABguFyrQAAAAIBCWatAAAAAgL1Yq0A=",
        "encoding": "base64",
        "path": [
         "_data",
         252,
         "x",
         "value"
        ]
       },
       {
        "data": "AAAAoJlYq0AAAADgUVmrQAAAAABXiqNAAAAAwMyIo0AAAABAYVmrQAAAAOCjiKNAAAAAQLNYq0AAAAAgBYijQAAAAOBRjaNAAAAAoHCJo0AAAACg8IijQA==",
        "encoding": "base64",
        "path": [
         "_data",
         253,
         "x",
         "value"
        ]
       },
       {
        "data": "AAAAgEJYq0AAAAAAAFqrQAAAAAAplaNAAAAAwHWIo0AAAADATIqjQAAAAECKWKtAAAAA4HqUsUAAAAAghZWxQA==",
        "encoding": "base64",
        "path": [
         "_data",
         254,
         "x",
         "value"
        ]
       },
       {
        "data": "AAAA4Ppaq0AAAACAPVqrQAAAAKBwiKNAAAAAYLiPo0AAAAAgLoijQAAAAIAUiKNA",
        "encoding": "base64",
        "path": [
         "_data",
         255,
         "x",
         "value"
        ]
       },
       {
        "data": "AAAAACmTo0AAAABgOJejQAAAAMCey6tAAAAAQIqCq0AAAADgUbmjQAAAAIDrjqNA",
        "encoding": "base64",
        "path": [
         "_data",
         256,
         "x",
         "value"
        ]
       },
       {
        "data": "AAAAYA+Io0AAAAAA14ijQAAAAGAPiaNAAAAAYA9Zq0AAAACAa4ijQAAAAIDCiKNAAAAAgBSKo0A=",
        "encoding": "base64",
        "path": [
         "_data",
         257,
         "x",
         "value"
        ]
       },
       {
        "data": "AAAAwExZq0AAAAAAV1irQAAAAOBRWKtAAAAAAClYq0AAAABAClirQAAAAGC4WatAAAAA4FFYq0AAAADgI1irQAAAAOCjWKtAAAAAIC5Zq0AAAACg8FirQAAAACAuWKtAAAAAQLNZq0AAAACAQlurQA==",
        "encoding": "base64",
        "path": [
         "_data",
         258,
         "x",
         "value"
        ]
       },
       {
        "data": "AAAAIC5Yq0AAAAAgBVirQAAAAECzWKtAAAAAQIpaq0AAAACAlFqrQAAAAEDhWKtAAAAAQLNZq0AAAACgx1qrQAAAAMAeWqtA",
        "encoding": "base64",
        "path": [
         "_data",
         259,
         "x",
         "value"
        ]
       },
       {
        "data": "AAAA4Hpdq0AAAACA61irQAAAAEAKY6tAAAAA4KNcq0AAAADAzFurQAAAAKBwXKtA",
        "encoding": "base64",
        "path": [
         "_data",
         260,
         "x",
         "value"
        ]
       },
       {
        "data": "AAAAgEJYq0AAAAAAgFyrQAAAAOBRWatAAAAAYI9Yq0AAAACgGVirQAAAAKAZWKtAAAAAINx7q0AAAACgR1qrQA==",
        "encoding": "base64",
        "path": [
         "_data",
         261,
         "x",
         "value"
        ]
       },
       {
        "data": "AAAAQIpYq0AAAABAM1irQAAAAEAKWKtAAAAAwB5Yq0AAAADAdVirQAAAAEBhWKtAAAAAYGZYq0AAAAAgBVmrQAAAAMDMWKtA",
        "encoding": "base64",
        "path": [
         "_data",
         262,
         "x",
         "value"
        ]
       },
       {
        "data": "AAAAoMdZq0AAAACgR1mrQAAAAEAzWatAAAAAgBRaq0AAAAAAV1irQAAAAKBHWatAAAAAIFxZq0A=",
        "encoding": "base64",
        "path": [
         "_data",
         263,
         "x",
         "value"
        ]
       },
       {
        "data": "AAAAgBRYq0AAAAAAKVirQAAAACAuWKtA",
        "encoding": "base64",
        "path": [
         "_data",
         264,
         "x",
         "value"
        ]
       },
       {
        "data": "AAAAwHVYq0AAAABAM1irQAAAAIC9Y6tAAAAAYDhZq0AAAABgj2mrQAAAACAuW6tA",
        "encoding": "base64",
        "path": [
         "_data",
         265,
         "x",
         "value"
        ]
       },
       {
        "data": "AAAAQAIUxkAAAADAYUXUQAAAAICU2MRAAAAAgDXvxEAAAABAAebRQAAAAAAvNcdAAAAAYN94ykAAAABgbbjPQAAAACAPWMdAAAAA4CQm0UAAAADgM2DRQA==",
        "encoding": "base64",
        "path": [
         "_data",
         266,
         "x",
         "value"
        ]
       },
       {
        "data": "AAAA4Eg10UAAAADA9aHFQAAAAOAvMdFAAAAAoCuxzEAAAABg2Y/EQAAAAMABT8pAAAAAwNWfz0AAAACAVl/KQAAAAKBKneRAAAAAgGyFxkAAAADA08nQQAAAAKCFFtRAAAAAAMZtz0A=",
        "encoding": "base64",
        "path": [
         "_data",
         267,
         "x",
         "value"
        ]
       },
       {
        "data": "AAAAQJ2/z0AAAABA3JHNQAAAAEBE49NAAAAAoPGFx0AAAACAz3jNQAAAAGCFLdJAAAAAIHz7zUAAAAAgyKPFQAAAAKAkcMVAAAAAgCQszUA=",
        "encoding": "base64",
        "path": [
         "_data",
         268,
         "x",
         "value"
        ]
       },
       {
        "data": "AAAAIJlP1EAAAADAwePUQAAAAODkdtJAAAAAIOqS1UAAAADgcLDVQA==",
        "encoding": "base64",
        "path": [
         "_data",
         269,
         "x",
         "value"
        ]
       },
       {
        "data": "AAAA4D+E0UAAAABAg3rVQAAAAADK/NRAAAAAQDna0kAAAADgxpPQQAAAAGDqgdJAAAAAAPwC0UAAAADAMVXPQAAAAOA9Ys5A",
        "encoding": "base64",
        "path": [
         "_data",
         270,
         "x",
         "value"
        ]
       },
       {
        "data": "AAAA4Gu/uEAAAACAFxG4QA==",
        "encoding": "base64",
        "path": [
         "_data",
         271,
         "x",
         "value"
        ]
       },
       {
        "data": "AAAAgOXC1EAAAADAxqfVQAAAACA1ttRAAAAAgPkn1EAAAACgkMDNQAAAAKANn9RAAAAAoB+hzEA=",
        "encoding": "base64",
        "path": [
         "_data",
         272,
         "x",
         "value"
        ]
       },
       {
        "data": "AAAAAFz00kAAAADAHf7UQAAAAACcqNJAAAAAIC491EAAAACAN7rUQAAAAOCYSdVAAAAAIMU80EAAAAAgM3HOQAAAAGCuydBAAAAAwNzD0EAAAABgsyjTQAAAACAgzM9AAAAAYPxq0UAAAACALYjLQAAAAICZgNBAAAAAABYn0kAAAADgrmXMQA==",
        "encoding": "base64",
        "path": [
         "_data",
         273,
         "x",
         "value"
        ]
       },
       {
        "data": "AAAAoMaB1kAAAADg0TfYQAAAACANx9hAAAAAQOXS1kAAAADgwJDVQAAAAKCaNthAAAAAYCxk00AAAABg4IvVQAAAAIAcp9FAAAAAwICQ0UAAAACA6RnUQAAAAEAgENRA",
        "encoding": "base64",
        "path": [
         "_data",
         274,
         "x",
         "value"
        ]
       },
       {
        "data": "AAAA4J5v2kAAAABgCXraQAAAAGBwwthAAAAA4GDg1EAAAAAAgbHVQAAAACAuG9dAAAAAABmC2EAAAADAaFLTQAAAAAAya9ZA",
        "encoding": "base64",
        "path": [
         "_data",
         275,
         "x",
         "value"
        ]
       },
       {
        "data": "AAAAwNoo1kAAAAAA7BPTQAAAAIADENVAAAAAIBbt1UAAAABgiLvaQAAAAIBx3dZAAAAAwIJa2UAAAAAABGzXQAAAAGBo+dRAAAAAoKOb1kAAAABACpLYQAAAAGBkKtNAAAAAQE0H1UA=",
        "encoding": "base64",
        "path": [
         "_data",
         276,
         "x",
         "value"
        ]
       },
       {
        "data": "AAAAIKIo1kAAAAAA6ibTQAAAAEDgLtNAAAAAYBVH1EAAAABABWXVQA==",
        "encoding": "base64",
        "path": [
         "_data",
         277,
         "x",
         "value"
        ]
       },
       {
        "data": "AAAA4BngskAAAABg52eqQAAAACCD08JAAAAAADO+xkAAAAAgTFG7QAAAACBL/bJA",
        "encoding": "base64",
        "path": [
         "_data",
         278,
         "x",
         "value"
        ]
       },
       {
        "data": "AAAA4MO50UAAAABAC3LQQAAAACC5bcdAAAAAIFuh1EAAAACgJWPSQAAAAMBU5tVAAAAAoDAg0EAAAABgQ+/NQAAAACBWI9RAAAAAgGc800AAAACgnmDSQAAAAMAPkM5AAAAAwJvy0UA=",
        "encoding": "base64",
        "path": [
         "_data",
         279,
         "x",
         "value"
        ]
       },
       {
        "data": "AAAAALqn0EAAAADgSTXRQAAAAMBYNdBAAAAAwCDg0EAAAAAAr9PQQAAAAIC9AsZAAAAAAFNY0UAAAAAAUSTPQAAAAEDn/dBAAAAAgNtw0EAAAABATZnQQAAAAGD9VM5AAAAAgJve0kAAAADA/qjNQAAAAGBxUs9AAAAA4JLrxEAAAABAa+HOQAAAAECvatBAAAAAoPUAzUAAAAAAENLOQA==",
        "encoding": "base64",
        "path": [
         "_data",
         280,
         "x",
         "value"
        ]
       },
       {
        "data": "AAAAgNtN10AAAAAgwXbTQAAAAAC5utdAAAAAAAHj1kAAAAAA7hvRQAAAAMATX9VAAAAAwL781EA=",
        "encoding": "base64",
        "path": [
         "_data",
         281,
         "x",
         "value"
        ]
       },
       {
        "data": "AAAA4K8q1EAAAABAbInUQAAAAOAF3tBAAAAAYD2C0UAAAADgRlPTQAAAAABtgNFAAAAAoAlw0EAAAAAgcrLRQAAAAKAEj9ZAAAAAYMCB1EAAAADAkKrUQAAAAIAlPdVAAAAAoLuR0kAAAABgfmbUQA==",
        "encoding": "base64",
        "path": [
         "_data",
         282,
         "x",
         "value"
        ]
       },
       {
        "data": "AAAAoBaI10AAAABAUnLXQAAAAOB1itVAAAAAwFjJ1kAAAAAgZ33VQAAAAMDp5tZAAAAAoKCL00AAAABAX3zPQAAAAGDscNNAAAAAwB1z1UAAAABAW73PQAAAAEAeItVAAAAAIIZq0kAAAABgGC7bQAAAAEDqzNVAAAAAwNU71kAAAAAAG+LXQAAAACBWS9BAAAAAABQF10AAAACgxVrbQAAAACBQXdpAAAAAYFC71UAAAABgQZbYQAAAAOD4fNVAAAAAYCBK1kAAAAAgoH7UQAAAAKDCFdVA",
        "encoding": "base64",
        "path": [
         "_data",
         283,
         "x",
         "value"
        ]
       },
       {
        "data": "AAAAgDv50kAAAADAkQLUQAAAAGAXJM5AAAAAoMg+2kAAAABAgiPQQA==",
        "encoding": "base64",
        "path": [
         "_data",
         284,
         "x",
         "value"
        ]
       },
       {
        "data": "AAAAIP3r1kAAAADA2uzTQAAAAICtMNRAAAAAQJud0kAAAACA3KLSQAAAACCIydNAAAAAYHXY0kAAAACgoDzTQAAAAOBMDtFAAAAAYCXP0kAAAADgNfXUQAAAAADQ8NJAAAAAICS/z0A=",
        "encoding": "base64",
        "path": [
         "_data",
         285,
         "x",
         "value"
        ]
       },
       {
        "data": "AAAAoOuRzEAAAADAlsvSQAAAAKA9P9JAAAAAYHuD0kAAAADAUUXSQAAAAOB8P9lA",
        "encoding": "base64",
        "path": [
         "_data",
         286,
         "x",
         "value"
        ]
       },
       {
        "data": "AAAAIBuN0kAAAABgktDQQAAAAAAO+dRAAAAAYDvIzUAAAAAgeY7TQAAAAKCyOdJAAAAAYE+c0EAAAADg95fPQAAAAIB0btBAAAAA4JeszEAAAAAg3kfSQAAAAMCfq9JAAAAAAC/10UAAAACAaRTRQAAAAOBfSNFAAAAA4EIo0UAAAABAn/fQQAAAAOC2ktFA",
        "encoding": "base64",
        "path": [
         "_data",
         287,
         "x",
         "value"
        ]
       },
       {
        "data": "AAAA4MEr4UAAAACAOR7gQAAAAMBkF91AAAAAoOG/3EAAAACADxHgQAAAAKBOENhAAAAAgKgh2UAAAAAAwlXcQAAAAGBJp+BAAAAAANb23UAAAADAFi3gQAAAAGC3ZeBAAAAAYHkg20AAAADAHRPfQAAAAIBLvOFAAAAAgI2R2UAAAACAatneQAAAAGBtWOFAAAAAgIeI10AAAAAACs3dQAAAACDoWuBAAAAAYILH2UAAAABg3KXYQAAAAICX6tpAAAAAoNh010AAAAAAu5TdQAAAAKCfptxAAAAAwHWI30AAAACASoTeQAAAAKAK5uFAAAAA4O5a4UAAAAAgdlDdQAAAACD8DN9AAAAAACnH3EAAAAAA0kHhQAAAAEBGmNpAAAAA4OHAzUAAAADA6CDeQAAAAMCrH9lAAAAAoEw23EAAAABAnzTdQAAAAMCtCtJAAAAAIOj820AAAACg2ybgQAAAACAh4dJAAAAA4MGy4EAAAABgxNncQAAAAIDGjdpAAAAAAPPj0kAAAADA0lvcQAAAAKD45NpAAAAAYG+L2UAAAAAgp4jdQAAAAICh7tpAAAAAQJvO20AAAACAY63hQAAAAMDVDdxAAAAAIClP4EAAAABAJAHiQAAAAGANJuFAAAAA4F4W10AAAACgKL/WQAAAAEDyLNhAAAAAwFD/2EAAAAAgfefQQAAAACB9atdAAAAA4PL70EAAAACgoL/NQAAAAIA7zNhAAAAAIINF2EAAAACg08TaQAAAAAB5/9pAAAAAAOaa1kAAAACgrh/TQAAAAMCkQ9tAAAAA4P5M20AAAABAg+XcQAAAAAC8jt5AAAAA4N192UAAAABg6O7TQAAAAOBGzt1AAAAAwNPL4UAAAAAAZo3gQAAAAMDPIN9AAAAAIEEZ30AAAAAAhfLgQAAAAACu2OBAAAAAIHVL4UAAAADgDNXhQAAAACA/H99AAAAAAOLZ4EAAAABgBQLiQAAAAEDJruFAAAAAgJu24UAAAADg3YHhQAAAACBU5OFAAAAAYOVw30AAAABgBlLiQAAAAGDjCeJAAAAAoIm430AAAAAg2HDfQAAAAKBcT+FAAAAAYJoS30AAAABghVTgQAAAAOBNNtZAAAAAIBGR1kAAAAAgHhnZQAAAAAD2ZNhAAAAAYEHZ10AAAACAVGjcQAAAAMBiLNtAAAAAgAaE3kAAAAAgHn/XQAAAACBKaeBAAAAAoIbq4kAAAACA6a7fQAAAAMDTd+BAAAAAYC7s0EAAAACgBh3iQAAAAIATWN1AAAAAwHKJ3EAAAADAKwHfQAAAAECg/t1AAAAAIF/c4UAAAADghHDjQAAAAMBh9+BAAAAAAN+k4EA=",
        "encoding": "base64",
        "path": [
         "_data",
         288,
         "x",
         "value"
        ]
       },
       {
        "data": "AAAA4LyeukAAAADgAdi3QAAAAICp/bVAAAAA4DmfuUA=",
        "encoding": "base64",
        "path": [
         "_data",
         289,
         "x",
         "value"
        ]
       },
       {
        "data": "AAAAIA/L0EAAAAAA3DLHQAAAAAAno8pAAAAAAJG60UAAAADgXDzJQAAAAID4ONFAAAAA4I09xkA=",
        "encoding": "base64",
        "path": [
         "_data",
         290,
         "x",
         "value"
        ]
       },
       {
        "data": "AAAAQMHdvkAAAADAcha6QAAAAMAhUcJAAAAAoCwFuEAAAAAgxcLBQAAAACDMDsFAAAAAIE1xy0AAAAAA5na9QAAAAEBIDbRAAAAA4K6dx0AAAAAA8RrEQA==",
        "encoding": "base64",
        "path": [
         "_data",
         291,
         "x",
         "value"
        ]
       },
       {
        "data": "AAAAQIudzkAAAAAgcG/IQAAAACB0hcVAAAAAIEB1yUAAAACgNinFQAAAAOADwMlAAAAAwOWFxEAAAABg2vLLQA==",
        "encoding": "base64",
        "path": [
         "_data",
         292,
         "x",
         "value"
        ]
       },
       {
        "data": "AAAAQN6KykAAAACghVbFQAAAAMBYJ8RAAAAAYMqAyUAAAADgQNbEQAAAAKBlvcZA",
        "encoding": "base64",
        "path": [
         "_data",
         293,
         "x",
         "value"
        ]
       },
       {
        "data": "AAAAIAjBtUAAAACAOv+uQAAAAECb4b5AAAAAgFfgvEAAAAAgU/uwQAAAAMDv5MhA",
        "encoding": "base64",
        "path": [
         "_data",
         294,
         "x",
         "value"
        ]
       },
       {
        "data": "AAAAQCIgsEAAAACAQlmwQAAAAACSVb1AAAAAAFLWw0AAAAAA3d6wQAAAACBal71AAAAAgBHIwEA=",
        "encoding": "base64",
        "path": [
         "_data",
         295,
         "x",
         "value"
        ]
       },
       {
        "data": "AAAAYN0ivkAAAACAwrLCQAAAAKD3NsRAAAAAIPOCv0AAAADAiTPDQAAAAGC8i75AAAAAYPwdzEAAAAAg9xnAQAAAAEBk4cRAAAAAYIxrvUAAAAAAXV3AQAAAAKDhP7xAAAAAQECBw0AAAABguFi9QA==",
        "encoding": "base64",
        "path": [
         "_data",
         296,
         "x",
         "value"
        ]
       },
       {
        "data": "AAAAoBWby0AAAABglgLRQAAAAMBqos9AAAAAQPQ6w0AAAAAgbmXDQAAAACCWoMNAAAAAgPkt0EAAAADAA+vQQAAAAEDl0ctA",
        "encoding": "base64",
        "path": [
         "_data",
         297,
         "x",
         "value"
        ]
       },
       {
        "data": "AAAAoCnPuEAAAACAGVS3QAAAAMAOcLZAAAAAIBzVtEAAAAAgZXm6QAAAAOCzmbxA",
        "encoding": "base64",
        "path": [
         "_data",
         298,
         "x",
         "value"
        ]
       },
       {
        "data": "AAAAoAT/w0AAAADACO3BQAAAAEDmR8RAAAAAQAxtwkAAAABAssHLQAAAAGAf6cVAAAAAoBSiw0AAAABAp726QA==",
        "encoding": "base64",
        "path": [
         "_data",
         299,
         "x",
         "value"
        ]
       },
       {
        "data": "AAAAAOw90EAAAACgu+7NQAAAAMCkQcxAAAAA4B9kz0AAAABAd/bOQAAAAADw081AAAAAgM8F0EAAAABgmVDFQAAAACCF8MhA",
        "encoding": "base64",
        "path": [
         "_data",
         300,
         "x",
         "value"
        ]
       },
       {
        "data": "AAAA4IhKvUAAAACAeZu0QAAAAICYvbxAAAAAADD4tUAAAACgp1+3QAAAAOA2CbhAAAAAoMIcs0A=",
        "encoding": "base64",
        "path": [
         "_data",
         301,
         "x",
         "value"
        ]
       },
       {
        "data": "AAAAwDKZt0AAAADAUI27QAAAAAAzB7pA",
        "encoding": "base64",
        "path": [
         "_data",
         302,
         "x",
         "value"
        ]
       },
       {
        "data": "AAAAIOmkuEAAAABAtLi4QAAAAKAzFMFAAAAAAIrswEAAAACAxV/GQAAAAOA2zsNA",
        "encoding": "base64",
        "path": [
         "_data",
         303,
         "x",
         "value"
        ]
       },
       {
        "data": "AAAAgEGMgUAAAAAAn9iIQAAAAGCT/YFAAAAAoNWEgUAAAABAA2uAQAAAAKAqPIZAAAAAoD5vhUAAAABA+pqAQAAAACAV/ohAAAAA4NYjgUAAAACgH96BQA==",
        "encoding": "base64",
        "path": [
         "_data",
         304,
         "x",
         "value"
        ]
       },
       {
        "data": "AAAAADTCiEAAAADA2duCQAAAAAAKt4ZAAAAA4PKMkEAAAAAgf82IQAAAAGD044BAAAAAIOIkgUAAAABAFduAQAAAAAAy9aRAAAAA4I6KgEAAAABgQV+DQAAAAGAenYVAAAAAIAkGi0A=",
        "encoding": "base64",
        "path": [
         "_data",
         305,
         "x",
         "value"
        ]
       },
       {
        "data": "AAAAQOy3hkAAAABgxAyOQAAAAADiTIJAAAAAoJufhUAAAACg6IeFQAAAACBk/YNAAAAAQG6Og0AAAADgV66EQAAAAIAE6oVAAAAAIO7fgkA=",
        "encoding": "base64",
        "path": [
         "_data",
         306,
         "x",
         "value"
        ]
       },
       {
        "data": "AAAAwM6Eg0AAAACAdQOFQAAAAIAUHIdAAAAAQIj9hkAAAABgCRKFQA==",
        "encoding": "base64",
        "path": [
         "_data",
         307,
         "x",
         "value"
        ]
       },
       {
        "data": "AAAA4ACDgEAAAADAapOAQAAAAKCqY35AAAAAwD9pg0AAAABgI3eDQAAAAIBt5YJAAAAA4EV8gkAAAABg3nR/QAAAAMCP0YFA",
        "encoding": "base64",
        "path": [
         "_data",
         308,
         "x",
         "value"
        ]
       },
       {
        "data": "AAAAYDCCgUAAAABg1sSAQA==",
        "encoding": "base64",
        "path": [
         "_data",
         309,
         "x",
         "value"
        ]
       },
       {
        "data": "AAAAgLuVg0AAAACgjpaCQAAAAMBniYNAAAAAYGsthEAAAADATc2BQAAAAKAyP4FAAAAAIB/kgEA=",
        "encoding": "base64",
        "path": [
         "_data",
         310,
         "x",
         "value"
        ]
       },
       {
        "data": "AAAAQBLIhEAAAABg3qeEQAAAAIB8B4FAAAAAYBhyg0AAAADATJWGQAAAAKCnl4VAAAAAgHs9gEAAAAAARw58QAAAACAFAXRAAAAAIAHVcEAAAABAjaZ0QAAAAKC+A3FAAAAAoM8jckAAAABAyYZxQAAAAMBhfnFAAAAAYIr/dEAAAACAlRRzQA==",
        "encoding": "base64",
        "path": [
         "_data",
         311,
         "x",
         "value"
        ]
       },
       {
        "data": "AAAAgN3ugkAAAABgz3yDQAAAAMCmhIVAAAAAQH7/hEAAAACA2IuFQAAAAIBoGoVAAAAA4ITWhEAAAADAGLWDQAAAAIApB4JAAAAAgJIdhEAAAABgmz+CQAAAAGDlrYNA",
        "encoding": "base64",
        "path": [
         "_data",
         312,
         "x",
         "value"
        ]
       },
       {
        "data": "AAAAwLkNhEAAAADASi+FQAAAAEBfFIRAAAAAQH8Ug0AAAACgz52LQAAAAKAqxoxAAAAA4GzQjEAAAADgNuyLQAAAAACPsYxA",
        "encoding": "base64",
        "path": [
         "_data",
         313,
         "x",
         "value"
        ]
       },
       {
        "data": "AAAAoNhBikAAAADA8wSJQAAAAMAskIhAAAAA4GiqiUAAAADA+gOLQAAAAECkeIlAAAAAAPSPiUAAAABgqNqKQAAAAKDb/ohAAAAAADBTiUAAAABArwuJQAAAACBLVolAAAAAQOG9iEA=",
        "encoding": "base64",
        "path": [
         "_data",
         314,
         "x",
         "value"
        ]
       },
       {
        "data": "AAAAoKxrhUAAAABAjhyHQAAAACBr2YVAAAAAoAI9g0AAAADAHAuDQA==",
        "encoding": "base64",
        "path": [
         "_data",
         315,
         "x",
         "value"
        ]
       },
       {
        "data": "AAAAgAzIcUAAAADge3BwQAAAACADx3JAAAAAwD+hcUAAAAAAajdzQAAAAACLamtA",
        "encoding": "base64",
        "path": [
         "_data",
         316,
         "x",
         "value"
        ]
       },
       {
        "data": "AAAAoAHngUAAAACgh3OBQAAAAGCHiYBAAAAAwCRbgUAAAADgf0OBQAAAAEDP1oBAAAAAgOyVgUAAAABA/JSAQAAAAGBc2YBAAAAAoIAKhUAAAACAC3iEQAAAAIDbh4NAAAAAYI8khEA=",
        "encoding": "base64",
        "path": [
         "_data",
         317,
         "x",
         "value"
        ]
       },
       {
        "data": "AAAA4MfIg0AAAAAA4sGCQAAAAMAt2oVAAAAAIC97hEAAAAAgxfqCQAAAAGC5gYFAAAAAgIOFg0AAAADgz9mCQAAAAACm7IJAAAAAgAQbgkAAAAAg+HaBQAAAACDzooNAAAAAIOgghEAAAABA34yDQAAAAIB5FoRAAAAAQEFxhUAAAACAFkWCQAAAAACdZ4RAAAAAgB5mf0AAAAAgqdOAQA==",
        "encoding": "base64",
        "path": [
         "_data",
         318,
         "x",
         "value"
        ]
       },
       {
        "data": "AAAAwIZ9hUAAAABgwk6FQAAAAKDxSIRAAAAAwAl9hUAAAADgvL2DQAAAAKCMg4VAAAAAAJQVg0A=",
        "encoding": "base64",
        "path": [
         "_data",
         319,
         "x",
         "value"
        ]
       },
       {
        "data": "AAAA4BEKf0AAAADgAO1/QAAAAEBjon5AAAAAQLbafkAAAAAgG1J+QAAAAACLXH1AAAAAoDKbfUAAAACAhBN8QAAAAKAs531AAAAAIAbVgEAAAADAUHF/QAAAAODLX4BAAAAAABRwfkAAAAAAmLt9QA==",
        "encoding": "base64",
        "path": [
         "_data",
         320,
         "x",
         "value"
        ]
       },
       {
        "data": "AAAAoKxAg0AAAAAAFpeCQAAAAGB1EIVAAAAAAN+AhEAAAAAglReFQAAAAGDLt4VAAAAAgFZ4g0AAAADA/PaBQAAAAAAi0oRAAAAAgG9FhEAAAACgWpSAQAAAAKA6h4NAAAAAYJaxgkAAAADghVqBQAAAAICHz4FAAAAAgD7/gEAAAABAA3uBQAAAAGD6s4FAAAAAoFwZgUAAAADgWbCBQAAAAMCSG4FAAAAAgDttgUAAAADgP9KBQAAAAKCVv4BAAAAAAEmMgUAAAABgwxGBQAAAACB7I4FA",
        "encoding": "base64",
        "path": [
         "_data",
         321,
         "x",
         "value"
        ]
       },
       {
        "data": "AAAAACbYgUAAAABgvfGCQAAAAMB3fIFAAAAAwGq0gEAAAACgc9eBQA==",
        "encoding": "base64",
        "path": [
         "_data",
         322,
         "x",
         "value"
        ]
       },
       {
        "data": "AAAAgPD6gEAAAACgRneAQAAAAEAwy4BAAAAAIHsIgEAAAADAlTSAQAAAAEAL5n1AAAAAAHgefkAAAAAg/c59QAAAACCjLXxAAAAAgPXsfEAAAABgROGAQAAAACAe3oBAAAAAYGWgfkA=",
        "encoding": "base64",
        "path": [
         "_data",
         323,
         "x",
         "value"
        ]
       },
       {
        "data": "AAAA4BVvgEAAAAAAEZKAQAAAAMCf4oBAAAAAAPO2gEAAAAAgD7eAQAAAAEAqxIFA",
        "encoding": "base64",
        "path": [
         "_data",
         324,
         "x",
         "value"
        ]
       },
       {
        "data": "AAAA4JYghUAAAAAgruuCQAAAACA+l4RAAAAAwC8ugUAAAADgN32FQAAAACB+04NAAAAAIDJPg0AAAACgvIiEQAAAAEA884JAAAAAQKcyhEAAAAAggLaFQAAAAIA7MIRAAAAAwK3gg0AAAACAdjyCQAAAAMCawIRAAAAAIBH6g0AAAAAAnoWFQAAAAEDaMYZA",
        "encoding": "base64",
        "path": [
         "_data",
         325,
         "x",
         "value"
        ]
       },
       {
        "data": "AAAAwAcsjkAAAACgag+NQAAAAKB5S4xAAAAAQPKCjkAAAACgeUaOQAAAAACqlYpAAAAA4DAmjkAAAADAhGaKQAAAAGACCoxAAAAAYBqpi0AAAADgXl6OQAAAAKC24YxAAAAAoEm9jkAAAABg+ySPQAAAAIACmI1AAAAAAKf0iUAAAAAgM0WQQAAAAKAifo9AAAAAABH8j0AAAACA50KMQAAAAGBFyI9AAAAAQIspi0AAAAAAaUyPQAAAAKBg6Y1AAAAAIA0xjUAAAABgNwKPQAAAAMBkiYpAAAAAwK6ujEAAAAAgTeaNQAAAAGDqgItAAAAAoCabjEAAAABAlRaNQAAAAAAs4oxAAAAAwDl6jUAAAAAAo9SKQAAAAGAdeYpAAAAAYF7+jEAAAADgKKqMQAAAACAt741AAAAAgEFJjUAAAAAAqyCNQAAAAICCxIdAAAAAYONLikAAAADgxF6NQAAAAMCzfYpAAAAAgMY8jEAAAADA+AuOQAAAACDSnYtAAAAAIHuYjUAAAAAAMFiOQAAAAEBlAI9AAAAAAPhXjUAAAAAAWneNQAAAAICasIlAAAAA4DNvjUAAAADA7ZaNQAAAAID7nI1AAAAAgPGrjkAAAABg2D6OQAAAAADXT41AAAAAoPLWi0AAAAAAnSGOQAAAAEB8oI1AAAAAgHNIjUAAAABASoiLQAAAAMAdS41AAAAAIBIbjEAAAACgLKOKQAAAAADjHotAAAAAoANrj0AAAAAAQ9eNQAAAAMAdG4xAAAAAQNUAkUAAAADgrfCKQAAAAAATso9AAAAAYKE9jUAAAAAAUomOQAAAAICwRIpAAAAAIOCLiUAAAAAgpPKLQAAAAOB3lo1AAAAAoH0ljUAAAAAgPayKQAAAAEB/XI9AAAAAwMZSjkAAAADAOEyMQAAAACDeg41AAAAAYOIEjUAAAABAmEOPQAAAAACFGo9AAAAAYNfHjEAAAACAuAyQQAAAAKDZNI9AAAAAIObYkEAAAADAubqPQAAAAMCZrI5AAAAAoH7EjkAAAADgg92LQAAAAEB194lAAAAA4EeqiUAAAABgp/OOQAAAAOBjk45AAAAAIN/gjEAAAADglG6MQAAAAKDvpYlAAAAAQIWUjEAAAAAAGTmPQAAAACDH+45AAAAAgNxzkEAAAACAYQmQQAAAAIA4jZBAAAAAAMx1jkAAAABAaZaOQAAAAKDZ3I1AAAAAQDWFj0AAAADAcS+OQAAAAEBdyIxAAAAAQLQVkUAAAABgz8+QQAAAAKBQBYxAAAAAgD7IjEAAAAAAZPmNQAAAAGAYWY1AAAAAAK7LjkAAAACAS/mPQAAAAIBhqo9AAAAAwDscj0A=",
        "encoding": "base64",
        "path": [
         "_data",
         326,
         "x",
         "value"
        ]
       },
       {
        "data": "AAAAAKzQcUAAAABgkDpsQAAAAKCnvHFAAAAAgPZ6bEA=",
        "encoding": "base64",
        "path": [
         "_data",
         327,
         "x",
         "value"
        ]
       },
       {
        "data": "AAAAoMetcEAAAADAPPVwQAAAAGCcBnJAAAAAILHsdUAAAABgiSh0QAAAAAAOdXJAAAAAoGC8bUA=",
        "encoding": "base64",
        "path": [
         "_data",
         328,
         "x",
         "value"
        ]
       },
       {
        "data": "AAAAgAcHdEAAAADgT9F0QAAAAKDzJ3FAAAAAIHh/ckAAAACARaB1QAAAAECk2HFAAAAAoA+bcEAAAADAilVzQAAAAKDHQWxAAAAAgCwMcEAAAABgt8hpQA==",
        "encoding": "base64",
        "path": [
         "_data",
         329,
         "x",
         "value"
        ]
       },
       {
        "data": "AAAAINIrdEAAAADguTh2QAAAAKBMg29AAAAAIOs3dUAAAAAAyrRqQAAAAADHq3BAAAAAgMcmb0AAAACg4uZzQA==",
        "encoding": "base64",
        "path": [
         "_data",
         330,
         "x",
         "value"
        ]
       },
       {
        "data": "AAAAwIWQcEAAAAAAnAFwQAAAAGBY62dAAAAAIJIcckAAAAAACppzQAAAAKAcmXJA",
        "encoding": "base64",
        "path": [
         "_data",
         331,
         "x",
         "value"
        ]
       },
       {
        "data": "AAAAIJ0Ac0AAAACAnIlvQAAAAMAaJXFAAAAAwPLxcEAAAAAAtMFrQAAAAOAkhWtA",
        "encoding": "base64",
        "path": [
         "_data",
         332,
         "x",
         "value"
        ]
       },
       {
        "data": "AAAAoA1vakAAAACgBXNqQAAAAKAXzW9AAAAA4CT3ZEAAAADgt9FxQAAAAAA1f3FAAAAAIBiAc0A=",
        "encoding": "base64",
        "path": [
         "_data",
         333,
         "x",
         "value"
        ]
       },
       {
        "data": "AAAA4JtcakAAAACAMEtsQAAAAOB+2m5AAAAAYF1ta0AAAABAsOZsQAAAAGDCw3BAAAAAQDBecUAAAADg5nJxQAAAAGCPIHBAAAAAQIgacEAAAACg9NxvQAAAAMCK8XBAAAAA4MDTbkAAAACgy8xrQA==",
        "encoding": "base64",
        "path": [
         "_data",
         334,
         "x",
         "value"
        ]
       },
       {
        "data": "AAAAYLoCc0AAAADAlYByQAAAAOAumHFAAAAAYNo8bkAAAADAKSJuQAAAACD9T25AAAAAYAQdc0AAAABA6IxzQAAAAOBbVHJA",
        "encoding": "base64",
        "path": [
         "_data",
         335,
         "x",
         "value"
        ]
       },
       {
        "data": "AAAAAG1SbEAAAAAA/ttzQAAAACDWtW1AAAAAIOVBcUAAAADgiedxQAAAAKA2oHFA",
        "encoding": "base64",
        "path": [
         "_data",
         336,
         "x",
         "value"
        ]
       },
       {
        "data": "AAAAAA4ZckAAAADgZtZrQAAAAKAI/m5AAAAAgGCLbUAAAADAyN1xQAAAAIDxLnJAAAAAYGlQcEAAAADAxaVxQA==",
        "encoding": "base64",
        "path": [
         "_data",
         337,
         "x",
         "value"
        ]
       },
       {
        "data": "AAAAAF8EdUAAAABg0Bp0QAAAAIBhwXNAAAAAQCnFdUAAAACAteR0QAAAAEDtgHVAAAAAQNSLdEAAAACAjc5zQAAAAOCUg3RA",
        "encoding": "base64",
        "path": [
         "_data",
         338,
         "x",
         "value"
        ]
       },
       {
        "data": "AAAAwDpQcEAAAABgsYFwQAAAAGD/onBAAAAAwJTYcEAAAACgt0xxQAAAAEB30HFAAAAAAAC0cEA=",
        "encoding": "base64",
        "path": [
         "_data",
         339,
         "x",
         "value"
        ]
       },
       {
        "data": "AAAAYMKUcUAAAACA2N1wQAAAAGB4M3BA",
        "encoding": "base64",
        "path": [
         "_data",
         340,
         "x",
         "value"
        ]
       },
       {
        "data": "AAAAABAWbkAAAABAC95tQAAAAGDqU3FAAAAAwOxJcEAAAACgJMNxQAAAAOCs0GxA",
        "encoding": "base64",
        "path": [
         "_data",
         341,
         "x",
         "value"
        ]
       },
       {
        "data": "SR8+jPDm5T8ya9r3UmHPvy36dOHectA/92mVXu0Nwb8uAJyAGiLlP+O9Yy2ku9Q/SgU3OMuWuD/xlnIKHJThP7HTc7f5yMa/5Fbe9HYV4T+LqTahfIi1vw==",
        "encoding": "base64",
        "path": [
         "_data",
         342,
         "x",
         "value"
        ]
       },
       {
        "data": "BJkoVNQTwT9d/SFp49XiP/96uYQS9uM/SVw0/oRN3D9wIdmJX0KvPyP7KvuIuNY/Oyt6GfY95D/TfcqAzhjdP07DxPKvbOo/GnahhPQb2z/L1XWtL1bCPwCQrxXeecA/QZ0Kn5tP3D8=",
        "encoding": "base64",
        "path": [
         "_data",
         343,
         "x",
         "value"
        ]
       },
       {
        "data": "JYgrVKji7T/pPAf83JK3P5aQM/EcHeg/ZaZ1T+iVmz8I7NEeA9vBvzm/C5olBeU/7n9mnDeq4T9bfiYlow+DP1E/Od88X7k/ZhChYR6Cm78=",
        "encoding": "base64",
        "path": [
         "_data",
         344,
         "x",
         "value"
        ]
       },
       {
        "data": "wkAcDb6z4T9A2B0RNyflP6JFdPuR0OA/zqZEgnbu4z/2tF5wFnniPw==",
        "encoding": "base64",
        "path": [
         "_data",
         345,
         "x",
         "value"
        ]
       },
       {
        "data": "ymUi3py66D985zpSYU7rPwW1KKECYOg/hYx64YeX5z/MLS9tEYrqP947jjtFn+k/gLdq7/FC6D/x4bESTSvnP6mQYewMWeY/",
        "encoding": "base64",
        "path": [
         "_data",
         346,
         "x",
         "value"
        ]
       },
       {
        "data": "6j06zpSHzz8tvtPVMTXaPw==",
        "encoding": "base64",
        "path": [
         "_data",
         347,
         "x",
         "value"
        ]
       },
       {
        "data": "6zQX4Q2e5D82ESRHhn7mPxVIQ0OThOQ/C/s3kvPR5j9o/VVChUPoP9bolVdhCuQ/FDX+0Hvc4j8=",
        "encoding": "base64",
        "path": [
         "_data",
         348,
         "x",
         "value"
        ]
       },
       {
        "data": "nA5otWzh4j99i9nRdfrhPwSxgNUARtg/5uNl1Q6K3D+7pV0zTrjoP3GebHfLNOY/2l/EiolB3D+xtFRl3XHjP5dIqfiakNk/GJ6XKdqJ4T+I3tifP4rkP34+2wptC98/i4q5ZN4I4j+ylQ+A2CvXPz6JrfIhauE/acgMNOWw4j/gVzdhIHncPw==",
        "encoding": "base64",
        "path": [
         "_data",
         349,
         "x",
         "value"
        ]
       },
       {
        "data": "59c0NQWm6D+7pbtpcGznP0Dm07sfBes/s2FE1iCB6D82bIU5EvvdP3cIRyWPqOU/lYtDD4tK4T/jgk1+4MrkPxUrU9K9s+Q/3zI0zczU0j8jR5CtrbjjP6uttBTGzOQ/",
        "encoding": "base64",
        "path": [
         "_data",
         350,
         "x",
         "value"
        ]
       },
       {
        "data": "kwyDQkAX5j+BX1ZDfHjmP/pCWK7vB+Y/97TT0OKE5D8vuxFVIZroPwLxWa+MCOc/1ooSEto25z+4DBI13TjnP/yEcNpSbOY/",
        "encoding": "base64",
        "path": [
         "_data",
         351,
         "x",
         "value"
        ]
       },
       {
        "data": "RKMM7KFR5D+j/+4kudXhP7Vo9ToDveQ/xhPDZNTd4j+MlmkJFsPkPw1NQDa7k+M/vdojO9VT5D8iVNmT9tXmPyB2Rz7PKuc/PS0qDchw6D+OJ+7L7IzpP8l1TveyBOQ//J6jCAyn5j8=",
        "encoding": "base64",
        "path": [
         "_data",
         352,
         "x",
         "value"
        ]
       },
       {
        "data": "t2xA81u64j/8No/iI0HjPzqudPH7VOc/B6Y7SfIt5T/AyrX941LhPw==",
        "encoding": "base64",
        "path": [
         "_data",
         353,
         "x",
         "value"
        ]
       },
       {
        "data": "F++Z1m7m4T+TOLO32GLiP79eX/hS6OQ//7IhB5bC4j/ZgU3EPKPhP0XpC+5KS94/",
        "encoding": "base64",
        "path": [
         "_data",
         354,
         "x",
         "value"
        ]
       },
       {
        "data": "NgcJ6gdd5z8iJdLRysnnP02MRDZjZ+Y/I3+TBjVV5z/HyUfyUzDqPyKTmjn+8OU/KP5VWZrr2j+aYq8gg4ToP8+ntDhBkOo/KtXm3xsX4D+lDhQgKrDiPww71p9YguM/3G7aGsCP3j8=",
        "encoding": "base64",
        "path": [
         "_data",
         355,
         "x",
         "value"
        ]
       },
       {
        "data": "Mny9IOxp5T86XBiVfRLjPyQq6zc5D+E/2Ea8sRNF5T95Ypl5HlHkP2LhDvlG0uU/ylLlJCDW4T8XaW72G6HeP7BW2oXCf+c/3pdP2fbz4z87fAL4jyTkP7MwzTW2I9s/mrEANjx24T/X8QnupnTVP1yMvTcv1dI/7BzdKJvW0j9+ItVhU+nYP9ZDWHF+ds4/FnATsjbC3D/UD3x9eqDcPw==",
        "encoding": "base64",
        "path": [
         "_data",
         356,
         "x",
         "value"
        ]
       },
       {
        "data": "UX4f6moC5D+RHwDLodPlP4RmvoLVXOM/+IcCIV5P6D//bm23MkHmP7Rww3yx9+g/CjsGZWla5z8=",
        "encoding": "base64",
        "path": [
         "_data",
         357,
         "x",
         "value"
        ]
       },
       {
        "data": "q4ORmpf05T83UpKvAevkP3HqGYL0M+A/hutG3z9/4z9OnnA5i6rlP61Wo89Y2+E/uuNYb79q3D8u9+jZFgjiP038PDUW9eI/TUCgEPo/6j9EezOgOV7kP9dnkwuUQeg/haVobyCU4j9fvTFCZm3nPw==",
        "encoding": "base64",
        "path": [
         "_data",
         358,
         "x",
         "value"
        ]
       },
       {
        "data": "zr35oegS5z+5GeIl3O7oP1zdxTa+AeQ/gKN6fT0M6z9OoEn8IE/aP9b9rkNxF+Y/mNossuPh4j9/0R3SR7DlP2d2YX/4teY//d8wV6hv5T+oyKvI+yDdP5oUQitOQd4/lr7hv/oP4j9IntMJJcroP0xaoGxVpeE/vI6EAk/74j+hNjKE2xPmPwGZTu4TouQ/OvmjRsu95T9dfxnAxaXmP5Rr34vwL+w/si3KnykA5D/soVysiw3rP9QfcAmGdeo/OG23mqYO6j8vy2kHQNrjP9IPaNrnLeU/",
        "encoding": "base64",
        "path": [
         "_data",
         359,
         "x",
         "value"
        ]
       },
       {
        "data": "4OWCkN0F5z8IBXPJT7rsPyN8sJe4gew/qlmo5SJS5z8eevt1d73gPw==",
        "encoding": "base64",
        "path": [
         "_data",
         360,
         "x",
         "value"
        ]
       },
       {
        "data": "ZMhMq6/+5D8PQhn8PRrkPxcyaQ+kNeI/gy9V0S5e4T+8eTBTUS/jP1rtGIn9++Q/ked6p+PI4j+hXkI5ainjPzn5OcbYAN8/apPGC7y34T9t6TwreKjqP7o1tsXgoeY/GnIw6bVX5T8=",
        "encoding": "base64",
        "path": [
         "_data",
         361,
         "x",
         "value"
        ]
       },
       {
        "data": "hyWj64ze6T+vyYhaTBfrP75klubGFuM/HWir+LLv5T8B72/ZL2bnPxRpatvp4eg/",
        "encoding": "base64",
        "path": [
         "_data",
         362,
         "x",
         "value"
        ]
       },
       {
        "data": "SQ09l9YW4D8GJ5yOvZnlPxUwcYPYn+U/cvXta90P4T+sLTP6z5HiP/MSsJF5COI/Tg7bGJmF4j9+oY7b8iLmPyHmkGloyuI/ocLOy2gy4z/uu63kC/7qP2yGKpA4ieI/sbw5Wfct4z8+isodrsnlPxU56BO6LuQ/3HH2DgTM3j/8J3xONnjkP75+25nE1Oc/",
        "encoding": "base64",
        "path": [
         "_data",
         363,
         "x",
         "value"
        ]
       },
       {
        "data": "dWU1CV6G5z/g1eB5T/jmPx339x/HEOY/HIJRo6fC5z9IMt7qq4DmP11kiQt/3OU/8IlL5iqN5D8nXt0aSXPoP63RxBNedOk/VYouUKDQ6j/w9qGV9UHpP4bNYMZJdug/O6LNv3Uv6D+4lXJkvrXoPzVkGh0w/Oc/fTfu9vFV5z9/pJkm7MvqP7yMtLPYMeo/kSFdveoA4T8NWfYJDMzmP05ZDKkuteg/neAxyGKu6D+jDMhaXe3mP51MLiN5I+Y/XQkYeGTE4j+nr5iTkBXlP/izZdrnweM/5rZ5On6H5T/tTOLv16flP15iu/YLZOY/pEUXRcrw5j9RGuKIkULoP1e3KSv63+c/E6iu6Wwi6D/lswZ7C7vnPyjja5Os2Oc/lBMnfTLT5j8FBlbak5LoP1j5q3WskOg/v5JLGvUW6D8T36KNvSfpPyit+oPqbeo/F5gyMfDB5j+lfEgqNQboPy6zKbMh6uM/2mdx5oH06D/z2jtbNzroP1TCPac8oec/XeLQFJHm5z9rId79yuXnP/PFG152s+g/3Z5x+Xyl6T+7J0y1srXoP7Xkskqyhec/zWeUbFCN5z+kiOUzLw3pPxPBGr3f4Og/5X2cw7736T+Cjvh7ds/kPz9W65Ra2+k/oznSzElY6D/XTJlEHgnmPx2tqgh5iOk/wvVRBVDK5z/hKCwtgJPnP85VqW5Mm+g/Ob68hg4z6D8hbRUAJj/mP8EgkRPDLOU/Xi0aXHvP5D9UChQ4kxPoP8gA7DDGruc/ibN0Uiylwz+Z0I7F2+HoPwS8uiQkeuU/lGJ3v7ls6D/Pnm8KWsrnPwgA75lwzeI/m+nYHqU75T85cc7KxLjlP11WtIvL3ec/m8yuADyk6T8jo8bNYA7mP08fbugY6OY/T3gECAky6T8UTjDvdvDmP0guimj0Yuk/4mIHhcpA6D9ZhYzZ/qXnP4xSAiltauk/bch969DY5T+BOpAD/rTmPzk50q5nUeo/amXTiEEA6D/6s6XCnmvmPyrwycNeKek/Ao2z0Xzx6D/+NRqJ3T/oP+/JxPB4gOY/OGKG1/4X6D84Va//QxrnP6rx+gHBwek/jXmaGSpB5z98KhYL9j7mP+ENEaDvwOQ/Q3Og53WB5j8GtH1VBHbpP6k1dRpKheg/dErIG5C65z8ZvtZYMZPoP1D8qmACkec/HTqSaMgp5z8zm7CACXTqP2Fi6Z0jJ+g/HMIIJJ5h6D84BVUV3F3nPwle5WCsIuY/ThXYeIAE1T/vvhf7z3jmP4brSof/TOc/8UryZxqN5j9YKCXHBX7lPwGXBP6Xhuc/nn2FruSX5j9rtNioPzbnP9igN+vFhOg/X4FNJTtN6D8=",
        "encoding": "base64",
        "path": [
         "_data",
         364,
         "x",
         "value"
        ]
       },
       {
        "data": "UVQCWXCq5D+VftKGhgXYPxoFybg2e+E/fnVCO1CP6D8=",
        "encoding": "base64",
        "path": [
         "_data",
         365,
         "x",
         "value"
        ]
       },
       {
        "data": "jgKOH33Q6D+QQ3JvdOblP9bb7ZMcKug/7oEhM0806z/7XBe/kmrpP08Ea8B4Huo/kkdal5Po4D8=",
        "encoding": "base64",
        "path": [
         "_data",
         366,
         "x",
         "value"
        ]
       },
       {
        "data": "DJVKpwJ22z/4eSUZ4DHZP2oG40MbueU/DesRT4Yf4D/qfQ+M1qjRPwdue97ujuY/RkzuRLyp3z//RlM1TYHVPzuOiFhFiuQ/Xi8s77os5D9WIWuzbE/gPw==",
        "encoding": "base64",
        "path": [
         "_data",
         367,
         "x",
         "value"
        ]
       },
       {
        "data": "Vw1rmbvr4T/Ogt5wdBvlP40e+PMtr+E/hT/cB/jy4D9i2NhQLY/dPzmw3BBizNo/oXFbV4qj5T8X9vlYx7TjPw==",
        "encoding": "base64",
        "path": [
         "_data",
         368,
         "x",
         "value"
        ]
       },
       {
        "data": "JupREZI14T8Q433K/9vgP1FvLgOZu+E/UL4uXk3+4D9ssaBvTxnVP4rZQKE/t+A/",
        "encoding": "base64",
        "path": [
         "_data",
         369,
         "x",
         "value"
        ]
       },
       {
        "data": "VD2G1ePI0z8E8hsZKErjP/5hknxbp7W/w4hKyjfvtb+N1oYdXiXMP20MHzWY9eY/",
        "encoding": "base64",
        "path": [
         "_data",
         370,
         "x",
         "value"
        ]
       },
       {
        "data": "AbYUzjHT5T+ILzLXYhjmP1BLpw6QBd8/B/5bSeXs4D+/Bk/9zeTdP+K9roXwIeI/WnDSlEZU4j8=",
        "encoding": "base64",
        "path": [
         "_data",
         371,
         "x",
         "value"
        ]
       },
       {
        "data": "6yhxBgC51D9AFipecRrpP5VUCstD1eQ/724aJYU45D9jV8WhsFrWPylVAN7+JuI/jKfGXjFb2z8/h2zLhJjcP8y1PREjxNQ/2JnlHx2GxT+xAu5SZTnPP+JZNSHibOI/XS0ZP5R85j+fQl0sQcDlPw==",
        "encoding": "base64",
        "path": [
         "_data",
         372,
         "x",
         "value"
        ]
       },
       {
        "data": "3CvuEcCK6z9I1pcHUFLkP9RmK3bIqOY/tHs4CbLa4j/sBsJ+E1zjPxUQXprSq+U/A+ukA9965j9hH8bCsG3nP/cmyLZI2uU/",
        "encoding": "base64",
        "path": [
         "_data",
         373,
         "x",
         "value"
        ]
       },
       {
        "data": "OR/z+GvfqD8fVUiuv9vSP6CHwgxqrKc/Rx2vGeYP5D+B21yPfG/sP8DYR7nbwOI/",
        "encoding": "base64",
        "path": [
         "_data",
         374,
         "x",
         "value"
        ]
       },
       {
        "data": "8Wi/6Ew/3D8yDCuRZx7dP0WxG0U37+Q/Mtx+oKnq5T/xMvYNzSXmP8BDYeUVGds/wneQVZBHzz+iYMighyffPw==",
        "encoding": "base64",
        "path": [
         "_data",
         375,
         "x",
         "value"
        ]
       },
       {
        "data": "uydys6Kl4T920zpeD4HjP6zXi8Mqb+M/lzPx7kW64z/fXIY00WzkP+wZdWHkRtk/3E8DCTZx4z8vhSdkv0rmP7gdH1fgs+U/",
        "encoding": "base64",
        "path": [
         "_data",
         376,
         "x",
         "value"
        ]
       },
       {
        "data": "dv5mxpPb4j/4r1ZKcOWuP3lZic/6NZ4/2rg5jB+i2z9rS1Of1YTSP/gRw9uxGMg/DLLlDhjT2D8=",
        "encoding": "base64",
        "path": [
         "_data",
         377,
         "x",
         "value"
        ]
       },
       {
        "data": "0GZaN75Y4j+57E+TkDzWP5k/DGZjX+E/",
        "encoding": "base64",
        "path": [
         "_data",
         378,
         "x",
         "value"
        ]
       },
       {
        "data": "Cp6IJnhL0j8jSNG82DzXPwZUEe0vB9U/nlb7Z4Ws2D99Tft/IQ7iP0bC7y/uwOA/",
        "encoding": "base64",
        "path": [
         "_data",
         379,
         "x",
         "value"
        ]
       },
       {
        "data": "+UHQaf+pUT6z73Zua4JgPt35rAcgLWE+EomZH98uWD61851NDxBXPpvZ+OY7RXI+DO64KC8lYD5AfNCNQk1kPscNcqv/PFw+3rtNYxsbbz7OG2EfYcJhPg==",
        "encoding": "base64",
        "path": [
         "_data",
         380,
         "x",
         "value"
        ]
       },
       {
        "data": "CRl+Y/2FcT7Fx8miCepTPs+9pzHB5XE+FUa0sdlWdz7Om0b65y5iPojkJileH2s+PPjt/GD1Yj4oUPrN/FZlPiSu7mqCzF8+WrA+qUtFcT5Mhm1Cz19oPsj9vL9JamE+nVZb6jEtcz4=",
        "encoding": "base64",
        "path": [
         "_data",
         381,
         "x",
         "value"
        ]
       },
       {
        "data": "hphW14VScj49uqY8m5V3Pl9bTaxIbHI+9Xsr9q3IbD61y7xyvwxiPj7kJY+9jGg+bTcalCAddT4OgjitLoZyPnRPlLoeHHw+LgUuBvtUcT4=",
        "encoding": "base64",
        "path": [
         "_data",
         382,
         "x",
         "value"
        ]
       },
       {
        "data": "VzOZ4jd0Qz6FrWrslAM9Pm8aMWBVxD0+L/yqj5vfTT42/hVvckk/Pg==",
        "encoding": "base64",
        "path": [
         "_data",
         383,
         "x",
         "value"
        ]
       },
       {
        "data": "L5Hc1+20NT4tf0WJPKIrPnGtm6roGCo+Wso1ln+pMD5rNYXrsz41PtmrMTrKCTM+J7jDR31/Mz6gCZPXTU43Pj/d8PTuMTs+",
        "encoding": "base64",
        "path": [
         "_data",
         384,
         "x",
         "value"
        ]
       },
       {
        "data": "3P7HJswhQj7bGA0lzC49Pg==",
        "encoding": "base64",
        "path": [
         "_data",
         385,
         "x",
         "value"
        ]
       },
       {
        "data": "pVLeuQewKz5CPLhPJxdAPlBUqElnvzg+G9n/Rh2RPz5Ft/mGJIxGPuPFtJB7yks+veuw7h76Sj4=",
        "encoding": "base64",
        "path": [
         "_data",
         386,
         "x",
         "value"
        ]
       },
       {
        "data": "pGQA1m2QTD4oKOM55jdDPqURWgtBhEU+KbFzYzkxOT7q1GKcJjMyPve9MSKlpjA+ZpdWf6oWTj4bVs1uGt1KPvUFR9rBgUE+8HM1tro2UT7sQWZiyxpcPuMtRfvrIGE+uopyK3MJRD7Hbl2NQgJhPn3BZ0t21Ek+CllJ5EX6Oz5U++6GdDBTPg==",
        "encoding": "base64",
        "path": [
         "_data",
         387,
         "x",
         "value"
        ]
       },
       {
        "data": "6sn/hNJCSD7mgXmKRTc9PsOb4ztTflA+ltsmcOElUT7gcw0dgU5dPi7kn277u2E+dKmewZr1WD7B3K41P8lZPivH0/f/Pl0+Xk0YzoAUYz5F/cyDVS1ePlk3JerGhWE+",
        "encoding": "base64",
        "path": [
         "_data",
         388,
         "x",
         "value"
        ]
       },
       {
        "data": "tfwl/t/TQz5aTDxgQz00PhfBv+kPtjc+7K2LvRfyOT7Llz4XjpwxPvBtXcQ7OD4+7FvwqM5YRz6xU24fhGA6PhVo0sss4zY+",
        "encoding": "base64",
        "path": [
         "_data",
         389,
         "x",
         "value"
        ]
       },
       {
        "data": "zTEJNO81Qj4yXivRtA48Pt6/wPrgqUQ+29oxmFgfQz7HRt0N3JBAPv+UGKJ9wzg+EmGbY4UCTD5QWnXTbLVGPrbd6adn1UQ+a4cLBKJ4PT557iXvLfVRPpg6/0Ood0A+agXR7oHmPT4=",
        "encoding": "base64",
        "path": [
         "_data",
         390,
         "x",
         "value"
        ]
       },
       {
        "data": "Dgw+EKGkTj7bwGMd935OPrSorUaRelQ+H0HOS6TqUD5dZRVEeuphPg==",
        "encoding": "base64",
        "path": [
         "_data",
         391,
         "x",
         "value"
        ]
       },
       {
        "data": "oEwgKbdsQD71bF25uTU1Pn5IScb7ZE8+bPnm9VkdPT72aeyLHMMyPtW19CbrdjA+",
        "encoding": "base64",
        "path": [
         "_data",
         392,
         "x",
         "value"
        ]
       },
       {
        "data": "LgRs1y8oQj7lLmZyZ6BXPlB5C2mWfFY+8vUYstuCVT7EDecyGudKPi5kkY5Bg0s+65aitDyMWz63ah5J0QJTPjlYRkQyRUs+wWYAX/H0QT52rK6Y1epUPsk7qKb+LVk+pqRMVitZZD4=",
        "encoding": "base64",
        "path": [
         "_data",
         393,
         "x",
         "value"
        ]
       },
       {
        "data": "xaPufQ3JRj7XXCQf9DxLPtqitDRxXkw+DUgSLipiUz54lioY7SZSPl0N1z4zhls+HeTIwP/iUj4edtJmPW9sPvN5YG6siFc+ge/SmnRYUz6BTLDlVfRHPovt0CGXVmM+j5A4ZIaHZD5Fbw58MwpZPttLt+HaeWw+sGYRvKZqYT4whfHGLxdgPszho5RKAWE+9YfL6pZeQj4H5CPRpApcPg==",
        "encoding": "base64",
        "path": [
         "_data",
         394,
         "x",
         "value"
        ]
       },
       {
        "data": "9XuiZ1eyRz4o2WMQ6uNaPulH5tMbq2I+S3UvRLwgWj77AyvSaoFhPkuf4UumHVo+35iLXhkqYD4=",
        "encoding": "base64",
        "path": [
         "_data",
         395,
         "x",
         "value"
        ]
       },
       {
        "data": "3TVtHZXkTD6alNow3xhcPuqFMh2MpGM++6cOfSyyYD52hX9indlIPkohEV6TbVg+BB12KQUEXz7wi2CmhTtcPuNTPFNdF1s+NakYPGvjXD7RZK1MXLZTPnYvaHmudD8+UAjQxl7GSz64XLuZYWdhPg==",
        "encoding": "base64",
        "path": [
         "_data",
         396,
         "x",
         "value"
        ]
       },
       {
        "data": "FhIT/6wRWj7uk/5+YJlLPhAT3Pq8b0I+FS7kaWKdSj6IwJCydtBgPiYtdkl89Us+PAZFyDivVD6m2CuMd5ZRPsN7FP3AOjw+a8jb0NmRQT4v7BQx9MhHPhz+/mwqZGA+NMLTM1snWD4DzT06mj5WPlbiG6SHRVo+VsSsQPXnUz68ndqgHoZiPs7U3Kzwy1M+idHYXDMtVD7CsGlOO1hRPuFgODT2a1M+R5hsqbzISD5Lkw0GlwNWPhd7sQbfCFM+HVruEjZ3Xz7O4OMUl1lEPhqisneSWFQ+",
        "encoding": "base64",
        "path": [
         "_data",
         397,
         "x",
         "value"
        ]
       },
       {
        "data": "fCTvfILjUz6JUCNMQv9gPldQ9Rfw+18+bAonRO5SXD55rgIlYwtHPg==",
        "encoding": "base64",
        "path": [
         "_data",
         398,
         "x",
         "value"
        ]
       },
       {
        "data": "w3Z41MbQRz4yLz1CJu9TPkTDC78Jelo+AoS+6yWWbT4cLt6fehtYPoIvt1I3X2I+s/jhqkc9Tj5K9OspPk5PPtejcKSzUlI+Rj/nVQCLVD4CMTcQrqdNPv9OvBaSjmE+OKNL9i/CYj4=",
        "encoding": "base64",
        "path": [
         "_data",
         399,
         "x",
         "value"
        ]
       },
       {
        "data": "bolc6jstVz668LvAs9NiPuSyVk98zWA+ga0d+/CKXD5pA39djedpPgdE8tVaJmw+",
        "encoding": "base64",
        "path": [
         "_data",
         400,
         "x",
         "value"
        ]
       },
       {
        "data": "s37HsfFMOz7Db4DE91hDPjyzSW29H0g+vgFqgpR8RD5J/+92z0BbPudfHogEx1U+Pw0xHPIsXj7XoZWSukNfPkKDfOWW9V8+pCtDTvOpXT6JA1Phc7U7PjlO4GQZ0Ec+1J3Ugj6YRj7sB12SDtdTPi07hMTIfko+Bqlth57HSz4imNal6EFbPhu1t8n6/FQ+",
        "encoding": "base64",
        "path": [
         "_data",
         401,
         "x",
         "value"
        ]
       },
       {
        "data": "UtEyjFrvVz7V0nX9+SZlPl2+cAxR4Gk+OSqX98JKXD43k8DhkBxmPhqGJjrxJlM+iX8ByyN/Xj6Pro5juGdhPnB1FQCIwFM+YEywbtJnZD4rB8uC8llUPkdG5Iv3Olo+B1XDXp/0XT4FsCQWTwhlPhyf6MOSlFw+qrkwJmy9YT5gQEL/wAtOPvaCcgw+AEQ+7r40NaQxTj4ot4li1axbPpo+Tl4eWlM+JOabqL9AVz5RlR3FKKdQPpC0Qq0grU4+YDfWIj7bYz7yeBo3Lv9iPqxcJnsOk2Y+SulD53mHXD7fbQqlUa5kPk1yrmnYclc+1BWXQIBaWj4mGxSFq1NNPvCrSsZHf0k+WJjiW2bjST5Kww/e1t1RPqFfjjiT+WU+Ekzt4jJ2Tj5gdK94VvlgPji46UqEQGQ+likGCrr4Wj6WHRpNQtVoPuewsMLvBmY+7ckj/g3mZT42H0GNMAZfPld3taAS7FA+ltvje8+iVz5f9Or+rhFXPj/4yNoQLmg+5HXQwWl/UT7e4gw3FgZRPkrbLOGnq1k+yjyv7+aNVT7HsNMifyJgPhbeJBnCvlk+pPW1pjVzSD6uEUtwkV1aPrPs+vuF4GA+5VONk+YbYz5KYAvf2vdjPti75/WexV4+fwcg6sNOUz6B227RtkRfPmxfbxKobF0+auDjyWscWz7XGruzmBNGPh552YgJHFU+hsqrZwegZj6yh4rt3dRgPlB8IvnT5lI+OT9WvUrDUj7OMomrKZNSPoiKujO0kV4+b6WIDRoXVz68+gVlGPlgPu/l8WetQls+WDemd7ckSj6ZfMPtxXxUPjD+aCSPnWA+/3f3Gb2rXD7FNzNSapVgPsKkbcurelU+lUbXUS8oVz6LHd+3D4htPr8RVbLuTGI+/Q/N0XpqXT6q/Gy+1OhOPlFIJz91clg+fCutemonaT48bqQkq7NQPiMvI6o9zlo+0cHbihYoaD7sb1xkNDFmPo7MO8r0pWI+zsUjSWlCYz47qaIqJ69ZPpe9p3QGI14+Lw5Fd2x7YD7wNEjxB+BmPqP+gXLteGk+9BWjym1TWz5EjNnjq1BRPh9FgSGrOVE+J2uHBt31Zj7BzJRGm/FjPiEMvVU+CmM+GIFShz6aYj4VThDCljFXPo/8N43galo+PpFYMOEcWD6mRy70gYtTPhnh21qoYWM+Rw2lYTyHaj46KaSTqs1dPnm0gl5mamg+s8X2NZp6ZD6l1l0nRcBbPrbiOArQxFo+oKFG/IwfXj6Lae5GfMhvPpkzM8NNj14+6slLXYHoYD6H434I4zVhPk5A9YKPa2Q+ETw0hr8+Zz4I/a3+pMJcPj0ahPplElo+jlErU9tFaD4=",
        "encoding": "base64",
        "path": [
         "_data",
         402,
         "x",
         "value"
        ]
       },
       {
        "data": "kRXq6uJoZT5Y2RKmR4VdPmg7vk8gzmA+Le3ylUvKbj4=",
        "encoding": "base64",
        "path": [
         "_data",
         403,
         "x",
         "value"
        ]
       },
       {
        "data": "/XulhDhSfz4mgO0s3UxWPtYsUOfsj3E+cFAZCalLhD4FPrNzthh4Pl/83kHnCG4+P0Nm+Jwecz4=",
        "encoding": "base64",
        "path": [
         "_data",
         404,
         "x",
         "value"
        ]
       },
       {
        "data": "g5PSB5amYT585FRvN/9nPhLZ7Goiv2c+ZMg34unnYT6QdXLq73xvPtHoNwM6C2k+C4AW4yt0cD5DwVGLAzRoPppSYSZlK2Y+TQ6QkYgWYj63v6+mzMZtPg==",
        "encoding": "base64",
        "path": [
         "_data",
         405,
         "x",
         "value"
        ]
       },
       {
        "data": "R3aPxmugcj48Amnb8QJuPny59kjNQ3s+6KJUqyPAYD65IIb18z11PtSRdN9iO24+k5dkVN/bbD5slbZuDNlwPg==",
        "encoding": "base64",
        "path": [
         "_data",
         406,
         "x",
         "value"
        ]
       },
       {
        "data": "EdVGjCnXYj6m+Lma2WhqPnHRpLtERHc+2F0hmJwmfj6bTHZQT7h2PoDmjTalbmc+",
        "encoding": "base64",
        "path": [
         "_data",
         407,
         "x",
         "value"
        ]
       },
       {
        "data": "O79WO5Thbz7lDnRIpURlPuaqKoANX2M+yMFmNP9wZj7XRanblzRpPpqQ8ijwL2g+",
        "encoding": "base64",
        "path": [
         "_data",
         408,
         "x",
         "value"
        ]
       },
       {
        "data": "RO6iJOpzZz5JzD8/vQdXPls6J+oE2Gs+qO422m0dcT7xb7vdu6NqPqUTagKI5GI+lX43iGHPaz4=",
        "encoding": "base64",
        "path": [
         "_data",
         409,
         "x",
         "value"
        ]
       },
       {
        "data": "pEU4ox8OVD5aUR6k3jVEPivlHgwpzzk+KISPX7azRj4jb74tqYpDPmgaEZcFzkw+lUZMIFlITj6rPYmflLxUPv5TTNm/pFA+3X6SxiBgZj6URgSy5U89PiH6BH3Mb0k+fs1CwKHYOD6lNmJKlPxSPg==",
        "encoding": "base64",
        "path": [
         "_data",
         410,
         "x",
         "value"
        ]
       },
       {
        "data": "Py2sT0S2PT5jIkctvm9SPr4Geywwb2A+/hEYfs3fTj6pyo4r1CVQPr1bfZWHyUo+hcCKHGbfTz4BTLGbxMtPPvKdM8dDoEw+",
        "encoding": "base64",
        "path": [
         "_data",
         411,
         "x",
         "value"
        ]
       },
       {
        "data": "/a3wIbv7XD5nu9zfj6twPm2rYkQXcGk+2HAlM997ZD6o+j3Y/PZkPlbguc6Ss14+",
        "encoding": "base64",
        "path": [
         "_data",
         412,
         "x",
         "value"
        ]
       },
       {
        "data": "RV/+NBEYZD6+BnssMG9QPjWgVdr1KFA+la3cw/VBSD66Ww9nmMZcPmeeFbDcZUw+AfGZuWZlYT5j0e3jIwViPg==",
        "encoding": "base64",
        "path": [
         "_data",
         413,
         "x",
         "value"
        ]
       },
       {
        "data": "J1TIW0d0Uj7Jt6qGaWtJPgdWPlI0YFc+ePlgTx5FRz7JwI4b1IRRPuJxATkOAkk+hTtqkzQtQT7nmxHq24pNPn+kLIq3QVQ+",
        "encoding": "base64",
        "path": [
         "_data",
         414,
         "x",
         "value"
        ]
       },
       {
        "data": "gsDH6n/ZTz5bpTB24cRdPmFND7CiKVk+bWF48itKZj5VN02HARBFPqwB+jErZFA+XvGQ7dMNVD4=",
        "encoding": "base64",
        "path": [
         "_data",
         415,
         "x",
         "value"
        ]
       },
       {
        "data": "d6sxIAZjUT6/0kXL+UBQPokZOzA3+UA+",
        "encoding": "base64",
        "path": [
         "_data",
         416,
         "x",
         "value"
        ]
       },
       {
        "data": "lvkcyk3dYz4CuE5UjJZVPnfDTGNzKFw+s7zVKnivXD7i7CRMh3VhPqCU8lsPR1g+",
        "encoding": "base64",
        "path": [
         "_data",
         417,
         "x",
         "value"
        ]
       },
       {
        "data": "+UHQaf+pgT6z73Zua4KAPst2gwuww3k+V+t/55Y6fj6icAUhE9R8PpvZ+OY7RZI+EmUVvcY3eD5gurjU43N+PscNcqv/PHw+5kx6ilRUhz7OG2EfYcKBPg==",
        "encoding": "base64",
        "path": [
         "_data",
         418,
         "x",
         "value"
        ]
       },
       {
        "data": "CRl+Y/2FgT62OXwLjOR4Ps+9pzHB5XE+kDRHRSOBkT7Om0b65y6CPmYr3Z6GV4Q+WvRkexFwfD4oUPrN/FZ1Ptcs1YLR34M+hwjeffHniT65JNJx20eCPsj9vL9JaoE+nVZb6jEtgz4=",
        "encoding": "base64",
        "path": [
         "_data",
         419,
         "x",
         "value"
        ]
       },
       {
        "data": "yOQBw8h7iz49uqY8m5WHPl9bTaxIbII+9Xsr9q3IjD6QMRssHxN7Pj7kJY+9jHg+bTcalCAdhT4Ww9QDRsmLPpc77wsXFZU+LgUuBvtUgT4=",
        "encoding": "base64",
        "path": [
         "_data",
         420,
         "x",
         "value"
        ]
       },
       {
        "data": "wlns3r7ihT6FrWrslAN9PsgILgoQ6Hs+JD3Aq7Rnhj6M3kH6rGt5Pg==",
        "encoding": "base64",
        "path": [
         "_data",
         421,
         "x",
         "value"
        ]
       },
       {
        "data": "VSPYkotraD4tf0WJPKJrPsM3SJXL1WY+lpkmdXfedT4V4sysyOpzPhuRjpYt2XE+O5Sl6zs/XT4HzHdN4SFdPkeKFlk1/2A+",
        "encoding": "base64",
        "path": [
         "_data",
         422,
         "x",
         "value"
        ]
       },
       {
        "data": "Sv4rOrIyWz6k0skbGeNVPg==",
        "encoding": "base64",
        "path": [
         "_data",
         423,
         "x",
         "value"
        ]
       },
       {
        "data": "Z8uXjYXmcz7bUp0N1h92PmRpEhxB724+iduPcguYfT5Ft/mGJIx2PmqUh6zc13Q+VpMuVVPcgD4=",
        "encoding": "base64",
        "path": [
         "_data",
         424,
         "x",
         "value"
        ]
       },
       {
        "data": "5j7ApUTacT48vNRW2dNcPg6WME5R5Wo+KbFzYzkxaT45AikGWVZzPlRJ4by42nU+jfGA3/+QZj6UABrT0yVkPvCIaseiQmo+8HM1tro2cT5xscyJGBR1PtTE5/hhsXk+YzkExkSIcT7Hbl2NQgKBPn3BZ0t21Gk+CllJ5EX6az79eGbKrshsPg==",
        "encoding": "base64",
        "path": [
         "_data",
         425,
         "x",
         "value"
        ]
       },
       {
        "data": "KMOf1SxLez4RWeQdF29wPqVp1dl8vXg+fJIwzFlvdT5saCiyEFGCPjrdR0r6KoY+0FMGcgEzfz6RJUNo71aDPntc5PpfR4I+tmCeAaHZhz5F/cyDVS1+Pi+FrqQ454U+",
        "encoding": "base64",
        "path": [
         "_data",
         426,
         "x",
         "value"
        ]
       },
       {
        "data": "eTt0/VNDez5aTDxgQz10PvTIh+xNv3Q+LjjaxdSzdj7Llz4XjpxhPteNdJ6h/3A+blDS07RtdD6xU24fhGBqPhoCx/73m2w+",
        "encoding": "base64",
        "path": [
         "_data",
         427,
         "x",
         "value"
        ]
       },
       {
        "data": "QX4LAWvDZj5s8gU33oxoPs0fIXjR/m4+29oxmFgfYz4Dk4eWZet6Pg/5sxPWHnQ+EmGbY4UCbD6aBeRtGox5Prbd6adn1XQ+Gu3HYu9CdD4Yau9qeXJ2Puwhf0ydhnI+DJNVFqnRcD4=",
        "encoding": "base64",
        "path": [
         "_data",
         428,
         "x",
         "value"
        ]
       },
       {
        "data": "jEo27gzQij6yDOHHKMeIPstdg2/jCYc+i5k76KFChz4IEpiMySeUPg==",
        "encoding": "base64",
        "path": [
         "_data",
         429,
         "x",
         "value"
        ]
       },
       {
        "data": "8HKwvRKjaD5wIwyWltBvPm4fgE1ceHs+essO2S0EdD4vLGBjDn1uPgR6kFWDo2Y+",
        "encoding": "base64",
        "path": [
         "_data",
         430,
         "x",
         "value"
        ]
       },
       {
        "data": "OgVHzTuyZj4so8yVTbhxPvyayM5w3XA+8vUYstuCZT5TSi2mUy1kPp3eGvkIMnE+65aitDyMaz63ah5J0QJzPivCNLPlc2Q+wWYAX/H0cT52rK6Y1ep0Ptcs/vx+4nI++PZyAcGFfj4=",
        "encoding": "base64",
        "path": [
         "_data",
         431,
         "x",
         "value"
        ]
       },
       {
        "data": "xaPufQ3JZj7XXCQf9DxrPiN6h+fURmU+DUgSLipicz604T+kYzprPgZKIW+mpHQ+HeTIwP/icj4edtJmPW98PnZbyFKBpnE+ge/SmnRYYz5hOURsQPdhPlFkubLiAX0+j5A4ZIaHdD5Fbw58Mwp5PuR4SSlkW4U+sGYRvKZqgT7IR2qqxyJ4Pszho5RKAXE+8ml+pTz2Zj4F69qc+wd1Pg==",
        "encoding": "base64",
        "path": [
         "_data",
         432,
         "x",
         "value"
        ]
       },
       {
        "data": "9XuiZ1eydz65Zz5Kcs6APux+aVm4VZA+oYapu6Tchj75hUA7IEKKPo8Dbe+HUoA+35iLXhkqgD4=",
        "encoding": "base64",
        "path": [
         "_data",
         433,
         "x",
         "value"
        ]
       },
       {
        "data": "ZugR1m+rZT5076NkpxJ1Pt/IyyvSdn0++fuVu0ILeT52hX9indloPkohEV6TbXg+w5UY3wNDdz7wi2CmhTt8PuNTPFNdF2s+NakYPGvjfD7RZK1MXLZzPocpO6oYhms+PAYcFcfUdD4UC5lmEht6Pg==",
        "encoding": "base64",
        "path": [
         "_data",
         434,
         "x",
         "value"
        ]
       },
       {
        "data": "TetrHwxLgD7uk/5+YJlrPq6QgFvFIXA+kCJrzwn2cz6IwJCydtCAPjjc6a1teXE+y0dW+gbbeT6m2CuMd5ZxPtJcz70QLGU+hroSRVD2ZT4jsc8kt9ZxPit9fqM/lng+p9HeZoQdcj5DQM3IQM57PlbiG6SHRXo+bPXXkPLheD68ndqgHoaCPjU/SwPpsX0+6wUPNIA4eT4jiZ71WARqPlKRVE7xIW0+PgU/FKWvdT5Lkw0GlwN2Phd7sQbfCHM+UvjUy4Gqgz4B2Rza/G9pPhqisneSWHQ+",
        "encoding": "base64",
        "path": [
         "_data",
         435,
         "x",
         "value"
        ]
       },
       {
        "data": "fCTvfILjcz7O+DRy4355PkH89xH0/Hc+0UcdszI+dT55rgIlYwtnPg==",
        "encoding": "base64",
        "path": [
         "_data",
         436,
         "x",
         "value"
        ]
       },
       {
        "data": "f+ChjKFZgz7LxltjueZ9PgpaZxdGjIA+AoS+6yWWjT4cLt6feht4PkLHEvzSjns+cDvNykzmcj4493Cfrnp3PsL1qHYNfHs+6N7agIDQbj6hfiLKzIhyPn52GiLbVYo+OKNL9i/Cgj4=",
        "encoding": "base64",
        "path": [
         "_data",
         437,
         "x",
         "value"
        ]
       },
       {
        "data": "EmfF7+xhcT4W6RmhjT18PuSyVk98zXA+IUJWvDRodT6PQh8Gqm2DPgazdSDEHIU+",
        "encoding": "base64",
        "path": [
         "_data",
         438,
         "x",
         "value"
        ]
       },
       {
        "data": "B59VRbV5dD7Db4DE91hzPgsgnMisJ24+ngKfw966bj5J/+92z0B7PudfHogEx3U+Pw0xHPIsfj4mhZ2bVIqDPkKDfOWW9X8+u2CyenY/hj76Y31dIixvPjlO4GQZ0Hc+SsWJI04+fD7sB12SDtdzPmEsY5MW33M+Bqlth57Haz4VH6ZnMQmBPmKiJXw5PHo+",
        "encoding": "base64",
        "path": [
         "_data",
         439,
         "x",
         "value"
        ]
       },
       {
        "data": "UtEyjFrvhz4/vDD8drqPPl2+cAxR4Ik+OSqX98JKjD5pblCpbJWQPqEnsIit8Hc+mE+hUT+vij6Pro5juGeBPsLGEgB3SIE+eF9cCseBiT4rB8uC8lmEPrU066g5rIM+B1XDXp/0jT4FGmAzRWeSPjmLa2sAAok+FOi8L8cshj5CjH2vFKiEPmgKHWoyQIA+VfdAoQbfgj5eSecJoMGUProlP1lxco8+YGmIs6dYhD5RlR3FKKeAPv5dmpd813o+EVNBNN3IjT5stadSxX6MPoHFXNxK7pA+znGKMKzUgT5WCU0O5tmJPpdA5HYzYYo+pW1eKJB4gD7Bl3EUNql5PnJWgc1eT3Y+QvLpxIxqcz5Kww/e1t1xPrnHamoue4A+i0/Uzd8Jgz6RLge1AXaJPji46UqEQIQ+/tlDRnTbgD78pGDgkgqPPiHdXLOriIs+cteafopskD5o1/BppESHPgIzEPEbYnk+fNLcWoOLfT52saW+GtaMPk82exGVOY4+oIQK+lavgz5MVJNSIYl5Pg4JvOxIC4A+/Qubq2Dxej7HsNMifyKAPpCm25IRT4M+4Rid4jTPgD54r0FC3xGHPuCn+XqnGIU+aKkbwWm4kD5TzOw61naWPuLMbTg3FIc+Xwmo5HQiiD55W87VppaRPqObhQvpY4I+XWSnUN64hz4hVMyGso6APvpJvleIeII+KL2WQQlIjD53bbJfhHSNPlB8IvnT5oI+OT9WvUrDgj41zE2Bvtx7PoiKujO0kY4+HLo5T/35iT7Jdsqw6rONPq0i8BQDq44+WDemd7ckej6/WzRp95t5PvYd9ghBsZI+/6o6MFbrgT62BcDmxLqUPsKkbcureoU+wl2cZylDhD4oVufJCyaWPr8RVbLuTJI+/Q/N0XpqjT4gTh2r92KBPmYa8Y4Sj34+neAB3I/dkj6TF2JSC/eGPgeVZ18FKI4+0cHbihYomD7q/efwWveYPo7MO8r0pYI+zsUjSWlCkz5i/vYPDOWMPpe9p3QGI44+0ti40P3XjD4tQprtCZiMPkx+Is8o148+d1D6V5J+hD5V78/c1qSFPmeW4ekViIU+wn22ZSEXlD4iM9/paOqNPjKSm4Bdj4w+pMH7yl3niz6QOowRMWWBPtr9QljMgoA+jbVufBkkjj6mRy70gYuDPvZkgE9z9ZA+TCgHvYWUkD4SpC9B9ROKPphhI/b/hI4+jCjyUOe3jj78YIbdM9CEPrKNYwYCu5A+bM29XJtbij4pzzI1XdaXPj8AAJqQGYM+367xC8JciT5onJ7KW4OVPmGQsmNzhok+DC2npA9vkT5nPdheUCqJPq4T43vMjYM+8SX2J1JXjj4=",
        "encoding": "base64",
        "path": [
         "_data",
         440,
         "x",
         "value"
        ]
       },
       {
        "data": "LZAvMKoOgD7Xx8vHTHOCPhtZnXcwNYk+Le3ylUvKfj4=",
        "encoding": "base64",
        "path": [
         "_data",
         441,
         "x",
         "value"
        ]
       },
       {
        "data": "/hx8Y6p9lz4mgO0s3Ux2PtYsUOfsj5E+cFAZCalLlD4FPrNzthiYPl/83kHnCI4+13pZWcm6oD4=",
        "encoding": "base64",
        "path": [
         "_data",
         442,
         "x",
         "value"
        ]
       },
       {
        "data": "ZDjHiTsQhj585FRvN/+HPhLZ7Goiv4c+lqxT097bij4s2NXvs52XPtHoNwM6C4k+EMCh1EGumD5DwVGLAzSIPppSYSZlK4Y+TQ6QkYgWgj7JzwN9GVWWPg==",
        "encoding": "base64",
        "path": [
         "_data",
         443,
         "x",
         "value"
        ]
       },
       {
        "data": "foe9TV5MoD48Amnb8QKePny59kjNQ5s+uYhp9jk4mz7nqOfycI2aPpn/hYP2c5o+vN6+lGsJkj5slbZuDNmQPg==",
        "encoding": "base64",
        "path": [
         "_data",
         444,
         "x",
         "value"
        ]
       },
       {
        "data": "b/q9WkR8kD5nO7QAiIGQPnHRpLtERJc+2F0hmJwmnj6bTHZQT7iWPrApvI/QgJQ+",
        "encoding": "base64",
        "path": [
         "_data",
         445,
         "x",
         "value"
        ]
       },
       {
        "data": "O79WO5Thfz7lDnRIpUR1PuaqKoANX2M+yMFmNP9wZj5h9L7kceeCPpqQ8ijwL2g+",
        "encoding": "base64",
        "path": [
         "_data",
         446,
         "x",
         "value"
        ]
       },
       {
        "data": "RO6iJOpzhz5bvw+PrMl8PsRrna8D4oQ+/GVSxySsiT7xb7vdu6OaPqUTagKI5II+lX43iGHPiz4=",
        "encoding": "base64",
        "path": [
         "_data",
         447,
         "x",
         "value"
        ]
       },
       {
        "data": "DlcGjKcReT6x5SVNVkNpPuArF8leW3M+KISPX7azdj4HPXZT/vt1PmgaEZcFznw+lUZMIFlIfj6A3E3v3hp/Pv5TTNm/pIA+lB43+Cj4iz7vNINF7PtlPqk4Rpy/y28+fs1CwKHYaD5OxPpcubt3Pg==",
        "encoding": "base64",
        "path": [
         "_data",
         448,
         "x",
         "value"
        ]
       },
       {
        "data": "HF/G9k5tdD7hl5MJlfWNPs1L102Uwow+vg9VztMDez7+L1ZBvjh4Pngx1Q4gdow+dGj5WHnjez6BIjsITNJ7PtgIDSAmGoA+",
        "encoding": "base64",
        "path": [
         "_data",
         449,
         "x",
         "value"
        ]
       },
       {
        "data": "vmw29VQdgj5nu9zfj6uQPm2rYkQXcIk+Ds3u/9aaiT6o+j3Y/PaEPlbguc6Ss24+",
        "encoding": "base64",
        "path": [
         "_data",
         450,
         "x",
         "value"
        ]
       },
       {
        "data": "RV/+NBEYlD4dirhCyKZoPk9wgMdwPXg+4hdhC7c5dT66Ww9nmMaMPjRSGEaY8n8+AfGZuWZlYT5j0e3jIwVyPg==",
        "encoding": "base64",
        "path": [
         "_data",
         451,
         "x",
         "value"
        ]
       },
       {
        "data": "5M4L5gJNkT7XCQAljxCTPuWl0oIq/pI+Sdp0hXpclD7WrEddIZ2SPlrOQceRQo8+R1kf3c7DiT4ognArLrKLPu8P55iAuZE+",
        "encoding": "base64",
        "path": [
         "_data",
         452,
         "x",
         "value"
        ]
       },
       {
        "data": "gsDH6n/Zbz5bpTB24cR9PrkgE1wLdH8+yHkW77bciz5A3ja4AbJ3PqwB+jErZIA+DGpZ5L0Ufj4=",
        "encoding": "base64",
        "path": [
         "_data",
         453,
         "x",
         "value"
        ]
       },
       {
        "data": "5uA35GaPgz4Xja4EGUmCPrp8QhZeGHM+",
        "encoding": "base64",
        "path": [
         "_data",
         454,
         "x",
         "value"
        ]
       },
       {
        "data": "+zekPKHUiD4Cj9jeXUmIPpmSeYpWHoU+hk0gIJqDhT5TYzfySjB6Pnjv9YRLNXI+",
        "encoding": "base64",
        "path": [
         "_data",
         455,
         "x",
         "value"
        ]
       },
       {
        "data": "dDddAHI5cT5tvSa95h9iPulOOxSD/mE+0losToWZYj5pQmwcgOBaPgA2yi1gaYA+f3NbsbtDZD5ZjXZkVAlmPpFgY4tfSWE+CHhdiQdkcD4aqPUrAT5kPg==",
        "encoding": "base64",
        "path": [
         "_data",
         456,
         "x",
         "value"
        ]
       },
       {
        "data": "oxmzOdYZcj50KtgPP3xVPs+9pzHB5XE+SNUocnOLeD7oYQbSVillPoyV2nL722s+QSQ1UOcxZD4biP0/YPxlPnRRnF05UHA+kHZedvZgcj7rfX4YZDFpPu+8zRLoBWM+NO81pJN3cz4=",
        "encoding": "base64",
        "path": [
         "_data",
         457,
         "x",
         "value"
        ]
       },
       {
        "data": "QDRLSJBQgD4cgNzpGcZ3Pqsekq/AxXI+D78Icg3Rbz6XPJPMJcJiPkhG2SPanmg+jV2rtwXOdT4vKYze6A50PnKO7zC5gn0+FvCz+ILYcT4=",
        "encoding": "base64",
        "path": [
         "_data",
         458,
         "x",
         "value"
        ]
       },
       {
        "data": "SEuwVCc0Zz4tEkPhFTRaPgNQbp2Kq1w+pcRrvpPpZz7G+xpSl/ZcPg==",
        "encoding": "base64",
        "path": [
         "_data",
         459,
         "x",
         "value"
        ]
       },
       {
        "data": "V30nXKj3RT7YmPSuoaFIPvL54kNd0UY+qTqGeR8uVT7bY14AtW5QPrAfrFGR8kg+95eoPJY+OD5uBeBGuL07Pt+ntDdQ+j4+",
        "encoding": "base64",
        "path": [
         "_data",
         460,
         "x",
         "value"
        ]
       },
       {
        "data": "WSw+i5QZQz5DSPKBjOA+Pg==",
        "encoding": "base64",
        "path": [
         "_data",
         461,
         "x",
         "value"
        ]
       },
       {
        "data": "DF75kFEaVT7sYCN+BvZVPg+tWyW+lEw+3Qp3ip3/WT5p2BJfSsBWPuFkndA2+FM+nVhH8CP4Yz4=",
        "encoding": "base64",
        "path": [
         "_data",
         462,
         "x",
         "value"
        ]
       },
       {
        "data": "u0Dc7OpjUD5YOniXRQZFPmnQZQg1mEs+xBZ2jnfmQz5Wbo/u/cNTPhcQcygY5FY+vdvVFY2qTz48sHvH/T5MPpEeU1bkUEc+sfJnO5egVD6XFQ7iA1NePlPlN4pQlmI+zw0YjakGSz5rmUkB+G9jPuJozvo5YE0+v9sMm0BJRj5zTLioD2dVPg==",
        "encoding": "base64",
        "path": [
         "_data",
         463,
         "x",
         "value"
        ]
       },
       {
        "data": "g3W4fO8nWj5SixaiBIdPPi/LPr5pr1c+BX83RvgDWj5IsB5WClRjPhaDvFwYlWY+HyI4no1GYT70J6Iv9exgPhMGC8C7LmI+eDG/xgLBaj5lD7vKw+FhPuwyHnDy/GU+",
        "encoding": "base64",
        "path": [
         "_data",
         464,
         "x",
         "value"
        ]
       },
       {
        "data": "/xW3aqisUz5XceGB/tJQPglS/bt39E0+S4kvPkTMUT7hclaDngU/Ptn795o0H0g+P7MK4aNBUT6Ep1A/EWZEPv/NwWTzmUU+",
        "encoding": "base64",
        "path": [
         "_data",
         465,
         "x",
         "value"
        ]
       },
       {
        "data": "Zo1F3XhFRj7FiEpeZkpHPp7qKi2TC0s+VHfpvZsfRj6nO8dOK/JYPhjxX31htlI+IhVkTQcPUT6a31Kx+2xaPi6WcUHYQlQ+gs+vmV/cUT44eW4kmftVPoLOOQcn3VE+8/2100Y+Tz4=",
        "encoding": "base64",
        "path": [
         "_data",
         466,
         "x",
         "value"
        ]
       },
       {
        "data": "X1bujI1tZD6bg1WWBylpPsN6g+15SGM+0UWymgyzXj5UOc9ix2pwPg==",
        "encoding": "base64",
        "path": [
         "_data",
         467,
         "x",
         "value"
        ]
       },
       {
        "data": "/KKuiPS0RT7VkJLSuwxIPpmJrAeTPFg+22/+g4F5Tz5Isom2cwRCPuBHuRHFekI+",
        "encoding": "base64",
        "path": [
         "_data",
         468,
         "x",
         "value"
        ]
       },
       {
        "data": "vZQwpT03Rj4fS49gZvtYPtfRPO45BFg+Yy2IOeFiVj4AZrQ31HBNPusxGVSJeE4+xvp9fCwVXD7JgxWn+5dVPnbiEnHK5kw+2E78NJRpSD476CB6Ga9XPjsNINuA0Fo+/i9lDJWHZT4=",
        "encoding": "base64",
        "path": [
         "_data",
         469,
         "x",
         "value"
        ]
       },
       {
        "data": "hWBUoKI+Sz4CcCIV7spNPgT7LsGVwE4+qF9HHDiJVT6jK6xJlWlTPh4UC4Dh/Vs+cx9zjF1FVD7I8TfFPLRsPtUJUiSbFVk+H+52vv1GVD4R8HDzpdhKPv4HTIE48WQ+4JE/PId9ZT6VzF5HgBNcPtntJ+JzLW4+EAZXR2yXYz59ilsaOpZgPsqtz81+dmE+r8QJ4WPbRz7hGswDfWpePg==",
        "encoding": "base64",
        "path": [
         "_data",
         470,
         "x",
         "value"
        ]
       },
       {
        "data": "L1B+lCV6Uz49irf/eXhhPiCLrwjQmWo+9JX27b+oYj7n/ekSR21nPhGn4dlFTV4+Fj//nCJpYj4=",
        "encoding": "base64",
        "path": [
         "_data",
         471,
         "x",
         "value"
        ]
       },
       {
        "data": "t6ZpV7UnUD4k+gzEsdddPmEGY31o6mQ+HcxwPDnUYT43FD9K+VJLPkuGM8PXVVo+cTKtH5dMYD5h4QD0az5fPnHmqy0b41s+N8xog5gXYD4kFgd4g5ZVPqUhpcnprkU+uCh/ABqnUj65Vylep25iPg==",
        "encoding": "base64",
        "path": [
         "_data",
         472,
         "x",
         "value"
        ]
       },
       {
        "data": "lS8NE1FzXj45DyHkv4FPPo3qgLNGN04+Ba7zPQAXUT759SgeIMpiPpkLeMaVc1E+DNiIvnHDWT7de4+sb5xTPjY34HaUSkM+cI8N90hVRT6QWGD+GghOPizw2u43LWE+1m7oIV16WT6rgi9S5sVcPv4uVNLnw14+WGGsi4x6Wj68BzeinrplPjOFhfhmElo+j0eHn5lNWD7oCiNTjE1TPkstRpU1XVQ+a+t72xdEUz794hH7zUZZPmy2O5ZKlVY+BuAD1sZoYT5y3M3TGhBLPsUt0ZqHCFc+",
        "encoding": "base64",
        "path": [
         "_data",
         473,
         "x",
         "value"
        ]
       },
       {
        "data": "j1RntASQVz4Zcqa7Vt1hPuPpRVEx3WA+wUkLOqsMXT5vwrK1RwhJPg==",
        "encoding": "base64",
        "path": [
         "_data",
         474,
         "x",
         "value"
        ]
       },
       {
        "data": "enusYTULXT7Xkcf/Iz1dPoH6fZG6BWE+jvuwApV/cD7YdNWPGvlbPo6r/eMyemM+doGuHN+oUz4qtDpFaSVVPqMHH3Fg/FU+BbS0R7whVj6DSolqo6JRPqpBNVzaFmQ+yoEs+be6ZD4=",
        "encoding": "base64",
        "path": [
         "_data",
         475,
         "x",
         "value"
        ]
       },
       {
        "data": "H918m2mMWT7q9MHM/W1jPmEjdflfkGE+LDYAtNgHXj6OyjtXMGprPlXPxzLkem0+",
        "encoding": "base64",
        "path": [
         "_data",
         476,
         "x",
         "value"
        ]
       },
       {
        "data": "MI6iE5YfTj5GJ7QC3BdQPvP1S/T5vk0+s26bynj/Sz4UOu7/pURePjYu4VdAvFg+4vvgyfWBYT7YIlLrDrRiPhNAKoi2RmM+kp1XNqvEYT4EEc8rUNtIPtGWYRcdEFM+qVUrl2TFVD5/Lrd5sFpXPo04UF7E6lA+3JqxYh3IUD5n+hIVKqNgPg3CHzXvdlg+",
        "encoding": "base64",
        "path": [
         "_data",
         477,
         "x",
         "value"
        ]
       },
       {
        "data": "pEkJgb3FYz6Q4jDp2hduPrtNWcRyJ28+jExO3ClWZz7ai1cNb1JvPmoqGcwP4Vs+lJdlMdFnaT6Ky6CI/clkPvvw6HglRVs+kxGbNF8vaT4yeupjNopgPlDTvIItHmI+S5wHozJHaj48+QIFhrZvPurMbuYM2Gg+nydlEZNxaD60E1T9zMRmPjxupx56OWI+Vhmwe/S0ZD4pPClTYbpzPgSzBJXM9XA+cc5SgCC2Yj5VqLUUkWdgPiTGc7lQEVk+ROOnIXpNbj7tsRHUP71oPigao/X6M3A+CxQZwfgqYz7ugcCK8lVrPoTOVEO6s2M++EETyVUJYj71SwhCou5TPuGUSMRyK1U+em0q5EKdUj5kK74xo5BUPklcX7aPBWg+033w6BLKYj53uFnw4fJlPr6X48G+ZGg+X2TJVQQaYD59WIq+2ONwPjXPSFc4fms+WtLLenPGbj4vUKhQ/+xmPj8L2fSkAVk+IDX9UzGtXT4ApfD9kUBqPk8FTKOIWm8+tlbNm+jkYT6WaNXt8tZXPh9xfumjnGA+jO13QeqZXD6gNZEniEFjPghBxYXGJWA+f1QipG3fXz4iwSeww7FkPoFDjHkbDGg+xQEsdcEsaz6yWRxJdbNzPg7fTUCAh2U+4XZ7+xWdZT7mpydsCcRuPj5xJtUylmM+o+wLMifeZT4Dh5LdlXhhPpCuft5GF2I+ICxodcNbbz5rficHo8BqPoESTIJ8cGM+xCW4QWC5YD5/fhfQgMdcPmd2mr6whGc+/b05WhBBbD74Z5ShkLhqPh0KMaIxWmo+fMToLIgXVz6EE01BLFhbPj06isJtWGw+KB60oW07YT50ncehGIN2Pqe3No/VGmU+wJ4DM/CJYj4ppdeWLzB3PqmPdVdw9XA+QlgaMXKLaD5j1Eo0nmxePsMznD/T8V8+3T3rHflQcD6dWW0urb1kPgd05Y+EJGc+q40uvZf+dj6HRuCBymN7PtNVbZfYW2Y+uzTsQApAcz4WQlqIECRsPiDIHqRgaGs+L5CVuRzYaz7XpAyRxNBsPjDh5KrVE3I+z8WT4DgCYz7Ek7LSVldjPtcvh0jVDV4+MMv+OJ/hcT6h7EDLSyxuPn4oC3/Xs20+2mABNspuaj5uiVG3EpJgPr1BM5Bxb2A++NK6J5jDaD72nGZ7JYJgPpp8W5CUM24+g+n7X71wcT5milL6ryBmPqYKKAI/D3A+BIr6LAyUbD62g7AHMfdlPqfNwsJGqGc+EAlBhhcmaj4WlEIFKcp3PjKO1DkXZWM+uPFFw28faD4mB7YXsyByPtFDhMEsN2s+NZVeOLuybz6vBiCYohFoPvrop8+VTmM+5y1KUDw9bj4=",
        "encoding": "base64",
        "path": [
         "_data",
         478,
         "x",
         "value"
        ]
       },
       {
        "data": "jvDo+tefZj5YtYaFFrdjPjB+ALXh2mg+nZrIucN6bz4=",
        "encoding": "base64",
        "path": [
         "_data",
         479,
         "x",
         "value"
        ]
       },
       {
        "data": "4BEyoVLEgD5Vde6tS+tZPjS60eor73M+ctXyBvqYhD5fko28Cp57PizokDxcrnA+l+tZYHTnfT4=",
        "encoding": "base64",
        "path": [
         "_data",
         480,
         "x",
         "value"
        ]
       },
       {
        "data": "9Jam7NDDZD5bXnv8lIdsPtbf+4jrFWo+EsALrdjPZT4gZ9cRqlJ1PspnYuT9cm4+tfMy2pcfdz5s5bhBmWxsPkJySYdIUm0+q+JwoIdkZD75z/9thrJ2Pg==",
        "encoding": "base64",
        "path": [
         "_data",
         481,
         "x",
         "value"
        ]
       },
       {
        "data": "YNcLEF0qfT40VdVc9058PurRdXdtLIA+cGJX/kkSej5pVLvAd4Z7PutYGFHE6Hc+gCMUnrrFdD5BrOUkcKJ1Pg==",
        "encoding": "base64",
        "path": [
         "_data",
         482,
         "x",
         "value"
        ]
       },
       {
        "data": "3Nl/M67taD5UbXnjv1xxPudKg/YkVXs+rY/hfdMbgj7OrQZBV2x7PhK3i+a5XHI+",
        "encoding": "base64",
        "path": [
         "_data",
         483,
         "x",
         "value"
        ]
       },
       {
        "data": "1k0MbSsjcD7X59D3jFdlPuiqKoANX2M+x8FmNP9wZj60IajofolpPpmQ8ijwL2g+",
        "encoding": "base64",
        "path": [
         "_data",
         484,
         "x",
         "value"
        ]
       },
       {
        "data": "mahXsth/az5jrs//4nhdPooZB3clA24+WMYWvL8Zcj56j5ibVrCIPprw+epDm2U+Gbp2FHpgbz4=",
        "encoding": "base64",
        "path": [
         "_data",
         485,
         "x",
         "value"
        ]
       },
       {
        "data": "CO51bv6FWz72kkRxRv1JPoR2bmPylUk+lT7MVD38UT7g5/GYwYFQPjNuiXp6ZVQ+OGupHigcVT64fwkvW0thPqgWkC7wYVg+xkXmps4gbD7n+ZCgOQVFPshss3Y+YFA+0KnUv5qIQT72nJhb0k5WPg==",
        "encoding": "base64",
        "path": [
         "_data",
         486,
         "x",
         "value"
        ]
       },
       {
        "data": "LzcGo94KTj4bXRTVpWhlPjagENMLpGY+DLCmPC5zVj4OYi69zZZXPkNGVue3AV8+g1mJ97FaWD6WQFc1SStWPgeys3g0UlY+",
        "encoding": "base64",
        "path": [
         "_data",
         487,
         "x",
         "value"
        ]
       },
       {
        "data": "O5GFdtnAYT58xZOMjth0PhaY1ddmV2w+TBueX9G6cD5Axf16DSFnPuFMxh5msF8+",
        "encoding": "base64",
        "path": [
         "_data",
         488,
         "x",
         "value"
        ]
       },
       {
        "data": "n9HjXHUuaz5StAB85HRSPrwnFnSkqVc+Ugt5UkYaUT5ixhsjlIdmPg1HlsulJFQ+AfGZuWZlYT4gMPLl9i1iPg==",
        "encoding": "base64",
        "path": [
         "_data",
         489,
         "x",
         "value"
        ]
       },
       {
        "data": "h/9oyziKbz6giDKmIX9xPoILIanQnHI+g6FydsaEcz4hLYr5LqVsPoxk5PcCrmk+b6DP3JevZj6Cp6D/B3FlPvlnJOJ0WW0+",
        "encoding": "base64",
        "path": [
         "_data",
         490,
         "x",
         "value"
        ]
       },
       {
        "data": "xhiipm2TUz6p4/DXX2tiPqLsp/i+w10+hX+raUsFbD4vHumb5GBQPm5ptM376FM+2/ERTrEZXD4=",
        "encoding": "base64",
        "path": [
         "_data",
         491,
         "x",
         "value"
        ]
       },
       {
        "data": "Bs+OrIkbXD4TbDMLHYNXPsc+vJaVHVA+",
        "encoding": "base64",
        "path": [
         "_data",
         492,
         "x",
         "value"
        ]
       },
       {
        "data": "y0/fM+T3bD66v0xySxFgPquq73SbjWI+H6r3ChBgYz61WTME+h9iPhXmc2xW7Vk+",
        "encoding": "base64",
        "path": [
         "_data",
         493,
         "x",
         "value"
        ]
       }
      ],
      "model_module": "plotlywidget",
      "model_module_version": "^4.14.3",
      "model_name": "FigureModel",
      "state": {
       "_config": {
        "plotlyServerURL": "https://plot.ly"
       },
       "_data": [
        {
         "boxpoints": "all",
         "marker": {
          "color": "#4C78A8",
          "size": 5
         },
         "name": "AML/1",
         "type": "box",
         "uid": "8e711041-59a4-4cea-8dcb-47edf8b9190d",
         "width": 0.5,
         "x": [
          58491,
          16462,
          3520,
          6919,
          4242,
          12705,
          10252,
          686,
          18250,
          763,
          2030
         ],
         "xaxis": "x",
         "yaxis": "y"
        },
        {
         "boxpoints": "all",
         "marker": {
          "color": "#F58518",
          "size": 5
         },
         "name": "AML/7",
         "type": "box",
         "uid": "6e7710bf-8243-4927-9271-3465653bc2d1",
         "width": 0.5,
         "x": [
          1191,
          3241,
          192,
          733,
          5464,
          605,
          833,
          1089,
          30779,
          1443,
          677,
          15132,
          402
         ],
         "xaxis": "x",
         "yaxis": "y"
        },
        {
         "boxpoints": "all",
         "marker": {
          "color": "#E45756",
          "size": 5
         },
         "name": "AML/8",
         "type": "box",
         "uid": "c9af63c4-b53d-45cb-a08d-f3073fbf872b",
         "width": 0.5,
         "x": [
          26711,
          251,
          376,
          16020,
          1456,
          348,
          568,
          1046,
          3455,
          521
         ],
         "xaxis": "x",
         "yaxis": "y"
        },
        {
         "boxpoints": "all",
         "marker": {
          "color": "#72B7B2",
          "size": 5
         },
         "name": "Cellcycle/CD2/HU",
         "type": "box",
         "uid": "6174e603-6701-4c57-a2a8-21f554755c9f",
         "width": 0.5,
         "x": [
          40897,
          29760,
          32412,
          26303,
          30912
         ],
         "xaxis": "x",
         "yaxis": "y"
        },
        {
         "boxpoints": "all",
         "marker": {
          "color": "#54A24B",
          "size": 5
         },
         "name": "Cellcycle/CD69/FCS",
         "type": "box",
         "uid": "142ec3cd-5b25-4a94-81e9-33cb53524ab9",
         "width": 0.5,
         "x": [
          23766,
          50914,
          50096,
          75339,
          41876,
          33698,
          5113,
          4297,
          3202
         ],
         "xaxis": "x",
         "yaxis": "y"
        },
        {
         "boxpoints": "all",
         "marker": {
          "color": "#EECA3B",
          "size": 5
         },
         "name": "Cellcycle/CD69/HU",
         "type": "box",
         "uid": "f942fda9-f8db-4c2c-a087-70b4f6f76670",
         "width": 0.5,
         "x": [
          1184,
          1385
         ],
         "xaxis": "x",
         "yaxis": "y"
        },
        {
         "boxpoints": "all",
         "marker": {
          "color": "#B279A2",
          "size": 5
         },
         "name": "Cellcycle/Cd28/FCS",
         "type": "box",
         "uid": "9182b730-9ae1-44ae-8956-c2b8d7588f20",
         "width": 0.5,
         "x": [
          90961,
          36406,
          28556,
          46573,
          24348,
          11132,
          41761
         ],
         "xaxis": "x",
         "yaxis": "y"
        },
        {
         "boxpoints": "all",
         "marker": {
          "color": "#FF9DA6",
          "size": 5
         },
         "name": "Cellcycle/Cd28/HU",
         "type": "box",
         "uid": "fcd7e62a-15a1-4370-b8dc-2487918ef5d5",
         "width": 0.5,
         "x": [
          4206,
          2526,
          5489,
          10187,
          63559,
          81501,
          1405,
          1982,
          8798,
          5221,
          1940,
          2434,
          8627,
          4330,
          3438,
          13470,
          2930
         ],
         "xaxis": "x",
         "yaxis": "y"
        },
        {
         "boxpoints": "all",
         "marker": {
          "color": "#9D755D",
          "size": 5
         },
         "name": "Cellcycle/Cd28/K",
         "type": "box",
         "uid": "1d4b9cea-2932-4943-a8fd-3e658ae9b72a",
         "width": 0.5,
         "x": [
          25342,
          25601,
          10855,
          12363,
          8273,
          7518,
          10014,
          7916,
          6942,
          11003,
          5627,
          7125
         ],
         "xaxis": "x",
         "yaxis": "y"
        },
        {
         "boxpoints": "all",
         "marker": {
          "color": "#BAB0AC",
          "size": 5
         },
         "name": "Cellcycle/Cd3/FCS",
         "type": "box",
         "uid": "74ac7a80-630d-440f-8d13-0f4f4b31e548",
         "width": 0.5,
         "x": [
          22989,
          46717,
          32422,
          36617,
          18298,
          14518,
          11696,
          13744,
          20677
         ],
         "xaxis": "x",
         "yaxis": "y"
        },
        {
         "boxpoints": "all",
         "marker": {
          "color": "#4C78A8",
          "size": 5
         },
         "name": "Cellcycle/Cd3/HU",
         "type": "box",
         "uid": "e428f4bc-e904-4b58-bb49-4d70f683da36",
         "width": 0.5,
         "x": [
          5885,
          16456,
          7141,
          4261,
          41839,
          41926,
          5061,
          30030,
          22473,
          31650,
          5882,
          27580,
          25151
         ],
         "xaxis": "x",
         "yaxis": "y"
        },
        {
         "boxpoints": "all",
         "marker": {
          "color": "#F58518",
          "size": 5
         },
         "name": "Cellcycle/Cd3/K",
         "type": "box",
         "uid": "3156d1e9-d888-47a3-a66b-d5fddfd2cb9a",
         "width": 0.5,
         "x": [
          34892,
          45476,
          17966,
          18770,
          19245
         ],
         "xaxis": "x",
         "yaxis": "y"
        },
        {
         "boxpoints": "all",
         "marker": {
          "color": "#E45756",
          "size": 5
         },
         "name": "Jurkat/CD105/5",
         "type": "box",
         "uid": "14c188db-a682-4ab4-ac1d-0faaa8035ac5",
         "width": 0.5,
         "x": [
          5482,
          24669,
          10754,
          22886,
          17128,
          28457
         ],
         "xaxis": "x",
         "yaxis": "y"
        },
        {
         "boxpoints": "all",
         "marker": {
          "color": "#72B7B2",
          "size": 5
         },
         "name": "Jurkat/CD11a",
         "type": "box",
         "uid": "bc7e7e3c-1077-4539-a6bb-d60597c7b6a4",
         "width": 0.5,
         "x": [
          4231,
          1198,
          2449,
          1407,
          2030,
          2843,
          735,
          4841,
          1506,
          6406,
          3467,
          1427,
          1294
         ],
         "xaxis": "x",
         "yaxis": "y"
        },
        {
         "boxpoints": "all",
         "marker": {
          "color": "#54A24B",
          "size": 5
         },
         "name": "Jurkat/CD18",
         "type": "box",
         "uid": "344ddbff-2cdc-4cd5-a7e2-4985af541f43",
         "width": 0.5,
         "x": [
          5462,
          2729,
          2258,
          2061,
          1494,
          1916,
          1728,
          426,
          1181,
          1371,
          2915,
          1397,
          984,
          2136,
          1206,
          6720,
          1103,
          534,
          7869,
          2562
         ],
         "xaxis": "x",
         "yaxis": "y"
        },
        {
         "boxpoints": "all",
         "marker": {
          "color": "#EECA3B",
          "size": 5
         },
         "name": "Jurkat/CD2",
         "type": "box",
         "uid": "caa369b8-c534-4055-bf40-19141a6967bf",
         "width": 0.5,
         "x": [
          15145,
          8003,
          11016,
          11145,
          10152,
          3880,
          3926
         ],
         "xaxis": "x",
         "yaxis": "y"
        },
        {
         "boxpoints": "all",
         "marker": {
          "color": "#B279A2",
          "size": 5
         },
         "name": "Jurkat/CD45/CD45",
         "type": "box",
         "uid": "73b8a255-c799-4f66-90f9-49fb62332a2f",
         "width": 0.5,
         "x": [
          2931,
          1573,
          1561,
          1967,
          2496,
          1795,
          1483,
          2957,
          876,
          2822,
          2325,
          9066,
          8083,
          1398
         ],
         "xaxis": "x",
         "yaxis": "y"
        },
        {
         "boxpoints": "all",
         "marker": {
          "color": "#FF9DA6",
          "size": 5
         },
         "name": "Jurkat/CD69",
         "type": "box",
         "uid": "2fc6b45e-489c-4a3c-969c-2f7db18735cd",
         "width": 0.5,
         "x": [
          4441,
          4112,
          15791,
          6583,
          3415,
          6881,
          6782,
          3247,
          9939,
          5986,
          7197,
          1356,
          1847,
          7250,
          4724,
          8722,
          5105,
          7304,
          3569,
          2622,
          1383,
          14196,
          3835,
          4824,
          2430,
          8845,
          3377
         ],
         "xaxis": "x",
         "yaxis": "y"
        },
        {
         "boxpoints": "all",
         "marker": {
          "color": "#9D755D",
          "size": 5
         },
         "name": "Jurkat/CD69/Cd69_K",
         "type": "box",
         "uid": "81e81ba8-b41f-4bc2-964e-75697442fb56",
         "width": 0.5,
         "x": [
          3970,
          1215,
          1876,
          1041,
          1700
         ],
         "xaxis": "x",
         "yaxis": "y"
        },
        {
         "boxpoints": "all",
         "marker": {
          "color": "#BAB0AC",
          "size": 5
         },
         "name": "Jurkat/Cd45_pab_sab",
         "type": "box",
         "uid": "7ce55984-875a-4ccb-9526-ca9a945efb1c",
         "width": 0.5,
         "x": [
          29959,
          10527,
          7436,
          3164,
          4320,
          2273,
          7262,
          8411,
          4838,
          2382,
          4943,
          3673,
          2903
         ],
         "xaxis": "x",
         "yaxis": "y"
        },
        {
         "boxpoints": "all",
         "marker": {
          "color": "#4C78A8",
          "size": 5
         },
         "name": "Jurkat/Cd69_twocolor",
         "type": "box",
         "uid": "b0311e6c-cd00-4227-bca9-3178b0008586",
         "width": 0.5,
         "x": [
          1605,
          677,
          1292,
          1433,
          1434,
          1507
         ],
         "xaxis": "x",
         "yaxis": "y"
        },
        {
         "boxpoints": "all",
         "marker": {
          "color": "#F58518",
          "size": 5
         },
         "name": "Jurkat/LFA1",
         "type": "box",
         "uid": "c20175b8-e507-4f90-95a3-1414b015f837",
         "width": 0.5,
         "x": [
          26433,
          13708,
          6455,
          9874,
          3072,
          4131,
          3726,
          4525,
          6590,
          5670,
          13587,
          9355,
          14898,
          3170,
          5749,
          5130,
          3517,
          3202
         ],
         "xaxis": "x",
         "yaxis": "y"
        },
        {
         "boxpoints": "all",
         "marker": {
          "color": "#E45756",
          "size": 5
         },
         "name": "Pat23_CD38",
         "type": "box",
         "uid": "ce8cc4f6-fb4d-4864-bc7d-4d489868fc04",
         "width": 0.5,
         "x": [
          16573,
          10720,
          6133,
          15809,
          10481,
          12248,
          17281,
          6162,
          10472,
          6044,
          15453,
          10155,
          16864,
          13222,
          18458,
          10494,
          42755,
          52783,
          41145,
          39905,
          50011,
          15265,
          23906,
          16175,
          15180,
          9060,
          11655,
          8956,
          9423,
          17196,
          10032,
          8459,
          16388,
          11142,
          3902,
          3380,
          28423,
          7646,
          6479,
          5029,
          10447,
          9597,
          11670,
          12790,
          15927,
          6598,
          29187,
          8514,
          23560,
          10500,
          8287,
          8438,
          5355,
          7386,
          34446,
          14257,
          11329,
          11327,
          17181,
          10503,
          25429,
          22402,
          9491,
          15811,
          44862,
          17524,
          9842,
          14885,
          25378,
          19540,
          14248,
          13619,
          33934,
          15252,
          22634,
          18752,
          9148,
          16727,
          5467,
          36625,
          21479,
          15118,
          14052,
          19540,
          15358,
          22009,
          8172,
          8260,
          32017,
          17286,
          22221,
          31966,
          5839,
          22861,
          27251,
          19242,
          16206,
          7412,
          11250,
          10376,
          27856,
          17746,
          14702,
          13365,
          13870,
          11680,
          10981,
          6739,
          24299,
          16788,
          14375,
          8206,
          12252,
          8564,
          10790,
          15126,
          18628,
          24830,
          13973,
          7593,
          11268,
          25060,
          8791,
          9866,
          16448,
          12432,
          6974
         ],
         "xaxis": "x",
         "yaxis": "y"
        },
        {
         "boxpoints": "all",
         "marker": {
          "color": "#72B7B2",
          "size": 5
         },
         "name": "Patients/Pat379/BCMA",
         "type": "box",
         "uid": "62462701-5c61-400a-940c-d18b8e9c994a",
         "width": 0.5,
         "x": [
          2738,
          2646,
          2924,
          548
         ],
         "xaxis": "x",
         "yaxis": "y"
        },
        {
         "boxpoints": "all",
         "marker": {
          "color": "#54A24B",
          "size": 5
         },
         "name": "Patients/Pat379/CD138",
         "type": "box",
         "uid": "d3f0f4a8-25d0-447a-acaa-b1880bc0d1ac",
         "width": 0.5,
         "x": [
          2334,
          4283,
          3101,
          682,
          3671,
          3409,
          15004
         ],
         "xaxis": "x",
         "yaxis": "y"
        },
        {
         "boxpoints": "all",
         "marker": {
          "color": "#EECA3B",
          "size": 5
         },
         "name": "Patients/Pat379/CD19",
         "type": "box",
         "uid": "0f90db26-ac19-4a8f-8d72-13597fbaaca4",
         "width": 0.5,
         "x": [
          1867,
          16302,
          1829,
          5238,
          4468,
          5943,
          9659,
          2936,
          4190,
          3619,
          12812
         ],
         "xaxis": "x",
         "yaxis": "y"
        },
        {
         "boxpoints": "all",
         "marker": {
          "color": "#B279A2",
          "size": 5
         },
         "name": "Patients/Pat379/CD20",
         "type": "box",
         "uid": "df18c5ba-2401-454a-9431-307c44ae47e1",
         "width": 0.5,
         "x": [
          14648,
          18484,
          5811,
          42183,
          8411,
          14778,
          2073,
          1374
         ],
         "xaxis": "x",
         "yaxis": "y"
        },
        {
         "boxpoints": "all",
         "marker": {
          "color": "#FF9DA6",
          "size": 5
         },
         "name": "Patients/Pat379/CD38",
         "type": "box",
         "uid": "1b3df05d-b16f-4d21-b49a-7258d4c35d9d",
         "width": 0.5,
         "x": [
          8128,
          8465,
          5351,
          5373,
          6268,
          14027
         ],
         "xaxis": "x",
         "yaxis": "y"
        },
        {
         "boxpoints": "all",
         "marker": {
          "color": "#9D755D",
          "size": 5
         },
         "name": "Patients/Pat379/GPRCD5",
         "type": "box",
         "uid": "0f986037-83b1-4e9c-8769-ae9d49d3280f",
         "width": 0.5,
         "x": [
          246,
          867,
          84,
          86,
          231,
          144
         ],
         "xaxis": "x",
         "yaxis": "y"
        },
        {
         "boxpoints": "all",
         "marker": {
          "color": "#BAB0AC",
          "size": 5
         },
         "name": "Patients/Pat379/SLAMF7",
         "type": "box",
         "uid": "791b4106-9a83-4bbe-9da4-540419776878",
         "width": 0.5,
         "x": [
          4390,
          5092,
          1647,
          1763,
          4341,
          3742,
          2903
         ],
         "xaxis": "x",
         "yaxis": "y"
        },
        {
         "boxpoints": "all",
         "marker": {
          "color": "#4C78A8",
          "size": 5
         },
         "name": "Patients/Pat394/BCMA",
         "type": "box",
         "uid": "bee85f58-aae3-4851-8f75-41e99f227337",
         "width": 0.5,
         "x": [
          3936,
          4929,
          16371,
          12671,
          14811,
          10957,
          6681,
          4587,
          4707,
          4606,
          6533,
          3640,
          7795,
          3580
         ],
         "xaxis": "x",
         "yaxis": "y"
        },
        {
         "boxpoints": "all",
         "marker": {
          "color": "#F58518",
          "size": 5
         },
         "name": "Patients/Pat394/CD138",
         "type": "box",
         "uid": "65eed5a7-90eb-48e6-8061-59b6b1494388",
         "width": 0.5,
         "x": [
          21181,
          28271,
          10320,
          7539,
          7253,
          22354,
          11127,
          9110,
          10550
         ],
         "xaxis": "x",
         "yaxis": "y"
        },
        {
         "boxpoints": "all",
         "marker": {
          "color": "#E45756",
          "size": 5
         },
         "name": "Patients/Pat394/CD19",
         "type": "box",
         "uid": "1c094d30-cdbc-41d3-9ec2-0ab23a754b64",
         "width": 0.5,
         "x": [
          860,
          1268,
          3797,
          2656,
          1432,
          738
         ],
         "xaxis": "x",
         "yaxis": "y"
        },
        {
         "boxpoints": "all",
         "marker": {
          "color": "#72B7B2",
          "size": 5
         },
         "name": "Patients/Pat394/CD20",
         "type": "box",
         "uid": "2893501c-69cc-4cd3-990c-08eea2cd4a2c",
         "width": 0.5,
         "x": [
          4932,
          2811,
          8730,
          6406,
          12242,
          5100,
          122,
          342
         ],
         "xaxis": "x",
         "yaxis": "y"
        },
        {
         "boxpoints": "all",
         "marker": {
          "color": "#54A24B",
          "size": 5
         },
         "name": "Patients/Pat394/CD38",
         "type": "box",
         "uid": "0a2611f0-8801-474f-af7e-79a48e30a4f9",
         "width": 0.5,
         "x": [
          48316,
          81777,
          44038,
          99239,
          43955,
          57652,
          77998,
          37770,
          38514
         ],
         "xaxis": "x",
         "yaxis": "y"
        },
        {
         "boxpoints": "all",
         "marker": {
          "color": "#EECA3B",
          "size": 5
         },
         "name": "Patients/Pat394/GPRCD5",
         "type": "box",
         "uid": "49fd3c4a-ada0-4014-b920-bb77d428741d",
         "width": 0.5,
         "x": [
          2713,
          3882,
          3913,
          2298,
          5238,
          8012,
          9995
         ],
         "xaxis": "x",
         "yaxis": "y"
        },
        {
         "boxpoints": "all",
         "marker": {
          "color": "#B279A2",
          "size": 5
         },
         "name": "Patients/Pat394/SLAMF7",
         "type": "box",
         "uid": "9232ad46-7397-4ccf-b7e4-ff34466f22b7",
         "width": 0.5,
         "x": [
          6329,
          2883,
          8528
         ],
         "xaxis": "x",
         "yaxis": "y"
        },
        {
         "boxpoints": "all",
         "marker": {
          "color": "#FF9DA6",
          "size": 5
         },
         "name": "Patients/Pat394/SLAMF7/1",
         "type": "box",
         "uid": "780625b2-e44c-4269-b01a-ae453a6d46d0",
         "width": 0.5,
         "x": [
          3497,
          3903,
          3504,
          1463,
          980,
          1839
         ],
         "xaxis": "x",
         "yaxis": "y"
        },
        {
         "boxpoints": "all",
         "marker": {
          "color": "#4C78A8",
          "size": 5
         },
         "name": "AML/1",
         "type": "box",
         "uid": "a8927dae-b011-48df-a200-16d373da60de",
         "width": 0.5,
         "x": {
          "dtype": "float64",
          "shape": [
           11
          ]
         },
         "xaxis": "x2",
         "yaxis": "y2"
        },
        {
         "boxpoints": "all",
         "marker": {
          "color": "#F58518",
          "size": 5
         },
         "name": "AML/7",
         "type": "box",
         "uid": "04a546ac-54bb-45c7-b6d6-8563885a688b",
         "width": 0.5,
         "x": {
          "dtype": "float64",
          "shape": [
           13
          ]
         },
         "xaxis": "x2",
         "yaxis": "y2"
        },
        {
         "boxpoints": "all",
         "marker": {
          "color": "#E45756",
          "size": 5
         },
         "name": "AML/8",
         "type": "box",
         "uid": "facd6ed5-3bfa-4899-bf25-354eca17fa67",
         "width": 0.5,
         "x": {
          "dtype": "float64",
          "shape": [
           10
          ]
         },
         "xaxis": "x2",
         "yaxis": "y2"
        },
        {
         "boxpoints": "all",
         "marker": {
          "color": "#72B7B2",
          "size": 5
         },
         "name": "Cellcycle/CD2/HU",
         "type": "box",
         "uid": "31b9b506-4027-44b4-b0cb-22ee5ef68899",
         "width": 0.5,
         "x": {
          "dtype": "float64",
          "shape": [
           5
          ]
         },
         "xaxis": "x2",
         "yaxis": "y2"
        },
        {
         "boxpoints": "all",
         "marker": {
          "color": "#54A24B",
          "size": 5
         },
         "name": "Cellcycle/CD69/FCS",
         "type": "box",
         "uid": "533f2d94-c519-4751-998a-fed4cc8a2ad1",
         "width": 0.5,
         "x": {
          "dtype": "float64",
          "shape": [
           9
          ]
         },
         "xaxis": "x2",
         "yaxis": "y2"
        },
        {
         "boxpoints": "all",
         "marker": {
          "color": "#EECA3B",
          "size": 5
         },
         "name": "Cellcycle/CD69/HU",
         "type": "box",
         "uid": "4ae2aca7-5539-420a-adde-1baf98a3f0cb",
         "width": 0.5,
         "x": {
          "dtype": "float64",
          "shape": [
           2
          ]
         },
         "xaxis": "x2",
         "yaxis": "y2"
        },
        {
         "boxpoints": "all",
         "marker": {
          "color": "#B279A2",
          "size": 5
         },
         "name": "Cellcycle/Cd28/FCS",
         "type": "box",
         "uid": "a8425d3d-a6b6-4fe7-aa49-4c06f7f9179d",
         "width": 0.5,
         "x": {
          "dtype": "float64",
          "shape": [
           7
          ]
         },
         "xaxis": "x2",
         "yaxis": "y2"
        },
        {
         "boxpoints": "all",
         "marker": {
          "color": "#FF9DA6",
          "size": 5
         },
         "name": "Cellcycle/Cd28/HU",
         "type": "box",
         "uid": "f22ff8f3-73ed-47a1-9154-b5f777e7c928",
         "width": 0.5,
         "x": {
          "dtype": "float64",
          "shape": [
           17
          ]
         },
         "xaxis": "x2",
         "yaxis": "y2"
        },
        {
         "boxpoints": "all",
         "marker": {
          "color": "#9D755D",
          "size": 5
         },
         "name": "Cellcycle/Cd28/K",
         "type": "box",
         "uid": "6a63bf18-ab58-41f1-9d17-daefd0317715",
         "width": 0.5,
         "x": {
          "dtype": "float64",
          "shape": [
           12
          ]
         },
         "xaxis": "x2",
         "yaxis": "y2"
        },
        {
         "boxpoints": "all",
         "marker": {
          "color": "#BAB0AC",
          "size": 5
         },
         "name": "Cellcycle/Cd3/FCS",
         "type": "box",
         "uid": "8931e20c-e4da-4e28-8433-4b53f238d5cf",
         "width": 0.5,
         "x": {
          "dtype": "float64",
          "shape": [
           9
          ]
         },
         "xaxis": "x2",
         "yaxis": "y2"
        },
        {
         "boxpoints": "all",
         "marker": {
          "color": "#4C78A8",
          "size": 5
         },
         "name": "Cellcycle/Cd3/HU",
         "type": "box",
         "uid": "c30a5d4c-0018-4285-b5aa-6bb039873f58",
         "width": 0.5,
         "x": {
          "dtype": "float64",
          "shape": [
           13
          ]
         },
         "xaxis": "x2",
         "yaxis": "y2"
        },
        {
         "boxpoints": "all",
         "marker": {
          "color": "#F58518",
          "size": 5
         },
         "name": "Cellcycle/Cd3/K",
         "type": "box",
         "uid": "b5331085-1197-4e2e-8efd-23da54e6c18b",
         "width": 0.5,
         "x": {
          "dtype": "float64",
          "shape": [
           5
          ]
         },
         "xaxis": "x2",
         "yaxis": "y2"
        },
        {
         "boxpoints": "all",
         "marker": {
          "color": "#E45756",
          "size": 5
         },
         "name": "Jurkat/CD105/5",
         "type": "box",
         "uid": "006f92f9-4198-4a67-9d19-01ff89378cfd",
         "width": 0.5,
         "x": {
          "dtype": "float64",
          "shape": [
           6
          ]
         },
         "xaxis": "x2",
         "yaxis": "y2"
        },
        {
         "boxpoints": "all",
         "marker": {
          "color": "#72B7B2",
          "size": 5
         },
         "name": "Jurkat/CD11a",
         "type": "box",
         "uid": "e09df4e6-ab59-47e7-b0cd-cd890a7e8441",
         "width": 0.5,
         "x": {
          "dtype": "float64",
          "shape": [
           13
          ]
         },
         "xaxis": "x2",
         "yaxis": "y2"
        },
        {
         "boxpoints": "all",
         "marker": {
          "color": "#54A24B",
          "size": 5
         },
         "name": "Jurkat/CD18",
         "type": "box",
         "uid": "be2ded48-2c38-4ced-bdaa-ea795b5d380c",
         "width": 0.5,
         "x": {
          "dtype": "float64",
          "shape": [
           20
          ]
         },
         "xaxis": "x2",
         "yaxis": "y2"
        },
        {
         "boxpoints": "all",
         "marker": {
          "color": "#EECA3B",
          "size": 5
         },
         "name": "Jurkat/CD2",
         "type": "box",
         "uid": "e84436a9-413c-4853-a8f4-50c3a42e13b6",
         "width": 0.5,
         "x": {
          "dtype": "float64",
          "shape": [
           7
          ]
         },
         "xaxis": "x2",
         "yaxis": "y2"
        },
        {
         "boxpoints": "all",
         "marker": {
          "color": "#B279A2",
          "size": 5
         },
         "name": "Jurkat/CD45/CD45",
         "type": "box",
         "uid": "8c6b2785-3e8e-4eaa-8efd-2b5f0465d233",
         "width": 0.5,
         "x": {
          "dtype": "float64",
          "shape": [
           14
          ]
         },
         "xaxis": "x2",
         "yaxis": "y2"
        },
        {
         "boxpoints": "all",
         "marker": {
          "color": "#FF9DA6",
          "size": 5
         },
         "name": "Jurkat/CD69",
         "type": "box",
         "uid": "716b3785-0793-44c4-a0b7-8f05750a3b5c",
         "width": 0.5,
         "x": {
          "dtype": "float64",
          "shape": [
           27
          ]
         },
         "xaxis": "x2",
         "yaxis": "y2"
        },
        {
         "boxpoints": "all",
         "marker": {
          "color": "#9D755D",
          "size": 5
         },
         "name": "Jurkat/CD69/Cd69_K",
         "type": "box",
         "uid": "15f46162-ee08-44bc-a773-2e8332f863eb",
         "width": 0.5,
         "x": {
          "dtype": "float64",
          "shape": [
           5
          ]
         },
         "xaxis": "x2",
         "yaxis": "y2"
        },
        {
         "boxpoints": "all",
         "marker": {
          "color": "#BAB0AC",
          "size": 5
         },
         "name": "Jurkat/Cd45_pab_sab",
         "type": "box",
         "uid": "815c5aa7-26df-4043-91f3-ed2dabd92be4",
         "width": 0.5,
         "x": {
          "dtype": "float64",
          "shape": [
           13
          ]
         },
         "xaxis": "x2",
         "yaxis": "y2"
        },
        {
         "boxpoints": "all",
         "marker": {
          "color": "#4C78A8",
          "size": 5
         },
         "name": "Jurkat/Cd69_twocolor",
         "type": "box",
         "uid": "564da13d-98d5-4b7a-bd10-01007a76cae7",
         "width": 0.5,
         "x": {
          "dtype": "float64",
          "shape": [
           6
          ]
         },
         "xaxis": "x2",
         "yaxis": "y2"
        },
        {
         "boxpoints": "all",
         "marker": {
          "color": "#F58518",
          "size": 5
         },
         "name": "Jurkat/LFA1",
         "type": "box",
         "uid": "f061a22b-c3b8-462a-9a25-e9a7df4bf6a3",
         "width": 0.5,
         "x": {
          "dtype": "float64",
          "shape": [
           18
          ]
         },
         "xaxis": "x2",
         "yaxis": "y2"
        },
        {
         "boxpoints": "all",
         "marker": {
          "color": "#E45756",
          "size": 5
         },
         "name": "Pat23_CD38",
         "type": "box",
         "uid": "541265e4-486f-437c-978c-46b23e7c7fda",
         "width": 0.5,
         "x": {
          "dtype": "float64",
          "shape": [
           127
          ]
         },
         "xaxis": "x2",
         "yaxis": "y2"
        },
        {
         "boxpoints": "all",
         "marker": {
          "color": "#72B7B2",
          "size": 5
         },
         "name": "Patients/Pat379/BCMA",
         "type": "box",
         "uid": "6440d01a-8e72-4cc5-a68a-591f458aff84",
         "width": 0.5,
         "x": {
          "dtype": "float64",
          "shape": [
           4
          ]
         },
         "xaxis": "x2",
         "yaxis": "y2"
        },
        {
         "boxpoints": "all",
         "marker": {
          "color": "#54A24B",
          "size": 5
         },
         "name": "Patients/Pat379/CD138",
         "type": "box",
         "uid": "b39409b9-7b3b-4a83-bc63-507828107e38",
         "width": 0.5,
         "x": {
          "dtype": "float64",
          "shape": [
           7
          ]
         },
         "xaxis": "x2",
         "yaxis": "y2"
        },
        {
         "boxpoints": "all",
         "marker": {
          "color": "#EECA3B",
          "size": 5
         },
         "name": "Patients/Pat379/CD19",
         "type": "box",
         "uid": "3fdb90ca-6889-448a-a1a7-ebf0ad2519e1",
         "width": 0.5,
         "x": {
          "dtype": "float64",
          "shape": [
           11
          ]
         },
         "xaxis": "x2",
         "yaxis": "y2"
        },
        {
         "boxpoints": "all",
         "marker": {
          "color": "#B279A2",
          "size": 5
         },
         "name": "Patients/Pat379/CD20",
         "type": "box",
         "uid": "da118db1-d4f2-446e-a590-2b2859bec965",
         "width": 0.5,
         "x": {
          "dtype": "float64",
          "shape": [
           8
          ]
         },
         "xaxis": "x2",
         "yaxis": "y2"
        },
        {
         "boxpoints": "all",
         "marker": {
          "color": "#FF9DA6",
          "size": 5
         },
         "name": "Patients/Pat379/CD38",
         "type": "box",
         "uid": "286833c1-e60b-40b3-abfe-acedaf9290c0",
         "width": 0.5,
         "x": {
          "dtype": "float64",
          "shape": [
           6
          ]
         },
         "xaxis": "x2",
         "yaxis": "y2"
        },
        {
         "boxpoints": "all",
         "marker": {
          "color": "#9D755D",
          "size": 5
         },
         "name": "Patients/Pat379/GPRCD5",
         "type": "box",
         "uid": "913f297c-64d2-4da2-81b8-cd5833d9fd28",
         "width": 0.5,
         "x": {
          "dtype": "float64",
          "shape": [
           6
          ]
         },
         "xaxis": "x2",
         "yaxis": "y2"
        },
        {
         "boxpoints": "all",
         "marker": {
          "color": "#BAB0AC",
          "size": 5
         },
         "name": "Patients/Pat379/SLAMF7",
         "type": "box",
         "uid": "4738d765-0ef7-4cde-a7ed-96ef7a52f412",
         "width": 0.5,
         "x": {
          "dtype": "float64",
          "shape": [
           7
          ]
         },
         "xaxis": "x2",
         "yaxis": "y2"
        },
        {
         "boxpoints": "all",
         "marker": {
          "color": "#4C78A8",
          "size": 5
         },
         "name": "Patients/Pat394/BCMA",
         "type": "box",
         "uid": "53531d9f-4caf-4473-a3d6-cb96d85acbf8",
         "width": 0.5,
         "x": {
          "dtype": "float64",
          "shape": [
           14
          ]
         },
         "xaxis": "x2",
         "yaxis": "y2"
        },
        {
         "boxpoints": "all",
         "marker": {
          "color": "#F58518",
          "size": 5
         },
         "name": "Patients/Pat394/CD138",
         "type": "box",
         "uid": "d55a4024-5129-406c-9172-86ae38b99212",
         "width": 0.5,
         "x": {
          "dtype": "float64",
          "shape": [
           9
          ]
         },
         "xaxis": "x2",
         "yaxis": "y2"
        },
        {
         "boxpoints": "all",
         "marker": {
          "color": "#E45756",
          "size": 5
         },
         "name": "Patients/Pat394/CD19",
         "type": "box",
         "uid": "723ac77f-55e1-4881-9357-12c7375b0a5e",
         "width": 0.5,
         "x": {
          "dtype": "float64",
          "shape": [
           6
          ]
         },
         "xaxis": "x2",
         "yaxis": "y2"
        },
        {
         "boxpoints": "all",
         "marker": {
          "color": "#72B7B2",
          "size": 5
         },
         "name": "Patients/Pat394/CD20",
         "type": "box",
         "uid": "c0276d9d-a36c-4192-bb1d-28ed59b837cf",
         "width": 0.5,
         "x": {
          "dtype": "float64",
          "shape": [
           8
          ]
         },
         "xaxis": "x2",
         "yaxis": "y2"
        },
        {
         "boxpoints": "all",
         "marker": {
          "color": "#54A24B",
          "size": 5
         },
         "name": "Patients/Pat394/CD38",
         "type": "box",
         "uid": "92662738-8905-4a24-af86-76b53610f629",
         "width": 0.5,
         "x": {
          "dtype": "float64",
          "shape": [
           9
          ]
         },
         "xaxis": "x2",
         "yaxis": "y2"
        },
        {
         "boxpoints": "all",
         "marker": {
          "color": "#EECA3B",
          "size": 5
         },
         "name": "Patients/Pat394/GPRCD5",
         "type": "box",
         "uid": "d8120361-0882-4cdb-b62d-b89ab8630700",
         "width": 0.5,
         "x": {
          "dtype": "float64",
          "shape": [
           7
          ]
         },
         "xaxis": "x2",
         "yaxis": "y2"
        },
        {
         "boxpoints": "all",
         "marker": {
          "color": "#B279A2",
          "size": 5
         },
         "name": "Patients/Pat394/SLAMF7",
         "type": "box",
         "uid": "0d6cf122-9f18-4f27-887e-7ed6e24c0b9e",
         "width": 0.5,
         "x": {
          "dtype": "float64",
          "shape": [
           3
          ]
         },
         "xaxis": "x2",
         "yaxis": "y2"
        },
        {
         "boxpoints": "all",
         "marker": {
          "color": "#FF9DA6",
          "size": 5
         },
         "name": "Patients/Pat394/SLAMF7/1",
         "type": "box",
         "uid": "0ed807e6-60e3-4ddf-8e80-cfe19a00a040",
         "width": 0.5,
         "x": {
          "dtype": "float64",
          "shape": [
           6
          ]
         },
         "xaxis": "x2",
         "yaxis": "y2"
        },
        {
         "boxpoints": "all",
         "marker": {
          "color": "#4C78A8",
          "size": 5
         },
         "name": "AML/1",
         "type": "box",
         "uid": "893c5fa8-2545-414f-8aa3-d055ab0f85e4",
         "width": 0.5,
         "x": {
          "dtype": "float64",
          "shape": [
           11
          ]
         },
         "xaxis": "x3",
         "yaxis": "y3"
        },
        {
         "boxpoints": "all",
         "marker": {
          "color": "#F58518",
          "size": 5
         },
         "name": "AML/7",
         "type": "box",
         "uid": "bdb08e25-56f7-48c7-9b2d-0e57ae124cd8",
         "width": 0.5,
         "x": {
          "dtype": "float64",
          "shape": [
           13
          ]
         },
         "xaxis": "x3",
         "yaxis": "y3"
        },
        {
         "boxpoints": "all",
         "marker": {
          "color": "#E45756",
          "size": 5
         },
         "name": "AML/8",
         "type": "box",
         "uid": "7fe6d601-7ff2-48b6-8473-983bfe8a8db7",
         "width": 0.5,
         "x": {
          "dtype": "float64",
          "shape": [
           10
          ]
         },
         "xaxis": "x3",
         "yaxis": "y3"
        },
        {
         "boxpoints": "all",
         "marker": {
          "color": "#72B7B2",
          "size": 5
         },
         "name": "Cellcycle/CD2/HU",
         "type": "box",
         "uid": "e10af05d-efd2-4511-8c72-1debe756475f",
         "width": 0.5,
         "x": {
          "dtype": "float64",
          "shape": [
           5
          ]
         },
         "xaxis": "x3",
         "yaxis": "y3"
        },
        {
         "boxpoints": "all",
         "marker": {
          "color": "#54A24B",
          "size": 5
         },
         "name": "Cellcycle/CD69/FCS",
         "type": "box",
         "uid": "c6460186-2dbd-4ff8-a446-fb67d130fc5f",
         "width": 0.5,
         "x": {
          "dtype": "float64",
          "shape": [
           9
          ]
         },
         "xaxis": "x3",
         "yaxis": "y3"
        },
        {
         "boxpoints": "all",
         "marker": {
          "color": "#EECA3B",
          "size": 5
         },
         "name": "Cellcycle/CD69/HU",
         "type": "box",
         "uid": "16d7fe7f-1a4f-45aa-85e4-3650b6b9a048",
         "width": 0.5,
         "x": {
          "dtype": "float64",
          "shape": [
           2
          ]
         },
         "xaxis": "x3",
         "yaxis": "y3"
        },
        {
         "boxpoints": "all",
         "marker": {
          "color": "#B279A2",
          "size": 5
         },
         "name": "Cellcycle/Cd28/FCS",
         "type": "box",
         "uid": "2e5fb8c5-0415-4d77-bfae-85af5f0c5126",
         "width": 0.5,
         "x": {
          "dtype": "float64",
          "shape": [
           7
          ]
         },
         "xaxis": "x3",
         "yaxis": "y3"
        },
        {
         "boxpoints": "all",
         "marker": {
          "color": "#FF9DA6",
          "size": 5
         },
         "name": "Cellcycle/Cd28/HU",
         "type": "box",
         "uid": "d99c193f-abed-4b56-a946-31128366b0b9",
         "width": 0.5,
         "x": {
          "dtype": "float64",
          "shape": [
           17
          ]
         },
         "xaxis": "x3",
         "yaxis": "y3"
        },
        {
         "boxpoints": "all",
         "marker": {
          "color": "#9D755D",
          "size": 5
         },
         "name": "Cellcycle/Cd28/K",
         "type": "box",
         "uid": "0d4cc09e-09b9-4293-914c-737aac9fbdbc",
         "width": 0.5,
         "x": {
          "dtype": "float64",
          "shape": [
           12
          ]
         },
         "xaxis": "x3",
         "yaxis": "y3"
        },
        {
         "boxpoints": "all",
         "marker": {
          "color": "#BAB0AC",
          "size": 5
         },
         "name": "Cellcycle/Cd3/FCS",
         "type": "box",
         "uid": "2b4951c9-3eee-4e39-92aa-26e0a48f246b",
         "width": 0.5,
         "x": {
          "dtype": "float64",
          "shape": [
           9
          ]
         },
         "xaxis": "x3",
         "yaxis": "y3"
        },
        {
         "boxpoints": "all",
         "marker": {
          "color": "#4C78A8",
          "size": 5
         },
         "name": "Cellcycle/Cd3/HU",
         "type": "box",
         "uid": "b3837fe9-42b4-4df2-86b5-ae0c68f0abdf",
         "width": 0.5,
         "x": {
          "dtype": "float64",
          "shape": [
           13
          ]
         },
         "xaxis": "x3",
         "yaxis": "y3"
        },
        {
         "boxpoints": "all",
         "marker": {
          "color": "#F58518",
          "size": 5
         },
         "name": "Cellcycle/Cd3/K",
         "type": "box",
         "uid": "a04ac808-2f55-4654-8450-467d73c009e0",
         "width": 0.5,
         "x": {
          "dtype": "float64",
          "shape": [
           5
          ]
         },
         "xaxis": "x3",
         "yaxis": "y3"
        },
        {
         "boxpoints": "all",
         "marker": {
          "color": "#E45756",
          "size": 5
         },
         "name": "Jurkat/CD105/5",
         "type": "box",
         "uid": "7aeed1fb-1efe-486d-a767-02ce1aa2db48",
         "width": 0.5,
         "x": {
          "dtype": "float64",
          "shape": [
           6
          ]
         },
         "xaxis": "x3",
         "yaxis": "y3"
        },
        {
         "boxpoints": "all",
         "marker": {
          "color": "#72B7B2",
          "size": 5
         },
         "name": "Jurkat/CD11a",
         "type": "box",
         "uid": "381b4638-3221-40b4-8c08-3766458aae67",
         "width": 0.5,
         "x": {
          "dtype": "float64",
          "shape": [
           13
          ]
         },
         "xaxis": "x3",
         "yaxis": "y3"
        },
        {
         "boxpoints": "all",
         "marker": {
          "color": "#54A24B",
          "size": 5
         },
         "name": "Jurkat/CD18",
         "type": "box",
         "uid": "f73d23ec-be1c-42a8-bb24-c621bd1074d7",
         "width": 0.5,
         "x": {
          "dtype": "float64",
          "shape": [
           20
          ]
         },
         "xaxis": "x3",
         "yaxis": "y3"
        },
        {
         "boxpoints": "all",
         "marker": {
          "color": "#EECA3B",
          "size": 5
         },
         "name": "Jurkat/CD2",
         "type": "box",
         "uid": "1c44547c-89ef-4cd6-b20d-bd86e0310652",
         "width": 0.5,
         "x": {
          "dtype": "float64",
          "shape": [
           7
          ]
         },
         "xaxis": "x3",
         "yaxis": "y3"
        },
        {
         "boxpoints": "all",
         "marker": {
          "color": "#B279A2",
          "size": 5
         },
         "name": "Jurkat/CD45/CD45",
         "type": "box",
         "uid": "99b89831-5d3b-4c1f-b061-7ad1bf3ed6b4",
         "width": 0.5,
         "x": {
          "dtype": "float64",
          "shape": [
           14
          ]
         },
         "xaxis": "x3",
         "yaxis": "y3"
        },
        {
         "boxpoints": "all",
         "marker": {
          "color": "#FF9DA6",
          "size": 5
         },
         "name": "Jurkat/CD69",
         "type": "box",
         "uid": "e0c35523-62a7-410f-a79c-5f7f3ed2c069",
         "width": 0.5,
         "x": {
          "dtype": "float64",
          "shape": [
           27
          ]
         },
         "xaxis": "x3",
         "yaxis": "y3"
        },
        {
         "boxpoints": "all",
         "marker": {
          "color": "#9D755D",
          "size": 5
         },
         "name": "Jurkat/CD69/Cd69_K",
         "type": "box",
         "uid": "11cf673e-9bc0-497b-b192-b26c77366853",
         "width": 0.5,
         "x": {
          "dtype": "float64",
          "shape": [
           5
          ]
         },
         "xaxis": "x3",
         "yaxis": "y3"
        },
        {
         "boxpoints": "all",
         "marker": {
          "color": "#BAB0AC",
          "size": 5
         },
         "name": "Jurkat/Cd45_pab_sab",
         "type": "box",
         "uid": "6392780e-33a4-4d84-897f-202b0eb587a1",
         "width": 0.5,
         "x": {
          "dtype": "float64",
          "shape": [
           13
          ]
         },
         "xaxis": "x3",
         "yaxis": "y3"
        },
        {
         "boxpoints": "all",
         "marker": {
          "color": "#4C78A8",
          "size": 5
         },
         "name": "Jurkat/Cd69_twocolor",
         "type": "box",
         "uid": "789485a2-c27d-401e-a406-6d2341c54695",
         "width": 0.5,
         "x": {
          "dtype": "float64",
          "shape": [
           6
          ]
         },
         "xaxis": "x3",
         "yaxis": "y3"
        },
        {
         "boxpoints": "all",
         "marker": {
          "color": "#F58518",
          "size": 5
         },
         "name": "Jurkat/LFA1",
         "type": "box",
         "uid": "b909c8f6-f162-4671-bf2d-b4cf39e60f65",
         "width": 0.5,
         "x": {
          "dtype": "float64",
          "shape": [
           18
          ]
         },
         "xaxis": "x3",
         "yaxis": "y3"
        },
        {
         "boxpoints": "all",
         "marker": {
          "color": "#E45756",
          "size": 5
         },
         "name": "Pat23_CD38",
         "type": "box",
         "uid": "a94f03ce-8bd7-4901-94a3-de57d953ba38",
         "width": 0.5,
         "x": {
          "dtype": "float64",
          "shape": [
           127
          ]
         },
         "xaxis": "x3",
         "yaxis": "y3"
        },
        {
         "boxpoints": "all",
         "marker": {
          "color": "#72B7B2",
          "size": 5
         },
         "name": "Patients/Pat379/BCMA",
         "type": "box",
         "uid": "b0791e79-bf67-4946-b7dc-77dbfb9633a2",
         "width": 0.5,
         "x": {
          "dtype": "float64",
          "shape": [
           4
          ]
         },
         "xaxis": "x3",
         "yaxis": "y3"
        },
        {
         "boxpoints": "all",
         "marker": {
          "color": "#54A24B",
          "size": 5
         },
         "name": "Patients/Pat379/CD138",
         "type": "box",
         "uid": "fe26f9ee-e381-40a7-a703-808bba52f2cb",
         "width": 0.5,
         "x": {
          "dtype": "float64",
          "shape": [
           7
          ]
         },
         "xaxis": "x3",
         "yaxis": "y3"
        },
        {
         "boxpoints": "all",
         "marker": {
          "color": "#EECA3B",
          "size": 5
         },
         "name": "Patients/Pat379/CD19",
         "type": "box",
         "uid": "4027aa46-ca3e-4b17-887d-9806179bb77c",
         "width": 0.5,
         "x": {
          "dtype": "float64",
          "shape": [
           11
          ]
         },
         "xaxis": "x3",
         "yaxis": "y3"
        },
        {
         "boxpoints": "all",
         "marker": {
          "color": "#B279A2",
          "size": 5
         },
         "name": "Patients/Pat379/CD20",
         "type": "box",
         "uid": "bc494215-0774-4d48-9f45-ba85346e04ea",
         "width": 0.5,
         "x": {
          "dtype": "float64",
          "shape": [
           8
          ]
         },
         "xaxis": "x3",
         "yaxis": "y3"
        },
        {
         "boxpoints": "all",
         "marker": {
          "color": "#FF9DA6",
          "size": 5
         },
         "name": "Patients/Pat379/CD38",
         "type": "box",
         "uid": "f520ad9d-910a-4656-81cc-29b0f920130e",
         "width": 0.5,
         "x": {
          "dtype": "float64",
          "shape": [
           6
          ]
         },
         "xaxis": "x3",
         "yaxis": "y3"
        },
        {
         "boxpoints": "all",
         "marker": {
          "color": "#9D755D",
          "size": 5
         },
         "name": "Patients/Pat379/GPRCD5",
         "type": "box",
         "uid": "1f34d305-1d8f-4f64-a15a-45f480f66716",
         "width": 0.5,
         "x": {
          "dtype": "float64",
          "shape": [
           6
          ]
         },
         "xaxis": "x3",
         "yaxis": "y3"
        },
        {
         "boxpoints": "all",
         "marker": {
          "color": "#BAB0AC",
          "size": 5
         },
         "name": "Patients/Pat379/SLAMF7",
         "type": "box",
         "uid": "ca7f328b-2783-4232-b5bd-94ef283c89d4",
         "width": 0.5,
         "x": {
          "dtype": "float64",
          "shape": [
           7
          ]
         },
         "xaxis": "x3",
         "yaxis": "y3"
        },
        {
         "boxpoints": "all",
         "marker": {
          "color": "#4C78A8",
          "size": 5
         },
         "name": "Patients/Pat394/BCMA",
         "type": "box",
         "uid": "9069ee4c-74b0-4474-9243-3d548c135beb",
         "width": 0.5,
         "x": {
          "dtype": "float64",
          "shape": [
           14
          ]
         },
         "xaxis": "x3",
         "yaxis": "y3"
        },
        {
         "boxpoints": "all",
         "marker": {
          "color": "#F58518",
          "size": 5
         },
         "name": "Patients/Pat394/CD138",
         "type": "box",
         "uid": "81751edd-ed59-4285-ad56-14787fded99a",
         "width": 0.5,
         "x": {
          "dtype": "float64",
          "shape": [
           9
          ]
         },
         "xaxis": "x3",
         "yaxis": "y3"
        },
        {
         "boxpoints": "all",
         "marker": {
          "color": "#E45756",
          "size": 5
         },
         "name": "Patients/Pat394/CD19",
         "type": "box",
         "uid": "8d188532-aa69-4818-bacd-3cf640c1817c",
         "width": 0.5,
         "x": {
          "dtype": "float64",
          "shape": [
           6
          ]
         },
         "xaxis": "x3",
         "yaxis": "y3"
        },
        {
         "boxpoints": "all",
         "marker": {
          "color": "#72B7B2",
          "size": 5
         },
         "name": "Patients/Pat394/CD20",
         "type": "box",
         "uid": "c0d06363-a3df-4756-ab29-bde901b10952",
         "width": 0.5,
         "x": {
          "dtype": "float64",
          "shape": [
           8
          ]
         },
         "xaxis": "x3",
         "yaxis": "y3"
        },
        {
         "boxpoints": "all",
         "marker": {
          "color": "#54A24B",
          "size": 5
         },
         "name": "Patients/Pat394/CD38",
         "type": "box",
         "uid": "a22b47ad-8303-40f9-a4ee-02d3585ebf8b",
         "width": 0.5,
         "x": {
          "dtype": "float64",
          "shape": [
           9
          ]
         },
         "xaxis": "x3",
         "yaxis": "y3"
        },
        {
         "boxpoints": "all",
         "marker": {
          "color": "#EECA3B",
          "size": 5
         },
         "name": "Patients/Pat394/GPRCD5",
         "type": "box",
         "uid": "0d0ed267-f0bc-4987-b448-54da459417ff",
         "width": 0.5,
         "x": {
          "dtype": "float64",
          "shape": [
           7
          ]
         },
         "xaxis": "x3",
         "yaxis": "y3"
        },
        {
         "boxpoints": "all",
         "marker": {
          "color": "#B279A2",
          "size": 5
         },
         "name": "Patients/Pat394/SLAMF7",
         "type": "box",
         "uid": "63091520-0aed-4e6b-ba9c-f8ebd7425763",
         "width": 0.5,
         "x": {
          "dtype": "float64",
          "shape": [
           3
          ]
         },
         "xaxis": "x3",
         "yaxis": "y3"
        },
        {
         "boxpoints": "all",
         "marker": {
          "color": "#FF9DA6",
          "size": 5
         },
         "name": "Patients/Pat394/SLAMF7/1",
         "type": "box",
         "uid": "aac1516e-317e-4a23-8ae9-ac6aeb881e0b",
         "width": 0.5,
         "x": {
          "dtype": "float64",
          "shape": [
           6
          ]
         },
         "xaxis": "x3",
         "yaxis": "y3"
        },
        {
         "boxpoints": "all",
         "marker": {
          "color": "#4C78A8",
          "size": 5
         },
         "name": "AML/1",
         "type": "box",
         "uid": "cf682240-0f32-4eb6-92e5-ab363f5a8c17",
         "width": 0.5,
         "x": {
          "dtype": "float64",
          "shape": [
           11
          ]
         },
         "xaxis": "x4",
         "yaxis": "y4"
        },
        {
         "boxpoints": "all",
         "marker": {
          "color": "#F58518",
          "size": 5
         },
         "name": "AML/7",
         "type": "box",
         "uid": "1b844e89-862f-49f3-ab00-980e17268a03",
         "width": 0.5,
         "x": {
          "dtype": "float64",
          "shape": [
           13
          ]
         },
         "xaxis": "x4",
         "yaxis": "y4"
        },
        {
         "boxpoints": "all",
         "marker": {
          "color": "#E45756",
          "size": 5
         },
         "name": "AML/8",
         "type": "box",
         "uid": "a7d07f4c-0c6c-41ef-b025-b39ad7faf84a",
         "width": 0.5,
         "x": {
          "dtype": "float64",
          "shape": [
           10
          ]
         },
         "xaxis": "x4",
         "yaxis": "y4"
        },
        {
         "boxpoints": "all",
         "marker": {
          "color": "#72B7B2",
          "size": 5
         },
         "name": "Cellcycle/CD2/HU",
         "type": "box",
         "uid": "b7db26ad-9d15-4dab-af6a-00348d537f87",
         "width": 0.5,
         "x": {
          "dtype": "float64",
          "shape": [
           5
          ]
         },
         "xaxis": "x4",
         "yaxis": "y4"
        },
        {
         "boxpoints": "all",
         "marker": {
          "color": "#54A24B",
          "size": 5
         },
         "name": "Cellcycle/CD69/FCS",
         "type": "box",
         "uid": "0565a663-fdc1-4f37-8d5e-21135e59e029",
         "width": 0.5,
         "x": {
          "dtype": "float64",
          "shape": [
           9
          ]
         },
         "xaxis": "x4",
         "yaxis": "y4"
        },
        {
         "boxpoints": "all",
         "marker": {
          "color": "#EECA3B",
          "size": 5
         },
         "name": "Cellcycle/CD69/HU",
         "type": "box",
         "uid": "7a45943f-351c-4b67-8566-42e9db162644",
         "width": 0.5,
         "x": {
          "dtype": "float64",
          "shape": [
           2
          ]
         },
         "xaxis": "x4",
         "yaxis": "y4"
        },
        {
         "boxpoints": "all",
         "marker": {
          "color": "#B279A2",
          "size": 5
         },
         "name": "Cellcycle/Cd28/FCS",
         "type": "box",
         "uid": "dc56857c-e0e1-4243-aa3c-0d6849e28acc",
         "width": 0.5,
         "x": {
          "dtype": "float64",
          "shape": [
           7
          ]
         },
         "xaxis": "x4",
         "yaxis": "y4"
        },
        {
         "boxpoints": "all",
         "marker": {
          "color": "#FF9DA6",
          "size": 5
         },
         "name": "Cellcycle/Cd28/HU",
         "type": "box",
         "uid": "a9ed3ef7-1126-4177-af21-0259c0aeb86c",
         "width": 0.5,
         "x": {
          "dtype": "float64",
          "shape": [
           17
          ]
         },
         "xaxis": "x4",
         "yaxis": "y4"
        },
        {
         "boxpoints": "all",
         "marker": {
          "color": "#9D755D",
          "size": 5
         },
         "name": "Cellcycle/Cd28/K",
         "type": "box",
         "uid": "ad35b4a1-7c96-4862-bcc5-df253a67897e",
         "width": 0.5,
         "x": {
          "dtype": "float64",
          "shape": [
           12
          ]
         },
         "xaxis": "x4",
         "yaxis": "y4"
        },
        {
         "boxpoints": "all",
         "marker": {
          "color": "#BAB0AC",
          "size": 5
         },
         "name": "Cellcycle/Cd3/FCS",
         "type": "box",
         "uid": "608fb30b-42b8-43ed-a3d8-0d1ceadba000",
         "width": 0.5,
         "x": {
          "dtype": "float64",
          "shape": [
           9
          ]
         },
         "xaxis": "x4",
         "yaxis": "y4"
        },
        {
         "boxpoints": "all",
         "marker": {
          "color": "#4C78A8",
          "size": 5
         },
         "name": "Cellcycle/Cd3/HU",
         "type": "box",
         "uid": "b9d26e53-fba7-490f-9444-6f2a39858074",
         "width": 0.5,
         "x": {
          "dtype": "float64",
          "shape": [
           13
          ]
         },
         "xaxis": "x4",
         "yaxis": "y4"
        },
        {
         "boxpoints": "all",
         "marker": {
          "color": "#F58518",
          "size": 5
         },
         "name": "Cellcycle/Cd3/K",
         "type": "box",
         "uid": "49ad8cd1-f951-486a-b1a5-4f3a5a7f34c1",
         "width": 0.5,
         "x": {
          "dtype": "float64",
          "shape": [
           5
          ]
         },
         "xaxis": "x4",
         "yaxis": "y4"
        },
        {
         "boxpoints": "all",
         "marker": {
          "color": "#E45756",
          "size": 5
         },
         "name": "Jurkat/CD105/5",
         "type": "box",
         "uid": "905086c0-0187-4954-92f9-05b5fc5a9d84",
         "width": 0.5,
         "x": {
          "dtype": "float64",
          "shape": [
           6
          ]
         },
         "xaxis": "x4",
         "yaxis": "y4"
        },
        {
         "boxpoints": "all",
         "marker": {
          "color": "#72B7B2",
          "size": 5
         },
         "name": "Jurkat/CD11a",
         "type": "box",
         "uid": "1e09111b-acb2-41b3-81b4-2329616a685e",
         "width": 0.5,
         "x": {
          "dtype": "float64",
          "shape": [
           13
          ]
         },
         "xaxis": "x4",
         "yaxis": "y4"
        },
        {
         "boxpoints": "all",
         "marker": {
          "color": "#54A24B",
          "size": 5
         },
         "name": "Jurkat/CD18",
         "type": "box",
         "uid": "900457fc-d5b3-4a01-a0fb-c46f08613693",
         "width": 0.5,
         "x": {
          "dtype": "float64",
          "shape": [
           20
          ]
         },
         "xaxis": "x4",
         "yaxis": "y4"
        },
        {
         "boxpoints": "all",
         "marker": {
          "color": "#EECA3B",
          "size": 5
         },
         "name": "Jurkat/CD2",
         "type": "box",
         "uid": "3a576376-45c1-480b-9ffd-22d4d30e9291",
         "width": 0.5,
         "x": {
          "dtype": "float64",
          "shape": [
           7
          ]
         },
         "xaxis": "x4",
         "yaxis": "y4"
        },
        {
         "boxpoints": "all",
         "marker": {
          "color": "#B279A2",
          "size": 5
         },
         "name": "Jurkat/CD45/CD45",
         "type": "box",
         "uid": "0126efe4-1b42-4796-935b-3712df826465",
         "width": 0.5,
         "x": {
          "dtype": "float64",
          "shape": [
           14
          ]
         },
         "xaxis": "x4",
         "yaxis": "y4"
        },
        {
         "boxpoints": "all",
         "marker": {
          "color": "#FF9DA6",
          "size": 5
         },
         "name": "Jurkat/CD69",
         "type": "box",
         "uid": "29eb00fb-9870-4373-8fe1-14bc86101316",
         "width": 0.5,
         "x": {
          "dtype": "float64",
          "shape": [
           27
          ]
         },
         "xaxis": "x4",
         "yaxis": "y4"
        },
        {
         "boxpoints": "all",
         "marker": {
          "color": "#9D755D",
          "size": 5
         },
         "name": "Jurkat/CD69/Cd69_K",
         "type": "box",
         "uid": "8a109afa-8b3e-44d1-b5e5-4ea52bae795c",
         "width": 0.5,
         "x": {
          "dtype": "float64",
          "shape": [
           5
          ]
         },
         "xaxis": "x4",
         "yaxis": "y4"
        },
        {
         "boxpoints": "all",
         "marker": {
          "color": "#BAB0AC",
          "size": 5
         },
         "name": "Jurkat/Cd45_pab_sab",
         "type": "box",
         "uid": "bc8a5f01-db8a-4f67-9394-d144308a063b",
         "width": 0.5,
         "x": {
          "dtype": "float64",
          "shape": [
           13
          ]
         },
         "xaxis": "x4",
         "yaxis": "y4"
        },
        {
         "boxpoints": "all",
         "marker": {
          "color": "#4C78A8",
          "size": 5
         },
         "name": "Jurkat/Cd69_twocolor",
         "type": "box",
         "uid": "54bb98b9-154b-44b0-bfe8-eeeac8987fe9",
         "width": 0.5,
         "x": {
          "dtype": "float64",
          "shape": [
           6
          ]
         },
         "xaxis": "x4",
         "yaxis": "y4"
        },
        {
         "boxpoints": "all",
         "marker": {
          "color": "#F58518",
          "size": 5
         },
         "name": "Jurkat/LFA1",
         "type": "box",
         "uid": "4b0ea848-16e6-4c31-a5f0-ecb4c05e8fb3",
         "width": 0.5,
         "x": {
          "dtype": "float64",
          "shape": [
           18
          ]
         },
         "xaxis": "x4",
         "yaxis": "y4"
        },
        {
         "boxpoints": "all",
         "marker": {
          "color": "#E45756",
          "size": 5
         },
         "name": "Pat23_CD38",
         "type": "box",
         "uid": "c159c4cb-bd43-413d-a5ce-d3472dcb95c7",
         "width": 0.5,
         "x": {
          "dtype": "float64",
          "shape": [
           127
          ]
         },
         "xaxis": "x4",
         "yaxis": "y4"
        },
        {
         "boxpoints": "all",
         "marker": {
          "color": "#72B7B2",
          "size": 5
         },
         "name": "Patients/Pat379/BCMA",
         "type": "box",
         "uid": "8adf1eb9-ff8d-4f43-a97c-51cd355c6d03",
         "width": 0.5,
         "x": {
          "dtype": "float64",
          "shape": [
           4
          ]
         },
         "xaxis": "x4",
         "yaxis": "y4"
        },
        {
         "boxpoints": "all",
         "marker": {
          "color": "#54A24B",
          "size": 5
         },
         "name": "Patients/Pat379/CD138",
         "type": "box",
         "uid": "5ab4a54f-a3ea-4431-a53c-28a8c4f1badc",
         "width": 0.5,
         "x": {
          "dtype": "float64",
          "shape": [
           7
          ]
         },
         "xaxis": "x4",
         "yaxis": "y4"
        },
        {
         "boxpoints": "all",
         "marker": {
          "color": "#EECA3B",
          "size": 5
         },
         "name": "Patients/Pat379/CD19",
         "type": "box",
         "uid": "b1010f6b-b18e-4897-8b51-c896701087f2",
         "width": 0.5,
         "x": {
          "dtype": "float64",
          "shape": [
           11
          ]
         },
         "xaxis": "x4",
         "yaxis": "y4"
        },
        {
         "boxpoints": "all",
         "marker": {
          "color": "#B279A2",
          "size": 5
         },
         "name": "Patients/Pat379/CD20",
         "type": "box",
         "uid": "e0e3ac6c-d2e7-4163-815b-d1ddbe2f83c7",
         "width": 0.5,
         "x": {
          "dtype": "float64",
          "shape": [
           8
          ]
         },
         "xaxis": "x4",
         "yaxis": "y4"
        },
        {
         "boxpoints": "all",
         "marker": {
          "color": "#FF9DA6",
          "size": 5
         },
         "name": "Patients/Pat379/CD38",
         "type": "box",
         "uid": "36d7c848-c40d-49c6-8122-712c6599d8dd",
         "width": 0.5,
         "x": {
          "dtype": "float64",
          "shape": [
           6
          ]
         },
         "xaxis": "x4",
         "yaxis": "y4"
        },
        {
         "boxpoints": "all",
         "marker": {
          "color": "#9D755D",
          "size": 5
         },
         "name": "Patients/Pat379/GPRCD5",
         "type": "box",
         "uid": "a1f85167-2ce1-4e11-b602-0cee505b5e3b",
         "width": 0.5,
         "x": {
          "dtype": "float64",
          "shape": [
           6
          ]
         },
         "xaxis": "x4",
         "yaxis": "y4"
        },
        {
         "boxpoints": "all",
         "marker": {
          "color": "#BAB0AC",
          "size": 5
         },
         "name": "Patients/Pat379/SLAMF7",
         "type": "box",
         "uid": "f582919a-c40d-442a-a580-95c4068e141b",
         "width": 0.5,
         "x": {
          "dtype": "float64",
          "shape": [
           7
          ]
         },
         "xaxis": "x4",
         "yaxis": "y4"
        },
        {
         "boxpoints": "all",
         "marker": {
          "color": "#4C78A8",
          "size": 5
         },
         "name": "Patients/Pat394/BCMA",
         "type": "box",
         "uid": "2222aff6-8464-456b-9c0b-3c86d508ba6d",
         "width": 0.5,
         "x": {
          "dtype": "float64",
          "shape": [
           14
          ]
         },
         "xaxis": "x4",
         "yaxis": "y4"
        },
        {
         "boxpoints": "all",
         "marker": {
          "color": "#F58518",
          "size": 5
         },
         "name": "Patients/Pat394/CD138",
         "type": "box",
         "uid": "252f6a53-b3ea-4394-ae9b-82a24b20dbcf",
         "width": 0.5,
         "x": {
          "dtype": "float64",
          "shape": [
           9
          ]
         },
         "xaxis": "x4",
         "yaxis": "y4"
        },
        {
         "boxpoints": "all",
         "marker": {
          "color": "#E45756",
          "size": 5
         },
         "name": "Patients/Pat394/CD19",
         "type": "box",
         "uid": "e259ea18-1a46-4f44-9a4a-b0832d06fdb4",
         "width": 0.5,
         "x": {
          "dtype": "float64",
          "shape": [
           6
          ]
         },
         "xaxis": "x4",
         "yaxis": "y4"
        },
        {
         "boxpoints": "all",
         "marker": {
          "color": "#72B7B2",
          "size": 5
         },
         "name": "Patients/Pat394/CD20",
         "type": "box",
         "uid": "60d553d2-eba2-41cc-9516-a45ebf9e4ce1",
         "width": 0.5,
         "x": {
          "dtype": "float64",
          "shape": [
           8
          ]
         },
         "xaxis": "x4",
         "yaxis": "y4"
        },
        {
         "boxpoints": "all",
         "marker": {
          "color": "#54A24B",
          "size": 5
         },
         "name": "Patients/Pat394/CD38",
         "type": "box",
         "uid": "9ec0bfb9-2859-443b-925e-7889d07265a3",
         "width": 0.5,
         "x": {
          "dtype": "float64",
          "shape": [
           9
          ]
         },
         "xaxis": "x4",
         "yaxis": "y4"
        },
        {
         "boxpoints": "all",
         "marker": {
          "color": "#EECA3B",
          "size": 5
         },
         "name": "Patients/Pat394/GPRCD5",
         "type": "box",
         "uid": "30dfe4ca-74a9-49c9-b3fb-be2d27ca97fd",
         "width": 0.5,
         "x": {
          "dtype": "float64",
          "shape": [
           7
          ]
         },
         "xaxis": "x4",
         "yaxis": "y4"
        },
        {
         "boxpoints": "all",
         "marker": {
          "color": "#B279A2",
          "size": 5
         },
         "name": "Patients/Pat394/SLAMF7",
         "type": "box",
         "uid": "4369d6e3-6aa7-4403-81f1-190551621a50",
         "width": 0.5,
         "x": {
          "dtype": "float64",
          "shape": [
           3
          ]
         },
         "xaxis": "x4",
         "yaxis": "y4"
        },
        {
         "boxpoints": "all",
         "marker": {
          "color": "#FF9DA6",
          "size": 5
         },
         "name": "Patients/Pat394/SLAMF7/1",
         "type": "box",
         "uid": "9b0b2a0b-31bc-4d69-b9b1-b118c2e17602",
         "width": 0.5,
         "x": {
          "dtype": "float64",
          "shape": [
           6
          ]
         },
         "xaxis": "x4",
         "yaxis": "y4"
        },
        {
         "boxpoints": "all",
         "marker": {
          "color": "#4C78A8",
          "size": 5
         },
         "name": "AML/1",
         "type": "box",
         "uid": "276e0f05-64fe-400e-bda6-19d4822d6c34",
         "width": 0.5,
         "x": {
          "dtype": "float64",
          "shape": [
           11
          ]
         },
         "xaxis": "x5",
         "yaxis": "y5"
        },
        {
         "boxpoints": "all",
         "marker": {
          "color": "#F58518",
          "size": 5
         },
         "name": "AML/7",
         "type": "box",
         "uid": "c074c0ec-3d58-49ee-a3d5-e207ca8d77ad",
         "width": 0.5,
         "x": {
          "dtype": "float64",
          "shape": [
           13
          ]
         },
         "xaxis": "x5",
         "yaxis": "y5"
        },
        {
         "boxpoints": "all",
         "marker": {
          "color": "#E45756",
          "size": 5
         },
         "name": "AML/8",
         "type": "box",
         "uid": "a2b8628b-e11c-41ef-96e5-974adcf246aa",
         "width": 0.5,
         "x": {
          "dtype": "float64",
          "shape": [
           10
          ]
         },
         "xaxis": "x5",
         "yaxis": "y5"
        },
        {
         "boxpoints": "all",
         "marker": {
          "color": "#72B7B2",
          "size": 5
         },
         "name": "Cellcycle/CD2/HU",
         "type": "box",
         "uid": "7cf30d25-d41c-4039-b50f-ef967dff79e7",
         "width": 0.5,
         "x": {
          "dtype": "float64",
          "shape": [
           5
          ]
         },
         "xaxis": "x5",
         "yaxis": "y5"
        },
        {
         "boxpoints": "all",
         "marker": {
          "color": "#54A24B",
          "size": 5
         },
         "name": "Cellcycle/CD69/FCS",
         "type": "box",
         "uid": "c13d8fe5-b01f-4818-b0eb-08fed4b6fe3b",
         "width": 0.5,
         "x": {
          "dtype": "float64",
          "shape": [
           9
          ]
         },
         "xaxis": "x5",
         "yaxis": "y5"
        },
        {
         "boxpoints": "all",
         "marker": {
          "color": "#EECA3B",
          "size": 5
         },
         "name": "Cellcycle/CD69/HU",
         "type": "box",
         "uid": "551e7de2-37c7-4487-bc33-d38ef80c5269",
         "width": 0.5,
         "x": {
          "dtype": "float64",
          "shape": [
           2
          ]
         },
         "xaxis": "x5",
         "yaxis": "y5"
        },
        {
         "boxpoints": "all",
         "marker": {
          "color": "#B279A2",
          "size": 5
         },
         "name": "Cellcycle/Cd28/FCS",
         "type": "box",
         "uid": "657157e4-8bd7-46da-919a-b6cb0be7278c",
         "width": 0.5,
         "x": {
          "dtype": "float64",
          "shape": [
           7
          ]
         },
         "xaxis": "x5",
         "yaxis": "y5"
        },
        {
         "boxpoints": "all",
         "marker": {
          "color": "#FF9DA6",
          "size": 5
         },
         "name": "Cellcycle/Cd28/HU",
         "type": "box",
         "uid": "2d0baef9-2ee3-4335-a184-54642c45c524",
         "width": 0.5,
         "x": {
          "dtype": "float64",
          "shape": [
           17
          ]
         },
         "xaxis": "x5",
         "yaxis": "y5"
        },
        {
         "boxpoints": "all",
         "marker": {
          "color": "#9D755D",
          "size": 5
         },
         "name": "Cellcycle/Cd28/K",
         "type": "box",
         "uid": "bb0ea62b-2a54-47ab-b2e3-a14ef9ca7e91",
         "width": 0.5,
         "x": {
          "dtype": "float64",
          "shape": [
           12
          ]
         },
         "xaxis": "x5",
         "yaxis": "y5"
        },
        {
         "boxpoints": "all",
         "marker": {
          "color": "#BAB0AC",
          "size": 5
         },
         "name": "Cellcycle/Cd3/FCS",
         "type": "box",
         "uid": "141b99bc-454f-4654-aca0-c1c9dabf3adb",
         "width": 0.5,
         "x": {
          "dtype": "float64",
          "shape": [
           9
          ]
         },
         "xaxis": "x5",
         "yaxis": "y5"
        },
        {
         "boxpoints": "all",
         "marker": {
          "color": "#4C78A8",
          "size": 5
         },
         "name": "Cellcycle/Cd3/HU",
         "type": "box",
         "uid": "3189636c-1b5c-4114-9f90-2d61f29a22ed",
         "width": 0.5,
         "x": {
          "dtype": "float64",
          "shape": [
           13
          ]
         },
         "xaxis": "x5",
         "yaxis": "y5"
        },
        {
         "boxpoints": "all",
         "marker": {
          "color": "#F58518",
          "size": 5
         },
         "name": "Cellcycle/Cd3/K",
         "type": "box",
         "uid": "d1bf361a-be1c-4504-982b-4ba3f9bcb7a5",
         "width": 0.5,
         "x": {
          "dtype": "float64",
          "shape": [
           5
          ]
         },
         "xaxis": "x5",
         "yaxis": "y5"
        },
        {
         "boxpoints": "all",
         "marker": {
          "color": "#E45756",
          "size": 5
         },
         "name": "Jurkat/CD105/5",
         "type": "box",
         "uid": "de7a7e86-367e-469e-a777-d4d8d8173514",
         "width": 0.5,
         "x": {
          "dtype": "float64",
          "shape": [
           6
          ]
         },
         "xaxis": "x5",
         "yaxis": "y5"
        },
        {
         "boxpoints": "all",
         "marker": {
          "color": "#72B7B2",
          "size": 5
         },
         "name": "Jurkat/CD11a",
         "type": "box",
         "uid": "5cd5f85a-90ff-4d5a-99fd-bbe637ae29a5",
         "width": 0.5,
         "x": {
          "dtype": "float64",
          "shape": [
           13
          ]
         },
         "xaxis": "x5",
         "yaxis": "y5"
        },
        {
         "boxpoints": "all",
         "marker": {
          "color": "#54A24B",
          "size": 5
         },
         "name": "Jurkat/CD18",
         "type": "box",
         "uid": "e50f4e60-6ff4-468d-9770-9d00bde34fae",
         "width": 0.5,
         "x": {
          "dtype": "float64",
          "shape": [
           20
          ]
         },
         "xaxis": "x5",
         "yaxis": "y5"
        },
        {
         "boxpoints": "all",
         "marker": {
          "color": "#EECA3B",
          "size": 5
         },
         "name": "Jurkat/CD2",
         "type": "box",
         "uid": "bf93fde1-271f-4615-b681-93f3f75a45c9",
         "width": 0.5,
         "x": {
          "dtype": "float64",
          "shape": [
           7
          ]
         },
         "xaxis": "x5",
         "yaxis": "y5"
        },
        {
         "boxpoints": "all",
         "marker": {
          "color": "#B279A2",
          "size": 5
         },
         "name": "Jurkat/CD45/CD45",
         "type": "box",
         "uid": "9fdabb49-741c-4edd-8cc0-5c658bc16c66",
         "width": 0.5,
         "x": {
          "dtype": "float64",
          "shape": [
           14
          ]
         },
         "xaxis": "x5",
         "yaxis": "y5"
        },
        {
         "boxpoints": "all",
         "marker": {
          "color": "#FF9DA6",
          "size": 5
         },
         "name": "Jurkat/CD69",
         "type": "box",
         "uid": "9255cf92-9877-451a-bc05-0f638bff7e6a",
         "width": 0.5,
         "x": {
          "dtype": "float64",
          "shape": [
           27
          ]
         },
         "xaxis": "x5",
         "yaxis": "y5"
        },
        {
         "boxpoints": "all",
         "marker": {
          "color": "#9D755D",
          "size": 5
         },
         "name": "Jurkat/CD69/Cd69_K",
         "type": "box",
         "uid": "b8b4c765-4ae0-42c0-8154-2b69e66ecaf6",
         "width": 0.5,
         "x": {
          "dtype": "float64",
          "shape": [
           5
          ]
         },
         "xaxis": "x5",
         "yaxis": "y5"
        },
        {
         "boxpoints": "all",
         "marker": {
          "color": "#BAB0AC",
          "size": 5
         },
         "name": "Jurkat/Cd45_pab_sab",
         "type": "box",
         "uid": "1f186ad8-2c93-4e61-b5e1-dcb4b585f880",
         "width": 0.5,
         "x": {
          "dtype": "float64",
          "shape": [
           13
          ]
         },
         "xaxis": "x5",
         "yaxis": "y5"
        },
        {
         "boxpoints": "all",
         "marker": {
          "color": "#4C78A8",
          "size": 5
         },
         "name": "Jurkat/Cd69_twocolor",
         "type": "box",
         "uid": "c2b8581b-0dfc-4419-958c-4afd4748e450",
         "width": 0.5,
         "x": {
          "dtype": "float64",
          "shape": [
           6
          ]
         },
         "xaxis": "x5",
         "yaxis": "y5"
        },
        {
         "boxpoints": "all",
         "marker": {
          "color": "#F58518",
          "size": 5
         },
         "name": "Jurkat/LFA1",
         "type": "box",
         "uid": "26775412-b533-4067-8384-070a843ece47",
         "width": 0.5,
         "x": {
          "dtype": "float64",
          "shape": [
           18
          ]
         },
         "xaxis": "x5",
         "yaxis": "y5"
        },
        {
         "boxpoints": "all",
         "marker": {
          "color": "#E45756",
          "size": 5
         },
         "name": "Pat23_CD38",
         "type": "box",
         "uid": "341bbe64-d957-48af-ba0e-a9ac97a1079c",
         "width": 0.5,
         "x": {
          "dtype": "float64",
          "shape": [
           127
          ]
         },
         "xaxis": "x5",
         "yaxis": "y5"
        },
        {
         "boxpoints": "all",
         "marker": {
          "color": "#72B7B2",
          "size": 5
         },
         "name": "Patients/Pat379/BCMA",
         "type": "box",
         "uid": "38048e42-69c4-4eed-8946-52bf97d9354c",
         "width": 0.5,
         "x": {
          "dtype": "float64",
          "shape": [
           4
          ]
         },
         "xaxis": "x5",
         "yaxis": "y5"
        },
        {
         "boxpoints": "all",
         "marker": {
          "color": "#54A24B",
          "size": 5
         },
         "name": "Patients/Pat379/CD138",
         "type": "box",
         "uid": "4a51e394-9ce7-4e0d-be80-bd41bd5efb9f",
         "width": 0.5,
         "x": {
          "dtype": "float64",
          "shape": [
           7
          ]
         },
         "xaxis": "x5",
         "yaxis": "y5"
        },
        {
         "boxpoints": "all",
         "marker": {
          "color": "#EECA3B",
          "size": 5
         },
         "name": "Patients/Pat379/CD19",
         "type": "box",
         "uid": "16c7365e-9781-4f55-aed5-bd3141aa6e20",
         "width": 0.5,
         "x": {
          "dtype": "float64",
          "shape": [
           11
          ]
         },
         "xaxis": "x5",
         "yaxis": "y5"
        },
        {
         "boxpoints": "all",
         "marker": {
          "color": "#B279A2",
          "size": 5
         },
         "name": "Patients/Pat379/CD20",
         "type": "box",
         "uid": "629e84b8-955b-4cf6-ba75-e19ccccd9595",
         "width": 0.5,
         "x": {
          "dtype": "float64",
          "shape": [
           8
          ]
         },
         "xaxis": "x5",
         "yaxis": "y5"
        },
        {
         "boxpoints": "all",
         "marker": {
          "color": "#FF9DA6",
          "size": 5
         },
         "name": "Patients/Pat379/CD38",
         "type": "box",
         "uid": "6735c289-2c52-435f-8884-06eff11c56bd",
         "width": 0.5,
         "x": {
          "dtype": "float64",
          "shape": [
           6
          ]
         },
         "xaxis": "x5",
         "yaxis": "y5"
        },
        {
         "boxpoints": "all",
         "marker": {
          "color": "#9D755D",
          "size": 5
         },
         "name": "Patients/Pat379/GPRCD5",
         "type": "box",
         "uid": "25952135-eedb-43e5-8be3-964412fb74e3",
         "width": 0.5,
         "x": {
          "dtype": "float64",
          "shape": [
           6
          ]
         },
         "xaxis": "x5",
         "yaxis": "y5"
        },
        {
         "boxpoints": "all",
         "marker": {
          "color": "#BAB0AC",
          "size": 5
         },
         "name": "Patients/Pat379/SLAMF7",
         "type": "box",
         "uid": "ea929938-1610-4508-9ea6-d14e9db50bba",
         "width": 0.5,
         "x": {
          "dtype": "float64",
          "shape": [
           7
          ]
         },
         "xaxis": "x5",
         "yaxis": "y5"
        },
        {
         "boxpoints": "all",
         "marker": {
          "color": "#4C78A8",
          "size": 5
         },
         "name": "Patients/Pat394/BCMA",
         "type": "box",
         "uid": "287c0e9f-1043-46de-80cc-67d6d2b01131",
         "width": 0.5,
         "x": {
          "dtype": "float64",
          "shape": [
           14
          ]
         },
         "xaxis": "x5",
         "yaxis": "y5"
        },
        {
         "boxpoints": "all",
         "marker": {
          "color": "#F58518",
          "size": 5
         },
         "name": "Patients/Pat394/CD138",
         "type": "box",
         "uid": "01714082-07dd-46dd-9f23-365f51282a1d",
         "width": 0.5,
         "x": {
          "dtype": "float64",
          "shape": [
           9
          ]
         },
         "xaxis": "x5",
         "yaxis": "y5"
        },
        {
         "boxpoints": "all",
         "marker": {
          "color": "#E45756",
          "size": 5
         },
         "name": "Patients/Pat394/CD19",
         "type": "box",
         "uid": "3a05a6d2-fff4-42fb-882d-112203a0faf3",
         "width": 0.5,
         "x": {
          "dtype": "float64",
          "shape": [
           6
          ]
         },
         "xaxis": "x5",
         "yaxis": "y5"
        },
        {
         "boxpoints": "all",
         "marker": {
          "color": "#72B7B2",
          "size": 5
         },
         "name": "Patients/Pat394/CD20",
         "type": "box",
         "uid": "4be074b1-b57f-40a0-865b-6110762c67f7",
         "width": 0.5,
         "x": {
          "dtype": "float64",
          "shape": [
           8
          ]
         },
         "xaxis": "x5",
         "yaxis": "y5"
        },
        {
         "boxpoints": "all",
         "marker": {
          "color": "#54A24B",
          "size": 5
         },
         "name": "Patients/Pat394/CD38",
         "type": "box",
         "uid": "436e183e-b9d1-4918-a32d-47920f61d65a",
         "width": 0.5,
         "x": {
          "dtype": "float64",
          "shape": [
           9
          ]
         },
         "xaxis": "x5",
         "yaxis": "y5"
        },
        {
         "boxpoints": "all",
         "marker": {
          "color": "#EECA3B",
          "size": 5
         },
         "name": "Patients/Pat394/GPRCD5",
         "type": "box",
         "uid": "b0a250b5-82be-42a0-bd51-e73da2445dad",
         "width": 0.5,
         "x": {
          "dtype": "float64",
          "shape": [
           7
          ]
         },
         "xaxis": "x5",
         "yaxis": "y5"
        },
        {
         "boxpoints": "all",
         "marker": {
          "color": "#B279A2",
          "size": 5
         },
         "name": "Patients/Pat394/SLAMF7",
         "type": "box",
         "uid": "73b97a01-b63c-425b-aa88-e67437e882b2",
         "width": 0.5,
         "x": {
          "dtype": "float64",
          "shape": [
           3
          ]
         },
         "xaxis": "x5",
         "yaxis": "y5"
        },
        {
         "boxpoints": "all",
         "marker": {
          "color": "#FF9DA6",
          "size": 5
         },
         "name": "Patients/Pat394/SLAMF7/1",
         "type": "box",
         "uid": "a025e95c-155e-4fb2-b124-b7374ac3c6fd",
         "width": 0.5,
         "x": {
          "dtype": "float64",
          "shape": [
           6
          ]
         },
         "xaxis": "x5",
         "yaxis": "y5"
        },
        {
         "boxpoints": "all",
         "marker": {
          "color": "#4C78A8",
          "size": 5
         },
         "name": "AML/1",
         "type": "box",
         "uid": "4021ca95-52d5-47a8-90e2-c5ec6d781f85",
         "width": 0.5,
         "x": [
          14998,
          14998,
          14974,
          5963,
          14990,
          14967,
          4084,
          3994,
          14999,
          14523,
          14907
         ],
         "xaxis": "x6",
         "yaxis": "y6"
        },
        {
         "boxpoints": "all",
         "marker": {
          "color": "#F58518",
          "size": 5
         },
         "name": "AML/7",
         "type": "box",
         "uid": "cf398b87-3139-4e08-8616-e9ded92bb343",
         "width": 0.5,
         "x": [
          14976,
          14762,
          14850,
          14918,
          14996,
          14941,
          14713,
          14226,
          14999,
          14968,
          14997,
          14999,
          14968
         ],
         "xaxis": "x6",
         "yaxis": "y6"
        },
        {
         "boxpoints": "all",
         "marker": {
          "color": "#E45756",
          "size": 5
         },
         "name": "AML/8",
         "type": "box",
         "uid": "83893976-1f9c-499c-bf8d-0ace4479e99a",
         "width": 0.5,
         "x": [
          14999,
          14982,
          14796,
          14999,
          14974,
          14962,
          14779,
          14432,
          14988,
          14696
         ],
         "xaxis": "x6",
         "yaxis": "y6"
        },
        {
         "boxpoints": "all",
         "marker": {
          "color": "#72B7B2",
          "size": 5
         },
         "name": "Cellcycle/CD2/HU",
         "type": "box",
         "uid": "680ee231-052d-43c6-9812-e8a0b167052f",
         "width": 0.5,
         "x": [
          8679,
          8679,
          8679,
          8679,
          8679
         ],
         "xaxis": "x6",
         "yaxis": "y6"
        },
        {
         "boxpoints": "all",
         "marker": {
          "color": "#54A24B",
          "size": 5
         },
         "name": "Cellcycle/CD69/FCS",
         "type": "box",
         "uid": "0c1f4e36-c462-4921-b181-4a9c5046dff2",
         "width": 0.5,
         "x": [
          14999,
          14999,
          14999,
          14999,
          14999,
          14999,
          14960,
          14993,
          14996
         ],
         "xaxis": "x6",
         "yaxis": "y6"
        },
        {
         "boxpoints": "all",
         "marker": {
          "color": "#EECA3B",
          "size": 5
         },
         "name": "Cellcycle/CD69/HU",
         "type": "box",
         "uid": "6495cbcf-caad-4e79-8bf4-e5c1aee1ba51",
         "width": 0.5,
         "x": [
          14889,
          14702
         ],
         "xaxis": "x6",
         "yaxis": "y6"
        },
        {
         "boxpoints": "all",
         "marker": {
          "color": "#B279A2",
          "size": 5
         },
         "name": "Cellcycle/Cd28/FCS",
         "type": "box",
         "uid": "f9c75483-273e-4ce9-9ce3-7050a3a6702d",
         "width": 0.5,
         "x": [
          14999,
          14999,
          14994,
          14999,
          14999,
          14998,
          14999
         ],
         "xaxis": "x6",
         "yaxis": "y6"
        },
        {
         "boxpoints": "all",
         "marker": {
          "color": "#FF9DA6",
          "size": 5
         },
         "name": "Cellcycle/Cd28/HU",
         "type": "box",
         "uid": "dc956f36-1230-4701-94b7-6a375d5a49a4",
         "width": 0.5,
         "x": [
          14993,
          14991,
          10286,
          10286,
          14999,
          14999,
          14960,
          14984,
          14997,
          14990,
          14989,
          14998,
          14998,
          14994,
          14996,
          14999,
          14959
         ],
         "xaxis": "x6",
         "yaxis": "y6"
        },
        {
         "boxpoints": "all",
         "marker": {
          "color": "#9D755D",
          "size": 5
         },
         "name": "Cellcycle/Cd28/K",
         "type": "box",
         "uid": "80ae1c3e-fdd7-4a6a-9220-0b9bb71be1a2",
         "width": 0.5,
         "x": [
          14998,
          14996,
          14982,
          14998,
          14999,
          14997,
          14999,
          14991,
          14983,
          14989,
          14986,
          14999
         ],
         "xaxis": "x6",
         "yaxis": "y6"
        },
        {
         "boxpoints": "all",
         "marker": {
          "color": "#BAB0AC",
          "size": 5
         },
         "name": "Cellcycle/Cd3/FCS",
         "type": "box",
         "uid": "62d387ca-20b2-47b2-a223-5cbbce7d58f5",
         "width": 0.5,
         "x": [
          14999,
          14999,
          14999,
          14999,
          14999,
          14999,
          14998,
          14998,
          14997
         ],
         "xaxis": "x6",
         "yaxis": "y6"
        },
        {
         "boxpoints": "all",
         "marker": {
          "color": "#4C78A8",
          "size": 5
         },
         "name": "Cellcycle/Cd3/HU",
         "type": "box",
         "uid": "8fa9b14f-8f5e-4364-ae09-286693b50899",
         "width": 0.5,
         "x": [
          14991,
          14997,
          14999,
          14992,
          14998,
          14999,
          14992,
          14999,
          14997,
          14999,
          14998,
          14999,
          14999
         ],
         "xaxis": "x6",
         "yaxis": "y6"
        },
        {
         "boxpoints": "all",
         "marker": {
          "color": "#F58518",
          "size": 5
         },
         "name": "Cellcycle/Cd3/K",
         "type": "box",
         "uid": "1711edb3-f0a8-44b9-9c11-be4860195329",
         "width": 0.5,
         "x": [
          14999,
          14999,
          14984,
          14996,
          14999
         ],
         "xaxis": "x6",
         "yaxis": "y6"
        },
        {
         "boxpoints": "all",
         "marker": {
          "color": "#E45756",
          "size": 5
         },
         "name": "Jurkat/CD105/5",
         "type": "box",
         "uid": "a5113245-8488-46c5-bd12-ea6085ca64f7",
         "width": 0.5,
         "x": [
          14974,
          14998,
          14995,
          14993,
          14997,
          14984
         ],
         "xaxis": "x6",
         "yaxis": "y6"
        },
        {
         "boxpoints": "all",
         "marker": {
          "color": "#72B7B2",
          "size": 5
         },
         "name": "Jurkat/CD11a",
         "type": "box",
         "uid": "02d9070d-0a28-4245-b0e6-9ac711623761",
         "width": 0.5,
         "x": [
          14981,
          14983,
          14995,
          14994,
          14993,
          14972,
          14999,
          14970,
          14883,
          14990,
          14995,
          13997,
          14988
         ],
         "xaxis": "x6",
         "yaxis": "y6"
        },
        {
         "boxpoints": "all",
         "marker": {
          "color": "#54A24B",
          "size": 5
         },
         "name": "Jurkat/CD18",
         "type": "box",
         "uid": "d498cbbd-902c-4c8e-9e18-ea8b6b2f95c0",
         "width": 0.5,
         "x": [
          14984,
          14995,
          14984,
          14995,
          14974,
          14980,
          14991,
          14978,
          14981,
          14974,
          14959,
          14982,
          14985,
          14981,
          14994,
          14884,
          14982,
          14991,
          14994,
          14949
         ],
         "xaxis": "x6",
         "yaxis": "y6"
        },
        {
         "boxpoints": "all",
         "marker": {
          "color": "#EECA3B",
          "size": 5
         },
         "name": "Jurkat/CD2",
         "type": "box",
         "uid": "eb95d203-f6f0-4adc-8022-2f76eeccf168",
         "width": 0.5,
         "x": [
          14999,
          14996,
          14992,
          14999,
          14994,
          14997,
          14993
         ],
         "xaxis": "x6",
         "yaxis": "y6"
        },
        {
         "boxpoints": "all",
         "marker": {
          "color": "#B279A2",
          "size": 5
         },
         "name": "Jurkat/CD45/CD45",
         "type": "box",
         "uid": "394c9e49-0429-438e-bd7d-08f9ae61fe51",
         "width": 0.5,
         "x": [
          14999,
          14961,
          14998,
          14939,
          14985,
          14925,
          14984,
          14998,
          14919,
          14974,
          14963,
          14999,
          14999,
          14989
         ],
         "xaxis": "x6",
         "yaxis": "y6"
        },
        {
         "boxpoints": "all",
         "marker": {
          "color": "#FF9DA6",
          "size": 5
         },
         "name": "Jurkat/CD69",
         "type": "box",
         "uid": "60451ef2-fbe7-4493-bc18-a41540ea989f",
         "width": 0.5,
         "x": [
          14990,
          14999,
          14986,
          14991,
          14998,
          14980,
          14999,
          14988,
          14988,
          14999,
          14971,
          14994,
          14971,
          14998,
          14980,
          14986,
          14996,
          14966,
          14997,
          14984,
          14980,
          14997,
          14985,
          14994,
          14984,
          14998,
          14997
         ],
         "xaxis": "x6",
         "yaxis": "y6"
        },
        {
         "boxpoints": "all",
         "marker": {
          "color": "#9D755D",
          "size": 5
         },
         "name": "Jurkat/CD69/Cd69_K",
         "type": "box",
         "uid": "f9d5aae5-813d-491d-b8ab-71b5b1888d4f",
         "width": 0.5,
         "x": [
          11748,
          11738,
          11668,
          14982,
          14952
         ],
         "xaxis": "x6",
         "yaxis": "y6"
        },
        {
         "boxpoints": "all",
         "marker": {
          "color": "#BAB0AC",
          "size": 5
         },
         "name": "Jurkat/Cd45_pab_sab",
         "type": "box",
         "uid": "bc366ad7-8feb-4fb3-9770-bfb4e4c17740",
         "width": 0.5,
         "x": [
          14999,
          14984,
          14997,
          14997,
          14996,
          14956,
          14998,
          14982,
          14999,
          14997,
          14998,
          14983,
          14999
         ],
         "xaxis": "x6",
         "yaxis": "y6"
        },
        {
         "boxpoints": "all",
         "marker": {
          "color": "#4C78A8",
          "size": 5
         },
         "name": "Jurkat/Cd69_twocolor",
         "type": "box",
         "uid": "8ef91e28-f97c-4a5a-8169-0fa5c81da9b2",
         "width": 0.5,
         "x": [
          14974,
          14900,
          14894,
          14969,
          14933,
          14990
         ],
         "xaxis": "x6",
         "yaxis": "y6"
        },
        {
         "boxpoints": "all",
         "marker": {
          "color": "#F58518",
          "size": 5
         },
         "name": "Jurkat/LFA1",
         "type": "box",
         "uid": "fe6ee88e-85d4-45c7-a782-1eb46cb3b25e",
         "width": 0.5,
         "x": [
          14992,
          14997,
          14995,
          14996,
          14999,
          14986,
          14950,
          14963,
          14999,
          14990,
          14965,
          14999,
          14998,
          14995,
          14984,
          14999,
          14910,
          14888
         ],
         "xaxis": "x6",
         "yaxis": "y6"
        },
        {
         "boxpoints": "all",
         "marker": {
          "color": "#E45756",
          "size": 5
         },
         "name": "Pat23_CD38",
         "type": "box",
         "uid": "c869b037-b808-46c8-b22b-acc332fce49d",
         "width": 0.5,
         "x": [
          14997,
          14997,
          14995,
          14999,
          14996,
          14992,
          14997,
          14991,
          14999,
          14997,
          14993,
          14997,
          14991,
          14999,
          14999,
          14997,
          14999,
          14999,
          14999,
          14999,
          14999,
          14996,
          14997,
          14999,
          14998,
          14997,
          14997,
          14999,
          14993,
          14999,
          14996,
          14999,
          14999,
          14993,
          14986,
          14972,
          14998,
          14994,
          14999,
          14995,
          14999,
          14999,
          14993,
          14999,
          14999,
          14999,
          14999,
          14999,
          14999,
          14990,
          14997,
          14999,
          14999,
          14990,
          14999,
          14999,
          14993,
          14998,
          14999,
          14999,
          14999,
          14999,
          14999,
          14992,
          14999,
          14999,
          14995,
          14999,
          14999,
          14998,
          14995,
          14999,
          14999,
          14999,
          14999,
          14999,
          14999,
          14999,
          14954,
          14999,
          14997,
          14997,
          14999,
          14999,
          14999,
          14998,
          14997,
          14998,
          14999,
          14999,
          14999,
          14999,
          14996,
          14999,
          14999,
          14999,
          14999,
          14988,
          14999,
          14989,
          14998,
          14995,
          14998,
          14993,
          14999,
          14999,
          14999,
          14996,
          14998,
          14993,
          14995,
          14998,
          14988,
          14999,
          14994,
          14998,
          14992,
          14999,
          14997,
          14999,
          14999,
          14992,
          14999,
          14998,
          14998,
          14999,
          14999
         ],
         "xaxis": "x6",
         "yaxis": "y6"
        },
        {
         "boxpoints": "all",
         "marker": {
          "color": "#72B7B2",
          "size": 5
         },
         "name": "Patients/Pat379/BCMA",
         "type": "box",
         "uid": "bf6a9686-0191-4499-a58a-503b1b4c3934",
         "width": 0.5,
         "x": [
          14959,
          14995,
          14917,
          14809
         ],
         "xaxis": "x6",
         "yaxis": "y6"
        },
        {
         "boxpoints": "all",
         "marker": {
          "color": "#54A24B",
          "size": 5
         },
         "name": "Patients/Pat379/CD138",
         "type": "box",
         "uid": "cdf332c3-a5f0-4f17-aba2-3af63d908593",
         "width": 0.5,
         "x": [
          14960,
          14986,
          14968,
          14983,
          14968,
          14976,
          14998
         ],
         "xaxis": "x6",
         "yaxis": "y6"
        },
        {
         "boxpoints": "all",
         "marker": {
          "color": "#EECA3B",
          "size": 5
         },
         "name": "Patients/Pat379/CD19",
         "type": "box",
         "uid": "f03ce89c-58aa-41b1-b6ad-85a897f50005",
         "width": 0.5,
         "x": [
          9590,
          14981,
          14985,
          14998,
          14948,
          14967,
          14994,
          14946,
          4529,
          14998,
          14998
         ],
         "xaxis": "x6",
         "yaxis": "y6"
        },
        {
         "boxpoints": "all",
         "marker": {
          "color": "#B279A2",
          "size": 5
         },
         "name": "Patients/Pat379/CD20",
         "type": "box",
         "uid": "c545d9a0-65f4-496e-9a7f-44572cfe5289",
         "width": 0.5,
         "x": [
          14994,
          14997,
          14998,
          14998,
          14998,
          14998,
          2423,
          2427
         ],
         "xaxis": "x6",
         "yaxis": "y6"
        },
        {
         "boxpoints": "all",
         "marker": {
          "color": "#FF9DA6",
          "size": 5
         },
         "name": "Patients/Pat379/CD38",
         "type": "box",
         "uid": "91c5ea9f-2e5b-4653-a3c7-eae77812a930",
         "width": 0.5,
         "x": [
          14998,
          14991,
          14986,
          14980,
          14997,
          14998
         ],
         "xaxis": "x6",
         "yaxis": "y6"
        },
        {
         "boxpoints": "all",
         "marker": {
          "color": "#9D755D",
          "size": 5
         },
         "name": "Patients/Pat379/GPRCD5",
         "type": "box",
         "uid": "5e354c2e-d6ed-488d-82ba-05e5d9666db1",
         "width": 0.5,
         "x": [
          14920,
          14842,
          14619,
          14619,
          14877,
          14518
         ],
         "xaxis": "x6",
         "yaxis": "y6"
        },
        {
         "boxpoints": "all",
         "marker": {
          "color": "#BAB0AC",
          "size": 5
         },
         "name": "Patients/Pat379/SLAMF7",
         "type": "box",
         "uid": "3ce5afa0-b148-49a7-9317-dcd70ccb7483",
         "width": 0.5,
         "x": [
          14941,
          14992,
          14940,
          14988,
          1173,
          14998,
          14991
         ],
         "xaxis": "x6",
         "yaxis": "y6"
        },
        {
         "boxpoints": "all",
         "marker": {
          "color": "#4C78A8",
          "size": 5
         },
         "name": "Patients/Pat394/BCMA",
         "type": "box",
         "uid": "a3ecd610-e49f-4814-9993-a8c9009ba68f",
         "width": 0.5,
         "x": [
          14976,
          14998,
          14991,
          14979,
          14996,
          14974,
          14986,
          14995,
          14988,
          14988,
          14975,
          14961,
          14986,
          14987
         ],
         "xaxis": "x6",
         "yaxis": "y6"
        },
        {
         "boxpoints": "all",
         "marker": {
          "color": "#F58518",
          "size": 5
         },
         "name": "Patients/Pat394/CD138",
         "type": "box",
         "uid": "d5ba932e-90fd-4308-95ea-c25195907fc9",
         "width": 0.5,
         "x": [
          14997,
          14998,
          14994,
          14998,
          14998,
          9932,
          14800,
          14988,
          14996
         ],
         "xaxis": "x6",
         "yaxis": "y6"
        },
        {
         "boxpoints": "all",
         "marker": {
          "color": "#E45756",
          "size": 5
         },
         "name": "Patients/Pat394/CD19",
         "type": "box",
         "uid": "4820a876-31bd-4212-9d60-96f85c53d02b",
         "width": 0.5,
         "x": [
          14891,
          13578,
          14004,
          14663,
          14312,
          14990
         ],
         "xaxis": "x6",
         "yaxis": "y6"
        },
        {
         "boxpoints": "all",
         "marker": {
          "color": "#72B7B2",
          "size": 5
         },
         "name": "Patients/Pat394/CD20",
         "type": "box",
         "uid": "09da8b03-7829-42a0-9c53-7bf353028da7",
         "width": 0.5,
         "x": [
          14941,
          14998,
          14993,
          14952,
          14994,
          14992,
          14480,
          14159
         ],
         "xaxis": "x6",
         "yaxis": "y6"
        },
        {
         "boxpoints": "all",
         "marker": {
          "color": "#54A24B",
          "size": 5
         },
         "name": "Patients/Pat394/CD38",
         "type": "box",
         "uid": "5e17f07b-31a8-49c9-ba81-4ff004826167",
         "width": 0.5,
         "x": [
          14998,
          14998,
          14998,
          14998,
          14995,
          14998,
          14998,
          14998,
          14998
         ],
         "xaxis": "x6",
         "yaxis": "y6"
        },
        {
         "boxpoints": "all",
         "marker": {
          "color": "#EECA3B",
          "size": 5
         },
         "name": "Patients/Pat394/GPRCD5",
         "type": "box",
         "uid": "0c904578-697d-4149-af8a-e64b5e714f4e",
         "width": 0.5,
         "x": [
          14895,
          14161,
          14884,
          14718,
          14934,
          14995,
          14816
         ],
         "xaxis": "x6",
         "yaxis": "y6"
        },
        {
         "boxpoints": "all",
         "marker": {
          "color": "#B279A2",
          "size": 5
         },
         "name": "Patients/Pat394/SLAMF7",
         "type": "box",
         "uid": "88567a4c-2c1b-4b9d-b867-8da430138de7",
         "width": 0.5,
         "x": [
          14975,
          14979,
          14987
         ],
         "xaxis": "x6",
         "yaxis": "y6"
        },
        {
         "boxpoints": "all",
         "marker": {
          "color": "#FF9DA6",
          "size": 5
         },
         "name": "Patients/Pat394/SLAMF7/1",
         "type": "box",
         "uid": "744d343e-c21e-4302-a49b-a8efcc6391d7",
         "width": 0.5,
         "x": [
          14998,
          14986,
          14964,
          14971,
          14992,
          14900
         ],
         "xaxis": "x6",
         "yaxis": "y6"
        },
        {
         "boxpoints": "all",
         "marker": {
          "color": "#4C78A8",
          "size": 5
         },
         "name": "AML/1",
         "type": "box",
         "uid": "9ca41134-40cb-4710-ae78-1f041ee0332e",
         "width": 0.5,
         "x": {
          "dtype": "float64",
          "shape": [
           11
          ]
         },
         "xaxis": "x7",
         "yaxis": "y7"
        },
        {
         "boxpoints": "all",
         "marker": {
          "color": "#F58518",
          "size": 5
         },
         "name": "AML/7",
         "type": "box",
         "uid": "3cf7d1cd-368e-4947-adc0-aaf1bc065c92",
         "width": 0.5,
         "x": {
          "dtype": "float64",
          "shape": [
           13
          ]
         },
         "xaxis": "x7",
         "yaxis": "y7"
        },
        {
         "boxpoints": "all",
         "marker": {
          "color": "#E45756",
          "size": 5
         },
         "name": "AML/8",
         "type": "box",
         "uid": "acb08b8e-a729-4579-beee-c34e9e6ba9da",
         "width": 0.5,
         "x": {
          "dtype": "float64",
          "shape": [
           10
          ]
         },
         "xaxis": "x7",
         "yaxis": "y7"
        },
        {
         "boxpoints": "all",
         "marker": {
          "color": "#72B7B2",
          "size": 5
         },
         "name": "Cellcycle/CD2/HU",
         "type": "box",
         "uid": "7b1fc497-f672-4823-8b9b-a0b4feb6e4f7",
         "width": 0.5,
         "x": {
          "dtype": "float64",
          "shape": [
           5
          ]
         },
         "xaxis": "x7",
         "yaxis": "y7"
        },
        {
         "boxpoints": "all",
         "marker": {
          "color": "#54A24B",
          "size": 5
         },
         "name": "Cellcycle/CD69/FCS",
         "type": "box",
         "uid": "484735b7-008c-4e4c-b8dc-d709ae764131",
         "width": 0.5,
         "x": {
          "dtype": "float64",
          "shape": [
           9
          ]
         },
         "xaxis": "x7",
         "yaxis": "y7"
        },
        {
         "boxpoints": "all",
         "marker": {
          "color": "#EECA3B",
          "size": 5
         },
         "name": "Cellcycle/CD69/HU",
         "type": "box",
         "uid": "4e96e968-6c2d-4e39-b05b-a1a98cc5b7ba",
         "width": 0.5,
         "x": {
          "dtype": "float64",
          "shape": [
           2
          ]
         },
         "xaxis": "x7",
         "yaxis": "y7"
        },
        {
         "boxpoints": "all",
         "marker": {
          "color": "#B279A2",
          "size": 5
         },
         "name": "Cellcycle/Cd28/FCS",
         "type": "box",
         "uid": "ed8cb7de-7d98-48c7-acb9-c82e8a2a46df",
         "width": 0.5,
         "x": {
          "dtype": "float64",
          "shape": [
           7
          ]
         },
         "xaxis": "x7",
         "yaxis": "y7"
        },
        {
         "boxpoints": "all",
         "marker": {
          "color": "#FF9DA6",
          "size": 5
         },
         "name": "Cellcycle/Cd28/HU",
         "type": "box",
         "uid": "4377b353-a0fe-4398-8ae3-6ad580547e35",
         "width": 0.5,
         "x": {
          "dtype": "float64",
          "shape": [
           17
          ]
         },
         "xaxis": "x7",
         "yaxis": "y7"
        },
        {
         "boxpoints": "all",
         "marker": {
          "color": "#9D755D",
          "size": 5
         },
         "name": "Cellcycle/Cd28/K",
         "type": "box",
         "uid": "dfe11f00-6da1-4eee-8607-405aa608680b",
         "width": 0.5,
         "x": {
          "dtype": "float64",
          "shape": [
           12
          ]
         },
         "xaxis": "x7",
         "yaxis": "y7"
        },
        {
         "boxpoints": "all",
         "marker": {
          "color": "#BAB0AC",
          "size": 5
         },
         "name": "Cellcycle/Cd3/FCS",
         "type": "box",
         "uid": "8ac03fc1-c5a2-4d35-890b-3a989ee5b3bd",
         "width": 0.5,
         "x": {
          "dtype": "float64",
          "shape": [
           9
          ]
         },
         "xaxis": "x7",
         "yaxis": "y7"
        },
        {
         "boxpoints": "all",
         "marker": {
          "color": "#4C78A8",
          "size": 5
         },
         "name": "Cellcycle/Cd3/HU",
         "type": "box",
         "uid": "e5e9596b-00d4-42dc-a116-5ef52e892f82",
         "width": 0.5,
         "x": {
          "dtype": "float64",
          "shape": [
           13
          ]
         },
         "xaxis": "x7",
         "yaxis": "y7"
        },
        {
         "boxpoints": "all",
         "marker": {
          "color": "#F58518",
          "size": 5
         },
         "name": "Cellcycle/Cd3/K",
         "type": "box",
         "uid": "2cb9e4d2-249f-4121-8ee9-a9ca4a805da7",
         "width": 0.5,
         "x": {
          "dtype": "float64",
          "shape": [
           5
          ]
         },
         "xaxis": "x7",
         "yaxis": "y7"
        },
        {
         "boxpoints": "all",
         "marker": {
          "color": "#E45756",
          "size": 5
         },
         "name": "Jurkat/CD105/5",
         "type": "box",
         "uid": "bfa921a1-369a-484a-9aa4-ae2c890e888c",
         "width": 0.5,
         "x": {
          "dtype": "float64",
          "shape": [
           6
          ]
         },
         "xaxis": "x7",
         "yaxis": "y7"
        },
        {
         "boxpoints": "all",
         "marker": {
          "color": "#72B7B2",
          "size": 5
         },
         "name": "Jurkat/CD11a",
         "type": "box",
         "uid": "ae8c12e0-4285-4385-b3ab-0eb4a1065a9a",
         "width": 0.5,
         "x": {
          "dtype": "float64",
          "shape": [
           13
          ]
         },
         "xaxis": "x7",
         "yaxis": "y7"
        },
        {
         "boxpoints": "all",
         "marker": {
          "color": "#54A24B",
          "size": 5
         },
         "name": "Jurkat/CD18",
         "type": "box",
         "uid": "37c545f3-233f-43de-aeea-07fed426c44c",
         "width": 0.5,
         "x": {
          "dtype": "float64",
          "shape": [
           20
          ]
         },
         "xaxis": "x7",
         "yaxis": "y7"
        },
        {
         "boxpoints": "all",
         "marker": {
          "color": "#EECA3B",
          "size": 5
         },
         "name": "Jurkat/CD2",
         "type": "box",
         "uid": "8ed62164-65e0-44d9-9616-ddcd7cae0123",
         "width": 0.5,
         "x": {
          "dtype": "float64",
          "shape": [
           7
          ]
         },
         "xaxis": "x7",
         "yaxis": "y7"
        },
        {
         "boxpoints": "all",
         "marker": {
          "color": "#B279A2",
          "size": 5
         },
         "name": "Jurkat/CD45/CD45",
         "type": "box",
         "uid": "3d9536ed-58c2-4016-b2b6-36c50f06ec84",
         "width": 0.5,
         "x": {
          "dtype": "float64",
          "shape": [
           14
          ]
         },
         "xaxis": "x7",
         "yaxis": "y7"
        },
        {
         "boxpoints": "all",
         "marker": {
          "color": "#FF9DA6",
          "size": 5
         },
         "name": "Jurkat/CD69",
         "type": "box",
         "uid": "c4dd2f6e-b714-45f1-9989-0c5e80c39bab",
         "width": 0.5,
         "x": {
          "dtype": "float64",
          "shape": [
           27
          ]
         },
         "xaxis": "x7",
         "yaxis": "y7"
        },
        {
         "boxpoints": "all",
         "marker": {
          "color": "#9D755D",
          "size": 5
         },
         "name": "Jurkat/CD69/Cd69_K",
         "type": "box",
         "uid": "4311a54b-f9c4-4842-b29b-d33920fd2449",
         "width": 0.5,
         "x": {
          "dtype": "float64",
          "shape": [
           5
          ]
         },
         "xaxis": "x7",
         "yaxis": "y7"
        },
        {
         "boxpoints": "all",
         "marker": {
          "color": "#BAB0AC",
          "size": 5
         },
         "name": "Jurkat/Cd45_pab_sab",
         "type": "box",
         "uid": "d140866f-4513-454a-bd55-0e23a16733aa",
         "width": 0.5,
         "x": {
          "dtype": "float64",
          "shape": [
           13
          ]
         },
         "xaxis": "x7",
         "yaxis": "y7"
        },
        {
         "boxpoints": "all",
         "marker": {
          "color": "#4C78A8",
          "size": 5
         },
         "name": "Jurkat/Cd69_twocolor",
         "type": "box",
         "uid": "c80f4549-8797-41da-8fb7-ca5f18aa944e",
         "width": 0.5,
         "x": {
          "dtype": "float64",
          "shape": [
           6
          ]
         },
         "xaxis": "x7",
         "yaxis": "y7"
        },
        {
         "boxpoints": "all",
         "marker": {
          "color": "#F58518",
          "size": 5
         },
         "name": "Jurkat/LFA1",
         "type": "box",
         "uid": "1743b1fc-91f3-497b-b976-be61624fcf27",
         "width": 0.5,
         "x": {
          "dtype": "float64",
          "shape": [
           18
          ]
         },
         "xaxis": "x7",
         "yaxis": "y7"
        },
        {
         "boxpoints": "all",
         "marker": {
          "color": "#E45756",
          "size": 5
         },
         "name": "Pat23_CD38",
         "type": "box",
         "uid": "a4cc3699-04e5-44f4-8c65-58add53eb15d",
         "width": 0.5,
         "x": {
          "dtype": "float64",
          "shape": [
           127
          ]
         },
         "xaxis": "x7",
         "yaxis": "y7"
        },
        {
         "boxpoints": "all",
         "marker": {
          "color": "#72B7B2",
          "size": 5
         },
         "name": "Patients/Pat379/BCMA",
         "type": "box",
         "uid": "9673cc63-1ac4-4cf8-a539-c128447b5d0c",
         "width": 0.5,
         "x": {
          "dtype": "float64",
          "shape": [
           4
          ]
         },
         "xaxis": "x7",
         "yaxis": "y7"
        },
        {
         "boxpoints": "all",
         "marker": {
          "color": "#54A24B",
          "size": 5
         },
         "name": "Patients/Pat379/CD138",
         "type": "box",
         "uid": "6e70c49a-71d8-4c9a-898f-481e391c1158",
         "width": 0.5,
         "x": {
          "dtype": "float64",
          "shape": [
           7
          ]
         },
         "xaxis": "x7",
         "yaxis": "y7"
        },
        {
         "boxpoints": "all",
         "marker": {
          "color": "#EECA3B",
          "size": 5
         },
         "name": "Patients/Pat379/CD19",
         "type": "box",
         "uid": "80135279-0774-423a-8aa4-7727c36142c2",
         "width": 0.5,
         "x": {
          "dtype": "float64",
          "shape": [
           11
          ]
         },
         "xaxis": "x7",
         "yaxis": "y7"
        },
        {
         "boxpoints": "all",
         "marker": {
          "color": "#B279A2",
          "size": 5
         },
         "name": "Patients/Pat379/CD20",
         "type": "box",
         "uid": "458dc153-d880-42f8-9686-c0b09ba5747e",
         "width": 0.5,
         "x": {
          "dtype": "float64",
          "shape": [
           8
          ]
         },
         "xaxis": "x7",
         "yaxis": "y7"
        },
        {
         "boxpoints": "all",
         "marker": {
          "color": "#FF9DA6",
          "size": 5
         },
         "name": "Patients/Pat379/CD38",
         "type": "box",
         "uid": "9943dccd-b925-4eeb-b2bd-0f27137c356a",
         "width": 0.5,
         "x": {
          "dtype": "float64",
          "shape": [
           6
          ]
         },
         "xaxis": "x7",
         "yaxis": "y7"
        },
        {
         "boxpoints": "all",
         "marker": {
          "color": "#9D755D",
          "size": 5
         },
         "name": "Patients/Pat379/GPRCD5",
         "type": "box",
         "uid": "1c97b8e4-1b58-4769-a889-d05c620d954f",
         "width": 0.5,
         "x": {
          "dtype": "float64",
          "shape": [
           6
          ]
         },
         "xaxis": "x7",
         "yaxis": "y7"
        },
        {
         "boxpoints": "all",
         "marker": {
          "color": "#BAB0AC",
          "size": 5
         },
         "name": "Patients/Pat379/SLAMF7",
         "type": "box",
         "uid": "193b95ce-f5e0-4694-b427-e3d962d95d4a",
         "width": 0.5,
         "x": {
          "dtype": "float64",
          "shape": [
           7
          ]
         },
         "xaxis": "x7",
         "yaxis": "y7"
        },
        {
         "boxpoints": "all",
         "marker": {
          "color": "#4C78A8",
          "size": 5
         },
         "name": "Patients/Pat394/BCMA",
         "type": "box",
         "uid": "2839f635-50f5-4a4d-85bd-86890b67f45d",
         "width": 0.5,
         "x": {
          "dtype": "float64",
          "shape": [
           14
          ]
         },
         "xaxis": "x7",
         "yaxis": "y7"
        },
        {
         "boxpoints": "all",
         "marker": {
          "color": "#F58518",
          "size": 5
         },
         "name": "Patients/Pat394/CD138",
         "type": "box",
         "uid": "914375d2-33f5-4099-aec5-a388d2018b84",
         "width": 0.5,
         "x": {
          "dtype": "float64",
          "shape": [
           9
          ]
         },
         "xaxis": "x7",
         "yaxis": "y7"
        },
        {
         "boxpoints": "all",
         "marker": {
          "color": "#E45756",
          "size": 5
         },
         "name": "Patients/Pat394/CD19",
         "type": "box",
         "uid": "8a7049d7-63b2-4935-b3e9-29acea2bc0c0",
         "width": 0.5,
         "x": {
          "dtype": "float64",
          "shape": [
           6
          ]
         },
         "xaxis": "x7",
         "yaxis": "y7"
        },
        {
         "boxpoints": "all",
         "marker": {
          "color": "#72B7B2",
          "size": 5
         },
         "name": "Patients/Pat394/CD20",
         "type": "box",
         "uid": "9c6c9ca9-dbcf-4b85-b72f-63d26abe17f3",
         "width": 0.5,
         "x": {
          "dtype": "float64",
          "shape": [
           8
          ]
         },
         "xaxis": "x7",
         "yaxis": "y7"
        },
        {
         "boxpoints": "all",
         "marker": {
          "color": "#54A24B",
          "size": 5
         },
         "name": "Patients/Pat394/CD38",
         "type": "box",
         "uid": "69229288-f24e-4112-8a31-a638076af03f",
         "width": 0.5,
         "x": {
          "dtype": "float64",
          "shape": [
           9
          ]
         },
         "xaxis": "x7",
         "yaxis": "y7"
        },
        {
         "boxpoints": "all",
         "marker": {
          "color": "#EECA3B",
          "size": 5
         },
         "name": "Patients/Pat394/GPRCD5",
         "type": "box",
         "uid": "e36dd932-c77a-4985-bfd5-bd2305ee5fc4",
         "width": 0.5,
         "x": {
          "dtype": "float64",
          "shape": [
           7
          ]
         },
         "xaxis": "x7",
         "yaxis": "y7"
        },
        {
         "boxpoints": "all",
         "marker": {
          "color": "#B279A2",
          "size": 5
         },
         "name": "Patients/Pat394/SLAMF7",
         "type": "box",
         "uid": "7185c4bd-04eb-4600-af06-c9a8cf9cbe7d",
         "width": 0.5,
         "x": {
          "dtype": "float64",
          "shape": [
           3
          ]
         },
         "xaxis": "x7",
         "yaxis": "y7"
        },
        {
         "boxpoints": "all",
         "marker": {
          "color": "#FF9DA6",
          "size": 5
         },
         "name": "Patients/Pat394/SLAMF7/1",
         "type": "box",
         "uid": "386b832a-f78c-4d4d-b28d-41af7fab03be",
         "width": 0.5,
         "x": {
          "dtype": "float64",
          "shape": [
           6
          ]
         },
         "xaxis": "x7",
         "yaxis": "y7"
        },
        {
         "boxpoints": "all",
         "marker": {
          "color": "#4C78A8",
          "size": 5
         },
         "name": "AML/1",
         "type": "box",
         "uid": "c9636d12-7940-4a58-a54e-10e8e8ccafa2",
         "width": 0.5,
         "x": {
          "dtype": "float64",
          "shape": [
           11
          ]
         },
         "xaxis": "x8",
         "yaxis": "y8"
        },
        {
         "boxpoints": "all",
         "marker": {
          "color": "#F58518",
          "size": 5
         },
         "name": "AML/7",
         "type": "box",
         "uid": "af07e920-6e08-4f5f-836a-d8ec41231ec2",
         "width": 0.5,
         "x": {
          "dtype": "float64",
          "shape": [
           13
          ]
         },
         "xaxis": "x8",
         "yaxis": "y8"
        },
        {
         "boxpoints": "all",
         "marker": {
          "color": "#E45756",
          "size": 5
         },
         "name": "AML/8",
         "type": "box",
         "uid": "d6f92109-ba48-48fc-995f-dd119879ccb1",
         "width": 0.5,
         "x": {
          "dtype": "float64",
          "shape": [
           10
          ]
         },
         "xaxis": "x8",
         "yaxis": "y8"
        },
        {
         "boxpoints": "all",
         "marker": {
          "color": "#72B7B2",
          "size": 5
         },
         "name": "Cellcycle/CD2/HU",
         "type": "box",
         "uid": "bb298b45-dfd0-43b3-bedf-a88596b85eed",
         "width": 0.5,
         "x": {
          "dtype": "float64",
          "shape": [
           5
          ]
         },
         "xaxis": "x8",
         "yaxis": "y8"
        },
        {
         "boxpoints": "all",
         "marker": {
          "color": "#54A24B",
          "size": 5
         },
         "name": "Cellcycle/CD69/FCS",
         "type": "box",
         "uid": "4fd55872-f9a2-443f-876a-4a9e4b41f1b8",
         "width": 0.5,
         "x": {
          "dtype": "float64",
          "shape": [
           9
          ]
         },
         "xaxis": "x8",
         "yaxis": "y8"
        },
        {
         "boxpoints": "all",
         "marker": {
          "color": "#EECA3B",
          "size": 5
         },
         "name": "Cellcycle/CD69/HU",
         "type": "box",
         "uid": "f7c0ee90-7b28-4fa8-9b24-4826c37bcedb",
         "width": 0.5,
         "x": {
          "dtype": "float64",
          "shape": [
           2
          ]
         },
         "xaxis": "x8",
         "yaxis": "y8"
        },
        {
         "boxpoints": "all",
         "marker": {
          "color": "#B279A2",
          "size": 5
         },
         "name": "Cellcycle/Cd28/FCS",
         "type": "box",
         "uid": "570d8afb-0fdf-48c5-9520-94f5d4c6e267",
         "width": 0.5,
         "x": {
          "dtype": "float64",
          "shape": [
           7
          ]
         },
         "xaxis": "x8",
         "yaxis": "y8"
        },
        {
         "boxpoints": "all",
         "marker": {
          "color": "#FF9DA6",
          "size": 5
         },
         "name": "Cellcycle/Cd28/HU",
         "type": "box",
         "uid": "cb2ef13e-5ea5-46a9-9289-b289d3aa0120",
         "width": 0.5,
         "x": {
          "dtype": "float64",
          "shape": [
           17
          ]
         },
         "xaxis": "x8",
         "yaxis": "y8"
        },
        {
         "boxpoints": "all",
         "marker": {
          "color": "#9D755D",
          "size": 5
         },
         "name": "Cellcycle/Cd28/K",
         "type": "box",
         "uid": "16333801-16ed-43f5-9338-1d88ad3b1cb0",
         "width": 0.5,
         "x": {
          "dtype": "float64",
          "shape": [
           12
          ]
         },
         "xaxis": "x8",
         "yaxis": "y8"
        },
        {
         "boxpoints": "all",
         "marker": {
          "color": "#BAB0AC",
          "size": 5
         },
         "name": "Cellcycle/Cd3/FCS",
         "type": "box",
         "uid": "07691cf2-87d0-4640-b8f3-593523adc4ae",
         "width": 0.5,
         "x": {
          "dtype": "float64",
          "shape": [
           9
          ]
         },
         "xaxis": "x8",
         "yaxis": "y8"
        },
        {
         "boxpoints": "all",
         "marker": {
          "color": "#4C78A8",
          "size": 5
         },
         "name": "Cellcycle/Cd3/HU",
         "type": "box",
         "uid": "04cb1bf5-c9cf-4c00-b6f7-3051f44f4540",
         "width": 0.5,
         "x": {
          "dtype": "float64",
          "shape": [
           13
          ]
         },
         "xaxis": "x8",
         "yaxis": "y8"
        },
        {
         "boxpoints": "all",
         "marker": {
          "color": "#F58518",
          "size": 5
         },
         "name": "Cellcycle/Cd3/K",
         "type": "box",
         "uid": "f5369d2c-6c02-499d-9c50-adb15617c15c",
         "width": 0.5,
         "x": {
          "dtype": "float64",
          "shape": [
           5
          ]
         },
         "xaxis": "x8",
         "yaxis": "y8"
        },
        {
         "boxpoints": "all",
         "marker": {
          "color": "#E45756",
          "size": 5
         },
         "name": "Jurkat/CD105/5",
         "type": "box",
         "uid": "041e5d30-10b7-4583-880c-2829b02e3aeb",
         "width": 0.5,
         "x": {
          "dtype": "float64",
          "shape": [
           6
          ]
         },
         "xaxis": "x8",
         "yaxis": "y8"
        },
        {
         "boxpoints": "all",
         "marker": {
          "color": "#72B7B2",
          "size": 5
         },
         "name": "Jurkat/CD11a",
         "type": "box",
         "uid": "c76c58b4-8369-4375-9ff8-0dc50c8758bf",
         "width": 0.5,
         "x": {
          "dtype": "float64",
          "shape": [
           13
          ]
         },
         "xaxis": "x8",
         "yaxis": "y8"
        },
        {
         "boxpoints": "all",
         "marker": {
          "color": "#54A24B",
          "size": 5
         },
         "name": "Jurkat/CD18",
         "type": "box",
         "uid": "bc979391-13d5-4b27-99e2-1b7c1e5384e7",
         "width": 0.5,
         "x": {
          "dtype": "float64",
          "shape": [
           20
          ]
         },
         "xaxis": "x8",
         "yaxis": "y8"
        },
        {
         "boxpoints": "all",
         "marker": {
          "color": "#EECA3B",
          "size": 5
         },
         "name": "Jurkat/CD2",
         "type": "box",
         "uid": "feae7848-6576-4e0a-afe3-904909836349",
         "width": 0.5,
         "x": {
          "dtype": "float64",
          "shape": [
           7
          ]
         },
         "xaxis": "x8",
         "yaxis": "y8"
        },
        {
         "boxpoints": "all",
         "marker": {
          "color": "#B279A2",
          "size": 5
         },
         "name": "Jurkat/CD45/CD45",
         "type": "box",
         "uid": "5b4fdad1-3a31-4e6a-9de1-98a83ea148f6",
         "width": 0.5,
         "x": {
          "dtype": "float64",
          "shape": [
           14
          ]
         },
         "xaxis": "x8",
         "yaxis": "y8"
        },
        {
         "boxpoints": "all",
         "marker": {
          "color": "#FF9DA6",
          "size": 5
         },
         "name": "Jurkat/CD69",
         "type": "box",
         "uid": "b544a0dd-ab95-4399-88c3-d30004fa3730",
         "width": 0.5,
         "x": {
          "dtype": "float64",
          "shape": [
           27
          ]
         },
         "xaxis": "x8",
         "yaxis": "y8"
        },
        {
         "boxpoints": "all",
         "marker": {
          "color": "#9D755D",
          "size": 5
         },
         "name": "Jurkat/CD69/Cd69_K",
         "type": "box",
         "uid": "efe7feee-e3ae-400c-a943-22d4a231794a",
         "width": 0.5,
         "x": {
          "dtype": "float64",
          "shape": [
           5
          ]
         },
         "xaxis": "x8",
         "yaxis": "y8"
        },
        {
         "boxpoints": "all",
         "marker": {
          "color": "#BAB0AC",
          "size": 5
         },
         "name": "Jurkat/Cd45_pab_sab",
         "type": "box",
         "uid": "3eae5e4d-2238-41a5-8cd9-00c1d16a28f5",
         "width": 0.5,
         "x": {
          "dtype": "float64",
          "shape": [
           13
          ]
         },
         "xaxis": "x8",
         "yaxis": "y8"
        },
        {
         "boxpoints": "all",
         "marker": {
          "color": "#4C78A8",
          "size": 5
         },
         "name": "Jurkat/Cd69_twocolor",
         "type": "box",
         "uid": "652456cb-f196-47c5-8ce0-167365a787fc",
         "width": 0.5,
         "x": {
          "dtype": "float64",
          "shape": [
           6
          ]
         },
         "xaxis": "x8",
         "yaxis": "y8"
        },
        {
         "boxpoints": "all",
         "marker": {
          "color": "#F58518",
          "size": 5
         },
         "name": "Jurkat/LFA1",
         "type": "box",
         "uid": "e2b542fa-9c29-459f-aa3b-ebd42fa7bd50",
         "width": 0.5,
         "x": {
          "dtype": "float64",
          "shape": [
           18
          ]
         },
         "xaxis": "x8",
         "yaxis": "y8"
        },
        {
         "boxpoints": "all",
         "marker": {
          "color": "#E45756",
          "size": 5
         },
         "name": "Pat23_CD38",
         "type": "box",
         "uid": "96bae20c-29be-460d-8dca-64f62d3e4e64",
         "width": 0.5,
         "x": {
          "dtype": "float64",
          "shape": [
           127
          ]
         },
         "xaxis": "x8",
         "yaxis": "y8"
        },
        {
         "boxpoints": "all",
         "marker": {
          "color": "#72B7B2",
          "size": 5
         },
         "name": "Patients/Pat379/BCMA",
         "type": "box",
         "uid": "f7b4de28-b574-4851-b47b-7727d747cb6c",
         "width": 0.5,
         "x": {
          "dtype": "float64",
          "shape": [
           4
          ]
         },
         "xaxis": "x8",
         "yaxis": "y8"
        },
        {
         "boxpoints": "all",
         "marker": {
          "color": "#54A24B",
          "size": 5
         },
         "name": "Patients/Pat379/CD138",
         "type": "box",
         "uid": "707da86b-2822-4546-a448-487be0945aaa",
         "width": 0.5,
         "x": {
          "dtype": "float64",
          "shape": [
           7
          ]
         },
         "xaxis": "x8",
         "yaxis": "y8"
        },
        {
         "boxpoints": "all",
         "marker": {
          "color": "#EECA3B",
          "size": 5
         },
         "name": "Patients/Pat379/CD19",
         "type": "box",
         "uid": "6014efa4-18bb-4bb7-ac48-a64fce96cb64",
         "width": 0.5,
         "x": {
          "dtype": "float64",
          "shape": [
           11
          ]
         },
         "xaxis": "x8",
         "yaxis": "y8"
        },
        {
         "boxpoints": "all",
         "marker": {
          "color": "#B279A2",
          "size": 5
         },
         "name": "Patients/Pat379/CD20",
         "type": "box",
         "uid": "325537d1-c319-4298-8a9f-81f0a1da982a",
         "width": 0.5,
         "x": {
          "dtype": "float64",
          "shape": [
           8
          ]
         },
         "xaxis": "x8",
         "yaxis": "y8"
        },
        {
         "boxpoints": "all",
         "marker": {
          "color": "#FF9DA6",
          "size": 5
         },
         "name": "Patients/Pat379/CD38",
         "type": "box",
         "uid": "2b627c56-d801-4c1c-bd85-aeece732eb5d",
         "width": 0.5,
         "x": {
          "dtype": "float64",
          "shape": [
           6
          ]
         },
         "xaxis": "x8",
         "yaxis": "y8"
        },
        {
         "boxpoints": "all",
         "marker": {
          "color": "#9D755D",
          "size": 5
         },
         "name": "Patients/Pat379/GPRCD5",
         "type": "box",
         "uid": "94436c5b-1dae-4808-8df3-94d5f0ac86eb",
         "width": 0.5,
         "x": {
          "dtype": "float64",
          "shape": [
           6
          ]
         },
         "xaxis": "x8",
         "yaxis": "y8"
        },
        {
         "boxpoints": "all",
         "marker": {
          "color": "#BAB0AC",
          "size": 5
         },
         "name": "Patients/Pat379/SLAMF7",
         "type": "box",
         "uid": "0e4208a6-7bd1-4d29-8387-df0398389f6d",
         "width": 0.5,
         "x": {
          "dtype": "float64",
          "shape": [
           7
          ]
         },
         "xaxis": "x8",
         "yaxis": "y8"
        },
        {
         "boxpoints": "all",
         "marker": {
          "color": "#4C78A8",
          "size": 5
         },
         "name": "Patients/Pat394/BCMA",
         "type": "box",
         "uid": "2cec41c2-df72-47c6-82b4-440f2dc86d3b",
         "width": 0.5,
         "x": {
          "dtype": "float64",
          "shape": [
           14
          ]
         },
         "xaxis": "x8",
         "yaxis": "y8"
        },
        {
         "boxpoints": "all",
         "marker": {
          "color": "#F58518",
          "size": 5
         },
         "name": "Patients/Pat394/CD138",
         "type": "box",
         "uid": "35dde77b-4716-48e9-8787-6d802cbdbc96",
         "width": 0.5,
         "x": {
          "dtype": "float64",
          "shape": [
           9
          ]
         },
         "xaxis": "x8",
         "yaxis": "y8"
        },
        {
         "boxpoints": "all",
         "marker": {
          "color": "#E45756",
          "size": 5
         },
         "name": "Patients/Pat394/CD19",
         "type": "box",
         "uid": "0abb3ff9-6a9a-4459-97bc-81942e60c4c5",
         "width": 0.5,
         "x": {
          "dtype": "float64",
          "shape": [
           6
          ]
         },
         "xaxis": "x8",
         "yaxis": "y8"
        },
        {
         "boxpoints": "all",
         "marker": {
          "color": "#72B7B2",
          "size": 5
         },
         "name": "Patients/Pat394/CD20",
         "type": "box",
         "uid": "8a122bf3-c4fc-4d8f-920d-a1cea8779353",
         "width": 0.5,
         "x": {
          "dtype": "float64",
          "shape": [
           8
          ]
         },
         "xaxis": "x8",
         "yaxis": "y8"
        },
        {
         "boxpoints": "all",
         "marker": {
          "color": "#54A24B",
          "size": 5
         },
         "name": "Patients/Pat394/CD38",
         "type": "box",
         "uid": "cd49701a-82b5-476e-a82b-17d752554006",
         "width": 0.5,
         "x": {
          "dtype": "float64",
          "shape": [
           9
          ]
         },
         "xaxis": "x8",
         "yaxis": "y8"
        },
        {
         "boxpoints": "all",
         "marker": {
          "color": "#EECA3B",
          "size": 5
         },
         "name": "Patients/Pat394/GPRCD5",
         "type": "box",
         "uid": "030e3066-dd95-4428-b4c5-acd43e499cd9",
         "width": 0.5,
         "x": {
          "dtype": "float64",
          "shape": [
           7
          ]
         },
         "xaxis": "x8",
         "yaxis": "y8"
        },
        {
         "boxpoints": "all",
         "marker": {
          "color": "#B279A2",
          "size": 5
         },
         "name": "Patients/Pat394/SLAMF7",
         "type": "box",
         "uid": "10718180-3684-4953-9571-cca6fc58f7c9",
         "width": 0.5,
         "x": {
          "dtype": "float64",
          "shape": [
           3
          ]
         },
         "xaxis": "x8",
         "yaxis": "y8"
        },
        {
         "boxpoints": "all",
         "marker": {
          "color": "#FF9DA6",
          "size": 5
         },
         "name": "Patients/Pat394/SLAMF7/1",
         "type": "box",
         "uid": "c59018dd-2668-4c6e-9a7b-ff74e598eb47",
         "width": 0.5,
         "x": {
          "dtype": "float64",
          "shape": [
           6
          ]
         },
         "xaxis": "x8",
         "yaxis": "y8"
        },
        {
         "boxpoints": "all",
         "marker": {
          "color": "#4C78A8",
          "size": 5
         },
         "name": "AML/1",
         "type": "box",
         "uid": "2f169944-27cb-40f3-a136-3effec08520a",
         "width": 0.5,
         "x": {
          "dtype": "float64",
          "shape": [
           11
          ]
         },
         "xaxis": "x9",
         "yaxis": "y9"
        },
        {
         "boxpoints": "all",
         "marker": {
          "color": "#F58518",
          "size": 5
         },
         "name": "AML/7",
         "type": "box",
         "uid": "452177b7-0561-45be-a048-79f30ed12666",
         "width": 0.5,
         "x": {
          "dtype": "float64",
          "shape": [
           13
          ]
         },
         "xaxis": "x9",
         "yaxis": "y9"
        },
        {
         "boxpoints": "all",
         "marker": {
          "color": "#E45756",
          "size": 5
         },
         "name": "AML/8",
         "type": "box",
         "uid": "a3266682-c252-4601-8a8c-7637cdc3db83",
         "width": 0.5,
         "x": {
          "dtype": "float64",
          "shape": [
           10
          ]
         },
         "xaxis": "x9",
         "yaxis": "y9"
        },
        {
         "boxpoints": "all",
         "marker": {
          "color": "#72B7B2",
          "size": 5
         },
         "name": "Cellcycle/CD2/HU",
         "type": "box",
         "uid": "aafdebbc-2fd4-43a0-918e-7670fe3b2426",
         "width": 0.5,
         "x": {
          "dtype": "float64",
          "shape": [
           5
          ]
         },
         "xaxis": "x9",
         "yaxis": "y9"
        },
        {
         "boxpoints": "all",
         "marker": {
          "color": "#54A24B",
          "size": 5
         },
         "name": "Cellcycle/CD69/FCS",
         "type": "box",
         "uid": "24cbef6f-f4bb-4959-9adc-369acdbc5150",
         "width": 0.5,
         "x": {
          "dtype": "float64",
          "shape": [
           9
          ]
         },
         "xaxis": "x9",
         "yaxis": "y9"
        },
        {
         "boxpoints": "all",
         "marker": {
          "color": "#EECA3B",
          "size": 5
         },
         "name": "Cellcycle/CD69/HU",
         "type": "box",
         "uid": "dc14a790-e760-4673-af10-bb2764aad306",
         "width": 0.5,
         "x": {
          "dtype": "float64",
          "shape": [
           2
          ]
         },
         "xaxis": "x9",
         "yaxis": "y9"
        },
        {
         "boxpoints": "all",
         "marker": {
          "color": "#B279A2",
          "size": 5
         },
         "name": "Cellcycle/Cd28/FCS",
         "type": "box",
         "uid": "5f72d82c-eabb-4ec6-b7aa-a58317c5f2be",
         "width": 0.5,
         "x": {
          "dtype": "float64",
          "shape": [
           7
          ]
         },
         "xaxis": "x9",
         "yaxis": "y9"
        },
        {
         "boxpoints": "all",
         "marker": {
          "color": "#FF9DA6",
          "size": 5
         },
         "name": "Cellcycle/Cd28/HU",
         "type": "box",
         "uid": "67a100ae-b2fe-436d-a7c1-2a3fda46a768",
         "width": 0.5,
         "x": {
          "dtype": "float64",
          "shape": [
           17
          ]
         },
         "xaxis": "x9",
         "yaxis": "y9"
        },
        {
         "boxpoints": "all",
         "marker": {
          "color": "#9D755D",
          "size": 5
         },
         "name": "Cellcycle/Cd28/K",
         "type": "box",
         "uid": "451f195f-41ae-4e3b-9b94-0e9bf2e4186f",
         "width": 0.5,
         "x": {
          "dtype": "float64",
          "shape": [
           12
          ]
         },
         "xaxis": "x9",
         "yaxis": "y9"
        },
        {
         "boxpoints": "all",
         "marker": {
          "color": "#BAB0AC",
          "size": 5
         },
         "name": "Cellcycle/Cd3/FCS",
         "type": "box",
         "uid": "9ad08723-e2d9-4b48-b8fe-5a54c551794a",
         "width": 0.5,
         "x": {
          "dtype": "float64",
          "shape": [
           9
          ]
         },
         "xaxis": "x9",
         "yaxis": "y9"
        },
        {
         "boxpoints": "all",
         "marker": {
          "color": "#4C78A8",
          "size": 5
         },
         "name": "Cellcycle/Cd3/HU",
         "type": "box",
         "uid": "72c1e0d1-817c-415f-92fe-996dfaaeea46",
         "width": 0.5,
         "x": {
          "dtype": "float64",
          "shape": [
           13
          ]
         },
         "xaxis": "x9",
         "yaxis": "y9"
        },
        {
         "boxpoints": "all",
         "marker": {
          "color": "#F58518",
          "size": 5
         },
         "name": "Cellcycle/Cd3/K",
         "type": "box",
         "uid": "941945c4-4ec4-4d07-b69d-74b181fd83c1",
         "width": 0.5,
         "x": {
          "dtype": "float64",
          "shape": [
           5
          ]
         },
         "xaxis": "x9",
         "yaxis": "y9"
        },
        {
         "boxpoints": "all",
         "marker": {
          "color": "#E45756",
          "size": 5
         },
         "name": "Jurkat/CD105/5",
         "type": "box",
         "uid": "b6b6cbb5-d58b-407c-9562-e2fecd9ba985",
         "width": 0.5,
         "x": {
          "dtype": "float64",
          "shape": [
           6
          ]
         },
         "xaxis": "x9",
         "yaxis": "y9"
        },
        {
         "boxpoints": "all",
         "marker": {
          "color": "#72B7B2",
          "size": 5
         },
         "name": "Jurkat/CD11a",
         "type": "box",
         "uid": "c2dd055e-7485-49fb-9335-fcece595df6b",
         "width": 0.5,
         "x": {
          "dtype": "float64",
          "shape": [
           13
          ]
         },
         "xaxis": "x9",
         "yaxis": "y9"
        },
        {
         "boxpoints": "all",
         "marker": {
          "color": "#54A24B",
          "size": 5
         },
         "name": "Jurkat/CD18",
         "type": "box",
         "uid": "4c36ccdf-159a-4012-8ab7-37ac37b7d162",
         "width": 0.5,
         "x": {
          "dtype": "float64",
          "shape": [
           20
          ]
         },
         "xaxis": "x9",
         "yaxis": "y9"
        },
        {
         "boxpoints": "all",
         "marker": {
          "color": "#EECA3B",
          "size": 5
         },
         "name": "Jurkat/CD2",
         "type": "box",
         "uid": "f2815ecb-a232-4d6a-8e80-07630c3ec6c5",
         "width": 0.5,
         "x": {
          "dtype": "float64",
          "shape": [
           7
          ]
         },
         "xaxis": "x9",
         "yaxis": "y9"
        },
        {
         "boxpoints": "all",
         "marker": {
          "color": "#B279A2",
          "size": 5
         },
         "name": "Jurkat/CD45/CD45",
         "type": "box",
         "uid": "a255fd65-38b3-4a81-a794-00dfd73defe2",
         "width": 0.5,
         "x": {
          "dtype": "float64",
          "shape": [
           14
          ]
         },
         "xaxis": "x9",
         "yaxis": "y9"
        },
        {
         "boxpoints": "all",
         "marker": {
          "color": "#FF9DA6",
          "size": 5
         },
         "name": "Jurkat/CD69",
         "type": "box",
         "uid": "0b934521-ee1c-4e83-98e2-9cc55a04b235",
         "width": 0.5,
         "x": {
          "dtype": "float64",
          "shape": [
           27
          ]
         },
         "xaxis": "x9",
         "yaxis": "y9"
        },
        {
         "boxpoints": "all",
         "marker": {
          "color": "#9D755D",
          "size": 5
         },
         "name": "Jurkat/CD69/Cd69_K",
         "type": "box",
         "uid": "680687b7-abb7-41cf-9cce-554575a3569c",
         "width": 0.5,
         "x": {
          "dtype": "float64",
          "shape": [
           5
          ]
         },
         "xaxis": "x9",
         "yaxis": "y9"
        },
        {
         "boxpoints": "all",
         "marker": {
          "color": "#BAB0AC",
          "size": 5
         },
         "name": "Jurkat/Cd45_pab_sab",
         "type": "box",
         "uid": "9777a9c5-567f-45b9-aa30-204b9357f005",
         "width": 0.5,
         "x": {
          "dtype": "float64",
          "shape": [
           13
          ]
         },
         "xaxis": "x9",
         "yaxis": "y9"
        },
        {
         "boxpoints": "all",
         "marker": {
          "color": "#4C78A8",
          "size": 5
         },
         "name": "Jurkat/Cd69_twocolor",
         "type": "box",
         "uid": "e6a0ac5b-03a2-417d-a6f8-54f3d1fabbac",
         "width": 0.5,
         "x": {
          "dtype": "float64",
          "shape": [
           6
          ]
         },
         "xaxis": "x9",
         "yaxis": "y9"
        },
        {
         "boxpoints": "all",
         "marker": {
          "color": "#F58518",
          "size": 5
         },
         "name": "Jurkat/LFA1",
         "type": "box",
         "uid": "630b98bc-f9f3-4572-832a-b4d8a36046b2",
         "width": 0.5,
         "x": {
          "dtype": "float64",
          "shape": [
           18
          ]
         },
         "xaxis": "x9",
         "yaxis": "y9"
        },
        {
         "boxpoints": "all",
         "marker": {
          "color": "#E45756",
          "size": 5
         },
         "name": "Pat23_CD38",
         "type": "box",
         "uid": "1a7ec2d5-07fa-43ff-b996-3eaa8a42dd53",
         "width": 0.5,
         "x": {
          "dtype": "float64",
          "shape": [
           127
          ]
         },
         "xaxis": "x9",
         "yaxis": "y9"
        },
        {
         "boxpoints": "all",
         "marker": {
          "color": "#72B7B2",
          "size": 5
         },
         "name": "Patients/Pat379/BCMA",
         "type": "box",
         "uid": "7e51376e-3454-4bc2-a710-214ae6797622",
         "width": 0.5,
         "x": {
          "dtype": "float64",
          "shape": [
           4
          ]
         },
         "xaxis": "x9",
         "yaxis": "y9"
        },
        {
         "boxpoints": "all",
         "marker": {
          "color": "#54A24B",
          "size": 5
         },
         "name": "Patients/Pat379/CD138",
         "type": "box",
         "uid": "b3259c51-fc84-436c-a290-5fa81fbfd0ed",
         "width": 0.5,
         "x": {
          "dtype": "float64",
          "shape": [
           7
          ]
         },
         "xaxis": "x9",
         "yaxis": "y9"
        },
        {
         "boxpoints": "all",
         "marker": {
          "color": "#EECA3B",
          "size": 5
         },
         "name": "Patients/Pat379/CD19",
         "type": "box",
         "uid": "e725cd31-3d17-48a0-9fb1-d04db00c66c9",
         "width": 0.5,
         "x": {
          "dtype": "float64",
          "shape": [
           11
          ]
         },
         "xaxis": "x9",
         "yaxis": "y9"
        },
        {
         "boxpoints": "all",
         "marker": {
          "color": "#B279A2",
          "size": 5
         },
         "name": "Patients/Pat379/CD20",
         "type": "box",
         "uid": "311240a0-7827-46ef-9b01-9a4039e96c91",
         "width": 0.5,
         "x": {
          "dtype": "float64",
          "shape": [
           8
          ]
         },
         "xaxis": "x9",
         "yaxis": "y9"
        },
        {
         "boxpoints": "all",
         "marker": {
          "color": "#FF9DA6",
          "size": 5
         },
         "name": "Patients/Pat379/CD38",
         "type": "box",
         "uid": "f6886357-ede5-48df-b3f6-4bfa342bbe75",
         "width": 0.5,
         "x": {
          "dtype": "float64",
          "shape": [
           6
          ]
         },
         "xaxis": "x9",
         "yaxis": "y9"
        },
        {
         "boxpoints": "all",
         "marker": {
          "color": "#9D755D",
          "size": 5
         },
         "name": "Patients/Pat379/GPRCD5",
         "type": "box",
         "uid": "9a0c961e-bc19-45cd-a788-f5398ffda9e4",
         "width": 0.5,
         "x": {
          "dtype": "float64",
          "shape": [
           6
          ]
         },
         "xaxis": "x9",
         "yaxis": "y9"
        },
        {
         "boxpoints": "all",
         "marker": {
          "color": "#BAB0AC",
          "size": 5
         },
         "name": "Patients/Pat379/SLAMF7",
         "type": "box",
         "uid": "a9e20de9-8ada-4f54-9b4d-70c925815829",
         "width": 0.5,
         "x": {
          "dtype": "float64",
          "shape": [
           7
          ]
         },
         "xaxis": "x9",
         "yaxis": "y9"
        },
        {
         "boxpoints": "all",
         "marker": {
          "color": "#4C78A8",
          "size": 5
         },
         "name": "Patients/Pat394/BCMA",
         "type": "box",
         "uid": "89fc9055-e36d-4c1b-8b71-8477200db136",
         "width": 0.5,
         "x": {
          "dtype": "float64",
          "shape": [
           14
          ]
         },
         "xaxis": "x9",
         "yaxis": "y9"
        },
        {
         "boxpoints": "all",
         "marker": {
          "color": "#F58518",
          "size": 5
         },
         "name": "Patients/Pat394/CD138",
         "type": "box",
         "uid": "580164e0-09e8-4a0b-b726-17dc7493d553",
         "width": 0.5,
         "x": {
          "dtype": "float64",
          "shape": [
           9
          ]
         },
         "xaxis": "x9",
         "yaxis": "y9"
        },
        {
         "boxpoints": "all",
         "marker": {
          "color": "#E45756",
          "size": 5
         },
         "name": "Patients/Pat394/CD19",
         "type": "box",
         "uid": "4df00a1e-5017-41e5-b0db-d7919c0b59e2",
         "width": 0.5,
         "x": {
          "dtype": "float64",
          "shape": [
           6
          ]
         },
         "xaxis": "x9",
         "yaxis": "y9"
        },
        {
         "boxpoints": "all",
         "marker": {
          "color": "#72B7B2",
          "size": 5
         },
         "name": "Patients/Pat394/CD20",
         "type": "box",
         "uid": "80066fe6-c21c-48f1-94fb-65a2f979a1d1",
         "width": 0.5,
         "x": {
          "dtype": "float64",
          "shape": [
           8
          ]
         },
         "xaxis": "x9",
         "yaxis": "y9"
        },
        {
         "boxpoints": "all",
         "marker": {
          "color": "#54A24B",
          "size": 5
         },
         "name": "Patients/Pat394/CD38",
         "type": "box",
         "uid": "3f6ac1c4-257a-4228-b04b-3c779aef3c39",
         "width": 0.5,
         "x": {
          "dtype": "float64",
          "shape": [
           9
          ]
         },
         "xaxis": "x9",
         "yaxis": "y9"
        },
        {
         "boxpoints": "all",
         "marker": {
          "color": "#EECA3B",
          "size": 5
         },
         "name": "Patients/Pat394/GPRCD5",
         "type": "box",
         "uid": "74fca7fa-1af2-492d-8c0f-89ceb1df6f56",
         "width": 0.5,
         "x": {
          "dtype": "float64",
          "shape": [
           7
          ]
         },
         "xaxis": "x9",
         "yaxis": "y9"
        },
        {
         "boxpoints": "all",
         "marker": {
          "color": "#B279A2",
          "size": 5
         },
         "name": "Patients/Pat394/SLAMF7",
         "type": "box",
         "uid": "f163fe47-f21f-400b-866f-d210fdefb8e1",
         "width": 0.5,
         "x": {
          "dtype": "float64",
          "shape": [
           3
          ]
         },
         "xaxis": "x9",
         "yaxis": "y9"
        },
        {
         "boxpoints": "all",
         "marker": {
          "color": "#FF9DA6",
          "size": 5
         },
         "name": "Patients/Pat394/SLAMF7/1",
         "type": "box",
         "uid": "b0483a8f-4cef-42a2-9789-f32a911eb90a",
         "width": 0.5,
         "x": {
          "dtype": "float64",
          "shape": [
           6
          ]
         },
         "xaxis": "x9",
         "yaxis": "y9"
        },
        {
         "boxpoints": "all",
         "marker": {
          "color": "#4C78A8",
          "size": 5
         },
         "name": "AML/1",
         "type": "box",
         "uid": "6e5d31bd-d85d-42a5-bea8-fffe0fa15a30",
         "width": 0.5,
         "x": {
          "dtype": "float64",
          "shape": [
           11
          ]
         },
         "xaxis": "x10",
         "yaxis": "y10"
        },
        {
         "boxpoints": "all",
         "marker": {
          "color": "#F58518",
          "size": 5
         },
         "name": "AML/7",
         "type": "box",
         "uid": "48cd31db-a562-440f-8b08-e99184a18a77",
         "width": 0.5,
         "x": {
          "dtype": "float64",
          "shape": [
           13
          ]
         },
         "xaxis": "x10",
         "yaxis": "y10"
        },
        {
         "boxpoints": "all",
         "marker": {
          "color": "#E45756",
          "size": 5
         },
         "name": "AML/8",
         "type": "box",
         "uid": "dc5084ae-dd3b-4dd2-8b12-0845e3722a4d",
         "width": 0.5,
         "x": {
          "dtype": "float64",
          "shape": [
           10
          ]
         },
         "xaxis": "x10",
         "yaxis": "y10"
        },
        {
         "boxpoints": "all",
         "marker": {
          "color": "#72B7B2",
          "size": 5
         },
         "name": "Cellcycle/CD2/HU",
         "type": "box",
         "uid": "8f74a3ef-31f3-4032-a6f2-96e406165e0a",
         "width": 0.5,
         "x": {
          "dtype": "float64",
          "shape": [
           5
          ]
         },
         "xaxis": "x10",
         "yaxis": "y10"
        },
        {
         "boxpoints": "all",
         "marker": {
          "color": "#54A24B",
          "size": 5
         },
         "name": "Cellcycle/CD69/FCS",
         "type": "box",
         "uid": "e1a6bdbb-b13b-425c-8564-ebb8658990aa",
         "width": 0.5,
         "x": {
          "dtype": "float64",
          "shape": [
           9
          ]
         },
         "xaxis": "x10",
         "yaxis": "y10"
        },
        {
         "boxpoints": "all",
         "marker": {
          "color": "#EECA3B",
          "size": 5
         },
         "name": "Cellcycle/CD69/HU",
         "type": "box",
         "uid": "879e497c-120d-4c75-8b85-5867f4dd07c1",
         "width": 0.5,
         "x": {
          "dtype": "float64",
          "shape": [
           2
          ]
         },
         "xaxis": "x10",
         "yaxis": "y10"
        },
        {
         "boxpoints": "all",
         "marker": {
          "color": "#B279A2",
          "size": 5
         },
         "name": "Cellcycle/Cd28/FCS",
         "type": "box",
         "uid": "88c5eb27-e4b4-41f6-8b1e-f872547b2e81",
         "width": 0.5,
         "x": {
          "dtype": "float64",
          "shape": [
           7
          ]
         },
         "xaxis": "x10",
         "yaxis": "y10"
        },
        {
         "boxpoints": "all",
         "marker": {
          "color": "#FF9DA6",
          "size": 5
         },
         "name": "Cellcycle/Cd28/HU",
         "type": "box",
         "uid": "d83a35c9-b360-44bc-8b3f-8785a57a1663",
         "width": 0.5,
         "x": {
          "dtype": "float64",
          "shape": [
           17
          ]
         },
         "xaxis": "x10",
         "yaxis": "y10"
        },
        {
         "boxpoints": "all",
         "marker": {
          "color": "#9D755D",
          "size": 5
         },
         "name": "Cellcycle/Cd28/K",
         "type": "box",
         "uid": "a1d87b3b-7232-4630-ac33-dfe2716e3ad0",
         "width": 0.5,
         "x": {
          "dtype": "float64",
          "shape": [
           12
          ]
         },
         "xaxis": "x10",
         "yaxis": "y10"
        },
        {
         "boxpoints": "all",
         "marker": {
          "color": "#BAB0AC",
          "size": 5
         },
         "name": "Cellcycle/Cd3/FCS",
         "type": "box",
         "uid": "3636028d-a4f9-4ab2-87fa-b60f2b7731c0",
         "width": 0.5,
         "x": {
          "dtype": "float64",
          "shape": [
           9
          ]
         },
         "xaxis": "x10",
         "yaxis": "y10"
        },
        {
         "boxpoints": "all",
         "marker": {
          "color": "#4C78A8",
          "size": 5
         },
         "name": "Cellcycle/Cd3/HU",
         "type": "box",
         "uid": "f6d2ef6a-b24e-44e4-a826-766bd46e8cc6",
         "width": 0.5,
         "x": {
          "dtype": "float64",
          "shape": [
           13
          ]
         },
         "xaxis": "x10",
         "yaxis": "y10"
        },
        {
         "boxpoints": "all",
         "marker": {
          "color": "#F58518",
          "size": 5
         },
         "name": "Cellcycle/Cd3/K",
         "type": "box",
         "uid": "2514a433-e08d-417d-a465-15fb0a91ce30",
         "width": 0.5,
         "x": {
          "dtype": "float64",
          "shape": [
           5
          ]
         },
         "xaxis": "x10",
         "yaxis": "y10"
        },
        {
         "boxpoints": "all",
         "marker": {
          "color": "#E45756",
          "size": 5
         },
         "name": "Jurkat/CD105/5",
         "type": "box",
         "uid": "0146fb36-0ef0-404d-9e58-287c17444e21",
         "width": 0.5,
         "x": {
          "dtype": "float64",
          "shape": [
           6
          ]
         },
         "xaxis": "x10",
         "yaxis": "y10"
        },
        {
         "boxpoints": "all",
         "marker": {
          "color": "#72B7B2",
          "size": 5
         },
         "name": "Jurkat/CD11a",
         "type": "box",
         "uid": "aff8b830-7159-4737-b071-7e4cca709e00",
         "width": 0.5,
         "x": {
          "dtype": "float64",
          "shape": [
           13
          ]
         },
         "xaxis": "x10",
         "yaxis": "y10"
        },
        {
         "boxpoints": "all",
         "marker": {
          "color": "#54A24B",
          "size": 5
         },
         "name": "Jurkat/CD18",
         "type": "box",
         "uid": "242a4b92-3f4c-49f9-8223-f76d2ea2d1f9",
         "width": 0.5,
         "x": {
          "dtype": "float64",
          "shape": [
           20
          ]
         },
         "xaxis": "x10",
         "yaxis": "y10"
        },
        {
         "boxpoints": "all",
         "marker": {
          "color": "#EECA3B",
          "size": 5
         },
         "name": "Jurkat/CD2",
         "type": "box",
         "uid": "a6d28af3-5b7d-4940-8947-efa230fade4c",
         "width": 0.5,
         "x": {
          "dtype": "float64",
          "shape": [
           7
          ]
         },
         "xaxis": "x10",
         "yaxis": "y10"
        },
        {
         "boxpoints": "all",
         "marker": {
          "color": "#B279A2",
          "size": 5
         },
         "name": "Jurkat/CD45/CD45",
         "type": "box",
         "uid": "3e1b5e58-470d-4346-b3da-f6d40e76f2dd",
         "width": 0.5,
         "x": {
          "dtype": "float64",
          "shape": [
           14
          ]
         },
         "xaxis": "x10",
         "yaxis": "y10"
        },
        {
         "boxpoints": "all",
         "marker": {
          "color": "#FF9DA6",
          "size": 5
         },
         "name": "Jurkat/CD69",
         "type": "box",
         "uid": "61fca91f-1549-42a3-aa26-56dcd0ef2ca2",
         "width": 0.5,
         "x": {
          "dtype": "float64",
          "shape": [
           27
          ]
         },
         "xaxis": "x10",
         "yaxis": "y10"
        },
        {
         "boxpoints": "all",
         "marker": {
          "color": "#9D755D",
          "size": 5
         },
         "name": "Jurkat/CD69/Cd69_K",
         "type": "box",
         "uid": "a98aa71f-b97a-4ca6-ab17-92bc12198102",
         "width": 0.5,
         "x": {
          "dtype": "float64",
          "shape": [
           5
          ]
         },
         "xaxis": "x10",
         "yaxis": "y10"
        },
        {
         "boxpoints": "all",
         "marker": {
          "color": "#BAB0AC",
          "size": 5
         },
         "name": "Jurkat/Cd45_pab_sab",
         "type": "box",
         "uid": "3e3a70cc-b098-4b96-af7b-14eb283a2974",
         "width": 0.5,
         "x": {
          "dtype": "float64",
          "shape": [
           13
          ]
         },
         "xaxis": "x10",
         "yaxis": "y10"
        },
        {
         "boxpoints": "all",
         "marker": {
          "color": "#4C78A8",
          "size": 5
         },
         "name": "Jurkat/Cd69_twocolor",
         "type": "box",
         "uid": "57123d23-5a31-4b39-9667-78dc15c803b4",
         "width": 0.5,
         "x": {
          "dtype": "float64",
          "shape": [
           6
          ]
         },
         "xaxis": "x10",
         "yaxis": "y10"
        },
        {
         "boxpoints": "all",
         "marker": {
          "color": "#F58518",
          "size": 5
         },
         "name": "Jurkat/LFA1",
         "type": "box",
         "uid": "045acb4b-2699-4deb-a04d-6b9aeefbb5d6",
         "width": 0.5,
         "x": {
          "dtype": "float64",
          "shape": [
           18
          ]
         },
         "xaxis": "x10",
         "yaxis": "y10"
        },
        {
         "boxpoints": "all",
         "marker": {
          "color": "#E45756",
          "size": 5
         },
         "name": "Pat23_CD38",
         "type": "box",
         "uid": "7f950eeb-3137-45ad-b0b5-bf964e4e4708",
         "width": 0.5,
         "x": {
          "dtype": "float64",
          "shape": [
           127
          ]
         },
         "xaxis": "x10",
         "yaxis": "y10"
        },
        {
         "boxpoints": "all",
         "marker": {
          "color": "#72B7B2",
          "size": 5
         },
         "name": "Patients/Pat379/BCMA",
         "type": "box",
         "uid": "b88c224c-09ac-49e6-ad17-48a25dc276e2",
         "width": 0.5,
         "x": {
          "dtype": "float64",
          "shape": [
           4
          ]
         },
         "xaxis": "x10",
         "yaxis": "y10"
        },
        {
         "boxpoints": "all",
         "marker": {
          "color": "#54A24B",
          "size": 5
         },
         "name": "Patients/Pat379/CD138",
         "type": "box",
         "uid": "01b08af5-54dd-47ed-9dee-7b3f8899d6f9",
         "width": 0.5,
         "x": {
          "dtype": "float64",
          "shape": [
           7
          ]
         },
         "xaxis": "x10",
         "yaxis": "y10"
        },
        {
         "boxpoints": "all",
         "marker": {
          "color": "#EECA3B",
          "size": 5
         },
         "name": "Patients/Pat379/CD19",
         "type": "box",
         "uid": "e0e7156e-b004-44d4-b96a-37b22d394bcd",
         "width": 0.5,
         "x": {
          "dtype": "float64",
          "shape": [
           11
          ]
         },
         "xaxis": "x10",
         "yaxis": "y10"
        },
        {
         "boxpoints": "all",
         "marker": {
          "color": "#B279A2",
          "size": 5
         },
         "name": "Patients/Pat379/CD20",
         "type": "box",
         "uid": "5be0eb3f-6ae3-4c10-9135-f5d95a2b8027",
         "width": 0.5,
         "x": {
          "dtype": "float64",
          "shape": [
           8
          ]
         },
         "xaxis": "x10",
         "yaxis": "y10"
        },
        {
         "boxpoints": "all",
         "marker": {
          "color": "#FF9DA6",
          "size": 5
         },
         "name": "Patients/Pat379/CD38",
         "type": "box",
         "uid": "86239dd9-a712-4d3e-aa6e-ca247603c33b",
         "width": 0.5,
         "x": {
          "dtype": "float64",
          "shape": [
           6
          ]
         },
         "xaxis": "x10",
         "yaxis": "y10"
        },
        {
         "boxpoints": "all",
         "marker": {
          "color": "#9D755D",
          "size": 5
         },
         "name": "Patients/Pat379/GPRCD5",
         "type": "box",
         "uid": "6416ad3b-0390-4900-9dc5-38f93a9ccfa8",
         "width": 0.5,
         "x": {
          "dtype": "float64",
          "shape": [
           6
          ]
         },
         "xaxis": "x10",
         "yaxis": "y10"
        },
        {
         "boxpoints": "all",
         "marker": {
          "color": "#BAB0AC",
          "size": 5
         },
         "name": "Patients/Pat379/SLAMF7",
         "type": "box",
         "uid": "2828ec0c-d00e-47ce-807f-7f034b373cb2",
         "width": 0.5,
         "x": {
          "dtype": "float64",
          "shape": [
           7
          ]
         },
         "xaxis": "x10",
         "yaxis": "y10"
        },
        {
         "boxpoints": "all",
         "marker": {
          "color": "#4C78A8",
          "size": 5
         },
         "name": "Patients/Pat394/BCMA",
         "type": "box",
         "uid": "750fd601-8fb2-4c2d-8176-4be19d9b4047",
         "width": 0.5,
         "x": {
          "dtype": "float64",
          "shape": [
           14
          ]
         },
         "xaxis": "x10",
         "yaxis": "y10"
        },
        {
         "boxpoints": "all",
         "marker": {
          "color": "#F58518",
          "size": 5
         },
         "name": "Patients/Pat394/CD138",
         "type": "box",
         "uid": "669cd7d5-daf9-49c9-89cc-651d4f1b448e",
         "width": 0.5,
         "x": {
          "dtype": "float64",
          "shape": [
           9
          ]
         },
         "xaxis": "x10",
         "yaxis": "y10"
        },
        {
         "boxpoints": "all",
         "marker": {
          "color": "#E45756",
          "size": 5
         },
         "name": "Patients/Pat394/CD19",
         "type": "box",
         "uid": "da528bf2-c988-42dd-925a-32c4282a5201",
         "width": 0.5,
         "x": {
          "dtype": "float64",
          "shape": [
           6
          ]
         },
         "xaxis": "x10",
         "yaxis": "y10"
        },
        {
         "boxpoints": "all",
         "marker": {
          "color": "#72B7B2",
          "size": 5
         },
         "name": "Patients/Pat394/CD20",
         "type": "box",
         "uid": "929ad1ca-b8a4-425d-bcab-2429de76b419",
         "width": 0.5,
         "x": {
          "dtype": "float64",
          "shape": [
           8
          ]
         },
         "xaxis": "x10",
         "yaxis": "y10"
        },
        {
         "boxpoints": "all",
         "marker": {
          "color": "#54A24B",
          "size": 5
         },
         "name": "Patients/Pat394/CD38",
         "type": "box",
         "uid": "fd220b33-ef7e-4521-bfe7-fa95fbfe2d7f",
         "width": 0.5,
         "x": {
          "dtype": "float64",
          "shape": [
           9
          ]
         },
         "xaxis": "x10",
         "yaxis": "y10"
        },
        {
         "boxpoints": "all",
         "marker": {
          "color": "#EECA3B",
          "size": 5
         },
         "name": "Patients/Pat394/GPRCD5",
         "type": "box",
         "uid": "d5e9e16d-5007-4d22-8cd5-8496d3f8178f",
         "width": 0.5,
         "x": {
          "dtype": "float64",
          "shape": [
           7
          ]
         },
         "xaxis": "x10",
         "yaxis": "y10"
        },
        {
         "boxpoints": "all",
         "marker": {
          "color": "#B279A2",
          "size": 5
         },
         "name": "Patients/Pat394/SLAMF7",
         "type": "box",
         "uid": "c305a41a-7a82-4871-ae9f-5b92d82db56a",
         "width": 0.5,
         "x": {
          "dtype": "float64",
          "shape": [
           3
          ]
         },
         "xaxis": "x10",
         "yaxis": "y10"
        },
        {
         "boxpoints": "all",
         "marker": {
          "color": "#FF9DA6",
          "size": 5
         },
         "name": "Patients/Pat394/SLAMF7/1",
         "type": "box",
         "uid": "0c8e4faf-f28a-47ed-9f45-509a514299a1",
         "width": 0.5,
         "x": {
          "dtype": "float64",
          "shape": [
           6
          ]
         },
         "xaxis": "x10",
         "yaxis": "y10"
        },
        {
         "boxpoints": "all",
         "marker": {
          "color": "#4C78A8",
          "size": 5
         },
         "name": "AML/1",
         "type": "box",
         "uid": "7cb1c71e-1ee2-4d82-ad94-7e9ef8355f05",
         "width": 0.5,
         "x": {
          "dtype": "float64",
          "shape": [
           11
          ]
         },
         "xaxis": "x11",
         "yaxis": "y11"
        },
        {
         "boxpoints": "all",
         "marker": {
          "color": "#F58518",
          "size": 5
         },
         "name": "AML/7",
         "type": "box",
         "uid": "6980273d-9fe3-4a21-8c26-b9e8e7057ce2",
         "width": 0.5,
         "x": {
          "dtype": "float64",
          "shape": [
           13
          ]
         },
         "xaxis": "x11",
         "yaxis": "y11"
        },
        {
         "boxpoints": "all",
         "marker": {
          "color": "#E45756",
          "size": 5
         },
         "name": "AML/8",
         "type": "box",
         "uid": "f2bef444-87fb-4522-a0ef-6c52e4f105d4",
         "width": 0.5,
         "x": {
          "dtype": "float64",
          "shape": [
           10
          ]
         },
         "xaxis": "x11",
         "yaxis": "y11"
        },
        {
         "boxpoints": "all",
         "marker": {
          "color": "#72B7B2",
          "size": 5
         },
         "name": "Cellcycle/CD2/HU",
         "type": "box",
         "uid": "aca3e576-c4ac-4a30-be1c-9e3424df265e",
         "width": 0.5,
         "x": {
          "dtype": "float64",
          "shape": [
           5
          ]
         },
         "xaxis": "x11",
         "yaxis": "y11"
        },
        {
         "boxpoints": "all",
         "marker": {
          "color": "#54A24B",
          "size": 5
         },
         "name": "Cellcycle/CD69/FCS",
         "type": "box",
         "uid": "c13486d2-759d-4c5b-8b00-1f02ec3ee6f5",
         "width": 0.5,
         "x": {
          "dtype": "float64",
          "shape": [
           9
          ]
         },
         "xaxis": "x11",
         "yaxis": "y11"
        },
        {
         "boxpoints": "all",
         "marker": {
          "color": "#EECA3B",
          "size": 5
         },
         "name": "Cellcycle/CD69/HU",
         "type": "box",
         "uid": "f7f68a21-5cdd-4996-ad04-8d675b44096b",
         "width": 0.5,
         "x": {
          "dtype": "float64",
          "shape": [
           2
          ]
         },
         "xaxis": "x11",
         "yaxis": "y11"
        },
        {
         "boxpoints": "all",
         "marker": {
          "color": "#B279A2",
          "size": 5
         },
         "name": "Cellcycle/Cd28/FCS",
         "type": "box",
         "uid": "024c5c0e-f9fe-4baf-84bd-e40c198affe0",
         "width": 0.5,
         "x": {
          "dtype": "float64",
          "shape": [
           7
          ]
         },
         "xaxis": "x11",
         "yaxis": "y11"
        },
        {
         "boxpoints": "all",
         "marker": {
          "color": "#FF9DA6",
          "size": 5
         },
         "name": "Cellcycle/Cd28/HU",
         "type": "box",
         "uid": "15ad9af4-fb63-4783-9841-80375ef7b2c5",
         "width": 0.5,
         "x": {
          "dtype": "float64",
          "shape": [
           17
          ]
         },
         "xaxis": "x11",
         "yaxis": "y11"
        },
        {
         "boxpoints": "all",
         "marker": {
          "color": "#9D755D",
          "size": 5
         },
         "name": "Cellcycle/Cd28/K",
         "type": "box",
         "uid": "7279469d-cfa1-41d9-9052-df6835b64d65",
         "width": 0.5,
         "x": {
          "dtype": "float64",
          "shape": [
           12
          ]
         },
         "xaxis": "x11",
         "yaxis": "y11"
        },
        {
         "boxpoints": "all",
         "marker": {
          "color": "#BAB0AC",
          "size": 5
         },
         "name": "Cellcycle/Cd3/FCS",
         "type": "box",
         "uid": "4e73d42b-aee4-46ec-8a53-059cfaa4bfda",
         "width": 0.5,
         "x": {
          "dtype": "float64",
          "shape": [
           9
          ]
         },
         "xaxis": "x11",
         "yaxis": "y11"
        },
        {
         "boxpoints": "all",
         "marker": {
          "color": "#4C78A8",
          "size": 5
         },
         "name": "Cellcycle/Cd3/HU",
         "type": "box",
         "uid": "94452f44-6cc6-4816-9a0e-9b7dfaef648c",
         "width": 0.5,
         "x": {
          "dtype": "float64",
          "shape": [
           13
          ]
         },
         "xaxis": "x11",
         "yaxis": "y11"
        },
        {
         "boxpoints": "all",
         "marker": {
          "color": "#F58518",
          "size": 5
         },
         "name": "Cellcycle/Cd3/K",
         "type": "box",
         "uid": "5e318d03-b3d5-48a8-a3db-a96a26ce57c2",
         "width": 0.5,
         "x": {
          "dtype": "float64",
          "shape": [
           5
          ]
         },
         "xaxis": "x11",
         "yaxis": "y11"
        },
        {
         "boxpoints": "all",
         "marker": {
          "color": "#E45756",
          "size": 5
         },
         "name": "Jurkat/CD105/5",
         "type": "box",
         "uid": "34c8bed5-c742-4aa9-a175-2904f8f69b24",
         "width": 0.5,
         "x": {
          "dtype": "float64",
          "shape": [
           6
          ]
         },
         "xaxis": "x11",
         "yaxis": "y11"
        },
        {
         "boxpoints": "all",
         "marker": {
          "color": "#72B7B2",
          "size": 5
         },
         "name": "Jurkat/CD11a",
         "type": "box",
         "uid": "abc2b798-c173-49da-adee-a4e04bcfe13c",
         "width": 0.5,
         "x": {
          "dtype": "float64",
          "shape": [
           13
          ]
         },
         "xaxis": "x11",
         "yaxis": "y11"
        },
        {
         "boxpoints": "all",
         "marker": {
          "color": "#54A24B",
          "size": 5
         },
         "name": "Jurkat/CD18",
         "type": "box",
         "uid": "c0f84102-7a3b-42eb-aba2-c948de774e36",
         "width": 0.5,
         "x": {
          "dtype": "float64",
          "shape": [
           20
          ]
         },
         "xaxis": "x11",
         "yaxis": "y11"
        },
        {
         "boxpoints": "all",
         "marker": {
          "color": "#EECA3B",
          "size": 5
         },
         "name": "Jurkat/CD2",
         "type": "box",
         "uid": "6712e1db-d79f-4dd4-a42e-9d8cbc6ec62d",
         "width": 0.5,
         "x": {
          "dtype": "float64",
          "shape": [
           7
          ]
         },
         "xaxis": "x11",
         "yaxis": "y11"
        },
        {
         "boxpoints": "all",
         "marker": {
          "color": "#B279A2",
          "size": 5
         },
         "name": "Jurkat/CD45/CD45",
         "type": "box",
         "uid": "fa749b8d-59cf-4e98-a727-b7b49e765e76",
         "width": 0.5,
         "x": {
          "dtype": "float64",
          "shape": [
           14
          ]
         },
         "xaxis": "x11",
         "yaxis": "y11"
        },
        {
         "boxpoints": "all",
         "marker": {
          "color": "#FF9DA6",
          "size": 5
         },
         "name": "Jurkat/CD69",
         "type": "box",
         "uid": "c9624310-9741-41b6-acd0-5f9c55cbbf61",
         "width": 0.5,
         "x": {
          "dtype": "float64",
          "shape": [
           27
          ]
         },
         "xaxis": "x11",
         "yaxis": "y11"
        },
        {
         "boxpoints": "all",
         "marker": {
          "color": "#9D755D",
          "size": 5
         },
         "name": "Jurkat/CD69/Cd69_K",
         "type": "box",
         "uid": "bda63068-5ba8-4ad7-9cc7-368004448d2a",
         "width": 0.5,
         "x": {
          "dtype": "float64",
          "shape": [
           5
          ]
         },
         "xaxis": "x11",
         "yaxis": "y11"
        },
        {
         "boxpoints": "all",
         "marker": {
          "color": "#BAB0AC",
          "size": 5
         },
         "name": "Jurkat/Cd45_pab_sab",
         "type": "box",
         "uid": "83674ac3-0aac-4af2-93dd-bf4946312f8c",
         "width": 0.5,
         "x": {
          "dtype": "float64",
          "shape": [
           13
          ]
         },
         "xaxis": "x11",
         "yaxis": "y11"
        },
        {
         "boxpoints": "all",
         "marker": {
          "color": "#4C78A8",
          "size": 5
         },
         "name": "Jurkat/Cd69_twocolor",
         "type": "box",
         "uid": "5bdd8d75-6e4a-4780-ba42-f4ffb4e97706",
         "width": 0.5,
         "x": {
          "dtype": "float64",
          "shape": [
           6
          ]
         },
         "xaxis": "x11",
         "yaxis": "y11"
        },
        {
         "boxpoints": "all",
         "marker": {
          "color": "#F58518",
          "size": 5
         },
         "name": "Jurkat/LFA1",
         "type": "box",
         "uid": "6ba39f03-88fb-45de-8d4e-a085c5e30523",
         "width": 0.5,
         "x": {
          "dtype": "float64",
          "shape": [
           18
          ]
         },
         "xaxis": "x11",
         "yaxis": "y11"
        },
        {
         "boxpoints": "all",
         "marker": {
          "color": "#E45756",
          "size": 5
         },
         "name": "Pat23_CD38",
         "type": "box",
         "uid": "c55132d0-0aca-428e-8788-cb5e63ef5f83",
         "width": 0.5,
         "x": {
          "dtype": "float64",
          "shape": [
           127
          ]
         },
         "xaxis": "x11",
         "yaxis": "y11"
        },
        {
         "boxpoints": "all",
         "marker": {
          "color": "#72B7B2",
          "size": 5
         },
         "name": "Patients/Pat379/BCMA",
         "type": "box",
         "uid": "e82c58a6-e826-496b-b013-7e790ef9180a",
         "width": 0.5,
         "x": {
          "dtype": "float64",
          "shape": [
           4
          ]
         },
         "xaxis": "x11",
         "yaxis": "y11"
        },
        {
         "boxpoints": "all",
         "marker": {
          "color": "#54A24B",
          "size": 5
         },
         "name": "Patients/Pat379/CD138",
         "type": "box",
         "uid": "f9ab827e-2add-47bb-a0a2-94f0ac40da46",
         "width": 0.5,
         "x": {
          "dtype": "float64",
          "shape": [
           7
          ]
         },
         "xaxis": "x11",
         "yaxis": "y11"
        },
        {
         "boxpoints": "all",
         "marker": {
          "color": "#EECA3B",
          "size": 5
         },
         "name": "Patients/Pat379/CD19",
         "type": "box",
         "uid": "949add96-d24a-4bd3-a90c-37cb593e9fb0",
         "width": 0.5,
         "x": {
          "dtype": "float64",
          "shape": [
           11
          ]
         },
         "xaxis": "x11",
         "yaxis": "y11"
        },
        {
         "boxpoints": "all",
         "marker": {
          "color": "#B279A2",
          "size": 5
         },
         "name": "Patients/Pat379/CD20",
         "type": "box",
         "uid": "2ec2cc07-eb6c-4269-9387-6f4ddd4cc41d",
         "width": 0.5,
         "x": {
          "dtype": "float64",
          "shape": [
           8
          ]
         },
         "xaxis": "x11",
         "yaxis": "y11"
        },
        {
         "boxpoints": "all",
         "marker": {
          "color": "#FF9DA6",
          "size": 5
         },
         "name": "Patients/Pat379/CD38",
         "type": "box",
         "uid": "cb29cfc1-8b6f-46f1-8be8-0a7d55202906",
         "width": 0.5,
         "x": {
          "dtype": "float64",
          "shape": [
           6
          ]
         },
         "xaxis": "x11",
         "yaxis": "y11"
        },
        {
         "boxpoints": "all",
         "marker": {
          "color": "#9D755D",
          "size": 5
         },
         "name": "Patients/Pat379/GPRCD5",
         "type": "box",
         "uid": "85bdc3f2-6c48-45c1-9f35-0195f294588a",
         "width": 0.5,
         "x": {
          "dtype": "float64",
          "shape": [
           6
          ]
         },
         "xaxis": "x11",
         "yaxis": "y11"
        },
        {
         "boxpoints": "all",
         "marker": {
          "color": "#BAB0AC",
          "size": 5
         },
         "name": "Patients/Pat379/SLAMF7",
         "type": "box",
         "uid": "d847ee28-ae4d-42ba-9ed6-2682a62f0a47",
         "width": 0.5,
         "x": {
          "dtype": "float64",
          "shape": [
           7
          ]
         },
         "xaxis": "x11",
         "yaxis": "y11"
        },
        {
         "boxpoints": "all",
         "marker": {
          "color": "#4C78A8",
          "size": 5
         },
         "name": "Patients/Pat394/BCMA",
         "type": "box",
         "uid": "d691f449-ace6-4b40-a75c-e122b00e00b9",
         "width": 0.5,
         "x": {
          "dtype": "float64",
          "shape": [
           14
          ]
         },
         "xaxis": "x11",
         "yaxis": "y11"
        },
        {
         "boxpoints": "all",
         "marker": {
          "color": "#F58518",
          "size": 5
         },
         "name": "Patients/Pat394/CD138",
         "type": "box",
         "uid": "49a0bd07-4320-4121-a77e-a8292bc63a12",
         "width": 0.5,
         "x": {
          "dtype": "float64",
          "shape": [
           9
          ]
         },
         "xaxis": "x11",
         "yaxis": "y11"
        },
        {
         "boxpoints": "all",
         "marker": {
          "color": "#E45756",
          "size": 5
         },
         "name": "Patients/Pat394/CD19",
         "type": "box",
         "uid": "1001471d-7ce4-41ce-b172-fcc0fa18ed81",
         "width": 0.5,
         "x": {
          "dtype": "float64",
          "shape": [
           6
          ]
         },
         "xaxis": "x11",
         "yaxis": "y11"
        },
        {
         "boxpoints": "all",
         "marker": {
          "color": "#72B7B2",
          "size": 5
         },
         "name": "Patients/Pat394/CD20",
         "type": "box",
         "uid": "be1d6b52-7bff-48a1-adb5-4958f6930953",
         "width": 0.5,
         "x": {
          "dtype": "float64",
          "shape": [
           8
          ]
         },
         "xaxis": "x11",
         "yaxis": "y11"
        },
        {
         "boxpoints": "all",
         "marker": {
          "color": "#54A24B",
          "size": 5
         },
         "name": "Patients/Pat394/CD38",
         "type": "box",
         "uid": "20778cc8-f83e-499e-9dc5-e4395042817f",
         "width": 0.5,
         "x": {
          "dtype": "float64",
          "shape": [
           9
          ]
         },
         "xaxis": "x11",
         "yaxis": "y11"
        },
        {
         "boxpoints": "all",
         "marker": {
          "color": "#EECA3B",
          "size": 5
         },
         "name": "Patients/Pat394/GPRCD5",
         "type": "box",
         "uid": "db8225f7-acf2-4ecf-9d47-b8d7dc24b19b",
         "width": 0.5,
         "x": {
          "dtype": "float64",
          "shape": [
           7
          ]
         },
         "xaxis": "x11",
         "yaxis": "y11"
        },
        {
         "boxpoints": "all",
         "marker": {
          "color": "#B279A2",
          "size": 5
         },
         "name": "Patients/Pat394/SLAMF7",
         "type": "box",
         "uid": "82b30078-dc7d-4bf0-9bd0-b67c745749e2",
         "width": 0.5,
         "x": {
          "dtype": "float64",
          "shape": [
           3
          ]
         },
         "xaxis": "x11",
         "yaxis": "y11"
        },
        {
         "boxpoints": "all",
         "marker": {
          "color": "#FF9DA6",
          "size": 5
         },
         "name": "Patients/Pat394/SLAMF7/1",
         "type": "box",
         "uid": "8622e9c0-635f-42b7-8efb-bdd2814ad27b",
         "width": 0.5,
         "x": {
          "dtype": "float64",
          "shape": [
           6
          ]
         },
         "xaxis": "x11",
         "yaxis": "y11"
        },
        {
         "boxpoints": "all",
         "marker": {
          "color": "#4C78A8",
          "size": 5
         },
         "name": "AML/1",
         "type": "box",
         "uid": "ae98642e-c84f-4306-a909-4e136593c138",
         "width": 0.5,
         "x": {
          "dtype": "float64",
          "shape": [
           11
          ]
         },
         "xaxis": "x12",
         "yaxis": "y12"
        },
        {
         "boxpoints": "all",
         "marker": {
          "color": "#F58518",
          "size": 5
         },
         "name": "AML/7",
         "type": "box",
         "uid": "ff50cccd-96a2-4f8c-a7e2-69c57db17e67",
         "width": 0.5,
         "x": {
          "dtype": "float64",
          "shape": [
           13
          ]
         },
         "xaxis": "x12",
         "yaxis": "y12"
        },
        {
         "boxpoints": "all",
         "marker": {
          "color": "#E45756",
          "size": 5
         },
         "name": "AML/8",
         "type": "box",
         "uid": "4324fdbc-3d84-4576-a678-cf0aa54d2e2f",
         "width": 0.5,
         "x": {
          "dtype": "float64",
          "shape": [
           10
          ]
         },
         "xaxis": "x12",
         "yaxis": "y12"
        },
        {
         "boxpoints": "all",
         "marker": {
          "color": "#72B7B2",
          "size": 5
         },
         "name": "Cellcycle/CD2/HU",
         "type": "box",
         "uid": "b32cdb30-67d9-4198-b5d0-54ba797277a6",
         "width": 0.5,
         "x": {
          "dtype": "float64",
          "shape": [
           5
          ]
         },
         "xaxis": "x12",
         "yaxis": "y12"
        },
        {
         "boxpoints": "all",
         "marker": {
          "color": "#54A24B",
          "size": 5
         },
         "name": "Cellcycle/CD69/FCS",
         "type": "box",
         "uid": "46a695f6-91cd-45e9-84a8-05a7f288a52e",
         "width": 0.5,
         "x": {
          "dtype": "float64",
          "shape": [
           9
          ]
         },
         "xaxis": "x12",
         "yaxis": "y12"
        },
        {
         "boxpoints": "all",
         "marker": {
          "color": "#EECA3B",
          "size": 5
         },
         "name": "Cellcycle/CD69/HU",
         "type": "box",
         "uid": "051ad90a-8f22-48cf-bc6c-cad003febb3a",
         "width": 0.5,
         "x": {
          "dtype": "float64",
          "shape": [
           2
          ]
         },
         "xaxis": "x12",
         "yaxis": "y12"
        },
        {
         "boxpoints": "all",
         "marker": {
          "color": "#B279A2",
          "size": 5
         },
         "name": "Cellcycle/Cd28/FCS",
         "type": "box",
         "uid": "2b7134da-9649-4875-b488-b5dd0fd92971",
         "width": 0.5,
         "x": {
          "dtype": "float64",
          "shape": [
           7
          ]
         },
         "xaxis": "x12",
         "yaxis": "y12"
        },
        {
         "boxpoints": "all",
         "marker": {
          "color": "#FF9DA6",
          "size": 5
         },
         "name": "Cellcycle/Cd28/HU",
         "type": "box",
         "uid": "1d91f700-1789-415b-ba95-36e61b35a243",
         "width": 0.5,
         "x": {
          "dtype": "float64",
          "shape": [
           17
          ]
         },
         "xaxis": "x12",
         "yaxis": "y12"
        },
        {
         "boxpoints": "all",
         "marker": {
          "color": "#9D755D",
          "size": 5
         },
         "name": "Cellcycle/Cd28/K",
         "type": "box",
         "uid": "e135493b-b66b-46d9-8cc9-8181568d8d62",
         "width": 0.5,
         "x": {
          "dtype": "float64",
          "shape": [
           12
          ]
         },
         "xaxis": "x12",
         "yaxis": "y12"
        },
        {
         "boxpoints": "all",
         "marker": {
          "color": "#BAB0AC",
          "size": 5
         },
         "name": "Cellcycle/Cd3/FCS",
         "type": "box",
         "uid": "c1384a94-5fb4-41cb-86e5-6741f4b9a318",
         "width": 0.5,
         "x": {
          "dtype": "float64",
          "shape": [
           9
          ]
         },
         "xaxis": "x12",
         "yaxis": "y12"
        },
        {
         "boxpoints": "all",
         "marker": {
          "color": "#4C78A8",
          "size": 5
         },
         "name": "Cellcycle/Cd3/HU",
         "type": "box",
         "uid": "ed40b207-bd0f-4664-8da0-66f174ce8807",
         "width": 0.5,
         "x": {
          "dtype": "float64",
          "shape": [
           13
          ]
         },
         "xaxis": "x12",
         "yaxis": "y12"
        },
        {
         "boxpoints": "all",
         "marker": {
          "color": "#F58518",
          "size": 5
         },
         "name": "Cellcycle/Cd3/K",
         "type": "box",
         "uid": "d6d0c6f4-b9b9-4385-813e-00b058ece0eb",
         "width": 0.5,
         "x": {
          "dtype": "float64",
          "shape": [
           5
          ]
         },
         "xaxis": "x12",
         "yaxis": "y12"
        },
        {
         "boxpoints": "all",
         "marker": {
          "color": "#E45756",
          "size": 5
         },
         "name": "Jurkat/CD105/5",
         "type": "box",
         "uid": "9fb2dd5a-3359-49af-83d6-887e0b09fcb9",
         "width": 0.5,
         "x": {
          "dtype": "float64",
          "shape": [
           6
          ]
         },
         "xaxis": "x12",
         "yaxis": "y12"
        },
        {
         "boxpoints": "all",
         "marker": {
          "color": "#72B7B2",
          "size": 5
         },
         "name": "Jurkat/CD11a",
         "type": "box",
         "uid": "e4eb6f49-25e7-4363-8325-99d8f494c3df",
         "width": 0.5,
         "x": {
          "dtype": "float64",
          "shape": [
           13
          ]
         },
         "xaxis": "x12",
         "yaxis": "y12"
        },
        {
         "boxpoints": "all",
         "marker": {
          "color": "#54A24B",
          "size": 5
         },
         "name": "Jurkat/CD18",
         "type": "box",
         "uid": "ddcd5914-0f7f-4654-8699-cd1739608416",
         "width": 0.5,
         "x": {
          "dtype": "float64",
          "shape": [
           20
          ]
         },
         "xaxis": "x12",
         "yaxis": "y12"
        },
        {
         "boxpoints": "all",
         "marker": {
          "color": "#EECA3B",
          "size": 5
         },
         "name": "Jurkat/CD2",
         "type": "box",
         "uid": "cbf478d1-f535-4212-8dcc-9ef61117cce4",
         "width": 0.5,
         "x": {
          "dtype": "float64",
          "shape": [
           7
          ]
         },
         "xaxis": "x12",
         "yaxis": "y12"
        },
        {
         "boxpoints": "all",
         "marker": {
          "color": "#B279A2",
          "size": 5
         },
         "name": "Jurkat/CD45/CD45",
         "type": "box",
         "uid": "4f5200f3-0a91-48dc-bd14-234a51e19190",
         "width": 0.5,
         "x": {
          "dtype": "float64",
          "shape": [
           14
          ]
         },
         "xaxis": "x12",
         "yaxis": "y12"
        },
        {
         "boxpoints": "all",
         "marker": {
          "color": "#FF9DA6",
          "size": 5
         },
         "name": "Jurkat/CD69",
         "type": "box",
         "uid": "9ba3246e-e309-4dfd-8b01-aaa78fe93bc8",
         "width": 0.5,
         "x": {
          "dtype": "float64",
          "shape": [
           27
          ]
         },
         "xaxis": "x12",
         "yaxis": "y12"
        },
        {
         "boxpoints": "all",
         "marker": {
          "color": "#9D755D",
          "size": 5
         },
         "name": "Jurkat/CD69/Cd69_K",
         "type": "box",
         "uid": "8c20fd14-422e-4e9e-ae1b-c287b70a7920",
         "width": 0.5,
         "x": {
          "dtype": "float64",
          "shape": [
           5
          ]
         },
         "xaxis": "x12",
         "yaxis": "y12"
        },
        {
         "boxpoints": "all",
         "marker": {
          "color": "#BAB0AC",
          "size": 5
         },
         "name": "Jurkat/Cd45_pab_sab",
         "type": "box",
         "uid": "42588524-fb55-4a31-b4ae-eca918e86ef7",
         "width": 0.5,
         "x": {
          "dtype": "float64",
          "shape": [
           13
          ]
         },
         "xaxis": "x12",
         "yaxis": "y12"
        },
        {
         "boxpoints": "all",
         "marker": {
          "color": "#4C78A8",
          "size": 5
         },
         "name": "Jurkat/Cd69_twocolor",
         "type": "box",
         "uid": "2ea68398-12f8-4aa1-8123-c1bca5fe4ecc",
         "width": 0.5,
         "x": {
          "dtype": "float64",
          "shape": [
           6
          ]
         },
         "xaxis": "x12",
         "yaxis": "y12"
        },
        {
         "boxpoints": "all",
         "marker": {
          "color": "#F58518",
          "size": 5
         },
         "name": "Jurkat/LFA1",
         "type": "box",
         "uid": "89b0e3f2-a2c8-4615-b3a0-1a3a1d1760fc",
         "width": 0.5,
         "x": {
          "dtype": "float64",
          "shape": [
           18
          ]
         },
         "xaxis": "x12",
         "yaxis": "y12"
        },
        {
         "boxpoints": "all",
         "marker": {
          "color": "#E45756",
          "size": 5
         },
         "name": "Pat23_CD38",
         "type": "box",
         "uid": "d9367a98-feb7-4ad0-b411-996618350b8a",
         "width": 0.5,
         "x": {
          "dtype": "float64",
          "shape": [
           127
          ]
         },
         "xaxis": "x12",
         "yaxis": "y12"
        },
        {
         "boxpoints": "all",
         "marker": {
          "color": "#72B7B2",
          "size": 5
         },
         "name": "Patients/Pat379/BCMA",
         "type": "box",
         "uid": "1c05d1a1-90bd-4b16-8a3a-7693ab55cc24",
         "width": 0.5,
         "x": {
          "dtype": "float64",
          "shape": [
           4
          ]
         },
         "xaxis": "x12",
         "yaxis": "y12"
        },
        {
         "boxpoints": "all",
         "marker": {
          "color": "#54A24B",
          "size": 5
         },
         "name": "Patients/Pat379/CD138",
         "type": "box",
         "uid": "c4b6262a-558d-43c3-a9f0-e86362268bac",
         "width": 0.5,
         "x": {
          "dtype": "float64",
          "shape": [
           7
          ]
         },
         "xaxis": "x12",
         "yaxis": "y12"
        },
        {
         "boxpoints": "all",
         "marker": {
          "color": "#EECA3B",
          "size": 5
         },
         "name": "Patients/Pat379/CD19",
         "type": "box",
         "uid": "c645181a-ac22-46d1-b3ca-f254744e0d0b",
         "width": 0.5,
         "x": {
          "dtype": "float64",
          "shape": [
           11
          ]
         },
         "xaxis": "x12",
         "yaxis": "y12"
        },
        {
         "boxpoints": "all",
         "marker": {
          "color": "#B279A2",
          "size": 5
         },
         "name": "Patients/Pat379/CD20",
         "type": "box",
         "uid": "3ce9170d-19dc-4ac2-83ed-0fb9068f2b25",
         "width": 0.5,
         "x": {
          "dtype": "float64",
          "shape": [
           8
          ]
         },
         "xaxis": "x12",
         "yaxis": "y12"
        },
        {
         "boxpoints": "all",
         "marker": {
          "color": "#FF9DA6",
          "size": 5
         },
         "name": "Patients/Pat379/CD38",
         "type": "box",
         "uid": "00d51d46-1dd8-4b1b-b1f0-cd58d5aa2c80",
         "width": 0.5,
         "x": {
          "dtype": "float64",
          "shape": [
           6
          ]
         },
         "xaxis": "x12",
         "yaxis": "y12"
        },
        {
         "boxpoints": "all",
         "marker": {
          "color": "#9D755D",
          "size": 5
         },
         "name": "Patients/Pat379/GPRCD5",
         "type": "box",
         "uid": "8955be04-498d-4590-9ea4-6f3407bf2057",
         "width": 0.5,
         "x": {
          "dtype": "float64",
          "shape": [
           6
          ]
         },
         "xaxis": "x12",
         "yaxis": "y12"
        },
        {
         "boxpoints": "all",
         "marker": {
          "color": "#BAB0AC",
          "size": 5
         },
         "name": "Patients/Pat379/SLAMF7",
         "type": "box",
         "uid": "5584ab10-5b1c-4ea1-b722-e508f4791d87",
         "width": 0.5,
         "x": {
          "dtype": "float64",
          "shape": [
           7
          ]
         },
         "xaxis": "x12",
         "yaxis": "y12"
        },
        {
         "boxpoints": "all",
         "marker": {
          "color": "#4C78A8",
          "size": 5
         },
         "name": "Patients/Pat394/BCMA",
         "type": "box",
         "uid": "aab9e9ec-87f0-45c6-a65d-e4ccf5720f7f",
         "width": 0.5,
         "x": {
          "dtype": "float64",
          "shape": [
           14
          ]
         },
         "xaxis": "x12",
         "yaxis": "y12"
        },
        {
         "boxpoints": "all",
         "marker": {
          "color": "#F58518",
          "size": 5
         },
         "name": "Patients/Pat394/CD138",
         "type": "box",
         "uid": "7151a495-acf7-440e-82dd-c56f5d4c0dea",
         "width": 0.5,
         "x": {
          "dtype": "float64",
          "shape": [
           9
          ]
         },
         "xaxis": "x12",
         "yaxis": "y12"
        },
        {
         "boxpoints": "all",
         "marker": {
          "color": "#E45756",
          "size": 5
         },
         "name": "Patients/Pat394/CD19",
         "type": "box",
         "uid": "29c1eb0f-7e9f-43bb-9d5c-36a8a98f9d13",
         "width": 0.5,
         "x": {
          "dtype": "float64",
          "shape": [
           6
          ]
         },
         "xaxis": "x12",
         "yaxis": "y12"
        },
        {
         "boxpoints": "all",
         "marker": {
          "color": "#72B7B2",
          "size": 5
         },
         "name": "Patients/Pat394/CD20",
         "type": "box",
         "uid": "f3d6558f-b7cd-44b4-bd01-d26f756faa01",
         "width": 0.5,
         "x": {
          "dtype": "float64",
          "shape": [
           8
          ]
         },
         "xaxis": "x12",
         "yaxis": "y12"
        },
        {
         "boxpoints": "all",
         "marker": {
          "color": "#54A24B",
          "size": 5
         },
         "name": "Patients/Pat394/CD38",
         "type": "box",
         "uid": "872fc190-3a2d-4edc-991a-9f7d644c5821",
         "width": 0.5,
         "x": {
          "dtype": "float64",
          "shape": [
           9
          ]
         },
         "xaxis": "x12",
         "yaxis": "y12"
        },
        {
         "boxpoints": "all",
         "marker": {
          "color": "#EECA3B",
          "size": 5
         },
         "name": "Patients/Pat394/GPRCD5",
         "type": "box",
         "uid": "504bfa53-4925-4dc7-bb84-60bf8955179d",
         "width": 0.5,
         "x": {
          "dtype": "float64",
          "shape": [
           7
          ]
         },
         "xaxis": "x12",
         "yaxis": "y12"
        },
        {
         "boxpoints": "all",
         "marker": {
          "color": "#B279A2",
          "size": 5
         },
         "name": "Patients/Pat394/SLAMF7",
         "type": "box",
         "uid": "4b7954f1-0d4e-4dff-a3a7-ceaeb2cea46f",
         "width": 0.5,
         "x": {
          "dtype": "float64",
          "shape": [
           3
          ]
         },
         "xaxis": "x12",
         "yaxis": "y12"
        },
        {
         "boxpoints": "all",
         "marker": {
          "color": "#FF9DA6",
          "size": 5
         },
         "name": "Patients/Pat394/SLAMF7/1",
         "type": "box",
         "uid": "a6a50ce4-d658-4ccc-9690-1a790c47a7bc",
         "width": 0.5,
         "x": {
          "dtype": "float64",
          "shape": [
           6
          ]
         },
         "xaxis": "x12",
         "yaxis": "y12"
        },
        {
         "boxpoints": "all",
         "marker": {
          "color": "#4C78A8",
          "size": 5
         },
         "name": "AML/1",
         "type": "box",
         "uid": "51b0c580-bf5f-4f9f-a9e2-a7a720451fde",
         "width": 0.5,
         "x": {
          "dtype": "float64",
          "shape": [
           11
          ]
         },
         "xaxis": "x13",
         "yaxis": "y13"
        },
        {
         "boxpoints": "all",
         "marker": {
          "color": "#F58518",
          "size": 5
         },
         "name": "AML/7",
         "type": "box",
         "uid": "23843725-7357-4c89-8023-d2532562d075",
         "width": 0.5,
         "x": {
          "dtype": "float64",
          "shape": [
           13
          ]
         },
         "xaxis": "x13",
         "yaxis": "y13"
        },
        {
         "boxpoints": "all",
         "marker": {
          "color": "#E45756",
          "size": 5
         },
         "name": "AML/8",
         "type": "box",
         "uid": "7fb52ad5-4c18-4318-9e88-dafec9404420",
         "width": 0.5,
         "x": {
          "dtype": "float64",
          "shape": [
           10
          ]
         },
         "xaxis": "x13",
         "yaxis": "y13"
        },
        {
         "boxpoints": "all",
         "marker": {
          "color": "#72B7B2",
          "size": 5
         },
         "name": "Cellcycle/CD2/HU",
         "type": "box",
         "uid": "2458ecbe-dba5-41a1-95ba-64a084870172",
         "width": 0.5,
         "x": {
          "dtype": "float64",
          "shape": [
           5
          ]
         },
         "xaxis": "x13",
         "yaxis": "y13"
        },
        {
         "boxpoints": "all",
         "marker": {
          "color": "#54A24B",
          "size": 5
         },
         "name": "Cellcycle/CD69/FCS",
         "type": "box",
         "uid": "52bca6d8-4986-4f1f-8077-f1c6dfa63023",
         "width": 0.5,
         "x": {
          "dtype": "float64",
          "shape": [
           9
          ]
         },
         "xaxis": "x13",
         "yaxis": "y13"
        },
        {
         "boxpoints": "all",
         "marker": {
          "color": "#EECA3B",
          "size": 5
         },
         "name": "Cellcycle/CD69/HU",
         "type": "box",
         "uid": "4fa12366-50db-4668-a921-ad20ce2ce184",
         "width": 0.5,
         "x": {
          "dtype": "float64",
          "shape": [
           2
          ]
         },
         "xaxis": "x13",
         "yaxis": "y13"
        },
        {
         "boxpoints": "all",
         "marker": {
          "color": "#B279A2",
          "size": 5
         },
         "name": "Cellcycle/Cd28/FCS",
         "type": "box",
         "uid": "2718ba35-58a6-46ac-a732-fd2581f8101b",
         "width": 0.5,
         "x": {
          "dtype": "float64",
          "shape": [
           7
          ]
         },
         "xaxis": "x13",
         "yaxis": "y13"
        },
        {
         "boxpoints": "all",
         "marker": {
          "color": "#FF9DA6",
          "size": 5
         },
         "name": "Cellcycle/Cd28/HU",
         "type": "box",
         "uid": "544479cb-f2ab-4e15-82da-22e8fad707a9",
         "width": 0.5,
         "x": {
          "dtype": "float64",
          "shape": [
           17
          ]
         },
         "xaxis": "x13",
         "yaxis": "y13"
        },
        {
         "boxpoints": "all",
         "marker": {
          "color": "#9D755D",
          "size": 5
         },
         "name": "Cellcycle/Cd28/K",
         "type": "box",
         "uid": "5e6ecfa6-cce6-4342-8b5f-0b7c3f36b1f7",
         "width": 0.5,
         "x": {
          "dtype": "float64",
          "shape": [
           12
          ]
         },
         "xaxis": "x13",
         "yaxis": "y13"
        },
        {
         "boxpoints": "all",
         "marker": {
          "color": "#BAB0AC",
          "size": 5
         },
         "name": "Cellcycle/Cd3/FCS",
         "type": "box",
         "uid": "e2f5a194-c710-4575-91bb-08645648fd84",
         "width": 0.5,
         "x": {
          "dtype": "float64",
          "shape": [
           9
          ]
         },
         "xaxis": "x13",
         "yaxis": "y13"
        },
        {
         "boxpoints": "all",
         "marker": {
          "color": "#4C78A8",
          "size": 5
         },
         "name": "Cellcycle/Cd3/HU",
         "type": "box",
         "uid": "e4fd3b7f-91b1-4f28-8589-46ad9cb7fb3f",
         "width": 0.5,
         "x": {
          "dtype": "float64",
          "shape": [
           13
          ]
         },
         "xaxis": "x13",
         "yaxis": "y13"
        },
        {
         "boxpoints": "all",
         "marker": {
          "color": "#F58518",
          "size": 5
         },
         "name": "Cellcycle/Cd3/K",
         "type": "box",
         "uid": "75d64069-a8e8-40b7-853f-03f994d761f9",
         "width": 0.5,
         "x": {
          "dtype": "float64",
          "shape": [
           5
          ]
         },
         "xaxis": "x13",
         "yaxis": "y13"
        },
        {
         "boxpoints": "all",
         "marker": {
          "color": "#E45756",
          "size": 5
         },
         "name": "Jurkat/CD105/5",
         "type": "box",
         "uid": "145a27cd-ed80-4e15-b17b-525e6347186f",
         "width": 0.5,
         "x": {
          "dtype": "float64",
          "shape": [
           6
          ]
         },
         "xaxis": "x13",
         "yaxis": "y13"
        },
        {
         "boxpoints": "all",
         "marker": {
          "color": "#72B7B2",
          "size": 5
         },
         "name": "Jurkat/CD11a",
         "type": "box",
         "uid": "396bf384-523d-42aa-a316-880d57a8d16c",
         "width": 0.5,
         "x": {
          "dtype": "float64",
          "shape": [
           13
          ]
         },
         "xaxis": "x13",
         "yaxis": "y13"
        },
        {
         "boxpoints": "all",
         "marker": {
          "color": "#54A24B",
          "size": 5
         },
         "name": "Jurkat/CD18",
         "type": "box",
         "uid": "188c4aa6-64c5-4fe1-9c26-356041e08a61",
         "width": 0.5,
         "x": {
          "dtype": "float64",
          "shape": [
           20
          ]
         },
         "xaxis": "x13",
         "yaxis": "y13"
        },
        {
         "boxpoints": "all",
         "marker": {
          "color": "#EECA3B",
          "size": 5
         },
         "name": "Jurkat/CD2",
         "type": "box",
         "uid": "9c570b4e-3efa-4c9e-a4be-e552465fe70c",
         "width": 0.5,
         "x": {
          "dtype": "float64",
          "shape": [
           7
          ]
         },
         "xaxis": "x13",
         "yaxis": "y13"
        },
        {
         "boxpoints": "all",
         "marker": {
          "color": "#B279A2",
          "size": 5
         },
         "name": "Jurkat/CD45/CD45",
         "type": "box",
         "uid": "c00f2a3a-9edd-4c91-9612-1314d1528b74",
         "width": 0.5,
         "x": {
          "dtype": "float64",
          "shape": [
           14
          ]
         },
         "xaxis": "x13",
         "yaxis": "y13"
        },
        {
         "boxpoints": "all",
         "marker": {
          "color": "#FF9DA6",
          "size": 5
         },
         "name": "Jurkat/CD69",
         "type": "box",
         "uid": "6a4a53df-6ae8-47de-b9af-1f971765f0cb",
         "width": 0.5,
         "x": {
          "dtype": "float64",
          "shape": [
           27
          ]
         },
         "xaxis": "x13",
         "yaxis": "y13"
        },
        {
         "boxpoints": "all",
         "marker": {
          "color": "#9D755D",
          "size": 5
         },
         "name": "Jurkat/CD69/Cd69_K",
         "type": "box",
         "uid": "b67bd39b-0229-42f6-970c-42a0fdab60d6",
         "width": 0.5,
         "x": {
          "dtype": "float64",
          "shape": [
           5
          ]
         },
         "xaxis": "x13",
         "yaxis": "y13"
        },
        {
         "boxpoints": "all",
         "marker": {
          "color": "#BAB0AC",
          "size": 5
         },
         "name": "Jurkat/Cd45_pab_sab",
         "type": "box",
         "uid": "5b088e43-6382-4184-92f1-83a2c0cdb793",
         "width": 0.5,
         "x": {
          "dtype": "float64",
          "shape": [
           13
          ]
         },
         "xaxis": "x13",
         "yaxis": "y13"
        },
        {
         "boxpoints": "all",
         "marker": {
          "color": "#4C78A8",
          "size": 5
         },
         "name": "Jurkat/Cd69_twocolor",
         "type": "box",
         "uid": "a0b39f1b-a76e-45a3-9f2a-a07319332c94",
         "width": 0.5,
         "x": {
          "dtype": "float64",
          "shape": [
           6
          ]
         },
         "xaxis": "x13",
         "yaxis": "y13"
        },
        {
         "boxpoints": "all",
         "marker": {
          "color": "#F58518",
          "size": 5
         },
         "name": "Jurkat/LFA1",
         "type": "box",
         "uid": "da62374f-5807-4fd1-836d-f407c14d791e",
         "width": 0.5,
         "x": {
          "dtype": "float64",
          "shape": [
           18
          ]
         },
         "xaxis": "x13",
         "yaxis": "y13"
        },
        {
         "boxpoints": "all",
         "marker": {
          "color": "#E45756",
          "size": 5
         },
         "name": "Pat23_CD38",
         "type": "box",
         "uid": "508fda21-6cb4-4d75-a1e1-16edab3cb126",
         "width": 0.5,
         "x": {
          "dtype": "float64",
          "shape": [
           127
          ]
         },
         "xaxis": "x13",
         "yaxis": "y13"
        },
        {
         "boxpoints": "all",
         "marker": {
          "color": "#72B7B2",
          "size": 5
         },
         "name": "Patients/Pat379/BCMA",
         "type": "box",
         "uid": "a8b73ec7-124e-460a-99c8-51a99d9ea26a",
         "width": 0.5,
         "x": {
          "dtype": "float64",
          "shape": [
           4
          ]
         },
         "xaxis": "x13",
         "yaxis": "y13"
        },
        {
         "boxpoints": "all",
         "marker": {
          "color": "#54A24B",
          "size": 5
         },
         "name": "Patients/Pat379/CD138",
         "type": "box",
         "uid": "69f68092-529b-4958-b5df-5c649b431d28",
         "width": 0.5,
         "x": {
          "dtype": "float64",
          "shape": [
           7
          ]
         },
         "xaxis": "x13",
         "yaxis": "y13"
        },
        {
         "boxpoints": "all",
         "marker": {
          "color": "#EECA3B",
          "size": 5
         },
         "name": "Patients/Pat379/CD19",
         "type": "box",
         "uid": "6a1730dc-8fc0-47b4-95f4-936ab6f8b41e",
         "width": 0.5,
         "x": {
          "dtype": "float64",
          "shape": [
           11
          ]
         },
         "xaxis": "x13",
         "yaxis": "y13"
        },
        {
         "boxpoints": "all",
         "marker": {
          "color": "#B279A2",
          "size": 5
         },
         "name": "Patients/Pat379/CD20",
         "type": "box",
         "uid": "3e64c435-8ee6-4788-86d9-0e20d3135df4",
         "width": 0.5,
         "x": {
          "dtype": "float64",
          "shape": [
           8
          ]
         },
         "xaxis": "x13",
         "yaxis": "y13"
        },
        {
         "boxpoints": "all",
         "marker": {
          "color": "#FF9DA6",
          "size": 5
         },
         "name": "Patients/Pat379/CD38",
         "type": "box",
         "uid": "f9681603-ce03-4a65-b3fd-b8f5aebc95b2",
         "width": 0.5,
         "x": {
          "dtype": "float64",
          "shape": [
           6
          ]
         },
         "xaxis": "x13",
         "yaxis": "y13"
        },
        {
         "boxpoints": "all",
         "marker": {
          "color": "#9D755D",
          "size": 5
         },
         "name": "Patients/Pat379/GPRCD5",
         "type": "box",
         "uid": "880b2f3d-116c-4ed2-926c-b98a38532d5e",
         "width": 0.5,
         "x": {
          "dtype": "float64",
          "shape": [
           6
          ]
         },
         "xaxis": "x13",
         "yaxis": "y13"
        },
        {
         "boxpoints": "all",
         "marker": {
          "color": "#BAB0AC",
          "size": 5
         },
         "name": "Patients/Pat379/SLAMF7",
         "type": "box",
         "uid": "0f261ed0-b055-4da4-8428-571d678f6a63",
         "width": 0.5,
         "x": {
          "dtype": "float64",
          "shape": [
           7
          ]
         },
         "xaxis": "x13",
         "yaxis": "y13"
        },
        {
         "boxpoints": "all",
         "marker": {
          "color": "#4C78A8",
          "size": 5
         },
         "name": "Patients/Pat394/BCMA",
         "type": "box",
         "uid": "a1346cf3-e770-4f53-a7aa-af7a43e53078",
         "width": 0.5,
         "x": {
          "dtype": "float64",
          "shape": [
           14
          ]
         },
         "xaxis": "x13",
         "yaxis": "y13"
        },
        {
         "boxpoints": "all",
         "marker": {
          "color": "#F58518",
          "size": 5
         },
         "name": "Patients/Pat394/CD138",
         "type": "box",
         "uid": "52e0780e-5aa8-4ebc-87a8-ac342bc6d09d",
         "width": 0.5,
         "x": {
          "dtype": "float64",
          "shape": [
           9
          ]
         },
         "xaxis": "x13",
         "yaxis": "y13"
        },
        {
         "boxpoints": "all",
         "marker": {
          "color": "#E45756",
          "size": 5
         },
         "name": "Patients/Pat394/CD19",
         "type": "box",
         "uid": "434e9188-07a7-4bbb-b54a-fafbfb9a6ccf",
         "width": 0.5,
         "x": {
          "dtype": "float64",
          "shape": [
           6
          ]
         },
         "xaxis": "x13",
         "yaxis": "y13"
        },
        {
         "boxpoints": "all",
         "marker": {
          "color": "#72B7B2",
          "size": 5
         },
         "name": "Patients/Pat394/CD20",
         "type": "box",
         "uid": "229aa0df-7839-40ba-bfed-799eedfeba4a",
         "width": 0.5,
         "x": {
          "dtype": "float64",
          "shape": [
           8
          ]
         },
         "xaxis": "x13",
         "yaxis": "y13"
        },
        {
         "boxpoints": "all",
         "marker": {
          "color": "#54A24B",
          "size": 5
         },
         "name": "Patients/Pat394/CD38",
         "type": "box",
         "uid": "677ee57a-28ee-4bf6-96d2-f8b2041a9de6",
         "width": 0.5,
         "x": {
          "dtype": "float64",
          "shape": [
           9
          ]
         },
         "xaxis": "x13",
         "yaxis": "y13"
        },
        {
         "boxpoints": "all",
         "marker": {
          "color": "#EECA3B",
          "size": 5
         },
         "name": "Patients/Pat394/GPRCD5",
         "type": "box",
         "uid": "2a5fc44c-1248-4f2f-9d4c-ae29bdd69c80",
         "width": 0.5,
         "x": {
          "dtype": "float64",
          "shape": [
           7
          ]
         },
         "xaxis": "x13",
         "yaxis": "y13"
        },
        {
         "boxpoints": "all",
         "marker": {
          "color": "#B279A2",
          "size": 5
         },
         "name": "Patients/Pat394/SLAMF7",
         "type": "box",
         "uid": "77a0227d-ca83-4b76-b314-40f4fcd7acfb",
         "width": 0.5,
         "x": {
          "dtype": "float64",
          "shape": [
           3
          ]
         },
         "xaxis": "x13",
         "yaxis": "y13"
        },
        {
         "boxpoints": "all",
         "marker": {
          "color": "#FF9DA6",
          "size": 5
         },
         "name": "Patients/Pat394/SLAMF7/1",
         "type": "box",
         "uid": "06a99ebe-c66d-4e5a-9ca2-60c68d94936a",
         "width": 0.5,
         "x": {
          "dtype": "float64",
          "shape": [
           6
          ]
         },
         "xaxis": "x13",
         "yaxis": "y13"
        }
       ],
       "_js2py_layoutDelta": {},
       "_js2py_pointsCallback": {},
       "_js2py_relayout": {},
       "_js2py_restyle": {},
       "_js2py_traceDeltas": {},
       "_js2py_update": {},
       "_layout": {
        "annotations": [
         {
          "font": {
           "size": 16
          },
          "showarrow": false,
          "text": "localization_count",
          "x": 0.5,
          "xanchor": "center",
          "xref": "paper",
          "y": 1.0000000000000002,
          "yanchor": "bottom",
          "yref": "paper"
         },
         {
          "font": {
           "size": 16
          },
          "showarrow": false,
          "text": "region_measure",
          "x": 0.5,
          "xanchor": "center",
          "xref": "paper",
          "y": 0.9223076923076925,
          "yanchor": "bottom",
          "yref": "paper"
         },
         {
          "font": {
           "size": 16
          },
          "showarrow": false,
          "text": "localization_density",
          "x": 0.5,
          "xanchor": "center",
          "xref": "paper",
          "y": 0.8446153846153848,
          "yanchor": "bottom",
          "yref": "paper"
         },
         {
          "font": {
           "size": 16
          },
          "showarrow": false,
          "text": "subregion_measure",
          "x": 0.5,
          "xanchor": "center",
          "xref": "paper",
          "y": 0.766923076923077,
          "yanchor": "bottom",
          "yref": "paper"
         },
         {
          "font": {
           "size": 16
          },
          "showarrow": false,
          "text": "region_measure_ch",
          "x": 0.5,
          "xanchor": "center",
          "xref": "paper",
          "y": 0.6892307692307693,
          "yanchor": "bottom",
          "yref": "paper"
         },
         {
          "font": {
           "size": 16
          },
          "showarrow": false,
          "text": "frame_max",
          "x": 0.5,
          "xanchor": "center",
          "xref": "paper",
          "y": 0.6115384615384616,
          "yanchor": "bottom",
          "yref": "paper"
         },
         {
          "font": {
           "size": 16
          },
          "showarrow": false,
          "text": "intensity_min",
          "x": 0.5,
          "xanchor": "center",
          "xref": "paper",
          "y": 0.5338461538461539,
          "yanchor": "bottom",
          "yref": "paper"
         },
         {
          "font": {
           "size": 16
          },
          "showarrow": false,
          "text": "intensity_mean",
          "x": 0.5,
          "xanchor": "center",
          "xref": "paper",
          "y": 0.45615384615384613,
          "yanchor": "bottom",
          "yref": "paper"
         },
         {
          "font": {
           "size": 16
          },
          "showarrow": false,
          "text": "local_background",
          "x": 0.5,
          "xanchor": "center",
          "xref": "paper",
          "y": 0.3784615384615384,
          "yanchor": "bottom",
          "yref": "paper"
         },
         {
          "font": {
           "size": 16
          },
          "showarrow": false,
          "text": "correlation_intensity_local_background",
          "x": 0.5,
          "xanchor": "center",
          "xref": "paper",
          "y": 0.3007692307692308,
          "yanchor": "bottom",
          "yref": "paper"
         },
         {
          "font": {
           "size": 16
          },
          "showarrow": false,
          "text": "loc_density_per_frame_min",
          "x": 0.5,
          "xanchor": "center",
          "xref": "paper",
          "y": 0.22307692307692306,
          "yanchor": "bottom",
          "yref": "paper"
         },
         {
          "font": {
           "size": 16
          },
          "showarrow": false,
          "text": "loc_density_per_frame_max",
          "x": 0.5,
          "xanchor": "center",
          "xref": "paper",
          "y": 0.1453846153846154,
          "yanchor": "bottom",
          "yref": "paper"
         },
         {
          "font": {
           "size": 16
          },
          "showarrow": false,
          "text": "loc_density_per_frame_mean",
          "x": 0.5,
          "xanchor": "center",
          "xref": "paper",
          "y": 0.06769230769230769,
          "yanchor": "bottom",
          "yref": "paper"
         }
        ],
        "boxmode": "group",
        "height": 10000,
        "showlegend": false,
        "template": {
         "data": {
          "bar": [
           {
            "error_x": {
             "color": "#2a3f5f"
            },
            "error_y": {
             "color": "#2a3f5f"
            },
            "marker": {
             "line": {
              "color": "#E5ECF6",
              "width": 0.5
             }
            },
            "type": "bar"
           }
          ],
          "barpolar": [
           {
            "marker": {
             "line": {
              "color": "#E5ECF6",
              "width": 0.5
             }
            },
            "type": "barpolar"
           }
          ],
          "carpet": [
           {
            "aaxis": {
             "endlinecolor": "#2a3f5f",
             "gridcolor": "white",
             "linecolor": "white",
             "minorgridcolor": "white",
             "startlinecolor": "#2a3f5f"
            },
            "baxis": {
             "endlinecolor": "#2a3f5f",
             "gridcolor": "white",
             "linecolor": "white",
             "minorgridcolor": "white",
             "startlinecolor": "#2a3f5f"
            },
            "type": "carpet"
           }
          ],
          "choropleth": [
           {
            "colorbar": {
             "outlinewidth": 0,
             "ticks": ""
            },
            "type": "choropleth"
           }
          ],
          "contour": [
           {
            "colorbar": {
             "outlinewidth": 0,
             "ticks": ""
            },
            "colorscale": [
             [
              0,
              "#0d0887"
             ],
             [
              0.1111111111111111,
              "#46039f"
             ],
             [
              0.2222222222222222,
              "#7201a8"
             ],
             [
              0.3333333333333333,
              "#9c179e"
             ],
             [
              0.4444444444444444,
              "#bd3786"
             ],
             [
              0.5555555555555556,
              "#d8576b"
             ],
             [
              0.6666666666666666,
              "#ed7953"
             ],
             [
              0.7777777777777778,
              "#fb9f3a"
             ],
             [
              0.8888888888888888,
              "#fdca26"
             ],
             [
              1,
              "#f0f921"
             ]
            ],
            "type": "contour"
           }
          ],
          "contourcarpet": [
           {
            "colorbar": {
             "outlinewidth": 0,
             "ticks": ""
            },
            "type": "contourcarpet"
           }
          ],
          "heatmap": [
           {
            "colorbar": {
             "outlinewidth": 0,
             "ticks": ""
            },
            "colorscale": [
             [
              0,
              "#0d0887"
             ],
             [
              0.1111111111111111,
              "#46039f"
             ],
             [
              0.2222222222222222,
              "#7201a8"
             ],
             [
              0.3333333333333333,
              "#9c179e"
             ],
             [
              0.4444444444444444,
              "#bd3786"
             ],
             [
              0.5555555555555556,
              "#d8576b"
             ],
             [
              0.6666666666666666,
              "#ed7953"
             ],
             [
              0.7777777777777778,
              "#fb9f3a"
             ],
             [
              0.8888888888888888,
              "#fdca26"
             ],
             [
              1,
              "#f0f921"
             ]
            ],
            "type": "heatmap"
           }
          ],
          "heatmapgl": [
           {
            "colorbar": {
             "outlinewidth": 0,
             "ticks": ""
            },
            "colorscale": [
             [
              0,
              "#0d0887"
             ],
             [
              0.1111111111111111,
              "#46039f"
             ],
             [
              0.2222222222222222,
              "#7201a8"
             ],
             [
              0.3333333333333333,
              "#9c179e"
             ],
             [
              0.4444444444444444,
              "#bd3786"
             ],
             [
              0.5555555555555556,
              "#d8576b"
             ],
             [
              0.6666666666666666,
              "#ed7953"
             ],
             [
              0.7777777777777778,
              "#fb9f3a"
             ],
             [
              0.8888888888888888,
              "#fdca26"
             ],
             [
              1,
              "#f0f921"
             ]
            ],
            "type": "heatmapgl"
           }
          ],
          "histogram": [
           {
            "marker": {
             "colorbar": {
              "outlinewidth": 0,
              "ticks": ""
             }
            },
            "type": "histogram"
           }
          ],
          "histogram2d": [
           {
            "colorbar": {
             "outlinewidth": 0,
             "ticks": ""
            },
            "colorscale": [
             [
              0,
              "#0d0887"
             ],
             [
              0.1111111111111111,
              "#46039f"
             ],
             [
              0.2222222222222222,
              "#7201a8"
             ],
             [
              0.3333333333333333,
              "#9c179e"
             ],
             [
              0.4444444444444444,
              "#bd3786"
             ],
             [
              0.5555555555555556,
              "#d8576b"
             ],
             [
              0.6666666666666666,
              "#ed7953"
             ],
             [
              0.7777777777777778,
              "#fb9f3a"
             ],
             [
              0.8888888888888888,
              "#fdca26"
             ],
             [
              1,
              "#f0f921"
             ]
            ],
            "type": "histogram2d"
           }
          ],
          "histogram2dcontour": [
           {
            "colorbar": {
             "outlinewidth": 0,
             "ticks": ""
            },
            "colorscale": [
             [
              0,
              "#0d0887"
             ],
             [
              0.1111111111111111,
              "#46039f"
             ],
             [
              0.2222222222222222,
              "#7201a8"
             ],
             [
              0.3333333333333333,
              "#9c179e"
             ],
             [
              0.4444444444444444,
              "#bd3786"
             ],
             [
              0.5555555555555556,
              "#d8576b"
             ],
             [
              0.6666666666666666,
              "#ed7953"
             ],
             [
              0.7777777777777778,
              "#fb9f3a"
             ],
             [
              0.8888888888888888,
              "#fdca26"
             ],
             [
              1,
              "#f0f921"
             ]
            ],
            "type": "histogram2dcontour"
           }
          ],
          "mesh3d": [
           {
            "colorbar": {
             "outlinewidth": 0,
             "ticks": ""
            },
            "type": "mesh3d"
           }
          ],
          "parcoords": [
           {
            "line": {
             "colorbar": {
              "outlinewidth": 0,
              "ticks": ""
             }
            },
            "type": "parcoords"
           }
          ],
          "pie": [
           {
            "automargin": true,
            "type": "pie"
           }
          ],
          "scatter": [
           {
            "marker": {
             "colorbar": {
              "outlinewidth": 0,
              "ticks": ""
             }
            },
            "type": "scatter"
           }
          ],
          "scatter3d": [
           {
            "line": {
             "colorbar": {
              "outlinewidth": 0,
              "ticks": ""
             }
            },
            "marker": {
             "colorbar": {
              "outlinewidth": 0,
              "ticks": ""
             }
            },
            "type": "scatter3d"
           }
          ],
          "scattercarpet": [
           {
            "marker": {
             "colorbar": {
              "outlinewidth": 0,
              "ticks": ""
             }
            },
            "type": "scattercarpet"
           }
          ],
          "scattergeo": [
           {
            "marker": {
             "colorbar": {
              "outlinewidth": 0,
              "ticks": ""
             }
            },
            "type": "scattergeo"
           }
          ],
          "scattergl": [
           {
            "marker": {
             "colorbar": {
              "outlinewidth": 0,
              "ticks": ""
             }
            },
            "type": "scattergl"
           }
          ],
          "scattermapbox": [
           {
            "marker": {
             "colorbar": {
              "outlinewidth": 0,
              "ticks": ""
             }
            },
            "type": "scattermapbox"
           }
          ],
          "scatterpolar": [
           {
            "marker": {
             "colorbar": {
              "outlinewidth": 0,
              "ticks": ""
             }
            },
            "type": "scatterpolar"
           }
          ],
          "scatterpolargl": [
           {
            "marker": {
             "colorbar": {
              "outlinewidth": 0,
              "ticks": ""
             }
            },
            "type": "scatterpolargl"
           }
          ],
          "scatterternary": [
           {
            "marker": {
             "colorbar": {
              "outlinewidth": 0,
              "ticks": ""
             }
            },
            "type": "scatterternary"
           }
          ],
          "surface": [
           {
            "colorbar": {
             "outlinewidth": 0,
             "ticks": ""
            },
            "colorscale": [
             [
              0,
              "#0d0887"
             ],
             [
              0.1111111111111111,
              "#46039f"
             ],
             [
              0.2222222222222222,
              "#7201a8"
             ],
             [
              0.3333333333333333,
              "#9c179e"
             ],
             [
              0.4444444444444444,
              "#bd3786"
             ],
             [
              0.5555555555555556,
              "#d8576b"
             ],
             [
              0.6666666666666666,
              "#ed7953"
             ],
             [
              0.7777777777777778,
              "#fb9f3a"
             ],
             [
              0.8888888888888888,
              "#fdca26"
             ],
             [
              1,
              "#f0f921"
             ]
            ],
            "type": "surface"
           }
          ],
          "table": [
           {
            "cells": {
             "fill": {
              "color": "#EBF0F8"
             },
             "line": {
              "color": "white"
             }
            },
            "header": {
             "fill": {
              "color": "#C8D4E3"
             },
             "line": {
              "color": "white"
             }
            },
            "type": "table"
           }
          ]
         },
         "layout": {
          "annotationdefaults": {
           "arrowcolor": "#2a3f5f",
           "arrowhead": 0,
           "arrowwidth": 1
          },
          "autotypenumbers": "strict",
          "coloraxis": {
           "colorbar": {
            "outlinewidth": 0,
            "ticks": ""
           }
          },
          "colorscale": {
           "diverging": [
            [
             0,
             "#8e0152"
            ],
            [
             0.1,
             "#c51b7d"
            ],
            [
             0.2,
             "#de77ae"
            ],
            [
             0.3,
             "#f1b6da"
            ],
            [
             0.4,
             "#fde0ef"
            ],
            [
             0.5,
             "#f7f7f7"
            ],
            [
             0.6,
             "#e6f5d0"
            ],
            [
             0.7,
             "#b8e186"
            ],
            [
             0.8,
             "#7fbc41"
            ],
            [
             0.9,
             "#4d9221"
            ],
            [
             1,
             "#276419"
            ]
           ],
           "sequential": [
            [
             0,
             "#0d0887"
            ],
            [
             0.1111111111111111,
             "#46039f"
            ],
            [
             0.2222222222222222,
             "#7201a8"
            ],
            [
             0.3333333333333333,
             "#9c179e"
            ],
            [
             0.4444444444444444,
             "#bd3786"
            ],
            [
             0.5555555555555556,
             "#d8576b"
            ],
            [
             0.6666666666666666,
             "#ed7953"
            ],
            [
             0.7777777777777778,
             "#fb9f3a"
            ],
            [
             0.8888888888888888,
             "#fdca26"
            ],
            [
             1,
             "#f0f921"
            ]
           ],
           "sequentialminus": [
            [
             0,
             "#0d0887"
            ],
            [
             0.1111111111111111,
             "#46039f"
            ],
            [
             0.2222222222222222,
             "#7201a8"
            ],
            [
             0.3333333333333333,
             "#9c179e"
            ],
            [
             0.4444444444444444,
             "#bd3786"
            ],
            [
             0.5555555555555556,
             "#d8576b"
            ],
            [
             0.6666666666666666,
             "#ed7953"
            ],
            [
             0.7777777777777778,
             "#fb9f3a"
            ],
            [
             0.8888888888888888,
             "#fdca26"
            ],
            [
             1,
             "#f0f921"
            ]
           ]
          },
          "colorway": [
           "#636efa",
           "#EF553B",
           "#00cc96",
           "#ab63fa",
           "#FFA15A",
           "#19d3f3",
           "#FF6692",
           "#B6E880",
           "#FF97FF",
           "#FECB52"
          ],
          "font": {
           "color": "#2a3f5f"
          },
          "geo": {
           "bgcolor": "white",
           "lakecolor": "white",
           "landcolor": "#E5ECF6",
           "showlakes": true,
           "showland": true,
           "subunitcolor": "white"
          },
          "hoverlabel": {
           "align": "left"
          },
          "hovermode": "closest",
          "mapbox": {
           "style": "light"
          },
          "paper_bgcolor": "white",
          "plot_bgcolor": "#E5ECF6",
          "polar": {
           "angularaxis": {
            "gridcolor": "white",
            "linecolor": "white",
            "ticks": ""
           },
           "bgcolor": "#E5ECF6",
           "radialaxis": {
            "gridcolor": "white",
            "linecolor": "white",
            "ticks": ""
           }
          },
          "scene": {
           "xaxis": {
            "backgroundcolor": "#E5ECF6",
            "gridcolor": "white",
            "gridwidth": 2,
            "linecolor": "white",
            "showbackground": true,
            "ticks": "",
            "zerolinecolor": "white"
           },
           "yaxis": {
            "backgroundcolor": "#E5ECF6",
            "gridcolor": "white",
            "gridwidth": 2,
            "linecolor": "white",
            "showbackground": true,
            "ticks": "",
            "zerolinecolor": "white"
           },
           "zaxis": {
            "backgroundcolor": "#E5ECF6",
            "gridcolor": "white",
            "gridwidth": 2,
            "linecolor": "white",
            "showbackground": true,
            "ticks": "",
            "zerolinecolor": "white"
           }
          },
          "shapedefaults": {
           "line": {
            "color": "#2a3f5f"
           }
          },
          "ternary": {
           "aaxis": {
            "gridcolor": "white",
            "linecolor": "white",
            "ticks": ""
           },
           "baxis": {
            "gridcolor": "white",
            "linecolor": "white",
            "ticks": ""
           },
           "bgcolor": "#E5ECF6",
           "caxis": {
            "gridcolor": "white",
            "linecolor": "white",
            "ticks": ""
           }
          },
          "title": {
           "x": 0.05
          },
          "xaxis": {
           "automargin": true,
           "gridcolor": "white",
           "linecolor": "white",
           "ticks": "",
           "title": {
            "standoff": 15
           },
           "zerolinecolor": "white",
           "zerolinewidth": 2
          },
          "yaxis": {
           "automargin": true,
           "gridcolor": "white",
           "linecolor": "white",
           "ticks": "",
           "title": {
            "standoff": 15
           },
           "zerolinecolor": "white",
           "zerolinewidth": 2
          }
         }
        },
        "title": {
         "text": "Averaged properties for each experimental group"
        },
        "width": 1000,
        "xaxis": {
         "anchor": "y",
         "domain": [
          0,
          1
         ]
        },
        "xaxis10": {
         "anchor": "y10",
         "domain": [
          0,
          1
         ]
        },
        "xaxis11": {
         "anchor": "y11",
         "domain": [
          0,
          1
         ]
        },
        "xaxis12": {
         "anchor": "y12",
         "domain": [
          0,
          1
         ]
        },
        "xaxis13": {
         "anchor": "y13",
         "domain": [
          0,
          1
         ]
        },
        "xaxis2": {
         "anchor": "y2",
         "domain": [
          0,
          1
         ]
        },
        "xaxis3": {
         "anchor": "y3",
         "domain": [
          0,
          1
         ]
        },
        "xaxis4": {
         "anchor": "y4",
         "domain": [
          0,
          1
         ]
        },
        "xaxis5": {
         "anchor": "y5",
         "domain": [
          0,
          1
         ]
        },
        "xaxis6": {
         "anchor": "y6",
         "domain": [
          0,
          1
         ]
        },
        "xaxis7": {
         "anchor": "y7",
         "domain": [
          0,
          1
         ]
        },
        "xaxis8": {
         "anchor": "y8",
         "domain": [
          0,
          1
         ]
        },
        "xaxis9": {
         "anchor": "y9",
         "domain": [
          0,
          1
         ]
        },
        "yaxis": {
         "anchor": "x",
         "domain": [
          0.9323076923076925,
          1
         ]
        },
        "yaxis10": {
         "anchor": "x10",
         "domain": [
          0.23307692307692307,
          0.3007692307692308
         ]
        },
        "yaxis11": {
         "anchor": "x11",
         "domain": [
          0.15538461538461537,
          0.22307692307692306
         ]
        },
        "yaxis12": {
         "anchor": "x12",
         "domain": [
          0.07769230769230769,
          0.1453846153846154
         ]
        },
        "yaxis13": {
         "anchor": "x13",
         "domain": [
          0,
          0.06769230769230769
         ]
        },
        "yaxis2": {
         "anchor": "x2",
         "domain": [
          0.8546153846153848,
          0.9223076923076925
         ]
        },
        "yaxis3": {
         "anchor": "x3",
         "domain": [
          0.776923076923077,
          0.8446153846153848
         ]
        },
        "yaxis4": {
         "anchor": "x4",
         "domain": [
          0.6992307692307693,
          0.766923076923077
         ]
        },
        "yaxis5": {
         "anchor": "x5",
         "domain": [
          0.6215384615384616,
          0.6892307692307693
         ]
        },
        "yaxis6": {
         "anchor": "x6",
         "domain": [
          0.5438461538461539,
          0.6115384615384616
         ]
        },
        "yaxis7": {
         "anchor": "x7",
         "domain": [
          0.4661538461538462,
          0.5338461538461539
         ]
        },
        "yaxis8": {
         "anchor": "x8",
         "domain": [
          0.38846153846153847,
          0.45615384615384613
         ]
        },
        "yaxis9": {
         "anchor": "x9",
         "domain": [
          0.31076923076923074,
          0.3784615384615384
         ]
        }
       },
       "_py2js_addTraces": {},
       "_py2js_animate": {},
       "_py2js_deleteTraces": {},
       "_py2js_moveTraces": {},
       "_py2js_relayout": {},
       "_py2js_removeLayoutProps": {},
       "_py2js_removeTraceProps": {},
       "_py2js_restyle": {},
       "_py2js_update": {},
       "_view_count": 0
      }
     },
     "c3d29619089342499ab6390a68bf03fa": {
      "model_module": "@jupyter-widgets/base",
      "model_module_version": "1.2.0",
      "model_name": "LayoutModel",
      "state": {}
     },
     "ce994272004f466a93629ec02bf8ebc5": {
      "model_module": "@jupyter-widgets/base",
      "model_module_version": "1.2.0",
      "model_name": "LayoutModel",
      "state": {}
     },
     "d74568c85011459180b02b0a0359b510": {
      "model_module": "@jupyter-widgets/controls",
      "model_module_version": "1.5.0",
      "model_name": "ProgressStyleModel",
      "state": {
       "description_width": ""
      }
     },
     "e3f62b8809554747a5466860d46d5349": {
      "model_module": "@jupyter-widgets/controls",
      "model_module_version": "1.5.0",
      "model_name": "HTMLModel",
      "state": {
       "layout": "IPY_MODEL_c3d29619089342499ab6390a68bf03fa",
       "style": "IPY_MODEL_994ea750e41c46279c230cb447a2755f",
       "value": " 480/480 [00:00&lt;00:00, 28786.85it/s]"
      }
     },
     "f534d23b0ce6493a9ad393b9aef5db7b": {
      "model_module": "@jupyter-widgets/controls",
      "model_module_version": "1.5.0",
      "model_name": "HTMLModel",
      "state": {
       "layout": "IPY_MODEL_feb4feb877f04288876e0670c2e245ec",
       "style": "IPY_MODEL_6f1a1030421b47028a18167303e98cc1",
       "value": "Processed pipelines:: 100%"
      }
     },
     "feb4feb877f04288876e0670c2e245ec": {
      "model_module": "@jupyter-widgets/base",
      "model_module_version": "1.2.0",
      "model_name": "LayoutModel",
      "state": {}
     }
    },
    "version_major": 2,
    "version_minor": 0
   }
  }
 },
 "nbformat": 4,
 "nbformat_minor": 4
}
