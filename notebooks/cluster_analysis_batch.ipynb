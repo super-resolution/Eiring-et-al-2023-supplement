{
 "cells": [
  {
   "cell_type": "markdown",
   "metadata": {},
   "source": [
    "# Cluster analysis (batch/pipeline)"
   ]
  },
  {
   "cell_type": "markdown",
   "metadata": {},
   "source": [
    "15.12.2022 Sören Doose"
   ]
  },
  {
   "cell_type": "markdown",
   "metadata": {},
   "source": [
    "## Initial setup"
   ]
  },
  {
   "cell_type": "code",
   "execution_count": null,
   "metadata": {},
   "outputs": [],
   "source": [
    "import sys\n",
    "from pathlib import Path\n",
    "import re\n",
    "import pickle\n",
    "import logging\n",
    "\n",
    "import numpy as np\n",
    "import pandas as pd\n",
    "import matplotlib.pyplot as plt\n",
    "from scipy import stats\n",
    "from tqdm.notebook import tqdm\n",
    "import plotly.express as px\n",
    "from plotly.subplots import make_subplots\n",
    "import plotly.graph_objects as go\n",
    "\n",
    "import locan as lc"
   ]
  },
  {
   "cell_type": "code",
   "execution_count": null,
   "metadata": {},
   "outputs": [],
   "source": [
    "lc.show_versions(dependencies=False)"
   ]
  },
  {
   "cell_type": "code",
   "execution_count": null,
   "metadata": {},
   "outputs": [],
   "source": [
    "logging.basicConfig(stream=sys.stdout, level=logging.INFO, format='%(asctime)s - %(name)s - %(levelname)s - %(message)s')\n",
    "logger = logging.getLogger()"
   ]
  },
  {
   "cell_type": "code",
   "execution_count": null,
   "metadata": {},
   "outputs": [],
   "source": [
    "rng = np.random.default_rng(seed=1)"
   ]
  },
  {
   "cell_type": "markdown",
   "metadata": {},
   "source": [
    "## File list"
   ]
  },
  {
   "cell_type": "markdown",
   "metadata": {},
   "source": [
    "The dataset should have been corrected for drift and chromatic abberation."
   ]
  },
  {
   "cell_type": "markdown",
   "metadata": {},
   "source": [
    "Set the directory in which a set of localization files is found."
   ]
  },
  {
   "cell_type": "code",
   "execution_count": null,
   "metadata": {},
   "outputs": [],
   "source": [
    "directory = Path('.') / '../data'\n",
    "assert directory.exists()"
   ]
  },
  {
   "cell_type": "code",
   "execution_count": null,
   "metadata": {
    "tags": []
   },
   "outputs": [],
   "source": [
    "files = list(directory.glob('**/*.yaml'))\n",
    "print(f'Number of files: {len(files)}')\n",
    "for i, file in enumerate(files):\n",
    "    print(i,\":\", file);"
   ]
  },
  {
   "cell_type": "markdown",
   "metadata": {},
   "source": [
    "## Set up the pipeline"
   ]
  },
  {
   "cell_type": "code",
   "execution_count": null,
   "metadata": {},
   "outputs": [],
   "source": [
    "def computation(self, file):\n",
    "    \"\"\"\n",
    "    Analysis procedure on a LocData object specified by file.\n",
    "    \n",
    "    Parameters\n",
    "    ----------\n",
    "    self : Pipeline\n",
    "        Pipeline object that collects results of the analysis procedure.\n",
    "    file : str\n",
    "        File path for roi-file.\n",
    "        \n",
    "    Returns\n",
    "    -------\n",
    "    Pipeline\n",
    "        The Pipeline object specified by `self`.\n",
    "    \"\"\"    \n",
    "    # Prologue\n",
    "    self.file_indicator = Path(file) #.stem\n",
    "    \n",
    "    # Prepare metadata\n",
    "    metadata_files = list(directory.glob('**/*.toml'))\n",
    "    metadata_file = lc.find_pattern_upstream(sub_directory=file, pattern=\"metadata.toml\", directory=\"../data\")\n",
    "    metadata = lc.load_metadata_from_toml(metadata_file)['metadata']\n",
    "    \n",
    "    # Load locdata\n",
    "    logger.debug(f'Loading')\n",
    "    roi = lc.Roi.from_yaml(path=file)\n",
    "    roi.reference.file.path = str(Path(file)\n",
    "                              .relative_to(Path('.'))\n",
    "                              .with_name(Path(roi.reference.file.path).name)\n",
    "                             )\n",
    "    locdata = roi.locdata()\n",
    "    locdata.meta.MergeFrom(metadata)\n",
    "    \n",
    "    # Prerequisites\n",
    "    if not len(locdata)>1:\n",
    "        logger.info(f'Not enough data in file: {file}')\n",
    "        return None\n",
    "    \n",
    "    # Select\n",
    "    condition = '0 < frame < 15_000 and ' \\\n",
    "                '8000 < intensity'\n",
    "    locdata = lc.select_by_condition(locdata, condition=condition)\n",
    "    # self.locdata.reduce()\n",
    "    \n",
    "    logger.debug('Add locdata properties')\n",
    "    self.locdata_properties = locdata.properties\n",
    "    \n",
    "    # compute cluster\n",
    "    logger.debug('Processing Cluster')\n",
    "    self.noise, self.clust = lc.cluster_dbscan(locdata, eps=20, min_samples=3)\n",
    "    \n",
    "    # add properties\n",
    "    logger.debug('Add cluster properties')\n",
    "    for reference in self.clust.references:\n",
    "        reference.properties['intensity'] = reference.data.intensity.sum()\n",
    "        reference.properties['intensity_mean'] = reference.data.intensity.mean()\n",
    "        reference.properties['local_background_mean'] = reference.data.local_background.mean()\n",
    "        reference.properties['frame_mean'] = reference.data.frame.mean()\n",
    "        reference.properties['frame_std'] = reference.data.frame.std()\n",
    "        \n",
    "    new_df = pd.DataFrame([reference.properties for reference in self.clust.references])\n",
    "    new_df.index = self.clust.data.index\n",
    "    self.clust.dataframe.update(new_df)\n",
    "    new_columns = [column for column in new_df.columns if column in self.clust.dataframe.columns]\n",
    "    new_df.drop(columns=new_columns, inplace=True, errors='ignore')\n",
    "    self.clust.dataframe = pd.concat([self.clust.dataframe, new_df], axis=1)\n",
    "    \n",
    "    # compute convex hull\n",
    "    logger.debug('Processing convex hulls')\n",
    "    self.clust.update_convex_hulls_in_references()\n",
    "    self.clust.data.fillna(0, inplace=True)\n",
    "    \n",
    "    # select cluster\n",
    "    logger.debug('Processing Cluster Selection')\n",
    "    if self.clust.data.empty:\n",
    "        self.clust_selection = self.clust\n",
    "    else:\n",
    "        condition = '0 < localization_count < 100 and ' \\\n",
    "                    '0 < region_measure_ch < 5000'\n",
    "        self.clust_selection = lc.select_by_condition(self.clust, condition=condition)\n",
    "        references_ = [self.clust.references[i] for i in self.clust_selection.indices]\n",
    "        self.clust_selection.reduce()\n",
    "        self.clust_selection.references = references_\n",
    "\n",
    "    logger.debug('Processing Properties')\n",
    "    if self.clust_selection.data.empty:\n",
    "        # LocalizationProperty\n",
    "        self.lp_localization_count = None\n",
    "        self.lp_region_measure_ch = None\n",
    "\n",
    "        # Scalar properties\n",
    "        self.n_locs_in_cluster = np.nan\n",
    "        self.n_locs_in_cluster_relative = np.nan\n",
    "    \n",
    "    else:\n",
    "        # LocalizationProperty\n",
    "        self.lp_localization_count = lc.LocalizationProperty(loc_property='localization_count').compute(self.clust_selection)\n",
    "        self.lp_region_measure_ch = lc.LocalizationProperty(loc_property='region_measure_ch').compute(self.clust_selection)\n",
    "\n",
    "        # Scalar properties\n",
    "        self.n_locs_in_cluster = self.clust_selection.data['localization_count'].sum()\n",
    "        self.n_locs_in_cluster_relative = self.n_locs_in_cluster / len(locdata)\n",
    "\n",
    "    logger.debug(f'Computation completed for: {file}')\n",
    "            \n",
    "    return self"
   ]
  },
  {
   "cell_type": "code",
   "execution_count": null,
   "metadata": {},
   "outputs": [],
   "source": [
    "def save_pickled_pipe(counter: int, pipe: lc.Pipeline, pickle_directory) -> None:\n",
    "    file_path = Path(pickle_directory) / f'Cluster_pipelines_{counter:03}.pickle'\n",
    "    # inject computation to be pickleable\n",
    "    pipe.computation = computation\n",
    "    pipe.parameter['computation'] = computation\n",
    "    with open(file_path, 'wb') as file:\n",
    "        pickle.dump(pipe, file, pickle.HIGHEST_PROTOCOL)"
   ]
  },
  {
   "cell_type": "markdown",
   "metadata": {},
   "source": [
    "## Run pipeline"
   ]
  },
  {
   "cell_type": "code",
   "execution_count": null,
   "metadata": {},
   "outputs": [],
   "source": [
    "logger.setLevel(logging.INFO)  # alternative logging.WARNING"
   ]
  },
  {
   "cell_type": "raw",
   "metadata": {},
   "source": [
    "pickle_directory = Path('.') / '../pickled_results'\n",
    "assert pickle_directory.exists()"
   ]
  },
  {
   "cell_type": "code",
   "execution_count": null,
   "metadata": {
    "tags": []
   },
   "outputs": [],
   "source": [
    "%%time\n",
    "def worker(i, file):\n",
    "    logging.basicConfig(level=logging.INFO)\n",
    "    logger.info(f'Processing {i} : {file}')\n",
    "    try:\n",
    "        pipe = lc.Pipeline(computation=computation, file=file).compute()\n",
    "        # save_pickled_pipe(counter=i, pipe=pipe, pickle_directory=pickle_directory)\n",
    "        return pipe\n",
    "    except Exception as e:\n",
    "        raise(e)\n",
    "        logger.warning(f'Error in {file}')\n",
    "        return None\n",
    "\n",
    "pipes = [worker(i, file) for i, file in tqdm(enumerate(files[0:1]), desc='Processed files:')]\n",
    "print(f'Number of pipes: {len(pipes)}')"
   ]
  },
  {
   "cell_type": "markdown",
   "metadata": {},
   "source": [
    "### Multiprocessing with ray"
   ]
  },
  {
   "cell_type": "raw",
   "metadata": {},
   "source": [
    "import ray\n",
    "ray.shutdown()"
   ]
  },
  {
   "cell_type": "raw",
   "metadata": {},
   "source": [
    "import ray\n",
    "\n",
    "ray.init()\n",
    "# ray.init(num_cpus = 4)"
   ]
  },
  {
   "cell_type": "raw",
   "metadata": {
    "jupyter": {
     "outputs_hidden": true
    },
    "tags": []
   },
   "source": [
    "%%time\n",
    "@ray.remote\n",
    "def worker(i, file):\n",
    "    logging.basicConfig(level=logging.INFO)\n",
    "    logger.info(f'Processing {i} : {file}')\n",
    "    try:\n",
    "        pipe = lc.Pipeline(computation=computation, file=file).compute()\n",
    "        logger.info(f'Finished computation {i}.')\n",
    "        return pipe\n",
    "    except Exception as e:\n",
    "        logger.warning(f'Error in {file}: \\n {e}')\n",
    "        raise  # comment out this line if you want to continue processing files after error.\n",
    "        return None\n",
    "\n",
    "futures = [worker.remote(i, file) for i, file in enumerate(files)]\n",
    "pipes = ray.get(futures)\n",
    "print(f'Number of pipes: {len(pipes)}')"
   ]
  },
  {
   "cell_type": "markdown",
   "metadata": {},
   "source": [
    "### Pipeline attributes"
   ]
  },
  {
   "cell_type": "code",
   "execution_count": null,
   "metadata": {},
   "outputs": [],
   "source": [
    "[attr for attr in dir(pipes[0]) if not attr.startswith('__') and not attr.endswith('__')]"
   ]
  },
  {
   "cell_type": "markdown",
   "metadata": {},
   "source": [
    "## Save pickled pipes"
   ]
  },
  {
   "cell_type": "markdown",
   "metadata": {},
   "source": [
    "Save pickled pipes if not done during computation pipe-by-pipe."
   ]
  },
  {
   "cell_type": "raw",
   "metadata": {},
   "source": [
    "for i, pipe in enumerate(pipes):\n",
    "    save_pickled_pipe(counter=i, pipe=pipe, pickle_directory=pickle_directory)"
   ]
  },
  {
   "cell_type": "markdown",
   "metadata": {},
   "source": [
    "## Load pickled pipes"
   ]
  },
  {
   "cell_type": "raw",
   "metadata": {},
   "source": [
    "pickle_files = list(pickle_directory.glob('Cluster_pipelines_*.pickle'))\n",
    "assert pickle_files"
   ]
  },
  {
   "cell_type": "raw",
   "metadata": {},
   "source": [
    "pipes = []\n",
    "for file_path in pickle_files:\n",
    "    with open(file_path, 'rb') as file:\n",
    "        pipes.append(pickle.load(file))\n",
    "print(f'Number of pipes: {len(pipes)}')"
   ]
  },
  {
   "cell_type": "markdown",
   "metadata": {},
   "source": [
    "## Data presentation"
   ]
  },
  {
   "cell_type": "markdown",
   "metadata": {},
   "source": [
    "### Remove None from pipes"
   ]
  },
  {
   "cell_type": "code",
   "execution_count": null,
   "metadata": {},
   "outputs": [],
   "source": [
    "print(f'Number of pipes: {len(pipes)}')\n",
    "pipes = [pipe for pipe in pipes if pipe]\n",
    "print(f'Number of pipes that are not None: {len(pipes)}')"
   ]
  },
  {
   "cell_type": "markdown",
   "metadata": {},
   "source": [
    "### Extract from pipes"
   ]
  },
  {
   "cell_type": "code",
   "execution_count": null,
   "metadata": {},
   "outputs": [],
   "source": [
    "def collect_scalars(pipelines):\n",
    "    \"\"\"\n",
    "    Collect scalar properties from Pipeline objects and assemble them in a pandas.DataFrame.\n",
    "    \n",
    "    Parameters\n",
    "    ----------\n",
    "    pipelines : list(Pipeline)\n",
    "        Pipeline objects.\n",
    "        \n",
    "    Returns\n",
    "    -------\n",
    "    pandas.DataFrame\n",
    "    \"\"\"\n",
    "    dictionaries = []\n",
    "    for pipe in tqdm(pipelines, desc='Processed pipelines:'):\n",
    "\n",
    "        new_dict = {\n",
    "            'files': pipe.file_indicator\n",
    "            }\n",
    "        new_dict.update(cluster_count=pipe.clust_selection.properties['localization_count'])\n",
    "        new_dict.update(cluster_density=pipe.clust_selection.properties['localization_density'])\n",
    "        new_dict.update(n_locs_in_cluster_relative=pipe.n_locs_in_cluster_relative)\n",
    "\n",
    "        if pipe.clust_selection.properties['localization_count']==0:\n",
    "            new_dict.update(localization_count_mean=np.nan)\n",
    "            new_dict.update(region_measure_ch_mean=np.nan)\n",
    "            new_dict.update(localization_density_in_cluster_mean=np.nan)\n",
    "            new_dict.update(localization_density_in_cluster_mean=np.nan)\n",
    "\n",
    "        else:\n",
    "            new_dict.update(localization_count_mean=pipe.clust_selection.data['localization_count'].mean())\n",
    "            new_dict.update(region_measure_ch_mean=pipe.clust_selection.data['region_measure_ch'].mean()) \n",
    "            new_dict.update(localization_density_in_cluster_mean=pipe.clust_selection.data['localization_density_ch'].mean())\n",
    "            new_dict.update(intensity_sum_mean=pipe.clust_selection.data['intensity'].mean())\n",
    "            new_dict.update(intensity_mean_mean=pipe.clust_selection.data['intensity_mean'].mean())\n",
    "            new_dict.update(local_background_mean_mean=pipe.clust_selection.data['local_background_mean'].mean())\n",
    "        \n",
    "        dictionaries.append(new_dict)\n",
    "        \n",
    "    return pd.DataFrame(dictionaries)"
   ]
  },
  {
   "cell_type": "code",
   "execution_count": null,
   "metadata": {},
   "outputs": [],
   "source": [
    "scalars_df = collect_scalars(pipes)"
   ]
  },
  {
   "cell_type": "code",
   "execution_count": null,
   "metadata": {},
   "outputs": [],
   "source": [
    "scalars_df.head()"
   ]
  },
  {
   "cell_type": "markdown",
   "metadata": {},
   "source": [
    "## Compare for files"
   ]
  },
  {
   "cell_type": "markdown",
   "metadata": {},
   "source": [
    "Reduce the file name to group identifier - here buffer:"
   ]
  },
  {
   "cell_type": "code",
   "execution_count": null,
   "metadata": {},
   "outputs": [],
   "source": [
    "#choices = ['*/' + str(file.parent.relative_to('../data')).replace('\\\\', '/') + '/*' for file in files]\n",
    "choices = ['*/' + str(file.relative_to('../data')).replace('\\\\', '/') for file in files]\n",
    "\n",
    "choices_name = [choice[2:-2] for choice in choices]\n",
    "\n",
    "choices_name = ['CD18' if ('CD18_' in cn) else cn for cn in choices_name]\n",
    "    \n",
    "conditions = [[f.match(name) for f in scalars_df['files']] for name in choices]\n",
    "scalars_df['sample'] = np.select(conditions, choices_name, default=None)"
   ]
  },
  {
   "cell_type": "code",
   "execution_count": null,
   "metadata": {},
   "outputs": [],
   "source": [
    "grouped = scalars_df.groupby('sample')"
   ]
  },
  {
   "cell_type": "code",
   "execution_count": null,
   "metadata": {
    "tags": []
   },
   "outputs": [],
   "source": [
    "assert all([group in choices_name for group in list(grouped.groups)])\n",
    "list(grouped.groups)"
   ]
  },
  {
   "cell_type": "markdown",
   "metadata": {},
   "source": [
    "### Descriptive statistics"
   ]
  },
  {
   "cell_type": "markdown",
   "metadata": {},
   "source": [
    "#### Mean values:"
   ]
  },
  {
   "cell_type": "code",
   "execution_count": null,
   "metadata": {},
   "outputs": [],
   "source": [
    "grouped.size()"
   ]
  },
  {
   "cell_type": "code",
   "execution_count": null,
   "metadata": {},
   "outputs": [],
   "source": [
    "grouped.mean()"
   ]
  },
  {
   "cell_type": "code",
   "execution_count": null,
   "metadata": {},
   "outputs": [],
   "source": [
    "grouped.median()"
   ]
  },
  {
   "cell_type": "code",
   "execution_count": null,
   "metadata": {},
   "outputs": [],
   "source": [
    "grouped.sem()"
   ]
  },
  {
   "cell_type": "markdown",
   "metadata": {},
   "source": [
    "### Statistical plots"
   ]
  },
  {
   "cell_type": "code",
   "execution_count": null,
   "metadata": {},
   "outputs": [],
   "source": [
    "scalars_df.columns"
   ]
  },
  {
   "cell_type": "code",
   "execution_count": null,
   "metadata": {},
   "outputs": [],
   "source": [
    "blacklist = [\n",
    "    'files',\n",
    "    'sample'\n",
    "]\n",
    "columns_of_interest = [column for column in scalars_df.columns if column not in blacklist]\n",
    "columns_of_interest"
   ]
  },
  {
   "cell_type": "code",
   "execution_count": null,
   "metadata": {
    "tags": []
   },
   "outputs": [],
   "source": [
    "n_elements = len(columns_of_interest)\n",
    "n_cols = 1\n",
    "n_rows = -(-n_elements // n_cols)\n",
    "\n",
    "fig = make_subplots(rows=n_rows, cols=n_cols, subplot_titles=columns_of_interest, vertical_spacing=0.01)\n",
    "\n",
    "colors = px.colors.qualitative.T10 * 5\n",
    "assert len(colors) >= len(grouped)\n",
    "\n",
    "for column, indices in zip(columns_of_interest, lc.iterate_2d_array(n_elements, n_cols)):\n",
    "    for (key, value), color in zip(grouped[column], colors):\n",
    "        fig.add_trace(\n",
    "            go.Box(x=value, name=key, boxpoints='all', marker_size=5, width=0.5, marker_color=color),\n",
    "            row=indices[0]+1, col=indices[1]+1\n",
    "            )\n",
    "        fig.update_layout(boxmode='group', showlegend=False)\n",
    "\n",
    "fig.update_layout(height=12_000, width=1000, title_text=\"Averaged properties for each experimental group\")\n",
    "go.FigureWidget(fig).show()"
   ]
  },
  {
   "cell_type": "raw",
   "metadata": {},
   "source": [
    "# Save values from selected group:\n",
    "\n",
    "df = pd.DataFrame()\n",
    "collection = []\n",
    "for key, value in grouped['cluster_density']:\n",
    "    value.name = key\n",
    "    value = value.reset_index(drop=True)\n",
    "    collection.append(value)\n",
    "    \n",
    "df = pd.concat(collection, ignore_index=False, axis=1)\n",
    "df.to_csv('./cluster_density_group_values.csv')"
   ]
  },
  {
   "cell_type": "markdown",
   "metadata": {},
   "source": [
    "## Grouped number of localizations per cluster"
   ]
  },
  {
   "cell_type": "code",
   "execution_count": null,
   "metadata": {},
   "outputs": [],
   "source": [
    "def get_concatenated_dataframe(pipes, grouped, property):\n",
    "    results_dict = {}\n",
    "    for name, group in grouped:\n",
    "        series = pd.Series(dtype=np.float64)\n",
    "        new_series = []\n",
    "        for i in group.index:\n",
    "            if pipes[i].clust_selection.properties['localization_count']>0:\n",
    "                new_series.append(pipes[i].clust_selection.data[property])\n",
    "        series = pd.concat(new_series, ignore_index=True)\n",
    "        results_dict[name] = series\n",
    "    return pd.DataFrame(results_dict)"
   ]
  },
  {
   "cell_type": "code",
   "execution_count": null,
   "metadata": {},
   "outputs": [],
   "source": [
    "property = 'localization_count'\n",
    "df = get_concatenated_dataframe(pipes, grouped, property)\n",
    "df.hist(bins=np.linspace(0, 100, 100), log=True, figsize=(20, 20), density=True);\n",
    "plt.tight_layout()"
   ]
  },
  {
   "cell_type": "code",
   "execution_count": null,
   "metadata": {},
   "outputs": [],
   "source": [
    "property = 'localization_count'\n",
    "df = get_concatenated_dataframe(pipes, grouped, property)\n",
    "df.hist(bins=np.linspace(0, 50, 50), log=False, figsize=(20, 20), density=True);\n",
    "plt.tight_layout()"
   ]
  },
  {
   "cell_type": "markdown",
   "metadata": {},
   "source": [
    "## Localizations per cluster aggregated from all files"
   ]
  },
  {
   "cell_type": "code",
   "execution_count": null,
   "metadata": {},
   "outputs": [],
   "source": [
    "property = 'localization_count'\n",
    "\n",
    "results_list = []\n",
    "for pipe in pipes:\n",
    "    if pipe.clust_selection.properties['localization_count']>0:\n",
    "        results_list.append(pipe.lp_localization_count.results)\n",
    "lp_localization_count_all = pd.concat(results_list, ignore_index=True)\n",
    "\n",
    "lp_localization_count = lc.LocalizationProperty(loc_property='localization_count')\n",
    "lp_localization_count.results = lp_localization_count_all\n",
    "lp_localization_count.meta"
   ]
  },
  {
   "cell_type": "code",
   "execution_count": null,
   "metadata": {},
   "outputs": [],
   "source": [
    "lp_localization_count.hist(bins=np.linspace(0,500,100));"
   ]
  },
  {
   "cell_type": "code",
   "execution_count": null,
   "metadata": {},
   "outputs": [],
   "source": [
    "lp_localization_count.distribution_statistics.parameter_dict()"
   ]
  },
  {
   "cell_type": "code",
   "execution_count": null,
   "metadata": {
    "tags": []
   },
   "outputs": [],
   "source": [
    "lp_localization_count.results.describe()"
   ]
  },
  {
   "cell_type": "markdown",
   "metadata": {},
   "source": [
    "## Publication Figures"
   ]
  },
  {
   "cell_type": "code",
   "execution_count": null,
   "metadata": {},
   "outputs": [],
   "source": [
    "property = 'localization_count'\n",
    "\n",
    "df = get_concatenated_dataframe(pipes, grouped, property)\n",
    "df = df[list(grouped.groups)]"
   ]
  },
  {
   "cell_type": "code",
   "execution_count": null,
   "metadata": {},
   "outputs": [],
   "source": [
    "for group in list(grouped.groups):\n",
    "    with plt.style.context('./publication_histogram.mplstyle'):   \n",
    "        fig, ax = plt.subplots(figsize=(6, 6))\n",
    "        ax.hist(x=df[group], bins=np.linspace(0, 50, 50), log=False, density=True, histtype='bar', \n",
    "                linewidth=3, color='Grey');\n",
    "        ax.set_xlabel(r'localizations per cluster')\n",
    "        ax.set_ylabel(r\"pdf\")\n",
    "        ax.set_xlim(0, 50)\n",
    "        ax.set_ylim(0, 0.22)\n",
    "        ax.set_title(group + ' ', loc='right', y=0.9)\n",
    "        #plt.legend(group)\n",
    "\n",
    "        my_group_name = group.replace('/', '_')\n",
    "        # fig.savefig(f'../figures/LocPerClustHist_{my_group_name}.pdf', dpi=1200, bbox_inches='tight') \n",
    "\n",
    "plt.show()"
   ]
  },
  {
   "cell_type": "code",
   "execution_count": null,
   "metadata": {},
   "outputs": [],
   "source": [
    "list(grouped.groups)"
   ]
  },
  {
   "cell_type": "code",
   "execution_count": null,
   "metadata": {},
   "outputs": [],
   "source": [
    "colors = [\"lightgray\", \"darkgray\", \"dimgray\", \"tab:orange\", \"tab:red\", \"tab:cyan\", \"tab:blue\"]\n",
    "assert len(colors) >= len(grouped)\n",
    "colors"
   ]
  },
  {
   "cell_type": "code",
   "execution_count": null,
   "metadata": {},
   "outputs": [],
   "source": [
    "with plt.style.context('./publication_histogram.mplstyle'):\n",
    "    fig, ax = plt.subplots(figsize=(6, 6))\n",
    "    for group, color_ in zip(list(grouped.groups), colors):\n",
    "        my_group_name = group.replace('/', '_')\n",
    "        \n",
    "        ax.hist(x=df[group], bins=np.linspace(0, 50, 25), log=True, density=True, histtype='step', \n",
    "                linewidth=3, color=color_, label=my_group_name);\n",
    "        \n",
    "        ax.set_xlabel(r'localizations per cluster')\n",
    "        ax.set_ylabel(r\"probability density\")\n",
    "        ax.set_xlim(3, 50)\n",
    "        ax.set_ylim(1e-3, 0.3)\n",
    "plt.legend()\n",
    "plt.show()"
   ]
  },
  {
   "cell_type": "raw",
   "metadata": {},
   "source": [
    "fig.savefig(f'../figures/Fig3_histogram_LocsPerCluster.pdf', dpi=1200, bbox_inches='tight')"
   ]
  }
 ],
 "metadata": {
  "kernelspec": {
   "display_name": "Python 3 (ipykernel)",
   "language": "python",
   "name": "python3"
  },
  "language_info": {
   "codemirror_mode": {
    "name": "ipython",
    "version": 3
   },
   "file_extension": ".py",
   "mimetype": "text/x-python",
   "name": "python",
   "nbconvert_exporter": "python",
   "pygments_lexer": "ipython3",
   "version": "3.10.8"
  },
  "widgets": {
   "application/vnd.jupyter.widget-state+json": {
    "state": {
     "03a2fc9dacc8447084f3ed71bf455e93": {
      "model_module": "@jupyter-widgets/controls",
      "model_module_version": "1.5.0",
      "model_name": "DescriptionStyleModel",
      "state": {
       "description_width": ""
      }
     },
     "03e846d779e14781b672c157d5bd907c": {
      "model_module": "@jupyter-widgets/base",
      "model_module_version": "1.2.0",
      "model_name": "LayoutModel",
      "state": {}
     },
     "092889cc9a564d68ad7e6304b0d4bd8c": {
      "buffers": [
       {
        "data": "SMxYUo9stD5RuQ3zeeXQPhEdrA1hmL4+EomZH98uuD6tpy/afF7TPmigMMZl19I+efLmDd/0tj5Qm0Qxk2C5PvfvHc9DU8A+SQMr+clpxD4cqdmsfZfCPg==",
        "encoding": "base64",
        "path": [
         "_data",
         38,
         "x",
         "value"
        ]
       },
       {
        "data": "YI1URNvCzz4bdsRKQ1a3Ps+9pzHB5bE+X5K5d2zGwD5pOr25TePDPvWJAv1Oqr0+96g35V8uwT41iVjOKwK8PkLDP0S6z70+a3H62EmCxD5Mhm1Cz1+4Pjs9rC/cxMU+BgwBCQVgxD4=",
        "encoding": "base64",
        "path": [
         "_data",
         39,
         "x",
         "value"
        ]
       },
       {
        "data": "H9W27/7BxT5w1Jq/W/S+PhUxEjcNk8M+RhbwXgCJyj7VZO80U/K5Pj7kJY+9jLg+O8I3hmUiwz7NcZHXaDXAPu+93cNBQNA+Y2kz+wZqvz4=",
        "encoding": "base64",
        "path": [
         "_data",
         40,
         "x",
         "value"
        ]
       },
       {
        "data": "/OCj6aBh+T6kwt7eUNzqPpdatsadZvI+se4PC3vW/D7pZrG7wRDzPg==",
        "encoding": "base64",
        "path": [
         "_data",
         41,
         "x",
         "value"
        ]
       },
       {
        "data": "oE+KaWlQ2D6fTQ2RluvgPgs3bhAO994+4EdlLDk14j5Dx0eZj5HXPtxA4JjnQtM+WV2RLHhCtD6YBRpsyWOyPj6ncFkil7I+",
        "encoding": "base64",
        "path": [
         "_data",
         42,
         "x",
         "value"
        ]
       },
       {
        "data": "pX4NbiKIlT6k0skbGeOVPg==",
        "encoding": "base64",
        "path": [
         "_data",
         43,
         "x",
         "value"
        ]
       },
       {
        "data": "YAu8PsL26T7qoksJF5vlPtb6Z618GOA+TGK421Eb6D4focqnrAjePgK5k0CwUd8+xHN4D99E7T4=",
        "encoding": "base64",
        "path": [
         "_data",
         44,
         "x",
         "value"
        ]
       },
       {
        "data": "skrUhDEz1T6vfjWHPv7CPosKyan6Y9U+Ff7SpkXb2T6jIGJ5JXj4Ph7vENhJTvw+855SfjLLvj46YxIayGnDPsZ88dFHMd4+quelDQFP3D4vS2q+/ffUPreoF4gKo9w+PXnn/+rJ4D4S+wTA4KjlPu2nKmhNNtI+ybso2vdA4T5K2fxv1VbTPg==",
        "encoding": "base64",
        "path": [
         "_data",
         45,
         "x",
         "value"
        ]
       },
       {
        "data": "ftgmx8+44T5YL7CjwmrcPjRORwfd9tk+TSkHMy1I4T4+1HzwGiXiPnLODN3Xlt8+djrJbQzk4T4PeKZIYV7XPgta9/mCl9U+pnLZRsho4j6VxN7TMsLaPiE1wWJCDdk+",
        "encoding": "base64",
        "path": [
         "_data",
         46,
         "x",
         "value"
        ]
       },
       {
        "data": "BpoLNmvu5D6Fg1FMIFXnPjMJntyXp+Q+z9Ex1Mdl5T5dSoAg16fbPhfPkZHeot8+iPcrz1Yz5D41AY9ARM7YPjMFyRC9EOM+",
        "encoding": "base64",
        "path": [
         "_data",
         47,
         "x",
         "value"
        ]
       },
       {
        "data": "Vz9QoNdByD46mtXY4sTUPo7aRVEsbs4+7wljew+CwD5l9JfBBz7wPuOS8vp4v+c+1Jdiboo6zD4gomfuA9j1PgghNF+R4e8+3kQHVk6H6z6QtrEn0ynePgu8f+jHWPA+1XRcPlJW4D4=",
        "encoding": "base64",
        "path": [
         "_data",
         48,
         "x",
         "value"
        ]
       },
       {
        "data": "6t7GNZQ18j6zUzCMDm70PjGtlyBJmeQ+a7IVliw65z4IEpiMySf0Pg==",
        "encoding": "base64",
        "path": [
         "_data",
         49,
         "x",
         "value"
        ]
       },
       {
        "data": "Jm4eS0ecpz4KNRdp2eOyPnwcPKYT5dg+chLxmzwA3T5wLFr7lBPBPnxUhTeXT7g+",
        "encoding": "base64",
        "path": [
         "_data",
         50,
         "x",
         "value"
        ]
       },
       {
        "data": "hZ1sKg/5xz4+QKYeRz7APuLIbChjN8E+JHIZLF9gyT6Yvamty3m+Pr7hp5O90dA+rii449alwT5l30A6yYvJPs5jJJYknb0+L2/LKwlu0z5ANMqQUHfSPtjjhdTi1cU+WqkvQrj20T4=",
        "encoding": "base64",
        "path": [
         "_data",
         51,
         "x",
         "value"
        ]
       },
       {
        "data": "xMqUpt7l1z6/SmC6YdLRPh8MHhcul8w+YbVEAq0yyj5i53P1cB/GPp42uwzIGr4+hQuyn9HFzD74/4rjYRrHPv+4gxWbWcc+1XELsNz+yT6omSqpVBLMPtCD/Ey1JtU+ZZYs8f4V0z6LUa7NSubRPmk5r/jczdc+602j+FBSwz7P/hy1bh7FPs8QQIgEkro+0LbuiuYq4T52AB9VrJThPg==",
        "encoding": "base64",
        "path": [
         "_data",
         52,
         "x",
         "value"
        ]
       },
       {
        "data": "W/uxVdY48D48p1sbeNbqPop894UWywE/+lMRDPAZ9T75Tgd316jzPuU241/nn98+DK24Mhcn5T4=",
        "encoding": "base64",
        "path": [
         "_data",
         53,
         "x",
         "value"
        ]
       },
       {
        "data": "cHZhBMPPzj5XnFfVLNTPPtO7vez5VdM+apQRbwdO1j5NFJJTQ9fFPm5ZukT23s8+hzUwwyaZ0D6HFbs+/bXXPuKoYC4S9MQ+48jGrjoB1j6YcwvRzPLIPn+Patfu2dg+XBUkFtvm4T7P9KBGTS/OPg==",
        "encoding": "base64",
        "path": [
         "_data",
         54,
         "x",
         "value"
        ]
       },
       {
        "data": "2u7742ad3D4LW9aSV+nPPmhyDs6G1eA+BXYtqDGm0z5Fy65zw1rgPgHUt2BzZNk+2S63Lz284T6XiU2YoeTLPr9z8CxvgdE+TFYi4WDizj7m/+BnRlPTPhx15vZgGck+01apMIJ5yT6A389KA6HfPiL0SbWwONw+HM80vkol4T5KZ61CpR3kPi6UW98BQNI+MWmCATWJyT7m2PonQHHHPoACeKjvicA+PFPCz6Ea4j4a+uQd58zRPrqggu2gg9I+K8PoTWZ40D4CK5M4hJvRPgjrAjiQesg+",
        "encoding": "base64",
        "path": [
         "_data",
         55,
         "x",
         "value"
        ]
       },
       {
        "data": "wFI9DQ5lyD4WoEaDMJfCPq5SuozX/cA+kE+bUwBsvz5h2VJXGXyoPg==",
        "encoding": "base64",
        "path": [
         "_data",
         56,
         "x",
         "value"
        ]
       },
       {
        "data": "3sFqxZBx6j5DN3AHl5jkPoAmwVZfOOE+cRioG38H4j6q16XXQKXSPk8mq0XNXNA+yVLh04/izT7GoN9dSlLTPlK4WFt/Wc8+u+SZWpqqxT7jKDZZ74DUPo6xrgDyPNk+k7q3s8S91z4=",
        "encoding": "base64",
        "path": [
         "_data",
         57,
         "x",
         "value"
        ]
       },
       {
        "data": "bolc6jsttz7cLd90ZVu2PlUMAnc6NMk+qWMjM2m5wD50SjObbZ7SPmZphKRcwNc+",
        "encoding": "base64",
        "path": [
         "_data",
         58,
         "x",
         "value"
        ]
       },
       {
        "data": "69HbBCPP4j7O+ScH9hXVPvo0G679O9I+iWDg0LwL0j57X2q8Fs3TPoY016d1X9Y+Mb+xT5Y41z5eHg8VxSDVPs8QS7M5uuE++FyBiRNz2D5ZIKHzfmbSPuCDqjqjiNk+sEazl1iQ4T7I1ar8dX3IPhICtrsi1tI+LBXFfDvtzj5WGN2LqeDOPhXuoEyy9MY+",
        "encoding": "base64",
        "path": [
         "_data",
         59,
         "x",
         "value"
        ]
       },
       {
        "data": "X5ydr3+JAD/NJNpqduMBP4Gk0UGgn/k+cXI71ZvhAD9JMbl9+wMBP457CqlYpfA+akI3Ac4AAj8bv45RTtrzPs56FSJ4xfM+0CUtWeam8j5V7lt3QDX7PlNwxKb9IPk+AOVZnz54AD/94r68uEcCP3oXIckhSAU/aM0PF4aB+j4ZPOATKjsEP89oWc6+PgQ/ut/zQTDE/T5OxR1YSjAMPzK92tCWpQo/Ls01C23R+j4fxqc+iMD6PimFYOXHMvY+qKhs6F6gAT/x8lubL3b+PkAbKZazcwI/xnv4kaho+T6Y5RUxhyUBP9v01ZdfDAE/CAW1f0P++T66UpAp4aHpPgtBqeBo6vQ+mVN5gbHi6z6c5uodtePgPme/zObX5es+6WQ3cYHl7T6QfBkhcND1PutvLgDjDfQ+a7FC3sfq6D48K+34PZAAP41C8LuCM+4+IeMg0V4lAD+EZvqUwBX+PnrosAMIc+k+sIbcyicd7D4RbbCz6vIDP510uzzYKfo+IsjZF7Gk8D4eVa9C00rwPo1Rrunm6/A+cXr4Y3LD7T4NBMzXKfLuPopU6dO2SvA+AfEQvFRE/z6+BOtW9o/+Pp/uZpWqgPc+ChbsLkomAT/Zw90778UDP+X0Ptlfr/o+UVHODasA+D6es7/+5jYCPx7sOKpTs/Y+/AqXUE7F/z6uk1MrVpL6Pn2eXqf1A/w+7ZKDEteb9T5v310vml/3PvFFYIW2PAI/RMhGiLjB/T5qoSW9krr2PncKp/a6CwA/rsJ+8kbkBD+Ca8vhMxgAP0iaY1ppGQQ/mjVr1BXH9T4UzYWOedPwPoahQMgFJAI/5rnHkBkL8D7AIJnVwPEJP2hUez6MCf4+2/PUuyC+/D7eU0XWTlwEP0ggxbQrJAQ/CZ4xmTT2/T57Z9xhDR39PqCOK3fZjPI+ggQLZcXsAD9iM+R17OcIPyoRjI6BtwI/NztF3zkCET+J/bfcB9gSP4NPyNEg7fU+6ZLsUVF/Cz9+mjeUNPAKP8W3scxTEgQ/kIKwT9VoBD8tQprtCZj8PsgHtfBvvAY/addqFN40/D7YLSeWFOT/Pn63Vmzh+vg+gKa77outBz9c2JNEZHgBP9obssIpCAE/YMY1pgJm9z56TC+1/Fb0Pvtj8ETU2u4+Lrk1CLGdBD9m6e6npJH6Psd/nvCldgU/ZRzoyunC/z4cMNC9lXH+PsvuZWDxkgI/c4+gmw8PBj+A+YvNecYAP+0p+ArxfAc/6pjeJ2Bj/z7n2ehL8DURP+OZvbej/vU++F0ZeWql/j51tAT3vN0JP5nEWuVuyf8+Xye4j9htBT9RcUfUISYFPxyN6iFp7Pw+g7+SORj1/j4=",
        "encoding": "base64",
        "path": [
         "_data",
         60,
         "x",
         "value"
        ]
       },
       {
        "data": "jCPkpA1nwz6OQuJoHZm8PvXnjIu4aL0+xM5uJT2mxT4=",
        "encoding": "base64",
        "path": [
         "_data",
         61,
         "x",
         "value"
        ]
       },
       {
        "data": "FZuJMUuW/j7c4JTbmGvgPmLKqfINmvA+xnTyXgdr6D4c8jBrvRL6PnZWscR1Kvk+KHozamIaET8=",
        "encoding": "base64",
        "path": [
         "_data",
         62,
         "x",
         "value"
        ]
       },
       {
        "data": "4XH6uxUHyz6Xj+U3OOfnPifXNwpFCdQ+SwFHVfp+zj5yWW8hbkflPuiwNMku8ug+zBBv6tX2AT/Kq5WgO8XYPvYhYNuQXcs+rrwSGfsJ4D7KEGlK/t31Pg==",
        "encoding": "base64",
        "path": [
         "_data",
         63,
         "x",
         "value"
        ]
       },
       {
        "data": "sad8aHRaET/Z3+r2xhwSPweZy0L0SQQ/Vjp2GrGSDj8WMUnw7dz/PrRsknhk9gw//7kbmowi4T7ua39OTwjiPg==",
        "encoding": "base64",
        "path": [
         "_data",
         64,
         "x",
         "value"
        ]
       },
       {
        "data": "YyX6TOJs7z4OYBz0x1r1PuaVt6EzivU+FcOTSiAW+T6RZy3OTij7Pi0ZljGXPv0+",
        "encoding": "base64",
        "path": [
         "_data",
         65,
         "x",
         "value"
        ]
       },
       {
        "data": "bA+BLC/ppz5XFq7s9+afPqBVNeDQNpg+AZrzGh8/mT4EYARnKFShPpqQ8ijwL2g+",
        "encoding": "base64",
        "path": [
         "_data",
         66,
         "x",
         "value"
        ]
       },
       {
        "data": "R8Hw/oMMzj7K1mbOKlrCPiNXGs0TidU+TovYEUtX6j51uF4HryWzPvGqEKsg/Oc+/74yP4hw7T4=",
        "encoding": "base64",
        "path": [
         "_data",
         67,
         "x",
         "value"
        ]
       },
       {
        "data": "YaKRJ3Ydwz7Am7edl7y/Ph1ON7pm9tA+mddsJox42j4E18SZpmDiPpEGOO7bQNQ+JOmPrZ5f2T71FZgLAiXCPv198sUf98g+IwR71tj00D6zZyI08XzAPnyFsdoGOLw+OOPbATVGxj5UBtgkGajFPg==",
        "encoding": "base64",
        "path": [
         "_data",
         68,
         "x",
         "value"
        ]
       },
       {
        "data": "NoLNtHln6j7FPCSoSRAHPwlczdj75fo+bPUTUfoI1z4TOY0TuBPWPmtdyxT+c+k+sHf0+KOo7j7nD0Q07t7tPmryvWRY0ec+",
        "encoding": "base64",
        "path": [
         "_data",
         69,
         "x",
         "value"
        ]
       },
       {
        "data": "rR3CliFEqj4dh9rdSLaxPu0VbS2S37M+8x6KGVsLpz6oW7JvrQixPsFPRmZ8gbc+",
        "encoding": "base64",
        "path": [
         "_data",
         70,
         "x",
         "value"
        ]
       },
       {
        "data": "7eHuYU4j6j44M9DcA3jGPqM3FeUebd4+ovzfZ7h6yz41AvAfv2/3PhHNtsFu880+EZAzJb17oj5BdGJSWkidPg==",
        "encoding": "base64",
        "path": [
         "_data",
         71,
         "x",
         "value"
        ]
       },
       {
        "data": "yn3rct1WDT8+pT3HMNMOP79CMJr3oAo/FuVE6nGGCz9Z/RE8uKgFP4tBMWeuaQE/pO96OtGDBj+pFNxv1w4EPw8jPVNRmwo/",
        "encoding": "base64",
        "path": [
         "_data",
         72,
         "x",
         "value"
        ]
       },
       {
        "data": "+9Pw65obvj6vcUEBW3e0Ptj5UHsw6rs+eSQMUn38tj7S8QtEQXGxPtnKHZGZ6rs+tS316EgRuT4=",
        "encoding": "base64",
        "path": [
         "_data",
         73,
         "x",
         "value"
        ]
       },
       {
        "data": "3B0KJMPxyT5BMGLOyXXFPoSRTW8YR8Y+",
        "encoding": "base64",
        "path": [
         "_data",
         74,
         "x",
         "value"
        ]
       },
       {
        "data": "e/TZKFdHxz7SUhfuTSTKPufdYAXRoNk+N1ckZA00yD6heysD8MbQPuNcvFGfDcU+",
        "encoding": "base64",
        "path": [
         "_data",
         75,
         "x",
         "value"
        ]
       },
       {
        "data": "VmB/o/z/iD/Fif2ITNi1Py+66KKLLso/D1f5q2i1vz9DNNfB6i/rP5RHFRuuOrE/BEm3R2YAtD9dHLbUVbvjPwOzIusCcK0/KeXvj4lS7j8uv8Z0F7XePw==",
        "encoding": "base64",
        "path": [
         "_data",
         76,
         "x",
         "value"
        ]
       },
       {
        "data": "t9Os4PCF5D/7blOhdUnQP5B+9KMf/eg/MBTzT+Ed1z/95/+17aHBP20LKSti+Ok/Rt0wIZSe7D/sU9ubKY/fP3gizXcizec/PU4Nx8rj1D/Lm5TrfXfkP7hpskekPq8/iRlYFo1z6z8=",
        "encoding": "base64",
        "path": [
         "_data",
         77,
         "x",
         "value"
        ]
       },
       {
        "data": "MTOX3e3TjT/XWmuttdbmP+41F5KmVOw/n7bLyQ+VpD+e2Imd2IndP0S/2Tr0m+0/rbA5kGiF5T8BSf6qrhvTP6BuVQESc8E/ex2kok3S5D8=",
        "encoding": "base64",
        "path": [
         "_data",
         78,
         "x",
         "value"
        ]
       },
       {
        "data": "8ydGWoRe6T/2E6ENJiXoP/ic6UPvdeo/fjuPbEXW5z8mjRwB25nqPw==",
        "encoding": "base64",
        "path": [
         "_data",
         79,
         "x",
         "value"
        ]
       },
       {
        "data": "2eR7dWtO5z8VS/b0fEPoP1qduycrZOk/M2Q5Njd25D86WqrrkpHjP+N43WtN7OU/+xxSE4y35j/h27HoQEnlP6Lnd6TWKec/",
        "encoding": "base64",
        "path": [
         "_data",
         80,
         "x",
         "value"
        ]
       },
       {
        "data": "WjeYIp914T+9iyy3+dHgPw==",
        "encoding": "base64",
        "path": [
         "_data",
         81,
         "x",
         "value"
        ]
       },
       {
        "data": "AAAAAAAA5z9Cg1+zan7nP67PZYRIFOk/FohfHRIs5T/PozzX9QjiPyj6bSug9eo/o/iQvy524T8=",
        "encoding": "base64",
        "path": [
         "_data",
         82,
         "x",
         "value"
        ]
       },
       {
        "data": "8YRK71JI5T+o2RTnoIrpP5Vj0xHHreY/K9hL7q/b6D8Z0mKaTd3mP/hwnO3GKuc/aBTQ0lf26D9OT9PyLO7qP40pqqzn/es//FEY0Pys6D8Fvrj6QUftP6O3Vx8r8+w/oSJLdAuK7D/IyCbY7NnpP81gOki9P+w/phCWLCVy6z/Bp0D+WWXsPw==",
        "encoding": "base64",
        "path": [
         "_data",
         83,
         "x",
         "value"
        ]
       },
       {
        "data": "JOecKAf/3z8ExT3XELjjP6qh91VeCOA/jVuLV0sk5D//woLJxTHmP36QNItfX+Q/tzMqvj1i5z83ETSxBDniP7pLXHNadeQ/XOEgryVY3j81hBLrozfrP79HCknIbuM/",
        "encoding": "base64",
        "path": [
         "_data",
         84,
         "x",
         "value"
        ]
       },
       {
        "data": "0mWkjSFg6T8hvXxQd8/pP09qTiZJ1Oo/T3eHVcH/6D9RejPYozTpP+XOOTxrxOg/kxHuwQHL6T/7exLWcVvpP8EF8Xu0luk/",
        "encoding": "base64",
        "path": [
         "_data",
         85,
         "x",
         "value"
        ]
       },
       {
        "data": "swbxmVyL5z8ZLHQmniLkP5kbQPqHVuY/Z5Yzy5nl5D8XfzK4xZ/kP5Ii+yGDveU/rQt+/81C5D82de4+4IjkP1b4iwGtmuQ/298DOEiW5D8arvOW4/fmP8wHJ7VopOU/XDjX/VFa4D8=",
        "encoding": "base64",
        "path": [
         "_data",
         86,
         "x",
         "value"
        ]
       },
       {
        "data": "CAB6ZnAK4T81yzVHlbbcP/hM/hBWo94/P5gJzZ3e5T/ex6KSgHbgPw==",
        "encoding": "base64",
        "path": [
         "_data",
         87,
         "x",
         "value"
        ]
       },
       {
        "data": "pqk+8k1G3D+WgFYCWgnoP6PSPlwOJe0/CqSS87KI7D9dkxk10vPlP8Bqccobw9s/",
        "encoding": "base64",
        "path": [
         "_data",
         88,
         "x",
         "value"
        ]
       },
       {
        "data": "ZX74S4Wu6T9izoc5H+bsP4mG6ebv+dk/uXkdovvn6z/o96fioDXjPxYfv09DXe0/ckjQlpFi6z/l/7HKbw7XP7MBq5n8qew/yWb275DY6T8avB5g03vkP8SeKYhzFOo/C/wlYMuS6z8=",
        "encoding": "base64",
        "path": [
         "_data",
         89,
         "x",
         "value"
        ]
       },
       {
        "data": "LPVKvVKv5D8dt2DRCNLpP6HZDZrdoOk/jdD1GSv54j9iJrB6TpHoP74DJymtxNA/q6qqqqoq6z/Gb5d6Mn7rP1jyissZ3eQ/sMM4cKW+6T8tiWJK23XmP9ztdrvdbuc/S9SuRO1K7D9YbA0WW4PlP83n+uNlMOo/gFZPMWeKuD/FoYmhODThP8Co8C8q/Os/iYBlEKg66T9Eq6e5XyHpPw==",
        "encoding": "base64",
        "path": [
         "_data",
         90,
         "x",
         "value"
        ]
       },
       {
        "data": "DbRBP++t6T+1LjwhV+viP6CSjYXwnek/GkinPDMB5z8lcAGN2XvhPxCuSKveB+c/tSIPrlEr6j8=",
        "encoding": "base64",
        "path": [
         "_data",
         91,
         "x",
         "value"
        ]
       },
       {
        "data": "5Q8OZdnd7D9TYeL9yGnuP1f1aICZGOo/QBkiJpVa6D9IgzRIgzTtP8cu6IwMOO0/7L5KDblw6T8FXkp5Y0/nPw/JPCTzkOw/2YhsRDYi6z9Amwa0aUDrP8ld70Tfbuo/kwVwdeyS6z98t/GE7zbuPw==",
        "encoding": "base64",
        "path": [
         "_data",
         92,
         "x",
         "value"
        ]
       },
       {
        "data": "O7vQU6IA7T8p1yjXKNfsP/2wYkMPPus/rYHiWYAj6T/pGPm6TQntPyCMtGMFwuw/Fs4z66qM7D+kqzGWIYroPw2+ID6xeOs/Cm0JfDf36j9yvo4vMxXsPyxIRiTAteo/+g7+BKoB7j/o3Heh2/DqP5RpNReUJes/BUbko6/j6j+zh4G21jjtP0NQg5OdSuA/JSJkTEf+5z/pgTf/N1zuP5mhUSHUiu4/D497OYQB6z8+qWqbcfPrP8oMBP1tvOw/d3MkbYb+6D+cNRvnPGbnP5b3nv8U2+Y/",
        "encoding": "base64",
        "path": [
         "_data",
         93,
         "x",
         "value"
        ]
       },
       {
        "data": "/Ro2wkB54j8Y3gvvhffqP5pTHqkNHuI/AAAAAAAA7D/Dqb0bZHTePw==",
        "encoding": "base64",
        "path": [
         "_data",
         94,
         "x",
         "value"
        ]
       },
       {
        "data": "wWLIgEpf6T8UPm5V3tXmP+eGVu0Zjeo/E9xopJxE7D+WByTrXHnqPzP+D7Iz1es/ZSbLlsc/6z/1ZJE1YCXsPxb8BsqJ7uY/2LX+iVKA7T/7MI2Uqk/tP20XwmwXwuw/w501YAsZ7D8=",
        "encoding": "base64",
        "path": [
         "_data",
         95,
         "x",
         "value"
        ]
       },
       {
        "data": "yV0kbJJi3j+cZ9ZVGTnlP2IsmMBvEe4/9ZuvEaUE5j+YrnOskQjoP9R3Nuo7G+w/",
        "encoding": "base64",
        "path": [
         "_data",
         96,
         "x",
         "value"
        ]
       },
       {
        "data": "dU1uaA6N6j8ObvYLsSLlP1JLEgGHcu4/n56lVrGE6T9yc3iM3BzuP0JlMOYvous/llKhRhIt6D+uhy6vqbblP3/wOg/YU+o/KCxtfYHC4j8MPLd3ZGbpPwJLQcqDkO0/FW71SIVb7T8qL5yJbGDrP6ZyTAOqhu0/e2EnUw4Z6j/eYUkZTc7pPwAAAAAAwOc/",
        "encoding": "base64",
        "path": [
         "_data",
         97,
         "x",
         "value"
        ]
       },
       {
        "data": "UshEian96D9zrTpGtb/rP9L2IFfy6Oo/b2IohDLz5j9zCzdkDsvnP3y8mmg0n+o/t/A5c2Fv5D/xToghl/7oPw9lbTIYW+g/5EOQclPR4j95dPdgpofmPwCXTGdzIuc/RXg1AoNI6D8Vs2cKVRnpPzGtOlQmO+o/9GzTCDnP5j/m7o9hX2PkP9U3171ENOU/4DF+3vUW3D/4larU78/oP8c5BdxWNOc/71wh6afN5j+6dO/NYZHhP54IPmsgGuY/TOSsBhQ85D8dFMaE1xnnP9jxalLCM+Y/x+FOdO9u5z9W0KXFFxfqPx9Vzjzgl+s/pBRp6Ic/6T9Wc5/y+MDmPzXtX3Yu6OY/55DyFxgu5j9qW7axEJjnPwajDXLo3eo/y1pe6/IS0T8PDySbHsLqP3HlB4iE3+E/vR7NJU026D+N6LRYoRrlPx+sWAHaINQ/EZ+j1t5t5T+Zb5HmeTznP1dv4S9s7ds/R3UKZZ9h6z/LvZkzknPnP+StMp9Q3eQ/qSP5c3zS5D/O6qcsAZnmP59QlcTKxuQ/QDfFpuYy5T+oeG0sDovqPy4nul1Zneo/4XuxO4yj5D9EW7gs/kPrP9nQLWp/MuY/YzIW4x3f6D98xwHmPKnrP51zzjnnnOk/U0e5PJUo5z9Xu5gad2zmP17LDpSSUOg/S3zNbmIZ6D9JTqeXSP7lP0h4Asxs5+Y/2njLyAJ85D9FflHmXXTjP44L1kRqu+Y/61t2vvVT5z86y0D6iprnPzArdfx1kus/Yyh5a0LH5T+r64fAlsboP6PAZZg/v+c/220eTTEp5z/qgjfY8RboP7RMvcKGq+s/CYhtFnEp6j8h9NSdRC/mPysgjRuBieY/0+pZtmB86T9oXZtP0KPpP/gqsA4Lyeg/vuN/OuOQ6T+UAiI+cnjrP2hphpZmaOk/lxMH3HbO6z+f4V0KQ+/mP+Gql9yiK+Y/iqCZOIMN6T+gbpn2V6TpPzR4GDmF4eg/TT8+ACK96T8FKkmRU6joP1uA27lPbuo/p7DvXPv45z81vbaadi/rPxkOLXVURew/7xyAo/LT6T+9o8nxULznP/eQ/i7fwek/83DjBO9V5j8Gn3ofl/HqP/LJJ5988uU/cCYnNnFJ5j8UJoJfqSXiPx3Be0DtcuU/rDujDxUx5z/KsyV8F3boP8rUGhiKfug/kau6o+Ks6z/jPF2mtSvlP9NJAdK2Z+k/FozSi5A05z8B4Qhtqd/mP2ZiRMWMrOo/n9XmXsHf2D+5kRu5kRvpP2+jERS2lOk/mb/XRqxL5z8YR+kXxlHqPyWshUdZnec/6wob6u6l5z+9SESFDYbqP0XSgqKQJOo/Z2NCn5/46D8=",
        "encoding": "base64",
        "path": [
         "_data",
         98,
         "x",
         "value"
        ]
       },
       {
        "data": "bzBFPusG0z/7R6SNbO3PP+WjRHRcaNI/BxwpGuKP6z8=",
        "encoding": "base64",
        "path": [
         "_data",
         99,
         "x",
         "value"
        ]
       },
       {
        "data": "iXCRhwow6z8Zboqcf+vkP53Q1cpT3eM/zjnnnHPO6T88yjRt7mPhP+gZd27xIew/489WuFUo5z8=",
        "encoding": "base64",
        "path": [
         "_data",
         100,
         "x",
         "value"
        ]
       },
       {
        "data": "Z2rog/p33z983ayAGUy/PwpeTsHLKeg/f4sPUr2m2j9P057HbZXUPxuAiNUBPuU/bXfSwd1j6D9H0Kc7bjXmPyBI95hV3M4/BKzF3PSY7j8l/b6e38LgPw==",
        "encoding": "base64",
        "path": [
         "_data",
         101,
         "x",
         "value"
        ]
       },
       {
        "data": "8YQSswCo5z88FXNMQXbnPwHY/L9dVes/FYxY0UGI6D8mmmuxyCXuP6QhOVujGew/Y2WDmDV+4j/670Tp0lbpPw==",
        "encoding": "base64",
        "path": [
         "_data",
         102,
         "x",
         "value"
        ]
       },
       {
        "data": "q9VqtVqt6T/enO1f3PnqPwwielGfLOo/91uh09vt6z8qpUkm2HfpPx64UyKjvOU/",
        "encoding": "base64",
        "path": [
         "_data",
         103,
         "x",
         "value"
        ]
       },
       {
        "data": "MzMzMzMz4z8p8TNK/IzSP8/zPM/zPOc/xB1xR9wR5z86i+ksprPoPy+66KKLLso/",
        "encoding": "base64",
        "path": [
         "_data",
         104,
         "x",
         "value"
        ]
       },
       {
        "data": "6fTSFOwH1z/O7Sb0y7bgP2d8f6RgMuc/guGF4vja5D9JwBNt6OCzP0G96gGZ+uo/2Y/92I/96D8=",
        "encoding": "base64",
        "path": [
         "_data",
         105,
         "x",
         "value"
        ]
       },
       {
        "data": "oCkEmkKg3z+bk2YJi8vhPwywYoOaveE/zS1bIfMC4j/RoHhHW83lP3t29c7+/tY/Tmc4QJRb6j/00CAcGPDWP5r415/3HeM/tFT6zDTb1D+TqrPrzWXiPw3P8AzP8Nw/7nxMvZS17T81O0+VCqXhPw==",
        "encoding": "base64",
        "path": [
         "_data",
         106,
         "x",
         "value"
        ]
       },
       {
        "data": "S/q80kuQ6D/rDfAsxyvnP/f9DXQmbug/CSjHzVyh4D+6tqsDOJnfP91ywTKYk9Q/9gVNzt7B6j/9N/aKvHfrPwWPx9C26+U/",
        "encoding": "base64",
        "path": [
         "_data",
         107,
         "x",
         "value"
        ]
       },
       {
        "data": "XrcK4XWr6D85Qkbdhk3QPwD6dNUaqsE/nV97yGXFwD+nyUHmpUTYPzSFQFMINOU/",
        "encoding": "base64",
        "path": [
         "_data",
         108,
         "x",
         "value"
        ]
       },
       {
        "data": "8WUFBnP25T85S3L79enlP4buUffj1eU/2HyihSjX5D+6zeEBW4DrP30WsEnjfOY/ZQjW0eZ96j/xHcR3EN/hPw==",
        "encoding": "base64",
        "path": [
         "_data",
         109,
         "x",
         "value"
        ]
       },
       {
        "data": "llU5XfFJ6j+nNfV2RNvoP1sAv8aC9Oc/e7sith9F6j8H/+TtGH7rP+oCZ+e5Oeo/9ZoOOJzu6z98pymwQ37mP73g6jZxpuU/",
        "encoding": "base64",
        "path": [
         "_data",
         110,
         "x",
         "value"
        ]
       },
       {
        "data": "69pwdF4v2j8aj/c/78LCP7/RqmV+1NA/4abPjCiS0D+Kzk1sRIzPP7LE7yRFscc/3dkSYKu3tz8=",
        "encoding": "base64",
        "path": [
         "_data",
         111,
         "x",
         "value"
        ]
       },
       {
        "data": "/eyFGVEDzj+YBav+RD3aP+bd6nuGSNU/",
        "encoding": "base64",
        "path": [
         "_data",
         112,
         "x",
         "value"
        ]
       },
       {
        "data": "6KPZKwFwxj98qRh45wnXPyNGjBgxYuA/GEHU1ZZu6D+9P9cqG47oP1TYcun9IN0/",
        "encoding": "base64",
        "path": [
         "_data",
         113,
         "x",
         "value"
        ]
       },
       {
        "data": "whT5rBtMI0D8VZyQkmclQDaU11BeQylAAAAAAADIKkBkNExARsMwQOmiiy666ClArLmaq7maIUBmZmZmZiYlQJ91gynyWSxAbtu2bds2MUBzdgu/GhMtQA==",
        "encoding": "base64",
        "path": [
         "_data",
         114,
         "x",
         "value"
        ]
       },
       {
        "data": "c08jLPc0KkDyiyW/WPIlQAAAAAAAYCFA3/SmN73pI0DFV3zFV3wlQOqgDuqgDixA1AjLPY2wKUAlSZIkSZIpQHd3d3d39yJAoryG8hrKKEAAAAAAABArQDMzMzMzEydAPDw8PDw8JEA=",
        "encoding": "base64",
        "path": [
         "_data",
         115,
         "x",
         "value"
        ]
       },
       {
        "data": "lNdQXkN5JEC3bdu2bdsgQIiHh4eHhyNAHlsRNJzUJUDTm970pjctQAAAAAAAICRAaoTlnkZYKkCSJEmSJEkmQFo3mCKfdSlAqBGWexphJ0A=",
        "encoding": "base64",
        "path": [
         "_data",
         116,
         "x",
         "value"
        ]
       },
       {
        "data": "4csNMSA9KEAjYGO0naYnQNETh8JXHyVAqF7NPnO2I0BpkAZpkI4kQA==",
        "encoding": "base64",
        "path": [
         "_data",
         117,
         "x",
         "value"
        ]
       },
       {
        "data": "Q4n7+5UgLkCelBzeoLIuQHTlAck6VzBAECVijSp6NUBsDiRaYYM2QChIPZZ4QjZAh/IaymsoK0BWhm9EgUksQJFzn11AbCpA",
        "encoding": "base64",
        "path": [
         "_data",
         118,
         "x",
         "value"
        ]
       },
       {
        "data": "AAAAAAAAMUBVVVVVVVUuQA==",
        "encoding": "base64",
        "path": [
         "_data",
         119,
         "x",
         "value"
        ]
       },
       {
        "data": "AAAAAAAAMUCgPWtAGm0zQIeQVNp0yDBAR5UEf1KuM0Cedtpppx00QCug15rjPzBAxWaOWuGCNEA=",
        "encoding": "base64",
        "path": [
         "_data",
         120,
         "x",
         "value"
        ]
       },
       {
        "data": "O1YgjLRjHUBfypjdScMfQAWuHr/UjR5AlAb/S9gYHkCodd+TsVwgQLtbu4ij4CBAj721YZq7IECFoOx9TQgiQONQM7V1biFAXHUTYDogI0DvMqZ8HZYiQMLNfiFWlCRAUjOSl0rvIUAkA+qZynUlQIG6Ec980CBA7+vMw2ZLIkAKe8KesCckQA==",
        "encoding": "base64",
        "path": [
         "_data",
         121,
         "x",
         "value"
        ]
       },
       {
        "data": "5ogUQ/3lMEBzEHDrs5kvQMYYY4wxxipA3BF3xB3xLUC0tYvP6wwyQExnMZ3F9DRA079jH93tM0CNsNzTCGszQHOHzB0ydzdAKiEg56cSNUA1u15kbRU1QD7MAvJFojdA",
        "encoding": "base64",
        "path": [
         "_data",
         122,
         "x",
         "value"
        ]
       },
       {
        "data": "EkIxsNjVMEAWwhLryNsvQHlJQDgRby5AQ4iFZx3uMEABh+Zz/bEhQNot/GpMpCRAa3IOxdHvJED82UQ/hm0mQAMbDo2CGSNA",
        "encoding": "base64",
        "path": [
         "_data",
         123,
         "x",
         "value"
        ]
       },
       {
        "data": "O+200047KUCE9OIQhUErQOhDfFHIYSpAX4b8Xob8KECIgbPw/FgqQMFnaxY/1SxA8Af8AX/AKECvJYe4yhQjQDwuezLVOSJALnonYfr5JEBs46fFNn4jQGfQGWO9ICJALeNBIG29JkA=",
        "encoding": "base64",
        "path": [
         "_data",
         124,
         "x",
         "value"
        ]
       },
       {
        "data": "Jol0VqVuLkATipGLw5YtQKU8gv4AqjBAwVNm2RU8MkDkOI7jOCoxQA==",
        "encoding": "base64",
        "path": [
         "_data",
         125,
         "x",
         "value"
        ]
       },
       {
        "data": "nN70pje9KUAkuI/gPsIyQE4GkQeuojNAysnJyclJMUBczFaJi9krQDEMwzAMwy5A",
        "encoding": "base64",
        "path": [
         "_data",
         126,
         "x",
         "value"
        ]
       },
       {
        "data": "Z1yLBDUVJEDRRRdddJEoQJIkSZIkSSRAsgHZgGxAIEBPIyz3NMIgQOgEylF8qCBAr0TtStSuHkASd8QdcUckQB3QjXn6aCNAXe9J8AyqIkCYDZp82aAjQEevjO139CRAkcDbDwm8I0A=",
        "encoding": "base64",
        "path": [
         "_data",
         127,
         "x",
         "value"
        ]
       },
       {
        "data": "7WcWeVJLGkDBDbK540oaQAAAAAAAABxAi2qYHRxBHECQBmmQBmkdQPmKr/iKrxxAeqEXeqEXHkB2Yid2YiccQBAIBAKBQBhAKmvKmrKmGUBI4XoUrkcbQKiDOqiDOh1A9WI+9WI+HUALyBeJUmMfQGQCvVPXciJAgkQrbA4kIkDP8zzP8zwcQK5H4XoUriJAhOWeRljuGUCbvtG5VxIZQA==",
        "encoding": "base64",
        "path": [
         "_data",
         128,
         "x",
         "value"
        ]
       },
       {
        "data": "U3ZsI4s/IUB0586dO3ciQN6nuGQI9iFA+e40r75II0DOjwMIkkgjQPlLlr9k+SFA857QYYAoI0A=",
        "encoding": "base64",
        "path": [
         "_data",
         129,
         "x",
         "value"
        ]
       },
       {
        "data": "67Ve67VeI0BY7mmE5Z4kQE3TNE3TNCRAJLiP4D6CIUCVHaYutz8kQLVm+0T1oCNAdDJ9lTA2IUBpmICMhgkkQENi3s6QmB9AiYiIiIiIKEAcx3Ecx3EoQE4TC5UBgyJAm2yyySYbJUCKfNYNpsgnQA==",
        "encoding": "base64",
        "path": [
         "_data",
         130,
         "x",
         "value"
        ]
       },
       {
        "data": "Rqvkzc6lLECmyGfdYAopQLZY5BLNtSxAZ8SbEW9GK0CRy4qBEt4oQHD0BEdPcCpAIXGyol+EK0CVXn9xMogoQJrmDKBpzipAC7ZgC7ZgJkDZiZ3YiV0uQAUvp+DlFCdAUPqkT/qkKUDIe7zHe7wwQCFPCfKUIC1AJyXA3ZKbMEAlRPEXOcMwQAAAAAAAgC9ATGgvob2EMEDSegHbnK4sQIaD6PFdOChAfzkixVD/L0BDFrKQhSwwQFYMlPBGUzFA+NWYSA9ULEDp90mARjItQHhMDewdUy9A",
        "encoding": "base64",
        "path": [
         "_data",
         131,
         "x",
         "value"
        ]
       },
       {
        "data": "Fc81q8MoLUBf8RVf8RUtQLW0tLS0NC9ASLTC5kCiKUDEw8PDw8MnQA==",
        "encoding": "base64",
        "path": [
         "_data",
         132,
         "x",
         "value"
        ]
       },
       {
        "data": "EDj3FjreNEA+gIdoqGQsQGlYQdeIhjJAq6qqqqrqMUC4MyTm7QwyQHkN5TWUVzFAnYnY8lBwOEDTkT0DUWk3QJjaX2p/qS9AREREREREMECChpO6L48pQKc3velN7zFA1/ywSBl4L0A=",
        "encoding": "base64",
        "path": [
         "_data",
         133,
         "x",
         "value"
        ]
       },
       {
        "data": "AAAAAADQJ0Abymsor6EnQKuqqqqqSilAS36x5BdLKkDf9KY3vWknQGgvob2EdihA",
        "encoding": "base64",
        "path": [
         "_data",
         134,
         "x",
         "value"
        ]
       },
       {
        "data": "K9sY/a8SL0CL2AzeIjYwQO6IO+KOuC9AdftXt391MUAON9xwww0vQGA7ZahVGCtAguzCYiSULEArz8THfbcxQNEKmwOJFjNA0dxO5dGBL0Csq6urq6svQFNjD7OAfC9AmS9NHMYqMUBUOrJnICoxQNmJndiJHS1ArHXhCblaLUBemyjZtYkzQG7btm3b9jBA",
        "encoding": "base64",
        "path": [
         "_data",
         135,
         "x",
         "value"
        ]
       },
       {
        "data": "t122cCcqIUDNNTWGLaMkQN5Y8CxFtSNAI2T7OCjgIEC315JDXGUiQJhYXoz8fSZAGi0D+ajyIEB+/Pjx4wcgQOtVqF6F6h1Ax3Ecx3EcHUAYxbLk4YgcQN+Fg+jxXRxA+bTGieseIkDZk2spGI4kQC+OTSp0nCJAofZLofZLI0B/nAf9r0QgQGT0DedZaB1AY916nSKFHkCXCE8Kkj8sQGejvrNRXyZAiEeujCMMIkCmCYoNrUgZQJOeEcky6RtA3uHWWQXhHUBOrq3n1UocQPCjyLCm0yJA8xrKayjvGkBPi5L6caYgQEYZ3dpXMSNATDo1D3LXHUAbXsnAorkZQOzHfuzHvhpAYoYzPsxwGkBbPTsEbiwXQIi3q+4dEiFA+SYjjtp+GkCxPCI01X4iQNjvXybcJBlAJkrP6dCuHUDPhdFzYfQiQJjQXkJ7CSFANlsBFGfwI0CFfL1BIV8hQPwFd81LjiBAv9k69JutIUAxELA6vpQlQEbkJTvAcCNAW7VBBZrtKEBnCbv5LQQbQBdswRZswRpAjigw6dQ8HEAZM1o5NsggQPcS2ktoryJA14QD1CWnHkBrpQuuU1QjQIHY/dVM2iRAFh6MX79XIUA24sDm9fsqQCAu1JwE4iFAk9a90AICLECky9Md7ZcoQAULrX8RTyFAMJb8YsnvIkA2WYV8sXMoQPrfNX7+dyFA+3n/WOYIKUBI/+09DDIpQFjt/Y2BlSFA9hcng8gDH0Ctt7l3fvEeQCLB17KrFSVA9xX1ev7mIEAJ2q+PvXMnQEgkV8XelSNAsvBmBTYcHkDYcTpAxbgdQAvJB0EuVSlAZjfUCTLQHkBM8W2o0XAuQGbjm6G1+yJA2c2O3ezYIUDhCpE48vIuQAq6qxQTdCdAwngcxLtRJUC29pVmY7siQL0ytt/RKx9AMIDXfLC1I0C4CJSboE4bQIZ7FcySch5Ad+F1dDiRJkDCFPmsG0wpQG82wFZCuhtAbznUhi3aJEDs4sTbK0QhQEommWSSSSVAPdnvo1nlIEBmZmZmZuoiQJn3Fp/EGSVAmYhMRCYiH0A2lx1dJ0EjQKVZ2H2+ayFAuuiiiy5qIkDcfcfFyzYoQEwM0eH+bCRAM+CTw2VAJ0DAbzwWGdQYQPWmN73pTRtA2QXo+0NpIECBTIoXyAQgQMOpuFGN8R9AzMs4GE5hJUCdnfoAugwcQEGRkgZEMyBAuDoNCVenGUAcNAYT9kcgQAskZzx4JCBA7PV9WSHfGkDD6uv6vaUgQJK7ZJ44/R9A7mmE5Z72IEAEo2Th59ooQDWic3hdwR5Aw0ndl8dWHEDbK29JqCEgQAcSrbA5UCBAsXHWkbxbHkA=",
        "encoding": "base64",
        "path": [
         "_data",
         136,
         "x",
         "value"
        ]
       },
       {
        "data": "fBphuacRLEBKKaWUUkolQJIkSZIkCS5ApU/6pE/6JEA=",
        "encoding": "base64",
        "path": [
         "_data",
         137,
         "x",
         "value"
        ]
       },
       {
        "data": "7nw/NV66H0CTaBYXTrUdQNFFF1100R9AJUmSJEmSHEB91fWeBM8cQI9Qfaat8RtALOU3thm1J0A=",
        "encoding": "base64",
        "path": [
         "_data",
         138,
         "x",
         "value"
        ]
       },
       {
        "data": "L6fg5RS8IkBDQ0NDQ0MfQAAAAAAAgCJAiB7fhYPoJ0Ah0noB25wgQOXk5OTk5CJAglyqNANXKkDyLCP6gOokQBc3YX5Xix9Ags8YjhYkKkCp72zUdzYvQA==",
        "encoding": "base64",
        "path": [
         "_data",
         139,
         "x",
         "value"
        ]
       },
       {
        "data": "98RFlgiwJkDepHXq8ewlQNJoNBqNRidAVdDL8KqgL0AAAAAAAFoyQE8HVMbodCpAbCivobyGH0DzDjhSNMQfQA==",
        "encoding": "base64",
        "path": [
         "_data",
         140,
         "x",
         "value"
        ]
       },
       {
        "data": "+xeIV0qMLkC+ukdamTwxQBPmd7W4CTBAT8Zvl3oyM0DvmUTvmUQrQCdidaUdSilA",
        "encoding": "base64",
        "path": [
         "_data",
         141,
         "x",
         "value"
        ]
       },
       {
        "data": "AAAAAAAAHEAAAAAAAAAkQGZmZmZmZhhA5DiO4ziOG0AAAAAAAAAgQAAAAAAAADtA",
        "encoding": "base64",
        "path": [
         "_data",
         142,
         "x",
         "value"
        ]
       },
       {
        "data": "25WoXYnaE0DJyMjIyMgYQNevFKj1Kx1AGQmljXdUF0CykIUsZCEbQC4OFpR0fB5AXHH4d2/WG0A=",
        "encoding": "base64",
        "path": [
         "_data",
         143,
         "x",
         "value"
        ]
       },
       {
        "data": "gnW0eZ/iL0D6XH+8DEYrQDM6B83F+CpAlRF7XY7kJ0Be4DzJGfUkQPVJn/RJ3yVAHsYE2K6nKUC3bdu2bVstQKuqqqqqSi1AJTIN283yLkBVVVVVVRUqQNylnozfLidAbPrdFqWIL0CoUKFChQorQA==",
        "encoding": "base64",
        "path": [
         "_data",
         144,
         "x",
         "value"
        ]
       },
       {
        "data": "zdVczdXcIUBq8E16nPEfQFqvq+1JzSJAkWwRzVmDJECbSkPOfXYkQOQWTUe1ix1AfPJThZfhIkAPZMRv7kAgQOAu9WT89iBA",
        "encoding": "base64",
        "path": [
         "_data",
         145,
         "x",
         "value"
        ]
       },
       {
        "data": "Ccs9jbDcNkAAAAAAAAAzQPYoXI/C9TRAVVVVVVVVM0AndmInduI0QH1orA+N9SNA",
        "encoding": "base64",
        "path": [
         "_data",
         146,
         "x",
         "value"
        ]
       },
       {
        "data": "SaVNh5BUJEAAAAAAAAAmQITEt4PEtyhAz1sM6bzFLEBYcKls7zopQMWo4W9TjCpAxMPDw8PDF0AndmIndmItQA==",
        "encoding": "base64",
        "path": [
         "_data",
         147,
         "x",
         "value"
        ]
       },
       {
        "data": "akEoQHZcKECK3M9pTY4pQDifmShmQSxAzczMzMzMMEDe841pE9AtQM4555xzjjBAwmqJLrBZKUAj9e2TjRYjQPPF8E9cWyNA",
        "encoding": "base64",
        "path": [
         "_data",
         148,
         "x",
         "value"
        ]
       },
       {
        "data": "tnp2CNxYIkBddNFFF90pQI3fLvVk/CxACB988MEHMkB+DqkJxlsoQGDTfrIENitAZmZmZmYmJ0A=",
        "encoding": "base64",
        "path": [
         "_data",
         149,
         "x",
         "value"
        ]
       },
       {
        "data": "ZYtozhoUH0BQUyHa8PkbQBiGYRiG4SBA",
        "encoding": "base64",
        "path": [
         "_data",
         150,
         "x",
         "value"
        ]
       },
       {
        "data": "WfKLJb9YIEAhhBBCCCEiQOJitkpczB5A9xLaS2ivJEB12EiHjXQYQJgin3WDKR5A",
        "encoding": "base64",
        "path": [
         "_data",
         151,
         "x",
         "value"
        ]
       },
       {
        "data": "Zp/1+DqCd0DLijOcALp5QP9QngqglYFAI4BQvFqPeUAIRWqVLFuAQG6ySVGQCoBAcFqgJ7CRdED+MnMfTbVwQB/rBt7N3X1AUlU1JU9+hUAofrWjuKt9QA==",
        "encoding": "base64",
        "path": [
         "_data",
         152,
         "x",
         "value"
        ]
       },
       {
        "data": "ep9GeGE9hUBhLNlvuyuBQOb+X7jzpnRAx03vOrIYfUBXOqiu98eAQEyveI0GKoJAqbDcRKTcf0Aiz3PUEH98QB7NzPxTmXRAjVAeu4pveUBiAOgBqCSBQAZm1voKf4BAM+Jh9g8ggkA=",
        "encoding": "base64",
        "path": [
         "_data",
         153,
         "x",
         "value"
        ]
       },
       {
        "data": "QCivcVdxekCPwjBI8lB+QNalfXFywn1A1Ty2PAoogUDSvEmbopB5QPT/dW1Y0XhA1P9//p5JhkDnSEICWsd5QK1Zt/phXoNAtxphqYJggUA=",
        "encoding": "base64",
        "path": [
         "_data",
         154,
         "x",
         "value"
        ]
       },
       {
        "data": "kr+VYYqRgkB0VkQ10aCCQAxfIQzzDIBAGO2h+mp+fkAnJ9Yh7GR6QA==",
        "encoding": "base64",
        "path": [
         "_data",
         155,
         "x",
         "value"
        ]
       },
       {
        "data": "gxXgw0FRh0CdSPrFmFOHQH6XD/wMYIZALCCsIv//j0AtJFIy5N6PQPfyrjZlXI1AJR194rgri0Bt34g8LQyIQI5a3nso14dA",
        "encoding": "base64",
        "path": [
         "_data",
         156,
         "x",
         "value"
        ]
       },
       {
        "data": "V0N5Wgi5iUCkVUURGjiMQA==",
        "encoding": "base64",
        "path": [
         "_data",
         157,
         "x",
         "value"
        ]
       },
       {
        "data": "1vs9iAY5hUCYkjO5JCKHQIBo2AhYEoVAcSykL9a/iUC8VFNJJWWJQASGUmhzPIJAA2IBLqySi0A=",
        "encoding": "base64",
        "path": [
         "_data",
         158,
         "x",
         "value"
        ]
       },
       {
        "data": "LgDAjBDQckCR31+r0vFyQDIbkv6rE21AWdbDgtWHbUDOLrCYJMV9QHsohjdSQX5AQp5l2HwUdUB4Ih8gu0l1QB8YpBhsu25AOZl0ajoRcUBSvg6DCQpuQNawIpHThXJAPYM0uORccUDyV5jWpqR0QJbZRUYSHGlAyEfCzv+fc0AjY84skQBvQA==",
        "encoding": "base64",
        "path": [
         "_data",
         159,
         "x",
         "value"
        ]
       },
       {
        "data": "mLt1fpp9i0DY/FqHF3aJQGvFs0Xau4hAdUuK0/5PikBCQkbDpD+KQJbF9BqS3olArF95nITJjkB0jVDSnUWIQKT56NbWdYtAiyJZsHqzjUDUineC+xmLQDHT36rSbY1A",
        "encoding": "base64",
        "path": [
         "_data",
         160,
         "x",
         "value"
        ]
       },
       {
        "data": "EsacDytdhUCcPYiq6wyGQOcObRAHc4NAtI8s+jsshkBCsS2v88N9QNivljEUMoFAUHIOS2XygUBTG3P9TIeCQMbUT5HVcX5A",
        "encoding": "base64",
        "path": [
         "_data",
         161,
         "x",
         "value"
        ]
       },
       {
        "data": "MmKJmzNkf0DUQOAsEB6CQIz6R76RvoFALzm7OlXefkBs4vamPTeEQGM7+uqER4NA63hDPoVgfECeKeC+0xKCQOCDB3ZqyYBAbBEl0c1khEDUPHuYKSSAQCanE2+1gH5Ahl25+senhUA=",
        "encoding": "base64",
        "path": [
         "_data",
         162,
         "x",
         "value"
        ]
       },
       {
        "data": "20eq8Nv/hEDjePIiC+yHQLSD/QBZW4ZAcmFL4zykh0DFqoIVb6KFQA==",
        "encoding": "base64",
        "path": [
         "_data",
         163,
         "x",
         "value"
        ]
       },
       {
        "data": "etPbozaMeUCt6SxV0g1/QGIj7LGgV4FAfnISnxboeUDyCqZUh+V5QKDgwh4pQXxA",
        "encoding": "base64",
        "path": [
         "_data",
         164,
         "x",
         "value"
        ]
       },
       {
        "data": "JqXbDdr/eEDwon/oUiKAQJsU/FZLJXpA8mjOAvzebkD88YcR0E1wQKrUXEJ2eWtAWNSuyuYOcEBWcZdtMaZ1QCpg5M1NMXRA7Av/uVSSckBZWGk/mLt0QNWFmu2kCHZAooX1849cdkA=",
        "encoding": "base64",
        "path": [
         "_data",
         165,
         "x",
         "value"
        ]
       },
       {
        "data": "bfBIrzdkbUAg0JAcYc9qQLdXVApaEW5A37aUVMqAakAKLl8Tn7trQK6+gnN/D2VAGfiBLZQzbEAu2SmhbzdsQM94PIyNpmRAf+7IGlBVakCNkn+/ZSBmQAJf8fmIa2pAEbBC07BWakBCpea+T89tQAu/EEcaDnJATz0ZYJP+ckD029bLiNxtQAZIYfc+iXJAaP+paSWkaUBbwgxTXX9nQA==",
        "encoding": "base64",
        "path": [
         "_data",
         166,
         "x",
         "value"
        ]
       },
       {
        "data": "lSePgD8eeECvZMkO9il5QLF9yiICa3lALpHe24g7eECd+O/riGt4QOHtUDSXSXRAPBlxvKhXdUA=",
        "encoding": "base64",
        "path": [
         "_data",
         167,
         "x",
         "value"
        ]
       },
       {
        "data": "j4+Xr1+fbkCXyj1AszxxQCaO4wCW43FA6yxGu3cbckDnnRWFHb1wQMO8c++TQ3ZATpPpy3gVckAZE7AJeLJyQCkK1D2LPmxAi1qpjvXdd0CWl5BduENzQHLM6j6iUnBAU71u5jiEdECPN5iNRp5zQA==",
        "encoding": "base64",
        "path": [
         "_data",
         168,
         "x",
         "value"
        ]
       },
       {
        "data": "l1YJfbAehEBWKQK5PiCBQDhEoW3Tn4VAmpqm0/XJgkB/DJT5x5WCQI766bFcnIJAJeieOwWmgkDiINp64EiAQNDxeJhnpYJA7/YHY6jMfkDwvtTKUbiDQAWNdTXUIX1AuLnymJgOf0DAx/td3NKCQBJDyKRK94JAvVAdYWd5hEBMtjeSRKWEQNT/v1pilYZAtww8lt/3fkDugUjuME1+QMWdkbYe+ndAfqFiQ78Cg0B0HEfers6BQMsTfGMnMIVAOzWm76Q1fkDcofhwYgl+QLvAXuz4CYBA",
        "encoding": "base64",
        "path": [
         "_data",
         169,
         "x",
         "value"
        ]
       },
       {
        "data": "v2tWHg1Of0DPoI53PouDQM3wAMsmVINAZyBRzrhdeEDvtLRSUT12QA==",
        "encoding": "base64",
        "path": [
         "_data",
         170,
         "x",
         "value"
        ]
       },
       {
        "data": "nQX3km0YjkB91MnZqEaCQJYvysjodYlAL9IY6CUDhUCgmLcy2wKIQK7F+585oIFAEKyOYLHNi0BFi3vONZWIQLy/9H+y54ZAfUL7TxSdhUD2lPmaCViBQFxk8XQYN4pA+uQyh4zDhEA=",
        "encoding": "base64",
        "path": [
         "_data",
         171,
         "x",
         "value"
        ]
       },
       {
        "data": "VAAYzraRekBzQzni0XV3QFNVzWSpbXtAjCW/s05Qd0BGslAQ4cF3QDkvted8OHpA",
        "encoding": "base64",
        "path": [
         "_data",
         172,
         "x",
         "value"
        ]
       },
       {
        "data": "m1bhag6nhEA9xR9oBpGCQLcbchAvvYFA3Ynv8bWZgkAo/fSxaymFQGqtAjmdJoFAFdWs+EYIhED6RhDeoHeFQFNa4debDYRAvW9My+zFg0Cvlh57KN6HQCqCdakoMXtAqvV3/5Bgf0BWLf4r4nt6QLG5nmSHOYBAC1fre8W6gUCEdF6ccKeIQAh1AB9BgYZA",
        "encoding": "base64",
        "path": [
         "_data",
         173,
         "x",
         "value"
        ]
       },
       {
        "data": "Bz2ZZ0dadEAhDQqVUxV3QN1WvJ3b5HVAS1yMSXRwdUCLShtNFoZ3QHM49jDGHX5APeZJV6ByeUDiyo+Ipv5xQNBDpEzrdm9AXNYG4dYAcEDo6thS0lNxQNcjnj76enBAijAXPzmBekCAsNHNxAd9QKBxDzQnD3hAz34pfHlJdUANfhPOKS16QGVT5ZvZiHRAcRFdq9vtdEBzVUwdMfiDQHY6p5O7YYNAf9itTnE+dEBUf+F3LutsQE2tQlPfXXNAEvseBpHEbkDIpbyMUmxzQBgngBVXUXdAU2fR826RbkDCbdRE7Gh2QACHP/ShwnNABBAp8xINb0Ct1Wv5HGlsQMOx3ynEMW5At3W8GGCab0BL0UWJIoliQOl075gkuHRAPDF2sIxnb0AkDHCQFsx3QINIg5BexmpAONmH2VK8cUDNjomYGWV3QJgTu/hFqXBAjbx88hAje0D6+w/4+Sd4QPQT4r02/HFA7EoOhvtyckA7ewSJ1ymAQCK+6tIl/ndAh5DLEUhNgkCOJk8/q/9xQDmIk2XcS3JAQe27I1pLcEDdyrFBSCF2QCCL1GQeI3NAOA/fRsOYcUByyrLxwEd2QCIy1CXrR3lArWjf0j/8d0A+UFOJarN9QOGF6m6Q5HRAe+yo31fahEB0RFleM76FQIS8N4UpC3pAPRso9je+fEBJKZPfHe6GQMgUzsjWxntAKQplnYZPiEDZ8rtG3v+GQCwF8hyUD3ZAzqxFnA0Td0CWgJyKX4N1QJ+00zFnCHtA8p6Vrkyyd0Bjwn0RS72DQH6dEOB8O31Aql+9lVIDc0AaoOLgNxFyQLSmLIkhAXlAXOeXVGi0bEDGzfx1BKaJQIQfbvJDzHlABClsjYa1dUCbaHAeAjuAQEFoAw6wdYBAzZLuAmj7eUBxLOlLdKd1QNLs6dQ9tXFArlFknAcVdkBOPyqYPUBwQINh0Erii3VAg7cjieDYf0CcGuGecg6EQLOK8chPp25A6jSLWTJVgEAkcF2O7fl5QF9EUSdpp31AE31JcB6XdkBhZhZAhhR1QET7x2Udn3NAIF+X7kd2bUD6QQPg4WF4QCorGXi7WnZA/HvQBpVpd0DFcfESv/R8QAf2VNSkxXpAU4BPsE+mfkA7c7YqzB5wQDRkIXu3UnJA/9+cWcRPfUA4Kf4Pmml2QMyE9sTIj3tAlC69Pz0nfUB1QyKqDkx2QCVaitYIDHJAYrl+qhJIa0D6DpQKljtzQBX8a/Le/nJATlGHwCZicEDQDsMLJed0QHYRbR7Xlm9AFpb7nj/Uc0BUTg6esu5/QIxMhW3DBXJA2+5LfvlWbUBhg15H5JpyQAnuMpCgcXFAxoCnvf0tcUA=",
        "encoding": "base64",
        "path": [
         "_data",
         174,
         "x",
         "value"
        ]
       },
       {
        "data": "n0YYkaw+eECze68x08F2QIXbZrXpl4FAydLnQvlKgEA=",
        "encoding": "base64",
        "path": [
         "_data",
         175,
         "x",
         "value"
        ]
       },
       {
        "data": "emr8cSaDcEDn/sigmC5rQLfCBBHjp3FAjNu2ivXbaUDoMygN+UFvQF0YExDXMGdAORVpGUj+ekA=",
        "encoding": "base64",
        "path": [
         "_data",
         176,
         "x",
         "value"
        ]
       },
       {
        "data": "Ugpec3oHcEBhR0dk+e5wQNISWlScTW5AhIOoWIlVfkBjsahVUt5wQN3gYJIubXZAVI/pmQo2eECXWxu3bCR5QFZkz94lq3FANmO4cPgvdEAu9Y3liNh1QA==",
        "encoding": "base64",
        "path": [
         "_data",
         177,
         "x",
         "value"
        ]
       },
       {
        "data": "I7EOX6jKg0ADjEMF3QWDQHR6klMw9ndAkAOOESCahkDFqrjM/0N8QJovolljnXtAZeUl2L37dEC0BdVWjUVyQA==",
        "encoding": "base64",
        "path": [
         "_data",
         178,
         "x",
         "value"
        ]
       },
       {
        "data": "xH9BrU1de0C6tWNjrWKAQBNQzueKqX1AIPtzMxKXg0CdpaXeD06DQEvry96iV35A",
        "encoding": "base64",
        "path": [
         "_data",
         179,
         "x",
         "value"
        ]
       },
       {
        "data": "7FWV8GI5cECKqkJmsw5zQN5kZsGLpWpAtjcOxw1ucEAnpIsWPblrQBUCgL2XC51A",
        "encoding": "base64",
        "path": [
         "_data",
         180,
         "x",
         "value"
        ]
       },
       {
        "data": "lmNwPJLGYEAYHp5I2RpjQGeyScUMPGRA01SzbsXsWkCjYyHFqxNdQO/XdkkDRXJATVFWVXMtckA=",
        "encoding": "base64",
        "path": [
         "_data",
         181,
         "x",
         "value"
        ]
       },
       {
        "data": "VzLMsQm2dkCCm7aWxYR0QFVQDc6adHRARKYZkftddEC4c+1hd9tsQMW7a16XlHBAMDjSKrACdEBF2wZvD7l0QKOqfSxVO3hAqn7QcHzKdkAMgBMMgRJyQMM5VoK4F3NAzUuoVi+IfkCZpD6dA5yCQA==",
        "encoding": "base64",
        "path": [
         "_data",
         182,
         "x",
         "value"
        ]
       },
       {
        "data": "kBJ5kwzrckBw8ciAOWxwQM1LLCB8lm9AC0s4yf5JaUCMib67isZnQOVnSSUrVGRAGNp4311zaUBmH2UWrhhnQP7zkW3K2WpA",
        "encoding": "base64",
        "path": [
         "_data",
         183,
         "x",
         "value"
        ]
       },
       {
        "data": "hZa7NSROgUD+8LBzfv2AQKMU7i/vaINA3uMYxyC5g0CgOrEUcoyEQDk0VurqL3NA",
        "encoding": "base64",
        "path": [
         "_data",
         184,
         "x",
         "value"
        ]
       },
       {
        "data": "ncgnJLSAfED3YVPpvE10QBM2HYuxgXtAr6fRj2tLdkDZo/XPBaB2QFCda27+93VA8QAAdqSAZkABxY4pnyh/QA==",
        "encoding": "base64",
        "path": [
         "_data",
         185,
         "x",
         "value"
        ]
       },
       {
        "data": "HyrDJvmeekCODDTH6N2AQEuT2gGb6YBAmk61ozufhEAAg2Wuc++AQLbynC3SUX5A30XWp+R8eEBsEw9MLJSAQHKIM1kgS4FA",
        "encoding": "base64",
        "path": [
         "_data",
         186,
         "x",
         "value"
        ]
       },
       {
        "data": "4FJhMmVkc0DGi253dWJ3QCCbg6C/cXhAbBedk2wzg0Cr7LMUxEB6QCmwKavUnHlAODMrLFFRc0A=",
        "encoding": "base64",
        "path": [
         "_data",
         187,
         "x",
         "value"
        ]
       },
       {
        "data": "Tl8HZNd5bkDfx5z2RPpoQG4keYakNW9A",
        "encoding": "base64",
        "path": [
         "_data",
         188,
         "x",
         "value"
        ]
       },
       {
        "data": "aV9snUGzZ0Di44JKIFFuQLthD72hBmlA9v/fb5G0cEDZrPci3/BgQErrxgUNpGRA",
        "encoding": "base64",
        "path": [
         "_data",
         189,
         "x",
         "value"
        ]
       },
       {
        "data": "g5QgJL1Z9T+6EzgX34mxP1yU6fBEXqw/9l2cjJHDwj9ZBUihOVW2P/hVNra/+60/cxbkqWLzsj+1R8kmkdTHP1d/ZsjYzbA/3eGXsr9kqj9sArhKDJHAPw==",
        "encoding": "base64",
        "path": [
         "_data",
         190,
         "x",
         "value"
        ]
       },
       {
        "data": "A9GnCf/Hoz9nydICImu4PyJT7HQNUKY/JpJzX1lQrD+N5/ilv2+qP7ghuxXAqqk/vBs/U0ONsT91wIVWUMyzP5euGB9c27I/mSB3+LCbpz+RQbL2nl6hP53ZPB0jxK8/n6lNP19ysj8=",
        "encoding": "base64",
        "path": [
         "_data",
         191,
         "x",
         "value"
        ]
       },
       {
        "data": "oGAqsSbLyD+uMEyJmKKgPyyUZbN66Ms/G13vcG1Zwj/HE5yBp8e3PzC7u+2R2NM/zBSmfZvBwj9ItaJ4VeKsP5x9KBjcTMo/bMMlbadPqT8=",
        "encoding": "base64",
        "path": [
         "_data",
         192,
         "x",
         "value"
        ]
       },
       {
        "data": "1JZ0fqRdtz8O4TLx95O8P/Sp64fUYdY/4ncSqqlIwD8HJE6aFWW/Pw==",
        "encoding": "base64",
        "path": [
         "_data",
         193,
         "x",
         "value"
        ]
       },
       {
        "data": "HXyvj3yRsj+dThEEwyCyP7MznsU6BL4/61gGKhH2sT+sklMz7bGrP+q1Rk+Q77g/dxfr+ayT4z/be1FCJeq0P7fzLeNSWbU/",
        "encoding": "base64",
        "path": [
         "_data",
         194,
         "x",
         "value"
        ]
       },
       {
        "data": "Vt57GLi5rD8X2obIIdinPw==",
        "encoding": "base64",
        "path": [
         "_data",
         195,
         "x",
         "value"
        ]
       },
       {
        "data": "N+nJE0MyvD94Puo0jYnDP79TtZgpA8I/A02eOWrctj/RdqD4lEKrP0LSDmv/I7I/Ca8bk34uwD8=",
        "encoding": "base64",
        "path": [
         "_data",
         196,
         "x",
         "value"
        ]
       },
       {
        "data": "On3xEGNtzj8ofNVB66O1P7CQAjueTr0/1Sg7C28lyT+bAfPCggTDP5IAoVskqMA/60t+wpRIzD+nyHzXOh3GPzmJKcD7LsY/botsSgPqyT+mTKUXp7LFP6P1kLZupro/rxaxiQmJyT/rSFvDWiPEP0o3zU5uJs0/JJ5zAfFIxj+0X7mA8qnCPw==",
        "encoding": "base64",
        "path": [
         "_data",
         197,
         "x",
         "value"
        ]
       },
       {
        "data": "XdLuMRrqtz8LAJYf4X7GP8C1ZTNFobE/LQBrgc7zvD8+V/C2W5i0Px33oWfB2a0/l/wTShXSqj/mHMlMINm1P2q4Fv0m8q4/qjayqNKxtT8zbt/Be0XQP7c/ySrp9LA/",
        "encoding": "base64",
        "path": [
         "_data",
         198,
         "x",
         "value"
        ]
       },
       {
        "data": "oZnddlWAtz8nVonZRBKzP4c2SZCJgbw/y7Xg6f+Uyj9VfJ5znWnEP/VGhlOLAMM/d/ucCFMqwD+sBpA/NwbZP+kjV7pZB7w/",
        "encoding": "base64",
        "path": [
         "_data",
         199,
         "x",
         "value"
        ]
       },
       {
        "data": "3yOUNN4CtD8QWgbFxWC+P1HltHCWA8c/aJeJdzkDwT9iuJsUK9PBPxRKkaq8Db8/d51tI+ofvT/ZMpDzh6rKP1ywNBuyRsI/zMqZfSShwD/0V1t8CvS0Pxb9nEyzNs0/YRAtYJNE0D8=",
        "encoding": "base64",
        "path": [
         "_data",
         200,
         "x",
         "value"
        ]
       },
       {
        "data": "MSm9lsKiwD9armDxV6y5PyFEx5BOj7Q/2HrcN9bxtj+7PNwfv/W/Pw==",
        "encoding": "base64",
        "path": [
         "_data",
         201,
         "x",
         "value"
        ]
       },
       {
        "data": "Lr12DqiHvT8sJl8ih3i0P88UKhJLwbc/YhKingyCtz9eCon6IfC5P+nYMK9EeL4/",
        "encoding": "base64",
        "path": [
         "_data",
         202,
         "x",
         "value"
        ]
       },
       {
        "data": "udJ2RYK0yj+2/lsi9FHUP7AVKvqJFsA/O+no1j0hwD+y60e0Sje9P1jNjGUo5Lg/V+I/ZwHytj/QsCaygPSvP5Fr2iiqGbM/kuipHNgsvz+D/8D3FQa4P/IcbRZYTrM/1l1Qz5sbtT8=",
        "encoding": "base64",
        "path": [
         "_data",
         203,
         "x",
         "value"
        ]
       },
       {
        "data": "YRIrV5X4wz8cOSa+ALC5P7WfOYN7p7U/k0wxq28e4T+p1nFwpHzCP5AWgBliPMY/rZDl9XbcxD9K2GJu2CKwP93Zb5g2eck/IYsKCT0xvj+F6icj9BK8P2ZZVENzTLg/17lmc9pSuT/VBvwvEgvEP3LM+yur/rA/z0tNCXAIvT8um6uDCNCyP0ze4LNWLsU/ERIOKDGHwj+rid6nvEC+Pw==",
        "encoding": "base64",
        "path": [
         "_data",
         204,
         "x",
         "value"
        ]
       },
       {
        "data": "vC75QgcTvT9fbhsFLU7LP3izdh2QgME/KkKiTZdnwD/lJdS9XL2yPx5SJzBxarM/j2G3cvOatD8=",
        "encoding": "base64",
        "path": [
         "_data",
         205,
         "x",
         "value"
        ]
       },
       {
        "data": "b8rQ4wpjuD8VVmeTSm24P58NdUyU77k/BJm4ZW8nuj8S/XyVIpmzP1HPLpXHlaw/JGhy0vdh0T+2cValTm3IP7Rd16o4OLE/TFqGZm+IsD+pxhBnkQKyP7bsrbO7Lsw/vtwPMVrvsj/W/dxsR8i0Pw==",
        "encoding": "base64",
        "path": [
         "_data",
         206,
         "x",
         "value"
        ]
       },
       {
        "data": "Ll9sNujgqj+7iqyQyOGuP/9sXqYPc7I/uDmzKE+9tz/K4MrLr9SnP8fdHrKnmqc/XYRopg5MrD8OVWvH+wDFP67QjEbInbI/7VbG2OXvvD+W3IVkm3G3P67LgmarobU/sjUtmtTrpj/nyEG5ql+uPwqiqFIZPrI/9NrOywDrsT+MyRI7v2CsP8oXQRFB1bI/YMcg2Yxsrz8s/grYFJG/PwIP803KJqk/N1SUxmJesD82NGSJ1FWvP+n3dr5FvrE/NDkVWovSwj+mRdWpbUyxPziYWPTjX7E/",
        "encoding": "base64",
        "path": [
         "_data",
         207,
         "x",
         "value"
        ]
       },
       {
        "data": "FVeaYIoLrz/hhOxii6+5P4qqZsu2dbQ/E4ou0sAitj+NL2jlZAm2Pw==",
        "encoding": "base64",
        "path": [
         "_data",
         208,
         "x",
         "value"
        ]
       },
       {
        "data": "FJ4Hx1g5tz/7tdvjeruxP0R8M6Bk9Lg/oWqfddqirD/rBPAETpOoP2Nu6/vlf6o/081gwnBbpj+5S8e+fX+1PyGHj3qiT64/uOu2oxN7sj8H2UdXRRzMP2y9oQ4Wl7I/TPNMv8xxwT8=",
        "encoding": "base64",
        "path": [
         "_data",
         209,
         "x",
         "value"
        ]
       },
       {
        "data": "UmaYGtmTsT+5RymA8/KoP3SgMnM+xrA//Wa9IbMbsz8kT97p5gC3P45CjoKziLE/",
        "encoding": "base64",
        "path": [
         "_data",
         210,
         "x",
         "value"
        ]
       },
       {
        "data": "iECnLb48sj/8Z/6QH3OqP6ccOA9S0qo/uuemjh1KuD+Z1//H60byP4lSBzuCO7Q/xgC9NHkorj+1pJOFA06/P0+9WOOpEK0/FPJdy/pisD8yWkv/DGOoP9Fpx+AyObw/VrdnwNLtwj9baelPFGTEPx55RAOyf7I/89VWbEmxqj8gGVlWJOe4P17x/04ZAaU/",
        "encoding": "base64",
        "path": [
         "_data",
         211,
         "x",
         "value"
        ]
       },
       {
        "data": "YtUFjJ/qwz/uz3ScytPSP7wanBRXhLc/VRcaWXdNvD/ZFe93ojbMP7iw9YKV8rI/dlTvv9yNxD8e8i/Ftb2/P5+4wDpDeMI/hWQH5dUn2z9vxcZoOAbDP6I7DK12+sY/iW3AWHhgwj/uokz+NSm+P4EKrpoUSrs/Ii4gfFlOyT80NhUCIuvXP4aN3vy5PNs/fQZNl5NBCkC4zs4+A3CzP/c5usME4LM/ugiW0O3owT9Z9HzJJBfMP2MKwIstmcc/lNQFxxiMyD9/JeWZvUvWP17Riy4awNg/CiKePnYf1z+VrlERVU/EP5RGA0ZQLcM/q66DRrvsyT+8KnhF70PHP7d3ImAgqMU/OcjDfHPGwz/k0aS221/3P217G76rEcI/+NxsE8PpxD/KBPP6mlm9Pxq6jDb+wM0/YCwGfc/QwT+GArtq4MC+P+4X6TciCcY/SdZ7MZs43D/2zIFdq1zJP2Be23aR6rw/HetFKV4muT9CYCiclwe+P68zlPtvzcA/BASkR7fpuz/FKIValSHFP+0EuD9/X80/LmAX+zwD3z/VC5FYUpLEP9Q2K7mkCOY/yauZtMi8yD86IZ+9vNXLP8r5brurML4/E1HeUPgnvD+455XXuebAP7lIRVOCW8Y/8NCF6dCIuj83mHAOzjrRP7iIOXJlOrU/MQFyvfvguz8kqTOvDerBP3lRf8gBA8o/CNYWJ6Eurj9Rc2x/iPOzP0FHHYqhVMc/Gd7VoZBvyT8HGYTw40LPP+jhF9oKYdY/A5rUbAg/vz871q5n4z2uPyPoHmUPNMU/mhNYtAmOwz8hotHoHxHCP4SNXFThHL0/Q+5yHQTMxj9TMRz4dAuwPzPZJATkabk/f+D8j+qBuT94uKuJ9rK1P4NDlzER18E/160Svww/uz8EMy188AHEP6KCMX7R6sE/EDwD0L1Ivz+cUbY3uV3LP+rfHYklMdQ/iyDYf/iMuT9IvNewtl7NP9uo7cyN7sA/Ysv2GfXcuz90PbBXO6XDP8szjfYmZ7w/btEEZoMwwD/uxTXYivi9P3IRAnGDt7g/NsTEo//Nxz81r45uwwTBPzYZoKZFQrU//KZRqxleyT9QXqz/hbfAP/UXAfx3Ars/gkTG7adhxT/+Y5fqiCDSPwGJl/Q1SLo/h5SZvNwpwD+SOikRiUjHP/Av4mTqvrk/2r6ARmh9tj8PZYd7jF7FP0YyT3j8vb8/jeGeSoIv0D+0Z7ogarXKP1mWBc/VSOU/p4yKpq4Sxz+OheVIFfzIP3GAOUVfcuA/OftXWFLu3j/QiV8NAqC2P1SdmRNUp9M/I2yseiOq1D8C3/XNKbjTP7XDZdMqvsQ/u09HmCKB0T8=",
        "encoding": "base64",
        "path": [
         "_data",
         212,
         "x",
         "value"
        ]
       },
       {
        "data": "T+JagIdQsD9YyJTCT6zKP7eHfRBAg7U/Ja6axOrWpT8=",
        "encoding": "base64",
        "path": [
         "_data",
         213,
         "x",
         "value"
        ]
       },
       {
        "data": "pfqQRAcJwj97MxMPknLOP6EToDGN3dk/TwOaV+rGtz8mMrmdosfEP2sVJsttt8Q/B+94X86H2D8=",
        "encoding": "base64",
        "path": [
         "_data",
         214,
         "x",
         "value"
        ]
       },
       {
        "data": "bHtjGVEfuj+sp3FwqZzDP1pn/4cfLsU/B9u3l8Uqsz9Y3mkkHv7RP0YgaFEGq8c/PyVFdPmqvD8JwV7UkjfQP7KwatgxKcw/ExYjYWffvz/Xn+DxjoC7Pw==",
        "encoding": "base64",
        "path": [
         "_data",
         215,
         "x",
         "value"
        ]
       },
       {
        "data": "LGLPCY1VvD/9H+EPA3e/P8YwAx6Dr7Y/iycpa2MgwD+1fWIoHZ61P/ZilVTeoL8/YhBsz/pYwz/ILV0Ri1e6Pw==",
        "encoding": "base64",
        "path": [
         "_data",
         216,
         "x",
         "value"
        ]
       },
       {
        "data": "z5WLf7VzuD87SXd8c4exP+rB9mKQxrM/wDJGyn4Eqz8xLNLjstuxP8sDFq/2G7U/",
        "encoding": "base64",
        "path": [
         "_data",
         217,
         "x",
         "value"
        ]
       },
       {
        "data": "TgN2x6y7xD9b1CYwdDO2P9DPI7k36qw/5mGOKTfhpT+bQ0T/ER3SP8yBjK0kv40/",
        "encoding": "base64",
        "path": [
         "_data",
         218,
         "x",
         "value"
        ]
       },
       {
        "data": "LAXf6tx+4z+rCILzPqnOP7WfYPeQS78/XPTa9Vc1CEAHl2NAKNDTP63oCrz0urc/Hw/GKapYtz8=",
        "encoding": "base64",
        "path": [
         "_data",
         219,
         "x",
         "value"
        ]
       },
       {
        "data": "qh9iLeAUtj+RuoMvc/nNPy81GDhYLsQ/EIcxYJEayj8HgOLnksLCPz0xWKwQer8/xchS2GBB9z/Fk9lr3WTAP6JUcoa8PbU/XckaXAvSsT/xxFuyP827P5BwX51yZL4/BemAbQGSsD+xxbLzFfemPw==",
        "encoding": "base64",
        "path": [
         "_data",
         220,
         "x",
         "value"
        ]
       },
       {
        "data": "S5oghFfAuz+jhbgOzU7SP9uHqPK8acA/xGbSA27ZwT8MGxSkLwjFPxMqhFc4duw/VApFxBzPyz9AiMm5jxXGP/D+6kXT7Nc/",
        "encoding": "base64",
        "path": [
         "_data",
         221,
         "x",
         "value"
        ]
       },
       {
        "data": "qMo38qMhwD8LS8DXOCymP6RuLm92Gbw/4cb33By2yj/2i7BGEG6wP1MWor9XLdI/",
        "encoding": "base64",
        "path": [
         "_data",
         222,
         "x",
         "value"
        ]
       },
       {
        "data": "t1LwwMSAsj8A6ehwl0avPw8svGT/97Y/UYDgojt+tj8nq5e29oy3P9Q6Cesetds/mw5YH6AhwT+Q2n6kTsS5Pw==",
        "encoding": "base64",
        "path": [
         "_data",
         223,
         "x",
         "value"
        ]
       },
       {
        "data": "ReIsWQoAvT9D9Kcd/k27P1PhTw0pSLo/2nEDBFaJuT+M7dY4P8iyP5/ZOScSksI/4rsEf2j2wj/sdVtthhC9P6bZZs8FZL8/",
        "encoding": "base64",
        "path": [
         "_data",
         224,
         "x",
         "value"
        ]
       },
       {
        "data": "C8wsNQOK2z9hwsCiJPOwP9IpXzYSfrg/VL7hR0jQ0T94jW6Uy7fDP3R6tPwMb9I/FiI8028Yuz8=",
        "encoding": "base64",
        "path": [
         "_data",
         225,
         "x",
         "value"
        ]
       },
       {
        "data": "emrXPhXevD8Pm0V9WMnCP8M7bR3A0b4/",
        "encoding": "base64",
        "path": [
         "_data",
         226,
         "x",
         "value"
        ]
       },
       {
        "data": "ogxaxFDV4D8Cyev5eWvFP4Ygq6uqadI/xXXrpNgsuz+tkQtGG4m+P8ljIiQmeMI/",
        "encoding": "base64",
        "path": [
         "_data",
         227,
         "x",
         "value"
        ]
       },
       {
        "data": "bzBFxHawBkEZ0QfMht8PQZDgPq72kQlBAAAQs0V9B0HHT4vT31wTQfDBB7NFqAxBC7RAI2xqA0EzMzP25XkJQfJZN1VWFhJBVVVVh0mVEkHHRHqKd/8QQQ==",
        "encoding": "base64",
        "path": [
         "_data",
         228,
         "x",
         "value"
        ]
       },
       {
        "data": "9zTCxj3EDUEwlvx63cMFQQAAAHC0OQJBC1nI8jIoA0F8xVdOafoJQYQ6qAtkOAhBAAAAPAPSCUH0PM8RJ1YKQXd3d7FpWgZB8xrKm3czCkEAACA2ungQQc3MDG96kwhBLS0tochVBEE=",
        "encoding": "base64",
        "path": [
         "_data",
         229,
         "x",
         "value"
        ]
       },
       {
        "data": "AAAAgKNGBEEYhmF4O3EAQYiHh0ut8whBCRpOqiEFCUGykIV/Wb8TQQAAQLDdNAdBlnsacZvwCkGSJEnzas4EQWGKfGrXHBBBlnsaSfnxCEE=",
        "encoding": "base64",
        "path": [
         "_data",
         230,
         "x",
         "value"
        ]
       },
       {
        "data": "BqTjavSxD0E5l0RfexQQQTwDuN3eDglBu8XRFOQlC0EhDcIWa1AMQQ==",
        "encoding": "base64",
        "path": [
         "_data",
         231,
         "x",
         "value"
        ]
       },
       {
        "data": "Nn29Lyd0E0GoDBt6SegWQeub5KRLrxdBF6YWdj4FHkH1ZHzRnSkdQfyrxmyz8B1BBhkX5FaAD0GW4RvJEigPQWgXEOsVuwpB",
        "encoding": "base64",
        "path": [
         "_data",
         232,
         "x",
         "value"
        ]
       },
       {
        "data": "eQ3lcXHP+kCrqqphecz3QA==",
        "encoding": "base64",
        "path": [
         "_data",
         233,
         "x",
         "value"
        ]
       },
       {
        "data": "A9HA2S+lF0HJmfpsosYbQbXpEAFjMBdB7gM2B69IG0GDDTbTg6UVQWrRKOpFHRZBdNFF2eLNE0E=",
        "encoding": "base64",
        "path": [
         "_data",
         234,
         "x",
         "value"
        ]
       },
       {
        "data": "wkg71LcHBEHypYyFW58FQQ1e6Tj+gANB8joKqgZNBEF6a6jTM5IFQae2CKn5BgdBN0xzVw9AAkFXSaMqmfcBQRfVG6ikowJBpTDw6W0SBUGZ8nW4O5oGQbuWg8eqlQRBIFfmcmPBA0F3vNhIL7MCQSN3mFE3qwFB4QVNFIkuBUESd8Q56hsCQQ==",
        "encoding": "base64",
        "path": [
         "_data",
         235,
         "x",
         "value"
        ]
       },
       {
        "data": "wBwRVn9gGEGZgwC/XuwYQaMAZS3jzRRBR9wRhYOPFUHCUMwlVFQaQe4juOkBbSBBG8ZcbeO5GEGWe9p5EyYbQRtcbH5k6RpBpqCDE+O6GEGGowWJaeUaQfU36II2kB5B",
        "encoding": "base64",
        "path": [
         "_data",
         236,
         "x",
         "value"
        ]
       },
       {
        "data": "XFxKqvoaHEG6kcB+wNEaQX+PHQbN4hdB3t/z7fSeFkF6oHIG90sIQT1QudY+uQ1BdLXy74gUEEFgx4b79rsLQSZ3p0CAdAtB",
        "encoding": "base64",
        "path": [
         "_data",
         237,
         "x",
         "value"
        ]
       },
       {
        "data": "NM887TOcE0FlHom//o0QQdcbzxNJORNB/V6GKJRvEUHRKRXUxSsWQXmFgMW2NxVBZ8wZUB8XFEGxRnBsElsLQZXSKShA8AdBWjzlyw4cDUE84o6WzcMPQexbhqF1yAVB+iXm5hrVDUE=",
        "encoding": "base64",
        "path": [
         "_data",
         238,
         "x",
         "value"
        ]
       },
       {
        "data": "pLMqWZobF0GzcD/BdqgVQbgv4B2v1RpBe9LCnS07GEGO4yDoaxEYQQ==",
        "encoding": "base64",
        "path": [
         "_data",
         239,
         "x",
         "value"
        ]
       },
       {
        "data": "spCF6aow+UCdxXTXcUcFQfGjug+1HgtBXV3dHx+XDEHB0PKq7icEQZqmaRYGLQJB",
        "encoding": "base64",
        "path": [
         "_data",
         240,
         "x",
         "value"
        ]
       },
       {
        "data": "95XVYc+VB0Evuuin56gJQfvQWKuu+wJBVWIqWSOoBUF6iyFd10YIQchsU0K5XQdBLFG7lAAKAEGzpqwYyxsQQQlR/GVWGQlBtUw51BEoCEELKz0X44QIQUyRz0K6/wRBemphaT8MB0E=",
        "encoding": "base64",
        "path": [
         "_data",
         241,
         "x",
         "value"
        ]
       },
       {
        "data": "mm7Y0oNL/0Ay4qiNzjL9QFVVVWGUcf1Aa5gdyHk4AkFiJ3bw4q8AQXzFV4zG//xAi7Io90qmAEFiJ3awACb8QEOhUBiL8v1Am7Kmnite+0C/WPLXJvH+QMVXfMv8VP5AIpBrUlqVAUGh27XKWej/QJ66loMYIwNBAAAAWDoBBkE9z/MhAioAQc3MzCiJmgNBS95VWytz+EAuRqhV4Tn5QA==",
        "encoding": "base64",
        "path": [
         "_data",
         242,
         "x",
         "value"
        ]
       },
       {
        "data": "L1akqPRCCkHJkSPPNKsMQTva/F5c3wpB5aGPxALyC0EULCOzU/wJQX/J8gOIOwtBJYF5r8n6CkE=",
        "encoding": "base64",
        "path": [
         "_data",
         243,
         "x",
         "value"
        ]
       },
       {
        "data": "XtzFAVUFCUE44PH/kMIKQVEURWc4HwZBSHAfMaIKBUFKn/TltOAIQetBI2NY9AVBs6DaH3PjAkGbsqZoj5kHQb2dIR2mGAdBqZVaUTmtEEGY0F4IqdsQQUlxCmMGqApBsskmhUaKCUFT5LMSk5kOQQ==",
        "encoding": "base64",
        "path": [
         "_data",
         244,
         "x",
         "value"
        ]
       },
       {
        "data": "8OFIssH0FUEwRf6xyZ0SQWLtG/RgGRRB7SW09NOVFUGWXsQ93CwRQVA//exm6xJBRrhcYUouEUFi1kLNolQJQfbHMBHb3hBBNfGsspWiD0EAAAAjtYkOQV5OwZ9jBxBBW7AFfzjCDUF8vEfaXXsdQb583vkzDxVBA8rE+ydQGEFYcKlobasZQX55bN/IuxRBEIuUpzlzG0HFx321RPAYQTsjFcUmRhRBITiVLjo1FkGc3vSo95MZQfUiToiJoRdBsMZE26IUFUFjLyrb+NIVQWDvmF7WYRhB",
        "encoding": "base64",
        "path": [
         "_data",
         245,
         "x",
         "value"
        ]
       },
       {
        "data": "SS9/WPQTF0FYfMX7LvISQXh4+OdpfBNBWmFzHPYKFUHx8PDmv6ANQQ==",
        "encoding": "base64",
        "path": [
         "_data",
         246,
         "x",
         "value"
        ]
       },
       {
        "data": "HKIwIAWGHkEP0VCrzXYTQSryWQlO+xdBl2/5erGGFEF88MG7EREWQQ3lNSYtexVBUMVB4TLFHEGvFrctg2YcQc+dOxnVOBFB/jbFUOddE0H5lGks7OcQQS1k4eiDhBVBWKQMoM+ZD0E=",
        "encoding": "base64",
        "path": [
         "_data",
         247,
         "x",
         "value"
        ]
       },
       {
        "data": "AABgP9BlDUGH8hpybEIRQQAA4H+sVA1BFK5HQT5zEkFOb3qt7c0OQXIcx8dOQRRB",
        "encoding": "base64",
        "path": [
         "_data",
         248,
         "x",
         "value"
        ]
       },
       {
        "data": "88FxT0ZrEkHwFrF3pAMUQT5hT5gS/hRB1Jk7fcrhEEFKKaVjKEcTQU8Zai+/RRBB3lHNOoHBD0EkiLQ4mvMTQfLbpewi/BNBIMIg4xDOEEFvb+8klX8SQbR5n0hroBJBqZtBY6lWE0E3YX5O/gsTQYEWaOeZng9BZpsviwctDUFemyjlUP0UQTMzM6HoIRJB",
        "encoding": "base64",
        "path": [
         "_data",
         249,
         "x",
         "value"
        ]
       },
       {
        "data": "cMw6ymS6EUFbRlk4BIAUQTVIgzaRJhJBcptPV77KD0FcZQoXrZARQcgJm8OiTBFBjnJ7wxCmC0HZsmXLs2MMQdmbkJF94A5BoPu5TLseD0FjzDO71s8LQdLvRWxaeQtBncLcAVTpEEGjSQDmIhETQdO4B3GqjRNBx3EcydX6EEE4HHikLuMKQSAK3kfMqwtBO68e4BWoCkGBvAAcvfEZQSXZ6mBJNhNBndFNPUF9DkEx6Fwry18IQaGWXDGwHwdBVVVV0l0pEEE7lw8W0kIJQV0dIIULSBJBQ3lNEfKwCUHtjkacZloOQZLsoDwMABVBTl9krLCEDkHBpEAI46IHQUIdNFu4VgpBHPg92fonCEGhVJhlVz8JQYXrUfgeWAxBQF4Gm4lBCEHsSZmaFdwQQaXbV8bf7AhB65VjRscRC0HYPRHupaoSQT/3cxnKrhFBijP4TjSSEkHC7x6Y3OUQQUaWnq8SlxFBQkNgXkCFEkFt80Rr0TAUQckOsLoNgRFBGDUtmpAgFEES054AjzYHQS3jQ5GRNgdBEfBj4o52CUEkrpYV3k8NQcdx3L/mJxBBEQo7slnoDkE5kt73n7YTQVRmSxHSthJBD+1bFA9YEEH6MK01qL0bQSryGVWcEBJB+WgmeF1dFUEvtpdG8qURQRC4LCOPZAlBfrFk7NDpDUHaMSCyCxIMQaGH0CHJvglBP0gGrJVcDUEK87tcr/wLQV98+CvG0AxBMoj8wmL2B0H94nUBKzwJQcyzv1zyZBFBS59rKVxtDkHJUpJlJKcLQSUc35avGBBBf/WWW6geCkFPIyzLQTsKQQ9R4bhBrRhBkJZbS8SMCUG1qU1H3iITQbR2H1CqMxJBoJH7KayGEkG1xq4Hqi0gQTkFL+IedxVBJGT4KgJzFEF02Fl7gxETQc2CmwjjHxBBx2jG4ZS6E0FPUf2RGkAMQfADP7pZsAtBy4RqqJp6FkGY6Pz9TY0XQcv1u1aJKAtBAAAAelIrEkHtPpzFApYQQbPNNhgB4xRB9hDHsa+LEEHNzARJjHsUQQAAAJImPhdBpZZSQ0LKDkHU/Xdan4cTQfNsqAi0oxFBsslefk1jEkG+aBGxhQ8YQaX8xoBvVw5BVOssg1J+EkGzRoT6Rt0DQchCFiHwSARBgFpzIbKNBUG2Dr1YjxEKQVP49tXlIwdBGLtA6/OpEkFSqyaw3DEDQXJs4t0vIA9BMNDRDi6PCkHlAithKTAPQRzZnEnXSw9BU+z1fWpXBkGFxhTCm8sPQc3RJKLx7AxB7mm0X0jvDkHxHcQ3/KwWQYmZCr9lnwtB2YrgAMy9DUFhEzc4qxIRQQSJFlGOaw9B5Zji+mqiDEE=",
        "encoding": "base64",
        "path": [
         "_data",
         250,
         "x",
         "value"
        ]
       },
       {
        "data": "hOWe//4oAEGMMcZcdn7xQAAAgG90avlAfdInBc0k8UA=",
        "encoding": "base64",
        "path": [
         "_data",
         251,
         "x",
         "value"
        ]
       },
       {
        "data": "rBxa0E4oAUGb/OwfZ+j6QARuLIc2eQBBjC66ZLtHAEGn31aSyWr+QE422Qg+D/5A4v7sLMneAEE=",
        "encoding": "base64",
        "path": [
         "_data",
         252,
         "x",
         "value"
        ]
       },
       {
        "data": "x/rQYvTJ90Df3t7CEEL9QO0ltEkjY/9AyHfhTB3X/kDD7OD8xPX+QHFxcW3aTgFB3BF3SFPqCEFKnmXs2Lz9QP2uFk9pePdAXPr2bSUSBkEQk6t/mCAJQQ==",
        "encoding": "base64",
        "path": [
         "_data",
         253,
         "x",
         "value"
        ]
       },
       {
        "data": "wo5u2yStBUHst9qoMsMAQcO2sHOqKgFBc5jD4olRC0EAAKjHtIMKQe2qLVGAwwVBbCgvPEov90DX5R0cQLj8QA==",
        "encoding": "base64",
        "path": [
         "_data",
         254,
         "x",
         "value"
        ]
       },
       {
        "data": "z/UyEXB1CkEB0fndxMoHQR3ZMxzbxwZBgkQrwVkQEUFSp/wJ8VYFQRY2B7oaQAZB",
        "encoding": "base64",
        "path": [
         "_data",
         255,
         "x",
         "value"
        ]
       },
       {
        "data": "VVVVJbOk7kAAAACEKW7tQDMzM/OpgOhAq6qqClP16ECMLroQt9jnQAAAAOAJ5xBB",
        "encoding": "base64",
        "path": [
         "_data",
         256,
         "x",
         "value"
        ]
       },
       {
        "data": "ZHA+Oh0k6UCIh4f7EDPtQGLezpRDYPNAU8B8AHJx8EDqTW9afg/tQOAHfoAl3/BAsFpgrqbc8EA=",
        "encoding": "base64",
        "path": [
         "_data",
         257,
         "x",
         "value"
        ]
       },
       {
        "data": "UHHJx9cVBEEiPVC7hUECQXA5ycvdDQRBlx3P3f4n/0Cr1KB5yLj+QEREhDzStgBBeoTqx4QhA0G3bbuqCscDQVVVFTqqnwNBGFc/lHP9A0GrqooOZCsBQdgcSPD8SPlAaC+hH0PSA0F0584D6yb4QA==",
        "encoding": "base64",
        "path": [
         "_data",
         258,
         "x",
         "value"
        ]
       },
       {
        "data": "VD1VO95yAUFIlhCU2iIDQdfgMPX3bgVB1qB4I8zpAEEd1EEzQIMBQd964Q+yTgBBPW90lhuaBEFqWVhBnDsCQTJ+uzYh7gFB",
        "encoding": "base64",
        "path": [
         "_data",
         259,
         "x",
         "value"
        ]
       },
       {
        "data": "NcJya1aMAkFpaWnlHJX4QOxRuD6olP1AchzH0zKk/UBiJ3aqQsj+QApeTp0OjfRA",
        "encoding": "base64",
        "path": [
         "_data",
         260,
         "x",
         "value"
        ]
       },
       {
        "data": "eW+rVZFz/kB4slrWT7P9QP4h4LpOfAJBIp23tsVLBUHbuw6AOUIHQQLJOgp0EwVBpqWlFQwX70AUO7EbM+D9QA==",
        "encoding": "base64",
        "path": [
         "_data",
         261,
         "x",
         "value"
        ]
       },
       {
        "data": "xJ/OHcEHCUFFAgyf33EIQY7u6l/YLgtBJe9aCCdaEEFp3JfZbxkNQcRnZ+ok4w9BbPtfWQ7rCUEyNN05d9f6QImuq4asfv9A",
        "encoding": "base64",
        "path": [
         "_data",
         262,
         "x",
         "value"
        ]
       },
       {
        "data": "52v1vAGO9UDpoovtuJn0QOdAookr/flAL7ro+kfj+UCWfQ4hjlrzQAKb9pOqP/ZAAAAAp9GB9EA=",
        "encoding": "base64",
        "path": [
         "_data",
         263,
         "x",
         "value"
        ]
       },
       {
        "data": "1qB4JtyC8kBwxrVsfp3wQAAAAHKqLfNA",
        "encoding": "base64",
        "path": [
         "_data",
         264,
         "x",
         "value"
        ]
       },
       {
        "data": "oNMGgh+M80CsSLzumwn0QNWOzrTzWfVAob2Ej2Pj9kAVAk2tUrfxQAw1J4FhsfVA",
        "encoding": "base64",
        "path": [
         "_data",
         265,
         "x",
         "value"
        ]
       },
       {
        "data": "3WCK7HAu0EDFCSnZEg7XQDqL6VwxmdFAAADA53hXykDsViGMx5LRQNlkk2UlwtFA2YmdyPIo1UDNzMxiOJvSQBX5rDOBb9VAep7nCdDt0UBv4VdTItPSQA==",
        "encoding": "base64",
        "path": [
         "_data",
         266,
         "x",
         "value"
        ]
       },
       {
        "data": "YbmnsXGR0UBmZmamuq/RQAAAAIop+9BAZCELeewa0EAsvuKLCq7SQHVQB1Uzjc9AYbmnITKD0UAYhmGIH17PQAAAAL609tNAeQ3l9Taxz0AAAID5Hz7SQJqZmYIQA9FAS0tLW3Ziz0A=",
        "encoding": "base64",
        "path": [
         "_data",
         267,
         "x",
         "value"
        ]
       },
       {
        "data": "AAAA2LYD0UBJkiRp8RjOQHh4eEAve9JAK4KGm1at0kBOb3qrElLTQAAAgKGg8tRANcJyxxZM0kBJkiShuY7QQEU+6za9gNRAyz2NcCRd0EA=",
        "encoding": "base64",
        "path": [
         "_data",
         268,
         "x",
         "value"
        ]
       },
       {
        "data": "tk9U63+A1EAtbsJkoxfVQA8qWNbg6dJAxfVGnHn81UDmW/6pBb3VQA==",
        "encoding": "base64",
        "path": [
         "_data",
         269,
         "x",
         "value"
        ]
       },
       {
        "data": "xMno9xqC1EBisHBqZwLYQH4V5ope1dZAFdyCADlU1UDRCpt7rxzUQKDKEdbuuNRADeU18J9600AXK8O7pW7QQKEO6qAKO9BA",
        "encoding": "base64",
        "path": [
         "_data",
         270,
         "x",
         "value"
        ]
       },
       {
        "data": "8xrKCxyYuEAAAACYx0C7QA==",
        "encoding": "base64",
        "path": [
         "_data",
         271,
         "x",
         "value"
        ]
       },
       {
        "data": "2j5RdeYL1kBPy8RR0a7WQJmdf3jDBdZARgPtUnbX1UD//PPbiTPRQLExkOv59dVA09sqClLrzUA=",
        "encoding": "base64",
        "path": [
         "_data",
         272,
         "x",
         "value"
        ]
       },
       {
        "data": "C4SRXpew1UBZyELGcgjWQJoRYUt66tNAEpWUuoiP1UCGv/hTvA7VQBlr5diBhNVAI/qAmg1b0UD6IxaAOBXOQJy9RkRYSNFAeths2ejT0EAVEAxJZjPSQNW1HOw09s9A2hp/84tJ0UD1TOVqCFvLQEHdiNesUtBAfAYgNiaO0kCbsqZcYtXLQA==",
        "encoding": "base64",
        "path": [
         "_data",
         273,
         "x",
         "value"
        ]
       },
       {
        "data": "IsVQm/ou10A0dX4hdgnZQE29kuNwSNlAOOQNdbQK2EBzWtDWX9fWQHAfwQ3ApdhAJPR+djMs1EDLPY34q3XWQNFeQsuy39FAvr8x4JUU0kB2vciq1MPUQEC+SJSFgNVA",
        "encoding": "base64",
        "path": [
         "_data",
         274,
         "x",
         "value"
        ]
       },
       {
        "data": "1ws+qmWt2kBoLvS0YdbaQIQT8SOF99hA95uzf/j61EBqxb2fTvjVQKic3cBwItdA1le4e7hf2EBapQaNoqPUQAdFso7g8dZA",
        "encoding": "base64",
        "path": [
         "_data",
         275,
         "x",
         "value"
        ]
       },
       {
        "data": "aKGFvoeB2UBez1cKv1XTQAbvoEs6E9hAXXCrjFc91kBKdReAMjbaQM2lxr/B2tdAs6as2b3g2kCxRnBo1LfWQMv5GQ8Cm9RAkQjAPc4D1kD5abEdBUjZQOdYHu8dN9NAxPdbkqtf1EA=",
        "encoding": "base64",
        "path": [
         "_data",
         276,
         "x",
         "value"
        ]
       },
       {
        "data": "fqifMROZ10Cn4OVirFrXQDTdwSagEdlAWbVySzL31EBVVTXB5TzWQA==",
        "encoding": "base64",
        "path": [
         "_data",
         277,
         "x",
         "value"
        ]
       },
       {
        "data": "C1nIhsEIv0AAAABy0wDDQBx+VBdhdcZAPj4+4ApeykAlLmZLqyvIQHsJ7fkBYcJA",
        "encoding": "base64",
        "path": [
         "_data",
         278,
         "x",
         "value"
        ]
       },
       {
        "data": "QU2FGPLl00BGF1121/XRQERjfQB/aNBAVjur7e8K1UD5wwFPEufVQIkhj/muUdVAV6J2XbKp0EDcEXfw6s/YQMc8fbRHG9RABc+gYvO61ECafNngCsfTQDUngeAQgtFARAJvr1zh0kA=",
        "encoding": "base64",
        "path": [
         "_data",
         279,
         "x",
         "value"
        ]
       },
       {
        "data": "aklWQylU00BEKRZNtd7RQNgT9vgbRtFA/G4pBPXg00B9y7eM/czSQLdt2xYsLdJAIQ3SAOuD0kDFTuyY8IvQQFOpVJqb0tNA6Av6fn/a0EDaQKeBBUrSQLdt22L0FdBAWKEzaLn30kBt3qf4VwDRQHCzX4g6l9BA7lJPtqRx00A9z/MMSYvRQGZmZkY5mNJAkjZEVbSlzUDUdqupMJzPQA==",
        "encoding": "base64",
        "path": [
         "_data",
         280,
         "x",
         "value"
        ]
       },
       {
        "data": "Ugv1rWIU2EAuXLigC4XYQME62ulR39dAz/n79uGJ10DMSqhalLzVQIfqdph/GNlAtFv4vcyi1kA=",
        "encoding": "base64",
        "path": [
         "_data",
         281,
         "x",
         "value"
        ]
       },
       {
        "data": "9Uu/ZIgZ1EBKdm1imNjUQEmSJCGwcNFA6ymsh1qV00ArGgmYhMHTQPeJ6vHQJ9JAJYzNkqbh0EBabOOHVoLSQKDWr5RVmNVAmIRJWOgU1UCCp1ubDyvVQGEeoCalTNZAsskmw6340kDL2H5XHxPUQA==",
        "encoding": "base64",
        "path": [
         "_data",
         282,
         "x",
         "value"
        ]
       },
       {
        "data": "QaGn+GDz10BT5LOsp1PXQMklmgvAu9VAapqm+aPs2ED5/khx+CXVQPoan/8e2NVAAfKniDcX00DZfDf8qHDQQOJwOGzw59NAaEUjuVtb1UAAAABjEmnOQKwPjS3gNNRAgWSdOwDQ0UAcwiFYmmDbQPVDTc/ir9RAsNlRG/+H1kB71wHVXmzXQBZBwwU8ydNADTzdGv5x2kDlmfg48A/bQNN+snRdZtlAGwSnnjLf1EA0Svz8H97YQNaw9HI4hdVABJWzg0X810DwIGUrSdjWQKqBvQNnPNhA",
        "encoding": "base64",
        "path": [
         "_data",
         283,
         "x",
         "value"
        ]
       },
       {
        "data": "v0fkLJPi2kAd1EGpBsrVQEtLS5WWfdZA47dLzfCK3EBaWlqO5f3VQA==",
        "encoding": "base64",
        "path": [
         "_data",
         284,
         "x",
         "value"
        ]
       },
       {
        "data": "k7S+kVZP1kAAD9Gwxu7UQGvJ4r0Zy9NAVVVVbdn00UBToNbPO3XSQIL7CM4rXtNAH7WR8Ipv0kCfgai4YeDSQAW0EnBIINBAAsk6B16A0kCjPxTKJ+LTQIYsZM8i/9FAkTLwpFd4z0A=",
        "encoding": "base64",
        "path": [
         "_data",
         285,
         "x",
         "value"
        ]
       },
       {
        "data": "AADAhVqW10Aor6Fc+DDXQAAAALDMo9JAXI/CtW5T10BkIQttahLVQDmO41RbZdhA",
        "encoding": "base64",
        "path": [
         "_data",
         286,
         "x",
         "value"
        ]
       },
       {
        "data": "gb6idWcv0kD6kO7U1W3TQMdxHMfcatRAsYMIu6RmzUAppZQy1ivTQKbDUVQAXtFAaPCbqKyB0EDLM/Ex9/HRQMZvlxImJNBAjmkTgFR60EDf3t7IPpzSQGqZqyC+ndJA+MmF3HMS0kBxE+YHQOPRQJh+6QtvV9FARERERHmpz0Dt2kQpZhDRQGZmZhrU79FA",
        "encoding": "base64",
        "path": [
         "_data",
         287,
         "x",
         "value"
        ]
       },
       {
        "data": "XKWiEbxc4EBNjWG3ogDfQD9M66JH7txAGou8lrVg3kBO9HTE4PTeQAXDseGLQthAaMaPeSFh20Bw4MCYPd3cQNK5GLFvDOBAoPu5jupY4EDAF2l2jHjfQHZStPXUWeBAqUTzgctZ3kBvq44Gen3dQL85CMM2fuBAISEhCZmn3EAJhnr83SzaQBjFZN7NOd5AWpQ6EjMW3EDJn1ezhibcQAO3CM/4DNtA/Zp5y7523UArgYpuoZnfQD+VEKhJZNxAx3EcT4gi4UCiNYTc9UrdQDyZD/lxAd9AYzqLd87Z3kDOdpb9vBzdQJAtRx4LG+FAAAAA3uet4EBaOsyezBfdQJzASe0dK99A7a/W1Qiw3UAeAjfJPYPhQMoAc84TJ9pAXPjVtLLe3UCSHQr314XdQCKnD1dGi99AVjLbXzv13kCrq6LG6yLgQKIe6vUCj+FALzLkrVjm3UAQwPcPxyHgQFWAvxM5HOFAqwmJACN04ED2FI2MUAXeQJlydELetN5AqZKvjKZP2UC1JzKm9unbQBS5CFuTJt1AyXIBiEGL3UCz+KlOiDPdQNpLaDfbDtxAeodi8J1Y4EAA6mHimi3gQKYbmxAaYt1AiknIz3QE3kDAGddKg3HgQIp8VjpadOBA4aDgo1RQ10BLayzhSbPVQHOqC2LL6ddAiYjINAso2UAv37ujL5TRQNzuNMlkN9dAZjWKYJFy0UDLy+YRTRnRQCJZpmvSKdpAYtZCukhl2UBj2fj68+DaQH5abLd7BtpANhc43iYO3UCgppjXTwrSQH5/WAuGvtpAUzxbBNv620Cl0uy+QB7dQDm8q/tQ9N1ATPk6SEH92kBkyO3svBLTQF5KBH96SN9AkYkTXXO54EAZ/YM02JHgQJTDZWB2sN1AZPhE1cqb3kBkHoMcTErgQHmC1Htn1OBAxlvZJ4GI30Axr62jIVDgQAKR4VYnQd5AOS+L6LYH30CUvB2ixwPdQHUOC28LGN9A4uHhJRVt20DYStv9v2feQO+99zwK+95AjpBRe+5U30AAAMinZkThQLkGVET0J+FA9gh7kG1H4EAd+41K9APgQPYXSWBVOuBATjbZgJFx4ECMl20AlnnfQBEd7vslG9hAIQtZ3tDQ2UAo+QvTOPzZQK4fETAaMNdAxiGP/6rA1EDIpDgza3rZQJdXsqWTsdZAQZTZS48o20De7kiZCxzWQKbS3Q/bmd1Aojg0WYHH4EDyKBf8+ljfQIRHAqzGuN5APnet50qE20D3h+cxsE/eQNGHmfaZ0t1AsdzTt4lo3kDEdxD/ZzrcQFh7gPj5UN5A3ZfHgSbq4ECmh4H1nZLgQAubwwo1vN5AWFszrdmc3kA=",
        "encoding": "base64",
        "path": [
         "_data",
         288,
         "x",
         "value"
        ]
       },
       {
        "data": "lnsaCYMcxkA655wb5ozAQLdt2y6FdcBAUPqkb18RukA=",
        "encoding": "base64",
        "path": [
         "_data",
         289,
         "x",
         "value"
        ]
       },
       {
        "data": "wcqh8zDX0EDMdPRINO/OQBmUCs1Oo9FApgb2Ht/n00C4lWZ1oR3RQHMbWsnqYdFAnnfxIkvxxkA=",
        "encoding": "base64",
        "path": [
         "_data",
         290,
         "x",
         "value"
        ]
       },
       {
        "data": "jfWh8ZpGx0AFBQX90lPQQL6E9kArjcxA2k+WYNyow0BT6E9aSmLQQLCvrwfLbM1ARbYu1lfAzUCw4oQ0Gj3IQAai0rFTp8xAGFlbHSHRyUCDmFyV7/XIQA==",
        "encoding": "base64",
        "path": [
         "_data",
         291,
         "x",
         "value"
        ]
       },
       {
        "data": "8uGXrSI0zkA+gVSyx97IQJ1OpzN6dsdAmSpth+Ahy0CrqvqkCa3GQDum97fNFslAbCivO73Dx0BQ7Tmp8sjOQA==",
        "encoding": "base64",
        "path": [
         "_data",
         292,
         "x",
         "value"
        ]
       },
       {
        "data": "FpEqi0MRy0CykIV4CVXFQK8WNzG1tcZApp6Mf3K5zED29fWpoe3HQIVMP24+MMxA",
        "encoding": "base64",
        "path": [
         "_data",
         293,
         "x",
         "value"
        ]
       },
       {
        "data": "VVVVhc+GvkCrqqqy6A67QDMzM9OdebtAAAAAIGqouUAXXXShHyq1QAAAAIBXCMRA",
        "encoding": "base64",
        "path": [
         "_data",
         294,
         "x",
         "value"
        ]
       },
       {
        "data": "dyVqZ99ExUCXlpZuchbGQF100b1vH8lAIq4y9RBux0Cc3vR+inbJQOAHfuhq0cFA9TOn4bCCw0A=",
        "encoding": "base64",
        "path": [
         "_data",
         295,
         "x",
         "value"
        ]
       },
       {
        "data": "gnW0MV+FxUDTintXspDFQGxk+POPZMdA1MqLEoePxEA7SzdYX4bHQNInfRIlpcdAaNoaFzyvx0Bu2zb1/grHQFVVlWUJgMZAOirwNfRsw0Acx/GVMQDFQIJEK3j+usFANKbCoSWow0AjRoxIk3C7QA==",
        "encoding": "base64",
        "path": [
         "_data",
         296,
         "x",
         "value"
        ]
       },
       {
        "data": "6HzOv5Gpz0CBepvSB0bTQGe9rmgPb9JAT3tcsdHizEAvIDZxGrDNQGg/S+5MAdNAWq1tzu470kCBrfo/IVbSQPVk/PJ9+tFA",
        "encoding": "base64",
        "path": [
         "_data",
         297,
         "x",
         "value"
        ]
       },
       {
        "data": "1AjLHSr6uUCIh4cXsC61QKRwPRo2O7lAchzHiXt1ukAndmLn6Ei3QCp4Of00TsJA",
        "encoding": "base64",
        "path": [
         "_data",
         298,
         "x",
         "value"
        ]
       },
       {
        "data": "CcSF6mwzyED/Tlb7hWjFQBS9LuhY5MdATyMsa5ckxkC7bwp3J23NQDtXHrAP9shA8fDwMILzv0BP7MRWS4fAQA==",
        "encoding": "base64",
        "path": [
         "_data",
         299,
         "x",
         "value"
        ]
       },
       {
        "data": "K6S9zpR+0EDYYG+x48vOQNslk38uC89A31dlYquIz0D8EAbpD3zPQJIol2130s5Ams1onhRl0EACkx+1+InGQC3VoHeYVspA",
        "encoding": "base64",
        "path": [
         "_data",
         300,
         "x",
         "value"
        ]
       },
       {
        "data": "AjeWSXIhxkBddNHl4CrAQJTx2xWyCMJAbbLJ1gkdvkDLPodcHhu/QGNudVboWr5AAAAAST89wEA=",
        "encoding": "base64",
        "path": [
         "_data",
         301,
         "x",
         "value"
        ]
       },
       {
        "data": "I5qzprgbxkBDtOHDiaHEQOh5HnU/e8VA",
        "encoding": "base64",
        "path": [
         "_data",
         302,
         "x",
         "value"
        ]
       },
       {
        "data": "zczMVF95x0Cdc84xTL3EQB6dSd1mqMdAX0J7D0tvxkCvRO3CR+LHQKRXxu4DYMhA",
        "encoding": "base64",
        "path": [
         "_data",
         303,
         "x",
         "value"
        ]
       },
       {
        "data": "5LNu4EpjgUA79tbG0UCCQD+C+/gR34FAAACAdtUHfkAttvGzxGiAQPDBB995SIZAXc3VDIlog0CamZk7x1uAQA6myMfJ/4NAMQzDWL1egUDewq9WfHaBQA==",
        "encoding": "base64",
        "path": [
         "_data",
         304,
         "x",
         "value"
        ]
       },
       {
        "data": "Ccs9zSSEiEA6baCzqnKEQAAAAEqlVoZA9aY3fX1nj0A7qIMqPlOHQMVXfHW08oBAPo2wzIZDgUA9z/M0kD2BQJqZmUl7qodAXkN5dV4GgUAAAIAsTWaEQDMzMxPfJYVA09LSgg8Zi0A=",
        "encoding": "base64",
        "path": [
         "_data",
         305,
         "x",
         "value"
        ]
       },
       {
        "data": "G8pryNYkhUBVVVW1eAKNQA8PDyeeG4JANJzUHQvDh0AtZCG7bv2CQAAAAOyTV4RAR1juqY5NhEDbtm03wXmCQG8wRZ6dI4dA7mmEVTaHgkA=",
        "encoding": "base64",
        "path": [
         "_data",
         306,
         "x",
         "value"
        ]
       },
       {
        "data": "m+0Tf5GCg0CUc0mYgwuFQG/eKnZHDodA3pr09zfmhkDFTuzcUQ6FQA==",
        "encoding": "base64",
        "path": [
         "_data",
         307,
         "x",
         "value"
        ]
       },
       {
        "data": "6NCIMb/rgEBQGbYiPQiBQO2jirK66X5A4Rbk1WXBg0DnQKJnU/eDQKJ0LrvBJoNAHX1zPJ6Ng0ADk049JRiAQJ6slseiiIJA",
        "encoding": "base64",
        "path": [
         "_data",
         308,
         "x",
         "value"
        ]
       },
       {
        "data": "KK+hHHVDgUBVVVV8HtiAQA==",
        "encoding": "base64",
        "path": [
         "_data",
         309,
         "x",
         "value"
        ]
       },
       {
        "data": "7Raopr+qg0A9JchzZrWCQAVdIxqcp4NA6LtXrptUhEDRRRcVdz2CQG4IrerVU4FAtvS2+j8YgUA=",
        "encoding": "base64",
        "path": [
         "_data",
         310,
         "x",
         "value"
        ]
       },
       {
        "data": "IIy04zIfhUAUXMkt93mEQDjQiryAVIFADp+JEQmHg0BJd/6q0peGQLt0AxYzk4VAI/qAuuo0gEAs4E6fTRx8QBlzAdno8nNAhieT9nYCcUBC8bTHcFV0QAAAAJgl6HBARWFxcrIDckBsCb7Vs3dxQGg+aLWfbnFAmml5hyvddEBD3pB38jRzQA==",
        "encoding": "base64",
        "path": [
         "_data",
         311,
         "x",
         "value"
        ]
       },
       {
        "data": "KhO2mRhug0C5rBiM8faDQLeg0TJh+IVA3BF3TG7shUCdAdZjD5CFQKuqqioKO4VApSxAvJEhhUBY7mkwEMmDQNLJR1fL/oFAyTLpaf/Gg0DxTn5QyF+CQNPfoNsw3YNA",
        "encoding": "base64",
        "path": [
         "_data",
         312,
         "x",
         "value"
        ]
       },
       {
        "data": "L/go6+4lhEC2JnMKSS6FQI/doZ0kLoRAo/7wSnERg0Crqqqy5KiLQKBydkF2yoxAZn2Fa823jECCMpZ5nBqMQID70k0WtoxA",
        "encoding": "base64",
        "path": [
         "_data",
         313,
         "x",
         "value"
        ]
       },
       {
        "data": "mF566RloikA/+f0IPPyIQPb9WiqZtohALKIETFN3iUDQXN97Dc+KQBWIMbs4dolAyBvy1ksxikByiKuswoGKQJUt96l6zohA+Qqeu6YDiUDB0kluGS+JQJcubuW3HolAqQMQRvWyiEA=",
        "encoding": "base64",
        "path": [
         "_data",
         314,
         "x",
         "value"
        ]
       },
       {
        "data": "OuzdgZlehUAl4hcw01qHQAb8VwX2PYZAU+Szbhllg0ByHEfR+BWDQA==",
        "encoding": "base64",
        "path": [
         "_data",
         315,
         "x",
         "value"
        ]
       },
       {
        "data": "AAAAAH4lckDhPoLjn3hxQKS6xAymGnNAs7KymhkUckABpyjLcPJzQBAEQSAauG5A",
        "encoding": "base64",
        "path": [
         "_data",
         316,
         "x",
         "value"
        ]
       },
       {
        "data": "TB4MsFcPgkDpoou4LeqBQLI+ND7zb4FAVjurHbF4gUAJyz09RL6BQB+qsMg4zIBARe1KBJLBgUBZU9aoSKqBQAaXyqZKwoBAEbYPE+j7hEB0HaO4IAWFQE4CccG0C4RAWOmpZQNJhEA=",
        "encoding": "base64",
        "path": [
         "_data",
         317,
         "x",
         "value"
        ]
       },
       {
        "data": "Z2jt/iQvhEB8QofBZNKCQG/IG6JL14VAvKXQH4N+hEBCGqSZaQqDQBZf8YWM8oJAMh7jkeV8g0BiJ3YKoeeCQFksFsvR/IJAm7KmRNsbgkCTXywB84aBQKiDOjg0VYNAJwK5hir4g0Cb9ynuNVWDQJlA73S2A4RAohU2h+X9hECrqqrCM/mBQFyPwrUY6INA+s3WIXg1f0A5eWiN8c+AQA==",
        "encoding": "base64",
        "path": [
         "_data",
         318,
         "x",
         "value"
        ]
       },
       {
        "data": "xN72PB1uhUCNGjWKHxeGQFwyBElnL4RA0BNAA52OhUASKNrKQnyEQAPaNNAKwYVAC78aM7Q2g0A=",
        "encoding": "base64",
        "path": [
         "_data",
         319,
         "x",
         "value"
        ]
       },
       {
        "data": "BUuwJAMvf0BPIywXoQCAQEVRFAXVbX9AMKC/oBJTf0Czw9SlSkF+QF9uiAHbR31ANMQfl6Y5fUByYOnkm6d8QHTRRTeq031AdmIn5rf7gEAcx3EctaB/QIsIXdpGioBA+4a1XxNsfkDw6JWRepd9QA==",
        "encoding": "base64",
        "path": [
         "_data",
         320,
         "x",
         "value"
        ]
       },
       {
        "data": "IhOjVdw/g0Ajn3XT4sSCQMJ7ZEdbMIVAvoT2Us+nhEAqTwudGwaFQOhrfP5X3YVAt3Gr1tuUg0CGAjoW0JKCQB92IVfdF4VAyS+WLE94hEDZiR0bMMiAQAUvp5BylYNAlD7ps2yUgkAlSZKwZ56BQLyywDvK/IFArJhBN2YcgUB0Y55+W4mBQA0ndSe2X4JA1K35aWoxgUDndJX39bGBQEnF3AoMDYFAFtC4p3HAgUBqNuxvUwCCQLKrYfmqzIBAYyI9CPQngkBP6GrVrFKBQCVJkvQOf4FA",
        "encoding": "base64",
        "path": [
         "_data",
         321,
         "x",
         "value"
        ]
       },
       {
        "data": "nSDcraxngkCw+Iov9jmDQAAAABCyw4JA8tulTjQVgUAeHh4CYCGCQA==",
        "encoding": "base64",
        "path": [
         "_data",
         322,
         "x",
         "value"
        ]
       },
       {
        "data": "0otDJIjngEBYqqCU1MaAQCAu1PxGz4BAIQ3SEDiRf0DM2xl6zzGAQC2mswg0xn1ADASsruzbfUCF+V3FYLJ9QDC1v/S+XHxAqeFvM5AIfUCh4aQ+Y56AQDi96ScFv4BAHMdxfHNxfkA=",
        "encoding": "base64",
        "path": [
         "_data",
         323,
         "x",
         "value"
        ]
       },
       {
        "data": "AABA7ASbgUCU11AG/AyBQAAAgPcnHYFAxpJfnKeIgUCc3vSGCiyBQExoL9VTuIFA",
        "encoding": "base64",
        "path": [
         "_data",
         324,
         "x",
         "value"
        ]
       },
       {
        "data": "NfTqe1EahUCm7QtF/S6DQKrVv0pWmIRAYN3+xXxugUB55JEXw1+FQGc6HIWU+4NAz+21BLNJg0By3y0lQ9KEQB1ItEo/BINAbF2hOUiIhEBjY2MXgvKFQPM+xaWQNYRAZsdzUlHpg0CfgagU8FCCQHZiJzbjs4RAc4Bl+3wJhEAjLPf0Mq2FQKiDOmiyiIZA",
        "encoding": "base64",
        "path": [
         "_data",
         325,
         "x",
         "value"
        ]
       },
       {
        "data": "wA2s73aWjUDVGLYsNaqMQIkDm7cBCYxApvxXumw7jkAQZBc+lFCNQM8NCDrXT4pAvNovbjapjUA4cOBIbjSKQCRxO5JZuYtAdmInZj/Di0BzKmWbXLyNQDXnYrFZeYxAfFB1uhlIjkCRVHH3ipOOQCVa60782oxAnPFG3AUTikCKcj23okePQBAuQyDdII5AQgkdacl9jUCXPhs7SK2LQAolGlBNQo5Ay4MgMkE9i0CHJ8pherWOQEmpXrave41AINDR87aBjEDU2yM5Bg6OQAg7s34aXYpAJLiPKH3Mi0AIpOBHvg2NQEITkBpf/IpA7Yy6oCwTjEB4pL+e8cCMQD/2Y0EtioxATCY1lYwgjUBymq/tAq6KQNmJnZghZ4pAz79rvRr7jUCwLqQVVFWMQIEzroVKHo5A593Wi9wijUC5OTJOxPqMQAntJZTut4lAfbo+XcsfikAoJuysIwCNQDC4ax7oJIpA5lwD2H0ZjEAQNh6tcKWNQIJnUMVLd4tAJA0BEuT1jUBlwxFDbZqNQFOinIHHbI5AYedr0mFcjUBmtHLMcvSMQBPaS0A9iIlA/u4p6aonjUAOSwwt3AKNQLVPEoVSPI1AgDoCKIgWjkBjwbMUQICNQMb2O87b5IxA/2xyX2jIi0BCHrvYb4qNQOJsCPm9N41AREREZor2jEAkYu/f2WGLQKvu41rY2IxAHJNPKPfoi0DZMxAV+QWLQGC190+7/YpA4CraBc3CjkArvFsTPDyNQJLvphFjtYtAwwJcXuIrjkDXUwb47rKKQGfwma5CuI5ACVqE+/nHjEDp6zH8o/uNQPQFfXFX6olAWoPiaWhuiUDj21CTznyLQL2UCHay3YxA/v7i74KTjECs87A8l1mKQHc+iw03g45APF8Uv7nojUBEHBMwINqLQFCsjYJmNo1AmaTVcXs3jECNesOuC1WOQJI45jf8b45AgiPc5Dnbi0CpKQ+L/SCOQJihitFLXI5A9mau6v7Xj0AGFEZ91EOOQF100bW5n41A6WAofikPjkCamVmIRliLQOlgO3a+eolA05hp7DKSiUB2EgSPNXuOQJUgTwm/8o1A2WSTVm2MjEA+p7ag5CiMQDAxRAfuuolAW2dfDOyfjEBLfKYsUO6OQHrTm76DEo5AT+4umfhvj0CcrUOrvgePQBeiry3mZY9AqY+IBRCVjUBRTiDaQ5WNQDhl5PuhBo1A3dpfDURDjkAIB42Rcn6NQNCpeP2hqYtAaOoNcoV0j0Dq5aynuu2PQH/zoyj5v4tAfBphAjVQjEANkYi5jveMQG3RBCUcu4xA1X15ForPjUBbNMaZpqOOQFfYHOgpxI5AOhyYrK45jkA=",
        "encoding": "base64",
        "path": [
         "_data",
         326,
         "x",
         "value"
        ]
       },
       {
        "data": "EpZ7mkTEckA655wD/p1uQCVJklKr+HJA2IIt2P5+bEA=",
        "encoding": "base64",
        "path": [
         "_data",
         327,
         "x",
         "value"
        ]
       },
       {
        "data": "30+Nh0yycEAESmuicMpxQDHxfqzQynJAeEwNrCrrdUCVo9NPFvJ0QBQWpxiQV3JA24xa0w+dbUA=",
        "encoding": "base64",
        "path": [
         "_data",
         328,
         "x",
         "value"
        ]
       },
       {
        "data": "EI31sRCzdECIh4dHPkl0QHIcx1EN8XFAPb4L91ffc0AYsM1JxXp0QOHg4JCbvXNA3qTozACQcECVPMv4k+VzQHsGolIdzXBAa6t4t+QKcEBno77XCQJqQA==",
        "encoding": "base64",
        "path": [
         "_data",
         329,
         "x",
         "value"
        ]
       },
       {
        "data": "iQCLCXO1c0At4hMwnSN2QBjhRRgKxG9ADvghuAMtdUBVVdVRY71qQITutkfIbXBAeQ3liVasb0Bcl3fgze5zQA==",
        "encoding": "base64",
        "path": [
         "_data",
         330,
         "x",
         "value"
        ]
       },
       {
        "data": "AvQ7xMmlcEAj3FLzus9vQIGN0db5+2dA8tulPjAMckDWgCuGiLFzQJXzYMIXknJA",
        "encoding": "base64",
        "path": [
         "_data",
         331,
         "x",
         "value"
        ]
       },
       {
        "data": "AAAALBflckCrqqpyhp5wQM3MzGwu3HBAchzHcQDOcEAvuuiCYIdrQAAAACA/SmpA",
        "encoding": "base64",
        "path": [
         "_data",
         332,
         "x",
         "value"
        ]
       },
       {
        "data": "JWpXAuzjbUC1tLTE14ptQGApUEvWHXBAEz2dmyX8ZEB605s+t+dzQKAxTQYcR3JAd16k/jD6c0A=",
        "encoding": "base64",
        "path": [
         "_data",
         333,
         "x",
         "value"
        ]
       },
       {
        "data": "62jzThF0aUANRgGnVklsQMiy6veZl25AkO1+eG31a0Dj+RyxoHdtQNiCLZQETXFARIZ7NQsmcUC3bdvl7Z5xQKuqavWdF3BAnOVJpIIqb0DkOI7nFbRvQAcSrSDrM3FAmQonTq4Qb0BNmjQJmIRrQA==",
        "encoding": "base64",
        "path": [
         "_data",
         334,
         "x",
         "value"
        ]
       },
       {
        "data": "jtzIaRCTc0C1dLi19ltyQJsWaRQf7nFA2uMqEFmTb0Dbtm0ba6RvQOMlMF0doXBANwy5uP82c0CN+M09P55zQLnOBBCRnXJA",
        "encoding": "base64",
        "path": [
         "_data",
         335,
         "x",
         "value"
        ]
       },
       {
        "data": "Iyz3dMe9a0A8PDw8t7FzQAAAAED1ZW5A5DiOOzzZcECxEzuB02lxQNu2bVunSnFA",
        "encoding": "base64",
        "path": [
         "_data",
         336,
         "x",
         "value"
        ]
       },
       {
        "data": "inzWXT0gckDeGMHEtntrQN8OEh8CiW9AEpZ7qgkZbkBZD4ek6dlxQB6QrBPO+3FAxMPDU5drcEDsxE5sUUtyQA==",
        "encoding": "base64",
        "path": [
         "_data",
         337,
         "x",
         "value"
        ]
       },
       {
        "data": "Si0IbQaHdEAqv4UL4M1zQO+AvdXn1HNAZdD4Z8B5dUCqc3J1Z5h0QHta5CRd8XRAEn4MivpHdEDR6SR7+P9zQL4cKeAOuHRA",
        "encoding": "base64",
        "path": [
         "_data",
         338,
         "x",
         "value"
        ]
       },
       {
        "data": "TLwfCWW4cEAXXXTdPU1xQAcSrUAXb3FARhdd1IwXcUAnGG+V++5wQOEgemyK0nJAmpmZ7SbFcUA=",
        "encoding": "base64",
        "path": [
         "_data",
         339,
         "x",
         "value"
        ]
       },
       {
        "data": "0Zw1CMRrckBiJ3YyafpwQHqe5+s2+nBA",
        "encoding": "base64",
        "path": [
         "_data",
         340,
         "x",
         "value"
        ]
       },
       {
        "data": "jCW/+KJVb0BHT3D0YbFuQPMrGNpZRnFATGgvhQsecECY9X5JeMRxQMb2Oxq4q21A",
        "encoding": "base64",
        "path": [
         "_data",
         341,
         "x",
         "value"
        ]
       },
       {
        "data": "5QHJOlceGECunyQUS+kBQLdt27Zt2wlArlgDrlgDIECAjhYjGkUFQLAFW7AFWwhA6vfcEqd+D0C0bjBFPusSQG7AUE3HXP4/tnWX+L6oBUDkOI7jOI4DQA==",
        "encoding": "base64",
        "path": [
         "_data",
         342,
         "x",
         "value"
        ]
       },
       {
        "data": "Xd4BR4qGCEBZ8oslv1gMQKuqqqqqqg9A1E8//fTTB0B4DLv1ZfkEQImpxFRiKhFAkJR/6NsaCEAgCskFvN4OQIiHh4eHhwNAuDMk5u0MBUAKz/Q36HYFQAAAAAAAgAdAj7lEeFKQBEA=",
        "encoding": "base64",
        "path": [
         "_data",
         343,
         "x",
         "value"
        ]
       },
       {
        "data": "Re1K1K5EBUBoL6G9hPYKQFVVVVVVVQRA3Z+cS2KZCkCVUkoppZQKQFVVVVVV1QRAIBuQDcgGDEAk7og74o4SQMZvl3oyfgNAMTYLqj0nC0A=",
        "encoding": "base64",
        "path": [
         "_data",
         344,
         "x",
         "value"
        ]
       },
       {
        "data": "ZEb8tAekAUC+75RT9Wb/P+sWfIGoSwNAXanWS48vAUD7jQd5wtkAQA==",
        "encoding": "base64",
        "path": [
         "_data",
         345,
         "x",
         "value"
        ]
       },
       {
        "data": "jxgvFOSqCUCxdWM2wnAFQA9HxRLXTghATdG01L/0A0DGtL4tS1sGQHjfz0kk2gRAJiSdcRJlB0AL0fybJP4KQOZJZBq2mwpA",
        "encoding": "base64",
        "path": [
         "_data",
         346,
         "x",
         "value"
        ]
       },
       {
        "data": "AAAAAADgJkCrqqqqqlocQA==",
        "encoding": "base64",
        "path": [
         "_data",
         347,
         "x",
         "value"
        ]
       },
       {
        "data": "qbn/9uFlBUAm7zucDm4IQAdYRaQwzwVAT82D3PWzB0BtFJRx90EQQJo6v/aQywpACfCMAM8IFEA=",
        "encoding": "base64",
        "path": [
         "_data",
         348,
         "x",
         "value"
        ]
       },
       {
        "data": "QxiduqQRAEAu5EHChOAAQAoNJNycoghAY2Qm5OJ6BUBggdAgtrD9P47tH3E29fs/xhSKSsJWBkBZv3PmUuMMQNR59GE/ZQNAP4L7CO4jBECTqj127s0AQFaQn0/zlwdA8id7YKFAAUBBTK4gJlcMQNu2bdu27QRAalZkc+uI/T/Wh8b60NgNQA==",
        "encoding": "base64",
        "path": [
         "_data",
         349,
         "x",
         "value"
        ]
       },
       {
        "data": "BaWBg01rC0DFdQ+qTmEGQN86gtJsugRAjz06VLMfCEBVgm3XaPwBQN1m8CNHYQFA8vkhM6hsBUCsmEGHT68GQGlsF9WUxg5AkRZFdTlpCEAI3652iiEHQJBZ7joEmQVA",
        "encoding": "base64",
        "path": [
         "_data",
         350,
         "x",
         "value"
        ]
       },
       {
        "data": "Fx/KlFnaBUCyq4vE3G8EQPxU0uBrpQZAd1Oaom/EDEC4DPjkcBkDQDmqAH/BXQNAEP8VezNGAkCWlzZTgYQIQCQZHXAo9gNA",
        "encoding": "base64",
        "path": [
         "_data",
         351,
         "x",
         "value"
        ]
       },
       {
        "data": "sl/GaOQaC0Djp8U2floQQHdc/6vZTwxAKodlZ644D0AX78p8JjIGQLizXybkpAxA5czhVrNSCkAthCrHFK4CQCurixLjjQVAC2iCXuu+BEDpcH923sUDQJRKPcWa/whAsNP0lIsXCEA=",
        "encoding": "base64",
        "path": [
         "_data",
         352,
         "x",
         "value"
        ]
       },
       {
        "data": "G/cFYwXzBkBt5udBtPMFQEr4JYCwcwZAgkDqjTY4C0BISF4r0uYKQA==",
        "encoding": "base64",
        "path": [
         "_data",
         353,
         "x",
         "value"
        ]
       },
       {
        "data": "qBZWemphD0CNDktnYy4GQDCmgpGizgFAzUi03tZy/D/fi3cMVYoGQOGC+R6J4ApA",
        "encoding": "base64",
        "path": [
         "_data",
         354,
         "x",
         "value"
        ]
       },
       {
        "data": "kRFgZVr+BkD/8i//8i8PQAAAAAAAVBNA/AaBmvgNAkCU11BeQ3n7Px8NnGimNP0/qX5OWMM7A0Bn9JV/joQAQI5uXOToxgVAqdbyOprAAUBcTC0F3IYDQJUqpsAh2wpACUrW75y5BEA=",
        "encoding": "base64",
        "path": [
         "_data",
         355,
         "x",
         "value"
        ]
       },
       {
        "data": "sZjgCJD6+j9MgBmRvgQAQOcbtWoya/8/eDbqOxv1/j/57VJPxm//Py+66KKLLgpAzfoz+E30AkAtZCELWcgCQLc+m/H9kfo/jJNB5IGrAEB3bJ+xXD4BQGqg0Um0HwFA4o64I+6I/z+4monu2dACQDhGMNHfyQJAf7/f7/f7/T95DeU1lFcCQPkuHESP7wpATfslpPpyA0C+3BAD0rEAQA==",
        "encoding": "base64",
        "path": [
         "_data",
         356,
         "x",
         "value"
        ]
       },
       {
        "data": "h5gtbjWh/D+Uavk+hOL+P9a4WCCp5QBAhHLmLesbAEAupWPmCWwEQKhMOwdrlgFAhlPpbB6rBUA=",
        "encoding": "base64",
        "path": [
         "_data",
         357,
         "x",
         "value"
        ]
       },
       {
        "data": "1DLycQt8/z+OqIGysNYAQH3lnyMheANATwMplt86AUCit+9V8wkDQM8ezhMpaAZAU8G1PYDyA0AIJXeKFs4EQDm42S/EigBA44Hdv5SE/j+fG3QqSi4DQEU1u8jV5v0//wTTlMQWA0DZ2NjY2NgAQA==",
        "encoding": "base64",
        "path": [
         "_data",
         358,
         "x",
         "value"
        ]
       },
       {
        "data": "s88hNcF4/z88sD1/GsAAQCe8NqCnWgFAz/yiOTyq/T/VlgAmE1P+P+NPGdopYfs/9frmLLjQAkAFaFKyaJ8MQGOMMcYYcwJALsNic9q//z/pGxXlYeMNQAAAAAAAAABA+qRP+qTPBEALWchCFrIAQJLZc5dk9gJAgs/dJCrjAkA+xJ5IfR4BQPtrXaG5nQRAFLZmnH98AkDeVTZbAJb+PxlUhFtqNvw/zJJyQGS4AUCPNDX59SECQL/tf9UNNQRA2mrwHIGiAUCKp/Qs+c8CQEiXEX8y3ABA",
        "encoding": "base64",
        "path": [
         "_data",
         359,
         "x",
         "value"
        ]
       },
       {
        "data": "yPBYdfGeCkDoeZ7neZ4TQPf29vb29hBAaaSRRhppDEChDuqgDmoRQA==",
        "encoding": "base64",
        "path": [
         "_data",
         360,
         "x",
         "value"
        ]
       },
       {
        "data": "YoyXIG9x/T8xKMKxk9z8P0jfSNioCwBAzaYGLVi3AUCVFTH8nPEBQMgtmo5qFwNAmldfpPegAEB/9PrR60f/P36yuWcwsAFAoQu+PGVTAEDqzx0Hucr+P116P0hXAwBAcswUugsPBEA=",
        "encoding": "base64",
        "path": [
         "_data",
         361,
         "x",
         "value"
        ]
       },
       {
        "data": "6y7xfVHLB0BYfMVXfMUHQH/271Tf+AtAdCkGzQKjBUDFTuzETqwIQOxe97rXvf4/",
        "encoding": "base64",
        "path": [
         "_data",
         362,
         "x",
         "value"
        ]
       },
       {
        "data": "iTJB3/xf/j8dKC0UnB/+P3xDYTzra/0/gGTMq1sBCEBIQM2uF1n9PxdfVJZ21wBAPG8tn0Q1/j+0yO3nzT0CQCaaxxce4gNAUQqoUXIGAUCy+nZ9CKj9P7VVE5iOofs/f1wLRMFb/T/hLTsnRZj/P6a3z1Bievs/w9T0TmL1/z9pVq8wYTMCQFA5u4VfjQFA",
        "encoding": "base64",
        "path": [
         "_data",
         363,
         "x",
         "value"
        ]
       },
       {
        "data": "mLTqghY7/T8jTPrICJP+P/TW/cm5JAJAl0J+05N5/j/N2020UOP7PySkXbdzVQRADsh+vZNoA0CQcUHGBRkLQKRBjyIP3wRAz0MKmYykAUA8BEzhmJ4BQF1K/pslmARAMY6ahk9L/D+jyq1lse77Pxs+f8xRuv0/didLryQ1CECMKF+8e8v8P6ZJQxnHBAFAqQxWbf6YBED4tCadXD0DQDJxzR9wmPs/ipeSTme7D0Ahe2qJHfT/Py1ncOB9xQNAmUPEt86KAkABwcdN/M4AQPh0dK8uBwFAoF1Rdqb3AkByLynDXU/+PwHX973sWf8/RStsDiRaAUCAqsy0ocUAQJ4Yo9wv9Pw/6W5tE6Fh/z/FV3zFV3wBQAVMqdwJmAJAYmpclmThAUBOBpEHrqL9P7kmArkmAgFAyT9lzybJ/z/4o8peG4r8P7940dgvXgRA1p+NhZCvAUDzR/8YTCAAQKUKQNWq/wFAw2nSiv3q/D8gKEPSuMj+P5JAxoS0wQRA3jZ4c2UwAkB6K0iMMOoAQL7JZevSmv8/TbBsVF/n/j8O/o9gFogBQJK5GZmbkQlAXaG5ncqj/z9FB2ax7E7/P0AfYG3QfgFA7iFK7fro/T/u1I/5p0P6P6YsggUf1/4/w9OUGE5H/T8p/AbcElL9P6n/iinCMwBA3U+boFQ9AUD5wjR7WogDQNyDh8RjjABAlxaXBdkyAEBiiwwT0ZIEQBrXeJ+k+gNAT/iNtb7Y/z/K5lRMcp0AQJAnEL6PGP8/fTTCgUbr/D/bav1HSaUEQMEcl2xTbv0/4eG/NFGj/z/bBJ34Xhb+P8yaPkPovv8/3K3kncLdCkBUSk/z/rADQEerlRb3mPs/W2smkAMC/j94+nTEoVoAQJI19m4WV/o/cf+z8jIE+j+YktCHTPb9P8gkSsqX2P4/O3qX5XuI/D+mudFdXqf+PwATQpXQBABAPsTCaPa2AECvxvW3jCb6PxH8XVMEf/s/y9leH6XC9z9xgYUf3RH+P7sLgX5ew/k/3BSjhr9N/D/zdobEvB0AQALKS3sqfQJA2xtxo1zGBUATp+K3SFL8P8PaiFkG7/s/6r9b9Jg1A0CMimgE+j4AQFStTrurUhBAgPCCVaCsA0D1BJa5+hX/P2R/LCU7+f4/t1a87Gp3+T9iYvn1gc/5P4d+s3XoN/k/qZAHbaBG+T9M/+7Brmr/Px/v/4I3Ivs/TxangrSY/z9JPi2UuNkAQEONKUvvcgBAbKm8ko4ZAkAy/UPPHe35P/bWhmnuAglApBKRSkQqCUAFsR/frAkAQAdT5LNuMAVAqohaJdZ1AUCmfLzJ/Gf5P6iRxOLSc/w/mJgfaO4o/j8=",
        "encoding": "base64",
        "path": [
         "_data",
         364,
         "x",
         "value"
        ]
       },
       {
        "data": "lEBcqDkJDEDbtm3btu0aQGIYhmEYhhVAaWTD+JeI+z8=",
        "encoding": "base64",
        "path": [
         "_data",
         365,
         "x",
         "value"
        ]
       },
       {
        "data": "TWbtMQ6JAECmrnm3RPUBQOvnhDW8M/4/5Uh09nwQA0Dz5my7Qc73P8dxHMdxfPY/PLVsZwYoDkA=",
        "encoding": "base64",
        "path": [
         "_data",
         366,
         "x",
         "value"
        ]
       },
       {
        "data": "Cj9m55/wC0CGB8bNRsD/P+rwodNjXwFAuUHV8ERSCUCU1uRn368BQD7kQz7kQ/4/ShTI20yiAEAS4ZwVGmYCQFAHdVAHdQxA39owzV3w/z+Jc/tmNqsBQA==",
        "encoding": "base64",
        "path": [
         "_data",
         367,
         "x",
         "value"
        ]
       },
       {
        "data": "4aKyqzuQ9T/v8FXnzQv2P2kGsjTUlPo/sHUVwvEa9z8RV+zz6cIAQN/7mBdz3Po/XNjHhX1cCEAfxv26pPIBQA==",
        "encoding": "base64",
        "path": [
         "_data",
         368,
         "x",
         "value"
        ]
       },
       {
        "data": "uNuUHtoa+D8nGBVFBM3/P8z4M9IlbwBA4KXTvQZe+j8+tLx9vYn8P5vnNNSiuvs/",
        "encoding": "base64",
        "path": [
         "_data",
         369,
         "x",
         "value"
        ]
       },
       {
        "data": "juM4juM4BkDKJptssskWQNu2bdu2bQVAlVJKKaWUAkCO4ziO4zgeQAAAAAAAAAxA",
        "encoding": "base64",
        "path": [
         "_data",
         370,
         "x",
         "value"
        ]
       },
       {
        "data": "XJd3wJGi+T/0F9BfQH8FQLuirqgr6gJAq801bhcTAkBu27Zt27YJQKlJQNXzofs/Cx3ver7S9D8=",
        "encoding": "base64",
        "path": [
         "_data",
         371,
         "x",
         "value"
        ]
       },
       {
        "data": "9A8qhqe5DEDHDgn1rjkLQIFcXCnX4/4/vy69FUYbAUAP5/tCKDYAQJxHqD7TVgBARHxRyGHw/j+Kns7tteQEQM3//vrmggZAcKj8ergUA0BaROhSajAHQLoH+vgzTAdAIeiDoA+C/j/7Z/E31KcEQA==",
        "encoding": "base64",
        "path": [
         "_data",
         372,
         "x",
         "value"
        ]
       },
       {
        "data": "yWXXw/33+T/abYe8joL8Pz9s7fZI0Pk/YdF5ycKxDUB1NOYiK00MQCiS487tCgJAg7nJAfkP+j8vQmsH1CP4P+i+ONURavo/",
        "encoding": "base64",
        "path": [
         "_data",
         373,
         "x",
         "value"
        ]
       },
       {
        "data": "MzMzMzOTKUBVVVVVVVUlQIiHh4eHhyNApqWlpaWlI0ChQoUKFSooQES/2Tr0mw1A",
        "encoding": "base64",
        "path": [
         "_data",
         374,
         "x",
         "value"
        ]
       },
       {
        "data": "GzA5hjk9+j+rJak9feIAQDuKzK+jyPw/UQB9XBHb/j97DnUwc+f1P4UXEoQqg/8/JUmSJEmSDEDzLd/yLd8eQA==",
        "encoding": "base64",
        "path": [
         "_data",
         375,
         "x",
         "value"
        ]
       },
       {
        "data": "knexD66R9z8/y0goXsr5P09P3A1nI/k/v/zjTvkq+D889tO2lNn3Pyr6I6TtIPg/E9iOSuFr9z8aQ7lo9Qn+P2tGxMZ+jPs/",
        "encoding": "base64",
        "path": [
         "_data",
         376,
         "x",
         "value"
        ]
       },
       {
        "data": "fAKp5LwsDkD4I6f5Wj0fQBLwzauJZxlAHRX44uoHI0AaFlwq27scQLf6/GurzxtAtm9Y+4a1GUA=",
        "encoding": "base64",
        "path": [
         "_data",
         377,
         "x",
         "value"
        ]
       },
       {
        "data": "OLvWgICzA0C5Dl71dPkDQHclaleidglA",
        "encoding": "base64",
        "path": [
         "_data",
         378,
         "x",
         "value"
        ]
       },
       {
        "data": "Vz/oqMAXB0AuEZ4UJH8KQJoaHofVBf8/RGqC8Vb2CkAhoLm+v4z6P3gs79UWuQJA",
        "encoding": "base64",
        "path": [
         "_data",
         379,
         "x",
         "value"
        ]
       },
       {
        "data": "AAAAAPBvnkAAAAAAwPKYQEmSJElSGZpA7FG4HoV7hUBewbSSg8GVQHzY+jZg/pNAzczMzMztg0DkOI7jOO2BQMFfxQkp041AtbS0tLR6j0CrqqqqqsWQQA==",
        "encoding": "base64",
        "path": [
         "_data",
         380,
         "x",
         "value"
        ]
       },
       {
        "data": "NG8gNG+UmUCNsNzTCJKXQAgffPDBbaFAd+7cuXMrlkBgIi43edKWQCSn+Vo9a5VAwWQOAm7tlkBItMLmQHySQCaTyWQye5RAMzMzM5NKl0AZGRkZGRGaQLdt27ZtBZZA7X6j7H5HmkA=",
        "encoding": "base64",
        "path": [
         "_data",
         381,
         "x",
         "value"
        ]
       },
       {
        "data": "AAAAALi8mkBhHW3ep2CQQIqEU5oXt5VARqLU2MPInEBltbwxgnGeQKgRlnsa45RAN+9TXDLUkECllFJKKdeaQNInfdInQJhAJUmSJEktlUA=",
        "encoding": "base64",
        "path": [
         "_data",
         382,
         "x",
         "value"
        ]
       },
       {
        "data": "Fvx0lH4fikC1HOSAhLOHQOOH/zmbIZFAJM+f6mXtkEAIrQ/wkp+QQA==",
        "encoding": "base64",
        "path": [
         "_data",
         383,
         "x",
         "value"
        ]
       },
       {
        "data": "xyWuhrGsmkD9ALurTOKXQBJRUoHUWplAU6bnxDhwjUBg25+D+bKOQDTKIwGJgotA+bt5hOqqhUA/IENSZ1OIQGgSvWcSLYZA",
        "encoding": "base64",
        "path": [
         "_data",
         384,
         "x",
         "value"
        ]
       },
       {
        "data": "J5tsssn6gUCivIbyGqR8QA==",
        "encoding": "base64",
        "path": [
         "_data",
         385,
         "x",
         "value"
        ]
       },
       {
        "data": "M8OZ3yprlUAxuYKYnBeWQJMZJrYuPZVAuFIhFxnIlEBywl8LmAaYQFQRSvZlpZdAOKDVHNGFm0A=",
        "encoding": "base64",
        "path": [
         "_data",
         386,
         "x",
         "value"
        ]
       },
       {
        "data": "qRQ97I1aoUDaEZgBSQuhQJ4xdYcr0Z9AmLYvFKb9nEBOcvwX3s+cQO3QXkaLIZtAbDR0H6wjn0DAIWHG6aqiQJfoFduOrqFAZEaH+Ji+oEA2CI1J+pudQApF4zaAMaNAcRhFlZnInUCWZVmWZZegQIOXU/ByWaRAD/1m66DNm0ACImQKuyeiQA==",
        "encoding": "base64",
        "path": [
         "_data",
         387,
         "x",
         "value"
        ]
       },
       {
        "data": "gljULSnrk0AxtzojVaaSQMuY/7KMVZRAf2IFSOM9lUB4Rvwq+2+LQJ96rOnsyIlA1rqqLfkLj0DZ4NuJwJaPQDVjA2m3TZJA/fVcxbJRkEA25Fp2CiiPQC8ohrMh+otA",
        "encoding": "base64",
        "path": [
         "_data",
         388,
         "x",
         "value"
        ]
       },
       {
        "data": "kAhowGPglkCg3To4AByWQO1qQfMteplAb4113Rr8mUAZD6ABu0edQHON735QwJlAWwr7BbUNmEB1tp1DLOacQK2D4AhAY5tA",
        "encoding": "base64",
        "path": [
         "_data",
         389,
         "x",
         "value"
        ]
       },
       {
        "data": "rRPoAsugnUAh9I9uY0CfQPqhdZ0fZp1ArfyEOKsGn0CEbCDx5TOaQHVZjobHZp1Ai9L4yAQpn0CxaIB7sT+eQP51p0qiJKFAmEktCMVLnkBxg8czu1OeQDH1L1sbk6JAgv+ozVVlnEA=",
        "encoding": "base64",
        "path": [
         "_data",
         390,
         "x",
         "value"
        ]
       },
       {
        "data": "9vK4x4ZJmUCAVsXMNoiYQA51WapBX5ZACGgptFYRmEBOyNmKGQGaQA==",
        "encoding": "base64",
        "path": [
         "_data",
         391,
         "x",
         "value"
        ]
       },
       {
        "data": "hPTiEIURhED2AYx56IeJQLovCYB414ZARNIKHx8GiUBfBlA9IpiSQEnF3OqMt5dA",
        "encoding": "base64",
        "path": [
         "_data",
         392,
         "x",
         "value"
        ]
       },
       {
        "data": "zGEOc5hrl0BsRdBwUsiZQF9H6nWkVpxAw/UoXI+yokDU2ft5yhyeQJb4kq0Wt6BAjEFFuKXwoUDi1O+5pWOaQBE3Wo75Ep9AChkbrWrZmkDrD/RICWSfQKok+JNy+5dA2bpnZOk9nkA=",
        "encoding": "base64",
        "path": [
         "_data",
         393,
         "x",
         "value"
        ]
       },
       {
        "data": "i+YmiNxCoECd5mv17FCiQK5H4XoUcaJAWHiFV3gPoUBFE0000Q2hQO/u7u7uNqRA5V+wlvDToUAAAAAAgCejQO+99957v6RA0s9qiD08pUCEkXasgEumQNnuWDx7RqFAmpmZmbnxoEAKdxGCmZqgQIgVpfGRjp1ALOnlT1u8nEDQusEU+cihQDeR3UR2J5tAH4XrUXhCp0B9aKwPjTqmQA==",
        "encoding": "base64",
        "path": [
         "_data",
         394,
         "x",
         "value"
        ]
       },
       {
        "data": "9DkNTHWSm0B3tf5Ok32aQHNPIyz3P59ArIEbHcinnUAQxJIqlGahQP+dCQUb26BAwWQOAm5woUA=",
        "encoding": "base64",
        "path": [
         "_data",
         395,
         "x",
         "value"
        ]
       },
       {
        "data": "szqMMpUfnEBueBMXoBSZQDmyBiN8K5tAAAAAACDhnUB+p616fcadQGZmZmZmdZ5A0Bp2V4f2oUCg28Brd4WgQJenvih3sZ5ALJ0bi8Kvk0CaDT3qN1WXQCSqCPF2HZxALT51zkpLnUCGT2Y31DWaQA==",
        "encoding": "base64",
        "path": [
         "_data",
         396,
         "x",
         "value"
        ]
       },
       {
        "data": "Y0WdpanAlUBthBwNONmXQOTecsz4ZZVATPqtxXLPk0Dt9SBt0xKXQFja83c/sJNA43SEch0TmUAJfU6UqwiiQITLKKYnm5lANk2QyjmPmkBvOadh4b6gQAAAAACMo5lATtthUNQxnkDe+jpjNvSSQELch0Hc75ZAqiEQ7aYXlUD9oKMCX7CUQD82hgfTJpRA1nLlF4T3kkCH1ATjraqSQK0MhJ89Y5NAi8bPqbeilUCrJ+KMaDCUQJcuJ+aO5JZAeeKukQOtlUBGMRCNNKeXQG0vg2QO15RA",
        "encoding": "base64",
        "path": [
         "_data",
         397,
         "x",
         "value"
        ]
       },
       {
        "data": "TdJbU3cWlUBZB9rurfKXQOw9CZ5BGZNA0iAN0iBFnEBzqzNSMUmVQA==",
        "encoding": "base64",
        "path": [
         "_data",
         398,
         "x",
         "value"
        ]
       },
       {
        "data": "7V+IYmYKiEA+feLwPECQQBF39jTRV4xARnmA1syVkECHWQX6UUWRQE0xY3f5cpNAaxm4qcsyjEDQ/DLQfDWLQI31obH+k5NAQSKaNXHNkEDCR26BnDmWQGVjGC2S45BANFpgODwnlkA=",
        "encoding": "base64",
        "path": [
         "_data",
         399,
         "x",
         "value"
        ]
       },
       {
        "data": "AAAAAAAmmEBe/ImEUwqbQGVNWVPW6ppAVVVVVS0PmEBrGO035XWaQLlX0C4P1JdA",
        "encoding": "base64",
        "path": [
         "_data",
         400,
         "x",
         "value"
        ]
       },
       {
        "data": "sUWAelXRj0A0T0FnzleQQOBgo/IDjpBAB/6ThdfBlUBE2UesJ4aOQKBfZKZVF5VA7M+kFcJ6kkCY3lvDZmWPQOX4De3PgpJAQa1fKVDNkUCYUhgzBJiFQPhGvvYpPINAUgniZvlFhUBSg0rBDjKIQMiPHOAyD4tAxk+kcl6fkEACfuLkoTmGQFTObuFXw4hA",
        "encoding": "base64",
        "path": [
         "_data",
         401,
         "x",
         "value"
        ]
       },
       {
        "data": "nyGYQ5i6nkCIMA9NEOKaQPwv8K2GZaBAhFED3vQXoECsYgQojTybQAIMEbO4ZJ5AcPcn8El+okB32Y6e3sWlQGl6EIymgaVAS6+liIDQo0A9TBjO0ZKkQGsgkpcbe6ZAS5bCfPpKm0DRMgWrBB6YQFF9l361j5xA+DBjK9uNpEAi1JLAZq6eQNGzD5qQKaNA2RYeYygBpEDp31OTCriYQHkvCXALEZZAAHnCZuCfpEDe1+YhbSClQC+Agb+IcqRAjXYPW1/GpEDdfAZFcVWiQNgzZ6f3caBA0CZF1YFNpUBkjaeJmXugQJ7pZiaJx55AEf0fq+1TpEDbH54HY8ejQI6AO5BHjaJAIoxhP4DBokDO6xDdPzCnQOWwB5GcXqJAjvFu14NdpEDJeghUQ06dQIv8D/ZtXaVAZl8nL3UxoUCBMNKOFYyaQI0KooE0GaNAKiqxXTmYn0B6U+1dlsigQOAUZQSc1KFASemRJfFMnEDwkUxUpUSZQAsBtXpFVqJAogdXE3bel0CILKUmc/uiQDi+pzr3pqNA4i6vLbUtokAWGj+00j2hQFS8lrEwhKRAajkiIy3toUBUsgnL8wudQLg4pOMtbp1Ave+I1fsMn0DAvsdpE6qIQFgJY7Og0p1AYg2RsHc6kUAFhmfBsQyVQO0yy4kJjp9AOzI2Qfyjn0BSxPu0UBWbQHx6VO86B6BAib/w8zcTlUD05K39Yl2aQEDji42AH6JAVckmZBbCoUB9UFkk4vyiQK2gu9vjz5tAMDIPHFuRn0DsLF57xYmdQLmhYufn/JpAyn1nNPNfokDkvi8Q44uhQEk5y0FyQpZAwHQireCHpkApem5L4uOWQJaIPSqi/5pAPyxG2dWFnUBBauFJLKOSQGcmdGZCsZNA8PK6AE05lkABsXQMwmCdQHOci/W++KBArUdopv2rmkAa6KxlxIWjQKZb4cH4u6FAql6vPLfZmkBJs4G455SSQDo1D3JXRKJAFz4pjcjrlEDIsPlpu7+eQLQvKrAJspVAvChK7T/QnkDRAzIWt/GeQDfpARJRkaBAwHOavcpRpkBOZq0T9HKbQBlw+eiQbJ1AILQtvwBsoUDqbyZC87GZQAaebs0PkaZAzoJqz8nMnUAmWqIl2rakQF4h5ahs/KJAIG2FhczMm0AG+3Hny4+dQJwo+65LMJ1AulnKsPDglECmZZznWhSjQPGAmHguBqBA4zRgUjM2pEAqeQSPOxWiQK2AtQJG5qFApup4NqX8pEDz7WLgmo+dQL7DCAgyt6RA8aHQhjHFpUCMt7LPIbuXQCwsNp4/6KNAHsJZk3eVpEBOyc1PCpWdQDcyxdRkR6BA6+b5xFBeokA=",
        "encoding": "base64",
        "path": [
         "_data",
         402,
         "x",
         "value"
        ]
       },
       {
        "data": "Fl/xFd9JkECfRljuad6EQAiHcAiHqI1AwXSdY41IlUA=",
        "encoding": "base64",
        "path": [
         "_data",
         403,
         "x",
         "value"
        ]
       },
       {
        "data": "cm6jAI+ooEBw+ynkzAWgQFVVVVUVYp5AHr0ytt8CoUDkx48fvyygQP/wtaL7G59AZCXde80HokA=",
        "encoding": "base64",
        "path": [
         "_data",
         404,
         "x",
         "value"
        ]
       },
       {
        "data": "0BQCTSHsk0AJYBeh1BmgQFagrONqRJZAV4mL2Sq5kUDC+g0w1VegQP1cMcuRX51Ar62CPF7nlkCqDPbQ22uaQHN2C78av4ZAz/92FMwZlUA09ybB8Q6TQA==",
        "encoding": "base64",
        "path": [
         "_data",
         405,
         "x",
         "value"
        ]
       },
       {
        "data": "fNGy5E2ekkBSZObRFqmQQK1Vf9SUDpVAX3m3UC6riUBBDsIqRmSRQC3FK2xwg5NAM8BPnDyEe0Bi7RvWvkF3QA==",
        "encoding": "base64",
        "path": [
         "_data",
         406,
         "x",
         "value"
        ]
       },
       {
        "data": "UWKXGvRpikBjx2oB3C+QQIqFvR2b/5NAwUYzXzMOh0BaE9dHw9KSQBIjRowYHZVA",
        "encoding": "base64",
        "path": [
         "_data",
         407,
         "x",
         "value"
        ]
       },
       {
        "data": "FDuxEzs9lUDIQhaykDV7QF5DeQ3lwZJAAAAAAACog0CamZmZmZk7QAAAAAAA+J1A",
        "encoding": "base64",
        "path": [
         "_data",
         408,
         "x",
         "value"
        ]
       },
       {
        "data": "nQr4hVtTpEAAAAAAgESjQJo0adIkMqNAz/M8z/Psp0BVVVVVVQdiQC7HJGJjCZtAGTq7kKGfk0A=",
        "encoding": "base64",
        "path": [
         "_data",
         409,
         "x",
         "value"
        ]
       },
       {
        "data": "z4XzzoVrlkDaQKcNdOGWQLi+aZh/l5FAbA4kWmFpmECjQATHbseaQBMH1WMTcJZAhFKSczvojkAjF4ctdbWRQEaJn1Fi85JAUrp9ZfVSkUBImkhAHtaVQE7+Jn+TlYxAB2BLv/N9jkC6zy4gNrSWQA==",
        "encoding": "base64",
        "path": [
         "_data",
         410,
         "x",
         "value"
        ]
       },
       {
        "data": "NBNX2RzKmUCbN8pZrRqgQAUxuYJ42plAHmrz02Uio0DA1hWaW4yjQHCNz0gxgplAOSl29XjDl0CPlzI1UWCbQJnQzTLTJ5pA",
        "encoding": "base64",
        "path": [
         "_data",
         411,
         "x",
         "value"
        ]
       },
       {
        "data": "xnQW01m8dUAXXXTRRcdXQAAAAADAO3NAVVVVVVXZd0CO4ziO45hmQDr65uibw5FA",
        "encoding": "base64",
        "path": [
         "_data",
         412,
         "x",
         "value"
        ]
       },
       {
        "data": "43vTzEcSk0DZYepy++2VQJdv+ZZvVpNAOPWKm08QjkAg6L+JSkqPQHfZeoIWC49AaC+hvYSamEC3bdu2bZOVQA==",
        "encoding": "base64",
        "path": [
         "_data",
         413,
         "x",
         "value"
        ]
       },
       {
        "data": "xUka88JbkkCf4ZmKRVGTQLWydlSb0ZBAZ5CZFt+jiEAkoPiHjfqLQNZ6llQx+IdABxK4dEgPkkDeyRO2XXSZQDfwSl1rrpdA",
        "encoding": "base64",
        "path": [
         "_data",
         414,
         "x",
         "value"
        ]
       },
       {
        "data": "Gb4RBSbZmUC/2Tr0m7mWQHh4eHh4ypJARXqgcnYDj0DemYwWrwyQQH2DfIN825FA6LSBThuqk0A=",
        "encoding": "base64",
        "path": [
         "_data",
         415,
         "x",
         "value"
        ]
       },
       {
        "data": "X7169eognkCDmFxBTGaeQPCZq9yd5Z5A",
        "encoding": "base64",
        "path": [
         "_data",
         416,
         "x",
         "value"
        ]
       },
       {
        "data": "U5fbH2S0n0B0KQbNAvedQD7KyJ1x1ZtA4wu7XBnSoEDFqd9zy8OgQDqyZyAqKKNA",
        "encoding": "base64",
        "path": [
         "_data",
         417,
         "x",
         "value"
        ]
       }
      ],
      "model_module": "plotlywidget",
      "model_module_version": "^4.14.3",
      "model_name": "FigureModel",
      "state": {
       "_config": {
        "plotlyServerURL": "https://plot.ly"
       },
       "_data": [
        {
         "boxpoints": "all",
         "marker": {
          "color": "#4C78A8",
          "size": 5
         },
         "name": "AML/1",
         "type": "box",
         "uid": "279a991f-ae72-48aa-baf1-98b0f08714c9",
         "width": 0.5,
         "x": [
          74,
          131,
          57,
          64,
          215,
          66,
          91,
          40,
          74,
          42,
          67
         ],
         "xaxis": "x",
         "yaxis": "y"
        },
        {
         "boxpoints": "all",
         "marker": {
          "color": "#F58518",
          "size": 5
         },
         "name": "AML/7",
         "type": "box",
         "uid": "f7c5eef2-9cfa-41a8-baf4-4796183fcd2c",
         "width": 0.5,
         "x": [
          58,
          75,
          16,
          23,
          70,
          35,
          58,
          42,
          60,
          38,
          32,
          80,
          34
         ],
         "xaxis": "x",
         "yaxis": "y"
        },
        {
         "boxpoints": "all",
         "marker": {
          "color": "#E45756",
          "size": 5
         },
         "name": "AML/8",
         "type": "box",
         "uid": "7d1ee582-61ca-47ab-933b-4e15470ae0c9",
         "width": 0.5,
         "x": [
          38,
          21,
          34,
          59,
          46,
          32,
          29,
          28,
          37,
          29
         ],
         "xaxis": "x",
         "yaxis": "y"
        },
        {
         "boxpoints": "all",
         "marker": {
          "color": "#72B7B2",
          "size": 5
         },
         "name": "Cellcycle/CD2/HU",
         "type": "box",
         "uid": "5d5aa1ac-a0f9-41ad-9f01-5ae670c3aae1",
         "width": 0.5,
         "x": [
          2672,
          1896,
          2532,
          1977,
          2496
         ],
         "xaxis": "x",
         "yaxis": "y"
        },
        {
         "boxpoints": "all",
         "marker": {
          "color": "#54A24B",
          "size": 5
         },
         "name": "Cellcycle/CD69/FCS",
         "type": "box",
         "uid": "aa8f3dba-6f11-46f4-9c3a-97760c50520e",
         "width": 0.5,
         "x": [
          1147,
          2508,
          2430,
          2238,
          1136,
          1036,
          266,
          202,
          175
         ],
         "xaxis": "x",
         "yaxis": "y"
        },
        {
         "boxpoints": "all",
         "marker": {
          "color": "#EECA3B",
          "size": 5
         },
         "name": "Cellcycle/CD69/HU",
         "type": "box",
         "uid": "b3176e00-b5ab-45cc-8e99-e6c24507cd36",
         "width": 0.5,
         "x": [
          38,
          48
         ],
         "xaxis": "x",
         "yaxis": "y"
        },
        {
         "boxpoints": "all",
         "marker": {
          "color": "#B279A2",
          "size": 5
         },
         "name": "Cellcycle/Cd28/FCS",
         "type": "box",
         "uid": "9f5a1f67-db54-4bc7-bf4d-9794ac3f783d",
         "width": 0.5,
         "x": [
          3841,
          1375,
          1332,
          1564,
          682,
          577,
          1111
         ],
         "xaxis": "x",
         "yaxis": "y"
        },
        {
         "boxpoints": "all",
         "marker": {
          "color": "#FF9DA6",
          "size": 5
         },
         "name": "Cellcycle/Cd28/HU",
         "type": "box",
         "uid": "5137e8a2-14e5-4424-afef-fb4fa899ba4c",
         "width": 0.5,
         "x": [
          380,
          253,
          509,
          1051,
          5507,
          6963,
          131,
          185,
          883,
          421,
          191,
          214,
          858,
          326,
          361,
          1263,
          258
         ],
         "xaxis": "x",
         "yaxis": "y"
        },
        {
         "boxpoints": "all",
         "marker": {
          "color": "#9D755D",
          "size": 5
         },
         "name": "Cellcycle/Cd28/K",
         "type": "box",
         "uid": "99750965-b0cd-48b6-8a6a-f6a53476d2c2",
         "width": 0.5,
         "x": [
          748,
          996,
          403,
          516,
          317,
          228,
          367,
          232,
          189,
          247,
          227,
          183
         ],
         "xaxis": "x",
         "yaxis": "y"
        },
        {
         "boxpoints": "all",
         "marker": {
          "color": "#BAB0AC",
          "size": 5
         },
         "name": "Cellcycle/Cd3/FCS",
         "type": "box",
         "uid": "edf126e4-20ad-4ced-a728-758f2d0f7909",
         "width": 0.5,
         "x": [
          1081,
          2361,
          1784,
          1689,
          1608,
          1072,
          886,
          963,
          1706
         ],
         "xaxis": "x",
         "yaxis": "y"
        },
        {
         "boxpoints": "all",
         "marker": {
          "color": "#4C78A8",
          "size": 5
         },
         "name": "Cellcycle/Cd3/HU",
         "type": "box",
         "uid": "1b4443b6-9334-4f36-94df-0fe15a4e5ae7",
         "width": 0.5,
         "x": [
          341,
          758,
          377,
          221,
          2008,
          1964,
          258,
          1970,
          1567,
          1913,
          430,
          2033,
          1119
         ],
         "xaxis": "x",
         "yaxis": "y"
        },
        {
         "boxpoints": "all",
         "marker": {
          "color": "#F58518",
          "size": 5
         },
         "name": "Cellcycle/Cd3/K",
         "type": "box",
         "uid": "2b2b3c64-1ba7-40c2-a6a9-16e4de6a2cac",
         "width": 0.5,
         "x": [
          1217,
          1372,
          515,
          703,
          576
         ],
         "xaxis": "x",
         "yaxis": "y"
        },
        {
         "boxpoints": "all",
         "marker": {
          "color": "#E45756",
          "size": 5
         },
         "name": "Jurkat/CD105/5",
         "type": "box",
         "uid": "c576054a-3422-43b6-a277-7ae663db04d9",
         "width": 0.5,
         "x": [
          92,
          228,
          406,
          1020,
          466,
          378
         ],
         "xaxis": "x",
         "yaxis": "y"
        },
        {
         "boxpoints": "all",
         "marker": {
          "color": "#72B7B2",
          "size": 5
         },
         "name": "Jurkat/CD11a",
         "type": "box",
         "uid": "8398b65d-df67-4a76-b024-5b167305a692",
         "width": 0.5,
         "x": [
          338,
          88,
          98,
          151,
          145,
          313,
          82,
          172,
          139,
          554,
          226,
          111,
          113
         ],
         "xaxis": "x",
         "yaxis": "y"
        },
        {
         "boxpoints": "all",
         "marker": {
          "color": "#54A24B",
          "size": 5
         },
         "name": "Jurkat/CD18",
         "type": "box",
         "uid": "2b2193f6-df81-4462-bf52-3c05f49ca2f2",
         "width": 0.5,
         "x": [
          537,
          335,
          258,
          173,
          156,
          70,
          195,
          52,
          127,
          172,
          300,
          140,
          119,
          183,
          107,
          71,
          84,
          50,
          957,
          321
         ],
         "xaxis": "x",
         "yaxis": "y"
        },
        {
         "boxpoints": "all",
         "marker": {
          "color": "#EECA3B",
          "size": 5
         },
         "name": "Jurkat/CD2",
         "type": "box",
         "uid": "3d6b92a7-f8bd-4450-9a53-e338a6862d03",
         "width": 0.5,
         "x": [
          1402,
          511,
          976,
          827,
          575,
          310,
          335
         ],
         "xaxis": "x",
         "yaxis": "y"
        },
        {
         "boxpoints": "all",
         "marker": {
          "color": "#B279A2",
          "size": 5
         },
         "name": "Jurkat/CD45/CD45",
         "type": "box",
         "uid": "d68673a1-579c-4ab6-b1c3-edce2968ac35",
         "width": 0.5,
         "x": [
          273,
          145,
          126,
          171,
          225,
          167,
          137,
          215,
          99,
          195,
          162,
          809,
          660,
          111
         ],
         "xaxis": "x",
         "yaxis": "y"
        },
        {
         "boxpoints": "all",
         "marker": {
          "color": "#FF9DA6",
          "size": 5
         },
         "name": "Jurkat/CD69",
         "type": "box",
         "uid": "02063b9d-e560-4c95-ac23-358c287824f5",
         "width": 0.5,
         "x": [
          281,
          296,
          935,
          378,
          249,
          465,
          439,
          203,
          635,
          450,
          416,
          98,
          135,
          364,
          275,
          441,
          278,
          236,
          162,
          173,
          109,
          748,
          207,
          249,
          134,
          443,
          154
         ],
         "xaxis": "x",
         "yaxis": "y"
        },
        {
         "boxpoints": "all",
         "marker": {
          "color": "#9D755D",
          "size": 5
         },
         "name": "Jurkat/CD69/Cd69_K",
         "type": "box",
         "uid": "f881e2cd-4db7-4e8c-b3c4-32c588478ebb",
         "width": 0.5,
         "x": [
          157,
          70,
          68,
          71,
          68
         ],
         "xaxis": "x",
         "yaxis": "y"
        },
        {
         "boxpoints": "all",
         "marker": {
          "color": "#BAB0AC",
          "size": 5
         },
         "name": "Jurkat/Cd45_pab_sab",
         "type": "box",
         "uid": "695e3c34-6bcc-4865-aba6-d0f751aeff50",
         "width": 0.5,
         "x": [
          1137,
          529,
          333,
          156,
          198,
          114,
          253,
          316,
          219,
          135,
          354,
          184,
          162
         ],
         "xaxis": "x",
         "yaxis": "y"
        },
        {
         "boxpoints": "all",
         "marker": {
          "color": "#4C78A8",
          "size": 5
         },
         "name": "Jurkat/Cd69_twocolor",
         "type": "box",
         "uid": "f6803107-0383-4237-9a81-37761a1cdab9",
         "width": 0.5,
         "x": [
          64,
          38,
          96,
          75,
          92,
          108
         ],
         "xaxis": "x",
         "yaxis": "y"
        },
        {
         "boxpoints": "all",
         "marker": {
          "color": "#F58518",
          "size": 5
         },
         "name": "Jurkat/LFA1",
         "type": "box",
         "uid": "ca88f0ea-2c0e-4897-9159-eaf6eb1c4e8f",
         "width": 0.5,
         "x": [
          1411,
          558,
          387,
          451,
          186,
          263,
          197,
          173,
          284,
          211,
          680,
          549,
          796,
          158,
          364,
          285,
          145,
          140
         ],
         "xaxis": "x",
         "yaxis": "y"
        },
        {
         "boxpoints": "all",
         "marker": {
          "color": "#E45756",
          "size": 5
         },
         "name": "Pat23_CD38",
         "type": "box",
         "uid": "4c5e5a5a-ecb0-45f3-9b8d-993c131e1498",
         "width": 0.5,
         "x": [
          1415,
          866,
          507,
          1222,
          788,
          890,
          1209,
          584,
          1025,
          468,
          1369,
          981,
          1126,
          890,
          1525,
          765,
          2758,
          4146,
          2019,
          2086,
          2820,
          1181,
          1645,
          1482,
          909,
          821,
          837,
          912,
          849,
          1489,
          1010,
          895,
          1680,
          1103,
          484,
          325,
          1005,
          658,
          507,
          473,
          683,
          351,
          755,
          993,
          770,
          609,
          1771,
          554,
          974,
          980,
          675,
          707,
          491,
          648,
          2619,
          1187,
          713,
          919,
          1014,
          888,
          1273,
          1193,
          790,
          1200,
          2465,
          1359,
          489,
          711,
          1976,
          1624,
          1253,
          1075,
          1853,
          971,
          1510,
          1706,
          841,
          1118,
          573,
          1602,
          1432,
          1271,
          706,
          1127,
          1043,
          1929,
          777,
          689,
          3054,
          1430,
          1442,
          1739,
          602,
          1462,
          2148,
          1364,
          1268,
          640,
          914,
          1057,
          1886,
          1485,
          1056,
          897,
          916,
          644,
          898,
          598,
          1751,
          1392,
          1134,
          613,
          1046,
          779,
          1103,
          1238,
          1797,
          1067,
          1109,
          737,
          928,
          1539,
          797,
          944,
          1506,
          1136,
          653
         ],
         "xaxis": "x",
         "yaxis": "y"
        },
        {
         "boxpoints": "all",
         "marker": {
          "color": "#72B7B2",
          "size": 5
         },
         "name": "Patients/Pat379/BCMA",
         "type": "box",
         "uid": "2cc857a0-cb41-46c9-bd2a-e304b00cced7",
         "width": 0.5,
         "x": [
          58,
          62,
          56,
          45
         ],
         "xaxis": "x",
         "yaxis": "y"
        },
        {
         "boxpoints": "all",
         "marker": {
          "color": "#54A24B",
          "size": 5
         },
         "name": "Patients/Pat379/CD138",
         "type": "box",
         "uid": "07583585-6dc6-483d-a729-9b9b40ec966d",
         "width": 0.5,
         "x": [
          250,
          377,
          242,
          77,
          277,
          429,
          916
         ],
         "xaxis": "x",
         "yaxis": "y"
        },
        {
         "boxpoints": "all",
         "marker": {
          "color": "#EECA3B",
          "size": 5
         },
         "name": "Patients/Pat379/CD19",
         "type": "box",
         "uid": "84dabdf2-a655-4ab3-bd64-9f1b80ab0535",
         "width": 0.5,
         "x": [
          98,
          255,
          108,
          109,
          173,
          255,
          559,
          131,
          79,
          227,
          376
         ],
         "xaxis": "x",
         "yaxis": "y"
        },
        {
         "boxpoints": "all",
         "marker": {
          "color": "#B279A2",
          "size": 5
         },
         "name": "Patients/Pat379/CD20",
         "type": "box",
         "uid": "0cea6b55-747a-4d22-8d26-150a63c1296b",
         "width": 0.5,
         "x": [
          954,
          1236,
          381,
          1869,
          384,
          981,
          152,
          137
         ],
         "xaxis": "x",
         "yaxis": "y"
        },
        {
         "boxpoints": "all",
         "marker": {
          "color": "#FF9DA6",
          "size": 5
         },
         "name": "Patients/Pat379/CD38",
         "type": "box",
         "uid": "c6b8d10d-8361-4b89-96d9-f82883c1f115",
         "width": 0.5,
         "x": [
          427,
          414,
          237,
          213,
          306,
          639
         ],
         "xaxis": "x",
         "yaxis": "y"
        },
        {
         "boxpoints": "all",
         "marker": {
          "color": "#9D755D",
          "size": 5
         },
         "name": "Patients/Pat379/GPRCD5",
         "type": "box",
         "uid": "e277d327-d327-42e2-be7a-bbc160ccff2a",
         "width": 0.5,
         "x": [
          12,
          12,
          10,
          9,
          11,
          1
         ],
         "xaxis": "x",
         "yaxis": "y"
        },
        {
         "boxpoints": "all",
         "marker": {
          "color": "#BAB0AC",
          "size": 5
         },
         "name": "Patients/Pat379/SLAMF7",
         "type": "box",
         "uid": "38c44b65-7615-42a9-9ac1-03a12289bc6d",
         "width": 0.5,
         "x": [
          82,
          102,
          99,
          197,
          23,
          325,
          271
         ],
         "xaxis": "x",
         "yaxis": "y"
        },
        {
         "boxpoints": "all",
         "marker": {
          "color": "#4C78A8",
          "size": 5
         },
         "name": "Patients/Pat394/BCMA",
         "type": "box",
         "uid": "c4dd3174-3f46-47ca-a5bd-2349d121f2b3",
         "width": 0.5,
         "x": [
          122,
          201,
          673,
          597,
          963,
          360,
          429,
          112,
          192,
          97,
          288,
          142,
          459,
          146
         ],
         "xaxis": "x",
         "yaxis": "y"
        },
        {
         "boxpoints": "all",
         "marker": {
          "color": "#F58518",
          "size": 5
         },
         "name": "Patients/Pat394/CD138",
         "type": "box",
         "uid": "c9953f06-34f3-4844-ba52-c327cce8b812",
         "width": 0.5,
         "x": [
          1820,
          2562,
          838,
          382,
          350,
          973,
          985,
          962,
          852
         ],
         "xaxis": "x",
         "yaxis": "y"
        },
        {
         "boxpoints": "all",
         "marker": {
          "color": "#E45756",
          "size": 5
         },
         "name": "Patients/Pat394/CD19",
         "type": "box",
         "uid": "5aeffdb7-f3c7-4bbe-a8b5-08e3a5fc8557",
         "width": 0.5,
         "x": [
          29,
          17,
          25,
          18,
          26,
          49
         ],
         "xaxis": "x",
         "yaxis": "y"
        },
        {
         "boxpoints": "all",
         "marker": {
          "color": "#72B7B2",
          "size": 5
         },
         "name": "Patients/Pat394/CD20",
         "type": "box",
         "uid": "2e3de96d-ed0e-432d-9472-d3c6db2fec66",
         "width": 0.5,
         "x": [
          333,
          175,
          482,
          290,
          834,
          270,
          17,
          13
         ],
         "xaxis": "x",
         "yaxis": "y"
        },
        {
         "boxpoints": "all",
         "marker": {
          "color": "#54A24B",
          "size": 5
         },
         "name": "Patients/Pat394/CD38",
         "type": "box",
         "uid": "1080a2d3-365f-457b-904f-cd7e3dce2871",
         "width": 0.5,
         "x": [
          3256,
          4967,
          2333,
          4845,
          2532,
          2852,
          5369,
          2781,
          2690
         ],
         "xaxis": "x",
         "yaxis": "y"
        },
        {
         "boxpoints": "all",
         "marker": {
          "color": "#EECA3B",
          "size": 5
         },
         "name": "Patients/Pat394/GPRCD5",
         "type": "box",
         "uid": "8b83c854-4ff3-42b7-a9b1-bfcc52d6c044",
         "width": 0.5,
         "x": [
          121,
          44,
          71,
          33,
          106,
          109,
          80
         ],
         "xaxis": "x",
         "yaxis": "y"
        },
        {
         "boxpoints": "all",
         "marker": {
          "color": "#B279A2",
          "size": 5
         },
         "name": "Patients/Pat394/SLAMF7",
         "type": "box",
         "uid": "8c8e8bb9-619e-41f1-9f44-eb734d0993f9",
         "width": 0.5,
         "x": [
          191,
          169,
          336
         ],
         "xaxis": "x",
         "yaxis": "y"
        },
        {
         "boxpoints": "all",
         "marker": {
          "color": "#FF9DA6",
          "size": 5
         },
         "name": "Patients/Pat394/SLAMF7/1",
         "type": "box",
         "uid": "7fe553c6-1c51-41a1-a1c5-bebe53a1c7d9",
         "width": 0.5,
         "x": [
          75,
          155,
          233,
          108,
          123,
          111
         ],
         "xaxis": "x",
         "yaxis": "y"
        },
        {
         "boxpoints": "all",
         "marker": {
          "color": "#4C78A8",
          "size": 5
         },
         "name": "AML/1",
         "type": "box",
         "uid": "29df0850-282f-44bc-89b9-80575cf3df24",
         "width": 0.5,
         "x": {
          "dtype": "float64",
          "shape": [
           11
          ]
         },
         "xaxis": "x2",
         "yaxis": "y2"
        },
        {
         "boxpoints": "all",
         "marker": {
          "color": "#F58518",
          "size": 5
         },
         "name": "AML/7",
         "type": "box",
         "uid": "defcab49-372c-4daa-9315-001222d97b96",
         "width": 0.5,
         "x": {
          "dtype": "float64",
          "shape": [
           13
          ]
         },
         "xaxis": "x2",
         "yaxis": "y2"
        },
        {
         "boxpoints": "all",
         "marker": {
          "color": "#E45756",
          "size": 5
         },
         "name": "AML/8",
         "type": "box",
         "uid": "3811e896-f5d7-4e96-9b57-230526838e6a",
         "width": 0.5,
         "x": {
          "dtype": "float64",
          "shape": [
           10
          ]
         },
         "xaxis": "x2",
         "yaxis": "y2"
        },
        {
         "boxpoints": "all",
         "marker": {
          "color": "#72B7B2",
          "size": 5
         },
         "name": "Cellcycle/CD2/HU",
         "type": "box",
         "uid": "57bf6eac-da87-4792-bee9-6496725ac2a4",
         "width": 0.5,
         "x": {
          "dtype": "float64",
          "shape": [
           5
          ]
         },
         "xaxis": "x2",
         "yaxis": "y2"
        },
        {
         "boxpoints": "all",
         "marker": {
          "color": "#54A24B",
          "size": 5
         },
         "name": "Cellcycle/CD69/FCS",
         "type": "box",
         "uid": "a9eb9c4a-006a-4fba-a422-42832e06abba",
         "width": 0.5,
         "x": {
          "dtype": "float64",
          "shape": [
           9
          ]
         },
         "xaxis": "x2",
         "yaxis": "y2"
        },
        {
         "boxpoints": "all",
         "marker": {
          "color": "#EECA3B",
          "size": 5
         },
         "name": "Cellcycle/CD69/HU",
         "type": "box",
         "uid": "c7ede77d-86f1-44a4-9b9f-ad39345fa904",
         "width": 0.5,
         "x": {
          "dtype": "float64",
          "shape": [
           2
          ]
         },
         "xaxis": "x2",
         "yaxis": "y2"
        },
        {
         "boxpoints": "all",
         "marker": {
          "color": "#B279A2",
          "size": 5
         },
         "name": "Cellcycle/Cd28/FCS",
         "type": "box",
         "uid": "cd3322ed-f869-4e1f-99eb-f6945ab82595",
         "width": 0.5,
         "x": {
          "dtype": "float64",
          "shape": [
           7
          ]
         },
         "xaxis": "x2",
         "yaxis": "y2"
        },
        {
         "boxpoints": "all",
         "marker": {
          "color": "#FF9DA6",
          "size": 5
         },
         "name": "Cellcycle/Cd28/HU",
         "type": "box",
         "uid": "b0946596-7f3f-49a3-8377-4a4bf8eb61e1",
         "width": 0.5,
         "x": {
          "dtype": "float64",
          "shape": [
           17
          ]
         },
         "xaxis": "x2",
         "yaxis": "y2"
        },
        {
         "boxpoints": "all",
         "marker": {
          "color": "#9D755D",
          "size": 5
         },
         "name": "Cellcycle/Cd28/K",
         "type": "box",
         "uid": "13690f84-f890-419e-8466-7736ab37b6e2",
         "width": 0.5,
         "x": {
          "dtype": "float64",
          "shape": [
           12
          ]
         },
         "xaxis": "x2",
         "yaxis": "y2"
        },
        {
         "boxpoints": "all",
         "marker": {
          "color": "#BAB0AC",
          "size": 5
         },
         "name": "Cellcycle/Cd3/FCS",
         "type": "box",
         "uid": "270f0958-2427-4b7c-85c2-9024ef398e3b",
         "width": 0.5,
         "x": {
          "dtype": "float64",
          "shape": [
           9
          ]
         },
         "xaxis": "x2",
         "yaxis": "y2"
        },
        {
         "boxpoints": "all",
         "marker": {
          "color": "#4C78A8",
          "size": 5
         },
         "name": "Cellcycle/Cd3/HU",
         "type": "box",
         "uid": "e28d428a-c575-4c80-9f67-86c1095a4372",
         "width": 0.5,
         "x": {
          "dtype": "float64",
          "shape": [
           13
          ]
         },
         "xaxis": "x2",
         "yaxis": "y2"
        },
        {
         "boxpoints": "all",
         "marker": {
          "color": "#F58518",
          "size": 5
         },
         "name": "Cellcycle/Cd3/K",
         "type": "box",
         "uid": "f9faf04b-478e-4a30-99a2-67ef3f96a4df",
         "width": 0.5,
         "x": {
          "dtype": "float64",
          "shape": [
           5
          ]
         },
         "xaxis": "x2",
         "yaxis": "y2"
        },
        {
         "boxpoints": "all",
         "marker": {
          "color": "#E45756",
          "size": 5
         },
         "name": "Jurkat/CD105/5",
         "type": "box",
         "uid": "792b60c6-edde-4ded-924d-3a8b9fe8baec",
         "width": 0.5,
         "x": {
          "dtype": "float64",
          "shape": [
           6
          ]
         },
         "xaxis": "x2",
         "yaxis": "y2"
        },
        {
         "boxpoints": "all",
         "marker": {
          "color": "#72B7B2",
          "size": 5
         },
         "name": "Jurkat/CD11a",
         "type": "box",
         "uid": "37eafc5a-7ca3-4de9-9c9e-8d9fe2cd26fb",
         "width": 0.5,
         "x": {
          "dtype": "float64",
          "shape": [
           13
          ]
         },
         "xaxis": "x2",
         "yaxis": "y2"
        },
        {
         "boxpoints": "all",
         "marker": {
          "color": "#54A24B",
          "size": 5
         },
         "name": "Jurkat/CD18",
         "type": "box",
         "uid": "e225306c-22d4-4e24-a34f-f19b5f36aa33",
         "width": 0.5,
         "x": {
          "dtype": "float64",
          "shape": [
           20
          ]
         },
         "xaxis": "x2",
         "yaxis": "y2"
        },
        {
         "boxpoints": "all",
         "marker": {
          "color": "#EECA3B",
          "size": 5
         },
         "name": "Jurkat/CD2",
         "type": "box",
         "uid": "dce81fd0-0fd3-44f6-8710-3acf56ac7e94",
         "width": 0.5,
         "x": {
          "dtype": "float64",
          "shape": [
           7
          ]
         },
         "xaxis": "x2",
         "yaxis": "y2"
        },
        {
         "boxpoints": "all",
         "marker": {
          "color": "#B279A2",
          "size": 5
         },
         "name": "Jurkat/CD45/CD45",
         "type": "box",
         "uid": "8f5d92bb-01ed-4650-9058-9ce3c195e2f4",
         "width": 0.5,
         "x": {
          "dtype": "float64",
          "shape": [
           14
          ]
         },
         "xaxis": "x2",
         "yaxis": "y2"
        },
        {
         "boxpoints": "all",
         "marker": {
          "color": "#FF9DA6",
          "size": 5
         },
         "name": "Jurkat/CD69",
         "type": "box",
         "uid": "24e5bab5-7989-435a-945f-8f674faac4e1",
         "width": 0.5,
         "x": {
          "dtype": "float64",
          "shape": [
           27
          ]
         },
         "xaxis": "x2",
         "yaxis": "y2"
        },
        {
         "boxpoints": "all",
         "marker": {
          "color": "#9D755D",
          "size": 5
         },
         "name": "Jurkat/CD69/Cd69_K",
         "type": "box",
         "uid": "d48afd98-30a4-46cb-8cb2-4fd449d761fd",
         "width": 0.5,
         "x": {
          "dtype": "float64",
          "shape": [
           5
          ]
         },
         "xaxis": "x2",
         "yaxis": "y2"
        },
        {
         "boxpoints": "all",
         "marker": {
          "color": "#BAB0AC",
          "size": 5
         },
         "name": "Jurkat/Cd45_pab_sab",
         "type": "box",
         "uid": "491c3529-ff5f-4835-ac66-5d3a0a8f5f73",
         "width": 0.5,
         "x": {
          "dtype": "float64",
          "shape": [
           13
          ]
         },
         "xaxis": "x2",
         "yaxis": "y2"
        },
        {
         "boxpoints": "all",
         "marker": {
          "color": "#4C78A8",
          "size": 5
         },
         "name": "Jurkat/Cd69_twocolor",
         "type": "box",
         "uid": "ccc258dc-4576-45fa-95bd-806d90098898",
         "width": 0.5,
         "x": {
          "dtype": "float64",
          "shape": [
           6
          ]
         },
         "xaxis": "x2",
         "yaxis": "y2"
        },
        {
         "boxpoints": "all",
         "marker": {
          "color": "#F58518",
          "size": 5
         },
         "name": "Jurkat/LFA1",
         "type": "box",
         "uid": "ad4e70d8-d230-4a03-a0fd-2a52c9e62173",
         "width": 0.5,
         "x": {
          "dtype": "float64",
          "shape": [
           18
          ]
         },
         "xaxis": "x2",
         "yaxis": "y2"
        },
        {
         "boxpoints": "all",
         "marker": {
          "color": "#E45756",
          "size": 5
         },
         "name": "Pat23_CD38",
         "type": "box",
         "uid": "0b36af64-d588-41f8-90f4-9f4ff35873d5",
         "width": 0.5,
         "x": {
          "dtype": "float64",
          "shape": [
           127
          ]
         },
         "xaxis": "x2",
         "yaxis": "y2"
        },
        {
         "boxpoints": "all",
         "marker": {
          "color": "#72B7B2",
          "size": 5
         },
         "name": "Patients/Pat379/BCMA",
         "type": "box",
         "uid": "10ebaaaf-96d7-4e3e-95f1-8e0d0f73225c",
         "width": 0.5,
         "x": {
          "dtype": "float64",
          "shape": [
           4
          ]
         },
         "xaxis": "x2",
         "yaxis": "y2"
        },
        {
         "boxpoints": "all",
         "marker": {
          "color": "#54A24B",
          "size": 5
         },
         "name": "Patients/Pat379/CD138",
         "type": "box",
         "uid": "ac4893cb-1044-4e98-938f-24273393e242",
         "width": 0.5,
         "x": {
          "dtype": "float64",
          "shape": [
           7
          ]
         },
         "xaxis": "x2",
         "yaxis": "y2"
        },
        {
         "boxpoints": "all",
         "marker": {
          "color": "#EECA3B",
          "size": 5
         },
         "name": "Patients/Pat379/CD19",
         "type": "box",
         "uid": "71c385a4-21d9-462d-8379-3717100cf318",
         "width": 0.5,
         "x": {
          "dtype": "float64",
          "shape": [
           11
          ]
         },
         "xaxis": "x2",
         "yaxis": "y2"
        },
        {
         "boxpoints": "all",
         "marker": {
          "color": "#B279A2",
          "size": 5
         },
         "name": "Patients/Pat379/CD20",
         "type": "box",
         "uid": "20e81567-7685-4d0e-8a80-21601a1e3b47",
         "width": 0.5,
         "x": {
          "dtype": "float64",
          "shape": [
           8
          ]
         },
         "xaxis": "x2",
         "yaxis": "y2"
        },
        {
         "boxpoints": "all",
         "marker": {
          "color": "#FF9DA6",
          "size": 5
         },
         "name": "Patients/Pat379/CD38",
         "type": "box",
         "uid": "acd2c2d0-5892-4ef4-8ecb-ab79f157696d",
         "width": 0.5,
         "x": {
          "dtype": "float64",
          "shape": [
           6
          ]
         },
         "xaxis": "x2",
         "yaxis": "y2"
        },
        {
         "boxpoints": "all",
         "marker": {
          "color": "#9D755D",
          "size": 5
         },
         "name": "Patients/Pat379/GPRCD5",
         "type": "box",
         "uid": "0cf033e2-31be-417d-a3b5-db990858095d",
         "width": 0.5,
         "x": {
          "dtype": "float64",
          "shape": [
           6
          ]
         },
         "xaxis": "x2",
         "yaxis": "y2"
        },
        {
         "boxpoints": "all",
         "marker": {
          "color": "#BAB0AC",
          "size": 5
         },
         "name": "Patients/Pat379/SLAMF7",
         "type": "box",
         "uid": "717446fd-8d5d-4799-b4a2-a07b53fb32b7",
         "width": 0.5,
         "x": {
          "dtype": "float64",
          "shape": [
           7
          ]
         },
         "xaxis": "x2",
         "yaxis": "y2"
        },
        {
         "boxpoints": "all",
         "marker": {
          "color": "#4C78A8",
          "size": 5
         },
         "name": "Patients/Pat394/BCMA",
         "type": "box",
         "uid": "8b78d049-d846-4eb8-925d-e569e5068ec5",
         "width": 0.5,
         "x": {
          "dtype": "float64",
          "shape": [
           14
          ]
         },
         "xaxis": "x2",
         "yaxis": "y2"
        },
        {
         "boxpoints": "all",
         "marker": {
          "color": "#F58518",
          "size": 5
         },
         "name": "Patients/Pat394/CD138",
         "type": "box",
         "uid": "367afc52-3f10-4916-a415-b1ab11de3966",
         "width": 0.5,
         "x": {
          "dtype": "float64",
          "shape": [
           9
          ]
         },
         "xaxis": "x2",
         "yaxis": "y2"
        },
        {
         "boxpoints": "all",
         "marker": {
          "color": "#E45756",
          "size": 5
         },
         "name": "Patients/Pat394/CD19",
         "type": "box",
         "uid": "8d366766-88b8-4eb8-a64e-dfa2a0c76aed",
         "width": 0.5,
         "x": {
          "dtype": "float64",
          "shape": [
           6
          ]
         },
         "xaxis": "x2",
         "yaxis": "y2"
        },
        {
         "boxpoints": "all",
         "marker": {
          "color": "#72B7B2",
          "size": 5
         },
         "name": "Patients/Pat394/CD20",
         "type": "box",
         "uid": "6d2549bf-5624-401d-9591-e93dc7797411",
         "width": 0.5,
         "x": {
          "dtype": "float64",
          "shape": [
           8
          ]
         },
         "xaxis": "x2",
         "yaxis": "y2"
        },
        {
         "boxpoints": "all",
         "marker": {
          "color": "#54A24B",
          "size": 5
         },
         "name": "Patients/Pat394/CD38",
         "type": "box",
         "uid": "56ab2b54-7de0-4049-909e-7a4141b293a9",
         "width": 0.5,
         "x": {
          "dtype": "float64",
          "shape": [
           9
          ]
         },
         "xaxis": "x2",
         "yaxis": "y2"
        },
        {
         "boxpoints": "all",
         "marker": {
          "color": "#EECA3B",
          "size": 5
         },
         "name": "Patients/Pat394/GPRCD5",
         "type": "box",
         "uid": "9c9d75f7-f5f6-4d97-b05c-d13740a7e123",
         "width": 0.5,
         "x": {
          "dtype": "float64",
          "shape": [
           7
          ]
         },
         "xaxis": "x2",
         "yaxis": "y2"
        },
        {
         "boxpoints": "all",
         "marker": {
          "color": "#B279A2",
          "size": 5
         },
         "name": "Patients/Pat394/SLAMF7",
         "type": "box",
         "uid": "95f7b5c7-b6ba-4731-babc-025aff7e392e",
         "width": 0.5,
         "x": {
          "dtype": "float64",
          "shape": [
           3
          ]
         },
         "xaxis": "x2",
         "yaxis": "y2"
        },
        {
         "boxpoints": "all",
         "marker": {
          "color": "#FF9DA6",
          "size": 5
         },
         "name": "Patients/Pat394/SLAMF7/1",
         "type": "box",
         "uid": "5f81fbec-1ae8-4502-ad24-c8646a7a8448",
         "width": 0.5,
         "x": {
          "dtype": "float64",
          "shape": [
           6
          ]
         },
         "xaxis": "x2",
         "yaxis": "y2"
        },
        {
         "boxpoints": "all",
         "marker": {
          "color": "#4C78A8",
          "size": 5
         },
         "name": "AML/1",
         "type": "box",
         "uid": "0d1e7d47-a9f8-4808-8862-2356b8afa204",
         "width": 0.5,
         "x": {
          "dtype": "float64",
          "shape": [
           11
          ]
         },
         "xaxis": "x3",
         "yaxis": "y3"
        },
        {
         "boxpoints": "all",
         "marker": {
          "color": "#F58518",
          "size": 5
         },
         "name": "AML/7",
         "type": "box",
         "uid": "d9d41471-1b34-455d-9098-079ae5baff99",
         "width": 0.5,
         "x": {
          "dtype": "float64",
          "shape": [
           13
          ]
         },
         "xaxis": "x3",
         "yaxis": "y3"
        },
        {
         "boxpoints": "all",
         "marker": {
          "color": "#E45756",
          "size": 5
         },
         "name": "AML/8",
         "type": "box",
         "uid": "be3c9c4a-9055-4c16-a5d8-20719169ff7a",
         "width": 0.5,
         "x": {
          "dtype": "float64",
          "shape": [
           10
          ]
         },
         "xaxis": "x3",
         "yaxis": "y3"
        },
        {
         "boxpoints": "all",
         "marker": {
          "color": "#72B7B2",
          "size": 5
         },
         "name": "Cellcycle/CD2/HU",
         "type": "box",
         "uid": "a8e91419-3124-41a6-84ac-443ae4298955",
         "width": 0.5,
         "x": {
          "dtype": "float64",
          "shape": [
           5
          ]
         },
         "xaxis": "x3",
         "yaxis": "y3"
        },
        {
         "boxpoints": "all",
         "marker": {
          "color": "#54A24B",
          "size": 5
         },
         "name": "Cellcycle/CD69/FCS",
         "type": "box",
         "uid": "5848d27f-a06f-4c20-992d-46e0fc6fd6e3",
         "width": 0.5,
         "x": {
          "dtype": "float64",
          "shape": [
           9
          ]
         },
         "xaxis": "x3",
         "yaxis": "y3"
        },
        {
         "boxpoints": "all",
         "marker": {
          "color": "#EECA3B",
          "size": 5
         },
         "name": "Cellcycle/CD69/HU",
         "type": "box",
         "uid": "53abaf77-df20-4dce-9c5d-467e243c82ac",
         "width": 0.5,
         "x": {
          "dtype": "float64",
          "shape": [
           2
          ]
         },
         "xaxis": "x3",
         "yaxis": "y3"
        },
        {
         "boxpoints": "all",
         "marker": {
          "color": "#B279A2",
          "size": 5
         },
         "name": "Cellcycle/Cd28/FCS",
         "type": "box",
         "uid": "fa3150ff-1ba0-4af4-8c4d-2b1d66d98c4e",
         "width": 0.5,
         "x": {
          "dtype": "float64",
          "shape": [
           7
          ]
         },
         "xaxis": "x3",
         "yaxis": "y3"
        },
        {
         "boxpoints": "all",
         "marker": {
          "color": "#FF9DA6",
          "size": 5
         },
         "name": "Cellcycle/Cd28/HU",
         "type": "box",
         "uid": "ee6a8d0a-8b5c-40ae-bd00-d5aced65d16a",
         "width": 0.5,
         "x": {
          "dtype": "float64",
          "shape": [
           17
          ]
         },
         "xaxis": "x3",
         "yaxis": "y3"
        },
        {
         "boxpoints": "all",
         "marker": {
          "color": "#9D755D",
          "size": 5
         },
         "name": "Cellcycle/Cd28/K",
         "type": "box",
         "uid": "760299df-a1a0-4801-8477-608b2f12e80c",
         "width": 0.5,
         "x": {
          "dtype": "float64",
          "shape": [
           12
          ]
         },
         "xaxis": "x3",
         "yaxis": "y3"
        },
        {
         "boxpoints": "all",
         "marker": {
          "color": "#BAB0AC",
          "size": 5
         },
         "name": "Cellcycle/Cd3/FCS",
         "type": "box",
         "uid": "55d7c0aa-7d8f-46a5-a0e4-765dd3532397",
         "width": 0.5,
         "x": {
          "dtype": "float64",
          "shape": [
           9
          ]
         },
         "xaxis": "x3",
         "yaxis": "y3"
        },
        {
         "boxpoints": "all",
         "marker": {
          "color": "#4C78A8",
          "size": 5
         },
         "name": "Cellcycle/Cd3/HU",
         "type": "box",
         "uid": "dd8ec096-6df2-41f6-bda2-789453439ce6",
         "width": 0.5,
         "x": {
          "dtype": "float64",
          "shape": [
           13
          ]
         },
         "xaxis": "x3",
         "yaxis": "y3"
        },
        {
         "boxpoints": "all",
         "marker": {
          "color": "#F58518",
          "size": 5
         },
         "name": "Cellcycle/Cd3/K",
         "type": "box",
         "uid": "75b2bc44-cb7a-43d1-bfaf-16151133b30a",
         "width": 0.5,
         "x": {
          "dtype": "float64",
          "shape": [
           5
          ]
         },
         "xaxis": "x3",
         "yaxis": "y3"
        },
        {
         "boxpoints": "all",
         "marker": {
          "color": "#E45756",
          "size": 5
         },
         "name": "Jurkat/CD105/5",
         "type": "box",
         "uid": "9bf5e7b2-cb69-457b-b379-649d2a5ab180",
         "width": 0.5,
         "x": {
          "dtype": "float64",
          "shape": [
           6
          ]
         },
         "xaxis": "x3",
         "yaxis": "y3"
        },
        {
         "boxpoints": "all",
         "marker": {
          "color": "#72B7B2",
          "size": 5
         },
         "name": "Jurkat/CD11a",
         "type": "box",
         "uid": "3a3f71dd-cddc-471b-aafd-f11139d6474e",
         "width": 0.5,
         "x": {
          "dtype": "float64",
          "shape": [
           13
          ]
         },
         "xaxis": "x3",
         "yaxis": "y3"
        },
        {
         "boxpoints": "all",
         "marker": {
          "color": "#54A24B",
          "size": 5
         },
         "name": "Jurkat/CD18",
         "type": "box",
         "uid": "02f7319a-f873-4b5f-85cb-bf73c3a6661d",
         "width": 0.5,
         "x": {
          "dtype": "float64",
          "shape": [
           20
          ]
         },
         "xaxis": "x3",
         "yaxis": "y3"
        },
        {
         "boxpoints": "all",
         "marker": {
          "color": "#EECA3B",
          "size": 5
         },
         "name": "Jurkat/CD2",
         "type": "box",
         "uid": "b250fa20-9dde-4c3a-9480-4d0013a6644d",
         "width": 0.5,
         "x": {
          "dtype": "float64",
          "shape": [
           7
          ]
         },
         "xaxis": "x3",
         "yaxis": "y3"
        },
        {
         "boxpoints": "all",
         "marker": {
          "color": "#B279A2",
          "size": 5
         },
         "name": "Jurkat/CD45/CD45",
         "type": "box",
         "uid": "7f14bcb5-dcdc-4a8e-a499-3cbe87ea1ac6",
         "width": 0.5,
         "x": {
          "dtype": "float64",
          "shape": [
           14
          ]
         },
         "xaxis": "x3",
         "yaxis": "y3"
        },
        {
         "boxpoints": "all",
         "marker": {
          "color": "#FF9DA6",
          "size": 5
         },
         "name": "Jurkat/CD69",
         "type": "box",
         "uid": "f34c661a-00b2-4fec-8c1c-cd4cdaf48f35",
         "width": 0.5,
         "x": {
          "dtype": "float64",
          "shape": [
           27
          ]
         },
         "xaxis": "x3",
         "yaxis": "y3"
        },
        {
         "boxpoints": "all",
         "marker": {
          "color": "#9D755D",
          "size": 5
         },
         "name": "Jurkat/CD69/Cd69_K",
         "type": "box",
         "uid": "77d3bf16-d090-44ca-80ce-c97bf0985454",
         "width": 0.5,
         "x": {
          "dtype": "float64",
          "shape": [
           5
          ]
         },
         "xaxis": "x3",
         "yaxis": "y3"
        },
        {
         "boxpoints": "all",
         "marker": {
          "color": "#BAB0AC",
          "size": 5
         },
         "name": "Jurkat/Cd45_pab_sab",
         "type": "box",
         "uid": "9fa0fb27-475e-4dbf-8f03-ecf836cb20f2",
         "width": 0.5,
         "x": {
          "dtype": "float64",
          "shape": [
           13
          ]
         },
         "xaxis": "x3",
         "yaxis": "y3"
        },
        {
         "boxpoints": "all",
         "marker": {
          "color": "#4C78A8",
          "size": 5
         },
         "name": "Jurkat/Cd69_twocolor",
         "type": "box",
         "uid": "ef4cfe9c-076e-44cc-91a0-991773216763",
         "width": 0.5,
         "x": {
          "dtype": "float64",
          "shape": [
           6
          ]
         },
         "xaxis": "x3",
         "yaxis": "y3"
        },
        {
         "boxpoints": "all",
         "marker": {
          "color": "#F58518",
          "size": 5
         },
         "name": "Jurkat/LFA1",
         "type": "box",
         "uid": "3228974e-0730-4f81-8f23-c035649be13e",
         "width": 0.5,
         "x": {
          "dtype": "float64",
          "shape": [
           18
          ]
         },
         "xaxis": "x3",
         "yaxis": "y3"
        },
        {
         "boxpoints": "all",
         "marker": {
          "color": "#E45756",
          "size": 5
         },
         "name": "Pat23_CD38",
         "type": "box",
         "uid": "40eb8ef6-6b3c-41c3-bf91-b0dee53321b5",
         "width": 0.5,
         "x": {
          "dtype": "float64",
          "shape": [
           127
          ]
         },
         "xaxis": "x3",
         "yaxis": "y3"
        },
        {
         "boxpoints": "all",
         "marker": {
          "color": "#72B7B2",
          "size": 5
         },
         "name": "Patients/Pat379/BCMA",
         "type": "box",
         "uid": "a4a2550a-08ef-41c8-a17c-674ab691698c",
         "width": 0.5,
         "x": {
          "dtype": "float64",
          "shape": [
           4
          ]
         },
         "xaxis": "x3",
         "yaxis": "y3"
        },
        {
         "boxpoints": "all",
         "marker": {
          "color": "#54A24B",
          "size": 5
         },
         "name": "Patients/Pat379/CD138",
         "type": "box",
         "uid": "f1df9f12-ea53-41bb-a1b2-ebcdd5aa9602",
         "width": 0.5,
         "x": {
          "dtype": "float64",
          "shape": [
           7
          ]
         },
         "xaxis": "x3",
         "yaxis": "y3"
        },
        {
         "boxpoints": "all",
         "marker": {
          "color": "#EECA3B",
          "size": 5
         },
         "name": "Patients/Pat379/CD19",
         "type": "box",
         "uid": "a7b5cad2-adee-4898-b676-6823dc6b6d04",
         "width": 0.5,
         "x": {
          "dtype": "float64",
          "shape": [
           11
          ]
         },
         "xaxis": "x3",
         "yaxis": "y3"
        },
        {
         "boxpoints": "all",
         "marker": {
          "color": "#B279A2",
          "size": 5
         },
         "name": "Patients/Pat379/CD20",
         "type": "box",
         "uid": "dcc03f30-8b4f-4a45-9a45-61b9c21ce0fd",
         "width": 0.5,
         "x": {
          "dtype": "float64",
          "shape": [
           8
          ]
         },
         "xaxis": "x3",
         "yaxis": "y3"
        },
        {
         "boxpoints": "all",
         "marker": {
          "color": "#FF9DA6",
          "size": 5
         },
         "name": "Patients/Pat379/CD38",
         "type": "box",
         "uid": "b0886799-c07e-4842-98e4-9ea87c933f36",
         "width": 0.5,
         "x": {
          "dtype": "float64",
          "shape": [
           6
          ]
         },
         "xaxis": "x3",
         "yaxis": "y3"
        },
        {
         "boxpoints": "all",
         "marker": {
          "color": "#9D755D",
          "size": 5
         },
         "name": "Patients/Pat379/GPRCD5",
         "type": "box",
         "uid": "49c329de-cf78-4f90-9e1a-03e4d07fa8a6",
         "width": 0.5,
         "x": {
          "dtype": "float64",
          "shape": [
           6
          ]
         },
         "xaxis": "x3",
         "yaxis": "y3"
        },
        {
         "boxpoints": "all",
         "marker": {
          "color": "#BAB0AC",
          "size": 5
         },
         "name": "Patients/Pat379/SLAMF7",
         "type": "box",
         "uid": "380205ab-b531-497b-8f09-642a3cbc4848",
         "width": 0.5,
         "x": {
          "dtype": "float64",
          "shape": [
           7
          ]
         },
         "xaxis": "x3",
         "yaxis": "y3"
        },
        {
         "boxpoints": "all",
         "marker": {
          "color": "#4C78A8",
          "size": 5
         },
         "name": "Patients/Pat394/BCMA",
         "type": "box",
         "uid": "63d2317f-2fce-4d5d-bc32-deaebc5bb529",
         "width": 0.5,
         "x": {
          "dtype": "float64",
          "shape": [
           14
          ]
         },
         "xaxis": "x3",
         "yaxis": "y3"
        },
        {
         "boxpoints": "all",
         "marker": {
          "color": "#F58518",
          "size": 5
         },
         "name": "Patients/Pat394/CD138",
         "type": "box",
         "uid": "95077c3b-ca3c-4561-bc46-62d996ebb135",
         "width": 0.5,
         "x": {
          "dtype": "float64",
          "shape": [
           9
          ]
         },
         "xaxis": "x3",
         "yaxis": "y3"
        },
        {
         "boxpoints": "all",
         "marker": {
          "color": "#E45756",
          "size": 5
         },
         "name": "Patients/Pat394/CD19",
         "type": "box",
         "uid": "d834b632-880c-4005-aa66-937d2951cc7e",
         "width": 0.5,
         "x": {
          "dtype": "float64",
          "shape": [
           6
          ]
         },
         "xaxis": "x3",
         "yaxis": "y3"
        },
        {
         "boxpoints": "all",
         "marker": {
          "color": "#72B7B2",
          "size": 5
         },
         "name": "Patients/Pat394/CD20",
         "type": "box",
         "uid": "e355edcf-acc9-47a9-ac12-a7e3a45bbeee",
         "width": 0.5,
         "x": {
          "dtype": "float64",
          "shape": [
           8
          ]
         },
         "xaxis": "x3",
         "yaxis": "y3"
        },
        {
         "boxpoints": "all",
         "marker": {
          "color": "#54A24B",
          "size": 5
         },
         "name": "Patients/Pat394/CD38",
         "type": "box",
         "uid": "e43a10ff-3774-4334-a06f-68e3b8ba1cde",
         "width": 0.5,
         "x": {
          "dtype": "float64",
          "shape": [
           9
          ]
         },
         "xaxis": "x3",
         "yaxis": "y3"
        },
        {
         "boxpoints": "all",
         "marker": {
          "color": "#EECA3B",
          "size": 5
         },
         "name": "Patients/Pat394/GPRCD5",
         "type": "box",
         "uid": "ef77213b-dab1-4ef9-94bf-ad7292bdd603",
         "width": 0.5,
         "x": {
          "dtype": "float64",
          "shape": [
           7
          ]
         },
         "xaxis": "x3",
         "yaxis": "y3"
        },
        {
         "boxpoints": "all",
         "marker": {
          "color": "#B279A2",
          "size": 5
         },
         "name": "Patients/Pat394/SLAMF7",
         "type": "box",
         "uid": "e515a300-3eb0-4521-89bf-568dfe47f95b",
         "width": 0.5,
         "x": {
          "dtype": "float64",
          "shape": [
           3
          ]
         },
         "xaxis": "x3",
         "yaxis": "y3"
        },
        {
         "boxpoints": "all",
         "marker": {
          "color": "#FF9DA6",
          "size": 5
         },
         "name": "Patients/Pat394/SLAMF7/1",
         "type": "box",
         "uid": "ddad34fb-8e16-4d27-a3c0-0d3fd0a58982",
         "width": 0.5,
         "x": {
          "dtype": "float64",
          "shape": [
           6
          ]
         },
         "xaxis": "x3",
         "yaxis": "y3"
        },
        {
         "boxpoints": "all",
         "marker": {
          "color": "#4C78A8",
          "size": 5
         },
         "name": "AML/1",
         "type": "box",
         "uid": "40b64c3f-ac1b-407e-8a63-25df7007e842",
         "width": 0.5,
         "x": {
          "dtype": "float64",
          "shape": [
           11
          ]
         },
         "xaxis": "x4",
         "yaxis": "y4"
        },
        {
         "boxpoints": "all",
         "marker": {
          "color": "#F58518",
          "size": 5
         },
         "name": "AML/7",
         "type": "box",
         "uid": "f662db97-0847-4a14-98cf-51311b250d63",
         "width": 0.5,
         "x": {
          "dtype": "float64",
          "shape": [
           13
          ]
         },
         "xaxis": "x4",
         "yaxis": "y4"
        },
        {
         "boxpoints": "all",
         "marker": {
          "color": "#E45756",
          "size": 5
         },
         "name": "AML/8",
         "type": "box",
         "uid": "429b2608-daed-4b0f-8234-e10a596afd52",
         "width": 0.5,
         "x": {
          "dtype": "float64",
          "shape": [
           10
          ]
         },
         "xaxis": "x4",
         "yaxis": "y4"
        },
        {
         "boxpoints": "all",
         "marker": {
          "color": "#72B7B2",
          "size": 5
         },
         "name": "Cellcycle/CD2/HU",
         "type": "box",
         "uid": "eef765ed-8b14-4d39-83b0-d8a95d23a627",
         "width": 0.5,
         "x": {
          "dtype": "float64",
          "shape": [
           5
          ]
         },
         "xaxis": "x4",
         "yaxis": "y4"
        },
        {
         "boxpoints": "all",
         "marker": {
          "color": "#54A24B",
          "size": 5
         },
         "name": "Cellcycle/CD69/FCS",
         "type": "box",
         "uid": "01d9d9d1-985f-46c2-b884-5de3c4f2587c",
         "width": 0.5,
         "x": {
          "dtype": "float64",
          "shape": [
           9
          ]
         },
         "xaxis": "x4",
         "yaxis": "y4"
        },
        {
         "boxpoints": "all",
         "marker": {
          "color": "#EECA3B",
          "size": 5
         },
         "name": "Cellcycle/CD69/HU",
         "type": "box",
         "uid": "1edbfa79-4a02-40bc-b9ff-ed7a84d600ad",
         "width": 0.5,
         "x": {
          "dtype": "float64",
          "shape": [
           2
          ]
         },
         "xaxis": "x4",
         "yaxis": "y4"
        },
        {
         "boxpoints": "all",
         "marker": {
          "color": "#B279A2",
          "size": 5
         },
         "name": "Cellcycle/Cd28/FCS",
         "type": "box",
         "uid": "6e49d9ba-5780-4e68-9d0d-cd09e9d31e70",
         "width": 0.5,
         "x": {
          "dtype": "float64",
          "shape": [
           7
          ]
         },
         "xaxis": "x4",
         "yaxis": "y4"
        },
        {
         "boxpoints": "all",
         "marker": {
          "color": "#FF9DA6",
          "size": 5
         },
         "name": "Cellcycle/Cd28/HU",
         "type": "box",
         "uid": "dbd34bdb-520c-4356-a695-8375c83d8408",
         "width": 0.5,
         "x": {
          "dtype": "float64",
          "shape": [
           17
          ]
         },
         "xaxis": "x4",
         "yaxis": "y4"
        },
        {
         "boxpoints": "all",
         "marker": {
          "color": "#9D755D",
          "size": 5
         },
         "name": "Cellcycle/Cd28/K",
         "type": "box",
         "uid": "2d5971ee-868e-48c8-81ac-2df4d25ed2e9",
         "width": 0.5,
         "x": {
          "dtype": "float64",
          "shape": [
           12
          ]
         },
         "xaxis": "x4",
         "yaxis": "y4"
        },
        {
         "boxpoints": "all",
         "marker": {
          "color": "#BAB0AC",
          "size": 5
         },
         "name": "Cellcycle/Cd3/FCS",
         "type": "box",
         "uid": "a75be2e6-fad4-4562-93a7-b95dc3c302d9",
         "width": 0.5,
         "x": {
          "dtype": "float64",
          "shape": [
           9
          ]
         },
         "xaxis": "x4",
         "yaxis": "y4"
        },
        {
         "boxpoints": "all",
         "marker": {
          "color": "#4C78A8",
          "size": 5
         },
         "name": "Cellcycle/Cd3/HU",
         "type": "box",
         "uid": "3f53ad4f-49c0-4d78-872a-226fef9f7023",
         "width": 0.5,
         "x": {
          "dtype": "float64",
          "shape": [
           13
          ]
         },
         "xaxis": "x4",
         "yaxis": "y4"
        },
        {
         "boxpoints": "all",
         "marker": {
          "color": "#F58518",
          "size": 5
         },
         "name": "Cellcycle/Cd3/K",
         "type": "box",
         "uid": "5754c328-9ea1-47fb-8a4b-87471ea2ff54",
         "width": 0.5,
         "x": {
          "dtype": "float64",
          "shape": [
           5
          ]
         },
         "xaxis": "x4",
         "yaxis": "y4"
        },
        {
         "boxpoints": "all",
         "marker": {
          "color": "#E45756",
          "size": 5
         },
         "name": "Jurkat/CD105/5",
         "type": "box",
         "uid": "bb4c48b7-f436-4919-a285-0fad853a8129",
         "width": 0.5,
         "x": {
          "dtype": "float64",
          "shape": [
           6
          ]
         },
         "xaxis": "x4",
         "yaxis": "y4"
        },
        {
         "boxpoints": "all",
         "marker": {
          "color": "#72B7B2",
          "size": 5
         },
         "name": "Jurkat/CD11a",
         "type": "box",
         "uid": "dba8b6f0-338f-4240-8df0-ca2187ac386c",
         "width": 0.5,
         "x": {
          "dtype": "float64",
          "shape": [
           13
          ]
         },
         "xaxis": "x4",
         "yaxis": "y4"
        },
        {
         "boxpoints": "all",
         "marker": {
          "color": "#54A24B",
          "size": 5
         },
         "name": "Jurkat/CD18",
         "type": "box",
         "uid": "c41e7e30-1c83-41aa-b107-220a5fd55391",
         "width": 0.5,
         "x": {
          "dtype": "float64",
          "shape": [
           20
          ]
         },
         "xaxis": "x4",
         "yaxis": "y4"
        },
        {
         "boxpoints": "all",
         "marker": {
          "color": "#EECA3B",
          "size": 5
         },
         "name": "Jurkat/CD2",
         "type": "box",
         "uid": "c3d9d825-623f-4b73-9253-bcb0a686c33a",
         "width": 0.5,
         "x": {
          "dtype": "float64",
          "shape": [
           7
          ]
         },
         "xaxis": "x4",
         "yaxis": "y4"
        },
        {
         "boxpoints": "all",
         "marker": {
          "color": "#B279A2",
          "size": 5
         },
         "name": "Jurkat/CD45/CD45",
         "type": "box",
         "uid": "32ea119d-d7a1-4fb6-b7ae-ed128707bf5c",
         "width": 0.5,
         "x": {
          "dtype": "float64",
          "shape": [
           14
          ]
         },
         "xaxis": "x4",
         "yaxis": "y4"
        },
        {
         "boxpoints": "all",
         "marker": {
          "color": "#FF9DA6",
          "size": 5
         },
         "name": "Jurkat/CD69",
         "type": "box",
         "uid": "f50d9eed-a8e4-4dc0-aaba-2fc132a67f51",
         "width": 0.5,
         "x": {
          "dtype": "float64",
          "shape": [
           27
          ]
         },
         "xaxis": "x4",
         "yaxis": "y4"
        },
        {
         "boxpoints": "all",
         "marker": {
          "color": "#9D755D",
          "size": 5
         },
         "name": "Jurkat/CD69/Cd69_K",
         "type": "box",
         "uid": "9c3dfc87-4c94-4510-afc0-ee847d20f5b6",
         "width": 0.5,
         "x": {
          "dtype": "float64",
          "shape": [
           5
          ]
         },
         "xaxis": "x4",
         "yaxis": "y4"
        },
        {
         "boxpoints": "all",
         "marker": {
          "color": "#BAB0AC",
          "size": 5
         },
         "name": "Jurkat/Cd45_pab_sab",
         "type": "box",
         "uid": "e67a272e-4b2f-4f2b-acdb-0cf92ae1a92f",
         "width": 0.5,
         "x": {
          "dtype": "float64",
          "shape": [
           13
          ]
         },
         "xaxis": "x4",
         "yaxis": "y4"
        },
        {
         "boxpoints": "all",
         "marker": {
          "color": "#4C78A8",
          "size": 5
         },
         "name": "Jurkat/Cd69_twocolor",
         "type": "box",
         "uid": "83bd0ae2-7881-40bc-afbd-e6fdba77ae61",
         "width": 0.5,
         "x": {
          "dtype": "float64",
          "shape": [
           6
          ]
         },
         "xaxis": "x4",
         "yaxis": "y4"
        },
        {
         "boxpoints": "all",
         "marker": {
          "color": "#F58518",
          "size": 5
         },
         "name": "Jurkat/LFA1",
         "type": "box",
         "uid": "c72ce182-39fd-4b7b-a591-c159db5b6306",
         "width": 0.5,
         "x": {
          "dtype": "float64",
          "shape": [
           18
          ]
         },
         "xaxis": "x4",
         "yaxis": "y4"
        },
        {
         "boxpoints": "all",
         "marker": {
          "color": "#E45756",
          "size": 5
         },
         "name": "Pat23_CD38",
         "type": "box",
         "uid": "b8423038-9870-4985-bdf9-0aec865deb4a",
         "width": 0.5,
         "x": {
          "dtype": "float64",
          "shape": [
           127
          ]
         },
         "xaxis": "x4",
         "yaxis": "y4"
        },
        {
         "boxpoints": "all",
         "marker": {
          "color": "#72B7B2",
          "size": 5
         },
         "name": "Patients/Pat379/BCMA",
         "type": "box",
         "uid": "004c89a7-f4c0-4078-ac7e-02a7c000c2ca",
         "width": 0.5,
         "x": {
          "dtype": "float64",
          "shape": [
           4
          ]
         },
         "xaxis": "x4",
         "yaxis": "y4"
        },
        {
         "boxpoints": "all",
         "marker": {
          "color": "#54A24B",
          "size": 5
         },
         "name": "Patients/Pat379/CD138",
         "type": "box",
         "uid": "38a73293-4652-41bf-9fe0-85da6a71a1ec",
         "width": 0.5,
         "x": {
          "dtype": "float64",
          "shape": [
           7
          ]
         },
         "xaxis": "x4",
         "yaxis": "y4"
        },
        {
         "boxpoints": "all",
         "marker": {
          "color": "#EECA3B",
          "size": 5
         },
         "name": "Patients/Pat379/CD19",
         "type": "box",
         "uid": "1f841b13-28d7-47b3-a49c-d05c61b9f3ba",
         "width": 0.5,
         "x": {
          "dtype": "float64",
          "shape": [
           11
          ]
         },
         "xaxis": "x4",
         "yaxis": "y4"
        },
        {
         "boxpoints": "all",
         "marker": {
          "color": "#B279A2",
          "size": 5
         },
         "name": "Patients/Pat379/CD20",
         "type": "box",
         "uid": "ebfd0fba-589b-44a6-bf1b-21159ded1bd2",
         "width": 0.5,
         "x": {
          "dtype": "float64",
          "shape": [
           8
          ]
         },
         "xaxis": "x4",
         "yaxis": "y4"
        },
        {
         "boxpoints": "all",
         "marker": {
          "color": "#FF9DA6",
          "size": 5
         },
         "name": "Patients/Pat379/CD38",
         "type": "box",
         "uid": "f02d18b8-4856-45d5-9dda-e44c49a61aae",
         "width": 0.5,
         "x": {
          "dtype": "float64",
          "shape": [
           6
          ]
         },
         "xaxis": "x4",
         "yaxis": "y4"
        },
        {
         "boxpoints": "all",
         "marker": {
          "color": "#9D755D",
          "size": 5
         },
         "name": "Patients/Pat379/GPRCD5",
         "type": "box",
         "uid": "909d393a-1086-4385-9b70-7acc5fcab307",
         "width": 0.5,
         "x": {
          "dtype": "float64",
          "shape": [
           6
          ]
         },
         "xaxis": "x4",
         "yaxis": "y4"
        },
        {
         "boxpoints": "all",
         "marker": {
          "color": "#BAB0AC",
          "size": 5
         },
         "name": "Patients/Pat379/SLAMF7",
         "type": "box",
         "uid": "43e5a903-2bf5-4f11-a671-4bb3fdb1545e",
         "width": 0.5,
         "x": {
          "dtype": "float64",
          "shape": [
           7
          ]
         },
         "xaxis": "x4",
         "yaxis": "y4"
        },
        {
         "boxpoints": "all",
         "marker": {
          "color": "#4C78A8",
          "size": 5
         },
         "name": "Patients/Pat394/BCMA",
         "type": "box",
         "uid": "14d0e4e5-89e0-4667-9085-f52cc3244229",
         "width": 0.5,
         "x": {
          "dtype": "float64",
          "shape": [
           14
          ]
         },
         "xaxis": "x4",
         "yaxis": "y4"
        },
        {
         "boxpoints": "all",
         "marker": {
          "color": "#F58518",
          "size": 5
         },
         "name": "Patients/Pat394/CD138",
         "type": "box",
         "uid": "9e67df11-c83b-44d9-a02a-39a04e8dd362",
         "width": 0.5,
         "x": {
          "dtype": "float64",
          "shape": [
           9
          ]
         },
         "xaxis": "x4",
         "yaxis": "y4"
        },
        {
         "boxpoints": "all",
         "marker": {
          "color": "#E45756",
          "size": 5
         },
         "name": "Patients/Pat394/CD19",
         "type": "box",
         "uid": "df8292a4-65a0-441d-bd92-bc2a015999ae",
         "width": 0.5,
         "x": {
          "dtype": "float64",
          "shape": [
           6
          ]
         },
         "xaxis": "x4",
         "yaxis": "y4"
        },
        {
         "boxpoints": "all",
         "marker": {
          "color": "#72B7B2",
          "size": 5
         },
         "name": "Patients/Pat394/CD20",
         "type": "box",
         "uid": "866fb415-3479-4f6d-9d9b-d8f24d91fe7d",
         "width": 0.5,
         "x": {
          "dtype": "float64",
          "shape": [
           8
          ]
         },
         "xaxis": "x4",
         "yaxis": "y4"
        },
        {
         "boxpoints": "all",
         "marker": {
          "color": "#54A24B",
          "size": 5
         },
         "name": "Patients/Pat394/CD38",
         "type": "box",
         "uid": "8e61b2eb-c824-4e63-90f0-8f68b2e6f6e0",
         "width": 0.5,
         "x": {
          "dtype": "float64",
          "shape": [
           9
          ]
         },
         "xaxis": "x4",
         "yaxis": "y4"
        },
        {
         "boxpoints": "all",
         "marker": {
          "color": "#EECA3B",
          "size": 5
         },
         "name": "Patients/Pat394/GPRCD5",
         "type": "box",
         "uid": "8d3887b2-2953-428d-a6d2-46c05839e0e8",
         "width": 0.5,
         "x": {
          "dtype": "float64",
          "shape": [
           7
          ]
         },
         "xaxis": "x4",
         "yaxis": "y4"
        },
        {
         "boxpoints": "all",
         "marker": {
          "color": "#B279A2",
          "size": 5
         },
         "name": "Patients/Pat394/SLAMF7",
         "type": "box",
         "uid": "16ca4c51-5080-46a8-85e1-cc3484965a43",
         "width": 0.5,
         "x": {
          "dtype": "float64",
          "shape": [
           3
          ]
         },
         "xaxis": "x4",
         "yaxis": "y4"
        },
        {
         "boxpoints": "all",
         "marker": {
          "color": "#FF9DA6",
          "size": 5
         },
         "name": "Patients/Pat394/SLAMF7/1",
         "type": "box",
         "uid": "13e30f70-1e45-4682-80bf-8649b051afc4",
         "width": 0.5,
         "x": {
          "dtype": "float64",
          "shape": [
           6
          ]
         },
         "xaxis": "x4",
         "yaxis": "y4"
        },
        {
         "boxpoints": "all",
         "marker": {
          "color": "#4C78A8",
          "size": 5
         },
         "name": "AML/1",
         "type": "box",
         "uid": "acdfe316-3e55-4c62-982f-e31fd08187a6",
         "width": 0.5,
         "x": {
          "dtype": "float64",
          "shape": [
           11
          ]
         },
         "xaxis": "x5",
         "yaxis": "y5"
        },
        {
         "boxpoints": "all",
         "marker": {
          "color": "#F58518",
          "size": 5
         },
         "name": "AML/7",
         "type": "box",
         "uid": "5ee3270b-21f8-40db-ac4c-a47f5f1f2954",
         "width": 0.5,
         "x": {
          "dtype": "float64",
          "shape": [
           13
          ]
         },
         "xaxis": "x5",
         "yaxis": "y5"
        },
        {
         "boxpoints": "all",
         "marker": {
          "color": "#E45756",
          "size": 5
         },
         "name": "AML/8",
         "type": "box",
         "uid": "07982c20-7ee9-4877-b75c-712b20451025",
         "width": 0.5,
         "x": {
          "dtype": "float64",
          "shape": [
           10
          ]
         },
         "xaxis": "x5",
         "yaxis": "y5"
        },
        {
         "boxpoints": "all",
         "marker": {
          "color": "#72B7B2",
          "size": 5
         },
         "name": "Cellcycle/CD2/HU",
         "type": "box",
         "uid": "ca90d12e-b6c1-457b-ba49-b7afb599e331",
         "width": 0.5,
         "x": {
          "dtype": "float64",
          "shape": [
           5
          ]
         },
         "xaxis": "x5",
         "yaxis": "y5"
        },
        {
         "boxpoints": "all",
         "marker": {
          "color": "#54A24B",
          "size": 5
         },
         "name": "Cellcycle/CD69/FCS",
         "type": "box",
         "uid": "e4eb060a-f2ad-4779-a89a-7ccd84c58e67",
         "width": 0.5,
         "x": {
          "dtype": "float64",
          "shape": [
           9
          ]
         },
         "xaxis": "x5",
         "yaxis": "y5"
        },
        {
         "boxpoints": "all",
         "marker": {
          "color": "#EECA3B",
          "size": 5
         },
         "name": "Cellcycle/CD69/HU",
         "type": "box",
         "uid": "5e19ce92-024e-4d88-94f3-2aba37945b85",
         "width": 0.5,
         "x": {
          "dtype": "float64",
          "shape": [
           2
          ]
         },
         "xaxis": "x5",
         "yaxis": "y5"
        },
        {
         "boxpoints": "all",
         "marker": {
          "color": "#B279A2",
          "size": 5
         },
         "name": "Cellcycle/Cd28/FCS",
         "type": "box",
         "uid": "7a6ea3ba-9db6-46f2-a26d-84a8313f13a7",
         "width": 0.5,
         "x": {
          "dtype": "float64",
          "shape": [
           7
          ]
         },
         "xaxis": "x5",
         "yaxis": "y5"
        },
        {
         "boxpoints": "all",
         "marker": {
          "color": "#FF9DA6",
          "size": 5
         },
         "name": "Cellcycle/Cd28/HU",
         "type": "box",
         "uid": "ccc714f9-9fcd-4d43-9398-ffc5f0f0ecd6",
         "width": 0.5,
         "x": {
          "dtype": "float64",
          "shape": [
           17
          ]
         },
         "xaxis": "x5",
         "yaxis": "y5"
        },
        {
         "boxpoints": "all",
         "marker": {
          "color": "#9D755D",
          "size": 5
         },
         "name": "Cellcycle/Cd28/K",
         "type": "box",
         "uid": "9360c7ff-1f3c-44de-8bce-4409d8a07599",
         "width": 0.5,
         "x": {
          "dtype": "float64",
          "shape": [
           12
          ]
         },
         "xaxis": "x5",
         "yaxis": "y5"
        },
        {
         "boxpoints": "all",
         "marker": {
          "color": "#BAB0AC",
          "size": 5
         },
         "name": "Cellcycle/Cd3/FCS",
         "type": "box",
         "uid": "34b7f9e0-19ea-4d48-a2a4-35225dd4bf7e",
         "width": 0.5,
         "x": {
          "dtype": "float64",
          "shape": [
           9
          ]
         },
         "xaxis": "x5",
         "yaxis": "y5"
        },
        {
         "boxpoints": "all",
         "marker": {
          "color": "#4C78A8",
          "size": 5
         },
         "name": "Cellcycle/Cd3/HU",
         "type": "box",
         "uid": "6133d4bd-fa03-4967-a00c-6b6aff82ba9e",
         "width": 0.5,
         "x": {
          "dtype": "float64",
          "shape": [
           13
          ]
         },
         "xaxis": "x5",
         "yaxis": "y5"
        },
        {
         "boxpoints": "all",
         "marker": {
          "color": "#F58518",
          "size": 5
         },
         "name": "Cellcycle/Cd3/K",
         "type": "box",
         "uid": "bb6d74fe-d83e-4874-860f-c5de56e358ca",
         "width": 0.5,
         "x": {
          "dtype": "float64",
          "shape": [
           5
          ]
         },
         "xaxis": "x5",
         "yaxis": "y5"
        },
        {
         "boxpoints": "all",
         "marker": {
          "color": "#E45756",
          "size": 5
         },
         "name": "Jurkat/CD105/5",
         "type": "box",
         "uid": "c7441455-662f-48eb-a7ad-63cec96670e4",
         "width": 0.5,
         "x": {
          "dtype": "float64",
          "shape": [
           6
          ]
         },
         "xaxis": "x5",
         "yaxis": "y5"
        },
        {
         "boxpoints": "all",
         "marker": {
          "color": "#72B7B2",
          "size": 5
         },
         "name": "Jurkat/CD11a",
         "type": "box",
         "uid": "942df7e7-1452-4bce-8e27-13b2b7d0221e",
         "width": 0.5,
         "x": {
          "dtype": "float64",
          "shape": [
           13
          ]
         },
         "xaxis": "x5",
         "yaxis": "y5"
        },
        {
         "boxpoints": "all",
         "marker": {
          "color": "#54A24B",
          "size": 5
         },
         "name": "Jurkat/CD18",
         "type": "box",
         "uid": "7fc9ebb6-93bb-4759-aca1-caceb736f190",
         "width": 0.5,
         "x": {
          "dtype": "float64",
          "shape": [
           20
          ]
         },
         "xaxis": "x5",
         "yaxis": "y5"
        },
        {
         "boxpoints": "all",
         "marker": {
          "color": "#EECA3B",
          "size": 5
         },
         "name": "Jurkat/CD2",
         "type": "box",
         "uid": "ac2ef93e-a1bb-4288-a556-d94387cba102",
         "width": 0.5,
         "x": {
          "dtype": "float64",
          "shape": [
           7
          ]
         },
         "xaxis": "x5",
         "yaxis": "y5"
        },
        {
         "boxpoints": "all",
         "marker": {
          "color": "#B279A2",
          "size": 5
         },
         "name": "Jurkat/CD45/CD45",
         "type": "box",
         "uid": "6771b313-e7a3-4af1-acfa-1f094cc5cba9",
         "width": 0.5,
         "x": {
          "dtype": "float64",
          "shape": [
           14
          ]
         },
         "xaxis": "x5",
         "yaxis": "y5"
        },
        {
         "boxpoints": "all",
         "marker": {
          "color": "#FF9DA6",
          "size": 5
         },
         "name": "Jurkat/CD69",
         "type": "box",
         "uid": "b613b494-3c5e-437f-9c6d-c2bb8a7b325e",
         "width": 0.5,
         "x": {
          "dtype": "float64",
          "shape": [
           27
          ]
         },
         "xaxis": "x5",
         "yaxis": "y5"
        },
        {
         "boxpoints": "all",
         "marker": {
          "color": "#9D755D",
          "size": 5
         },
         "name": "Jurkat/CD69/Cd69_K",
         "type": "box",
         "uid": "2504e2a0-32a5-442f-ab4e-c437a3a22e42",
         "width": 0.5,
         "x": {
          "dtype": "float64",
          "shape": [
           5
          ]
         },
         "xaxis": "x5",
         "yaxis": "y5"
        },
        {
         "boxpoints": "all",
         "marker": {
          "color": "#BAB0AC",
          "size": 5
         },
         "name": "Jurkat/Cd45_pab_sab",
         "type": "box",
         "uid": "56b872aa-cd1d-46b6-9b1c-49fd002a088b",
         "width": 0.5,
         "x": {
          "dtype": "float64",
          "shape": [
           13
          ]
         },
         "xaxis": "x5",
         "yaxis": "y5"
        },
        {
         "boxpoints": "all",
         "marker": {
          "color": "#4C78A8",
          "size": 5
         },
         "name": "Jurkat/Cd69_twocolor",
         "type": "box",
         "uid": "8a5db315-81ca-4e5d-b36c-31d23515dec8",
         "width": 0.5,
         "x": {
          "dtype": "float64",
          "shape": [
           6
          ]
         },
         "xaxis": "x5",
         "yaxis": "y5"
        },
        {
         "boxpoints": "all",
         "marker": {
          "color": "#F58518",
          "size": 5
         },
         "name": "Jurkat/LFA1",
         "type": "box",
         "uid": "fd2d1458-c1ad-4a42-ad37-e7b5ddade7df",
         "width": 0.5,
         "x": {
          "dtype": "float64",
          "shape": [
           18
          ]
         },
         "xaxis": "x5",
         "yaxis": "y5"
        },
        {
         "boxpoints": "all",
         "marker": {
          "color": "#E45756",
          "size": 5
         },
         "name": "Pat23_CD38",
         "type": "box",
         "uid": "3c0c641f-3eed-4299-a5c8-95b04a58b5d6",
         "width": 0.5,
         "x": {
          "dtype": "float64",
          "shape": [
           127
          ]
         },
         "xaxis": "x5",
         "yaxis": "y5"
        },
        {
         "boxpoints": "all",
         "marker": {
          "color": "#72B7B2",
          "size": 5
         },
         "name": "Patients/Pat379/BCMA",
         "type": "box",
         "uid": "db30ab3f-db31-4d32-80c8-5ea25a083fe4",
         "width": 0.5,
         "x": {
          "dtype": "float64",
          "shape": [
           4
          ]
         },
         "xaxis": "x5",
         "yaxis": "y5"
        },
        {
         "boxpoints": "all",
         "marker": {
          "color": "#54A24B",
          "size": 5
         },
         "name": "Patients/Pat379/CD138",
         "type": "box",
         "uid": "b9a1d68b-76ca-43fd-8d90-cac568ac0c48",
         "width": 0.5,
         "x": {
          "dtype": "float64",
          "shape": [
           7
          ]
         },
         "xaxis": "x5",
         "yaxis": "y5"
        },
        {
         "boxpoints": "all",
         "marker": {
          "color": "#EECA3B",
          "size": 5
         },
         "name": "Patients/Pat379/CD19",
         "type": "box",
         "uid": "a248fedf-1c40-46fe-829a-9aa421e6ffc3",
         "width": 0.5,
         "x": {
          "dtype": "float64",
          "shape": [
           11
          ]
         },
         "xaxis": "x5",
         "yaxis": "y5"
        },
        {
         "boxpoints": "all",
         "marker": {
          "color": "#B279A2",
          "size": 5
         },
         "name": "Patients/Pat379/CD20",
         "type": "box",
         "uid": "66cbfe63-0ea8-4549-83b1-aa36530cc9d1",
         "width": 0.5,
         "x": {
          "dtype": "float64",
          "shape": [
           8
          ]
         },
         "xaxis": "x5",
         "yaxis": "y5"
        },
        {
         "boxpoints": "all",
         "marker": {
          "color": "#FF9DA6",
          "size": 5
         },
         "name": "Patients/Pat379/CD38",
         "type": "box",
         "uid": "3634ff91-f290-4d5c-af80-4873e04e0a0a",
         "width": 0.5,
         "x": {
          "dtype": "float64",
          "shape": [
           6
          ]
         },
         "xaxis": "x5",
         "yaxis": "y5"
        },
        {
         "boxpoints": "all",
         "marker": {
          "color": "#9D755D",
          "size": 5
         },
         "name": "Patients/Pat379/GPRCD5",
         "type": "box",
         "uid": "3cb854a8-ce7f-48ed-a7d2-60327cd125fa",
         "width": 0.5,
         "x": {
          "dtype": "float64",
          "shape": [
           6
          ]
         },
         "xaxis": "x5",
         "yaxis": "y5"
        },
        {
         "boxpoints": "all",
         "marker": {
          "color": "#BAB0AC",
          "size": 5
         },
         "name": "Patients/Pat379/SLAMF7",
         "type": "box",
         "uid": "87a2a79f-183a-45bd-868a-2f93710fa59b",
         "width": 0.5,
         "x": {
          "dtype": "float64",
          "shape": [
           7
          ]
         },
         "xaxis": "x5",
         "yaxis": "y5"
        },
        {
         "boxpoints": "all",
         "marker": {
          "color": "#4C78A8",
          "size": 5
         },
         "name": "Patients/Pat394/BCMA",
         "type": "box",
         "uid": "85ea5b29-1815-425b-803b-b3fe5dd54397",
         "width": 0.5,
         "x": {
          "dtype": "float64",
          "shape": [
           14
          ]
         },
         "xaxis": "x5",
         "yaxis": "y5"
        },
        {
         "boxpoints": "all",
         "marker": {
          "color": "#F58518",
          "size": 5
         },
         "name": "Patients/Pat394/CD138",
         "type": "box",
         "uid": "faea5193-d0db-4058-a8ce-c3a67859c6bf",
         "width": 0.5,
         "x": {
          "dtype": "float64",
          "shape": [
           9
          ]
         },
         "xaxis": "x5",
         "yaxis": "y5"
        },
        {
         "boxpoints": "all",
         "marker": {
          "color": "#E45756",
          "size": 5
         },
         "name": "Patients/Pat394/CD19",
         "type": "box",
         "uid": "2d93f131-2a82-42f9-b406-708594d95636",
         "width": 0.5,
         "x": {
          "dtype": "float64",
          "shape": [
           6
          ]
         },
         "xaxis": "x5",
         "yaxis": "y5"
        },
        {
         "boxpoints": "all",
         "marker": {
          "color": "#72B7B2",
          "size": 5
         },
         "name": "Patients/Pat394/CD20",
         "type": "box",
         "uid": "dcd46cac-b2f2-45da-b26e-68c367518647",
         "width": 0.5,
         "x": {
          "dtype": "float64",
          "shape": [
           8
          ]
         },
         "xaxis": "x5",
         "yaxis": "y5"
        },
        {
         "boxpoints": "all",
         "marker": {
          "color": "#54A24B",
          "size": 5
         },
         "name": "Patients/Pat394/CD38",
         "type": "box",
         "uid": "c5814ac3-b7c9-468a-b1fd-ac49261d5865",
         "width": 0.5,
         "x": {
          "dtype": "float64",
          "shape": [
           9
          ]
         },
         "xaxis": "x5",
         "yaxis": "y5"
        },
        {
         "boxpoints": "all",
         "marker": {
          "color": "#EECA3B",
          "size": 5
         },
         "name": "Patients/Pat394/GPRCD5",
         "type": "box",
         "uid": "4939c14c-b0f5-4370-8b6d-3e94a28e58d3",
         "width": 0.5,
         "x": {
          "dtype": "float64",
          "shape": [
           7
          ]
         },
         "xaxis": "x5",
         "yaxis": "y5"
        },
        {
         "boxpoints": "all",
         "marker": {
          "color": "#B279A2",
          "size": 5
         },
         "name": "Patients/Pat394/SLAMF7",
         "type": "box",
         "uid": "58485419-3605-4d09-a1f1-98db571cc1f1",
         "width": 0.5,
         "x": {
          "dtype": "float64",
          "shape": [
           3
          ]
         },
         "xaxis": "x5",
         "yaxis": "y5"
        },
        {
         "boxpoints": "all",
         "marker": {
          "color": "#FF9DA6",
          "size": 5
         },
         "name": "Patients/Pat394/SLAMF7/1",
         "type": "box",
         "uid": "cd4a7484-843d-4449-aaf3-711743f4313d",
         "width": 0.5,
         "x": {
          "dtype": "float64",
          "shape": [
           6
          ]
         },
         "xaxis": "x5",
         "yaxis": "y5"
        },
        {
         "boxpoints": "all",
         "marker": {
          "color": "#4C78A8",
          "size": 5
         },
         "name": "AML/1",
         "type": "box",
         "uid": "6b5e7818-63e4-4ee2-9618-c44b9e6896bb",
         "width": 0.5,
         "x": {
          "dtype": "float64",
          "shape": [
           11
          ]
         },
         "xaxis": "x6",
         "yaxis": "y6"
        },
        {
         "boxpoints": "all",
         "marker": {
          "color": "#F58518",
          "size": 5
         },
         "name": "AML/7",
         "type": "box",
         "uid": "ee21bb15-f821-4f6d-937d-99116d45d496",
         "width": 0.5,
         "x": {
          "dtype": "float64",
          "shape": [
           13
          ]
         },
         "xaxis": "x6",
         "yaxis": "y6"
        },
        {
         "boxpoints": "all",
         "marker": {
          "color": "#E45756",
          "size": 5
         },
         "name": "AML/8",
         "type": "box",
         "uid": "b636c4d6-5a10-4205-b054-2116a4be3e98",
         "width": 0.5,
         "x": {
          "dtype": "float64",
          "shape": [
           10
          ]
         },
         "xaxis": "x6",
         "yaxis": "y6"
        },
        {
         "boxpoints": "all",
         "marker": {
          "color": "#72B7B2",
          "size": 5
         },
         "name": "Cellcycle/CD2/HU",
         "type": "box",
         "uid": "e0e768fb-ed22-4ab4-841c-d0e5808257fe",
         "width": 0.5,
         "x": {
          "dtype": "float64",
          "shape": [
           5
          ]
         },
         "xaxis": "x6",
         "yaxis": "y6"
        },
        {
         "boxpoints": "all",
         "marker": {
          "color": "#54A24B",
          "size": 5
         },
         "name": "Cellcycle/CD69/FCS",
         "type": "box",
         "uid": "38fed493-6a6a-45a1-a152-a0a9e1c966f0",
         "width": 0.5,
         "x": {
          "dtype": "float64",
          "shape": [
           9
          ]
         },
         "xaxis": "x6",
         "yaxis": "y6"
        },
        {
         "boxpoints": "all",
         "marker": {
          "color": "#EECA3B",
          "size": 5
         },
         "name": "Cellcycle/CD69/HU",
         "type": "box",
         "uid": "d4cbe9f0-31e5-4a92-a960-94cc8e0531fe",
         "width": 0.5,
         "x": {
          "dtype": "float64",
          "shape": [
           2
          ]
         },
         "xaxis": "x6",
         "yaxis": "y6"
        },
        {
         "boxpoints": "all",
         "marker": {
          "color": "#B279A2",
          "size": 5
         },
         "name": "Cellcycle/Cd28/FCS",
         "type": "box",
         "uid": "cd9ed1b4-a7dd-4c0f-9637-1d7b07709071",
         "width": 0.5,
         "x": {
          "dtype": "float64",
          "shape": [
           7
          ]
         },
         "xaxis": "x6",
         "yaxis": "y6"
        },
        {
         "boxpoints": "all",
         "marker": {
          "color": "#FF9DA6",
          "size": 5
         },
         "name": "Cellcycle/Cd28/HU",
         "type": "box",
         "uid": "0935affc-0182-4a2e-b33f-940423e4cc2b",
         "width": 0.5,
         "x": {
          "dtype": "float64",
          "shape": [
           17
          ]
         },
         "xaxis": "x6",
         "yaxis": "y6"
        },
        {
         "boxpoints": "all",
         "marker": {
          "color": "#9D755D",
          "size": 5
         },
         "name": "Cellcycle/Cd28/K",
         "type": "box",
         "uid": "d3e4e627-0d87-4ec3-bfb5-240b046ffb46",
         "width": 0.5,
         "x": {
          "dtype": "float64",
          "shape": [
           12
          ]
         },
         "xaxis": "x6",
         "yaxis": "y6"
        },
        {
         "boxpoints": "all",
         "marker": {
          "color": "#BAB0AC",
          "size": 5
         },
         "name": "Cellcycle/Cd3/FCS",
         "type": "box",
         "uid": "6ce6b6ac-977b-4b4b-aabb-4a6d7e1458bc",
         "width": 0.5,
         "x": {
          "dtype": "float64",
          "shape": [
           9
          ]
         },
         "xaxis": "x6",
         "yaxis": "y6"
        },
        {
         "boxpoints": "all",
         "marker": {
          "color": "#4C78A8",
          "size": 5
         },
         "name": "Cellcycle/Cd3/HU",
         "type": "box",
         "uid": "ac3ed732-f544-418e-be97-579b0b306a4a",
         "width": 0.5,
         "x": {
          "dtype": "float64",
          "shape": [
           13
          ]
         },
         "xaxis": "x6",
         "yaxis": "y6"
        },
        {
         "boxpoints": "all",
         "marker": {
          "color": "#F58518",
          "size": 5
         },
         "name": "Cellcycle/Cd3/K",
         "type": "box",
         "uid": "d88218ea-3a2f-4d72-a10b-5d721c38887d",
         "width": 0.5,
         "x": {
          "dtype": "float64",
          "shape": [
           5
          ]
         },
         "xaxis": "x6",
         "yaxis": "y6"
        },
        {
         "boxpoints": "all",
         "marker": {
          "color": "#E45756",
          "size": 5
         },
         "name": "Jurkat/CD105/5",
         "type": "box",
         "uid": "1226109e-9ae6-45f3-9feb-bfd5b65f21b5",
         "width": 0.5,
         "x": {
          "dtype": "float64",
          "shape": [
           6
          ]
         },
         "xaxis": "x6",
         "yaxis": "y6"
        },
        {
         "boxpoints": "all",
         "marker": {
          "color": "#72B7B2",
          "size": 5
         },
         "name": "Jurkat/CD11a",
         "type": "box",
         "uid": "3717e401-6afd-4a12-b4c5-cf0fbbb4a037",
         "width": 0.5,
         "x": {
          "dtype": "float64",
          "shape": [
           13
          ]
         },
         "xaxis": "x6",
         "yaxis": "y6"
        },
        {
         "boxpoints": "all",
         "marker": {
          "color": "#54A24B",
          "size": 5
         },
         "name": "Jurkat/CD18",
         "type": "box",
         "uid": "fc789576-8732-4389-8c1a-c497bbcdc835",
         "width": 0.5,
         "x": {
          "dtype": "float64",
          "shape": [
           20
          ]
         },
         "xaxis": "x6",
         "yaxis": "y6"
        },
        {
         "boxpoints": "all",
         "marker": {
          "color": "#EECA3B",
          "size": 5
         },
         "name": "Jurkat/CD2",
         "type": "box",
         "uid": "eb8e8daa-ced0-4873-8f84-de8fb5a380ed",
         "width": 0.5,
         "x": {
          "dtype": "float64",
          "shape": [
           7
          ]
         },
         "xaxis": "x6",
         "yaxis": "y6"
        },
        {
         "boxpoints": "all",
         "marker": {
          "color": "#B279A2",
          "size": 5
         },
         "name": "Jurkat/CD45/CD45",
         "type": "box",
         "uid": "4fa9757e-2d6e-4b73-84fd-ff813cf4d1af",
         "width": 0.5,
         "x": {
          "dtype": "float64",
          "shape": [
           14
          ]
         },
         "xaxis": "x6",
         "yaxis": "y6"
        },
        {
         "boxpoints": "all",
         "marker": {
          "color": "#FF9DA6",
          "size": 5
         },
         "name": "Jurkat/CD69",
         "type": "box",
         "uid": "ec2f90cf-22eb-4730-8a60-f1ff40d1af1d",
         "width": 0.5,
         "x": {
          "dtype": "float64",
          "shape": [
           27
          ]
         },
         "xaxis": "x6",
         "yaxis": "y6"
        },
        {
         "boxpoints": "all",
         "marker": {
          "color": "#9D755D",
          "size": 5
         },
         "name": "Jurkat/CD69/Cd69_K",
         "type": "box",
         "uid": "a2a9ef33-9901-4927-b7dc-b26660680416",
         "width": 0.5,
         "x": {
          "dtype": "float64",
          "shape": [
           5
          ]
         },
         "xaxis": "x6",
         "yaxis": "y6"
        },
        {
         "boxpoints": "all",
         "marker": {
          "color": "#BAB0AC",
          "size": 5
         },
         "name": "Jurkat/Cd45_pab_sab",
         "type": "box",
         "uid": "82f0092f-54a3-4889-a625-e43f1e29fbd4",
         "width": 0.5,
         "x": {
          "dtype": "float64",
          "shape": [
           13
          ]
         },
         "xaxis": "x6",
         "yaxis": "y6"
        },
        {
         "boxpoints": "all",
         "marker": {
          "color": "#4C78A8",
          "size": 5
         },
         "name": "Jurkat/Cd69_twocolor",
         "type": "box",
         "uid": "5297bc83-fecd-47b0-aa16-11b9b5bec97e",
         "width": 0.5,
         "x": {
          "dtype": "float64",
          "shape": [
           6
          ]
         },
         "xaxis": "x6",
         "yaxis": "y6"
        },
        {
         "boxpoints": "all",
         "marker": {
          "color": "#F58518",
          "size": 5
         },
         "name": "Jurkat/LFA1",
         "type": "box",
         "uid": "12b47d9a-e899-4467-8620-d036c75f1d06",
         "width": 0.5,
         "x": {
          "dtype": "float64",
          "shape": [
           18
          ]
         },
         "xaxis": "x6",
         "yaxis": "y6"
        },
        {
         "boxpoints": "all",
         "marker": {
          "color": "#E45756",
          "size": 5
         },
         "name": "Pat23_CD38",
         "type": "box",
         "uid": "3cf5c181-376e-4393-b2ac-ff7a29c08dd3",
         "width": 0.5,
         "x": {
          "dtype": "float64",
          "shape": [
           127
          ]
         },
         "xaxis": "x6",
         "yaxis": "y6"
        },
        {
         "boxpoints": "all",
         "marker": {
          "color": "#72B7B2",
          "size": 5
         },
         "name": "Patients/Pat379/BCMA",
         "type": "box",
         "uid": "f35fdb4c-130d-4b0c-b174-bec3c36cb73f",
         "width": 0.5,
         "x": {
          "dtype": "float64",
          "shape": [
           4
          ]
         },
         "xaxis": "x6",
         "yaxis": "y6"
        },
        {
         "boxpoints": "all",
         "marker": {
          "color": "#54A24B",
          "size": 5
         },
         "name": "Patients/Pat379/CD138",
         "type": "box",
         "uid": "1f5ab551-bd44-4e07-9c22-532eff24c9dc",
         "width": 0.5,
         "x": {
          "dtype": "float64",
          "shape": [
           7
          ]
         },
         "xaxis": "x6",
         "yaxis": "y6"
        },
        {
         "boxpoints": "all",
         "marker": {
          "color": "#EECA3B",
          "size": 5
         },
         "name": "Patients/Pat379/CD19",
         "type": "box",
         "uid": "861fc83d-4e2d-4d37-a02c-12820d18527a",
         "width": 0.5,
         "x": {
          "dtype": "float64",
          "shape": [
           11
          ]
         },
         "xaxis": "x6",
         "yaxis": "y6"
        },
        {
         "boxpoints": "all",
         "marker": {
          "color": "#B279A2",
          "size": 5
         },
         "name": "Patients/Pat379/CD20",
         "type": "box",
         "uid": "6fb1add8-7dab-452e-ad5e-c5fe4bb03dac",
         "width": 0.5,
         "x": {
          "dtype": "float64",
          "shape": [
           8
          ]
         },
         "xaxis": "x6",
         "yaxis": "y6"
        },
        {
         "boxpoints": "all",
         "marker": {
          "color": "#FF9DA6",
          "size": 5
         },
         "name": "Patients/Pat379/CD38",
         "type": "box",
         "uid": "c00c28b2-9b25-4d53-88a5-a4e29a0c2fc2",
         "width": 0.5,
         "x": {
          "dtype": "float64",
          "shape": [
           6
          ]
         },
         "xaxis": "x6",
         "yaxis": "y6"
        },
        {
         "boxpoints": "all",
         "marker": {
          "color": "#9D755D",
          "size": 5
         },
         "name": "Patients/Pat379/GPRCD5",
         "type": "box",
         "uid": "2950fd6a-32d1-490a-a1b3-256edda4596a",
         "width": 0.5,
         "x": {
          "dtype": "float64",
          "shape": [
           6
          ]
         },
         "xaxis": "x6",
         "yaxis": "y6"
        },
        {
         "boxpoints": "all",
         "marker": {
          "color": "#BAB0AC",
          "size": 5
         },
         "name": "Patients/Pat379/SLAMF7",
         "type": "box",
         "uid": "fdba8316-4cc9-4bae-8ecb-0fdd1cf1bc03",
         "width": 0.5,
         "x": {
          "dtype": "float64",
          "shape": [
           7
          ]
         },
         "xaxis": "x6",
         "yaxis": "y6"
        },
        {
         "boxpoints": "all",
         "marker": {
          "color": "#4C78A8",
          "size": 5
         },
         "name": "Patients/Pat394/BCMA",
         "type": "box",
         "uid": "8e4f7f8a-704a-4414-b4b8-1fb972e49dbb",
         "width": 0.5,
         "x": {
          "dtype": "float64",
          "shape": [
           14
          ]
         },
         "xaxis": "x6",
         "yaxis": "y6"
        },
        {
         "boxpoints": "all",
         "marker": {
          "color": "#F58518",
          "size": 5
         },
         "name": "Patients/Pat394/CD138",
         "type": "box",
         "uid": "6b0cf9c5-6b94-4998-b3d5-96f7cad9ae21",
         "width": 0.5,
         "x": {
          "dtype": "float64",
          "shape": [
           9
          ]
         },
         "xaxis": "x6",
         "yaxis": "y6"
        },
        {
         "boxpoints": "all",
         "marker": {
          "color": "#E45756",
          "size": 5
         },
         "name": "Patients/Pat394/CD19",
         "type": "box",
         "uid": "029206dd-e937-48b3-a5b3-ec98114b6f2c",
         "width": 0.5,
         "x": {
          "dtype": "float64",
          "shape": [
           6
          ]
         },
         "xaxis": "x6",
         "yaxis": "y6"
        },
        {
         "boxpoints": "all",
         "marker": {
          "color": "#72B7B2",
          "size": 5
         },
         "name": "Patients/Pat394/CD20",
         "type": "box",
         "uid": "638e1b22-fa37-4807-8f3f-0b8d5a8aa247",
         "width": 0.5,
         "x": {
          "dtype": "float64",
          "shape": [
           8
          ]
         },
         "xaxis": "x6",
         "yaxis": "y6"
        },
        {
         "boxpoints": "all",
         "marker": {
          "color": "#54A24B",
          "size": 5
         },
         "name": "Patients/Pat394/CD38",
         "type": "box",
         "uid": "ce4c4cd8-f52f-4318-8be8-1c9fe8ee11da",
         "width": 0.5,
         "x": {
          "dtype": "float64",
          "shape": [
           9
          ]
         },
         "xaxis": "x6",
         "yaxis": "y6"
        },
        {
         "boxpoints": "all",
         "marker": {
          "color": "#EECA3B",
          "size": 5
         },
         "name": "Patients/Pat394/GPRCD5",
         "type": "box",
         "uid": "7dcfe740-1c66-4740-9f56-c80d981e5ae7",
         "width": 0.5,
         "x": {
          "dtype": "float64",
          "shape": [
           7
          ]
         },
         "xaxis": "x6",
         "yaxis": "y6"
        },
        {
         "boxpoints": "all",
         "marker": {
          "color": "#B279A2",
          "size": 5
         },
         "name": "Patients/Pat394/SLAMF7",
         "type": "box",
         "uid": "11188b7b-143c-4a14-a507-da174258ef0e",
         "width": 0.5,
         "x": {
          "dtype": "float64",
          "shape": [
           3
          ]
         },
         "xaxis": "x6",
         "yaxis": "y6"
        },
        {
         "boxpoints": "all",
         "marker": {
          "color": "#FF9DA6",
          "size": 5
         },
         "name": "Patients/Pat394/SLAMF7/1",
         "type": "box",
         "uid": "02d03cdb-8ad4-4d9c-b787-ab270779481f",
         "width": 0.5,
         "x": {
          "dtype": "float64",
          "shape": [
           6
          ]
         },
         "xaxis": "x6",
         "yaxis": "y6"
        },
        {
         "boxpoints": "all",
         "marker": {
          "color": "#4C78A8",
          "size": 5
         },
         "name": "AML/1",
         "type": "box",
         "uid": "752121cf-0769-4587-8a3b-d23096823779",
         "width": 0.5,
         "x": {
          "dtype": "float64",
          "shape": [
           11
          ]
         },
         "xaxis": "x7",
         "yaxis": "y7"
        },
        {
         "boxpoints": "all",
         "marker": {
          "color": "#F58518",
          "size": 5
         },
         "name": "AML/7",
         "type": "box",
         "uid": "828b1f18-679d-46d6-a922-3127fc0fef42",
         "width": 0.5,
         "x": {
          "dtype": "float64",
          "shape": [
           13
          ]
         },
         "xaxis": "x7",
         "yaxis": "y7"
        },
        {
         "boxpoints": "all",
         "marker": {
          "color": "#E45756",
          "size": 5
         },
         "name": "AML/8",
         "type": "box",
         "uid": "bccb0c8e-d3d0-4cf4-8502-73822551eac8",
         "width": 0.5,
         "x": {
          "dtype": "float64",
          "shape": [
           10
          ]
         },
         "xaxis": "x7",
         "yaxis": "y7"
        },
        {
         "boxpoints": "all",
         "marker": {
          "color": "#72B7B2",
          "size": 5
         },
         "name": "Cellcycle/CD2/HU",
         "type": "box",
         "uid": "69dfa16e-87a2-4457-a839-5eb38a090c3a",
         "width": 0.5,
         "x": {
          "dtype": "float64",
          "shape": [
           5
          ]
         },
         "xaxis": "x7",
         "yaxis": "y7"
        },
        {
         "boxpoints": "all",
         "marker": {
          "color": "#54A24B",
          "size": 5
         },
         "name": "Cellcycle/CD69/FCS",
         "type": "box",
         "uid": "8a5b2ca0-6507-4859-a2eb-aeab8f469777",
         "width": 0.5,
         "x": {
          "dtype": "float64",
          "shape": [
           9
          ]
         },
         "xaxis": "x7",
         "yaxis": "y7"
        },
        {
         "boxpoints": "all",
         "marker": {
          "color": "#EECA3B",
          "size": 5
         },
         "name": "Cellcycle/CD69/HU",
         "type": "box",
         "uid": "8fab93dd-7069-4c27-a74e-f6d22db01168",
         "width": 0.5,
         "x": {
          "dtype": "float64",
          "shape": [
           2
          ]
         },
         "xaxis": "x7",
         "yaxis": "y7"
        },
        {
         "boxpoints": "all",
         "marker": {
          "color": "#B279A2",
          "size": 5
         },
         "name": "Cellcycle/Cd28/FCS",
         "type": "box",
         "uid": "53137eec-3332-4564-823a-db077a64f5de",
         "width": 0.5,
         "x": {
          "dtype": "float64",
          "shape": [
           7
          ]
         },
         "xaxis": "x7",
         "yaxis": "y7"
        },
        {
         "boxpoints": "all",
         "marker": {
          "color": "#FF9DA6",
          "size": 5
         },
         "name": "Cellcycle/Cd28/HU",
         "type": "box",
         "uid": "763b049c-2539-4271-a035-bb060cd68a23",
         "width": 0.5,
         "x": {
          "dtype": "float64",
          "shape": [
           17
          ]
         },
         "xaxis": "x7",
         "yaxis": "y7"
        },
        {
         "boxpoints": "all",
         "marker": {
          "color": "#9D755D",
          "size": 5
         },
         "name": "Cellcycle/Cd28/K",
         "type": "box",
         "uid": "3146f765-51b7-4c7f-be15-021bc01a9670",
         "width": 0.5,
         "x": {
          "dtype": "float64",
          "shape": [
           12
          ]
         },
         "xaxis": "x7",
         "yaxis": "y7"
        },
        {
         "boxpoints": "all",
         "marker": {
          "color": "#BAB0AC",
          "size": 5
         },
         "name": "Cellcycle/Cd3/FCS",
         "type": "box",
         "uid": "93107235-7d21-42c4-8752-bde4cc494a27",
         "width": 0.5,
         "x": {
          "dtype": "float64",
          "shape": [
           9
          ]
         },
         "xaxis": "x7",
         "yaxis": "y7"
        },
        {
         "boxpoints": "all",
         "marker": {
          "color": "#4C78A8",
          "size": 5
         },
         "name": "Cellcycle/Cd3/HU",
         "type": "box",
         "uid": "ca1cfcb6-fc82-496f-8892-fb5d25665de7",
         "width": 0.5,
         "x": {
          "dtype": "float64",
          "shape": [
           13
          ]
         },
         "xaxis": "x7",
         "yaxis": "y7"
        },
        {
         "boxpoints": "all",
         "marker": {
          "color": "#F58518",
          "size": 5
         },
         "name": "Cellcycle/Cd3/K",
         "type": "box",
         "uid": "f010dd6c-6d0e-4577-87ae-6bb9d4374da8",
         "width": 0.5,
         "x": {
          "dtype": "float64",
          "shape": [
           5
          ]
         },
         "xaxis": "x7",
         "yaxis": "y7"
        },
        {
         "boxpoints": "all",
         "marker": {
          "color": "#E45756",
          "size": 5
         },
         "name": "Jurkat/CD105/5",
         "type": "box",
         "uid": "88d28070-94c7-41db-9b3d-b941b372f058",
         "width": 0.5,
         "x": {
          "dtype": "float64",
          "shape": [
           6
          ]
         },
         "xaxis": "x7",
         "yaxis": "y7"
        },
        {
         "boxpoints": "all",
         "marker": {
          "color": "#72B7B2",
          "size": 5
         },
         "name": "Jurkat/CD11a",
         "type": "box",
         "uid": "862861e6-b357-4a50-a1b6-4b9899648863",
         "width": 0.5,
         "x": {
          "dtype": "float64",
          "shape": [
           13
          ]
         },
         "xaxis": "x7",
         "yaxis": "y7"
        },
        {
         "boxpoints": "all",
         "marker": {
          "color": "#54A24B",
          "size": 5
         },
         "name": "Jurkat/CD18",
         "type": "box",
         "uid": "6ed3bd8c-04fb-4416-9b79-5209755a7a8b",
         "width": 0.5,
         "x": {
          "dtype": "float64",
          "shape": [
           20
          ]
         },
         "xaxis": "x7",
         "yaxis": "y7"
        },
        {
         "boxpoints": "all",
         "marker": {
          "color": "#EECA3B",
          "size": 5
         },
         "name": "Jurkat/CD2",
         "type": "box",
         "uid": "162e3c71-e856-4442-900e-225bfb7b7db9",
         "width": 0.5,
         "x": {
          "dtype": "float64",
          "shape": [
           7
          ]
         },
         "xaxis": "x7",
         "yaxis": "y7"
        },
        {
         "boxpoints": "all",
         "marker": {
          "color": "#B279A2",
          "size": 5
         },
         "name": "Jurkat/CD45/CD45",
         "type": "box",
         "uid": "c0c82d5a-4f4b-45b8-b920-b449506f243d",
         "width": 0.5,
         "x": {
          "dtype": "float64",
          "shape": [
           14
          ]
         },
         "xaxis": "x7",
         "yaxis": "y7"
        },
        {
         "boxpoints": "all",
         "marker": {
          "color": "#FF9DA6",
          "size": 5
         },
         "name": "Jurkat/CD69",
         "type": "box",
         "uid": "6aa0ab19-827a-40bc-8857-166d4fede718",
         "width": 0.5,
         "x": {
          "dtype": "float64",
          "shape": [
           27
          ]
         },
         "xaxis": "x7",
         "yaxis": "y7"
        },
        {
         "boxpoints": "all",
         "marker": {
          "color": "#9D755D",
          "size": 5
         },
         "name": "Jurkat/CD69/Cd69_K",
         "type": "box",
         "uid": "06338ee0-406c-493f-9c02-614a12996310",
         "width": 0.5,
         "x": {
          "dtype": "float64",
          "shape": [
           5
          ]
         },
         "xaxis": "x7",
         "yaxis": "y7"
        },
        {
         "boxpoints": "all",
         "marker": {
          "color": "#BAB0AC",
          "size": 5
         },
         "name": "Jurkat/Cd45_pab_sab",
         "type": "box",
         "uid": "a28f1f2a-c17d-4440-8fea-d1ad3712a561",
         "width": 0.5,
         "x": {
          "dtype": "float64",
          "shape": [
           13
          ]
         },
         "xaxis": "x7",
         "yaxis": "y7"
        },
        {
         "boxpoints": "all",
         "marker": {
          "color": "#4C78A8",
          "size": 5
         },
         "name": "Jurkat/Cd69_twocolor",
         "type": "box",
         "uid": "dd4fdfc3-1233-46ca-89b9-0db07ce4346d",
         "width": 0.5,
         "x": {
          "dtype": "float64",
          "shape": [
           6
          ]
         },
         "xaxis": "x7",
         "yaxis": "y7"
        },
        {
         "boxpoints": "all",
         "marker": {
          "color": "#F58518",
          "size": 5
         },
         "name": "Jurkat/LFA1",
         "type": "box",
         "uid": "54329552-11c3-456c-9224-04ad30c5a99b",
         "width": 0.5,
         "x": {
          "dtype": "float64",
          "shape": [
           18
          ]
         },
         "xaxis": "x7",
         "yaxis": "y7"
        },
        {
         "boxpoints": "all",
         "marker": {
          "color": "#E45756",
          "size": 5
         },
         "name": "Pat23_CD38",
         "type": "box",
         "uid": "b3d848cb-8524-415f-8fe9-59b0f883be8a",
         "width": 0.5,
         "x": {
          "dtype": "float64",
          "shape": [
           127
          ]
         },
         "xaxis": "x7",
         "yaxis": "y7"
        },
        {
         "boxpoints": "all",
         "marker": {
          "color": "#72B7B2",
          "size": 5
         },
         "name": "Patients/Pat379/BCMA",
         "type": "box",
         "uid": "bfd7711a-d94e-4c81-a79a-9d89d996cf06",
         "width": 0.5,
         "x": {
          "dtype": "float64",
          "shape": [
           4
          ]
         },
         "xaxis": "x7",
         "yaxis": "y7"
        },
        {
         "boxpoints": "all",
         "marker": {
          "color": "#54A24B",
          "size": 5
         },
         "name": "Patients/Pat379/CD138",
         "type": "box",
         "uid": "aa2c5de1-acdd-4c8a-a822-3780e55b7ea3",
         "width": 0.5,
         "x": {
          "dtype": "float64",
          "shape": [
           7
          ]
         },
         "xaxis": "x7",
         "yaxis": "y7"
        },
        {
         "boxpoints": "all",
         "marker": {
          "color": "#EECA3B",
          "size": 5
         },
         "name": "Patients/Pat379/CD19",
         "type": "box",
         "uid": "3b01cbcc-690b-423d-8860-ea5839e8a633",
         "width": 0.5,
         "x": {
          "dtype": "float64",
          "shape": [
           11
          ]
         },
         "xaxis": "x7",
         "yaxis": "y7"
        },
        {
         "boxpoints": "all",
         "marker": {
          "color": "#B279A2",
          "size": 5
         },
         "name": "Patients/Pat379/CD20",
         "type": "box",
         "uid": "49a7dbfc-b6d3-4907-b0fe-35dbd8cdae96",
         "width": 0.5,
         "x": {
          "dtype": "float64",
          "shape": [
           8
          ]
         },
         "xaxis": "x7",
         "yaxis": "y7"
        },
        {
         "boxpoints": "all",
         "marker": {
          "color": "#FF9DA6",
          "size": 5
         },
         "name": "Patients/Pat379/CD38",
         "type": "box",
         "uid": "1546430f-0c71-47c2-8d6e-df87e747862f",
         "width": 0.5,
         "x": {
          "dtype": "float64",
          "shape": [
           6
          ]
         },
         "xaxis": "x7",
         "yaxis": "y7"
        },
        {
         "boxpoints": "all",
         "marker": {
          "color": "#9D755D",
          "size": 5
         },
         "name": "Patients/Pat379/GPRCD5",
         "type": "box",
         "uid": "39b229ac-77ab-40e4-abf6-622012c8a6a0",
         "width": 0.5,
         "x": {
          "dtype": "float64",
          "shape": [
           6
          ]
         },
         "xaxis": "x7",
         "yaxis": "y7"
        },
        {
         "boxpoints": "all",
         "marker": {
          "color": "#BAB0AC",
          "size": 5
         },
         "name": "Patients/Pat379/SLAMF7",
         "type": "box",
         "uid": "02979b11-9797-4699-b2c5-82d30b2edbf8",
         "width": 0.5,
         "x": {
          "dtype": "float64",
          "shape": [
           7
          ]
         },
         "xaxis": "x7",
         "yaxis": "y7"
        },
        {
         "boxpoints": "all",
         "marker": {
          "color": "#4C78A8",
          "size": 5
         },
         "name": "Patients/Pat394/BCMA",
         "type": "box",
         "uid": "742865ee-3b8c-41f0-88a5-1d27642de406",
         "width": 0.5,
         "x": {
          "dtype": "float64",
          "shape": [
           14
          ]
         },
         "xaxis": "x7",
         "yaxis": "y7"
        },
        {
         "boxpoints": "all",
         "marker": {
          "color": "#F58518",
          "size": 5
         },
         "name": "Patients/Pat394/CD138",
         "type": "box",
         "uid": "e6137342-3c10-4203-9be3-cc33f9fe8128",
         "width": 0.5,
         "x": {
          "dtype": "float64",
          "shape": [
           9
          ]
         },
         "xaxis": "x7",
         "yaxis": "y7"
        },
        {
         "boxpoints": "all",
         "marker": {
          "color": "#E45756",
          "size": 5
         },
         "name": "Patients/Pat394/CD19",
         "type": "box",
         "uid": "6aa999e0-783d-4606-bc64-1ab1b03933e1",
         "width": 0.5,
         "x": {
          "dtype": "float64",
          "shape": [
           6
          ]
         },
         "xaxis": "x7",
         "yaxis": "y7"
        },
        {
         "boxpoints": "all",
         "marker": {
          "color": "#72B7B2",
          "size": 5
         },
         "name": "Patients/Pat394/CD20",
         "type": "box",
         "uid": "cbf195d0-7900-402f-8894-4d9049c56d85",
         "width": 0.5,
         "x": {
          "dtype": "float64",
          "shape": [
           8
          ]
         },
         "xaxis": "x7",
         "yaxis": "y7"
        },
        {
         "boxpoints": "all",
         "marker": {
          "color": "#54A24B",
          "size": 5
         },
         "name": "Patients/Pat394/CD38",
         "type": "box",
         "uid": "b02e6c87-cf7e-457e-85d1-daf470660cc9",
         "width": 0.5,
         "x": {
          "dtype": "float64",
          "shape": [
           9
          ]
         },
         "xaxis": "x7",
         "yaxis": "y7"
        },
        {
         "boxpoints": "all",
         "marker": {
          "color": "#EECA3B",
          "size": 5
         },
         "name": "Patients/Pat394/GPRCD5",
         "type": "box",
         "uid": "1433e372-ce03-4821-9072-b5f5b63f22ba",
         "width": 0.5,
         "x": {
          "dtype": "float64",
          "shape": [
           7
          ]
         },
         "xaxis": "x7",
         "yaxis": "y7"
        },
        {
         "boxpoints": "all",
         "marker": {
          "color": "#B279A2",
          "size": 5
         },
         "name": "Patients/Pat394/SLAMF7",
         "type": "box",
         "uid": "35e1b04b-c374-4d04-a16f-1872160e4f18",
         "width": 0.5,
         "x": {
          "dtype": "float64",
          "shape": [
           3
          ]
         },
         "xaxis": "x7",
         "yaxis": "y7"
        },
        {
         "boxpoints": "all",
         "marker": {
          "color": "#FF9DA6",
          "size": 5
         },
         "name": "Patients/Pat394/SLAMF7/1",
         "type": "box",
         "uid": "23de051a-a5fa-4df9-8830-c45d10cda45e",
         "width": 0.5,
         "x": {
          "dtype": "float64",
          "shape": [
           6
          ]
         },
         "xaxis": "x7",
         "yaxis": "y7"
        },
        {
         "boxpoints": "all",
         "marker": {
          "color": "#4C78A8",
          "size": 5
         },
         "name": "AML/1",
         "type": "box",
         "uid": "3f6d6fb9-bda7-4f97-9da5-178390a9afa9",
         "width": 0.5,
         "x": {
          "dtype": "float64",
          "shape": [
           11
          ]
         },
         "xaxis": "x8",
         "yaxis": "y8"
        },
        {
         "boxpoints": "all",
         "marker": {
          "color": "#F58518",
          "size": 5
         },
         "name": "AML/7",
         "type": "box",
         "uid": "50a126e6-0e78-4afd-8da9-dd6cc17410ec",
         "width": 0.5,
         "x": {
          "dtype": "float64",
          "shape": [
           13
          ]
         },
         "xaxis": "x8",
         "yaxis": "y8"
        },
        {
         "boxpoints": "all",
         "marker": {
          "color": "#E45756",
          "size": 5
         },
         "name": "AML/8",
         "type": "box",
         "uid": "036fc359-5a9d-4597-ac3b-def9bc88b18d",
         "width": 0.5,
         "x": {
          "dtype": "float64",
          "shape": [
           10
          ]
         },
         "xaxis": "x8",
         "yaxis": "y8"
        },
        {
         "boxpoints": "all",
         "marker": {
          "color": "#72B7B2",
          "size": 5
         },
         "name": "Cellcycle/CD2/HU",
         "type": "box",
         "uid": "12ffc8e5-409a-4fc8-8abe-86279ccf2859",
         "width": 0.5,
         "x": {
          "dtype": "float64",
          "shape": [
           5
          ]
         },
         "xaxis": "x8",
         "yaxis": "y8"
        },
        {
         "boxpoints": "all",
         "marker": {
          "color": "#54A24B",
          "size": 5
         },
         "name": "Cellcycle/CD69/FCS",
         "type": "box",
         "uid": "25250876-445a-4919-9651-e8960ec0f599",
         "width": 0.5,
         "x": {
          "dtype": "float64",
          "shape": [
           9
          ]
         },
         "xaxis": "x8",
         "yaxis": "y8"
        },
        {
         "boxpoints": "all",
         "marker": {
          "color": "#EECA3B",
          "size": 5
         },
         "name": "Cellcycle/CD69/HU",
         "type": "box",
         "uid": "daeaa6de-e71a-435c-80c5-132afafaa7ef",
         "width": 0.5,
         "x": {
          "dtype": "float64",
          "shape": [
           2
          ]
         },
         "xaxis": "x8",
         "yaxis": "y8"
        },
        {
         "boxpoints": "all",
         "marker": {
          "color": "#B279A2",
          "size": 5
         },
         "name": "Cellcycle/Cd28/FCS",
         "type": "box",
         "uid": "20aec835-0125-499c-9f2a-cb67c1f7abf7",
         "width": 0.5,
         "x": {
          "dtype": "float64",
          "shape": [
           7
          ]
         },
         "xaxis": "x8",
         "yaxis": "y8"
        },
        {
         "boxpoints": "all",
         "marker": {
          "color": "#FF9DA6",
          "size": 5
         },
         "name": "Cellcycle/Cd28/HU",
         "type": "box",
         "uid": "b938144f-061a-4656-aad8-135344677a41",
         "width": 0.5,
         "x": {
          "dtype": "float64",
          "shape": [
           17
          ]
         },
         "xaxis": "x8",
         "yaxis": "y8"
        },
        {
         "boxpoints": "all",
         "marker": {
          "color": "#9D755D",
          "size": 5
         },
         "name": "Cellcycle/Cd28/K",
         "type": "box",
         "uid": "7bf112f5-35b6-426c-a31d-0a058e6a9523",
         "width": 0.5,
         "x": {
          "dtype": "float64",
          "shape": [
           12
          ]
         },
         "xaxis": "x8",
         "yaxis": "y8"
        },
        {
         "boxpoints": "all",
         "marker": {
          "color": "#BAB0AC",
          "size": 5
         },
         "name": "Cellcycle/Cd3/FCS",
         "type": "box",
         "uid": "0339a51f-bdc3-470b-891b-c43d13424280",
         "width": 0.5,
         "x": {
          "dtype": "float64",
          "shape": [
           9
          ]
         },
         "xaxis": "x8",
         "yaxis": "y8"
        },
        {
         "boxpoints": "all",
         "marker": {
          "color": "#4C78A8",
          "size": 5
         },
         "name": "Cellcycle/Cd3/HU",
         "type": "box",
         "uid": "53bfe5ef-da20-4e63-a39a-ef16a684a8df",
         "width": 0.5,
         "x": {
          "dtype": "float64",
          "shape": [
           13
          ]
         },
         "xaxis": "x8",
         "yaxis": "y8"
        },
        {
         "boxpoints": "all",
         "marker": {
          "color": "#F58518",
          "size": 5
         },
         "name": "Cellcycle/Cd3/K",
         "type": "box",
         "uid": "98263e10-9b59-498c-82af-53c46ee09a8d",
         "width": 0.5,
         "x": {
          "dtype": "float64",
          "shape": [
           5
          ]
         },
         "xaxis": "x8",
         "yaxis": "y8"
        },
        {
         "boxpoints": "all",
         "marker": {
          "color": "#E45756",
          "size": 5
         },
         "name": "Jurkat/CD105/5",
         "type": "box",
         "uid": "9e2c178f-c828-4afd-877b-614c002721e1",
         "width": 0.5,
         "x": {
          "dtype": "float64",
          "shape": [
           6
          ]
         },
         "xaxis": "x8",
         "yaxis": "y8"
        },
        {
         "boxpoints": "all",
         "marker": {
          "color": "#72B7B2",
          "size": 5
         },
         "name": "Jurkat/CD11a",
         "type": "box",
         "uid": "f5cbf9e6-db53-45cd-8151-d221b6688e70",
         "width": 0.5,
         "x": {
          "dtype": "float64",
          "shape": [
           13
          ]
         },
         "xaxis": "x8",
         "yaxis": "y8"
        },
        {
         "boxpoints": "all",
         "marker": {
          "color": "#54A24B",
          "size": 5
         },
         "name": "Jurkat/CD18",
         "type": "box",
         "uid": "bd4b446d-52c6-4fe4-b613-03444fa5f97a",
         "width": 0.5,
         "x": {
          "dtype": "float64",
          "shape": [
           20
          ]
         },
         "xaxis": "x8",
         "yaxis": "y8"
        },
        {
         "boxpoints": "all",
         "marker": {
          "color": "#EECA3B",
          "size": 5
         },
         "name": "Jurkat/CD2",
         "type": "box",
         "uid": "f6436afa-cb16-48b6-974e-0ecf6b93d1c6",
         "width": 0.5,
         "x": {
          "dtype": "float64",
          "shape": [
           7
          ]
         },
         "xaxis": "x8",
         "yaxis": "y8"
        },
        {
         "boxpoints": "all",
         "marker": {
          "color": "#B279A2",
          "size": 5
         },
         "name": "Jurkat/CD45/CD45",
         "type": "box",
         "uid": "75a82f1b-38ac-4f80-a582-b64d108c9f30",
         "width": 0.5,
         "x": {
          "dtype": "float64",
          "shape": [
           14
          ]
         },
         "xaxis": "x8",
         "yaxis": "y8"
        },
        {
         "boxpoints": "all",
         "marker": {
          "color": "#FF9DA6",
          "size": 5
         },
         "name": "Jurkat/CD69",
         "type": "box",
         "uid": "00022722-4af2-478a-8161-e1c060dce076",
         "width": 0.5,
         "x": {
          "dtype": "float64",
          "shape": [
           27
          ]
         },
         "xaxis": "x8",
         "yaxis": "y8"
        },
        {
         "boxpoints": "all",
         "marker": {
          "color": "#9D755D",
          "size": 5
         },
         "name": "Jurkat/CD69/Cd69_K",
         "type": "box",
         "uid": "a5090434-72a8-4fc1-8975-e8bee2eb7a3c",
         "width": 0.5,
         "x": {
          "dtype": "float64",
          "shape": [
           5
          ]
         },
         "xaxis": "x8",
         "yaxis": "y8"
        },
        {
         "boxpoints": "all",
         "marker": {
          "color": "#BAB0AC",
          "size": 5
         },
         "name": "Jurkat/Cd45_pab_sab",
         "type": "box",
         "uid": "5a7943bb-e649-44bb-8a5f-a5c5ac2a79bb",
         "width": 0.5,
         "x": {
          "dtype": "float64",
          "shape": [
           13
          ]
         },
         "xaxis": "x8",
         "yaxis": "y8"
        },
        {
         "boxpoints": "all",
         "marker": {
          "color": "#4C78A8",
          "size": 5
         },
         "name": "Jurkat/Cd69_twocolor",
         "type": "box",
         "uid": "2408520f-a1be-4f75-97df-c9e07cb12853",
         "width": 0.5,
         "x": {
          "dtype": "float64",
          "shape": [
           6
          ]
         },
         "xaxis": "x8",
         "yaxis": "y8"
        },
        {
         "boxpoints": "all",
         "marker": {
          "color": "#F58518",
          "size": 5
         },
         "name": "Jurkat/LFA1",
         "type": "box",
         "uid": "3fab056b-0a4c-43ec-9124-127eab021242",
         "width": 0.5,
         "x": {
          "dtype": "float64",
          "shape": [
           18
          ]
         },
         "xaxis": "x8",
         "yaxis": "y8"
        },
        {
         "boxpoints": "all",
         "marker": {
          "color": "#E45756",
          "size": 5
         },
         "name": "Pat23_CD38",
         "type": "box",
         "uid": "09d9adae-9d3a-4221-9f8a-321245d56845",
         "width": 0.5,
         "x": {
          "dtype": "float64",
          "shape": [
           127
          ]
         },
         "xaxis": "x8",
         "yaxis": "y8"
        },
        {
         "boxpoints": "all",
         "marker": {
          "color": "#72B7B2",
          "size": 5
         },
         "name": "Patients/Pat379/BCMA",
         "type": "box",
         "uid": "f0772194-45e3-4d6b-afc6-47f4e2db4351",
         "width": 0.5,
         "x": {
          "dtype": "float64",
          "shape": [
           4
          ]
         },
         "xaxis": "x8",
         "yaxis": "y8"
        },
        {
         "boxpoints": "all",
         "marker": {
          "color": "#54A24B",
          "size": 5
         },
         "name": "Patients/Pat379/CD138",
         "type": "box",
         "uid": "738fabde-27e1-483c-8267-f04eb99626d4",
         "width": 0.5,
         "x": {
          "dtype": "float64",
          "shape": [
           7
          ]
         },
         "xaxis": "x8",
         "yaxis": "y8"
        },
        {
         "boxpoints": "all",
         "marker": {
          "color": "#EECA3B",
          "size": 5
         },
         "name": "Patients/Pat379/CD19",
         "type": "box",
         "uid": "d1147c28-a8fb-41ca-ac85-a4439a945bad",
         "width": 0.5,
         "x": {
          "dtype": "float64",
          "shape": [
           11
          ]
         },
         "xaxis": "x8",
         "yaxis": "y8"
        },
        {
         "boxpoints": "all",
         "marker": {
          "color": "#B279A2",
          "size": 5
         },
         "name": "Patients/Pat379/CD20",
         "type": "box",
         "uid": "bbcdcc89-97ce-4690-a1d8-fa2a7c2915f0",
         "width": 0.5,
         "x": {
          "dtype": "float64",
          "shape": [
           8
          ]
         },
         "xaxis": "x8",
         "yaxis": "y8"
        },
        {
         "boxpoints": "all",
         "marker": {
          "color": "#FF9DA6",
          "size": 5
         },
         "name": "Patients/Pat379/CD38",
         "type": "box",
         "uid": "48376d40-6a81-49a1-843a-f1013848d844",
         "width": 0.5,
         "x": {
          "dtype": "float64",
          "shape": [
           6
          ]
         },
         "xaxis": "x8",
         "yaxis": "y8"
        },
        {
         "boxpoints": "all",
         "marker": {
          "color": "#9D755D",
          "size": 5
         },
         "name": "Patients/Pat379/GPRCD5",
         "type": "box",
         "uid": "d116e92b-b401-42fe-9cdc-fe05f42a3c19",
         "width": 0.5,
         "x": {
          "dtype": "float64",
          "shape": [
           6
          ]
         },
         "xaxis": "x8",
         "yaxis": "y8"
        },
        {
         "boxpoints": "all",
         "marker": {
          "color": "#BAB0AC",
          "size": 5
         },
         "name": "Patients/Pat379/SLAMF7",
         "type": "box",
         "uid": "07226d0c-40a0-442d-b364-f4316ff23cb3",
         "width": 0.5,
         "x": {
          "dtype": "float64",
          "shape": [
           7
          ]
         },
         "xaxis": "x8",
         "yaxis": "y8"
        },
        {
         "boxpoints": "all",
         "marker": {
          "color": "#4C78A8",
          "size": 5
         },
         "name": "Patients/Pat394/BCMA",
         "type": "box",
         "uid": "1982c3d7-6613-4fa6-943a-29b57f8580c2",
         "width": 0.5,
         "x": {
          "dtype": "float64",
          "shape": [
           14
          ]
         },
         "xaxis": "x8",
         "yaxis": "y8"
        },
        {
         "boxpoints": "all",
         "marker": {
          "color": "#F58518",
          "size": 5
         },
         "name": "Patients/Pat394/CD138",
         "type": "box",
         "uid": "32df6534-ff4f-454d-9ae2-94f709aa3b6e",
         "width": 0.5,
         "x": {
          "dtype": "float64",
          "shape": [
           9
          ]
         },
         "xaxis": "x8",
         "yaxis": "y8"
        },
        {
         "boxpoints": "all",
         "marker": {
          "color": "#E45756",
          "size": 5
         },
         "name": "Patients/Pat394/CD19",
         "type": "box",
         "uid": "9a05463e-eaf3-4051-96f4-e00c11097bd0",
         "width": 0.5,
         "x": {
          "dtype": "float64",
          "shape": [
           6
          ]
         },
         "xaxis": "x8",
         "yaxis": "y8"
        },
        {
         "boxpoints": "all",
         "marker": {
          "color": "#72B7B2",
          "size": 5
         },
         "name": "Patients/Pat394/CD20",
         "type": "box",
         "uid": "d2c7ff1e-c245-4762-8c02-6e0b8f5d137a",
         "width": 0.5,
         "x": {
          "dtype": "float64",
          "shape": [
           8
          ]
         },
         "xaxis": "x8",
         "yaxis": "y8"
        },
        {
         "boxpoints": "all",
         "marker": {
          "color": "#54A24B",
          "size": 5
         },
         "name": "Patients/Pat394/CD38",
         "type": "box",
         "uid": "8f1249a0-dd86-456d-bc79-fa76c9592348",
         "width": 0.5,
         "x": {
          "dtype": "float64",
          "shape": [
           9
          ]
         },
         "xaxis": "x8",
         "yaxis": "y8"
        },
        {
         "boxpoints": "all",
         "marker": {
          "color": "#EECA3B",
          "size": 5
         },
         "name": "Patients/Pat394/GPRCD5",
         "type": "box",
         "uid": "601083e5-18bd-45c6-bcc3-61a503285ad2",
         "width": 0.5,
         "x": {
          "dtype": "float64",
          "shape": [
           7
          ]
         },
         "xaxis": "x8",
         "yaxis": "y8"
        },
        {
         "boxpoints": "all",
         "marker": {
          "color": "#B279A2",
          "size": 5
         },
         "name": "Patients/Pat394/SLAMF7",
         "type": "box",
         "uid": "2a69b4da-e48f-4569-905a-e0ae258a5c06",
         "width": 0.5,
         "x": {
          "dtype": "float64",
          "shape": [
           3
          ]
         },
         "xaxis": "x8",
         "yaxis": "y8"
        },
        {
         "boxpoints": "all",
         "marker": {
          "color": "#FF9DA6",
          "size": 5
         },
         "name": "Patients/Pat394/SLAMF7/1",
         "type": "box",
         "uid": "5bc10ec2-ac90-4a24-b5dc-549233409e36",
         "width": 0.5,
         "x": {
          "dtype": "float64",
          "shape": [
           6
          ]
         },
         "xaxis": "x8",
         "yaxis": "y8"
        },
        {
         "boxpoints": "all",
         "marker": {
          "color": "#4C78A8",
          "size": 5
         },
         "name": "AML/1",
         "type": "box",
         "uid": "a36c2f39-360c-4d03-8300-6c2b7f7423c3",
         "width": 0.5,
         "x": {
          "dtype": "float64",
          "shape": [
           11
          ]
         },
         "xaxis": "x9",
         "yaxis": "y9"
        },
        {
         "boxpoints": "all",
         "marker": {
          "color": "#F58518",
          "size": 5
         },
         "name": "AML/7",
         "type": "box",
         "uid": "1234addf-91d5-4f6c-95e8-dc71e365aa1b",
         "width": 0.5,
         "x": {
          "dtype": "float64",
          "shape": [
           13
          ]
         },
         "xaxis": "x9",
         "yaxis": "y9"
        },
        {
         "boxpoints": "all",
         "marker": {
          "color": "#E45756",
          "size": 5
         },
         "name": "AML/8",
         "type": "box",
         "uid": "1410180c-d972-4a1a-a63a-0b9f5fe54c3a",
         "width": 0.5,
         "x": {
          "dtype": "float64",
          "shape": [
           10
          ]
         },
         "xaxis": "x9",
         "yaxis": "y9"
        },
        {
         "boxpoints": "all",
         "marker": {
          "color": "#72B7B2",
          "size": 5
         },
         "name": "Cellcycle/CD2/HU",
         "type": "box",
         "uid": "8ffbca41-d5d9-462e-bb6f-9ec87f7937c1",
         "width": 0.5,
         "x": {
          "dtype": "float64",
          "shape": [
           5
          ]
         },
         "xaxis": "x9",
         "yaxis": "y9"
        },
        {
         "boxpoints": "all",
         "marker": {
          "color": "#54A24B",
          "size": 5
         },
         "name": "Cellcycle/CD69/FCS",
         "type": "box",
         "uid": "ceed45c4-2b44-4463-8985-04cf89b118fb",
         "width": 0.5,
         "x": {
          "dtype": "float64",
          "shape": [
           9
          ]
         },
         "xaxis": "x9",
         "yaxis": "y9"
        },
        {
         "boxpoints": "all",
         "marker": {
          "color": "#EECA3B",
          "size": 5
         },
         "name": "Cellcycle/CD69/HU",
         "type": "box",
         "uid": "6dee7f93-523e-40df-b5be-519b025d98db",
         "width": 0.5,
         "x": {
          "dtype": "float64",
          "shape": [
           2
          ]
         },
         "xaxis": "x9",
         "yaxis": "y9"
        },
        {
         "boxpoints": "all",
         "marker": {
          "color": "#B279A2",
          "size": 5
         },
         "name": "Cellcycle/Cd28/FCS",
         "type": "box",
         "uid": "d8728c61-61b8-45b2-b511-41400965e76c",
         "width": 0.5,
         "x": {
          "dtype": "float64",
          "shape": [
           7
          ]
         },
         "xaxis": "x9",
         "yaxis": "y9"
        },
        {
         "boxpoints": "all",
         "marker": {
          "color": "#FF9DA6",
          "size": 5
         },
         "name": "Cellcycle/Cd28/HU",
         "type": "box",
         "uid": "f33041a3-bfb1-4274-9aa7-9900f6e3bcac",
         "width": 0.5,
         "x": {
          "dtype": "float64",
          "shape": [
           17
          ]
         },
         "xaxis": "x9",
         "yaxis": "y9"
        },
        {
         "boxpoints": "all",
         "marker": {
          "color": "#9D755D",
          "size": 5
         },
         "name": "Cellcycle/Cd28/K",
         "type": "box",
         "uid": "fc589c47-02b1-4c8c-9a00-6ef1458f8202",
         "width": 0.5,
         "x": {
          "dtype": "float64",
          "shape": [
           12
          ]
         },
         "xaxis": "x9",
         "yaxis": "y9"
        },
        {
         "boxpoints": "all",
         "marker": {
          "color": "#BAB0AC",
          "size": 5
         },
         "name": "Cellcycle/Cd3/FCS",
         "type": "box",
         "uid": "b082e91e-7f4b-4f7c-9ca3-150d76700ffd",
         "width": 0.5,
         "x": {
          "dtype": "float64",
          "shape": [
           9
          ]
         },
         "xaxis": "x9",
         "yaxis": "y9"
        },
        {
         "boxpoints": "all",
         "marker": {
          "color": "#4C78A8",
          "size": 5
         },
         "name": "Cellcycle/Cd3/HU",
         "type": "box",
         "uid": "f5b7ef8e-214c-4992-b482-aa915cd801d6",
         "width": 0.5,
         "x": {
          "dtype": "float64",
          "shape": [
           13
          ]
         },
         "xaxis": "x9",
         "yaxis": "y9"
        },
        {
         "boxpoints": "all",
         "marker": {
          "color": "#F58518",
          "size": 5
         },
         "name": "Cellcycle/Cd3/K",
         "type": "box",
         "uid": "72ca3d4b-4f26-43d6-8a47-1c1d487f13a9",
         "width": 0.5,
         "x": {
          "dtype": "float64",
          "shape": [
           5
          ]
         },
         "xaxis": "x9",
         "yaxis": "y9"
        },
        {
         "boxpoints": "all",
         "marker": {
          "color": "#E45756",
          "size": 5
         },
         "name": "Jurkat/CD105/5",
         "type": "box",
         "uid": "b77c9b1f-2341-4d00-9f11-62e86919e131",
         "width": 0.5,
         "x": {
          "dtype": "float64",
          "shape": [
           6
          ]
         },
         "xaxis": "x9",
         "yaxis": "y9"
        },
        {
         "boxpoints": "all",
         "marker": {
          "color": "#72B7B2",
          "size": 5
         },
         "name": "Jurkat/CD11a",
         "type": "box",
         "uid": "e9d9ace3-5763-41d6-8d03-c1fcba0a3758",
         "width": 0.5,
         "x": {
          "dtype": "float64",
          "shape": [
           13
          ]
         },
         "xaxis": "x9",
         "yaxis": "y9"
        },
        {
         "boxpoints": "all",
         "marker": {
          "color": "#54A24B",
          "size": 5
         },
         "name": "Jurkat/CD18",
         "type": "box",
         "uid": "c106f37c-1044-41fd-bccd-5894ecc9855e",
         "width": 0.5,
         "x": {
          "dtype": "float64",
          "shape": [
           20
          ]
         },
         "xaxis": "x9",
         "yaxis": "y9"
        },
        {
         "boxpoints": "all",
         "marker": {
          "color": "#EECA3B",
          "size": 5
         },
         "name": "Jurkat/CD2",
         "type": "box",
         "uid": "a7f21368-146e-497f-aa25-919bb3638a89",
         "width": 0.5,
         "x": {
          "dtype": "float64",
          "shape": [
           7
          ]
         },
         "xaxis": "x9",
         "yaxis": "y9"
        },
        {
         "boxpoints": "all",
         "marker": {
          "color": "#B279A2",
          "size": 5
         },
         "name": "Jurkat/CD45/CD45",
         "type": "box",
         "uid": "1dfe9b86-474d-4b90-a69b-2547dfb926f6",
         "width": 0.5,
         "x": {
          "dtype": "float64",
          "shape": [
           14
          ]
         },
         "xaxis": "x9",
         "yaxis": "y9"
        },
        {
         "boxpoints": "all",
         "marker": {
          "color": "#FF9DA6",
          "size": 5
         },
         "name": "Jurkat/CD69",
         "type": "box",
         "uid": "c609cba7-61e2-403c-8547-7b25b72dba56",
         "width": 0.5,
         "x": {
          "dtype": "float64",
          "shape": [
           27
          ]
         },
         "xaxis": "x9",
         "yaxis": "y9"
        },
        {
         "boxpoints": "all",
         "marker": {
          "color": "#9D755D",
          "size": 5
         },
         "name": "Jurkat/CD69/Cd69_K",
         "type": "box",
         "uid": "f2bb9d08-074c-40e2-9b10-a999fcd73c1f",
         "width": 0.5,
         "x": {
          "dtype": "float64",
          "shape": [
           5
          ]
         },
         "xaxis": "x9",
         "yaxis": "y9"
        },
        {
         "boxpoints": "all",
         "marker": {
          "color": "#BAB0AC",
          "size": 5
         },
         "name": "Jurkat/Cd45_pab_sab",
         "type": "box",
         "uid": "42762422-9feb-4e9d-bc86-e3c016833698",
         "width": 0.5,
         "x": {
          "dtype": "float64",
          "shape": [
           13
          ]
         },
         "xaxis": "x9",
         "yaxis": "y9"
        },
        {
         "boxpoints": "all",
         "marker": {
          "color": "#4C78A8",
          "size": 5
         },
         "name": "Jurkat/Cd69_twocolor",
         "type": "box",
         "uid": "4f4c772d-3b73-42f9-9456-7058933d8504",
         "width": 0.5,
         "x": {
          "dtype": "float64",
          "shape": [
           6
          ]
         },
         "xaxis": "x9",
         "yaxis": "y9"
        },
        {
         "boxpoints": "all",
         "marker": {
          "color": "#F58518",
          "size": 5
         },
         "name": "Jurkat/LFA1",
         "type": "box",
         "uid": "b984a43c-3990-41a8-a356-128fa5e003e5",
         "width": 0.5,
         "x": {
          "dtype": "float64",
          "shape": [
           18
          ]
         },
         "xaxis": "x9",
         "yaxis": "y9"
        },
        {
         "boxpoints": "all",
         "marker": {
          "color": "#E45756",
          "size": 5
         },
         "name": "Pat23_CD38",
         "type": "box",
         "uid": "be8cebb0-f5c1-4471-81b3-9515c992e4c4",
         "width": 0.5,
         "x": {
          "dtype": "float64",
          "shape": [
           127
          ]
         },
         "xaxis": "x9",
         "yaxis": "y9"
        },
        {
         "boxpoints": "all",
         "marker": {
          "color": "#72B7B2",
          "size": 5
         },
         "name": "Patients/Pat379/BCMA",
         "type": "box",
         "uid": "c1b35329-ca8d-4a3f-88ae-2df10227a203",
         "width": 0.5,
         "x": {
          "dtype": "float64",
          "shape": [
           4
          ]
         },
         "xaxis": "x9",
         "yaxis": "y9"
        },
        {
         "boxpoints": "all",
         "marker": {
          "color": "#54A24B",
          "size": 5
         },
         "name": "Patients/Pat379/CD138",
         "type": "box",
         "uid": "b774a2c0-0163-45c4-9178-328334ec393c",
         "width": 0.5,
         "x": {
          "dtype": "float64",
          "shape": [
           7
          ]
         },
         "xaxis": "x9",
         "yaxis": "y9"
        },
        {
         "boxpoints": "all",
         "marker": {
          "color": "#EECA3B",
          "size": 5
         },
         "name": "Patients/Pat379/CD19",
         "type": "box",
         "uid": "125a28da-ff64-4d23-a85b-a18d7544a4da",
         "width": 0.5,
         "x": {
          "dtype": "float64",
          "shape": [
           11
          ]
         },
         "xaxis": "x9",
         "yaxis": "y9"
        },
        {
         "boxpoints": "all",
         "marker": {
          "color": "#B279A2",
          "size": 5
         },
         "name": "Patients/Pat379/CD20",
         "type": "box",
         "uid": "f77159ae-8a3f-456b-bd6f-32609e40a9c1",
         "width": 0.5,
         "x": {
          "dtype": "float64",
          "shape": [
           8
          ]
         },
         "xaxis": "x9",
         "yaxis": "y9"
        },
        {
         "boxpoints": "all",
         "marker": {
          "color": "#FF9DA6",
          "size": 5
         },
         "name": "Patients/Pat379/CD38",
         "type": "box",
         "uid": "29ebe5fd-7b66-454f-96db-0ee378b9bfbb",
         "width": 0.5,
         "x": {
          "dtype": "float64",
          "shape": [
           6
          ]
         },
         "xaxis": "x9",
         "yaxis": "y9"
        },
        {
         "boxpoints": "all",
         "marker": {
          "color": "#9D755D",
          "size": 5
         },
         "name": "Patients/Pat379/GPRCD5",
         "type": "box",
         "uid": "38e434ee-84bb-4d2b-a117-ffaa8792d947",
         "width": 0.5,
         "x": {
          "dtype": "float64",
          "shape": [
           6
          ]
         },
         "xaxis": "x9",
         "yaxis": "y9"
        },
        {
         "boxpoints": "all",
         "marker": {
          "color": "#BAB0AC",
          "size": 5
         },
         "name": "Patients/Pat379/SLAMF7",
         "type": "box",
         "uid": "0e51192a-1518-4f61-897d-ebeaf7756799",
         "width": 0.5,
         "x": {
          "dtype": "float64",
          "shape": [
           7
          ]
         },
         "xaxis": "x9",
         "yaxis": "y9"
        },
        {
         "boxpoints": "all",
         "marker": {
          "color": "#4C78A8",
          "size": 5
         },
         "name": "Patients/Pat394/BCMA",
         "type": "box",
         "uid": "12f1c512-2eaf-45d3-b2e2-d85d3d6929dd",
         "width": 0.5,
         "x": {
          "dtype": "float64",
          "shape": [
           14
          ]
         },
         "xaxis": "x9",
         "yaxis": "y9"
        },
        {
         "boxpoints": "all",
         "marker": {
          "color": "#F58518",
          "size": 5
         },
         "name": "Patients/Pat394/CD138",
         "type": "box",
         "uid": "7a91c077-2716-4765-97d5-a5bedefa3a13",
         "width": 0.5,
         "x": {
          "dtype": "float64",
          "shape": [
           9
          ]
         },
         "xaxis": "x9",
         "yaxis": "y9"
        },
        {
         "boxpoints": "all",
         "marker": {
          "color": "#E45756",
          "size": 5
         },
         "name": "Patients/Pat394/CD19",
         "type": "box",
         "uid": "0d1b6f77-8dbf-449b-a595-993b7ca03832",
         "width": 0.5,
         "x": {
          "dtype": "float64",
          "shape": [
           6
          ]
         },
         "xaxis": "x9",
         "yaxis": "y9"
        },
        {
         "boxpoints": "all",
         "marker": {
          "color": "#72B7B2",
          "size": 5
         },
         "name": "Patients/Pat394/CD20",
         "type": "box",
         "uid": "3638d986-2a72-40bb-94f4-4577cbccd132",
         "width": 0.5,
         "x": {
          "dtype": "float64",
          "shape": [
           8
          ]
         },
         "xaxis": "x9",
         "yaxis": "y9"
        },
        {
         "boxpoints": "all",
         "marker": {
          "color": "#54A24B",
          "size": 5
         },
         "name": "Patients/Pat394/CD38",
         "type": "box",
         "uid": "5eea3578-6d7b-4ca9-b076-f3b7c00dd3d2",
         "width": 0.5,
         "x": {
          "dtype": "float64",
          "shape": [
           9
          ]
         },
         "xaxis": "x9",
         "yaxis": "y9"
        },
        {
         "boxpoints": "all",
         "marker": {
          "color": "#EECA3B",
          "size": 5
         },
         "name": "Patients/Pat394/GPRCD5",
         "type": "box",
         "uid": "8edd92b5-1442-4542-8e69-f589c6cce462",
         "width": 0.5,
         "x": {
          "dtype": "float64",
          "shape": [
           7
          ]
         },
         "xaxis": "x9",
         "yaxis": "y9"
        },
        {
         "boxpoints": "all",
         "marker": {
          "color": "#B279A2",
          "size": 5
         },
         "name": "Patients/Pat394/SLAMF7",
         "type": "box",
         "uid": "d5c1e107-49e3-4083-a714-c2127e16340b",
         "width": 0.5,
         "x": {
          "dtype": "float64",
          "shape": [
           3
          ]
         },
         "xaxis": "x9",
         "yaxis": "y9"
        },
        {
         "boxpoints": "all",
         "marker": {
          "color": "#FF9DA6",
          "size": 5
         },
         "name": "Patients/Pat394/SLAMF7/1",
         "type": "box",
         "uid": "f1651b04-16eb-4061-80f1-5b890a282491",
         "width": 0.5,
         "x": {
          "dtype": "float64",
          "shape": [
           6
          ]
         },
         "xaxis": "x9",
         "yaxis": "y9"
        },
        {
         "boxpoints": "all",
         "marker": {
          "color": "#4C78A8",
          "size": 5
         },
         "name": "AML/1",
         "type": "box",
         "uid": "3a4d3691-5f0b-4999-b983-3ba69b37c7bf",
         "width": 0.5,
         "x": {
          "dtype": "float64",
          "shape": [
           11
          ]
         },
         "xaxis": "x10",
         "yaxis": "y10"
        },
        {
         "boxpoints": "all",
         "marker": {
          "color": "#F58518",
          "size": 5
         },
         "name": "AML/7",
         "type": "box",
         "uid": "e0de55bd-ea5d-4250-b899-3dec1217cdc9",
         "width": 0.5,
         "x": {
          "dtype": "float64",
          "shape": [
           13
          ]
         },
         "xaxis": "x10",
         "yaxis": "y10"
        },
        {
         "boxpoints": "all",
         "marker": {
          "color": "#E45756",
          "size": 5
         },
         "name": "AML/8",
         "type": "box",
         "uid": "abd29a27-f5a1-4e4d-827f-5ab0b00e1d49",
         "width": 0.5,
         "x": {
          "dtype": "float64",
          "shape": [
           10
          ]
         },
         "xaxis": "x10",
         "yaxis": "y10"
        },
        {
         "boxpoints": "all",
         "marker": {
          "color": "#72B7B2",
          "size": 5
         },
         "name": "Cellcycle/CD2/HU",
         "type": "box",
         "uid": "1015139d-9bd3-48a6-ad19-bbc1b911993b",
         "width": 0.5,
         "x": {
          "dtype": "float64",
          "shape": [
           5
          ]
         },
         "xaxis": "x10",
         "yaxis": "y10"
        },
        {
         "boxpoints": "all",
         "marker": {
          "color": "#54A24B",
          "size": 5
         },
         "name": "Cellcycle/CD69/FCS",
         "type": "box",
         "uid": "cc504d81-d4cb-47cc-a996-a2d89e4434c3",
         "width": 0.5,
         "x": {
          "dtype": "float64",
          "shape": [
           9
          ]
         },
         "xaxis": "x10",
         "yaxis": "y10"
        },
        {
         "boxpoints": "all",
         "marker": {
          "color": "#EECA3B",
          "size": 5
         },
         "name": "Cellcycle/CD69/HU",
         "type": "box",
         "uid": "503e811e-7c9a-48a8-8fae-6f1d6d3540eb",
         "width": 0.5,
         "x": {
          "dtype": "float64",
          "shape": [
           2
          ]
         },
         "xaxis": "x10",
         "yaxis": "y10"
        },
        {
         "boxpoints": "all",
         "marker": {
          "color": "#B279A2",
          "size": 5
         },
         "name": "Cellcycle/Cd28/FCS",
         "type": "box",
         "uid": "67194f77-120f-4cd4-bbd8-c2dc751fff5e",
         "width": 0.5,
         "x": {
          "dtype": "float64",
          "shape": [
           7
          ]
         },
         "xaxis": "x10",
         "yaxis": "y10"
        },
        {
         "boxpoints": "all",
         "marker": {
          "color": "#FF9DA6",
          "size": 5
         },
         "name": "Cellcycle/Cd28/HU",
         "type": "box",
         "uid": "4eaa9417-c39a-474f-9ccd-b6e6ca95261f",
         "width": 0.5,
         "x": {
          "dtype": "float64",
          "shape": [
           17
          ]
         },
         "xaxis": "x10",
         "yaxis": "y10"
        },
        {
         "boxpoints": "all",
         "marker": {
          "color": "#9D755D",
          "size": 5
         },
         "name": "Cellcycle/Cd28/K",
         "type": "box",
         "uid": "e0fec3a2-da89-4d5b-a205-c8d777b5e14a",
         "width": 0.5,
         "x": {
          "dtype": "float64",
          "shape": [
           12
          ]
         },
         "xaxis": "x10",
         "yaxis": "y10"
        },
        {
         "boxpoints": "all",
         "marker": {
          "color": "#BAB0AC",
          "size": 5
         },
         "name": "Cellcycle/Cd3/FCS",
         "type": "box",
         "uid": "859996f3-8f1f-44a2-8356-656b6865a583",
         "width": 0.5,
         "x": {
          "dtype": "float64",
          "shape": [
           9
          ]
         },
         "xaxis": "x10",
         "yaxis": "y10"
        },
        {
         "boxpoints": "all",
         "marker": {
          "color": "#4C78A8",
          "size": 5
         },
         "name": "Cellcycle/Cd3/HU",
         "type": "box",
         "uid": "d48ce040-0b14-4bcf-b074-baceadf94e21",
         "width": 0.5,
         "x": {
          "dtype": "float64",
          "shape": [
           13
          ]
         },
         "xaxis": "x10",
         "yaxis": "y10"
        },
        {
         "boxpoints": "all",
         "marker": {
          "color": "#F58518",
          "size": 5
         },
         "name": "Cellcycle/Cd3/K",
         "type": "box",
         "uid": "f86ce397-cc21-4db7-ac4e-a61ea34e905a",
         "width": 0.5,
         "x": {
          "dtype": "float64",
          "shape": [
           5
          ]
         },
         "xaxis": "x10",
         "yaxis": "y10"
        },
        {
         "boxpoints": "all",
         "marker": {
          "color": "#E45756",
          "size": 5
         },
         "name": "Jurkat/CD105/5",
         "type": "box",
         "uid": "7b696e44-7423-4af1-bbe5-b60eafb121cc",
         "width": 0.5,
         "x": {
          "dtype": "float64",
          "shape": [
           6
          ]
         },
         "xaxis": "x10",
         "yaxis": "y10"
        },
        {
         "boxpoints": "all",
         "marker": {
          "color": "#72B7B2",
          "size": 5
         },
         "name": "Jurkat/CD11a",
         "type": "box",
         "uid": "d6bce4d5-3878-432a-bcfd-7b56c26bc6b5",
         "width": 0.5,
         "x": {
          "dtype": "float64",
          "shape": [
           13
          ]
         },
         "xaxis": "x10",
         "yaxis": "y10"
        },
        {
         "boxpoints": "all",
         "marker": {
          "color": "#54A24B",
          "size": 5
         },
         "name": "Jurkat/CD18",
         "type": "box",
         "uid": "92079c22-bbe0-4148-8ea9-a66f904004c5",
         "width": 0.5,
         "x": {
          "dtype": "float64",
          "shape": [
           20
          ]
         },
         "xaxis": "x10",
         "yaxis": "y10"
        },
        {
         "boxpoints": "all",
         "marker": {
          "color": "#EECA3B",
          "size": 5
         },
         "name": "Jurkat/CD2",
         "type": "box",
         "uid": "bcee2723-4bd5-4615-b841-9ced84d99116",
         "width": 0.5,
         "x": {
          "dtype": "float64",
          "shape": [
           7
          ]
         },
         "xaxis": "x10",
         "yaxis": "y10"
        },
        {
         "boxpoints": "all",
         "marker": {
          "color": "#B279A2",
          "size": 5
         },
         "name": "Jurkat/CD45/CD45",
         "type": "box",
         "uid": "9fa0c457-adcd-4b37-9e75-7750ea6a2f16",
         "width": 0.5,
         "x": {
          "dtype": "float64",
          "shape": [
           14
          ]
         },
         "xaxis": "x10",
         "yaxis": "y10"
        },
        {
         "boxpoints": "all",
         "marker": {
          "color": "#FF9DA6",
          "size": 5
         },
         "name": "Jurkat/CD69",
         "type": "box",
         "uid": "debe3080-9a53-4952-a3d7-228f0c431bd0",
         "width": 0.5,
         "x": {
          "dtype": "float64",
          "shape": [
           27
          ]
         },
         "xaxis": "x10",
         "yaxis": "y10"
        },
        {
         "boxpoints": "all",
         "marker": {
          "color": "#9D755D",
          "size": 5
         },
         "name": "Jurkat/CD69/Cd69_K",
         "type": "box",
         "uid": "af04ac21-764d-4d95-9204-92ef94b91d30",
         "width": 0.5,
         "x": {
          "dtype": "float64",
          "shape": [
           5
          ]
         },
         "xaxis": "x10",
         "yaxis": "y10"
        },
        {
         "boxpoints": "all",
         "marker": {
          "color": "#BAB0AC",
          "size": 5
         },
         "name": "Jurkat/Cd45_pab_sab",
         "type": "box",
         "uid": "3c76ce65-6cac-4a7f-ab20-be91f7135dd2",
         "width": 0.5,
         "x": {
          "dtype": "float64",
          "shape": [
           13
          ]
         },
         "xaxis": "x10",
         "yaxis": "y10"
        },
        {
         "boxpoints": "all",
         "marker": {
          "color": "#4C78A8",
          "size": 5
         },
         "name": "Jurkat/Cd69_twocolor",
         "type": "box",
         "uid": "11c92e10-3ae2-44f5-807d-e34b83da6341",
         "width": 0.5,
         "x": {
          "dtype": "float64",
          "shape": [
           6
          ]
         },
         "xaxis": "x10",
         "yaxis": "y10"
        },
        {
         "boxpoints": "all",
         "marker": {
          "color": "#F58518",
          "size": 5
         },
         "name": "Jurkat/LFA1",
         "type": "box",
         "uid": "b7f200bf-c1cd-47a8-b892-59b47ae3a414",
         "width": 0.5,
         "x": {
          "dtype": "float64",
          "shape": [
           18
          ]
         },
         "xaxis": "x10",
         "yaxis": "y10"
        },
        {
         "boxpoints": "all",
         "marker": {
          "color": "#E45756",
          "size": 5
         },
         "name": "Pat23_CD38",
         "type": "box",
         "uid": "02260532-c129-4c10-8add-6eccededb4d7",
         "width": 0.5,
         "x": {
          "dtype": "float64",
          "shape": [
           127
          ]
         },
         "xaxis": "x10",
         "yaxis": "y10"
        },
        {
         "boxpoints": "all",
         "marker": {
          "color": "#72B7B2",
          "size": 5
         },
         "name": "Patients/Pat379/BCMA",
         "type": "box",
         "uid": "f6562174-b572-434e-8188-2b8b6fc40b51",
         "width": 0.5,
         "x": {
          "dtype": "float64",
          "shape": [
           4
          ]
         },
         "xaxis": "x10",
         "yaxis": "y10"
        },
        {
         "boxpoints": "all",
         "marker": {
          "color": "#54A24B",
          "size": 5
         },
         "name": "Patients/Pat379/CD138",
         "type": "box",
         "uid": "1a7bf359-7d00-4438-b9ef-b67d5ed27d9a",
         "width": 0.5,
         "x": {
          "dtype": "float64",
          "shape": [
           7
          ]
         },
         "xaxis": "x10",
         "yaxis": "y10"
        },
        {
         "boxpoints": "all",
         "marker": {
          "color": "#EECA3B",
          "size": 5
         },
         "name": "Patients/Pat379/CD19",
         "type": "box",
         "uid": "25335521-db89-4cef-9cab-f0eb3b90f821",
         "width": 0.5,
         "x": {
          "dtype": "float64",
          "shape": [
           11
          ]
         },
         "xaxis": "x10",
         "yaxis": "y10"
        },
        {
         "boxpoints": "all",
         "marker": {
          "color": "#B279A2",
          "size": 5
         },
         "name": "Patients/Pat379/CD20",
         "type": "box",
         "uid": "40ebd233-69d1-48bf-823a-8440807820ca",
         "width": 0.5,
         "x": {
          "dtype": "float64",
          "shape": [
           8
          ]
         },
         "xaxis": "x10",
         "yaxis": "y10"
        },
        {
         "boxpoints": "all",
         "marker": {
          "color": "#FF9DA6",
          "size": 5
         },
         "name": "Patients/Pat379/CD38",
         "type": "box",
         "uid": "460f4ca2-a63e-4e98-946e-c0f07c85540f",
         "width": 0.5,
         "x": {
          "dtype": "float64",
          "shape": [
           6
          ]
         },
         "xaxis": "x10",
         "yaxis": "y10"
        },
        {
         "boxpoints": "all",
         "marker": {
          "color": "#9D755D",
          "size": 5
         },
         "name": "Patients/Pat379/GPRCD5",
         "type": "box",
         "uid": "cd621b51-d5b0-428c-81f8-c29156e913bf",
         "width": 0.5,
         "x": {
          "dtype": "float64",
          "shape": [
           6
          ]
         },
         "xaxis": "x10",
         "yaxis": "y10"
        },
        {
         "boxpoints": "all",
         "marker": {
          "color": "#BAB0AC",
          "size": 5
         },
         "name": "Patients/Pat379/SLAMF7",
         "type": "box",
         "uid": "4432495a-1f3d-4585-8b88-441b5f9d0371",
         "width": 0.5,
         "x": {
          "dtype": "float64",
          "shape": [
           7
          ]
         },
         "xaxis": "x10",
         "yaxis": "y10"
        },
        {
         "boxpoints": "all",
         "marker": {
          "color": "#4C78A8",
          "size": 5
         },
         "name": "Patients/Pat394/BCMA",
         "type": "box",
         "uid": "318abf89-94f1-4108-a8e5-2ea630a12715",
         "width": 0.5,
         "x": {
          "dtype": "float64",
          "shape": [
           14
          ]
         },
         "xaxis": "x10",
         "yaxis": "y10"
        },
        {
         "boxpoints": "all",
         "marker": {
          "color": "#F58518",
          "size": 5
         },
         "name": "Patients/Pat394/CD138",
         "type": "box",
         "uid": "24ec18de-6cab-4de3-9e6b-ae38c14eeff6",
         "width": 0.5,
         "x": {
          "dtype": "float64",
          "shape": [
           9
          ]
         },
         "xaxis": "x10",
         "yaxis": "y10"
        },
        {
         "boxpoints": "all",
         "marker": {
          "color": "#E45756",
          "size": 5
         },
         "name": "Patients/Pat394/CD19",
         "type": "box",
         "uid": "87ce269d-5fd0-428c-b8f0-5beae03ca848",
         "width": 0.5,
         "x": {
          "dtype": "float64",
          "shape": [
           6
          ]
         },
         "xaxis": "x10",
         "yaxis": "y10"
        },
        {
         "boxpoints": "all",
         "marker": {
          "color": "#72B7B2",
          "size": 5
         },
         "name": "Patients/Pat394/CD20",
         "type": "box",
         "uid": "c45dc5d4-192e-4839-b93b-65061c0f935f",
         "width": 0.5,
         "x": {
          "dtype": "float64",
          "shape": [
           8
          ]
         },
         "xaxis": "x10",
         "yaxis": "y10"
        },
        {
         "boxpoints": "all",
         "marker": {
          "color": "#54A24B",
          "size": 5
         },
         "name": "Patients/Pat394/CD38",
         "type": "box",
         "uid": "4df3f6d3-3b5d-44ba-9488-fb2d7c2c3e53",
         "width": 0.5,
         "x": {
          "dtype": "float64",
          "shape": [
           9
          ]
         },
         "xaxis": "x10",
         "yaxis": "y10"
        },
        {
         "boxpoints": "all",
         "marker": {
          "color": "#EECA3B",
          "size": 5
         },
         "name": "Patients/Pat394/GPRCD5",
         "type": "box",
         "uid": "d30065ec-60f2-4266-97fc-a0ae8447d1fd",
         "width": 0.5,
         "x": {
          "dtype": "float64",
          "shape": [
           7
          ]
         },
         "xaxis": "x10",
         "yaxis": "y10"
        },
        {
         "boxpoints": "all",
         "marker": {
          "color": "#B279A2",
          "size": 5
         },
         "name": "Patients/Pat394/SLAMF7",
         "type": "box",
         "uid": "f8c85596-d731-4f5b-bd47-0cd12fdd759f",
         "width": 0.5,
         "x": {
          "dtype": "float64",
          "shape": [
           3
          ]
         },
         "xaxis": "x10",
         "yaxis": "y10"
        },
        {
         "boxpoints": "all",
         "marker": {
          "color": "#FF9DA6",
          "size": 5
         },
         "name": "Patients/Pat394/SLAMF7/1",
         "type": "box",
         "uid": "d4003947-163d-43e0-9545-f13a3f9629b0",
         "width": 0.5,
         "x": {
          "dtype": "float64",
          "shape": [
           6
          ]
         },
         "xaxis": "x10",
         "yaxis": "y10"
        },
        {
         "boxpoints": "all",
         "marker": {
          "color": "#4C78A8",
          "size": 5
         },
         "name": "AML/1",
         "type": "box",
         "uid": "9b1a6655-4e73-4946-b0cc-53cdd99878c5",
         "width": 0.5,
         "x": {
          "dtype": "float64",
          "shape": [
           11
          ]
         },
         "xaxis": "x11",
         "yaxis": "y11"
        },
        {
         "boxpoints": "all",
         "marker": {
          "color": "#F58518",
          "size": 5
         },
         "name": "AML/7",
         "type": "box",
         "uid": "0be78a61-b769-410e-9e4c-41126a3b6a3c",
         "width": 0.5,
         "x": {
          "dtype": "float64",
          "shape": [
           13
          ]
         },
         "xaxis": "x11",
         "yaxis": "y11"
        },
        {
         "boxpoints": "all",
         "marker": {
          "color": "#E45756",
          "size": 5
         },
         "name": "AML/8",
         "type": "box",
         "uid": "e736079d-2100-420e-819a-f137526a7674",
         "width": 0.5,
         "x": {
          "dtype": "float64",
          "shape": [
           10
          ]
         },
         "xaxis": "x11",
         "yaxis": "y11"
        },
        {
         "boxpoints": "all",
         "marker": {
          "color": "#72B7B2",
          "size": 5
         },
         "name": "Cellcycle/CD2/HU",
         "type": "box",
         "uid": "101b750d-aca9-4140-b6f2-52e3602c8e3a",
         "width": 0.5,
         "x": {
          "dtype": "float64",
          "shape": [
           5
          ]
         },
         "xaxis": "x11",
         "yaxis": "y11"
        },
        {
         "boxpoints": "all",
         "marker": {
          "color": "#54A24B",
          "size": 5
         },
         "name": "Cellcycle/CD69/FCS",
         "type": "box",
         "uid": "78544eba-8875-40fc-b2f7-f729e3d45a77",
         "width": 0.5,
         "x": {
          "dtype": "float64",
          "shape": [
           9
          ]
         },
         "xaxis": "x11",
         "yaxis": "y11"
        },
        {
         "boxpoints": "all",
         "marker": {
          "color": "#EECA3B",
          "size": 5
         },
         "name": "Cellcycle/CD69/HU",
         "type": "box",
         "uid": "1dc23439-1163-4fa1-832e-2106719e3549",
         "width": 0.5,
         "x": {
          "dtype": "float64",
          "shape": [
           2
          ]
         },
         "xaxis": "x11",
         "yaxis": "y11"
        },
        {
         "boxpoints": "all",
         "marker": {
          "color": "#B279A2",
          "size": 5
         },
         "name": "Cellcycle/Cd28/FCS",
         "type": "box",
         "uid": "563730aa-6ea4-424c-aecf-36fa0db64011",
         "width": 0.5,
         "x": {
          "dtype": "float64",
          "shape": [
           7
          ]
         },
         "xaxis": "x11",
         "yaxis": "y11"
        },
        {
         "boxpoints": "all",
         "marker": {
          "color": "#FF9DA6",
          "size": 5
         },
         "name": "Cellcycle/Cd28/HU",
         "type": "box",
         "uid": "74a9b521-dbf3-4b8e-9d4e-38a09c27bd72",
         "width": 0.5,
         "x": {
          "dtype": "float64",
          "shape": [
           17
          ]
         },
         "xaxis": "x11",
         "yaxis": "y11"
        },
        {
         "boxpoints": "all",
         "marker": {
          "color": "#9D755D",
          "size": 5
         },
         "name": "Cellcycle/Cd28/K",
         "type": "box",
         "uid": "8b6d2f89-8730-4f2b-a907-65b9504df806",
         "width": 0.5,
         "x": {
          "dtype": "float64",
          "shape": [
           12
          ]
         },
         "xaxis": "x11",
         "yaxis": "y11"
        },
        {
         "boxpoints": "all",
         "marker": {
          "color": "#BAB0AC",
          "size": 5
         },
         "name": "Cellcycle/Cd3/FCS",
         "type": "box",
         "uid": "d3e714f7-7a66-4755-95ef-e55b1ab2f8ad",
         "width": 0.5,
         "x": {
          "dtype": "float64",
          "shape": [
           9
          ]
         },
         "xaxis": "x11",
         "yaxis": "y11"
        },
        {
         "boxpoints": "all",
         "marker": {
          "color": "#4C78A8",
          "size": 5
         },
         "name": "Cellcycle/Cd3/HU",
         "type": "box",
         "uid": "a62de95f-3e22-4a2f-8544-8f0cda5778d3",
         "width": 0.5,
         "x": {
          "dtype": "float64",
          "shape": [
           13
          ]
         },
         "xaxis": "x11",
         "yaxis": "y11"
        },
        {
         "boxpoints": "all",
         "marker": {
          "color": "#F58518",
          "size": 5
         },
         "name": "Cellcycle/Cd3/K",
         "type": "box",
         "uid": "a17e3bab-0817-484b-a13c-af206bfd2f30",
         "width": 0.5,
         "x": {
          "dtype": "float64",
          "shape": [
           5
          ]
         },
         "xaxis": "x11",
         "yaxis": "y11"
        },
        {
         "boxpoints": "all",
         "marker": {
          "color": "#E45756",
          "size": 5
         },
         "name": "Jurkat/CD105/5",
         "type": "box",
         "uid": "4ada8490-a5b1-43db-8be4-f2445cac6068",
         "width": 0.5,
         "x": {
          "dtype": "float64",
          "shape": [
           6
          ]
         },
         "xaxis": "x11",
         "yaxis": "y11"
        },
        {
         "boxpoints": "all",
         "marker": {
          "color": "#72B7B2",
          "size": 5
         },
         "name": "Jurkat/CD11a",
         "type": "box",
         "uid": "e5facc84-74f9-4d65-8a17-cefee1f2cd6c",
         "width": 0.5,
         "x": {
          "dtype": "float64",
          "shape": [
           13
          ]
         },
         "xaxis": "x11",
         "yaxis": "y11"
        },
        {
         "boxpoints": "all",
         "marker": {
          "color": "#54A24B",
          "size": 5
         },
         "name": "Jurkat/CD18",
         "type": "box",
         "uid": "1f7e1212-c0be-4a23-89a9-0b3e43d7a828",
         "width": 0.5,
         "x": {
          "dtype": "float64",
          "shape": [
           20
          ]
         },
         "xaxis": "x11",
         "yaxis": "y11"
        },
        {
         "boxpoints": "all",
         "marker": {
          "color": "#EECA3B",
          "size": 5
         },
         "name": "Jurkat/CD2",
         "type": "box",
         "uid": "04832621-dfd3-4e3b-b98e-5ba30bebaae9",
         "width": 0.5,
         "x": {
          "dtype": "float64",
          "shape": [
           7
          ]
         },
         "xaxis": "x11",
         "yaxis": "y11"
        },
        {
         "boxpoints": "all",
         "marker": {
          "color": "#B279A2",
          "size": 5
         },
         "name": "Jurkat/CD45/CD45",
         "type": "box",
         "uid": "47319787-ee1c-411a-9714-3758700967c4",
         "width": 0.5,
         "x": {
          "dtype": "float64",
          "shape": [
           14
          ]
         },
         "xaxis": "x11",
         "yaxis": "y11"
        },
        {
         "boxpoints": "all",
         "marker": {
          "color": "#FF9DA6",
          "size": 5
         },
         "name": "Jurkat/CD69",
         "type": "box",
         "uid": "45140a57-5af2-4215-85ab-10becc304123",
         "width": 0.5,
         "x": {
          "dtype": "float64",
          "shape": [
           27
          ]
         },
         "xaxis": "x11",
         "yaxis": "y11"
        },
        {
         "boxpoints": "all",
         "marker": {
          "color": "#9D755D",
          "size": 5
         },
         "name": "Jurkat/CD69/Cd69_K",
         "type": "box",
         "uid": "8d7b9ea7-0b20-4395-b79b-8c742386ca6f",
         "width": 0.5,
         "x": {
          "dtype": "float64",
          "shape": [
           5
          ]
         },
         "xaxis": "x11",
         "yaxis": "y11"
        },
        {
         "boxpoints": "all",
         "marker": {
          "color": "#BAB0AC",
          "size": 5
         },
         "name": "Jurkat/Cd45_pab_sab",
         "type": "box",
         "uid": "9165ed75-8407-4fe4-8e81-251b54464857",
         "width": 0.5,
         "x": {
          "dtype": "float64",
          "shape": [
           13
          ]
         },
         "xaxis": "x11",
         "yaxis": "y11"
        },
        {
         "boxpoints": "all",
         "marker": {
          "color": "#4C78A8",
          "size": 5
         },
         "name": "Jurkat/Cd69_twocolor",
         "type": "box",
         "uid": "c8a47a24-73df-453e-a829-b492f693ad16",
         "width": 0.5,
         "x": {
          "dtype": "float64",
          "shape": [
           6
          ]
         },
         "xaxis": "x11",
         "yaxis": "y11"
        },
        {
         "boxpoints": "all",
         "marker": {
          "color": "#F58518",
          "size": 5
         },
         "name": "Jurkat/LFA1",
         "type": "box",
         "uid": "50122227-1344-49cb-a967-fa691c4ae6ae",
         "width": 0.5,
         "x": {
          "dtype": "float64",
          "shape": [
           18
          ]
         },
         "xaxis": "x11",
         "yaxis": "y11"
        },
        {
         "boxpoints": "all",
         "marker": {
          "color": "#E45756",
          "size": 5
         },
         "name": "Pat23_CD38",
         "type": "box",
         "uid": "d1eeaa9b-2b93-4078-8130-4173dbae6022",
         "width": 0.5,
         "x": {
          "dtype": "float64",
          "shape": [
           127
          ]
         },
         "xaxis": "x11",
         "yaxis": "y11"
        },
        {
         "boxpoints": "all",
         "marker": {
          "color": "#72B7B2",
          "size": 5
         },
         "name": "Patients/Pat379/BCMA",
         "type": "box",
         "uid": "96b240c8-2f36-45fd-a206-b5fe0c29a2a5",
         "width": 0.5,
         "x": {
          "dtype": "float64",
          "shape": [
           4
          ]
         },
         "xaxis": "x11",
         "yaxis": "y11"
        },
        {
         "boxpoints": "all",
         "marker": {
          "color": "#54A24B",
          "size": 5
         },
         "name": "Patients/Pat379/CD138",
         "type": "box",
         "uid": "7496fdd2-f82e-4df8-a44f-fd57eea052f4",
         "width": 0.5,
         "x": {
          "dtype": "float64",
          "shape": [
           7
          ]
         },
         "xaxis": "x11",
         "yaxis": "y11"
        },
        {
         "boxpoints": "all",
         "marker": {
          "color": "#EECA3B",
          "size": 5
         },
         "name": "Patients/Pat379/CD19",
         "type": "box",
         "uid": "3528833c-a37e-4a7c-9887-e70d81ce8a0e",
         "width": 0.5,
         "x": {
          "dtype": "float64",
          "shape": [
           11
          ]
         },
         "xaxis": "x11",
         "yaxis": "y11"
        },
        {
         "boxpoints": "all",
         "marker": {
          "color": "#B279A2",
          "size": 5
         },
         "name": "Patients/Pat379/CD20",
         "type": "box",
         "uid": "5d49db86-7b28-4698-8460-098a975cddb3",
         "width": 0.5,
         "x": {
          "dtype": "float64",
          "shape": [
           8
          ]
         },
         "xaxis": "x11",
         "yaxis": "y11"
        },
        {
         "boxpoints": "all",
         "marker": {
          "color": "#FF9DA6",
          "size": 5
         },
         "name": "Patients/Pat379/CD38",
         "type": "box",
         "uid": "2d687f87-fba1-4d2a-b4f8-9318db6b8a54",
         "width": 0.5,
         "x": {
          "dtype": "float64",
          "shape": [
           6
          ]
         },
         "xaxis": "x11",
         "yaxis": "y11"
        },
        {
         "boxpoints": "all",
         "marker": {
          "color": "#9D755D",
          "size": 5
         },
         "name": "Patients/Pat379/GPRCD5",
         "type": "box",
         "uid": "b34591f8-bf8a-4d3d-b47f-344ec777f4ae",
         "width": 0.5,
         "x": {
          "dtype": "float64",
          "shape": [
           6
          ]
         },
         "xaxis": "x11",
         "yaxis": "y11"
        },
        {
         "boxpoints": "all",
         "marker": {
          "color": "#BAB0AC",
          "size": 5
         },
         "name": "Patients/Pat379/SLAMF7",
         "type": "box",
         "uid": "4e8d2bc5-1f38-42a2-b08a-5b738ea7fe83",
         "width": 0.5,
         "x": {
          "dtype": "float64",
          "shape": [
           7
          ]
         },
         "xaxis": "x11",
         "yaxis": "y11"
        },
        {
         "boxpoints": "all",
         "marker": {
          "color": "#4C78A8",
          "size": 5
         },
         "name": "Patients/Pat394/BCMA",
         "type": "box",
         "uid": "a7c0b16a-1b87-4827-bf73-dbfb86d15952",
         "width": 0.5,
         "x": {
          "dtype": "float64",
          "shape": [
           14
          ]
         },
         "xaxis": "x11",
         "yaxis": "y11"
        },
        {
         "boxpoints": "all",
         "marker": {
          "color": "#F58518",
          "size": 5
         },
         "name": "Patients/Pat394/CD138",
         "type": "box",
         "uid": "1fed6443-9091-40f9-9bc0-f842fb63c999",
         "width": 0.5,
         "x": {
          "dtype": "float64",
          "shape": [
           9
          ]
         },
         "xaxis": "x11",
         "yaxis": "y11"
        },
        {
         "boxpoints": "all",
         "marker": {
          "color": "#E45756",
          "size": 5
         },
         "name": "Patients/Pat394/CD19",
         "type": "box",
         "uid": "7ca8d67b-df0f-4746-86d9-23b7e8b1092f",
         "width": 0.5,
         "x": {
          "dtype": "float64",
          "shape": [
           6
          ]
         },
         "xaxis": "x11",
         "yaxis": "y11"
        },
        {
         "boxpoints": "all",
         "marker": {
          "color": "#72B7B2",
          "size": 5
         },
         "name": "Patients/Pat394/CD20",
         "type": "box",
         "uid": "aa011a4f-864e-4e72-ab8f-f0c1697b4a17",
         "width": 0.5,
         "x": {
          "dtype": "float64",
          "shape": [
           8
          ]
         },
         "xaxis": "x11",
         "yaxis": "y11"
        },
        {
         "boxpoints": "all",
         "marker": {
          "color": "#54A24B",
          "size": 5
         },
         "name": "Patients/Pat394/CD38",
         "type": "box",
         "uid": "7d71d240-bf77-4731-ad79-e73452ee74bc",
         "width": 0.5,
         "x": {
          "dtype": "float64",
          "shape": [
           9
          ]
         },
         "xaxis": "x11",
         "yaxis": "y11"
        },
        {
         "boxpoints": "all",
         "marker": {
          "color": "#EECA3B",
          "size": 5
         },
         "name": "Patients/Pat394/GPRCD5",
         "type": "box",
         "uid": "c33cd357-b70f-4921-aa4e-2765f1888dfb",
         "width": 0.5,
         "x": {
          "dtype": "float64",
          "shape": [
           7
          ]
         },
         "xaxis": "x11",
         "yaxis": "y11"
        },
        {
         "boxpoints": "all",
         "marker": {
          "color": "#B279A2",
          "size": 5
         },
         "name": "Patients/Pat394/SLAMF7",
         "type": "box",
         "uid": "ec1d4de6-48a3-4061-a838-2e83fc8450ce",
         "width": 0.5,
         "x": {
          "dtype": "float64",
          "shape": [
           3
          ]
         },
         "xaxis": "x11",
         "yaxis": "y11"
        },
        {
         "boxpoints": "all",
         "marker": {
          "color": "#FF9DA6",
          "size": 5
         },
         "name": "Patients/Pat394/SLAMF7/1",
         "type": "box",
         "uid": "897db41f-a10f-402e-a0d5-9fe37c342be5",
         "width": 0.5,
         "x": {
          "dtype": "float64",
          "shape": [
           6
          ]
         },
         "xaxis": "x11",
         "yaxis": "y11"
        }
       ],
       "_js2py_layoutDelta": {},
       "_js2py_pointsCallback": {},
       "_js2py_relayout": {},
       "_js2py_restyle": {},
       "_js2py_traceDeltas": {},
       "_js2py_update": {},
       "_layout": {
        "annotations": [
         {
          "font": {
           "size": 16
          },
          "showarrow": false,
          "text": "cluster_count",
          "x": 0.5,
          "xanchor": "center",
          "xref": "paper",
          "y": 0.9999999999999998,
          "yanchor": "bottom",
          "yref": "paper"
         },
         {
          "font": {
           "size": 16
          },
          "showarrow": false,
          "text": "cluster_density",
          "x": 0.5,
          "xanchor": "center",
          "xref": "paper",
          "y": 0.908181818181818,
          "yanchor": "bottom",
          "yref": "paper"
         },
         {
          "font": {
           "size": 16
          },
          "showarrow": false,
          "text": "n_locs_in_cluster_relative",
          "x": 0.5,
          "xanchor": "center",
          "xref": "paper",
          "y": 0.8163636363636362,
          "yanchor": "bottom",
          "yref": "paper"
         },
         {
          "font": {
           "size": 16
          },
          "showarrow": false,
          "text": "localization_count_mean",
          "x": 0.5,
          "xanchor": "center",
          "xref": "paper",
          "y": 0.7245454545454544,
          "yanchor": "bottom",
          "yref": "paper"
         },
         {
          "font": {
           "size": 16
          },
          "showarrow": false,
          "text": "region_measure_ch_mean",
          "x": 0.5,
          "xanchor": "center",
          "xref": "paper",
          "y": 0.6327272727272726,
          "yanchor": "bottom",
          "yref": "paper"
         },
         {
          "font": {
           "size": 16
          },
          "showarrow": false,
          "text": "localization_density_in_cluster_mean",
          "x": 0.5,
          "xanchor": "center",
          "xref": "paper",
          "y": 0.5409090909090909,
          "yanchor": "bottom",
          "yref": "paper"
         },
         {
          "font": {
           "size": 16
          },
          "showarrow": false,
          "text": "intensity_sum_mean",
          "x": 0.5,
          "xanchor": "center",
          "xref": "paper",
          "y": 0.4490909090909091,
          "yanchor": "bottom",
          "yref": "paper"
         },
         {
          "font": {
           "size": 16
          },
          "showarrow": false,
          "text": "intensity_mean_mean",
          "x": 0.5,
          "xanchor": "center",
          "xref": "paper",
          "y": 0.3572727272727273,
          "yanchor": "bottom",
          "yref": "paper"
         },
         {
          "font": {
           "size": 16
          },
          "showarrow": false,
          "text": "local_background_mean_mean",
          "x": 0.5,
          "xanchor": "center",
          "xref": "paper",
          "y": 0.26545454545454544,
          "yanchor": "bottom",
          "yref": "paper"
         },
         {
          "font": {
           "size": 16
          },
          "showarrow": false,
          "text": "on_periods_mean",
          "x": 0.5,
          "xanchor": "center",
          "xref": "paper",
          "y": 0.17363636363636364,
          "yanchor": "bottom",
          "yref": "paper"
         },
         {
          "font": {
           "size": 16
          },
          "showarrow": false,
          "text": "off_periods_mean",
          "x": 0.5,
          "xanchor": "center",
          "xref": "paper",
          "y": 0.08181818181818182,
          "yanchor": "bottom",
          "yref": "paper"
         }
        ],
        "boxmode": "group",
        "height": 12000,
        "showlegend": false,
        "template": {
         "data": {
          "bar": [
           {
            "error_x": {
             "color": "#2a3f5f"
            },
            "error_y": {
             "color": "#2a3f5f"
            },
            "marker": {
             "line": {
              "color": "#E5ECF6",
              "width": 0.5
             }
            },
            "type": "bar"
           }
          ],
          "barpolar": [
           {
            "marker": {
             "line": {
              "color": "#E5ECF6",
              "width": 0.5
             }
            },
            "type": "barpolar"
           }
          ],
          "carpet": [
           {
            "aaxis": {
             "endlinecolor": "#2a3f5f",
             "gridcolor": "white",
             "linecolor": "white",
             "minorgridcolor": "white",
             "startlinecolor": "#2a3f5f"
            },
            "baxis": {
             "endlinecolor": "#2a3f5f",
             "gridcolor": "white",
             "linecolor": "white",
             "minorgridcolor": "white",
             "startlinecolor": "#2a3f5f"
            },
            "type": "carpet"
           }
          ],
          "choropleth": [
           {
            "colorbar": {
             "outlinewidth": 0,
             "ticks": ""
            },
            "type": "choropleth"
           }
          ],
          "contour": [
           {
            "colorbar": {
             "outlinewidth": 0,
             "ticks": ""
            },
            "colorscale": [
             [
              0,
              "#0d0887"
             ],
             [
              0.1111111111111111,
              "#46039f"
             ],
             [
              0.2222222222222222,
              "#7201a8"
             ],
             [
              0.3333333333333333,
              "#9c179e"
             ],
             [
              0.4444444444444444,
              "#bd3786"
             ],
             [
              0.5555555555555556,
              "#d8576b"
             ],
             [
              0.6666666666666666,
              "#ed7953"
             ],
             [
              0.7777777777777778,
              "#fb9f3a"
             ],
             [
              0.8888888888888888,
              "#fdca26"
             ],
             [
              1,
              "#f0f921"
             ]
            ],
            "type": "contour"
           }
          ],
          "contourcarpet": [
           {
            "colorbar": {
             "outlinewidth": 0,
             "ticks": ""
            },
            "type": "contourcarpet"
           }
          ],
          "heatmap": [
           {
            "colorbar": {
             "outlinewidth": 0,
             "ticks": ""
            },
            "colorscale": [
             [
              0,
              "#0d0887"
             ],
             [
              0.1111111111111111,
              "#46039f"
             ],
             [
              0.2222222222222222,
              "#7201a8"
             ],
             [
              0.3333333333333333,
              "#9c179e"
             ],
             [
              0.4444444444444444,
              "#bd3786"
             ],
             [
              0.5555555555555556,
              "#d8576b"
             ],
             [
              0.6666666666666666,
              "#ed7953"
             ],
             [
              0.7777777777777778,
              "#fb9f3a"
             ],
             [
              0.8888888888888888,
              "#fdca26"
             ],
             [
              1,
              "#f0f921"
             ]
            ],
            "type": "heatmap"
           }
          ],
          "heatmapgl": [
           {
            "colorbar": {
             "outlinewidth": 0,
             "ticks": ""
            },
            "colorscale": [
             [
              0,
              "#0d0887"
             ],
             [
              0.1111111111111111,
              "#46039f"
             ],
             [
              0.2222222222222222,
              "#7201a8"
             ],
             [
              0.3333333333333333,
              "#9c179e"
             ],
             [
              0.4444444444444444,
              "#bd3786"
             ],
             [
              0.5555555555555556,
              "#d8576b"
             ],
             [
              0.6666666666666666,
              "#ed7953"
             ],
             [
              0.7777777777777778,
              "#fb9f3a"
             ],
             [
              0.8888888888888888,
              "#fdca26"
             ],
             [
              1,
              "#f0f921"
             ]
            ],
            "type": "heatmapgl"
           }
          ],
          "histogram": [
           {
            "marker": {
             "colorbar": {
              "outlinewidth": 0,
              "ticks": ""
             }
            },
            "type": "histogram"
           }
          ],
          "histogram2d": [
           {
            "colorbar": {
             "outlinewidth": 0,
             "ticks": ""
            },
            "colorscale": [
             [
              0,
              "#0d0887"
             ],
             [
              0.1111111111111111,
              "#46039f"
             ],
             [
              0.2222222222222222,
              "#7201a8"
             ],
             [
              0.3333333333333333,
              "#9c179e"
             ],
             [
              0.4444444444444444,
              "#bd3786"
             ],
             [
              0.5555555555555556,
              "#d8576b"
             ],
             [
              0.6666666666666666,
              "#ed7953"
             ],
             [
              0.7777777777777778,
              "#fb9f3a"
             ],
             [
              0.8888888888888888,
              "#fdca26"
             ],
             [
              1,
              "#f0f921"
             ]
            ],
            "type": "histogram2d"
           }
          ],
          "histogram2dcontour": [
           {
            "colorbar": {
             "outlinewidth": 0,
             "ticks": ""
            },
            "colorscale": [
             [
              0,
              "#0d0887"
             ],
             [
              0.1111111111111111,
              "#46039f"
             ],
             [
              0.2222222222222222,
              "#7201a8"
             ],
             [
              0.3333333333333333,
              "#9c179e"
             ],
             [
              0.4444444444444444,
              "#bd3786"
             ],
             [
              0.5555555555555556,
              "#d8576b"
             ],
             [
              0.6666666666666666,
              "#ed7953"
             ],
             [
              0.7777777777777778,
              "#fb9f3a"
             ],
             [
              0.8888888888888888,
              "#fdca26"
             ],
             [
              1,
              "#f0f921"
             ]
            ],
            "type": "histogram2dcontour"
           }
          ],
          "mesh3d": [
           {
            "colorbar": {
             "outlinewidth": 0,
             "ticks": ""
            },
            "type": "mesh3d"
           }
          ],
          "parcoords": [
           {
            "line": {
             "colorbar": {
              "outlinewidth": 0,
              "ticks": ""
             }
            },
            "type": "parcoords"
           }
          ],
          "pie": [
           {
            "automargin": true,
            "type": "pie"
           }
          ],
          "scatter": [
           {
            "marker": {
             "colorbar": {
              "outlinewidth": 0,
              "ticks": ""
             }
            },
            "type": "scatter"
           }
          ],
          "scatter3d": [
           {
            "line": {
             "colorbar": {
              "outlinewidth": 0,
              "ticks": ""
             }
            },
            "marker": {
             "colorbar": {
              "outlinewidth": 0,
              "ticks": ""
             }
            },
            "type": "scatter3d"
           }
          ],
          "scattercarpet": [
           {
            "marker": {
             "colorbar": {
              "outlinewidth": 0,
              "ticks": ""
             }
            },
            "type": "scattercarpet"
           }
          ],
          "scattergeo": [
           {
            "marker": {
             "colorbar": {
              "outlinewidth": 0,
              "ticks": ""
             }
            },
            "type": "scattergeo"
           }
          ],
          "scattergl": [
           {
            "marker": {
             "colorbar": {
              "outlinewidth": 0,
              "ticks": ""
             }
            },
            "type": "scattergl"
           }
          ],
          "scattermapbox": [
           {
            "marker": {
             "colorbar": {
              "outlinewidth": 0,
              "ticks": ""
             }
            },
            "type": "scattermapbox"
           }
          ],
          "scatterpolar": [
           {
            "marker": {
             "colorbar": {
              "outlinewidth": 0,
              "ticks": ""
             }
            },
            "type": "scatterpolar"
           }
          ],
          "scatterpolargl": [
           {
            "marker": {
             "colorbar": {
              "outlinewidth": 0,
              "ticks": ""
             }
            },
            "type": "scatterpolargl"
           }
          ],
          "scatterternary": [
           {
            "marker": {
             "colorbar": {
              "outlinewidth": 0,
              "ticks": ""
             }
            },
            "type": "scatterternary"
           }
          ],
          "surface": [
           {
            "colorbar": {
             "outlinewidth": 0,
             "ticks": ""
            },
            "colorscale": [
             [
              0,
              "#0d0887"
             ],
             [
              0.1111111111111111,
              "#46039f"
             ],
             [
              0.2222222222222222,
              "#7201a8"
             ],
             [
              0.3333333333333333,
              "#9c179e"
             ],
             [
              0.4444444444444444,
              "#bd3786"
             ],
             [
              0.5555555555555556,
              "#d8576b"
             ],
             [
              0.6666666666666666,
              "#ed7953"
             ],
             [
              0.7777777777777778,
              "#fb9f3a"
             ],
             [
              0.8888888888888888,
              "#fdca26"
             ],
             [
              1,
              "#f0f921"
             ]
            ],
            "type": "surface"
           }
          ],
          "table": [
           {
            "cells": {
             "fill": {
              "color": "#EBF0F8"
             },
             "line": {
              "color": "white"
             }
            },
            "header": {
             "fill": {
              "color": "#C8D4E3"
             },
             "line": {
              "color": "white"
             }
            },
            "type": "table"
           }
          ]
         },
         "layout": {
          "annotationdefaults": {
           "arrowcolor": "#2a3f5f",
           "arrowhead": 0,
           "arrowwidth": 1
          },
          "autotypenumbers": "strict",
          "coloraxis": {
           "colorbar": {
            "outlinewidth": 0,
            "ticks": ""
           }
          },
          "colorscale": {
           "diverging": [
            [
             0,
             "#8e0152"
            ],
            [
             0.1,
             "#c51b7d"
            ],
            [
             0.2,
             "#de77ae"
            ],
            [
             0.3,
             "#f1b6da"
            ],
            [
             0.4,
             "#fde0ef"
            ],
            [
             0.5,
             "#f7f7f7"
            ],
            [
             0.6,
             "#e6f5d0"
            ],
            [
             0.7,
             "#b8e186"
            ],
            [
             0.8,
             "#7fbc41"
            ],
            [
             0.9,
             "#4d9221"
            ],
            [
             1,
             "#276419"
            ]
           ],
           "sequential": [
            [
             0,
             "#0d0887"
            ],
            [
             0.1111111111111111,
             "#46039f"
            ],
            [
             0.2222222222222222,
             "#7201a8"
            ],
            [
             0.3333333333333333,
             "#9c179e"
            ],
            [
             0.4444444444444444,
             "#bd3786"
            ],
            [
             0.5555555555555556,
             "#d8576b"
            ],
            [
             0.6666666666666666,
             "#ed7953"
            ],
            [
             0.7777777777777778,
             "#fb9f3a"
            ],
            [
             0.8888888888888888,
             "#fdca26"
            ],
            [
             1,
             "#f0f921"
            ]
           ],
           "sequentialminus": [
            [
             0,
             "#0d0887"
            ],
            [
             0.1111111111111111,
             "#46039f"
            ],
            [
             0.2222222222222222,
             "#7201a8"
            ],
            [
             0.3333333333333333,
             "#9c179e"
            ],
            [
             0.4444444444444444,
             "#bd3786"
            ],
            [
             0.5555555555555556,
             "#d8576b"
            ],
            [
             0.6666666666666666,
             "#ed7953"
            ],
            [
             0.7777777777777778,
             "#fb9f3a"
            ],
            [
             0.8888888888888888,
             "#fdca26"
            ],
            [
             1,
             "#f0f921"
            ]
           ]
          },
          "colorway": [
           "#636efa",
           "#EF553B",
           "#00cc96",
           "#ab63fa",
           "#FFA15A",
           "#19d3f3",
           "#FF6692",
           "#B6E880",
           "#FF97FF",
           "#FECB52"
          ],
          "font": {
           "color": "#2a3f5f"
          },
          "geo": {
           "bgcolor": "white",
           "lakecolor": "white",
           "landcolor": "#E5ECF6",
           "showlakes": true,
           "showland": true,
           "subunitcolor": "white"
          },
          "hoverlabel": {
           "align": "left"
          },
          "hovermode": "closest",
          "mapbox": {
           "style": "light"
          },
          "paper_bgcolor": "white",
          "plot_bgcolor": "#E5ECF6",
          "polar": {
           "angularaxis": {
            "gridcolor": "white",
            "linecolor": "white",
            "ticks": ""
           },
           "bgcolor": "#E5ECF6",
           "radialaxis": {
            "gridcolor": "white",
            "linecolor": "white",
            "ticks": ""
           }
          },
          "scene": {
           "xaxis": {
            "backgroundcolor": "#E5ECF6",
            "gridcolor": "white",
            "gridwidth": 2,
            "linecolor": "white",
            "showbackground": true,
            "ticks": "",
            "zerolinecolor": "white"
           },
           "yaxis": {
            "backgroundcolor": "#E5ECF6",
            "gridcolor": "white",
            "gridwidth": 2,
            "linecolor": "white",
            "showbackground": true,
            "ticks": "",
            "zerolinecolor": "white"
           },
           "zaxis": {
            "backgroundcolor": "#E5ECF6",
            "gridcolor": "white",
            "gridwidth": 2,
            "linecolor": "white",
            "showbackground": true,
            "ticks": "",
            "zerolinecolor": "white"
           }
          },
          "shapedefaults": {
           "line": {
            "color": "#2a3f5f"
           }
          },
          "ternary": {
           "aaxis": {
            "gridcolor": "white",
            "linecolor": "white",
            "ticks": ""
           },
           "baxis": {
            "gridcolor": "white",
            "linecolor": "white",
            "ticks": ""
           },
           "bgcolor": "#E5ECF6",
           "caxis": {
            "gridcolor": "white",
            "linecolor": "white",
            "ticks": ""
           }
          },
          "title": {
           "x": 0.05
          },
          "xaxis": {
           "automargin": true,
           "gridcolor": "white",
           "linecolor": "white",
           "ticks": "",
           "title": {
            "standoff": 15
           },
           "zerolinecolor": "white",
           "zerolinewidth": 2
          },
          "yaxis": {
           "automargin": true,
           "gridcolor": "white",
           "linecolor": "white",
           "ticks": "",
           "title": {
            "standoff": 15
           },
           "zerolinecolor": "white",
           "zerolinewidth": 2
          }
         }
        },
        "title": {
         "text": "Averaged properties for each experimental group"
        },
        "width": 1000,
        "xaxis": {
         "anchor": "y",
         "domain": [
          0,
          1
         ]
        },
        "xaxis10": {
         "anchor": "y10",
         "domain": [
          0,
          1
         ]
        },
        "xaxis11": {
         "anchor": "y11",
         "domain": [
          0,
          1
         ]
        },
        "xaxis2": {
         "anchor": "y2",
         "domain": [
          0,
          1
         ]
        },
        "xaxis3": {
         "anchor": "y3",
         "domain": [
          0,
          1
         ]
        },
        "xaxis4": {
         "anchor": "y4",
         "domain": [
          0,
          1
         ]
        },
        "xaxis5": {
         "anchor": "y5",
         "domain": [
          0,
          1
         ]
        },
        "xaxis6": {
         "anchor": "y6",
         "domain": [
          0,
          1
         ]
        },
        "xaxis7": {
         "anchor": "y7",
         "domain": [
          0,
          1
         ]
        },
        "xaxis8": {
         "anchor": "y8",
         "domain": [
          0,
          1
         ]
        },
        "xaxis9": {
         "anchor": "y9",
         "domain": [
          0,
          1
         ]
        },
        "yaxis": {
         "anchor": "x",
         "domain": [
          0.918181818181818,
          0.9999999999999998
         ]
        },
        "yaxis10": {
         "anchor": "x10",
         "domain": [
          0.09181818181818181,
          0.17363636363636364
         ]
        },
        "yaxis11": {
         "anchor": "x11",
         "domain": [
          0,
          0.08181818181818182
         ]
        },
        "yaxis2": {
         "anchor": "x2",
         "domain": [
          0.8263636363636362,
          0.908181818181818
         ]
        },
        "yaxis3": {
         "anchor": "x3",
         "domain": [
          0.7345454545454544,
          0.8163636363636362
         ]
        },
        "yaxis4": {
         "anchor": "x4",
         "domain": [
          0.6427272727272726,
          0.7245454545454544
         ]
        },
        "yaxis5": {
         "anchor": "x5",
         "domain": [
          0.5509090909090908,
          0.6327272727272726
         ]
        },
        "yaxis6": {
         "anchor": "x6",
         "domain": [
          0.45909090909090905,
          0.5409090909090909
         ]
        },
        "yaxis7": {
         "anchor": "x7",
         "domain": [
          0.36727272727272725,
          0.4490909090909091
         ]
        },
        "yaxis8": {
         "anchor": "x8",
         "domain": [
          0.27545454545454545,
          0.3572727272727273
         ]
        },
        "yaxis9": {
         "anchor": "x9",
         "domain": [
          0.18363636363636363,
          0.26545454545454544
         ]
        }
       },
       "_py2js_addTraces": {},
       "_py2js_animate": {},
       "_py2js_deleteTraces": {},
       "_py2js_moveTraces": {},
       "_py2js_relayout": {},
       "_py2js_removeLayoutProps": {},
       "_py2js_removeTraceProps": {},
       "_py2js_restyle": {},
       "_py2js_update": {},
       "_view_count": 0
      }
     },
     "0d4efe8cd0bc4e7d95c6389ac0dd25f6": {
      "model_module": "@jupyter-widgets/base",
      "model_module_version": "1.2.0",
      "model_name": "LayoutModel",
      "state": {}
     },
     "16213d0d720b459cb3ff0b87fa5aa2a6": {
      "model_module": "@jupyter-widgets/controls",
      "model_module_version": "1.5.0",
      "model_name": "HBoxModel",
      "state": {
       "children": [
        "IPY_MODEL_b5bd49f436464928b2b7ef85a63d8449",
        "IPY_MODEL_82583fa5f6b84c358ceb70acc621cef5",
        "IPY_MODEL_cf27286a0af54e1c9ebbbec8e5c7dad2"
       ],
       "layout": "IPY_MODEL_0d4efe8cd0bc4e7d95c6389ac0dd25f6"
      }
     },
     "1706ecceb4b14f4a90e6e36ad3689155": {
      "model_module": "@jupyter-widgets/controls",
      "model_module_version": "1.5.0",
      "model_name": "DescriptionStyleModel",
      "state": {
       "description_width": ""
      }
     },
     "57a7ef6fda994e81b0d95a998b6ec1e2": {
      "model_module": "@jupyter-widgets/controls",
      "model_module_version": "1.5.0",
      "model_name": "ProgressStyleModel",
      "state": {
       "description_width": ""
      }
     },
     "7c44521ff9d645a0bb4cc745a4870091": {
      "model_module": "@jupyter-widgets/base",
      "model_module_version": "1.2.0",
      "model_name": "LayoutModel",
      "state": {}
     },
     "7d16578475414f148c8636dd771e2538": {
      "model_module": "@jupyter-widgets/base",
      "model_module_version": "1.2.0",
      "model_name": "LayoutModel",
      "state": {}
     },
     "82583fa5f6b84c358ceb70acc621cef5": {
      "model_module": "@jupyter-widgets/controls",
      "model_module_version": "1.5.0",
      "model_name": "FloatProgressModel",
      "state": {
       "bar_style": "success",
       "layout": "IPY_MODEL_7c44521ff9d645a0bb4cc745a4870091",
       "max": 480,
       "style": "IPY_MODEL_57a7ef6fda994e81b0d95a998b6ec1e2",
       "value": 480
      }
     },
     "b5bd49f436464928b2b7ef85a63d8449": {
      "model_module": "@jupyter-widgets/controls",
      "model_module_version": "1.5.0",
      "model_name": "HTMLModel",
      "state": {
       "layout": "IPY_MODEL_7d16578475414f148c8636dd771e2538",
       "style": "IPY_MODEL_1706ecceb4b14f4a90e6e36ad3689155",
       "value": "Processed pipelines:: 100%"
      }
     },
     "cf27286a0af54e1c9ebbbec8e5c7dad2": {
      "model_module": "@jupyter-widgets/controls",
      "model_module_version": "1.5.0",
      "model_name": "HTMLModel",
      "state": {
       "layout": "IPY_MODEL_03e846d779e14781b672c157d5bd907c",
       "style": "IPY_MODEL_03a2fc9dacc8447084f3ed71bf455e93",
       "value": " 480/480 [00:01&lt;00:00, 364.06it/s]"
      }
     }
    },
    "version_major": 2,
    "version_minor": 0
   }
  }
 },
 "nbformat": 4,
 "nbformat_minor": 4
}
